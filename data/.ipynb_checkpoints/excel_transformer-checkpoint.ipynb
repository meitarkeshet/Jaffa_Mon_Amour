{
 "cells": [
  {
   "cell_type": "markdown",
   "id": "helpful-decimal",
   "metadata": {},
   "source": [
    "## Import librearies\n"
   ]
  },
  {
   "cell_type": "code",
   "execution_count": 42,
   "id": "fancy-letter",
   "metadata": {},
   "outputs": [],
   "source": [
    "from IPython.core.interactiveshell import InteractiveShell\n",
    "InteractiveShell.ast_node_interactivity = \"all\"\n",
    " # to see better in Jupyter notebook / lab"
   ]
  },
  {
   "cell_type": "code",
   "execution_count": 43,
   "id": "weekly-forge",
   "metadata": {},
   "outputs": [],
   "source": [
    "import numpy as np # for numbers, NaN values etc. \n",
    "import pandas as pd # for excel tables etc"
   ]
  },
  {
   "cell_type": "code",
   "execution_count": 44,
   "id": "understanding-toolbox",
   "metadata": {},
   "outputs": [],
   "source": [
    "from bs4 import BeautifulSoup # import to read HTML file"
   ]
  },
  {
   "cell_type": "code",
   "execution_count": 45,
   "id": "special-burlington",
   "metadata": {},
   "outputs": [],
   "source": [
    "import os # for reading file names in photo directory"
   ]
  },
  {
   "cell_type": "code",
   "execution_count": 46,
   "id": "fifty-morgan",
   "metadata": {},
   "outputs": [],
   "source": [
    "import re # for finding missing photos"
   ]
  },
  {
   "cell_type": "markdown",
   "id": "consolidated-iceland",
   "metadata": {},
   "source": [
    "## Load excel file"
   ]
  },
  {
   "cell_type": "code",
   "execution_count": 47,
   "id": "fixed-assumption",
   "metadata": {},
   "outputs": [],
   "source": [
    "df = pd.read_excel(r'master.xlsx')"
   ]
  },
  {
   "cell_type": "code",
   "execution_count": 48,
   "id": "medium-township",
   "metadata": {},
   "outputs": [
    {
     "data": {
      "text/html": [
       "<div>\n",
       "<style scoped>\n",
       "    .dataframe tbody tr th:only-of-type {\n",
       "        vertical-align: middle;\n",
       "    }\n",
       "\n",
       "    .dataframe tbody tr th {\n",
       "        vertical-align: top;\n",
       "    }\n",
       "\n",
       "    .dataframe thead th {\n",
       "        text-align: right;\n",
       "    }\n",
       "</style>\n",
       "<table border=\"1\" class=\"dataframe\">\n",
       "  <thead>\n",
       "    <tr style=\"text-align: right;\">\n",
       "      <th></th>\n",
       "      <th>id</th>\n",
       "      <th>long</th>\n",
       "      <th>lat</th>\n",
       "      <th>n_bicycle_parking</th>\n",
       "      <th>n_tel_o_fun</th>\n",
       "      <th>Built density (2d built area / void) in 250 meter radius</th>\n",
       "      <th>n_auto_tel</th>\n",
       "      <th>Centrality (gravity) score for each building within 15 min. walk r.</th>\n",
       "      <th>building's street-facing front Distance from parcel limits (0 line) in meters</th>\n",
       "      <th>n_parks</th>\n",
       "      <th>...</th>\n",
       "      <th>roof</th>\n",
       "      <th>n_facades</th>\n",
       "      <th>arrnona_year</th>\n",
       "      <th>typology</th>\n",
       "      <th>positioning</th>\n",
       "      <th>physical_condition</th>\n",
       "      <th>architectural_value</th>\n",
       "      <th>urban_value</th>\n",
       "      <th>historical_ significance</th>\n",
       "      <th>general evaluation</th>\n",
       "    </tr>\n",
       "  </thead>\n",
       "  <tbody>\n",
       "    <tr>\n",
       "      <th>0</th>\n",
       "      <td>1698</td>\n",
       "      <td>34.763906</td>\n",
       "      <td>32.043899</td>\n",
       "      <td>0</td>\n",
       "      <td>0</td>\n",
       "      <td>0.163702</td>\n",
       "      <td>5</td>\n",
       "      <td>0.284663</td>\n",
       "      <td>1.826463e+00</td>\n",
       "      <td>20</td>\n",
       "      <td>...</td>\n",
       "      <td>tiles</td>\n",
       "      <td>4.0</td>\n",
       "      <td>1953.0</td>\n",
       "      <td>well house (81)</td>\n",
       "      <td>alongside minor road</td>\n",
       "      <td>mediocre</td>\n",
       "      <td>high</td>\n",
       "      <td>low</td>\n",
       "      <td>NaN</td>\n",
       "      <td>mediocre</td>\n",
       "    </tr>\n",
       "    <tr>\n",
       "      <th>1</th>\n",
       "      <td>1700</td>\n",
       "      <td>34.764112</td>\n",
       "      <td>32.043826</td>\n",
       "      <td>2</td>\n",
       "      <td>99</td>\n",
       "      <td>0.162582</td>\n",
       "      <td>22</td>\n",
       "      <td>0.244624</td>\n",
       "      <td>4.498390e-01</td>\n",
       "      <td>173</td>\n",
       "      <td>...</td>\n",
       "      <td>tiles</td>\n",
       "      <td>4.0</td>\n",
       "      <td>1940.0</td>\n",
       "      <td>well house (48)</td>\n",
       "      <td>alongside main road</td>\n",
       "      <td>bad</td>\n",
       "      <td>extraordinary</td>\n",
       "      <td>low</td>\n",
       "      <td>NaN</td>\n",
       "      <td>high</td>\n",
       "    </tr>\n",
       "    <tr>\n",
       "      <th>2</th>\n",
       "      <td>2110</td>\n",
       "      <td>34.759574</td>\n",
       "      <td>32.056483</td>\n",
       "      <td>7</td>\n",
       "      <td>83</td>\n",
       "      <td>0.123723</td>\n",
       "      <td>9</td>\n",
       "      <td>0.270562</td>\n",
       "      <td>0.000000e+00</td>\n",
       "      <td>236</td>\n",
       "      <td>...</td>\n",
       "      <td>tiles</td>\n",
       "      <td>2.0</td>\n",
       "      <td>NaN</td>\n",
       "      <td>commercial level</td>\n",
       "      <td>alongside main road</td>\n",
       "      <td>mediocre</td>\n",
       "      <td>NaN</td>\n",
       "      <td>NaN</td>\n",
       "      <td>NaN</td>\n",
       "      <td>low</td>\n",
       "    </tr>\n",
       "    <tr>\n",
       "      <th>3</th>\n",
       "      <td>2143</td>\n",
       "      <td>34.747829</td>\n",
       "      <td>32.035631</td>\n",
       "      <td>8</td>\n",
       "      <td>68</td>\n",
       "      <td>0.167012</td>\n",
       "      <td>2</td>\n",
       "      <td>0.364729</td>\n",
       "      <td>2.043400e+00</td>\n",
       "      <td>193</td>\n",
       "      <td>...</td>\n",
       "      <td>flat</td>\n",
       "      <td>3.0</td>\n",
       "      <td>1935.0</td>\n",
       "      <td>residential</td>\n",
       "      <td>alongside minor road</td>\n",
       "      <td>good</td>\n",
       "      <td>high</td>\n",
       "      <td>low</td>\n",
       "      <td>NaN</td>\n",
       "      <td>mediocre</td>\n",
       "    </tr>\n",
       "    <tr>\n",
       "      <th>4</th>\n",
       "      <td>2203</td>\n",
       "      <td>34.747280</td>\n",
       "      <td>32.037557</td>\n",
       "      <td>8</td>\n",
       "      <td>88</td>\n",
       "      <td>0.171806</td>\n",
       "      <td>2</td>\n",
       "      <td>0.353015</td>\n",
       "      <td>2.005172e+03</td>\n",
       "      <td>179</td>\n",
       "      <td>...</td>\n",
       "      <td>vault</td>\n",
       "      <td>1.0</td>\n",
       "      <td>NaN</td>\n",
       "      <td>commercial</td>\n",
       "      <td>alongside main road</td>\n",
       "      <td>good</td>\n",
       "      <td>extraordinary</td>\n",
       "      <td>low</td>\n",
       "      <td>NaN</td>\n",
       "      <td>high</td>\n",
       "    </tr>\n",
       "    <tr>\n",
       "      <th>...</th>\n",
       "      <td>...</td>\n",
       "      <td>...</td>\n",
       "      <td>...</td>\n",
       "      <td>...</td>\n",
       "      <td>...</td>\n",
       "      <td>...</td>\n",
       "      <td>...</td>\n",
       "      <td>...</td>\n",
       "      <td>...</td>\n",
       "      <td>...</td>\n",
       "      <td>...</td>\n",
       "      <td>...</td>\n",
       "      <td>...</td>\n",
       "      <td>...</td>\n",
       "      <td>...</td>\n",
       "      <td>...</td>\n",
       "      <td>...</td>\n",
       "      <td>...</td>\n",
       "      <td>...</td>\n",
       "      <td>...</td>\n",
       "      <td>...</td>\n",
       "    </tr>\n",
       "    <tr>\n",
       "      <th>695</th>\n",
       "      <td>65652</td>\n",
       "      <td>34.769927</td>\n",
       "      <td>32.041468</td>\n",
       "      <td>5</td>\n",
       "      <td>39</td>\n",
       "      <td>0.279996</td>\n",
       "      <td>10</td>\n",
       "      <td>0.280203</td>\n",
       "      <td>1.977016e+01</td>\n",
       "      <td>131</td>\n",
       "      <td>...</td>\n",
       "      <td>flat</td>\n",
       "      <td>4.0</td>\n",
       "      <td>1935.0</td>\n",
       "      <td>residential</td>\n",
       "      <td>detachted</td>\n",
       "      <td>bad</td>\n",
       "      <td>high</td>\n",
       "      <td>low</td>\n",
       "      <td>NaN</td>\n",
       "      <td>low</td>\n",
       "    </tr>\n",
       "    <tr>\n",
       "      <th>696</th>\n",
       "      <td>65937</td>\n",
       "      <td>34.770170</td>\n",
       "      <td>32.059200</td>\n",
       "      <td>14</td>\n",
       "      <td>249</td>\n",
       "      <td>0.392666</td>\n",
       "      <td>46</td>\n",
       "      <td>0.299048</td>\n",
       "      <td>4.963656e+00</td>\n",
       "      <td>149</td>\n",
       "      <td>...</td>\n",
       "      <td>flat</td>\n",
       "      <td>4.0</td>\n",
       "      <td>1947.0</td>\n",
       "      <td>commercial, residential</td>\n",
       "      <td>NaN</td>\n",
       "      <td>NaN</td>\n",
       "      <td>NaN</td>\n",
       "      <td>NaN</td>\n",
       "      <td>NaN</td>\n",
       "      <td>low</td>\n",
       "    </tr>\n",
       "    <tr>\n",
       "      <th>697</th>\n",
       "      <td>65938</td>\n",
       "      <td>34.757271</td>\n",
       "      <td>32.054239</td>\n",
       "      <td>8</td>\n",
       "      <td>189</td>\n",
       "      <td>0.405160</td>\n",
       "      <td>44</td>\n",
       "      <td>0.289785</td>\n",
       "      <td>1.200000e-10</td>\n",
       "      <td>139</td>\n",
       "      <td>...</td>\n",
       "      <td>flat</td>\n",
       "      <td>4.0</td>\n",
       "      <td>NaN</td>\n",
       "      <td>school</td>\n",
       "      <td>corner</td>\n",
       "      <td>good</td>\n",
       "      <td>NaN</td>\n",
       "      <td>NaN</td>\n",
       "      <td>NaN</td>\n",
       "      <td>low</td>\n",
       "    </tr>\n",
       "    <tr>\n",
       "      <th>698</th>\n",
       "      <td>205265</td>\n",
       "      <td>34.762882</td>\n",
       "      <td>32.056560</td>\n",
       "      <td>9</td>\n",
       "      <td>167</td>\n",
       "      <td>0.466160</td>\n",
       "      <td>44</td>\n",
       "      <td>0.328646</td>\n",
       "      <td>1.783000e-03</td>\n",
       "      <td>179</td>\n",
       "      <td>...</td>\n",
       "      <td>flat</td>\n",
       "      <td>3.0</td>\n",
       "      <td>1944.0</td>\n",
       "      <td>residential</td>\n",
       "      <td>corner</td>\n",
       "      <td>NaN</td>\n",
       "      <td>high</td>\n",
       "      <td>high</td>\n",
       "      <td>NaN</td>\n",
       "      <td>high</td>\n",
       "    </tr>\n",
       "    <tr>\n",
       "      <th>699</th>\n",
       "      <td>?</td>\n",
       "      <td>34.758355</td>\n",
       "      <td>32.049357</td>\n",
       "      <td>0</td>\n",
       "      <td>0</td>\n",
       "      <td>0.163702</td>\n",
       "      <td>5</td>\n",
       "      <td>0.284663</td>\n",
       "      <td>1.826463e+00</td>\n",
       "      <td>20</td>\n",
       "      <td>...</td>\n",
       "      <td>flat</td>\n",
       "      <td>2.0</td>\n",
       "      <td>1938.0</td>\n",
       "      <td>commercial level</td>\n",
       "      <td>alongside minor road</td>\n",
       "      <td>bad</td>\n",
       "      <td>NaN</td>\n",
       "      <td>NaN</td>\n",
       "      <td>NaN</td>\n",
       "      <td>low</td>\n",
       "    </tr>\n",
       "  </tbody>\n",
       "</table>\n",
       "<p>700 rows × 46 columns</p>\n",
       "</div>"
      ],
      "text/plain": [
       "         id       long        lat  n_bicycle_parking  n_tel_o_fun  \\\n",
       "0      1698  34.763906  32.043899                  0            0   \n",
       "1      1700  34.764112  32.043826                  2           99   \n",
       "2      2110  34.759574  32.056483                  7           83   \n",
       "3      2143  34.747829  32.035631                  8           68   \n",
       "4      2203  34.747280  32.037557                  8           88   \n",
       "..      ...        ...        ...                ...          ...   \n",
       "695   65652  34.769927  32.041468                  5           39   \n",
       "696   65937  34.770170  32.059200                 14          249   \n",
       "697   65938  34.757271  32.054239                  8          189   \n",
       "698  205265  34.762882  32.056560                  9          167   \n",
       "699       ?  34.758355  32.049357                  0            0   \n",
       "\n",
       "     Built density (2d built area / void) in 250 meter radius  n_auto_tel  \\\n",
       "0                                             0.163702                  5   \n",
       "1                                             0.162582                 22   \n",
       "2                                             0.123723                  9   \n",
       "3                                             0.167012                  2   \n",
       "4                                             0.171806                  2   \n",
       "..                                                 ...                ...   \n",
       "695                                           0.279996                 10   \n",
       "696                                           0.392666                 46   \n",
       "697                                           0.405160                 44   \n",
       "698                                           0.466160                 44   \n",
       "699                                           0.163702                  5   \n",
       "\n",
       "     Centrality (gravity) score for each building within 15 min. walk r.  \\\n",
       "0                                             0.284663                     \n",
       "1                                             0.244624                     \n",
       "2                                             0.270562                     \n",
       "3                                             0.364729                     \n",
       "4                                             0.353015                     \n",
       "..                                                 ...                     \n",
       "695                                           0.280203                     \n",
       "696                                           0.299048                     \n",
       "697                                           0.289785                     \n",
       "698                                           0.328646                     \n",
       "699                                           0.284663                     \n",
       "\n",
       "      building's street-facing front Distance from parcel limits (0 line) in meters  \\\n",
       "0                                         1.826463e+00                                \n",
       "1                                         4.498390e-01                                \n",
       "2                                         0.000000e+00                                \n",
       "3                                         2.043400e+00                                \n",
       "4                                         2.005172e+03                                \n",
       "..                                                 ...                                \n",
       "695                                       1.977016e+01                                \n",
       "696                                       4.963656e+00                                \n",
       "697                                       1.200000e-10                                \n",
       "698                                       1.783000e-03                                \n",
       "699                                       1.826463e+00                                \n",
       "\n",
       "     n_parks  ...   roof  n_facades  arrnona_year                 typology  \\\n",
       "0         20  ...  tiles        4.0        1953.0          well house (81)   \n",
       "1        173  ...  tiles        4.0        1940.0          well house (48)   \n",
       "2        236  ...  tiles        2.0           NaN         commercial level   \n",
       "3        193  ...   flat        3.0        1935.0              residential   \n",
       "4        179  ...  vault        1.0           NaN               commercial   \n",
       "..       ...  ...    ...        ...           ...                      ...   \n",
       "695      131  ...   flat        4.0        1935.0              residential   \n",
       "696      149  ...   flat        4.0        1947.0  commercial, residential   \n",
       "697      139  ...   flat        4.0           NaN                   school   \n",
       "698      179  ...   flat        3.0        1944.0              residential   \n",
       "699       20  ...   flat        2.0        1938.0         commercial level   \n",
       "\n",
       "              positioning  physical_condition  architectural_value  \\\n",
       "0    alongside minor road            mediocre                 high   \n",
       "1     alongside main road                 bad        extraordinary   \n",
       "2     alongside main road            mediocre                  NaN   \n",
       "3    alongside minor road                good                 high   \n",
       "4     alongside main road                good        extraordinary   \n",
       "..                    ...                 ...                  ...   \n",
       "695             detachted                 bad                 high   \n",
       "696                   NaN                 NaN                  NaN   \n",
       "697                corner                good                  NaN   \n",
       "698                corner                 NaN                 high   \n",
       "699  alongside minor road                 bad                  NaN   \n",
       "\n",
       "     urban_value  historical_ significance  general evaluation  \n",
       "0            low                       NaN            mediocre  \n",
       "1            low                       NaN                high  \n",
       "2            NaN                       NaN                 low  \n",
       "3            low                       NaN            mediocre  \n",
       "4            low                       NaN                high  \n",
       "..           ...                       ...                 ...  \n",
       "695          low                       NaN                 low  \n",
       "696          NaN                       NaN                 low  \n",
       "697          NaN                       NaN                 low  \n",
       "698         high                       NaN                high  \n",
       "699          NaN                       NaN                 low  \n",
       "\n",
       "[700 rows x 46 columns]"
      ]
     },
     "execution_count": 48,
     "metadata": {},
     "output_type": "execute_result"
    }
   ],
   "source": [
    "df"
   ]
  },
  {
   "cell_type": "code",
   "execution_count": 49,
   "id": "racial-sweden",
   "metadata": {
    "tags": []
   },
   "outputs": [
    {
     "data": {
      "text/plain": [
       "id                                                                                 object\n",
       "long                                                                              float64\n",
       "lat                                                                               float64\n",
       "n_bicycle_parking                                                                   int64\n",
       "n_tel_o_fun                                                                         int64\n",
       "Built density (2d built area / void) in 250 meter radius                          float64\n",
       "n_auto_tel                                                                          int64\n",
       "Centrality (gravity) score for each building within 15 min. walk r.               float64\n",
       " building's street-facing front Distance from parcel limits (0 line) in meters    float64\n",
       "n_parks                                                                             int64\n",
       "Building's height (simple)                                                        float64\n",
       "Historical buildings within 15 min. walk                                            int64\n",
       "Parcel size (square meters)                                                         int64\n",
       "n_playgrounds                                                                       int64\n",
       "tsunami_flood_line                                                                  int64\n",
       "Building's volume in cubic meter                                                  float64\n",
       "Amount of walkalbe Religious buildings (15 min.)                                    int64\n",
       "Amount of walkable street workout equipment (15 min.)                               int64\n",
       "Distance from the Sea in meteres                                                  float64\n",
       "Distance to nearest bicycle route in meters                                       float64\n",
       "Amount of gas stations in 1k radius                                                 int64\n",
       "Geo point via Flicker                                                               int64\n",
       "Amount of walkable hospitals and clinics 15. m radius                               int64\n",
       "n_kindergartens                                                                     int64\n",
       "primary                                                                            object\n",
       "secondary                                                                          object\n",
       "street                                                                             object\n",
       "number                                                                             object\n",
       "block                                                                             float64\n",
       "parcel                                                                             object\n",
       "complex                                                                            object\n",
       "city_building_plan                                                                 object\n",
       "technology                                                                         object\n",
       "status                                                                             object\n",
       "n_floors                                                                          float64\n",
       "finishing_materials                                                                object\n",
       "roof                                                                               object\n",
       "n_facades                                                                         float64\n",
       "arrnona_year                                                                      float64\n",
       "typology                                                                           object\n",
       "positioning                                                                        object\n",
       "physical_condition                                                                 object\n",
       "architectural_value                                                                object\n",
       "urban_value                                                                        object\n",
       "historical_ significance                                                           object\n",
       "general evaluation                                                                 object\n",
       "dtype: object"
      ]
     },
     "execution_count": 49,
     "metadata": {},
     "output_type": "execute_result"
    }
   ],
   "source": [
    "df.dtypes"
   ]
  },
  {
   "cell_type": "code",
   "execution_count": 50,
   "id": "breeding-hydrogen",
   "metadata": {
    "tags": []
   },
   "outputs": [
    {
     "data": {
      "text/html": [
       "<div>\n",
       "<style scoped>\n",
       "    .dataframe tbody tr th:only-of-type {\n",
       "        vertical-align: middle;\n",
       "    }\n",
       "\n",
       "    .dataframe tbody tr th {\n",
       "        vertical-align: top;\n",
       "    }\n",
       "\n",
       "    .dataframe thead th {\n",
       "        text-align: right;\n",
       "    }\n",
       "</style>\n",
       "<table border=\"1\" class=\"dataframe\">\n",
       "  <thead>\n",
       "    <tr style=\"text-align: right;\">\n",
       "      <th></th>\n",
       "      <th>long</th>\n",
       "      <th>lat</th>\n",
       "      <th>n_bicycle_parking</th>\n",
       "      <th>n_tel_o_fun</th>\n",
       "      <th>Built density (2d built area / void) in 250 meter radius</th>\n",
       "      <th>n_auto_tel</th>\n",
       "      <th>Centrality (gravity) score for each building within 15 min. walk r.</th>\n",
       "      <th>building's street-facing front Distance from parcel limits (0 line) in meters</th>\n",
       "      <th>n_parks</th>\n",
       "      <th>Building's height (simple)</th>\n",
       "      <th>...</th>\n",
       "      <th>Distance from the Sea in meteres</th>\n",
       "      <th>Distance to nearest bicycle route in meters</th>\n",
       "      <th>Amount of gas stations in 1k radius</th>\n",
       "      <th>Geo point via Flicker</th>\n",
       "      <th>Amount of walkable hospitals and clinics 15. m radius</th>\n",
       "      <th>n_kindergartens</th>\n",
       "      <th>block</th>\n",
       "      <th>n_floors</th>\n",
       "      <th>n_facades</th>\n",
       "      <th>arrnona_year</th>\n",
       "    </tr>\n",
       "  </thead>\n",
       "  <tbody>\n",
       "    <tr>\n",
       "      <th>0</th>\n",
       "      <td>34.763906</td>\n",
       "      <td>32.043899</td>\n",
       "      <td>0</td>\n",
       "      <td>0</td>\n",
       "      <td>0.163702</td>\n",
       "      <td>5</td>\n",
       "      <td>0.284663</td>\n",
       "      <td>1.826463e+00</td>\n",
       "      <td>20</td>\n",
       "      <td>7.84</td>\n",
       "      <td>...</td>\n",
       "      <td>1624.112200</td>\n",
       "      <td>840.408268</td>\n",
       "      <td>1</td>\n",
       "      <td>372</td>\n",
       "      <td>0</td>\n",
       "      <td>1</td>\n",
       "      <td>7023.0</td>\n",
       "      <td>3.0</td>\n",
       "      <td>4.0</td>\n",
       "      <td>1953.0</td>\n",
       "    </tr>\n",
       "    <tr>\n",
       "      <th>1</th>\n",
       "      <td>34.764112</td>\n",
       "      <td>32.043826</td>\n",
       "      <td>2</td>\n",
       "      <td>99</td>\n",
       "      <td>0.162582</td>\n",
       "      <td>22</td>\n",
       "      <td>0.244624</td>\n",
       "      <td>4.498390e-01</td>\n",
       "      <td>173</td>\n",
       "      <td>10.91</td>\n",
       "      <td>...</td>\n",
       "      <td>1640.330240</td>\n",
       "      <td>831.516629</td>\n",
       "      <td>0</td>\n",
       "      <td>0</td>\n",
       "      <td>4</td>\n",
       "      <td>23</td>\n",
       "      <td>7023.0</td>\n",
       "      <td>3.0</td>\n",
       "      <td>4.0</td>\n",
       "      <td>1940.0</td>\n",
       "    </tr>\n",
       "    <tr>\n",
       "      <th>2</th>\n",
       "      <td>34.759574</td>\n",
       "      <td>32.056483</td>\n",
       "      <td>7</td>\n",
       "      <td>83</td>\n",
       "      <td>0.123723</td>\n",
       "      <td>9</td>\n",
       "      <td>0.270562</td>\n",
       "      <td>0.000000e+00</td>\n",
       "      <td>236</td>\n",
       "      <td>9.35</td>\n",
       "      <td>...</td>\n",
       "      <td>1005.625262</td>\n",
       "      <td>1660.117843</td>\n",
       "      <td>6</td>\n",
       "      <td>396</td>\n",
       "      <td>7</td>\n",
       "      <td>25</td>\n",
       "      <td>7017.0</td>\n",
       "      <td>1.0</td>\n",
       "      <td>2.0</td>\n",
       "      <td>NaN</td>\n",
       "    </tr>\n",
       "    <tr>\n",
       "      <th>3</th>\n",
       "      <td>34.747829</td>\n",
       "      <td>32.035631</td>\n",
       "      <td>8</td>\n",
       "      <td>68</td>\n",
       "      <td>0.167012</td>\n",
       "      <td>2</td>\n",
       "      <td>0.364729</td>\n",
       "      <td>2.043400e+00</td>\n",
       "      <td>193</td>\n",
       "      <td>21.42</td>\n",
       "      <td>...</td>\n",
       "      <td>349.219875</td>\n",
       "      <td>2108.914354</td>\n",
       "      <td>8</td>\n",
       "      <td>180</td>\n",
       "      <td>6</td>\n",
       "      <td>17</td>\n",
       "      <td>7023.0</td>\n",
       "      <td>3.0</td>\n",
       "      <td>3.0</td>\n",
       "      <td>1935.0</td>\n",
       "    </tr>\n",
       "    <tr>\n",
       "      <th>4</th>\n",
       "      <td>34.747280</td>\n",
       "      <td>32.037557</td>\n",
       "      <td>8</td>\n",
       "      <td>88</td>\n",
       "      <td>0.171806</td>\n",
       "      <td>2</td>\n",
       "      <td>0.353015</td>\n",
       "      <td>2.005172e+03</td>\n",
       "      <td>179</td>\n",
       "      <td>18.18</td>\n",
       "      <td>...</td>\n",
       "      <td>350.104553</td>\n",
       "      <td>1949.799785</td>\n",
       "      <td>6</td>\n",
       "      <td>396</td>\n",
       "      <td>5</td>\n",
       "      <td>14</td>\n",
       "      <td>9005.0</td>\n",
       "      <td>2.0</td>\n",
       "      <td>1.0</td>\n",
       "      <td>NaN</td>\n",
       "    </tr>\n",
       "    <tr>\n",
       "      <th>...</th>\n",
       "      <td>...</td>\n",
       "      <td>...</td>\n",
       "      <td>...</td>\n",
       "      <td>...</td>\n",
       "      <td>...</td>\n",
       "      <td>...</td>\n",
       "      <td>...</td>\n",
       "      <td>...</td>\n",
       "      <td>...</td>\n",
       "      <td>...</td>\n",
       "      <td>...</td>\n",
       "      <td>...</td>\n",
       "      <td>...</td>\n",
       "      <td>...</td>\n",
       "      <td>...</td>\n",
       "      <td>...</td>\n",
       "      <td>...</td>\n",
       "      <td>...</td>\n",
       "      <td>...</td>\n",
       "      <td>...</td>\n",
       "      <td>...</td>\n",
       "    </tr>\n",
       "    <tr>\n",
       "      <th>695</th>\n",
       "      <td>34.769927</td>\n",
       "      <td>32.041468</td>\n",
       "      <td>5</td>\n",
       "      <td>39</td>\n",
       "      <td>0.279996</td>\n",
       "      <td>10</td>\n",
       "      <td>0.280203</td>\n",
       "      <td>1.977016e+01</td>\n",
       "      <td>131</td>\n",
       "      <td>10.57</td>\n",
       "      <td>...</td>\n",
       "      <td>2127.083640</td>\n",
       "      <td>1183.272165</td>\n",
       "      <td>3</td>\n",
       "      <td>42</td>\n",
       "      <td>2</td>\n",
       "      <td>14</td>\n",
       "      <td>7054.0</td>\n",
       "      <td>3.0</td>\n",
       "      <td>4.0</td>\n",
       "      <td>1935.0</td>\n",
       "    </tr>\n",
       "    <tr>\n",
       "      <th>696</th>\n",
       "      <td>34.770170</td>\n",
       "      <td>32.059200</td>\n",
       "      <td>14</td>\n",
       "      <td>249</td>\n",
       "      <td>0.392666</td>\n",
       "      <td>46</td>\n",
       "      <td>0.299048</td>\n",
       "      <td>4.963656e+00</td>\n",
       "      <td>149</td>\n",
       "      <td>22.01</td>\n",
       "      <td>...</td>\n",
       "      <td>510.805234</td>\n",
       "      <td>517.820441</td>\n",
       "      <td>0</td>\n",
       "      <td>306</td>\n",
       "      <td>3</td>\n",
       "      <td>19</td>\n",
       "      <td>7023.0</td>\n",
       "      <td>3.0</td>\n",
       "      <td>4.0</td>\n",
       "      <td>1947.0</td>\n",
       "    </tr>\n",
       "    <tr>\n",
       "      <th>697</th>\n",
       "      <td>34.757271</td>\n",
       "      <td>32.054239</td>\n",
       "      <td>8</td>\n",
       "      <td>189</td>\n",
       "      <td>0.405160</td>\n",
       "      <td>44</td>\n",
       "      <td>0.289785</td>\n",
       "      <td>1.200000e-10</td>\n",
       "      <td>139</td>\n",
       "      <td>22.19</td>\n",
       "      <td>...</td>\n",
       "      <td>524.167714</td>\n",
       "      <td>505.240438</td>\n",
       "      <td>6</td>\n",
       "      <td>396</td>\n",
       "      <td>3</td>\n",
       "      <td>17</td>\n",
       "      <td>7023.0</td>\n",
       "      <td>2.0</td>\n",
       "      <td>4.0</td>\n",
       "      <td>NaN</td>\n",
       "    </tr>\n",
       "    <tr>\n",
       "      <th>698</th>\n",
       "      <td>34.762882</td>\n",
       "      <td>32.056560</td>\n",
       "      <td>9</td>\n",
       "      <td>167</td>\n",
       "      <td>0.466160</td>\n",
       "      <td>44</td>\n",
       "      <td>0.328646</td>\n",
       "      <td>1.783000e-03</td>\n",
       "      <td>179</td>\n",
       "      <td>21.01</td>\n",
       "      <td>...</td>\n",
       "      <td>555.908392</td>\n",
       "      <td>51.569983</td>\n",
       "      <td>5</td>\n",
       "      <td>396</td>\n",
       "      <td>7</td>\n",
       "      <td>12</td>\n",
       "      <td>7076.0</td>\n",
       "      <td>2.0</td>\n",
       "      <td>3.0</td>\n",
       "      <td>1944.0</td>\n",
       "    </tr>\n",
       "    <tr>\n",
       "      <th>699</th>\n",
       "      <td>34.758355</td>\n",
       "      <td>32.049357</td>\n",
       "      <td>0</td>\n",
       "      <td>0</td>\n",
       "      <td>0.163702</td>\n",
       "      <td>5</td>\n",
       "      <td>0.284663</td>\n",
       "      <td>1.826463e+00</td>\n",
       "      <td>20</td>\n",
       "      <td>7.84</td>\n",
       "      <td>...</td>\n",
       "      <td>1624.112200</td>\n",
       "      <td>840.408268</td>\n",
       "      <td>1</td>\n",
       "      <td>372</td>\n",
       "      <td>0</td>\n",
       "      <td>1</td>\n",
       "      <td>6930.0</td>\n",
       "      <td>2.0</td>\n",
       "      <td>2.0</td>\n",
       "      <td>1938.0</td>\n",
       "    </tr>\n",
       "  </tbody>\n",
       "</table>\n",
       "<p>700 rows × 27 columns</p>\n",
       "</div>"
      ],
      "text/plain": [
       "          long        lat  n_bicycle_parking  n_tel_o_fun  \\\n",
       "0    34.763906  32.043899                  0            0   \n",
       "1    34.764112  32.043826                  2           99   \n",
       "2    34.759574  32.056483                  7           83   \n",
       "3    34.747829  32.035631                  8           68   \n",
       "4    34.747280  32.037557                  8           88   \n",
       "..         ...        ...                ...          ...   \n",
       "695  34.769927  32.041468                  5           39   \n",
       "696  34.770170  32.059200                 14          249   \n",
       "697  34.757271  32.054239                  8          189   \n",
       "698  34.762882  32.056560                  9          167   \n",
       "699  34.758355  32.049357                  0            0   \n",
       "\n",
       "     Built density (2d built area / void) in 250 meter radius  n_auto_tel  \\\n",
       "0                                             0.163702                  5   \n",
       "1                                             0.162582                 22   \n",
       "2                                             0.123723                  9   \n",
       "3                                             0.167012                  2   \n",
       "4                                             0.171806                  2   \n",
       "..                                                 ...                ...   \n",
       "695                                           0.279996                 10   \n",
       "696                                           0.392666                 46   \n",
       "697                                           0.405160                 44   \n",
       "698                                           0.466160                 44   \n",
       "699                                           0.163702                  5   \n",
       "\n",
       "     Centrality (gravity) score for each building within 15 min. walk r.  \\\n",
       "0                                             0.284663                     \n",
       "1                                             0.244624                     \n",
       "2                                             0.270562                     \n",
       "3                                             0.364729                     \n",
       "4                                             0.353015                     \n",
       "..                                                 ...                     \n",
       "695                                           0.280203                     \n",
       "696                                           0.299048                     \n",
       "697                                           0.289785                     \n",
       "698                                           0.328646                     \n",
       "699                                           0.284663                     \n",
       "\n",
       "      building's street-facing front Distance from parcel limits (0 line) in meters  \\\n",
       "0                                         1.826463e+00                                \n",
       "1                                         4.498390e-01                                \n",
       "2                                         0.000000e+00                                \n",
       "3                                         2.043400e+00                                \n",
       "4                                         2.005172e+03                                \n",
       "..                                                 ...                                \n",
       "695                                       1.977016e+01                                \n",
       "696                                       4.963656e+00                                \n",
       "697                                       1.200000e-10                                \n",
       "698                                       1.783000e-03                                \n",
       "699                                       1.826463e+00                                \n",
       "\n",
       "     n_parks  Building's height (simple)  ...  \\\n",
       "0         20                        7.84  ...   \n",
       "1        173                       10.91  ...   \n",
       "2        236                        9.35  ...   \n",
       "3        193                       21.42  ...   \n",
       "4        179                       18.18  ...   \n",
       "..       ...                         ...  ...   \n",
       "695      131                       10.57  ...   \n",
       "696      149                       22.01  ...   \n",
       "697      139                       22.19  ...   \n",
       "698      179                       21.01  ...   \n",
       "699       20                        7.84  ...   \n",
       "\n",
       "     Distance from the Sea in meteres  \\\n",
       "0                         1624.112200   \n",
       "1                         1640.330240   \n",
       "2                         1005.625262   \n",
       "3                          349.219875   \n",
       "4                          350.104553   \n",
       "..                                ...   \n",
       "695                       2127.083640   \n",
       "696                        510.805234   \n",
       "697                        524.167714   \n",
       "698                        555.908392   \n",
       "699                       1624.112200   \n",
       "\n",
       "     Distance to nearest bicycle route in meters  \\\n",
       "0                                     840.408268   \n",
       "1                                     831.516629   \n",
       "2                                    1660.117843   \n",
       "3                                    2108.914354   \n",
       "4                                    1949.799785   \n",
       "..                                           ...   \n",
       "695                                  1183.272165   \n",
       "696                                   517.820441   \n",
       "697                                   505.240438   \n",
       "698                                    51.569983   \n",
       "699                                   840.408268   \n",
       "\n",
       "     Amount of gas stations in 1k radius  Geo point via Flicker   \\\n",
       "0                                      1                     372   \n",
       "1                                      0                       0   \n",
       "2                                      6                     396   \n",
       "3                                      8                     180   \n",
       "4                                      6                     396   \n",
       "..                                   ...                     ...   \n",
       "695                                    3                      42   \n",
       "696                                    0                     306   \n",
       "697                                    6                     396   \n",
       "698                                    5                     396   \n",
       "699                                    1                     372   \n",
       "\n",
       "     Amount of walkable hospitals and clinics 15. m radius  n_kindergartens  \\\n",
       "0                                                    0                    1   \n",
       "1                                                    4                   23   \n",
       "2                                                    7                   25   \n",
       "3                                                    6                   17   \n",
       "4                                                    5                   14   \n",
       "..                                                 ...                  ...   \n",
       "695                                                  2                   14   \n",
       "696                                                  3                   19   \n",
       "697                                                  3                   17   \n",
       "698                                                  7                   12   \n",
       "699                                                  0                    1   \n",
       "\n",
       "      block  n_floors  n_facades  arrnona_year  \n",
       "0    7023.0       3.0        4.0        1953.0  \n",
       "1    7023.0       3.0        4.0        1940.0  \n",
       "2    7017.0       1.0        2.0           NaN  \n",
       "3    7023.0       3.0        3.0        1935.0  \n",
       "4    9005.0       2.0        1.0           NaN  \n",
       "..      ...       ...        ...           ...  \n",
       "695  7054.0       3.0        4.0        1935.0  \n",
       "696  7023.0       3.0        4.0        1947.0  \n",
       "697  7023.0       2.0        4.0           NaN  \n",
       "698  7076.0       2.0        3.0        1944.0  \n",
       "699  6930.0       2.0        2.0        1938.0  \n",
       "\n",
       "[700 rows x 27 columns]"
      ]
     },
     "execution_count": 50,
     "metadata": {},
     "output_type": "execute_result"
    }
   ],
   "source": [
    "df.select_dtypes(np.number)"
   ]
  },
  {
   "cell_type": "code",
   "execution_count": 51,
   "id": "amazing-volume",
   "metadata": {
    "tags": []
   },
   "outputs": [
    {
     "data": {
      "text/html": [
       "<div>\n",
       "<style scoped>\n",
       "    .dataframe tbody tr th:only-of-type {\n",
       "        vertical-align: middle;\n",
       "    }\n",
       "\n",
       "    .dataframe tbody tr th {\n",
       "        vertical-align: top;\n",
       "    }\n",
       "\n",
       "    .dataframe thead th {\n",
       "        text-align: right;\n",
       "    }\n",
       "</style>\n",
       "<table border=\"1\" class=\"dataframe\">\n",
       "  <thead>\n",
       "    <tr style=\"text-align: right;\">\n",
       "      <th></th>\n",
       "    </tr>\n",
       "  </thead>\n",
       "  <tbody>\n",
       "    <tr>\n",
       "      <th>0</th>\n",
       "    </tr>\n",
       "    <tr>\n",
       "      <th>1</th>\n",
       "    </tr>\n",
       "    <tr>\n",
       "      <th>2</th>\n",
       "    </tr>\n",
       "    <tr>\n",
       "      <th>3</th>\n",
       "    </tr>\n",
       "    <tr>\n",
       "      <th>4</th>\n",
       "    </tr>\n",
       "    <tr>\n",
       "      <th>...</th>\n",
       "    </tr>\n",
       "    <tr>\n",
       "      <th>695</th>\n",
       "    </tr>\n",
       "    <tr>\n",
       "      <th>696</th>\n",
       "    </tr>\n",
       "    <tr>\n",
       "      <th>697</th>\n",
       "    </tr>\n",
       "    <tr>\n",
       "      <th>698</th>\n",
       "    </tr>\n",
       "    <tr>\n",
       "      <th>699</th>\n",
       "    </tr>\n",
       "  </tbody>\n",
       "</table>\n",
       "<p>700 rows × 0 columns</p>\n",
       "</div>"
      ],
      "text/plain": [
       "Empty DataFrame\n",
       "Columns: []\n",
       "Index: [0, 1, 2, 3, 4, 5, 6, 7, 8, 9, 10, 11, 12, 13, 14, 15, 16, 17, 18, 19, 20, 21, 22, 23, 24, 25, 26, 27, 28, 29, 30, 31, 32, 33, 34, 35, 36, 37, 38, 39, 40, 41, 42, 43, 44, 45, 46, 47, 48, 49, 50, 51, 52, 53, 54, 55, 56, 57, 58, 59, 60, 61, 62, 63, 64, 65, 66, 67, 68, 69, 70, 71, 72, 73, 74, 75, 76, 77, 78, 79, 80, 81, 82, 83, 84, 85, 86, 87, 88, 89, 90, 91, 92, 93, 94, 95, 96, 97, 98, 99, ...]\n",
       "\n",
       "[700 rows x 0 columns]"
      ]
     },
     "execution_count": 51,
     "metadata": {},
     "output_type": "execute_result"
    }
   ],
   "source": [
    "df.select_dtypes('category')"
   ]
  },
  {
   "cell_type": "markdown",
   "id": "severe-inspection",
   "metadata": {},
   "source": [
    "## Import images"
   ]
  },
  {
   "cell_type": "markdown",
   "id": "diagnostic-valley",
   "metadata": {},
   "source": [
    "keep building id column from excel"
   ]
  },
  {
   "cell_type": "code",
   "execution_count": 52,
   "id": "concerned-notebook",
   "metadata": {},
   "outputs": [],
   "source": [
    "id_lst = df['id']"
   ]
  },
  {
   "cell_type": "code",
   "execution_count": 102,
   "id": "dangerous-carry",
   "metadata": {},
   "outputs": [],
   "source": [
    "strets_lst = df['street']\n",
    "st_num_lst = df['number']"
   ]
  },
  {
   "cell_type": "code",
   "execution_count": 121,
   "id": "measured-export",
   "metadata": {
    "tags": []
   },
   "outputs": [
    {
     "name": "stdout",
     "output_type": "stream",
     "text": [
      "NOTICE the street name is a number\n",
      "NOTICE the street name is a number\n"
     ]
    }
   ],
   "source": [
    "address_lst = [] # create empty\n",
    "for x, i in enumerate(strets_lst):\n",
    "    if isinstance(i, (int, float, complex)) and not isinstance(i, bool):\n",
    "        print('NOTICE the street name is a number')\n",
    "        # don't strip the string\n",
    "        #str(i) + ' ' + str(st_num_lst[x]).strip()\n",
    "        address_lst.append(str(i) + ' ' + str(st_num_lst[x]).strip())\n",
    "    else:\n",
    "        #str(i.strip()) + ' ' + str(st_num_lst[x]).strip()\n",
    "        address_lst.append(str(i.strip()) + ' ' + str(st_num_lst[x]).strip())\n",
    "    "
   ]
  },
  {
   "cell_type": "code",
   "execution_count": 129,
   "id": "domestic-preservation",
   "metadata": {},
   "outputs": [],
   "source": [
    "parcel_lst = df['parcel']\n",
    "section_lst = df['block']\n",
    "complex_lst = df['complex']\n",
    "status_lst = df['status']\n",
    "bld_city_plan_lst = df['city_building_plan']\n",
    "lat_lst = df['lat']\n",
    "lon_lst = df['long']"
   ]
  },
  {
   "cell_type": "code",
   "execution_count": 53,
   "id": "lesbian-spectacular",
   "metadata": {},
   "outputs": [],
   "source": [
    "id_df = pd.DataFrame(id_lst)"
   ]
  },
  {
   "cell_type": "markdown",
   "id": "enormous-august",
   "metadata": {},
   "source": [
    "Load files from the photo folder"
   ]
  },
  {
   "cell_type": "code",
   "execution_count": 54,
   "id": "welsh-springer",
   "metadata": {},
   "outputs": [],
   "source": [
    "phot_lst = os.listdir('../photos') # returns list"
   ]
  },
  {
   "cell_type": "code",
   "execution_count": 55,
   "id": "tired-uganda",
   "metadata": {},
   "outputs": [
    {
     "data": {
      "text/plain": [
       "764"
      ]
     },
     "execution_count": 55,
     "metadata": {},
     "output_type": "execute_result"
    }
   ],
   "source": [
    "len(phot_lst)"
   ]
  },
  {
   "cell_type": "code",
   "execution_count": 56,
   "id": "employed-bridges",
   "metadata": {},
   "outputs": [],
   "source": [
    "id_df['img_src'] = '' # create empty column to add data to"
   ]
  },
  {
   "cell_type": "code",
   "execution_count": 57,
   "id": "operational-samuel",
   "metadata": {
    "collapsed": true,
    "jupyter": {
     "outputs_hidden": true
    },
    "tags": []
   },
   "outputs": [
    {
     "data": {
      "text/plain": [
       "['אאורבך 8-בר-הופמן-14_8840.jpg',\n",
       " 'אאורבך-4(2)_12146.jpg',\n",
       " 'אאורבך-4_12146.jpg',\n",
       " 'אאורבך-5_9412.jpg',\n",
       " 'אאורבך-6_8596.jpg',\n",
       " 'אאורבך-7_12928.jpg',\n",
       " 'אבינרי יצחק 8-(חזית אחורית)_7563.jpg',\n",
       " 'אבינרי-יצחק-4-4-,א׳חביבי-אמיל-3_12704.jpg',\n",
       " 'אבינרי-יצחק-6_2598.jpg',\n",
       " 'אבן-רשד-12-בית-רעים-3-מתוקן_11663.jpg',\n",
       " 'אבן-רשד-12-בית-רעים-3_11663.jpg',\n",
       " 'אוז׳שקובה-1-פושקין-9-דנטה-6_7035.jpg',\n",
       " 'אוז׳שקובה-2-פושקין-11-(חזית)_2538.jpg',\n",
       " 'אוז׳שקובה-2-פינת-פושקין-11_2538.jpg',\n",
       " 'אוז׳שקובה-4_2556.jpg',\n",
       " 'אוריאל-אקוסטה-11_2334.jpg',\n",
       " 'אוריאל-אקוסטה-14-12_7028.jpg',\n",
       " 'אוריאל-אקוסטה-15(1)_2518.jpg',\n",
       " 'אוריאל-אקוסטה-15_2518.jpg',\n",
       " 'אוריאל-אקוסטה-16_6383.jpg',\n",
       " 'אוריאל-אקוסטה-17_2407.jpg',\n",
       " 'אוריאל-אקוסטה-18-פרנקל-ידידיה-31(2)_6399.jpg',\n",
       " 'אוריאל-אקוסטה-18-פרנקל-ידידיה-31_6399.jpg',\n",
       " 'אוריאל-אקוסטה-20-פרנקל-ידידיה-33(2)_6403.jpg',\n",
       " 'אוריאל-אקוסטה-20-פרנקל-ידידיה-33_6403.jpg',\n",
       " 'אוריאל-אקוסטה-9_12342.jpg',\n",
       " 'אחילוף-3_8543.jpg',\n",
       " 'איילת-השחר-10-ראש-פינה-28_2833.jpg',\n",
       " 'איילת-השחר-7-ראש פינה-26_2983.jpg',\n",
       " 'אילת-10_2498.jpg',\n",
       " 'אילת-14-אוארבך-1_12911.jpg',\n",
       " 'אילת-16_2577.jpg',\n",
       " 'אילת-32-פברגט-אנריקה-1_8391.jpg',\n",
       " 'אילת-36_12295.jpg',\n",
       " 'אילת-38_12297.jpg',\n",
       " 'אילת-40-קומפורט-2_8761.jpg',\n",
       " 'אילת-42-קומפורט-1_8610.jpg',\n",
       " 'אילת-44_40932.jpg',\n",
       " 'אילת-46_7170.jpg',\n",
       " 'אילת-50-אברבנאל-2_2954.jpg',\n",
       " 'אילת-52-54-אברבנאל-1_2369.jpg',\n",
       " 'אילת-8-ניצנה-7_7542.jpg',\n",
       " 'אילת-השחר-10-ראש-פינה-28(2)_2833.jpg',\n",
       " 'אליעזר-בן-הורקונוס-4_6955.jpg',\n",
       " 'אלעז- בן-יוסי-2-חנניה-בן-דוסא-27_2309.jpg',\n",
       " 'אסף-הרופא-40-42_2325.jpg',\n",
       " 'אפק-6-תרצה-8-סגולה-5_12018.jpg',\n",
       " 'ארליך-16_10771.jpg',\n",
       " 'ארליך-18_6458.jpg',\n",
       " 'ארליך-20_21657.jpg',\n",
       " 'ארליך-21-שבטי-ישראל-49_2599.jpg',\n",
       " 'ארליך-27_6481.jpg',\n",
       " 'בגין מנחם 10-הגדוד העברי(2)-1_2241.jpg',\n",
       " 'בגין מנחם 10-הגדוד העברי-1_2241.jpg',\n",
       " 'בגין מנחם 12-הגדוד העברי-3_2260.jpg',\n",
       " 'בגין-מנחם 12-הגדוד-העברי-3(2)_2260.jpg',\n",
       " 'בית אשל-11-בן-עזריה-אלעזר-6_41512.jpg',\n",
       " 'בית-אשל 3-בן-יאיר-פנחס-10_8836.jpg',\n",
       " 'בית-אשל-12_50980.jpg',\n",
       " 'בית-אשל-14-בן-יאיר-פנחס-12_8834.jpg',\n",
       " 'בית-אשל-19_41028.jpg',\n",
       " 'בית-אשל-1_12040.jpg',\n",
       " 'בית-אשל-21_41026.jpg',\n",
       " 'בית-אשל-23_2203.jpg',\n",
       " 'בית-אשל-25-חנניה-בן-דוסא-28_6899.jpg',\n",
       " 'בית-אשל-26_12890.jpg',\n",
       " 'בית-אשל-28_8843.jpg',\n",
       " 'בית-אשל-31_52708.jpg',\n",
       " 'בית-אשל-38_8838.jpg',\n",
       " 'בית-אשל-4-10_40942.jpg',\n",
       " 'בית-אשל-5-שמעון-הצדיק-22-בן-יאיר-פנחס-7_12461.jpg',\n",
       " 'בית-אשל-7-שמעון-הצדיק-31_8837.jpg',\n",
       " 'בן-אחיטוב-1-3-שמואל-בן-עדיה-7_10375.jpg',\n",
       " 'בן-אחיטוב-13-החרוב-6_11663.jpg',\n",
       " 'בן-אחיטוב-14_2408.jpg',\n",
       " 'בן-אחיטוב-17_2886.jpg',\n",
       " 'בן-אחיטוב-22-24_12346.jpg',\n",
       " 'בן-זומא-שמעון-2-חנניא-בן-דוסא-19_12899.jpg',\n",
       " 'בן-יאיר-פנחס-3-שמעון-הצדיק-16(2)_7186.jpg',\n",
       " 'בן-יאיר-פנחס-3-שמעון-הצדיק-16_7186.jpg',\n",
       " 'בן-יאיר-פנחס-5-שמעון-הצדיק-20-יוהשע-בן-פרחיה-6_2803.jpg',\n",
       " 'בן-עזריה-13-שמעון-בן-גמליאל-4_9508.jpg',\n",
       " 'בן-צבי-5_8842.JPG',\n",
       " 'בן-שטח-4_7194.jpg',\n",
       " 'בנבנישתי-18-דרך-שלמה-69_8987.jpg',\n",
       " 'בנטוב מרדכי-14_11825.jpg',\n",
       " 'בעל-הטורים-5_52732.jpg',\n",
       " 'בר-הופמו-17_8839.jpg',\n",
       " 'בר-הופמן-11_8841.jpg',\n",
       " 'בר-הופמן-13-אוארבך-10(2)_12912.jpg',\n",
       " 'בר-הופמן-13-אוארבך-10_12912.jpg',\n",
       " 'בר-הופמן-15_8917.jpg',\n",
       " 'בר-הופמן-17_8839.jpg',\n",
       " 'בר-הופמן-17א_41441.jpg',\n",
       " 'בר-הופמן-9_10401.jpg',\n",
       " 'ברגר-אליזבת-12_11831.jpg',\n",
       " 'ברנדט-וילי-3_11814.jpg',\n",
       " 'גורקי-12_9372.jpg',\n",
       " 'גורקי-4_8752.jpg',\n",
       " 'גורקי-6-פושקין-20-(חזית)_51009.jpg',\n",
       " 'גורקי-6-פושקין-20_51009.jpg',\n",
       " 'דה-רוטשילד-בת-שבע-2_10615.jpg',\n",
       " 'דה-רוטשילד-בת-שבע-3_10588.jpg',\n",
       " 'דונלו-הרופא-24_11843.jpg',\n",
       " 'דנטה-17_6799.jpg',\n",
       " 'דני-קיי-2-תג׳ר-ציונה-9_8829.jpg',\n",
       " 'דני-קיי-8_7330.jpg',\n",
       " 'דני-קיי-קמינסקי-6-10(2)_2823.jpg',\n",
       " 'דני-קיי-קמינסקי-6-10_2823.jpg',\n",
       " 'דרור-9(2)_12910.jpg',\n",
       " 'דרור-9_12910.jpg',\n",
       " 'דרך-בן-צבי-68-70_10437.jpg',\n",
       " 'דרך-בן-צבי-78_9052.jpg',\n",
       " 'דרך-יפו-24-הקישון-2_12361.jpg',\n",
       " 'דרך-שלמה-63-בן-עטר-12_10421.jpg',\n",
       " 'דרך-שלמה-77_10318.jpg',\n",
       " 'דרך-שלמה-81-הקישון-87_50439.jpg',\n",
       " 'דרך-שלמה-83_50815.jpg',\n",
       " 'ד״ר-ולבה-יואל-3_12289.jpg',\n",
       " 'האגוז-17-שלוחות-1-הצרי-12-החילוף-22_6789.jpg',\n",
       " 'האתרוג-16_6913.jpg',\n",
       " 'האתרוג-24-יאנוש-קורצאק-7-בית-פלט-37_2624.jpg',\n",
       " 'הגמנסיה העברית 8-יועזר איש הבירה 2-4- 3338 1_8826.jpg',\n",
       " 'הגמנסיה-העברית 4-6-יועזר-איש-הבירה-5_12257.jpg',\n",
       " 'הגמנסיה-העברית-5-יועזר-איש-הבירה-7-המלך-חירם-4_12861.jpg',\n",
       " 'הגמנסיה-העברית-7-יועזר-איש-הבירה 6-יהושוע-בן-פרחיה-3-בן-יאיר-פנחס-6(2)_8955.jpg',\n",
       " 'הגמנסיה-העברית-7-יועזר-איש-הבירה 6-יהושוע-בן-פרחיה-3-בן-יאיר-פנחס-6_8955.jpg',\n",
       " 'הגר״א-36-ראש-פינ-25_11660.jpg',\n",
       " 'הדואר 9-שדרות-ירושלים-12-ליענר-שלמה-1-שמי-יחיאל-2_7375.jpg',\n",
       " 'הדואר-10(2)_8985.jpg',\n",
       " 'הדואר-10_8985.jpg',\n",
       " 'הדואר-12-14_6277.jpg',\n",
       " 'הדואר-2-רזיאל-דוד-13_9269.jpg',\n",
       " 'הדואר-4_7282.jpg',\n",
       " 'הדואר-6_40883.jpg',\n",
       " 'הדואר-8_7128.jpg',\n",
       " 'הדולפין-11_6748.jpg',\n",
       " 'הדולפין-19_51096.jpg',\n",
       " 'הדולפין-20_41401.jpg',\n",
       " 'החיטה-3_2438.jpg',\n",
       " 'החלוצים-13-לווינסקי-57_11852.jpg',\n",
       " 'החלוצים-14-לוינסקי-55_7348.jpg',\n",
       " 'החלוצים-16-לווינסקי-48_12056.jpg',\n",
       " 'החלוצים-21-מטלון-45_9829.jpg',\n",
       " 'החלוצים-22-מטלון-43_2942.jpg',\n",
       " 'החלוצים-24-מטלון-46_8764.jpg',\n",
       " 'החלוצים-32_12962.jpg',\n",
       " 'החלוצים-33-וולפסון-36_8776.jpg',\n",
       " 'החלוצים-34-וולפסון-34_12971.jpg',\n",
       " 'החלוצים-35_12923.jpg',\n",
       " 'החלוצים-36_12924.jpg',\n",
       " 'החלוצים-37_12129.jpg',\n",
       " 'החלוצים-39_8593.jpg',\n",
       " 'החלוצים-42_52695.jpg',\n",
       " 'החלוצים-44_12469.jpg',\n",
       " 'החלוצים-47-פרנקל-ידידיה-58_12009.jpg',\n",
       " 'החלוצים-50-א׳_8823.jpg',\n",
       " 'החלוצים-52_12259.jpg',\n",
       " 'החלוצים-5_52703.jpg',\n",
       " 'החצוצרה-(מגדל-מים)_0.jpg',\n",
       " 'החצוצרה-7-(מגדל-מים)-1_0.jpg',\n",
       " 'החרוב-26_2853.jpg',\n",
       " 'החרוב-2_2858.jpg',\n",
       " 'החרוב-30_2331.jpg',\n",
       " 'החרוב-44_2860.jpg',\n",
       " 'החרש-37-לבנדה-52_2243.jpg',\n",
       " 'החרש-39-לבנדה-54_12335.jpg',\n",
       " 'החרש-41-לבנדה-56_8290.jpg',\n",
       " 'הלוטוס-8_2857.jpg',\n",
       " 'הלענה-3-הצרי-24_2855.jpg',\n",
       " 'המגיד-מדובנא-4_2914.jpg',\n",
       " 'המלך-חירום-10-שמעיה-1-3(2)_11827.jpg',\n",
       " 'המלך-חירום-10-שמעיה-1-3_11827.jpg',\n",
       " 'המלך-חירם 2-יועזר-איש-הבירה-1-3-מרזוק-ועזר-2_7284.jpg',\n",
       " 'המלך-חירם-15_2763.jpg',\n",
       " 'המלך-חירם-16-שמעון-הצדיק-4(2)_7433.jpg',\n",
       " 'המלך-חירם-16-שמעון-הצדיק-4_7433.jpg',\n",
       " 'המשביר-11_8377.jpg',\n",
       " 'המשביר-12-לוינסקי-26_41208.jpg',\n",
       " 'המשביר-15-לוינסקי-28_9473.jpg',\n",
       " 'המשביר-19_8376.jpg',\n",
       " 'המשביר-23_12438.jpg',\n",
       " 'המשביר-24-מטלון-25_50569.jpg',\n",
       " 'המשביר-4_8735.jpg',\n",
       " 'המשביר-6_8915.jpg',\n",
       " 'המשביר-8-10-לוינסקי-33_7325.jpg',\n",
       " 'הספינה-17_3008.jpg',\n",
       " 'העליה 29-וולפסון-40_19823.jpg',\n",
       " 'העליה-10_8374.jpg',\n",
       " 'העליה-12_8373.jpg',\n",
       " 'העליה-16-לוינסקי-59_11858.jpg',\n",
       " 'העליה-18-לווינסקי-52_8912.jpg',\n",
       " 'העליה-2-יפו-62_8372.jpg',\n",
       " 'העליה-20_8911.jpg',\n",
       " 'העליה-22_8371.jpg',\n",
       " 'העליה-24-מטלון-47_6877.jpg',\n",
       " 'העליה-26-מטלון-50_12260.jpg',\n",
       " 'העליה-29-וולפסון-40(2)_19823.jpg',\n",
       " 'העליה-32_8909.jpg',\n",
       " 'העליה-34-וולפסון-41_2379.jpg',\n",
       " 'העליה-36-38-וולפסון-38_8908.jpg',\n",
       " 'העליה-48-פרנקל-ידידיה-59_8763.jpg',\n",
       " 'העליה-4_11661.jpg',\n",
       " 'העליה-50-פרנקל-ידידה-62_11903.jpg',\n",
       " 'העליה-58_12003.jpg',\n",
       " 'העליה-60-פלורנטין-59_2607.jpg',\n",
       " 'העליה-64_11972.jpg',\n",
       " 'העליה-68_7083.jpg',\n",
       " 'העליה-70-דרך-שלמה-93_41013.jpg',\n",
       " 'הצרי-7_2495.jpg',\n",
       " 'הקישון-25-מטלון-15_10433.jpg',\n",
       " 'הקישון-34_12362.jpg',\n",
       " 'הקישון-36-וולפסון-7_2514.jpg',\n",
       " 'הקישון-38-וולפסון-8_2625.jpg',\n",
       " 'הקישון-3_2610.jpg',\n",
       " 'הקישון-43_12363.jpg',\n",
       " 'הקישון-44-אוריאל-אקוסטה-25_12036.jpg',\n",
       " 'הקישון-45_2618.jpg',\n",
       " 'הקישון-46-ידידה-פקנקל-35-אוריאל-אקוסטה-22_10617.jpg',\n",
       " 'הקישון-47-ידידה-פרנקל-37-כפר-גלעדי-48_11508.jpg',\n",
       " 'הקישון-48-ידידה-פרנקל-32_6476.jpg',\n",
       " 'הקישון-49_12220.jpg',\n",
       " 'הקישון-50_6488.jpg',\n",
       " 'הקישון-52_11988.jpg',\n",
       " 'הקישון-54_11990.jpg',\n",
       " 'הקישון-56_11991.jpg',\n",
       " 'הקישון-58-פלורנטין-33_8757.jpg',\n",
       " 'הקישון-59_2588.jpg',\n",
       " 'הקישון-5_2610.jpg',\n",
       " 'הקישון-60-פלורנטין-32_12993.jpg',\n",
       " 'הקישון-63-פלורנטין-35_2572.jpg',\n",
       " 'הקישון-64_12991.jpg',\n",
       " 'הקישון-65-פלורנטין-34(2)_12004.jpg',\n",
       " 'הקישון-65-פלורנטין-34_12004.jpg',\n",
       " 'הקישון-66_8597.jpg',\n",
       " 'הקישון-68_12441.jpg',\n",
       " 'הקישון-69_12440.jpg',\n",
       " 'הקישון-6_8755.jpg',\n",
       " 'הקישון-70_12434.jpg',\n",
       " 'הקישון-71_8946.jpg',\n",
       " 'הקישון-72_6463.jpg',\n",
       " 'הקישון-74_6464.jpg',\n",
       " 'הקישון-75_2293.jpg',\n",
       " 'הקישון-76_2576.jpg',\n",
       " 'הקישון-77_2604.jpg',\n",
       " 'הקישון-78_2574.jpg',\n",
       " 'הקישון-80-שלמה-79_41187.jpg',\n",
       " 'הקישון-81_8384.jpg',\n",
       " 'הקישון-83_8611.jpg',\n",
       " 'הקישון-8_2562.jpg',\n",
       " 'הקישון-9-לוינסקי-23_6461.jpg',\n",
       " 'הרבי-מבכרך-32_2975.jpg',\n",
       " 'הרבי-מבכרך-34-אוארבך-9_7009.jpg',\n",
       " 'הרבי-מבכרך-42א_2847.jpg',\n",
       " 'הרצל 61-השוק 38-וולפסון-18-20-22_8719.jpg',\n",
       " 'הרצל-100_7018.jpg',\n",
       " 'הרצל-114-דרך-שלמה-85_41179.jpg',\n",
       " 'הרצל-140(2)_7388.jpg',\n",
       " 'הרצל-140_7388.jpg',\n",
       " 'הרצל-27_7019.jpg',\n",
       " 'הרצל-28-יפו-32_2511.jpg',\n",
       " 'הרצל-29_2512.jpg',\n",
       " 'הרצל-30_8772.jpg',\n",
       " 'הרצל-31_7060.jpg',\n",
       " 'הרצל-32_6431.jpg',\n",
       " 'הרצל-33_7027.jpg',\n",
       " 'הרצל-34_6387.jpg',\n",
       " 'הרצל-35-לווינסקי-31_50447.jpg',\n",
       " 'הרצל-37-לווינסקי-22_2535.jpg',\n",
       " 'הרצל-38-36-לווינסקי-29(2)_41643.jpg',\n",
       " 'הרצל-38-36-לווינסקי-29_41643.jpg',\n",
       " 'הרצל-39_8773.jpg',\n",
       " 'הרצל-40-לווינסקי-20_8775.jpg',\n",
       " 'הרצל-41_9414.jpg',\n",
       " 'הרצל-44_12322.jpg',\n",
       " 'הרצל-46_52697.jpg',\n",
       " 'הרצל-48_8844.jpg',\n",
       " 'הרצל-49-מטלון-23_2918.jpg',\n",
       " 'הרצל-51-מטלון-24_12310.jpg',\n",
       " 'הרצל-59-וולפסון-17_12982.jpg',\n",
       " 'הרצל-64_52704.jpg',\n",
       " 'הרצל-66-וולפסון-15_8715.jpg',\n",
       " 'הרצל-67-ידידיה-פרנקל-41_10618.jpg',\n",
       " 'הרצל-68-וולפסון-16_2797.jpg',\n",
       " 'הרצל-72_10420.jpg',\n",
       " 'הרצל-79-פלורנטין-38_8983.jpg',\n",
       " 'הרצל-80-פרנקל-ידידיה-39_10593.jpg',\n",
       " 'הרצל-82-ידידה פרנקל-40_8984.jpg',\n",
       " 'הרצל-83_10430.jpg',\n",
       " 'הרצל-85_9057.jpg',\n",
       " 'הרצל-89_10428.jpg',\n",
       " 'הרצל-98-פלורנטין-36_9048.jpg',\n",
       " 'השוק-10_11847.jpg',\n",
       " 'השוק-17-מטלון-31-מרחביה-22(2)_50666.jpg',\n",
       " 'השוק-17-מטלון-31-מרחביה-22_50666.jpg',\n",
       " 'השוק-21-סמטת-אלוף-בצלות-9_7171.jpg',\n",
       " 'השוק-28-מטלון-29_41547.jpg',\n",
       " 'השוק-3-סמטת-השוק-2_8658.jpg',\n",
       " 'השוק-30-אלוף בצלות 7-מטלון-32_7421.jpg',\n",
       " 'השוק-36-וולפסון-23_12980.jpg',\n",
       " 'השוק-42-ידידיה-פרנקל-43_11482.jpg',\n",
       " 'השוק-7-לוינסקי-32_8718.jpg',\n",
       " 'התקומה-40_50685.jpg',\n",
       " 'וולפסון-13-כפר-גלעדי-37_12983.jpg',\n",
       " 'וולפסון-19_8714.jpg',\n",
       " 'וולפסון-21_12981.jpg',\n",
       " 'וולפסון-3-מזרחי-32_64822.jpg',\n",
       " 'וולפסון-43-העליה-27_19926.jpg',\n",
       " 'וולפסון-45-צ׳לנוב-23_8849.jpg',\n",
       " 'וולפסון-5-מזרחי-33_7022.jpg',\n",
       " 'ויטל-חיים-1-ידידיה-פרנקל-6-8(2)_9842.jpg',\n",
       " 'ויטל-חיים-1-ידידיה-פרנקל-6-8_9842.jpg',\n",
       " 'ויטל-חיים-10_50514.jpg',\n",
       " 'ויטל-חיים-2-ידידיה-פרנקל-4_50943.jpg',\n",
       " 'ויטל-חיים-3(2)_7195.jpg',\n",
       " 'ויטל-חיים-3_7195.jpg',\n",
       " 'ויטל-חיים-4-6-פלורנטין-5(2)_8869.jpg',\n",
       " 'ויטל-חיים-4-6-פלורנטין-5_8869.jpg',\n",
       " 'ויטל-חיים-8-פלורנטין-8_2232.jpg',\n",
       " 'ויקטור-הוגו-10_7405.jpg',\n",
       " 'ויקטור-הוגו-13-מיכאלאנג׳לו-35_11451.jpg',\n",
       " 'ויקטור-הוגו-14_7285.jpg',\n",
       " 'ויקטור-הוגו-16_6412.jpg',\n",
       " 'ויקטור-הוגו-18_6989.jpg',\n",
       " 'ויקטור-הוגו-26_7014.jpg',\n",
       " 'ויקטור-הוגו-29_7013.jpg',\n",
       " 'ויקטור-הוגו-30_12290.jpg',\n",
       " 'ויקטור-הוגו-9_2621.jpg',\n",
       " 'ולנסיה-13-15-מענית-1-האשכוליות-18_41628.jpg',\n",
       " 'זבולון-11_9086.jpg',\n",
       " 'זבולון-13-לווינסקי-53_2822.jpg',\n",
       " 'זבולון-14-לווינסקי-51_7198.jpg',\n",
       " 'זבולון-15-לווינסקי-46_10777.jpg',\n",
       " 'זבולון-21_10399.jpg',\n",
       " 'זבולון-24-מטלון-39_6822.jpg',\n",
       " 'זבולון-25-מטלון-44_10419.jpg',\n",
       " 'זבולון-26-מטלון-42_11845.jpg',\n",
       " 'זבולון-27_8978.jpg',\n",
       " 'זבולון-33-וולפסון-35_2374.jpg',\n",
       " 'חייבי-משה-8-התות-12-החרוב-37_2859.jpg',\n",
       " 'חנניא-בן-דוסא-14_65285.jpg',\n",
       " 'חנניא-בן-דוסא-16-18-שמעון-בן-עזאי-3_2824.jpg',\n",
       " 'חנניא-בן-דוסא-21_6852.jpg',\n",
       " 'חנניא-בן-דוסא-23-בן-עזריה-אלעזר-12_8833.jpg',\n",
       " 'חנניא-בן-דוסא-26_2866.jpg',\n",
       " 'חנניא-בן-דוסא-27-אלעזר-בן-יוסי-2_2309.jpg',\n",
       " 'חנניה-בן-דוסא-29_6938.jpg',\n",
       " 'חנניה-בן-דוסא-30-בית-אשל-27_12881.jpg',\n",
       " 'ידידה פרנקל-61-העליה-41_7230.jpg',\n",
       " 'ידידה-פרנקל-26-שטרן-אברהם-2_2306.jpg',\n",
       " 'ידידה-פרנקל-28-שטרן-אברהם-1_6419.jpg',\n",
       " 'ידידה-פרנקל-61-העליה-41_7230.jpg',\n",
       " 'ידידיה פרנקל-57-החלוצים-45_7304.jpg',\n",
       " 'ידידיה-פרנקל-16_6467.jpg',\n",
       " 'ידידיה-פרנקל-18_2628.jpg',\n",
       " 'ידידיה-פרנקל-2-אברבנאל-31_2366.jpg',\n",
       " 'ידידיה-פרנקל-20_12167.jpg',\n",
       " 'ידידיה-פרנקל-22_2566.jpg',\n",
       " 'ידידיה-פרנקל-23_6439.jpg',\n",
       " 'ידידיה-פרנקל-24_6438.jpg',\n",
       " 'ידידיה-פרנקל-27_6410.jpg',\n",
       " 'ידידיה-פרנקל-29_2354.jpg',\n",
       " 'ידידיה-פרנקל-30_2355.jpg',\n",
       " 'ידידיה-פרנקל-38_11507.jpg',\n",
       " 'ידידיה-פרנקל-53-זבולון-49_10619.jpg',\n",
       " 'ידידיה-פרנקל-55-החלוצים-46_7087.jpg',\n",
       " 'יהדוה-מרגוזה-16_9121.jpg',\n",
       " 'יהודה-הימית-21_2418.jpg',\n",
       " 'יהודה-הימית-29_6416.jpg',\n",
       " 'יהודה-הימית-31_2597.jpg',\n",
       " 'יהודה-הימית-33_12908.jpg',\n",
       " 'יהודה-הימית-35_52731.jpg',\n",
       " 'יהודה-הימית-37-לוינסון-אברהם-2_7436.jpg',\n",
       " 'יהודה-הימית-43-קיוסו-אלברט-14_11485.jpg',\n",
       " 'יהודה-הימית-45_10612.jpg',\n",
       " 'יהודה-הימית-51_7036.jpg',\n",
       " 'יהודה-הימית-55_7085.jpg',\n",
       " 'יהודה-הימית-57(2)_8494.jpg',\n",
       " 'יהודה-הימית-57_8494.jpg',\n",
       " 'יהודה-הימית-59_11659.jpg',\n",
       " 'יהודה-הימית-5_6800.jpg',\n",
       " 'יהודה-הימית-73_2312.jpg',\n",
       " 'יהודה-מרגוזה-1-3_2882.jpg',\n",
       " 'יהודה-מרגוזה-12(2)_41598.jpg',\n",
       " 'יהודה-מרגוזה-12_41598.jpg',\n",
       " 'יהודה-מרגוזה-14(2)_9102.jpg',\n",
       " 'יהודה-מרגוזה-14_9102.jpg',\n",
       " 'יהודה-מרגוזה-16(2)_9121.jpg',\n",
       " 'יהודה-מרגוזה-25_8429.jpg',\n",
       " 'יהודה-מרגוזה-28_8476.jpg',\n",
       " 'יהודה-מרגוזה-38_12882.jpg',\n",
       " 'יהודה-מרגוזה-40_12880.jpg',\n",
       " 'יהודה-מרגוזה-5-עולי-ציון-11_8553.jpg',\n",
       " 'יהושוע-בן-פרחיה-1-הגמנסיה-העברית-10_2572.jpg',\n",
       " 'יהושוע-בן-פרחיה-2-הגמנסיה-העברית-12_9063.jpg',\n",
       " 'יהושוע-בן-פרחיה-4-בן-יאיר-פנחס 8-הגמנסיה-העברית-9-11(2)_8986.jpg',\n",
       " 'יהושוע-בן-פרחיה-4-בן-יאיר-פנחס 8-הגמנסיה-העברית-9-11_8986.jpg',\n",
       " 'יוסי-בן-יוסי-11_12888.jpg',\n",
       " 'יוסי-בן-יוסי-13_13011.jpg',\n",
       " 'יוסי-בן-יוסי-17_2510.jpg',\n",
       " 'יוסי-בן-יוסי-7_7015.jpg',\n",
       " 'יועזר-איש-הביר- 9-בן-יאיר-פנחס-4(2)_12464.jpg',\n",
       " 'יועזר-איש-הבירה-7א_12878.jpg',\n",
       " 'יועזר-איש-הבירה-7א׳(2)_12878.jpg',\n",
       " 'יועזר-איש-הבירה-9-בן-יאיר-פנחס-4_12464.jpg',\n",
       " 'ים-סוף-20_6959.jpg',\n",
       " 'יפו-16-רענן-8_12139.jpg',\n",
       " 'יפו-18-רענן-7-9_12133.jpg',\n",
       " 'יפו-20-מזרחי-4_11869.jpg',\n",
       " 'יפו-22-מזרחי-1_2919.jpg',\n",
       " 'יפו-34-המשביר-2_7526.jpg',\n",
       " 'יפו-36-המשביר-1_8370.jpg',\n",
       " 'יפו-38-השוק-2_12170.jpg',\n",
       " 'יפו-40-השוק-1_10427.jpg',\n",
       " 'יפו-42_2962.jpg',\n",
       " 'יפו-46-מרחביה-2_9077.jpg',\n",
       " 'יפו-48-מרחביה-1_7333.jpg',\n",
       " 'יפו-50-נחלת-בנימין-74_12963.jpg',\n",
       " 'יפו-60-החלוצים-1_8533.jpg',\n",
       " 'יפת 51-אבינרי-יצחק-1_2867.jpg',\n",
       " 'יפת-1-בית-אשל-2_10418.jpg',\n",
       " 'יפת-100-חייבי-משה-9_6960.jpg',\n",
       " 'יפת-102-חייבי-משה-10_2370.jpg',\n",
       " 'יפת-103-מאור-עיניים-2_8510.jpg',\n",
       " 'יפת-106-החרוב-46-48_6958.jpg',\n",
       " 'יפת-11-עמיעד-5_12437.jpg',\n",
       " 'יפת-19_7327.jpg',\n",
       " 'יפת-21(2)_6812.jpg',\n",
       " 'יפת-21(3)_6812.jpg',\n",
       " 'יפת-23(2)_6897.jpg',\n",
       " 'יפת-23_6897.jpg',\n",
       " 'יפת-27(2)_7462.jpg',\n",
       " 'יפת-27_7462.jpg',\n",
       " 'יפת-29_50982.jpg',\n",
       " 'יפת-33(2)_12889.jpg',\n",
       " 'יפת-33_12889.jpg',\n",
       " 'יפת-39_11820.jpg',\n",
       " 'יפת-3_8977.jpg',\n",
       " 'יפת-41_11830.jpg',\n",
       " 'יפת-43_7224.jpg',\n",
       " 'יפת-47-יהודה-הימית-67_65937.jpg',\n",
       " 'יפת-48-עבד-אל-ראוף-אלביטאר-1_41079.jpg',\n",
       " 'יפת-49_65938.jpg',\n",
       " 'יפת-51-אבינרי-יצחק-1_2867.jpg',\n",
       " 'יפת-52_9456.jpg',\n",
       " 'יפת-54-דה-רוטשילד-בת-שבע-1_6401.jpg',\n",
       " 'יפת-55_1700.jpg',\n",
       " 'יפת-57_1698.jpg',\n",
       " 'יפת-5_10319.jpg',\n",
       " 'יפת-61_11499.jpg',\n",
       " 'יפת-63_11402.jpg',\n",
       " 'יפת-72-ויינר-זאב-7_6963.jpg',\n",
       " 'יפת-74-ויינר-זאב-6_6963.jpg',\n",
       " 'יפת-76-בן-אחיטוב-22-24_12346.jpg',\n",
       " 'יפת-7_9062.jpg',\n",
       " 'יפת-80_12345.jpg',\n",
       " 'יפת-82_50556.jpg',\n",
       " 'יפת-89_8491.jpg',\n",
       " 'יפת-91(2)_12311.jpg',\n",
       " 'יפת-91_12311.jpg',\n",
       " 'יפת-92-סלסלה-30_50623.jpg',\n",
       " 'יפת-94_50594.jpg',\n",
       " 'ירושלים-2-רזיאל-דוד-1_40966.jpg',\n",
       " 'ירושלים-44_7169.jpg',\n",
       " 'ירושלים-4_2110.jpg',\n",
       " 'ירושלים-6_2809.jpg',\n",
       " 'ירושלים-8_12128.jpg',\n",
       " 'ישראל-מסלנט-35_9031.jpg',\n",
       " 'כפר-גלעד-29-מטלון-20-פלורנטין_2838.jpg',\n",
       " 'כפר-גלעדי-1-יפו-30_64526.jpg',\n",
       " 'כפר-גלעדי-11_41624.jpg',\n",
       " 'כפר-גלעדי-14-לוינסקי-16_7403.jpg',\n",
       " 'כפר-גלעדי-16_7402.jpg',\n",
       " 'כפר-גלעדי-17_7111.jpg',\n",
       " 'כפר-גלעדי-18_2846.jpg',\n",
       " 'כפר-גלעדי-19_7334.jpg',\n",
       " 'כפר-גלעדי-2-יפו-28_7204.jpg',\n",
       " 'כפר-גלעדי-20_12963.jpg',\n",
       " 'כפר-גלעדי-22-24_7423.jpg',\n",
       " 'כפר-גלעדי-29-מטלון-20_2838.jpg',\n",
       " 'כפר-גלעדי-3_7289.jpg',\n",
       " 'כפר-גלעדי-5_7287.jpg',\n",
       " 'כפר-גלעדי-7_7305.jpg',\n",
       " 'כפר-גלעדי-9_7288.jpg',\n",
       " 'כ״ץ-יעקוב-יוסף-4_11864.jpg',\n",
       " 'לוינסקי-10-א׳_6900.jpg',\n",
       " 'לוינסקי-12-הקישון-12_2611.jpg',\n",
       " 'לוינסקי-14-הקישון-11_8868.jpg',\n",
       " 'לוינסקי-21-הקישון-10_41403.jpg',\n",
       " 'לוינסקי-24_2917.jpg',\n",
       " 'לוינסקי-27-כפר-גלעדי-11_41624_41624.jpg',\n",
       " 'לוינסקי-34_2927.jpg',\n",
       " 'לוינסקי-8-מזרחי-10_2995.jpg',\n",
       " 'למרטין-10-שדרות-ירושלים-79(2)_9000.jpg',\n",
       " 'למרטין-15-עזה-34_8436.jpg',\n",
       " 'למרטין-16_2905.jpg',\n",
       " 'למרטין-17_50589.jpg',\n",
       " 'למרטין-30-שדרות -ירושלים 101_8465.jpg',\n",
       " 'למרטין-30-שדרות-ירושלים-101_8465.jpg',\n",
       " 'למרטין-34-שדרות ירושלים 105-הלה טוני-1_2236.jpg',\n",
       " 'למרטין-34-שדרות-ירושלים-105-הלה-טוני-1(2)_2236.jpg',\n",
       " 'למרטין-4-שדרות-ירושלים-75-מיכאלנגלו-38_12130.jpg',\n",
       " 'למרטין-8-שדרות-ירושלים-77_11943.jpg',\n",
       " 'מגן-אברהם-10-בעלי-התוספות-15_12909.jpg',\n",
       " 'מזרחי-3_2805.jpg',\n",
       " 'מזרחי-5_9034.jpg',\n",
       " 'מזרחי-6_9032.jpg',\n",
       " 'מזרחי-8-לוינסקי-17_7377.jpg',\n",
       " 'מזרחי-9-לוינסקי-19_2799.jpg',\n",
       " 'מטלון-18-כפר-גלעדי-28_7227.jpg',\n",
       " 'מטלון-28_50628.jpg',\n",
       " 'מטלון-3-מרכלת-17_41055.jpg',\n",
       " 'מטלון-30_50667.jpg',\n",
       " 'מטלון-34-השוק-19_11868.jpg',\n",
       " 'מטלון-5-רענן-28_8158.jpg',\n",
       " 'מטלון-6-רענן-30_2365.jpg',\n",
       " 'מטלון-7-רענן-25_6826.jpg',\n",
       " 'מטלון-74_18670.jpg',\n",
       " 'מטלון-74א׳_7494.jpg',\n",
       " 'מיכאלאנג׳לו-22(2)_41113.jpg',\n",
       " 'מיכאלאנג׳לו-22_41113.jpg',\n",
       " 'מיכאלאנג׳לו-28-פושקין-2_7315.jpg',\n",
       " 'מיכאלאנג׳לו-30-פושקין-1-ראסין-ז׳אן-2(2)_65329.jpg',\n",
       " 'מיכאלאנג׳לו-33_3021.jpg',\n",
       " 'מיכאלנג׳לו-33_3021.jpg',\n",
       " 'מנדס-פרנס-25-געש-16_50592.jpg',\n",
       " 'מנדס-פרנס-26_7167.jpg',\n",
       " 'מנדס-פרנס-28_50952.jpg',\n",
       " 'מנדס-פרנס-9_50653.jpg',\n",
       " 'מרזוק-ועזר-3_12127.jpg',\n",
       " 'מרחביה-11-לוינסקי-45_7499.jpg',\n",
       " 'מרחביה-12-לוינסקי-43_2944.jpg',\n",
       " 'מרחביה-13-לוינסקי-38_11848.jpg',\n",
       " 'מרחביה-14-לוינסקי-36_10317.jpg',\n",
       " 'מרחביה-21-מטלון-33_40957.jpg',\n",
       " 'מרחביה-3_9075.jpg',\n",
       " 'מרחביה-4-סמטת-השוק-6_10324.jpg',\n",
       " 'מרחביה-5_10438.jpg',\n",
       " 'מרכלת-1-יפו-14_10429.jpg',\n",
       " 'מרכלת-16_9043.jpg',\n",
       " 'מרכלת-5-לוינסקי-11_7387.jpg',\n",
       " 'מרכלת-7-לוינסקי-4א׳_12246.jpg',\n",
       " 'נועם-7(2)_2813.jpg',\n",
       " 'נועם-7_2813.jpg',\n",
       " 'נועם-9(2)_2225.jpg',\n",
       " 'נועם-9_2225.jpg',\n",
       " 'נחלת-בניימין-103-לוינסקי-49_41241.jpg',\n",
       " 'נחלת-בניימין-105-לוינסקי-42(2)_7527.jpg',\n",
       " 'נחלת-בניימין-105-לוינסקי-42_7527.jpg',\n",
       " 'נחלת-בניימין-113-מטלון-37_12522.jpg',\n",
       " 'נחלת-בניימין-115-מטלון-40_8692.jpg',\n",
       " 'נחלת-בניימין-117_12221.jpg',\n",
       " 'נחלת-בניימין-123-וולפסון-31_6393.jpg',\n",
       " 'נחלת-בניימין-129_12222.jpg',\n",
       " 'נחלת-בניימין-76_8682.jpg',\n",
       " 'נחלת-בניימין-82-80_8618.jpg',\n",
       " 'נחלת-בניימין-84-לוינסקי-47_2920.jpg',\n",
       " 'נחלת-בניימין-86-לוינסקי-40_8614.jpg',\n",
       " 'נחלת-בניימין-92_8390.jpg',\n",
       " 'נחלת-בניימין-94-מטלון-35_11378.jpg',\n",
       " 'נחלת-בנימין-128-פלורנטין-44_8788.jpg',\n",
       " 'נחלת-בנימין-130_8787.jpg',\n",
       " 'נחלת-בנימין-140_8686.jpg',\n",
       " 'נחמה-11-רוחמה-9-11-ניצנה-14-16-סגולה-8(2)_8600.jpg',\n",
       " 'נחמה-2-תרצה 14-בת-עמי-1_10344.jpg',\n",
       " 'נחמה-6-רוחמה-16_50638.jpg',\n",
       " 'נחמה11-רוחמה-9-11-ניצנה-14-16-סגולה-8(2)_8600.jpg',\n",
       " 'ניצנה-11-ניצנה-11א-ניצנה-11ב-נחמה-13(2)_12314.jpg',\n",
       " 'ניצנה-9א׳-ניצנה 9ב׳_12196.jpg',\n",
       " 'ניצנה11-ניצנה-11א-ניצנה-11ב-נחמה-13(3)_12314.jpg',\n",
       " 'נס-לגויים-49(2)_65652.jpg',\n",
       " 'נס-לגויים-49_65652.jpg',\n",
       " 'נס-לגויים-5-למרטין-44_11906.jpg',\n",
       " 'נס-לגויים-51_41616.jpg',\n",
       " 'נס-לגויים-7-למרטין-47_11666.jpg',\n",
       " 'נס-לגויים-9-עזה-66_8422.jpg',\n",
       " 'סגולה 4-תרצה-10_11636.jpg',\n",
       " 'סגולה-4-תרצה-10(2)_11636.jpg',\n",
       " 'סגל-צבי-הרמן-2_50559.jpg',\n",
       " 'סייפן-2-4-שדרות-יפת-110_2326.jpg',\n",
       " 'סלסלה-11_12720.jpg',\n",
       " 'סלסלה-16-הערמון-2_3010.jpg',\n",
       " 'סלסלה-24-החרוב-1_2825.jpg',\n",
       " 'סלסלה-26-החרוב-19_50590.jpg',\n",
       " 'סמטת-3350-3_9411.jpg',\n",
       " 'ספיר-ברוך-4_7213.jpg',\n",
       " 'ספיר-ברוך-6_12910.jpg',\n",
       " 'עאזר-אדיל-3_11374.jpg',\n",
       " 'עבודת-ישראל-3_7319.jpg',\n",
       " 'עדולם-10-בכור-ציון-10_11665.jpg',\n",
       " 'עולי-ציו- 36(2)_3019.jpg',\n",
       " 'עולי-ציון-1-יפת-9_12330.jpg',\n",
       " 'עולי-ציון-13_8369.jpg',\n",
       " 'עולי-ציון-24(2)_7216.jpg',\n",
       " 'עולי-ציון-24_7216.jpg',\n",
       " 'עולי-ציון-26_7149.jpg',\n",
       " 'עולי-ציון-2_12002.jpg',\n",
       " 'עולי-ציון-30_13011.jpg',\n",
       " 'עולי-ציון-32_6889.jpg',\n",
       " 'עולי-ציון-34(2)_8436.jpg',\n",
       " 'עולי-ציון-34_8436.jpg',\n",
       " 'עולי-ציון-36_3019.jpg',\n",
       " 'עולי-ציון-4-רבי-אחא-2_8379.jpg',\n",
       " 'עולי-ציון-8-עמיעד-13-15-רבי-חנניה-1_7461.jpg',\n",
       " 'עזה-13-15_11942.jpg',\n",
       " 'עזה-14_205265.jpg',\n",
       " 'עזה-24-מיכאלנגלו-42_8972.jpg',\n",
       " 'עזה-30-דנטא-18-למרטין-13(2)_11860.jpg',\n",
       " 'פושקין-7-דנטה-5_12246.jpg',\n",
       " 'פחד-יצחק-13_51009.jpg',\n",
       " 'פלורנטין-11_8865.jpg',\n",
       " 'פלורנטין-13_8866.jpg',\n",
       " 'פלורנטין-14-בן-עטר-1_41618.jpg',\n",
       " 'פלורנטין-15_8942.jpg',\n",
       " 'פלורנטין-16_8535.jpg',\n",
       " 'פלורנטין-17_8589.jpg',\n",
       " 'פלורנטין-20-בנבנישתי-2_50587.jpg',\n",
       " 'פלורנטין-24_12907.jpg',\n",
       " 'פלורנטין-25-שטרן-אברהם-12(2)_8615.jpg',\n",
       " 'פלורנטין-25-שטרן-אברהם-12_8615.jpg',\n",
       " 'פלורנטין-26-שדרות-וושינגטון-14_2231.jpg',\n",
       " 'פלורנטין-28-שדרות-וושינגטון-15_2230.jpg',\n",
       " 'פלורנטין-30_12142.jpg',\n",
       " 'פלורנטין-37_2573.jpg',\n",
       " 'פלורנטין-39_8867.jpg',\n",
       " 'צנובר-3-דודאים-6_50438.jpg',\n",
       " 'צנובר-4-דודאים-4_2952.jpg',\n",
       " 'קדם-35-רב-חובל-11_2616.jpg',\n",
       " 'קדם-57_8544.jpg',\n",
       " 'קדם-59_50462.jpg',\n",
       " 'קדרון-21-23_2575.jpg',\n",
       " 'קורדיברו-1-ויטל-חיים-5_12879.jpg',\n",
       " 'קורדיברו-10_8762.jpg',\n",
       " 'קורדיברו-11_13118.jpg',\n",
       " 'קורדיברו-12_8604.jpg',\n",
       " 'קורדיברו-13_2617.jpg',\n",
       " 'קורדיברו-14_6473.jpg',\n",
       " 'קורדיברו-15_2590.jpg',\n",
       " 'קורדיברו-17_7008.jpg',\n",
       " 'קורדיברו-18_12247.jpg',\n",
       " 'קורדיברו-19_2509.jpg',\n",
       " 'קורדיברו-2-ויטל-חיים-7_7196.jpg',\n",
       " 'קורדיברו-20_2536.jpg',\n",
       " 'קורדיברו-3_7032.jpg',\n",
       " 'קורדיברו-5_6432.jpg',\n",
       " 'קורדיברו-7_6397.jpg',\n",
       " 'קורדיברו-8_6392.jpg',\n",
       " 'קורדיברו-9_6964.jpg',\n",
       " 'ראסין-ז׳אן-10_8483.jpg',\n",
       " 'ראסין-ז׳אן-5_9013.jpg',\n",
       " 'ראש-פינה-25-הגר״א-36_1160.jpg',\n",
       " 'ראשון-לציון-13-(מגדל-מים)_11664.jpg',\n",
       " 'רבי-חנינא-12_41569.jpg',\n",
       " 'רבי-חנינא-14_7376.jpg',\n",
       " 'רבי-חנינא-16_7376.jpg',\n",
       " 'רבי-חנינא-22(2)_7456.jpg',\n",
       " 'רבי-חנינא-22_7456.jpg',\n",
       " 'רבי-חנניא-2-עולי-ציון-6-רבי-אחא-1_12298.jpg',\n",
       " 'רבי-פנחס-6א(2)_7201.jpg',\n",
       " 'רבי-פנחס-6א_7201.jpg',\n",
       " 'רזיאל-8_2873.jpg',\n",
       " 'רזיאל-דוד-14-16-רטוש-יונתן-4_2261.jpg',\n",
       " 'רזיאל-דוד-15_40910.jpg',\n",
       " 'רזיאל-דוד-17_7193.jpg',\n",
       " 'רזיאל-דוד-21-23_6801.jpg',\n",
       " 'רזיאל-דוד-25_2222.jpg',\n",
       " 'רזיאל-דוד-27-29(2)_2861.jpg',\n",
       " 'רזיאל-דוד-27-29_2861.jpg',\n",
       " 'רזיאל-דוד-4_2871.jpg',\n",
       " 'ריש-גלוטא-6(2)_6923.jpg',\n",
       " 'ריש-גלוטא-6_6923.jpg',\n",
       " 'שבטי-ישראל-21-מיכאלאנגלו-28_12151.jpg',\n",
       " 'שבטי-ישראל-23_12152.jpg',\n",
       " 'שבטי-ישראל-25_12942.jpg',\n",
       " 'שבטי-ישראל-31_12473.jpg',\n",
       " 'שבטי-ישראל-31א׳_50584.jpg',\n",
       " 'שבטי-ישראל-33_12946.jpg',\n",
       " 'שבטי-ישראל-42-עבד-אל-גני-17_7407.jpg',\n",
       " 'שבטי-ישראל-58_2262.jpg',\n",
       " 'שבטי-ישראל-78_12169.jpg',\n",
       " 'שדרות-הבעש״ט-4_7225.jpg',\n",
       " 'שדרות-וושינגטון-17_6930.jpg',\n",
       " 'שדרות-וושינגטון-19_2974.jpg',\n",
       " 'שדרות-וושינגטון-24_2266.jpg',\n",
       " 'שדרות-וושינגטון-25_2841.jpg',\n",
       " 'שדרות-וושינגטון-26_10446.jpg',\n",
       " 'שדרות-וושינגטון-27_9083.jpg',\n",
       " 'שדרות-וושינגטון-28_9084.jpg',\n",
       " 'שדרות-וושינגטון-30_9085.jpg',\n",
       " 'שדרות-ירושלים-109_11644.jpg',\n",
       " 'שדרות-ירושלים-111(2)_11862.jpg',\n",
       " 'שדרות-ירושלים-111-ודקר_11862.jpg',\n",
       " 'שדרות-ירושלים-14_9062.jpg',\n",
       " 'שדרות-ירושלים-18-שמעון-הצדיק-1_9061.jpg',\n",
       " 'שדרות-ירושלים-28-בני-בתירא-4-אליעזר-בן-הורקונוס-3(2)_2313.jpg',\n",
       " 'שדרות-ירושלים-28-בני-בתירא-4-אליעזר-בן-הורקונוס-3_2313.jpg',\n",
       " 'שדרות-ירושלים-30-חנינא-בן-תרדניון-3(2)_7320.jpg',\n",
       " 'שדרות-ירושלים-30_7320.jpg',\n",
       " 'שדרות-ירושלים-56_50974.jpg',\n",
       " 'שדרות-ירושלים-60_41540.jpg',\n",
       " 'שדרות-ירושלים-62-מיכאלנגלו-37_7321.jpg',\n",
       " 'שדרות-ירושלים-66_50620.jpg',\n",
       " 'שדרות-ירושלים-68_6883.jpg',\n",
       " 'שדרות-ירושלים-70_41251.jpg',\n",
       " 'שדרות-ירושלים-74_2828.jpg',\n",
       " 'שדרות-ירושלים-76_7220.jpg',\n",
       " 'שדרות-ירושלים-78_8894.jpg',\n",
       " 'שדרות-ירושלים-81-דנטה-13_10721.jpg',\n",
       " 'שדרות-ירושלים-82_8970.jpg',\n",
       " 'שטרן-אברהם-4-קורדיברו-21_7007.jpg',\n",
       " 'שטרן-אברהם-6-קורדיברו-24_9073.jpg',\n",
       " 'שלמה-19-וסרמן-יעקו-2(2)_6803.jpg',\n",
       " 'שלמה-19-וסרמן-יעקוב-2_6803.jpg',\n",
       " 'שלמה-6(2)_7185.jpg',\n",
       " 'שלמה-6_7185.jpg',\n",
       " 'שמואל-בין-עדיה-28-הספינה-1_7086.jpg',\n",
       " 'שמואל-בן-עדיה-20-הקברנית-22_2571.jpg',\n",
       " 'שמעון-בן-גמליאל-1-שמעון-בן-עזאי-6-שדרות-ירושלים-24-בן-עזריה-אל-עזר-15_40858.jpg',\n",
       " 'שמעון-בן-גמליאל-2_2812.jpg',\n",
       " 'שמעון-בן-זומא-4_12462.jpg',\n",
       " 'שמעון-בן-עזאי-2-חנניה-בן-דוסא-20_2868.jpg',\n",
       " 'שמעון-בן-עזאי-5_2811.jpg',\n",
       " 'שמעון-בן-שטח-10(2)_2810.jpg',\n",
       " 'שמעון-בן-שטח-10_2810.jpg',\n",
       " 'שמעון-בן-שטח-2(2)_2809.jpg',\n",
       " 'שמעון-הצדיק 12-14-שמעיה-8_6802.jpg',\n",
       " 'שמעון-הצדיק 4-המלך-חירם-16_7433.jpg',\n",
       " 'שמעון-הצדיק 9_19987.jpg',\n",
       " 'שמעון-הצדיק-10-שמעיה-5_2220.jpg',\n",
       " 'שמעון-הצדיק-11-שמעיה-7_11826.jpg',\n",
       " 'שמעון-הצדיק-12-14-שמעיה-8(2)_6802.jpg',\n",
       " 'שמעון-הצדיק-13-15-שמעיה-10-אבטליון-1_8599.jpg',\n",
       " 'שמעון-הצדיק-17-אבטליון-2_12914.jpg',\n",
       " 'שמעון-הצדיק-18(2)_7192.jpg',\n",
       " 'שמעון-הצדיק-18_7192.jpg',\n",
       " 'שמעון-הצדיק-19_2795.jpg',\n",
       " 'שמעון-הצדיק-6-המלך-חירם-14_7439.jpg',\n",
       " 'שמעון-הצדיק-7-חנניא-בן-דוסא-12_6879.jpg',\n",
       " 'שמעון-הצדיק-8-המלך-חירם-12_7270.jpg',\n",
       " 'שמעיה-11_11824.jpg',\n",
       " 'שמעיה-12-אבטליון-5-3_12913.jpg',\n",
       " 'שמעיה-14-אבטליון-4-בן-עזריה-אלעזר-7_8601.jpg',\n",
       " 'שמעיה-6-4-בן-יאיר-פנחס-1_8957.jpg',\n",
       " 'שמעיה-9-שמעון-בן-עזאי-1_2233.jpg',\n",
       " 'שערי-ניקנור-15_2609.jpg',\n",
       " 'שערי-ניקנור-22_2608.jpg',\n",
       " 'שערי-ניקנור-6_51105.jpg',\n",
       " 'שערי-ניקנור-7_6391.jpg',\n",
       " 'שערי-ניקנור-9-שמואל-בן-עדיה-1_6405.jpg',\n",
       " 'שקד-7_12897.jpg',\n",
       " \"ת'גר-ציונה-11_6857.jpg\",\n",
       " 'תג׳ר-ציונה-13_12317.jpg',\n",
       " 'תג׳ר-ציונה-14-16_8817.jpg',\n",
       " 'תג׳ר-ציונה-15_8815.jpg',\n",
       " 'תג׳ר-ציונה-17(2)_8816.jpg',\n",
       " 'תג׳ר-ציונה-17-(חזית)_8816.jpg',\n",
       " 'תג׳ר-ציונה-18_12321.jpg',\n",
       " 'תג׳ר-ציונה-24-עבד-אל-גני-2_7316.jpg',\n",
       " 'תג׳ר-ציונה-28_8829.jpg',\n",
       " 'תג׳ר-ציונה-2_12341.jpg',\n",
       " 'תג׳ר-ציונה-6_2143.jpg',\n",
       " 'תג׳ר-ציונה-8_8827.jpg',\n",
       " 'תל-גבורים-18_12904.jpg',\n",
       " 'תרצה 23-שלמה-5_7187.jpg']"
      ]
     },
     "execution_count": 57,
     "metadata": {},
     "output_type": "execute_result"
    }
   ],
   "source": [
    "phot_lst"
   ]
  },
  {
   "cell_type": "code",
   "execution_count": 58,
   "id": "tutorial-uncle",
   "metadata": {},
   "outputs": [],
   "source": [
    "for index, row in id_df.iterrows(): # go over everyrow (every building id)\n",
    "    for i in phot_lst: # compare one building id against all photos\n",
    "        if i.find(str(row[0])) != -1: # if the photo name is containing the building id\n",
    "            id_df.iloc[index, 1] = f'./photos/{i}'"
   ]
  },
  {
   "cell_type": "code",
   "execution_count": 59,
   "id": "ceramic-range",
   "metadata": {},
   "outputs": [],
   "source": [
    "img_src_lst = id_df['img_src'].values.tolist()"
   ]
  },
  {
   "cell_type": "code",
   "execution_count": 60,
   "id": "unknown-blackjack",
   "metadata": {},
   "outputs": [],
   "source": [
    "#img_src_lst"
   ]
  },
  {
   "cell_type": "code",
   "execution_count": 61,
   "id": "conservative-justice",
   "metadata": {
    "tags": []
   },
   "outputs": [
    {
     "name": "stdout",
     "output_type": "stream",
     "text": [
      "Indx: 34, id: 2373, file name: \n",
      "Indx: 48, id: 2517, file name: \n",
      "Indx: 133, id: 2999, file name: \n",
      "Indx: 137, id: 3020, file name: \n",
      "Indx: 139, id: 5714, file name: \n",
      "Indx: 146, id: 6394, file name: \n",
      "Indx: 155, id: 6418, file name: \n",
      "Indx: 179, id: 6825, file name: \n",
      "Indx: 181, id: 6829, file name: \n",
      "Indx: 186, id: 6888, file name: \n",
      "Indx: 217, id: 7080, file name: \n",
      "Indx: 240, id: 7208, file name: \n",
      "Indx: 246, id: 7226, file name: \n",
      "Indx: 258, id: 7307, file name: \n",
      "Indx: 293, id: 8154, file name: \n",
      "Indx: 302, id: 8375, file name: \n",
      "Indx: 320, id: 8542, file name: \n",
      "Indx: 337, id: 8657, file name: \n",
      "Indx: 365, id: 8828, file name: \n",
      "Indx: 411, id: 9051, file name: \n",
      "Indx: 427, id: 9122, file name: \n",
      "Indx: 442, id: 10363, file name: \n",
      "Indx: 458, id: 10587, file name: \n",
      "Indx: 472, id: 11444, file name: \n",
      "Indx: 509, id: 11920, file name: \n",
      "Indx: 579, id: 12721, file name: \n",
      "Indx: 681, id: 51041, file name: \n",
      "Indx: 699, id: ?, file name: \n"
     ]
    }
   ],
   "source": [
    "for x,i in enumerate(img_src_lst):\n",
    "    if i == '':\n",
    "        print(f'Indx: {x}, id: {id_df[\"id\"][x]}, file name: {i}')"
   ]
  },
  {
   "cell_type": "code",
   "execution_count": 62,
   "id": "hybrid-occasion",
   "metadata": {},
   "outputs": [
    {
     "name": "stdout",
     "output_type": "stream",
     "text": [
      "בגין מנחם 10-הגדוד העברי(2)-1_2241.jpg\n",
      "בגין מנחם 10-הגדוד העברי-1_2241.jpg\n",
      "בגין מנחם 12-הגדוד העברי-3_2260.jpg\n",
      "בגין-מנחם 12-הגדוד-העברי-3(2)_2260.jpg\n",
      "הדואר-2-רזיאל-דוד-13_9269.jpg\n",
      "ירושלים-2-רזיאל-דוד-1_40966.jpg\n",
      "צנובר-3-דודאים-6_50438.jpg\n",
      "צנובר-4-דודאים-4_2952.jpg\n",
      "רזיאל-דוד-14-16-רטוש-יונתן-4_2261.jpg\n",
      "רזיאל-דוד-15_40910.jpg\n",
      "רזיאל-דוד-17_7193.jpg\n",
      "רזיאל-דוד-21-23_6801.jpg\n",
      "רזיאל-דוד-25_2222.jpg\n",
      "רזיאל-דוד-27-29(2)_2861.jpg\n",
      "רזיאל-דוד-27-29_2861.jpg\n",
      "רזיאל-דוד-4_2871.jpg\n"
     ]
    }
   ],
   "source": [
    "search_word = \"דוד\"\n",
    "for i in phot_lst:\n",
    "    if i.find(f'{search_word}') > -1:\n",
    "    #if i.find(f'{search_word}') =! -1:\n",
    "        print(i)"
   ]
  },
  {
   "cell_type": "code",
   "execution_count": 63,
   "id": "stone-payment",
   "metadata": {},
   "outputs": [
    {
     "data": {
      "text/plain": [
       "-1"
      ]
     },
     "execution_count": 63,
     "metadata": {},
     "output_type": "execute_result"
    }
   ],
   "source": [
    "phot_lst[0].find(\"c;\")"
   ]
  },
  {
   "cell_type": "code",
   "execution_count": 64,
   "id": "central-somewhere",
   "metadata": {},
   "outputs": [],
   "source": [
    "col_list = df.columns.values.tolist()"
   ]
  },
  {
   "cell_type": "code",
   "execution_count": 65,
   "id": "looking-carroll",
   "metadata": {
    "collapsed": true,
    "jupyter": {
     "outputs_hidden": true
    },
    "tags": []
   },
   "outputs": [
    {
     "data": {
      "text/plain": [
       "['id',\n",
       " 'long',\n",
       " 'lat',\n",
       " 'n_bicycle_parking',\n",
       " 'n_tel_o_fun',\n",
       " 'Built density (2d built area / void) in 250 meter radius',\n",
       " 'n_auto_tel',\n",
       " 'Centrality (gravity) score for each building within 15 min. walk r.',\n",
       " \" building's street-facing front Distance from parcel limits (0 line) in meters\",\n",
       " 'n_parks',\n",
       " \"Building's height (simple)\",\n",
       " 'Historical buildings within 15 min. walk',\n",
       " 'Parcel size (square meters)',\n",
       " 'n_playgrounds',\n",
       " 'tsunami_flood_line',\n",
       " \"Building's volume in cubic meter\",\n",
       " 'Amount of walkalbe Religious buildings (15 min.)',\n",
       " 'Amount of walkable street workout equipment (15 min.)',\n",
       " 'Distance from the Sea in meteres',\n",
       " 'Distance to nearest bicycle route in meters',\n",
       " 'Amount of gas stations in 1k radius',\n",
       " 'Geo point via Flicker ',\n",
       " 'Amount of walkable hospitals and clinics 15. m radius',\n",
       " 'n_kindergartens',\n",
       " 'primary',\n",
       " 'secondary',\n",
       " 'street',\n",
       " 'number',\n",
       " 'block',\n",
       " 'parcel',\n",
       " 'complex',\n",
       " 'city_building_plan',\n",
       " 'technology',\n",
       " 'status',\n",
       " 'n_floors',\n",
       " 'finishing_materials',\n",
       " 'roof',\n",
       " 'n_facades',\n",
       " 'arrnona_year',\n",
       " 'typology',\n",
       " 'positioning',\n",
       " 'physical_condition',\n",
       " 'architectural_value',\n",
       " 'urban_value',\n",
       " 'historical_ significance',\n",
       " 'general evaluation']"
      ]
     },
     "execution_count": 65,
     "metadata": {},
     "output_type": "execute_result"
    }
   ],
   "source": [
    "col_list"
   ]
  },
  {
   "cell_type": "code",
   "execution_count": 132,
   "id": "south-flower",
   "metadata": {
    "tags": []
   },
   "outputs": [],
   "source": [
    "grid_items = '' # create an empty string to append to \n",
    "#iterate through each row of dataframe\n",
    "for index, row in df.iterrows():\n",
    "    #print(index, ': ', row)\n",
    "    bld_id = id_lst[index]\n",
    "    inside_div_combined = '' # create empty string to append to \n",
    "    tmp_div_open = '<div class=\"building_square\" col_header=\"b\">' #  NOTICE: col_header=\"b\"\n",
    "    #print(\"STARTING COLUMN PRINT\")\n",
    "    for col_index, col_name in enumerate(col_list):\n",
    "        tmp_div_inside = f'<p class=\"{col_name}\" style=\"display:none;\">{df.iloc[index, col_index]}</p>' # -----> NOTICE using a 'p'?\n",
    "        inside_div_combined += tmp_div_inside\n",
    "    building_card_link = f'../building_cards/{bld_id}.html'\n",
    "    link_open_option = '_blank'\n",
    "    tmp_div_img = f\"\"\"<a href=\"#\" onClick=\"window.open('{building_card_link}', '_blank') \"><img src=\"{img_src_lst[index]}\"></a>\"\"\" # change image each row - NOTICE <a> tag    \n",
    "    inside_div_combined += tmp_div_img # tmp_div_inside + tmp_div_img - BEFORE // CREATED DOUBLE LAST LINE\n",
    "    tmp_div_close = f'</div>'\n",
    "    tmp_str = tmp_div_open + inside_div_combined + tmp_div_close\n",
    "    grid_items += tmp_str"
   ]
  },
  {
   "cell_type": "code",
   "execution_count": 133,
   "id": "referenced-letter",
   "metadata": {},
   "outputs": [],
   "source": [
    "#grid_items"
   ]
  },
  {
   "cell_type": "code",
   "execution_count": 134,
   "id": "limiting-gross",
   "metadata": {},
   "outputs": [
    {
     "data": {
      "text/plain": [
       "'<p class=\"general evaluation\" style=\"display:none;\">low</p>'"
      ]
     },
     "execution_count": 134,
     "metadata": {},
     "output_type": "execute_result"
    }
   ],
   "source": [
    "tmp_div_inside"
   ]
  },
  {
   "cell_type": "markdown",
   "id": "directed-fellow",
   "metadata": {},
   "source": [
    "Load html > parse to string > insert after '<div class=\"grid\">' > export as html"
   ]
  },
  {
   "cell_type": "code",
   "execution_count": 135,
   "id": "national-advice",
   "metadata": {},
   "outputs": [],
   "source": [
    "#test_phrase = '<p> hello, this was inserted into the website html </p>'"
   ]
  },
  {
   "cell_type": "code",
   "execution_count": 136,
   "id": "patient-latin",
   "metadata": {},
   "outputs": [],
   "source": [
    "html_insert = grid_items"
   ]
  },
  {
   "cell_type": "code",
   "execution_count": 137,
   "id": "synthetic-acrobat",
   "metadata": {},
   "outputs": [],
   "source": [
    "file = open('../index.html', \"r\") # open local html file (as opposoed to reading from URL)"
   ]
  },
  {
   "cell_type": "code",
   "execution_count": 138,
   "id": "complicated-detection",
   "metadata": {},
   "outputs": [],
   "source": [
    "# Parse the html file\n",
    "soup = BeautifulSoup(file, 'html.parser')\n",
    "\n",
    "# Format the parsed html file\n",
    "strhtm = soup.prettify()"
   ]
  },
  {
   "cell_type": "code",
   "execution_count": 139,
   "id": "adopted-being",
   "metadata": {},
   "outputs": [],
   "source": [
    "#soup\n",
    "soup_string = str(soup)"
   ]
  },
  {
   "cell_type": "code",
   "execution_count": 140,
   "id": "collect-puzzle",
   "metadata": {},
   "outputs": [
    {
     "data": {
      "text/plain": [
       "str"
      ]
     },
     "execution_count": 140,
     "metadata": {},
     "output_type": "execute_result"
    }
   ],
   "source": [
    "type(strhtm)"
   ]
  },
  {
   "cell_type": "code",
   "execution_count": 141,
   "id": "perfect-kazakhstan",
   "metadata": {},
   "outputs": [],
   "source": [
    "html_start = strhtm.split('<!-- THIS WILL BE REPLACED WITH INSERTED-->')[0]\n",
    "html_end = strhtm.split('<!-- THIS WILL BE REPLACED WITH INSERTED-->')[1]"
   ]
  },
  {
   "cell_type": "code",
   "execution_count": 142,
   "id": "severe-flexibility",
   "metadata": {},
   "outputs": [],
   "source": [
    "#strhtm"
   ]
  },
  {
   "cell_type": "code",
   "execution_count": 143,
   "id": "exciting-questionnaire",
   "metadata": {},
   "outputs": [],
   "source": [
    "html_combined = [html_start, html_insert, html_end]"
   ]
  },
  {
   "cell_type": "code",
   "execution_count": 144,
   "id": "threaded-parade",
   "metadata": {},
   "outputs": [],
   "source": [
    "joint_str = ''.join(html_combined)"
   ]
  },
  {
   "cell_type": "code",
   "execution_count": 145,
   "id": "lesser-defeat",
   "metadata": {},
   "outputs": [],
   "source": [
    "#strhtm"
   ]
  },
  {
   "cell_type": "markdown",
   "id": "heated-pathology",
   "metadata": {},
   "source": [
    "push only mid"
   ]
  },
  {
   "cell_type": "code",
   "execution_count": 146,
   "id": "proprietary-triumph",
   "metadata": {},
   "outputs": [
    {
     "data": {
      "text/plain": [
       "2226769"
      ]
     },
     "execution_count": 146,
     "metadata": {},
     "output_type": "execute_result"
    }
   ],
   "source": [
    "# open the file in w mode\n",
    "# set encoding to UTF-8\n",
    "with open(\"../bld_img_atr.html\", \"w\", encoding = 'utf-8') as file:\n",
    "    \n",
    "    # prettify the soup object and convert it into a string  \n",
    "    file.write(grid_items)"
   ]
  },
  {
   "cell_type": "markdown",
   "id": "careful-thunder",
   "metadata": {},
   "source": [
    "push everything"
   ]
  },
  {
   "cell_type": "code",
   "execution_count": 147,
   "id": "original-article",
   "metadata": {},
   "outputs": [
    {
     "data": {
      "text/plain": [
       "2240092"
      ]
     },
     "execution_count": 147,
     "metadata": {},
     "output_type": "execute_result"
    }
   ],
   "source": [
    "# open the file in w mode\n",
    "# set encoding to UTF-8\n",
    "with open(\"../output.html\", \"w\", encoding = 'utf-8') as file:\n",
    "    \n",
    "    # prettify the soup object and convert it into a string  \n",
    "    file.write(joint_str)"
   ]
  },
  {
   "cell_type": "code",
   "execution_count": 148,
   "id": "moved-nicholas",
   "metadata": {},
   "outputs": [],
   "source": [
    "#joint_str.encode()"
   ]
  },
  {
   "cell_type": "markdown",
   "id": "promising-butter",
   "metadata": {},
   "source": [
    "## Create a building card for each image"
   ]
  },
  {
   "cell_type": "markdown",
   "id": "purple-observer",
   "metadata": {},
   "source": [
    "for each id in id_lst"
   ]
  },
  {
   "cell_type": "code",
   "execution_count": 178,
   "id": "utility-password",
   "metadata": {
    "tags": []
   },
   "outputs": [
    {
     "name": "stdout",
     "output_type": "stream",
     "text": [
      "images found ['יפת-57_1698.jpg']\n",
      "number of images found 1\n",
      "0 יפת-57_1698.jpg\n"
     ]
    },
    {
     "data": {
      "text/plain": [
       "4397"
      ]
     },
     "execution_count": 178,
     "metadata": {},
     "output_type": "execute_result"
    },
    {
     "name": "stdout",
     "output_type": "stream",
     "text": [
      "images found ['יפת-55_1700.jpg']\n",
      "number of images found 1\n",
      "0 יפת-55_1700.jpg\n"
     ]
    },
    {
     "data": {
      "text/plain": [
       "4397"
      ]
     },
     "execution_count": 178,
     "metadata": {},
     "output_type": "execute_result"
    },
    {
     "name": "stdout",
     "output_type": "stream",
     "text": [
      "images found ['ירושלים-4_2110.jpg']\n",
      "number of images found 1\n",
      "0 ירושלים-4_2110.jpg\n"
     ]
    },
    {
     "data": {
      "text/plain": [
       "4387"
      ]
     },
     "execution_count": 178,
     "metadata": {},
     "output_type": "execute_result"
    },
    {
     "name": "stdout",
     "output_type": "stream",
     "text": [
      "images found ['תג׳ר-ציונה-6_2143.jpg']\n",
      "number of images found 1\n",
      "0 תג׳ר-ציונה-6_2143.jpg\n"
     ]
    },
    {
     "data": {
      "text/plain": [
       "4418"
      ]
     },
     "execution_count": 178,
     "metadata": {},
     "output_type": "execute_result"
    },
    {
     "name": "stdout",
     "output_type": "stream",
     "text": [
      "images found ['בית-אשל-23_2203.jpg']\n",
      "number of images found 1\n",
      "0 בית-אשל-23_2203.jpg\n"
     ]
    },
    {
     "data": {
      "text/plain": [
       "4392"
      ]
     },
     "execution_count": 178,
     "metadata": {},
     "output_type": "execute_result"
    },
    {
     "name": "stdout",
     "output_type": "stream",
     "text": [
      "images found ['הקישון-49_12220.jpg', 'שמעון-הצדיק-10-שמעיה-5_2220.jpg']\n",
      "number of images found 2\n",
      "0 הקישון-49_12220.jpg\n",
      "1 שמעון-הצדיק-10-שמעיה-5_2220.jpg\n",
      "1 שמעון-הצדיק-10-שמעיה-5_2220.jpg\n"
     ]
    },
    {
     "data": {
      "text/plain": [
       "4599"
      ]
     },
     "execution_count": 178,
     "metadata": {},
     "output_type": "execute_result"
    },
    {
     "name": "stdout",
     "output_type": "stream",
     "text": [
      "images found ['נחלת-בניימין-129_12222.jpg', 'רזיאל-דוד-25_2222.jpg']\n",
      "number of images found 2\n",
      "0 נחלת-בניימין-129_12222.jpg\n",
      "1 רזיאל-דוד-25_2222.jpg\n",
      "1 רזיאל-דוד-25_2222.jpg\n"
     ]
    },
    {
     "data": {
      "text/plain": [
       "4589"
      ]
     },
     "execution_count": 178,
     "metadata": {},
     "output_type": "execute_result"
    },
    {
     "name": "stdout",
     "output_type": "stream",
     "text": [
      "images found ['נועם-9(2)_2225.jpg', 'נועם-9_2225.jpg']\n",
      "number of images found 2\n",
      "0 נועם-9(2)_2225.jpg\n",
      "1 נועם-9_2225.jpg\n",
      "1 נועם-9_2225.jpg\n"
     ]
    },
    {
     "data": {
      "text/plain": [
       "4552"
      ]
     },
     "execution_count": 178,
     "metadata": {},
     "output_type": "execute_result"
    },
    {
     "name": "stdout",
     "output_type": "stream",
     "text": [
      "images found ['פלורנטין-28-שדרות-וושינגטון-15_2230.jpg']\n",
      "number of images found 1\n",
      "0 פלורנטין-28-שדרות-וושינגטון-15_2230.jpg\n"
     ]
    },
    {
     "data": {
      "text/plain": [
       "4444"
      ]
     },
     "execution_count": 178,
     "metadata": {},
     "output_type": "execute_result"
    },
    {
     "name": "stdout",
     "output_type": "stream",
     "text": [
      "images found ['פלורנטין-26-שדרות-וושינגטון-14_2231.jpg']\n",
      "number of images found 1\n",
      "0 פלורנטין-26-שדרות-וושינגטון-14_2231.jpg\n"
     ]
    },
    {
     "data": {
      "text/plain": [
       "4444"
      ]
     },
     "execution_count": 178,
     "metadata": {},
     "output_type": "execute_result"
    },
    {
     "name": "stdout",
     "output_type": "stream",
     "text": [
      "images found ['ויטל-חיים-8-פלורנטין-8_2232.jpg']\n",
      "number of images found 1\n",
      "0 ויטל-חיים-8-פלורנטין-8_2232.jpg\n"
     ]
    },
    {
     "data": {
      "text/plain": [
       "4435"
      ]
     },
     "execution_count": 178,
     "metadata": {},
     "output_type": "execute_result"
    },
    {
     "name": "stdout",
     "output_type": "stream",
     "text": [
      "images found ['שמעיה-9-שמעון-בן-עזאי-1_2233.jpg']\n",
      "number of images found 1\n",
      "0 שמעיה-9-שמעון-בן-עזאי-1_2233.jpg\n"
     ]
    },
    {
     "data": {
      "text/plain": [
       "4417"
      ]
     },
     "execution_count": 178,
     "metadata": {},
     "output_type": "execute_result"
    },
    {
     "name": "stdout",
     "output_type": "stream",
     "text": [
      "images found ['למרטין-34-שדרות ירושלים 105-הלה טוני-1_2236.jpg', 'למרטין-34-שדרות-ירושלים-105-הלה-טוני-1(2)_2236.jpg']\n",
      "number of images found 2\n",
      "0 למרטין-34-שדרות ירושלים 105-הלה טוני-1_2236.jpg\n",
      "1 למרטין-34-שדרות-ירושלים-105-הלה-טוני-1(2)_2236.jpg\n",
      "1 למרטין-34-שדרות-ירושלים-105-הלה-טוני-1(2)_2236.jpg\n"
     ]
    },
    {
     "data": {
      "text/plain": [
       "4659"
      ]
     },
     "execution_count": 178,
     "metadata": {},
     "output_type": "execute_result"
    },
    {
     "name": "stdout",
     "output_type": "stream",
     "text": [
      "images found ['בגין מנחם 10-הגדוד העברי(2)-1_2241.jpg', 'בגין מנחם 10-הגדוד העברי-1_2241.jpg']\n",
      "number of images found 2\n",
      "0 בגין מנחם 10-הגדוד העברי(2)-1_2241.jpg\n",
      "1 בגין מנחם 10-הגדוד העברי-1_2241.jpg\n",
      "1 בגין מנחם 10-הגדוד העברי-1_2241.jpg\n"
     ]
    },
    {
     "data": {
      "text/plain": [
       "4638"
      ]
     },
     "execution_count": 178,
     "metadata": {},
     "output_type": "execute_result"
    },
    {
     "name": "stdout",
     "output_type": "stream",
     "text": [
      "images found ['החרש-37-לבנדה-52_2243.jpg']\n",
      "number of images found 1\n",
      "0 החרש-37-לבנדה-52_2243.jpg\n"
     ]
    },
    {
     "data": {
      "text/plain": [
       "4417"
      ]
     },
     "execution_count": 178,
     "metadata": {},
     "output_type": "execute_result"
    },
    {
     "name": "stdout",
     "output_type": "stream",
     "text": [
      "images found ['בגין מנחם 12-הגדוד העברי-3_2260.jpg', 'בגין-מנחם 12-הגדוד-העברי-3(2)_2260.jpg', 'העליה-26-מטלון-50_12260.jpg']\n",
      "number of images found 3\n",
      "0 בגין מנחם 12-הגדוד העברי-3_2260.jpg\n",
      "1 בגין-מנחם 12-הגדוד-העברי-3(2)_2260.jpg\n",
      "2 העליה-26-מטלון-50_12260.jpg\n",
      "1 בגין-מנחם 12-הגדוד-העברי-3(2)_2260.jpg\n",
      "2 העליה-26-מטלון-50_12260.jpg\n"
     ]
    },
    {
     "data": {
      "text/plain": [
       "4829"
      ]
     },
     "execution_count": 178,
     "metadata": {},
     "output_type": "execute_result"
    },
    {
     "name": "stdout",
     "output_type": "stream",
     "text": [
      "images found ['רזיאל-דוד-14-16-רטוש-יונתן-4_2261.jpg']\n",
      "number of images found 1\n",
      "0 רזיאל-דוד-14-16-רטוש-יונתן-4_2261.jpg\n"
     ]
    },
    {
     "data": {
      "text/plain": [
       "4415"
      ]
     },
     "execution_count": 178,
     "metadata": {},
     "output_type": "execute_result"
    },
    {
     "name": "stdout",
     "output_type": "stream",
     "text": [
      "images found ['שבטי-ישראל-58_2262.jpg']\n",
      "number of images found 1\n",
      "0 שבטי-ישראל-58_2262.jpg\n"
     ]
    },
    {
     "data": {
      "text/plain": [
       "4406"
      ]
     },
     "execution_count": 178,
     "metadata": {},
     "output_type": "execute_result"
    },
    {
     "name": "stdout",
     "output_type": "stream",
     "text": [
      "images found ['שדרות-וושינגטון-24_2266.jpg']\n",
      "number of images found 1\n",
      "0 שדרות-וושינגטון-24_2266.jpg\n"
     ]
    },
    {
     "data": {
      "text/plain": [
       "4431"
      ]
     },
     "execution_count": 178,
     "metadata": {},
     "output_type": "execute_result"
    },
    {
     "name": "stdout",
     "output_type": "stream",
     "text": [
      "images found ['הקישון-75_2293.jpg']\n",
      "number of images found 1\n",
      "0 הקישון-75_2293.jpg\n"
     ]
    },
    {
     "data": {
      "text/plain": [
       "4419"
      ]
     },
     "execution_count": 178,
     "metadata": {},
     "output_type": "execute_result"
    },
    {
     "name": "stdout",
     "output_type": "stream",
     "text": [
      "images found ['ידידה-פרנקל-26-שטרן-אברהם-2_2306.jpg']\n",
      "number of images found 1\n",
      "0 ידידה-פרנקל-26-שטרן-אברהם-2_2306.jpg\n"
     ]
    },
    {
     "data": {
      "text/plain": [
       "4447"
      ]
     },
     "execution_count": 178,
     "metadata": {},
     "output_type": "execute_result"
    },
    {
     "name": "stdout",
     "output_type": "stream",
     "text": [
      "images found ['אלעז- בן-יוסי-2-חנניה-בן-דוסא-27_2309.jpg', 'חנניא-בן-דוסא-27-אלעזר-בן-יוסי-2_2309.jpg']\n",
      "number of images found 2\n",
      "0 אלעז- בן-יוסי-2-חנניה-בן-דוסא-27_2309.jpg\n",
      "1 חנניא-בן-דוסא-27-אלעזר-בן-יוסי-2_2309.jpg\n",
      "1 חנניא-בן-דוסא-27-אלעזר-בן-יוסי-2_2309.jpg\n"
     ]
    },
    {
     "data": {
      "text/plain": [
       "4645"
      ]
     },
     "execution_count": 178,
     "metadata": {},
     "output_type": "execute_result"
    },
    {
     "name": "stdout",
     "output_type": "stream",
     "text": [
      "images found ['יהודה-הימית-73_2312.jpg']\n",
      "number of images found 1\n",
      "0 יהודה-הימית-73_2312.jpg\n"
     ]
    },
    {
     "data": {
      "text/plain": [
       "4405"
      ]
     },
     "execution_count": 178,
     "metadata": {},
     "output_type": "execute_result"
    },
    {
     "name": "stdout",
     "output_type": "stream",
     "text": [
      "images found ['שדרות-ירושלים-28-בני-בתירא-4-אליעזר-בן-הורקונוס-3(2)_2313.jpg', 'שדרות-ירושלים-28-בני-בתירא-4-אליעזר-בן-הורקונוס-3_2313.jpg']\n",
      "number of images found 2\n",
      "0 שדרות-ירושלים-28-בני-בתירא-4-אליעזר-בן-הורקונוס-3(2)_2313.jpg\n",
      "1 שדרות-ירושלים-28-בני-בתירא-4-אליעזר-בן-הורקונוס-3_2313.jpg\n",
      "1 שדרות-ירושלים-28-בני-בתירא-4-אליעזר-בן-הורקונוס-3_2313.jpg\n"
     ]
    },
    {
     "data": {
      "text/plain": [
       "4653"
      ]
     },
     "execution_count": 178,
     "metadata": {},
     "output_type": "execute_result"
    },
    {
     "name": "stdout",
     "output_type": "stream",
     "text": [
      "images found ['אסף-הרופא-40-42_2325.jpg']\n",
      "number of images found 1\n",
      "0 אסף-הרופא-40-42_2325.jpg\n"
     ]
    },
    {
     "data": {
      "text/plain": [
       "4399"
      ]
     },
     "execution_count": 178,
     "metadata": {},
     "output_type": "execute_result"
    },
    {
     "name": "stdout",
     "output_type": "stream",
     "text": [
      "images found ['סייפן-2-4-שדרות-יפת-110_2326.jpg']\n",
      "number of images found 1\n",
      "0 סייפן-2-4-שדרות-יפת-110_2326.jpg\n"
     ]
    },
    {
     "data": {
      "text/plain": [
       "4407"
      ]
     },
     "execution_count": 178,
     "metadata": {},
     "output_type": "execute_result"
    },
    {
     "name": "stdout",
     "output_type": "stream",
     "text": [
      "images found ['החרוב-30_2331.jpg']\n",
      "number of images found 1\n",
      "0 החרוב-30_2331.jpg\n"
     ]
    },
    {
     "data": {
      "text/plain": [
       "4392"
      ]
     },
     "execution_count": 178,
     "metadata": {},
     "output_type": "execute_result"
    },
    {
     "name": "stdout",
     "output_type": "stream",
     "text": [
      "images found ['אוריאל-אקוסטה-11_2334.jpg']\n",
      "number of images found 1\n",
      "0 אוריאל-אקוסטה-11_2334.jpg\n"
     ]
    },
    {
     "data": {
      "text/plain": [
       "4435"
      ]
     },
     "execution_count": 178,
     "metadata": {},
     "output_type": "execute_result"
    },
    {
     "name": "stdout",
     "output_type": "stream",
     "text": [
      "images found ['ידידיה-פרנקל-29_2354.jpg']\n",
      "number of images found 1\n",
      "0 ידידיה-פרנקל-29_2354.jpg\n"
     ]
    },
    {
     "data": {
      "text/plain": [
       "4467"
      ]
     },
     "execution_count": 178,
     "metadata": {},
     "output_type": "execute_result"
    },
    {
     "name": "stdout",
     "output_type": "stream",
     "text": [
      "images found ['ידידיה-פרנקל-30_2355.jpg']\n",
      "number of images found 1\n",
      "0 ידידיה-פרנקל-30_2355.jpg\n"
     ]
    },
    {
     "data": {
      "text/plain": [
       "4467"
      ]
     },
     "execution_count": 178,
     "metadata": {},
     "output_type": "execute_result"
    },
    {
     "name": "stdout",
     "output_type": "stream",
     "text": [
      "images found ['מטלון-6-רענן-30_2365.jpg']\n",
      "number of images found 1\n",
      "0 מטלון-6-רענן-30_2365.jpg\n"
     ]
    },
    {
     "data": {
      "text/plain": [
       "4419"
      ]
     },
     "execution_count": 178,
     "metadata": {},
     "output_type": "execute_result"
    },
    {
     "name": "stdout",
     "output_type": "stream",
     "text": [
      "images found ['ידידיה-פרנקל-2-אברבנאל-31_2366.jpg']\n",
      "number of images found 1\n",
      "0 ידידיה-פרנקל-2-אברבנאל-31_2366.jpg\n"
     ]
    },
    {
     "data": {
      "text/plain": [
       "4441"
      ]
     },
     "execution_count": 178,
     "metadata": {},
     "output_type": "execute_result"
    },
    {
     "name": "stdout",
     "output_type": "stream",
     "text": [
      "images found ['אילת-52-54-אברבנאל-1_2369.jpg']\n",
      "number of images found 1\n",
      "0 אילת-52-54-אברבנאל-1_2369.jpg\n"
     ]
    },
    {
     "data": {
      "text/plain": [
       "4413"
      ]
     },
     "execution_count": 178,
     "metadata": {},
     "output_type": "execute_result"
    },
    {
     "name": "stdout",
     "output_type": "stream",
     "text": [
      "images found ['יפת-102-חייבי-משה-10_2370.jpg']\n",
      "number of images found 1\n",
      "0 יפת-102-חייבי-משה-10_2370.jpg\n"
     ]
    },
    {
     "data": {
      "text/plain": [
       "4404"
      ]
     },
     "execution_count": 178,
     "metadata": {},
     "output_type": "execute_result"
    },
    {
     "name": "stdout",
     "output_type": "stream",
     "text": [
      "images found []\n",
      "number of images found 0\n"
     ]
    },
    {
     "data": {
      "text/plain": [
       "4300"
      ]
     },
     "execution_count": 178,
     "metadata": {},
     "output_type": "execute_result"
    },
    {
     "name": "stdout",
     "output_type": "stream",
     "text": [
      "images found ['זבולון-33-וולפסון-35_2374.jpg']\n",
      "number of images found 1\n",
      "0 זבולון-33-וולפסון-35_2374.jpg\n"
     ]
    },
    {
     "data": {
      "text/plain": [
       "4427"
      ]
     },
     "execution_count": 178,
     "metadata": {},
     "output_type": "execute_result"
    },
    {
     "name": "stdout",
     "output_type": "stream",
     "text": [
      "images found ['העליה-34-וולפסון-41_2379.jpg']\n",
      "number of images found 1\n",
      "0 העליה-34-וולפסון-41_2379.jpg\n"
     ]
    },
    {
     "data": {
      "text/plain": [
       "4427"
      ]
     },
     "execution_count": 178,
     "metadata": {},
     "output_type": "execute_result"
    },
    {
     "name": "stdout",
     "output_type": "stream",
     "text": [
      "images found ['אוריאל-אקוסטה-17_2407.jpg']\n",
      "number of images found 1\n",
      "0 אוריאל-אקוסטה-17_2407.jpg\n"
     ]
    },
    {
     "data": {
      "text/plain": [
       "4437"
      ]
     },
     "execution_count": 178,
     "metadata": {},
     "output_type": "execute_result"
    },
    {
     "name": "stdout",
     "output_type": "stream",
     "text": [
      "images found ['בן-אחיטוב-14_2408.jpg']\n",
      "number of images found 1\n",
      "0 בן-אחיטוב-14_2408.jpg\n"
     ]
    },
    {
     "data": {
      "text/plain": [
       "4403"
      ]
     },
     "execution_count": 178,
     "metadata": {},
     "output_type": "execute_result"
    },
    {
     "name": "stdout",
     "output_type": "stream",
     "text": [
      "images found ['יהודה-הימית-21_2418.jpg']\n",
      "number of images found 1\n",
      "0 יהודה-הימית-21_2418.jpg\n"
     ]
    },
    {
     "data": {
      "text/plain": [
       "4421"
      ]
     },
     "execution_count": 178,
     "metadata": {},
     "output_type": "execute_result"
    },
    {
     "name": "stdout",
     "output_type": "stream",
     "text": [
      "images found ['החיטה-3_2438.jpg', 'המשביר-23_12438.jpg']\n",
      "number of images found 2\n",
      "0 החיטה-3_2438.jpg\n",
      "1 המשביר-23_12438.jpg\n",
      "1 המשביר-23_12438.jpg\n"
     ]
    },
    {
     "data": {
      "text/plain": [
       "4564"
      ]
     },
     "execution_count": 178,
     "metadata": {},
     "output_type": "execute_result"
    },
    {
     "name": "stdout",
     "output_type": "stream",
     "text": [
      "images found ['הצרי-7_2495.jpg']\n",
      "number of images found 1\n",
      "0 הצרי-7_2495.jpg\n"
     ]
    },
    {
     "data": {
      "text/plain": [
       "4390"
      ]
     },
     "execution_count": 178,
     "metadata": {},
     "output_type": "execute_result"
    },
    {
     "name": "stdout",
     "output_type": "stream",
     "text": [
      "images found ['אילת-10_2498.jpg']\n",
      "number of images found 1\n",
      "0 אילת-10_2498.jpg\n"
     ]
    },
    {
     "data": {
      "text/plain": [
       "4380"
      ]
     },
     "execution_count": 178,
     "metadata": {},
     "output_type": "execute_result"
    },
    {
     "name": "stdout",
     "output_type": "stream",
     "text": [
      "images found ['קורדיברו-19_2509.jpg']\n",
      "number of images found 1\n",
      "0 קורדיברו-19_2509.jpg\n"
     ]
    },
    {
     "data": {
      "text/plain": [
       "4422"
      ]
     },
     "execution_count": 178,
     "metadata": {},
     "output_type": "execute_result"
    },
    {
     "name": "stdout",
     "output_type": "stream",
     "text": [
      "images found ['יוסי-בן-יוסי-17_2510.jpg']\n",
      "number of images found 1\n",
      "0 יוסי-בן-יוסי-17_2510.jpg\n"
     ]
    },
    {
     "data": {
      "text/plain": [
       "4408"
      ]
     },
     "execution_count": 178,
     "metadata": {},
     "output_type": "execute_result"
    },
    {
     "name": "stdout",
     "output_type": "stream",
     "text": [
      "images found ['הרצל-28-יפו-32_2511.jpg']\n",
      "number of images found 1\n",
      "0 הרצל-28-יפו-32_2511.jpg\n"
     ]
    },
    {
     "data": {
      "text/plain": [
       "4431"
      ]
     },
     "execution_count": 178,
     "metadata": {},
     "output_type": "execute_result"
    },
    {
     "name": "stdout",
     "output_type": "stream",
     "text": [
      "images found ['הרצל-29_2512.jpg']\n",
      "number of images found 1\n",
      "0 הרצל-29_2512.jpg\n"
     ]
    },
    {
     "data": {
      "text/plain": [
       "4409"
      ]
     },
     "execution_count": 178,
     "metadata": {},
     "output_type": "execute_result"
    },
    {
     "name": "stdout",
     "output_type": "stream",
     "text": [
      "images found ['הקישון-36-וולפסון-7_2514.jpg']\n",
      "number of images found 1\n",
      "0 הקישון-36-וולפסון-7_2514.jpg\n"
     ]
    },
    {
     "data": {
      "text/plain": [
       "4424"
      ]
     },
     "execution_count": 178,
     "metadata": {},
     "output_type": "execute_result"
    },
    {
     "name": "stdout",
     "output_type": "stream",
     "text": [
      "images found []\n",
      "number of images found 0\n"
     ]
    },
    {
     "data": {
      "text/plain": [
       "4298"
      ]
     },
     "execution_count": 178,
     "metadata": {},
     "output_type": "execute_result"
    },
    {
     "name": "stdout",
     "output_type": "stream",
     "text": [
      "images found ['אוריאל-אקוסטה-15(1)_2518.jpg', 'אוריאל-אקוסטה-15_2518.jpg']\n",
      "number of images found 2\n",
      "0 אוריאל-אקוסטה-15(1)_2518.jpg\n",
      "1 אוריאל-אקוסטה-15_2518.jpg\n",
      "1 אוריאל-אקוסטה-15_2518.jpg\n"
     ]
    },
    {
     "data": {
      "text/plain": [
       "4630"
      ]
     },
     "execution_count": 178,
     "metadata": {},
     "output_type": "execute_result"
    },
    {
     "name": "stdout",
     "output_type": "stream",
     "text": [
      "images found ['הרצל-37-לווינסקי-22_2535.jpg']\n",
      "number of images found 1\n",
      "0 הרצל-37-לווינסקי-22_2535.jpg\n"
     ]
    },
    {
     "data": {
      "text/plain": [
       "4421"
      ]
     },
     "execution_count": 178,
     "metadata": {},
     "output_type": "execute_result"
    },
    {
     "name": "stdout",
     "output_type": "stream",
     "text": [
      "images found ['קורדיברו-20_2536.jpg']\n",
      "number of images found 1\n",
      "0 קורדיברו-20_2536.jpg\n"
     ]
    },
    {
     "data": {
      "text/plain": [
       "4422"
      ]
     },
     "execution_count": 178,
     "metadata": {},
     "output_type": "execute_result"
    },
    {
     "name": "stdout",
     "output_type": "stream",
     "text": [
      "images found ['אוז׳שקובה-2-פושקין-11-(חזית)_2538.jpg', 'אוז׳שקובה-2-פינת-פושקין-11_2538.jpg']\n",
      "number of images found 2\n",
      "0 אוז׳שקובה-2-פושקין-11-(חזית)_2538.jpg\n",
      "1 אוז׳שקובה-2-פינת-פושקין-11_2538.jpg\n",
      "1 אוז׳שקובה-2-פינת-פושקין-11_2538.jpg\n"
     ]
    },
    {
     "data": {
      "text/plain": [
       "4623"
      ]
     },
     "execution_count": 178,
     "metadata": {},
     "output_type": "execute_result"
    },
    {
     "name": "stdout",
     "output_type": "stream",
     "text": [
      "images found ['אוז׳שקובה-4_2556.jpg']\n",
      "number of images found 1\n",
      "0 אוז׳שקובה-4_2556.jpg\n"
     ]
    },
    {
     "data": {
      "text/plain": [
       "4410"
      ]
     },
     "execution_count": 178,
     "metadata": {},
     "output_type": "execute_result"
    },
    {
     "name": "stdout",
     "output_type": "stream",
     "text": [
      "images found ['הקישון-8_2562.jpg']\n",
      "number of images found 1\n",
      "0 הקישון-8_2562.jpg\n"
     ]
    },
    {
     "data": {
      "text/plain": [
       "4415"
      ]
     },
     "execution_count": 178,
     "metadata": {},
     "output_type": "execute_result"
    },
    {
     "name": "stdout",
     "output_type": "stream",
     "text": [
      "images found ['ידידיה-פרנקל-22_2566.jpg']\n",
      "number of images found 1\n",
      "0 ידידיה-פרנקל-22_2566.jpg\n"
     ]
    },
    {
     "data": {
      "text/plain": [
       "4434"
      ]
     },
     "execution_count": 178,
     "metadata": {},
     "output_type": "execute_result"
    },
    {
     "name": "stdout",
     "output_type": "stream",
     "text": [
      "images found ['שמואל-בן-עדיה-20-הקברנית-22_2571.jpg']\n",
      "number of images found 1\n",
      "0 שמואל-בן-עדיה-20-הקברנית-22_2571.jpg\n"
     ]
    },
    {
     "data": {
      "text/plain": [
       "4433"
      ]
     },
     "execution_count": 178,
     "metadata": {},
     "output_type": "execute_result"
    },
    {
     "name": "stdout",
     "output_type": "stream",
     "text": [
      "images found ['הקישון-63-פלורנטין-35_2572.jpg', 'יהושוע-בן-פרחיה-1-הגמנסיה-העברית-10_2572.jpg']\n",
      "number of images found 2\n",
      "0 הקישון-63-פלורנטין-35_2572.jpg\n",
      "1 יהושוע-בן-פרחיה-1-הגמנסיה-העברית-10_2572.jpg\n",
      "1 יהושוע-בן-פרחיה-1-הגמנסיה-העברית-10_2572.jpg\n"
     ]
    },
    {
     "data": {
      "text/plain": [
       "4634"
      ]
     },
     "execution_count": 178,
     "metadata": {},
     "output_type": "execute_result"
    },
    {
     "name": "stdout",
     "output_type": "stream",
     "text": [
      "images found ['הקישון-63-פלורנטין-35_2572.jpg', 'יהושוע-בן-פרחיה-1-הגמנסיה-העברית-10_2572.jpg']\n",
      "number of images found 2\n",
      "0 הקישון-63-פלורנטין-35_2572.jpg\n",
      "1 יהושוע-בן-פרחיה-1-הגמנסיה-העברית-10_2572.jpg\n",
      "1 יהושוע-בן-פרחיה-1-הגמנסיה-העברית-10_2572.jpg\n"
     ]
    },
    {
     "data": {
      "text/plain": [
       "4644"
      ]
     },
     "execution_count": 178,
     "metadata": {},
     "output_type": "execute_result"
    },
    {
     "name": "stdout",
     "output_type": "stream",
     "text": [
      "images found ['פלורנטין-37_2573.jpg']\n",
      "number of images found 1\n",
      "0 פלורנטין-37_2573.jpg\n"
     ]
    },
    {
     "data": {
      "text/plain": [
       "4423"
      ]
     },
     "execution_count": 178,
     "metadata": {},
     "output_type": "execute_result"
    },
    {
     "name": "stdout",
     "output_type": "stream",
     "text": [
      "images found ['הקישון-78_2574.jpg']\n",
      "number of images found 1\n",
      "0 הקישון-78_2574.jpg\n"
     ]
    },
    {
     "data": {
      "text/plain": [
       "4419"
      ]
     },
     "execution_count": 178,
     "metadata": {},
     "output_type": "execute_result"
    },
    {
     "name": "stdout",
     "output_type": "stream",
     "text": [
      "images found ['קדרון-21-23_2575.jpg']\n",
      "number of images found 1\n",
      "0 קדרון-21-23_2575.jpg\n"
     ]
    },
    {
     "data": {
      "text/plain": [
       "4395"
      ]
     },
     "execution_count": 178,
     "metadata": {},
     "output_type": "execute_result"
    },
    {
     "name": "stdout",
     "output_type": "stream",
     "text": [
      "images found ['הקישון-76_2576.jpg']\n",
      "number of images found 1\n",
      "0 הקישון-76_2576.jpg\n"
     ]
    },
    {
     "data": {
      "text/plain": [
       "4419"
      ]
     },
     "execution_count": 178,
     "metadata": {},
     "output_type": "execute_result"
    },
    {
     "name": "stdout",
     "output_type": "stream",
     "text": [
      "images found ['אילת-16_2577.jpg']\n",
      "number of images found 1\n",
      "0 אילת-16_2577.jpg\n"
     ]
    },
    {
     "data": {
      "text/plain": [
       "4410"
      ]
     },
     "execution_count": 178,
     "metadata": {},
     "output_type": "execute_result"
    },
    {
     "name": "stdout",
     "output_type": "stream",
     "text": [
      "images found ['הקישון-59_2588.jpg']\n",
      "number of images found 1\n",
      "0 הקישון-59_2588.jpg\n"
     ]
    },
    {
     "data": {
      "text/plain": [
       "4419"
      ]
     },
     "execution_count": 178,
     "metadata": {},
     "output_type": "execute_result"
    },
    {
     "name": "stdout",
     "output_type": "stream",
     "text": [
      "images found ['קורדיברו-15_2590.jpg']\n",
      "number of images found 1\n",
      "0 קורדיברו-15_2590.jpg\n"
     ]
    },
    {
     "data": {
      "text/plain": [
       "4422"
      ]
     },
     "execution_count": 178,
     "metadata": {},
     "output_type": "execute_result"
    },
    {
     "name": "stdout",
     "output_type": "stream",
     "text": [
      "images found ['יהודה-הימית-31_2597.jpg']\n",
      "number of images found 1\n",
      "0 יהודה-הימית-31_2597.jpg\n"
     ]
    },
    {
     "data": {
      "text/plain": [
       "4422"
      ]
     },
     "execution_count": 178,
     "metadata": {},
     "output_type": "execute_result"
    },
    {
     "name": "stdout",
     "output_type": "stream",
     "text": [
      "images found ['אבינרי-יצחק-6_2598.jpg']\n",
      "number of images found 1\n",
      "0 אבינרי-יצחק-6_2598.jpg\n"
     ]
    },
    {
     "data": {
      "text/plain": [
       "4422"
      ]
     },
     "execution_count": 178,
     "metadata": {},
     "output_type": "execute_result"
    },
    {
     "name": "stdout",
     "output_type": "stream",
     "text": [
      "images found ['ארליך-21-שבטי-ישראל-49_2599.jpg']\n",
      "number of images found 1\n",
      "0 ארליך-21-שבטי-ישראל-49_2599.jpg\n"
     ]
    },
    {
     "data": {
      "text/plain": [
       "4431"
      ]
     },
     "execution_count": 178,
     "metadata": {},
     "output_type": "execute_result"
    },
    {
     "name": "stdout",
     "output_type": "stream",
     "text": [
      "images found ['הקישון-77_2604.jpg']\n",
      "number of images found 1\n",
      "0 הקישון-77_2604.jpg\n"
     ]
    },
    {
     "data": {
      "text/plain": [
       "4419"
      ]
     },
     "execution_count": 178,
     "metadata": {},
     "output_type": "execute_result"
    },
    {
     "name": "stdout",
     "output_type": "stream",
     "text": [
      "images found ['העליה-60-פלורנטין-59_2607.jpg']\n",
      "number of images found 1\n",
      "0 העליה-60-פלורנטין-59_2607.jpg\n"
     ]
    },
    {
     "data": {
      "text/plain": [
       "4430"
      ]
     },
     "execution_count": 178,
     "metadata": {},
     "output_type": "execute_result"
    },
    {
     "name": "stdout",
     "output_type": "stream",
     "text": [
      "images found ['שערי-ניקנור-22_2608.jpg']\n",
      "number of images found 1\n",
      "0 שערי-ניקנור-22_2608.jpg\n"
     ]
    },
    {
     "data": {
      "text/plain": [
       "4418"
      ]
     },
     "execution_count": 178,
     "metadata": {},
     "output_type": "execute_result"
    },
    {
     "name": "stdout",
     "output_type": "stream",
     "text": [
      "images found ['שערי-ניקנור-15_2609.jpg']\n",
      "number of images found 1\n",
      "0 שערי-ניקנור-15_2609.jpg\n"
     ]
    },
    {
     "data": {
      "text/plain": [
       "4418"
      ]
     },
     "execution_count": 178,
     "metadata": {},
     "output_type": "execute_result"
    },
    {
     "name": "stdout",
     "output_type": "stream",
     "text": [
      "images found ['הקישון-3_2610.jpg', 'הקישון-5_2610.jpg']\n",
      "number of images found 2\n",
      "0 הקישון-3_2610.jpg\n",
      "1 הקישון-5_2610.jpg\n",
      "1 הקישון-5_2610.jpg\n"
     ]
    },
    {
     "data": {
      "text/plain": [
       "4591"
      ]
     },
     "execution_count": 178,
     "metadata": {},
     "output_type": "execute_result"
    },
    {
     "name": "stdout",
     "output_type": "stream",
     "text": [
      "images found ['לוינסקי-12-הקישון-12_2611.jpg']\n",
      "number of images found 1\n",
      "0 לוינסקי-12-הקישון-12_2611.jpg\n"
     ]
    },
    {
     "data": {
      "text/plain": [
       "4429"
      ]
     },
     "execution_count": 178,
     "metadata": {},
     "output_type": "execute_result"
    },
    {
     "name": "stdout",
     "output_type": "stream",
     "text": [
      "images found ['קדם-35-רב-חובל-11_2616.jpg']\n",
      "number of images found 1\n",
      "0 קדם-35-רב-חובל-11_2616.jpg\n"
     ]
    },
    {
     "data": {
      "text/plain": [
       "4398"
      ]
     },
     "execution_count": 178,
     "metadata": {},
     "output_type": "execute_result"
    },
    {
     "name": "stdout",
     "output_type": "stream",
     "text": [
      "images found ['קורדיברו-13_2617.jpg']\n",
      "number of images found 1\n",
      "0 קורדיברו-13_2617.jpg\n"
     ]
    },
    {
     "data": {
      "text/plain": [
       "4422"
      ]
     },
     "execution_count": 178,
     "metadata": {},
     "output_type": "execute_result"
    },
    {
     "name": "stdout",
     "output_type": "stream",
     "text": [
      "images found ['הקישון-45_2618.jpg']\n",
      "number of images found 1\n",
      "0 הקישון-45_2618.jpg\n"
     ]
    },
    {
     "data": {
      "text/plain": [
       "4418"
      ]
     },
     "execution_count": 178,
     "metadata": {},
     "output_type": "execute_result"
    },
    {
     "name": "stdout",
     "output_type": "stream",
     "text": [
      "images found ['ויקטור-הוגו-9_2621.jpg']\n",
      "number of images found 1\n",
      "0 ויקטור-הוגו-9_2621.jpg\n"
     ]
    },
    {
     "data": {
      "text/plain": [
       "4414"
      ]
     },
     "execution_count": 178,
     "metadata": {},
     "output_type": "execute_result"
    },
    {
     "name": "stdout",
     "output_type": "stream",
     "text": [
      "images found ['האתרוג-24-יאנוש-קורצאק-7-בית-פלט-37_2624.jpg']\n",
      "number of images found 1\n",
      "0 האתרוג-24-יאנוש-קורצאק-7-בית-פלט-37_2624.jpg\n"
     ]
    },
    {
     "data": {
      "text/plain": [
       "4433"
      ]
     },
     "execution_count": 178,
     "metadata": {},
     "output_type": "execute_result"
    },
    {
     "name": "stdout",
     "output_type": "stream",
     "text": [
      "images found ['הקישון-38-וולפסון-8_2625.jpg']\n",
      "number of images found 1\n",
      "0 הקישון-38-וולפסון-8_2625.jpg\n"
     ]
    },
    {
     "data": {
      "text/plain": [
       "4424"
      ]
     },
     "execution_count": 178,
     "metadata": {},
     "output_type": "execute_result"
    },
    {
     "name": "stdout",
     "output_type": "stream",
     "text": [
      "images found ['ידידיה-פרנקל-18_2628.jpg']\n",
      "number of images found 1\n",
      "0 ידידיה-פרנקל-18_2628.jpg\n"
     ]
    },
    {
     "data": {
      "text/plain": [
       "4434"
      ]
     },
     "execution_count": 178,
     "metadata": {},
     "output_type": "execute_result"
    },
    {
     "name": "stdout",
     "output_type": "stream",
     "text": [
      "images found ['המלך-חירם-15_2763.jpg']\n",
      "number of images found 1\n",
      "0 המלך-חירם-15_2763.jpg\n"
     ]
    },
    {
     "data": {
      "text/plain": [
       "4400"
      ]
     },
     "execution_count": 178,
     "metadata": {},
     "output_type": "execute_result"
    },
    {
     "name": "stdout",
     "output_type": "stream",
     "text": [
      "images found ['שמעון-הצדיק-19_2795.jpg']\n",
      "number of images found 1\n",
      "0 שמעון-הצדיק-19_2795.jpg\n"
     ]
    },
    {
     "data": {
      "text/plain": [
       "4433"
      ]
     },
     "execution_count": 178,
     "metadata": {},
     "output_type": "execute_result"
    },
    {
     "name": "stdout",
     "output_type": "stream",
     "text": [
      "images found ['הרצל-68-וולפסון-16_2797.jpg']\n",
      "number of images found 1\n",
      "0 הרצל-68-וולפסון-16_2797.jpg\n"
     ]
    },
    {
     "data": {
      "text/plain": [
       "4421"
      ]
     },
     "execution_count": 178,
     "metadata": {},
     "output_type": "execute_result"
    },
    {
     "name": "stdout",
     "output_type": "stream",
     "text": [
      "images found ['מזרחי-9-לוינסקי-19_2799.jpg']\n",
      "number of images found 1\n",
      "0 מזרחי-9-לוינסקי-19_2799.jpg\n"
     ]
    },
    {
     "data": {
      "text/plain": [
       "4422"
      ]
     },
     "execution_count": 178,
     "metadata": {},
     "output_type": "execute_result"
    },
    {
     "name": "stdout",
     "output_type": "stream",
     "text": [
      "images found ['בן-יאיר-פנחס-5-שמעון-הצדיק-20-יוהשע-בן-פרחיה-6_2803.jpg']\n",
      "number of images found 1\n",
      "0 בן-יאיר-פנחס-5-שמעון-הצדיק-20-יוהשע-בן-פרחיה-6_2803.jpg\n"
     ]
    },
    {
     "data": {
      "text/plain": [
       "4449"
      ]
     },
     "execution_count": 178,
     "metadata": {},
     "output_type": "execute_result"
    },
    {
     "name": "stdout",
     "output_type": "stream",
     "text": [
      "images found ['מזרחי-3_2805.jpg']\n",
      "number of images found 1\n",
      "0 מזרחי-3_2805.jpg\n"
     ]
    },
    {
     "data": {
      "text/plain": [
       "4410"
      ]
     },
     "execution_count": 178,
     "metadata": {},
     "output_type": "execute_result"
    },
    {
     "name": "stdout",
     "output_type": "stream",
     "text": [
      "images found ['ירושלים-6_2809.jpg', 'שמעון-בן-שטח-2(2)_2809.jpg']\n",
      "number of images found 2\n",
      "0 ירושלים-6_2809.jpg\n",
      "1 שמעון-בן-שטח-2(2)_2809.jpg\n",
      "1 שמעון-בן-שטח-2(2)_2809.jpg\n"
     ]
    },
    {
     "data": {
      "text/plain": [
       "4605"
      ]
     },
     "execution_count": 178,
     "metadata": {},
     "output_type": "execute_result"
    },
    {
     "name": "stdout",
     "output_type": "stream",
     "text": [
      "images found ['שמעון-בן-שטח-10(2)_2810.jpg', 'שמעון-בן-שטח-10_2810.jpg']\n",
      "number of images found 2\n",
      "0 שמעון-בן-שטח-10(2)_2810.jpg\n",
      "1 שמעון-בן-שטח-10_2810.jpg\n",
      "1 שמעון-בן-שטח-10_2810.jpg\n"
     ]
    },
    {
     "data": {
      "text/plain": [
       "4614"
      ]
     },
     "execution_count": 178,
     "metadata": {},
     "output_type": "execute_result"
    },
    {
     "name": "stdout",
     "output_type": "stream",
     "text": [
      "images found ['שמעון-בן-עזאי-5_2811.jpg']\n",
      "number of images found 1\n",
      "0 שמעון-בן-עזאי-5_2811.jpg\n"
     ]
    },
    {
     "data": {
      "text/plain": [
       "4406"
      ]
     },
     "execution_count": 178,
     "metadata": {},
     "output_type": "execute_result"
    },
    {
     "name": "stdout",
     "output_type": "stream",
     "text": [
      "images found ['שמעון-בן-גמליאל-2_2812.jpg']\n",
      "number of images found 1\n",
      "0 שמעון-בן-גמליאל-2_2812.jpg\n"
     ]
    },
    {
     "data": {
      "text/plain": [
       "4415"
      ]
     },
     "execution_count": 178,
     "metadata": {},
     "output_type": "execute_result"
    },
    {
     "name": "stdout",
     "output_type": "stream",
     "text": [
      "images found ['נועם-7(2)_2813.jpg', 'נועם-7_2813.jpg']\n",
      "number of images found 2\n",
      "0 נועם-7(2)_2813.jpg\n",
      "1 נועם-7_2813.jpg\n",
      "1 נועם-7_2813.jpg\n"
     ]
    },
    {
     "data": {
      "text/plain": [
       "4574"
      ]
     },
     "execution_count": 178,
     "metadata": {},
     "output_type": "execute_result"
    },
    {
     "name": "stdout",
     "output_type": "stream",
     "text": [
      "images found ['זבולון-13-לווינסקי-53_2822.jpg']\n",
      "number of images found 1\n",
      "0 זבולון-13-לווינסקי-53_2822.jpg\n"
     ]
    },
    {
     "data": {
      "text/plain": [
       "4429"
      ]
     },
     "execution_count": 178,
     "metadata": {},
     "output_type": "execute_result"
    },
    {
     "name": "stdout",
     "output_type": "stream",
     "text": [
      "images found ['דני-קיי-קמינסקי-6-10(2)_2823.jpg', 'דני-קיי-קמינסקי-6-10_2823.jpg']\n",
      "number of images found 2\n",
      "0 דני-קיי-קמינסקי-6-10(2)_2823.jpg\n",
      "1 דני-קיי-קמינסקי-6-10_2823.jpg\n",
      "1 דני-קיי-קמינסקי-6-10_2823.jpg\n"
     ]
    },
    {
     "data": {
      "text/plain": [
       "4626"
      ]
     },
     "execution_count": 178,
     "metadata": {},
     "output_type": "execute_result"
    },
    {
     "name": "stdout",
     "output_type": "stream",
     "text": [
      "images found ['חנניא-בן-דוסא-16-18-שמעון-בן-עזאי-3_2824.jpg']\n",
      "number of images found 1\n",
      "0 חנניא-בן-דוסא-16-18-שמעון-בן-עזאי-3_2824.jpg\n"
     ]
    },
    {
     "data": {
      "text/plain": [
       "4438"
      ]
     },
     "execution_count": 178,
     "metadata": {},
     "output_type": "execute_result"
    },
    {
     "name": "stdout",
     "output_type": "stream",
     "text": [
      "images found ['סלסלה-24-החרוב-1_2825.jpg']\n",
      "number of images found 1\n",
      "0 סלסלה-24-החרוב-1_2825.jpg\n"
     ]
    },
    {
     "data": {
      "text/plain": [
       "4401"
      ]
     },
     "execution_count": 178,
     "metadata": {},
     "output_type": "execute_result"
    },
    {
     "name": "stdout",
     "output_type": "stream",
     "text": [
      "images found ['שדרות-ירושלים-74_2828.jpg']\n",
      "number of images found 1\n",
      "0 שדרות-ירושלים-74_2828.jpg\n"
     ]
    },
    {
     "data": {
      "text/plain": [
       "4420"
      ]
     },
     "execution_count": 178,
     "metadata": {},
     "output_type": "execute_result"
    },
    {
     "name": "stdout",
     "output_type": "stream",
     "text": [
      "images found ['איילת-השחר-10-ראש-פינה-28_2833.jpg', 'אילת-השחר-10-ראש-פינה-28(2)_2833.jpg']\n",
      "number of images found 2\n",
      "0 איילת-השחר-10-ראש-פינה-28_2833.jpg\n",
      "1 אילת-השחר-10-ראש-פינה-28(2)_2833.jpg\n",
      "1 אילת-השחר-10-ראש-פינה-28(2)_2833.jpg\n"
     ]
    },
    {
     "data": {
      "text/plain": [
       "4630"
      ]
     },
     "execution_count": 178,
     "metadata": {},
     "output_type": "execute_result"
    },
    {
     "name": "stdout",
     "output_type": "stream",
     "text": [
      "images found ['כפר-גלעד-29-מטלון-20-פלורנטין_2838.jpg', 'כפר-גלעדי-29-מטלון-20_2838.jpg']\n",
      "number of images found 2\n",
      "0 כפר-גלעד-29-מטלון-20-פלורנטין_2838.jpg\n",
      "1 כפר-גלעדי-29-מטלון-20_2838.jpg\n",
      "1 כפר-גלעדי-29-מטלון-20_2838.jpg\n"
     ]
    },
    {
     "data": {
      "text/plain": [
       "4639"
      ]
     },
     "execution_count": 178,
     "metadata": {},
     "output_type": "execute_result"
    },
    {
     "name": "stdout",
     "output_type": "stream",
     "text": [
      "images found ['שדרות-וושינגטון-25_2841.jpg']\n",
      "number of images found 1\n",
      "0 שדרות-וושינגטון-25_2841.jpg\n"
     ]
    },
    {
     "data": {
      "text/plain": [
       "4448"
      ]
     },
     "execution_count": 178,
     "metadata": {},
     "output_type": "execute_result"
    },
    {
     "name": "stdout",
     "output_type": "stream",
     "text": [
      "images found ['כפר-גלעדי-18_2846.jpg']\n",
      "number of images found 1\n",
      "0 כפר-גלעדי-18_2846.jpg\n"
     ]
    },
    {
     "data": {
      "text/plain": [
       "4429"
      ]
     },
     "execution_count": 178,
     "metadata": {},
     "output_type": "execute_result"
    },
    {
     "name": "stdout",
     "output_type": "stream",
     "text": [
      "images found ['הרבי-מבכרך-42א_2847.jpg']\n",
      "number of images found 1\n",
      "0 הרבי-מבכרך-42א_2847.jpg\n"
     ]
    },
    {
     "data": {
      "text/plain": [
       "4409"
      ]
     },
     "execution_count": 178,
     "metadata": {},
     "output_type": "execute_result"
    },
    {
     "name": "stdout",
     "output_type": "stream",
     "text": [
      "images found ['החרוב-26_2853.jpg']\n",
      "number of images found 1\n",
      "0 החרוב-26_2853.jpg\n"
     ]
    },
    {
     "data": {
      "text/plain": [
       "4393"
      ]
     },
     "execution_count": 178,
     "metadata": {},
     "output_type": "execute_result"
    },
    {
     "name": "stdout",
     "output_type": "stream",
     "text": [
      "images found ['הלענה-3-הצרי-24_2855.jpg']\n",
      "number of images found 1\n",
      "0 הלענה-3-הצרי-24_2855.jpg\n"
     ]
    },
    {
     "data": {
      "text/plain": [
       "4401"
      ]
     },
     "execution_count": 178,
     "metadata": {},
     "output_type": "execute_result"
    },
    {
     "name": "stdout",
     "output_type": "stream",
     "text": [
      "images found ['הלוטוס-8_2857.jpg']\n",
      "number of images found 1\n",
      "0 הלוטוס-8_2857.jpg\n"
     ]
    },
    {
     "data": {
      "text/plain": [
       "4391"
      ]
     },
     "execution_count": 178,
     "metadata": {},
     "output_type": "execute_result"
    },
    {
     "name": "stdout",
     "output_type": "stream",
     "text": [
      "images found ['החרוב-2_2858.jpg']\n",
      "number of images found 1\n",
      "0 החרוב-2_2858.jpg\n"
     ]
    },
    {
     "data": {
      "text/plain": [
       "4391"
      ]
     },
     "execution_count": 178,
     "metadata": {},
     "output_type": "execute_result"
    },
    {
     "name": "stdout",
     "output_type": "stream",
     "text": [
      "images found ['חייבי-משה-8-התות-12-החרוב-37_2859.jpg']\n",
      "number of images found 1\n",
      "0 חייבי-משה-8-התות-12-החרוב-37_2859.jpg\n"
     ]
    },
    {
     "data": {
      "text/plain": [
       "4414"
      ]
     },
     "execution_count": 178,
     "metadata": {},
     "output_type": "execute_result"
    },
    {
     "name": "stdout",
     "output_type": "stream",
     "text": [
      "images found ['החרוב-44_2860.jpg']\n",
      "number of images found 1\n",
      "0 החרוב-44_2860.jpg\n"
     ]
    },
    {
     "data": {
      "text/plain": [
       "4394"
      ]
     },
     "execution_count": 178,
     "metadata": {},
     "output_type": "execute_result"
    },
    {
     "name": "stdout",
     "output_type": "stream",
     "text": [
      "images found ['הגמנסיה-העברית-5-יועזר-איש-הבירה-7-המלך-חירם-4_12861.jpg', 'רזיאל-דוד-27-29(2)_2861.jpg', 'רזיאל-דוד-27-29_2861.jpg']\n",
      "number of images found 3\n",
      "0 הגמנסיה-העברית-5-יועזר-איש-הבירה-7-המלך-חירם-4_12861.jpg\n",
      "1 רזיאל-דוד-27-29(2)_2861.jpg\n",
      "2 רזיאל-דוד-27-29_2861.jpg\n",
      "1 רזיאל-דוד-27-29(2)_2861.jpg\n",
      "2 רזיאל-דוד-27-29_2861.jpg\n"
     ]
    },
    {
     "data": {
      "text/plain": [
       "4813"
      ]
     },
     "execution_count": 178,
     "metadata": {},
     "output_type": "execute_result"
    },
    {
     "name": "stdout",
     "output_type": "stream",
     "text": [
      "images found ['חנניא-בן-דוסא-26_2866.jpg']\n",
      "number of images found 1\n",
      "0 חנניא-בן-דוסא-26_2866.jpg\n"
     ]
    },
    {
     "data": {
      "text/plain": [
       "4421"
      ]
     },
     "execution_count": 178,
     "metadata": {},
     "output_type": "execute_result"
    },
    {
     "name": "stdout",
     "output_type": "stream",
     "text": [
      "images found ['יפת 51-אבינרי-יצחק-1_2867.jpg', 'יפת-51-אבינרי-יצחק-1_2867.jpg']\n",
      "number of images found 2\n",
      "0 יפת 51-אבינרי-יצחק-1_2867.jpg\n",
      "1 יפת-51-אבינרי-יצחק-1_2867.jpg\n",
      "1 יפת-51-אבינרי-יצחק-1_2867.jpg\n"
     ]
    },
    {
     "data": {
      "text/plain": [
       "4597"
      ]
     },
     "execution_count": 178,
     "metadata": {},
     "output_type": "execute_result"
    },
    {
     "name": "stdout",
     "output_type": "stream",
     "text": [
      "images found ['שמעון-בן-עזאי-2-חנניה-בן-דוסא-20_2868.jpg']\n",
      "number of images found 1\n",
      "0 שמעון-בן-עזאי-2-חנניה-בן-דוסא-20_2868.jpg\n"
     ]
    },
    {
     "data": {
      "text/plain": [
       "4435"
      ]
     },
     "execution_count": 178,
     "metadata": {},
     "output_type": "execute_result"
    },
    {
     "name": "stdout",
     "output_type": "stream",
     "text": [
      "images found ['רזיאל-דוד-4_2871.jpg']\n",
      "number of images found 1\n",
      "0 רזיאל-דוד-4_2871.jpg\n"
     ]
    },
    {
     "data": {
      "text/plain": [
       "4393"
      ]
     },
     "execution_count": 178,
     "metadata": {},
     "output_type": "execute_result"
    },
    {
     "name": "stdout",
     "output_type": "stream",
     "text": [
      "images found ['רזיאל-8_2873.jpg']\n",
      "number of images found 1\n",
      "0 רזיאל-8_2873.jpg\n"
     ]
    },
    {
     "data": {
      "text/plain": [
       "4389"
      ]
     },
     "execution_count": 178,
     "metadata": {},
     "output_type": "execute_result"
    },
    {
     "name": "stdout",
     "output_type": "stream",
     "text": [
      "images found ['יהודה-מרגוזה-1-3_2882.jpg', 'יהודה-מרגוזה-38_12882.jpg']\n",
      "number of images found 2\n",
      "0 יהודה-מרגוזה-1-3_2882.jpg\n",
      "1 יהודה-מרגוזה-38_12882.jpg\n",
      "1 יהודה-מרגוזה-38_12882.jpg\n"
     ]
    },
    {
     "data": {
      "text/plain": [
       "4603"
      ]
     },
     "execution_count": 178,
     "metadata": {},
     "output_type": "execute_result"
    },
    {
     "name": "stdout",
     "output_type": "stream",
     "text": [
      "images found ['בן-אחיטוב-17_2886.jpg']\n",
      "number of images found 1\n",
      "0 בן-אחיטוב-17_2886.jpg\n"
     ]
    },
    {
     "data": {
      "text/plain": [
       "4402"
      ]
     },
     "execution_count": 178,
     "metadata": {},
     "output_type": "execute_result"
    },
    {
     "name": "stdout",
     "output_type": "stream",
     "text": [
      "images found ['למרטין-16_2905.jpg']\n",
      "number of images found 1\n",
      "0 למרטין-16_2905.jpg\n"
     ]
    },
    {
     "data": {
      "text/plain": [
       "4410"
      ]
     },
     "execution_count": 178,
     "metadata": {},
     "output_type": "execute_result"
    },
    {
     "name": "stdout",
     "output_type": "stream",
     "text": [
      "images found ['המגיד-מדובנא-4_2914.jpg', 'שמעון-הצדיק-17-אבטליון-2_12914.jpg']\n",
      "number of images found 2\n",
      "0 המגיד-מדובנא-4_2914.jpg\n",
      "1 שמעון-הצדיק-17-אבטליון-2_12914.jpg\n",
      "1 שמעון-הצדיק-17-אבטליון-2_12914.jpg\n"
     ]
    },
    {
     "data": {
      "text/plain": [
       "4614"
      ]
     },
     "execution_count": 178,
     "metadata": {},
     "output_type": "execute_result"
    },
    {
     "name": "stdout",
     "output_type": "stream",
     "text": [
      "images found ['לוינסקי-24_2917.jpg']\n",
      "number of images found 1\n",
      "0 לוינסקי-24_2917.jpg\n"
     ]
    },
    {
     "data": {
      "text/plain": [
       "4419"
      ]
     },
     "execution_count": 178,
     "metadata": {},
     "output_type": "execute_result"
    },
    {
     "name": "stdout",
     "output_type": "stream",
     "text": [
      "images found ['הרצל-49-מטלון-23_2918.jpg']\n",
      "number of images found 1\n",
      "0 הרצל-49-מטלון-23_2918.jpg\n"
     ]
    },
    {
     "data": {
      "text/plain": [
       "4417"
      ]
     },
     "execution_count": 178,
     "metadata": {},
     "output_type": "execute_result"
    },
    {
     "name": "stdout",
     "output_type": "stream",
     "text": [
      "images found ['יפו-22-מזרחי-1_2919.jpg']\n",
      "number of images found 1\n",
      "0 יפו-22-מזרחי-1_2919.jpg\n"
     ]
    },
    {
     "data": {
      "text/plain": [
       "4418"
      ]
     },
     "execution_count": 178,
     "metadata": {},
     "output_type": "execute_result"
    },
    {
     "name": "stdout",
     "output_type": "stream",
     "text": [
      "images found ['נחלת-בניימין-84-לוינסקי-47_2920.jpg']\n",
      "number of images found 1\n",
      "0 נחלת-בניימין-84-לוינסקי-47_2920.jpg\n"
     ]
    },
    {
     "data": {
      "text/plain": [
       "4450"
      ]
     },
     "execution_count": 178,
     "metadata": {},
     "output_type": "execute_result"
    },
    {
     "name": "stdout",
     "output_type": "stream",
     "text": [
      "images found ['לוינסקי-34_2927.jpg']\n",
      "number of images found 1\n",
      "0 לוינסקי-34_2927.jpg\n"
     ]
    },
    {
     "data": {
      "text/plain": [
       "4415"
      ]
     },
     "execution_count": 178,
     "metadata": {},
     "output_type": "execute_result"
    },
    {
     "name": "stdout",
     "output_type": "stream",
     "text": [
      "images found ['החלוצים-22-מטלון-43_2942.jpg', 'שבטי-ישראל-25_12942.jpg']\n",
      "number of images found 2\n",
      "0 החלוצים-22-מטלון-43_2942.jpg\n",
      "1 שבטי-ישראל-25_12942.jpg\n",
      "1 שבטי-ישראל-25_12942.jpg\n"
     ]
    },
    {
     "data": {
      "text/plain": [
       "4608"
      ]
     },
     "execution_count": 178,
     "metadata": {},
     "output_type": "execute_result"
    },
    {
     "name": "stdout",
     "output_type": "stream",
     "text": [
      "images found ['מרחביה-12-לוינסקי-43_2944.jpg']\n",
      "number of images found 1\n",
      "0 מרחביה-12-לוינסקי-43_2944.jpg\n"
     ]
    },
    {
     "data": {
      "text/plain": [
       "4425"
      ]
     },
     "execution_count": 178,
     "metadata": {},
     "output_type": "execute_result"
    },
    {
     "name": "stdout",
     "output_type": "stream",
     "text": [
      "images found ['צנובר-4-דודאים-4_2952.jpg']\n",
      "number of images found 1\n",
      "0 צנובר-4-דודאים-4_2952.jpg\n"
     ]
    },
    {
     "data": {
      "text/plain": [
       "4398"
      ]
     },
     "execution_count": 178,
     "metadata": {},
     "output_type": "execute_result"
    },
    {
     "name": "stdout",
     "output_type": "stream",
     "text": [
      "images found ['אילת-50-אברבנאל-2_2954.jpg']\n",
      "number of images found 1\n",
      "0 אילת-50-אברבנאל-2_2954.jpg\n"
     ]
    },
    {
     "data": {
      "text/plain": [
       "4393"
      ]
     },
     "execution_count": 178,
     "metadata": {},
     "output_type": "execute_result"
    },
    {
     "name": "stdout",
     "output_type": "stream",
     "text": [
      "images found ['החלוצים-32_12962.jpg', 'יפו-42_2962.jpg']\n",
      "number of images found 2\n",
      "0 החלוצים-32_12962.jpg\n",
      "1 יפו-42_2962.jpg\n",
      "1 יפו-42_2962.jpg\n"
     ]
    },
    {
     "data": {
      "text/plain": [
       "4603"
      ]
     },
     "execution_count": 178,
     "metadata": {},
     "output_type": "execute_result"
    },
    {
     "name": "stdout",
     "output_type": "stream",
     "text": [
      "images found ['שדרות-וושינגטון-19_2974.jpg']\n",
      "number of images found 1\n",
      "0 שדרות-וושינגטון-19_2974.jpg\n"
     ]
    },
    {
     "data": {
      "text/plain": [
       "4446"
      ]
     },
     "execution_count": 178,
     "metadata": {},
     "output_type": "execute_result"
    },
    {
     "name": "stdout",
     "output_type": "stream",
     "text": [
      "images found ['הרבי-מבכרך-32_2975.jpg']\n",
      "number of images found 1\n",
      "0 הרבי-מבכרך-32_2975.jpg\n"
     ]
    },
    {
     "data": {
      "text/plain": [
       "4411"
      ]
     },
     "execution_count": 178,
     "metadata": {},
     "output_type": "execute_result"
    },
    {
     "name": "stdout",
     "output_type": "stream",
     "text": [
      "images found ['איילת-השחר-7-ראש פינה-26_2983.jpg', 'וולפסון-13-כפר-גלעדי-37_12983.jpg']\n",
      "number of images found 2\n",
      "0 איילת-השחר-7-ראש פינה-26_2983.jpg\n",
      "1 וולפסון-13-כפר-גלעדי-37_12983.jpg\n",
      "1 וולפסון-13-כפר-גלעדי-37_12983.jpg\n"
     ]
    },
    {
     "data": {
      "text/plain": [
       "4625"
      ]
     },
     "execution_count": 178,
     "metadata": {},
     "output_type": "execute_result"
    },
    {
     "name": "stdout",
     "output_type": "stream",
     "text": [
      "images found ['לוינסקי-8-מזרחי-10_2995.jpg']\n",
      "number of images found 1\n",
      "0 לוינסקי-8-מזרחי-10_2995.jpg\n"
     ]
    },
    {
     "data": {
      "text/plain": [
       "4425"
      ]
     },
     "execution_count": 178,
     "metadata": {},
     "output_type": "execute_result"
    },
    {
     "name": "stdout",
     "output_type": "stream",
     "text": [
      "images found []\n",
      "number of images found 0\n"
     ]
    },
    {
     "data": {
      "text/plain": [
       "4301"
      ]
     },
     "execution_count": 178,
     "metadata": {},
     "output_type": "execute_result"
    },
    {
     "name": "stdout",
     "output_type": "stream",
     "text": [
      "images found ['הספינה-17_3008.jpg']\n",
      "number of images found 1\n",
      "0 הספינה-17_3008.jpg\n"
     ]
    },
    {
     "data": {
      "text/plain": [
       "4397"
      ]
     },
     "execution_count": 178,
     "metadata": {},
     "output_type": "execute_result"
    },
    {
     "name": "stdout",
     "output_type": "stream",
     "text": [
      "images found ['סלסלה-16-הערמון-2_3010.jpg']\n",
      "number of images found 1\n",
      "0 סלסלה-16-הערמון-2_3010.jpg\n"
     ]
    },
    {
     "data": {
      "text/plain": [
       "4401"
      ]
     },
     "execution_count": 178,
     "metadata": {},
     "output_type": "execute_result"
    },
    {
     "name": "stdout",
     "output_type": "stream",
     "text": [
      "images found ['עולי-ציו- 36(2)_3019.jpg', 'עולי-ציון-36_3019.jpg']\n",
      "number of images found 2\n",
      "0 עולי-ציו- 36(2)_3019.jpg\n",
      "1 עולי-ציון-36_3019.jpg\n",
      "1 עולי-ציון-36_3019.jpg\n"
     ]
    },
    {
     "data": {
      "text/plain": [
       "4575"
      ]
     },
     "execution_count": 178,
     "metadata": {},
     "output_type": "execute_result"
    },
    {
     "name": "stdout",
     "output_type": "stream",
     "text": [
      "images found []\n",
      "number of images found 0\n"
     ]
    },
    {
     "data": {
      "text/plain": [
       "4296"
      ]
     },
     "execution_count": 178,
     "metadata": {},
     "output_type": "execute_result"
    },
    {
     "name": "stdout",
     "output_type": "stream",
     "text": [
      "images found ['מיכאלאנג׳לו-33_3021.jpg', 'מיכאלנג׳לו-33_3021.jpg']\n",
      "number of images found 2\n",
      "0 מיכאלאנג׳לו-33_3021.jpg\n",
      "1 מיכאלנג׳לו-33_3021.jpg\n",
      "1 מיכאלנג׳לו-33_3021.jpg\n"
     ]
    },
    {
     "data": {
      "text/plain": [
       "4585"
      ]
     },
     "execution_count": 178,
     "metadata": {},
     "output_type": "execute_result"
    },
    {
     "name": "stdout",
     "output_type": "stream",
     "text": [
      "images found []\n",
      "number of images found 0\n"
     ]
    },
    {
     "data": {
      "text/plain": [
       "4316"
      ]
     },
     "execution_count": 178,
     "metadata": {},
     "output_type": "execute_result"
    },
    {
     "name": "stdout",
     "output_type": "stream",
     "text": [
      "images found ['הדואר-12-14_6277.jpg']\n",
      "number of images found 1\n",
      "0 הדואר-12-14_6277.jpg\n"
     ]
    },
    {
     "data": {
      "text/plain": [
       "4389"
      ]
     },
     "execution_count": 178,
     "metadata": {},
     "output_type": "execute_result"
    },
    {
     "name": "stdout",
     "output_type": "stream",
     "text": [
      "images found ['אוריאל-אקוסטה-16_6383.jpg']\n",
      "number of images found 1\n",
      "0 אוריאל-אקוסטה-16_6383.jpg\n"
     ]
    },
    {
     "data": {
      "text/plain": [
       "4438"
      ]
     },
     "execution_count": 178,
     "metadata": {},
     "output_type": "execute_result"
    },
    {
     "name": "stdout",
     "output_type": "stream",
     "text": [
      "images found ['הרצל-34_6387.jpg']\n",
      "number of images found 1\n",
      "0 הרצל-34_6387.jpg\n"
     ]
    },
    {
     "data": {
      "text/plain": [
       "4410"
      ]
     },
     "execution_count": 178,
     "metadata": {},
     "output_type": "execute_result"
    },
    {
     "name": "stdout",
     "output_type": "stream",
     "text": [
      "images found ['שערי-ניקנור-7_6391.jpg']\n",
      "number of images found 1\n",
      "0 שערי-ניקנור-7_6391.jpg\n"
     ]
    },
    {
     "data": {
      "text/plain": [
       "4415"
      ]
     },
     "execution_count": 178,
     "metadata": {},
     "output_type": "execute_result"
    },
    {
     "name": "stdout",
     "output_type": "stream",
     "text": [
      "images found ['קורדיברו-8_6392.jpg']\n",
      "number of images found 1\n",
      "0 קורדיברו-8_6392.jpg\n"
     ]
    },
    {
     "data": {
      "text/plain": [
       "4418"
      ]
     },
     "execution_count": 178,
     "metadata": {},
     "output_type": "execute_result"
    },
    {
     "name": "stdout",
     "output_type": "stream",
     "text": [
      "images found ['נחלת-בניימין-123-וולפסון-31_6393.jpg']\n",
      "number of images found 1\n",
      "0 נחלת-בניימין-123-וולפסון-31_6393.jpg\n"
     ]
    },
    {
     "data": {
      "text/plain": [
       "4453"
      ]
     },
     "execution_count": 178,
     "metadata": {},
     "output_type": "execute_result"
    },
    {
     "name": "stdout",
     "output_type": "stream",
     "text": [
      "images found []\n",
      "number of images found 0\n"
     ]
    },
    {
     "data": {
      "text/plain": [
       "4300"
      ]
     },
     "execution_count": 178,
     "metadata": {},
     "output_type": "execute_result"
    },
    {
     "name": "stdout",
     "output_type": "stream",
     "text": [
      "images found ['קורדיברו-7_6397.jpg']\n",
      "number of images found 1\n",
      "0 קורדיברו-7_6397.jpg\n"
     ]
    },
    {
     "data": {
      "text/plain": [
       "4419"
      ]
     },
     "execution_count": 178,
     "metadata": {},
     "output_type": "execute_result"
    },
    {
     "name": "stdout",
     "output_type": "stream",
     "text": [
      "images found ['אוריאל-אקוסטה-18-פרנקל-ידידיה-31(2)_6399.jpg', 'אוריאל-אקוסטה-18-פרנקל-ידידיה-31_6399.jpg']\n",
      "number of images found 2\n",
      "0 אוריאל-אקוסטה-18-פרנקל-ידידיה-31(2)_6399.jpg\n",
      "1 אוריאל-אקוסטה-18-פרנקל-ידידיה-31_6399.jpg\n",
      "1 אוריאל-אקוסטה-18-פרנקל-ידידיה-31_6399.jpg\n"
     ]
    },
    {
     "data": {
      "text/plain": [
       "4709"
      ]
     },
     "execution_count": 178,
     "metadata": {},
     "output_type": "execute_result"
    },
    {
     "name": "stdout",
     "output_type": "stream",
     "text": [
      "images found ['יפת-54-דה-רוטשילד-בת-שבע-1_6401.jpg']\n",
      "number of images found 1\n",
      "0 יפת-54-דה-רוטשילד-בת-שבע-1_6401.jpg\n"
     ]
    },
    {
     "data": {
      "text/plain": [
       "4408"
      ]
     },
     "execution_count": 178,
     "metadata": {},
     "output_type": "execute_result"
    },
    {
     "name": "stdout",
     "output_type": "stream",
     "text": [
      "images found ['אוריאל-אקוסטה-20-פרנקל-ידידיה-33(2)_6403.jpg', 'אוריאל-אקוסטה-20-פרנקל-ידידיה-33_6403.jpg']\n",
      "number of images found 2\n",
      "0 אוריאל-אקוסטה-20-פרנקל-ידידיה-33(2)_6403.jpg\n",
      "1 אוריאל-אקוסטה-20-פרנקל-ידידיה-33_6403.jpg\n",
      "1 אוריאל-אקוסטה-20-פרנקל-ידידיה-33_6403.jpg\n"
     ]
    },
    {
     "data": {
      "text/plain": [
       "4709"
      ]
     },
     "execution_count": 178,
     "metadata": {},
     "output_type": "execute_result"
    },
    {
     "name": "stdout",
     "output_type": "stream",
     "text": [
      "images found ['שערי-ניקנור-9-שמואל-בן-עדיה-1_6405.jpg']\n",
      "number of images found 1\n",
      "0 שערי-ניקנור-9-שמואל-בן-עדיה-1_6405.jpg\n"
     ]
    },
    {
     "data": {
      "text/plain": [
       "4430"
      ]
     },
     "execution_count": 178,
     "metadata": {},
     "output_type": "execute_result"
    },
    {
     "name": "stdout",
     "output_type": "stream",
     "text": [
      "images found ['ידידיה-פרנקל-27_6410.jpg']\n",
      "number of images found 1\n",
      "0 ידידיה-פרנקל-27_6410.jpg\n"
     ]
    },
    {
     "data": {
      "text/plain": [
       "4466"
      ]
     },
     "execution_count": 178,
     "metadata": {},
     "output_type": "execute_result"
    },
    {
     "name": "stdout",
     "output_type": "stream",
     "text": [
      "images found ['ויקטור-הוגו-16_6412.jpg']\n",
      "number of images found 1\n",
      "0 ויקטור-הוגו-16_6412.jpg\n"
     ]
    },
    {
     "data": {
      "text/plain": [
       "4417"
      ]
     },
     "execution_count": 178,
     "metadata": {},
     "output_type": "execute_result"
    },
    {
     "name": "stdout",
     "output_type": "stream",
     "text": [
      "images found ['יהודה-הימית-29_6416.jpg']\n",
      "number of images found 1\n",
      "0 יהודה-הימית-29_6416.jpg\n"
     ]
    },
    {
     "data": {
      "text/plain": [
       "4422"
      ]
     },
     "execution_count": 178,
     "metadata": {},
     "output_type": "execute_result"
    },
    {
     "name": "stdout",
     "output_type": "stream",
     "text": [
      "images found []\n",
      "number of images found 0\n"
     ]
    },
    {
     "data": {
      "text/plain": [
       "4300"
      ]
     },
     "execution_count": 178,
     "metadata": {},
     "output_type": "execute_result"
    },
    {
     "name": "stdout",
     "output_type": "stream",
     "text": [
      "images found ['ידידה-פרנקל-28-שטרן-אברהם-1_6419.jpg']\n",
      "number of images found 1\n",
      "0 ידידה-פרנקל-28-שטרן-אברהם-1_6419.jpg\n"
     ]
    },
    {
     "data": {
      "text/plain": [
       "4479"
      ]
     },
     "execution_count": 178,
     "metadata": {},
     "output_type": "execute_result"
    },
    {
     "name": "stdout",
     "output_type": "stream",
     "text": [
      "images found ['הרצל-32_6431.jpg']\n",
      "number of images found 1\n",
      "0 הרצל-32_6431.jpg\n"
     ]
    },
    {
     "data": {
      "text/plain": [
       "4410"
      ]
     },
     "execution_count": 178,
     "metadata": {},
     "output_type": "execute_result"
    },
    {
     "name": "stdout",
     "output_type": "stream",
     "text": [
      "images found ['קורדיברו-5_6432.jpg']\n",
      "number of images found 1\n",
      "0 קורדיברו-5_6432.jpg\n"
     ]
    },
    {
     "data": {
      "text/plain": [
       "4419"
      ]
     },
     "execution_count": 178,
     "metadata": {},
     "output_type": "execute_result"
    },
    {
     "name": "stdout",
     "output_type": "stream",
     "text": [
      "images found ['ידידיה-פרנקל-24_6438.jpg']\n",
      "number of images found 1\n",
      "0 ידידיה-פרנקל-24_6438.jpg\n"
     ]
    },
    {
     "data": {
      "text/plain": [
       "4434"
      ]
     },
     "execution_count": 178,
     "metadata": {},
     "output_type": "execute_result"
    },
    {
     "name": "stdout",
     "output_type": "stream",
     "text": [
      "images found ['ידידיה-פרנקל-23_6439.jpg']\n",
      "number of images found 1\n",
      "0 ידידיה-פרנקל-23_6439.jpg\n"
     ]
    },
    {
     "data": {
      "text/plain": [
       "4466"
      ]
     },
     "execution_count": 178,
     "metadata": {},
     "output_type": "execute_result"
    },
    {
     "name": "stdout",
     "output_type": "stream",
     "text": [
      "images found ['ארליך-18_6458.jpg']\n",
      "number of images found 1\n",
      "0 ארליך-18_6458.jpg\n"
     ]
    },
    {
     "data": {
      "text/plain": [
       "4409"
      ]
     },
     "execution_count": 178,
     "metadata": {},
     "output_type": "execute_result"
    },
    {
     "name": "stdout",
     "output_type": "stream",
     "text": [
      "images found ['הקישון-9-לוינסקי-23_6461.jpg']\n",
      "number of images found 1\n",
      "0 הקישון-9-לוינסקי-23_6461.jpg\n"
     ]
    },
    {
     "data": {
      "text/plain": [
       "4428"
      ]
     },
     "execution_count": 178,
     "metadata": {},
     "output_type": "execute_result"
    },
    {
     "name": "stdout",
     "output_type": "stream",
     "text": [
      "images found ['הקישון-72_6463.jpg']\n",
      "number of images found 1\n",
      "0 הקישון-72_6463.jpg\n"
     ]
    },
    {
     "data": {
      "text/plain": [
       "4419"
      ]
     },
     "execution_count": 178,
     "metadata": {},
     "output_type": "execute_result"
    },
    {
     "name": "stdout",
     "output_type": "stream",
     "text": [
      "images found ['הקישון-74_6464.jpg']\n",
      "number of images found 1\n",
      "0 הקישון-74_6464.jpg\n"
     ]
    },
    {
     "data": {
      "text/plain": [
       "4419"
      ]
     },
     "execution_count": 178,
     "metadata": {},
     "output_type": "execute_result"
    },
    {
     "name": "stdout",
     "output_type": "stream",
     "text": [
      "images found ['ידידיה-פרנקל-16_6467.jpg']\n",
      "number of images found 1\n",
      "0 ידידיה-פרנקל-16_6467.jpg\n"
     ]
    },
    {
     "data": {
      "text/plain": [
       "4434"
      ]
     },
     "execution_count": 178,
     "metadata": {},
     "output_type": "execute_result"
    },
    {
     "name": "stdout",
     "output_type": "stream",
     "text": [
      "images found ['קורדיברו-14_6473.jpg']\n",
      "number of images found 1\n",
      "0 קורדיברו-14_6473.jpg\n"
     ]
    },
    {
     "data": {
      "text/plain": [
       "4422"
      ]
     },
     "execution_count": 178,
     "metadata": {},
     "output_type": "execute_result"
    },
    {
     "name": "stdout",
     "output_type": "stream",
     "text": [
      "images found ['הקישון-48-ידידה-פרנקל-32_6476.jpg']\n",
      "number of images found 1\n",
      "0 הקישון-48-ידידה-פרנקל-32_6476.jpg\n"
     ]
    },
    {
     "data": {
      "text/plain": [
       "4445"
      ]
     },
     "execution_count": 178,
     "metadata": {},
     "output_type": "execute_result"
    },
    {
     "name": "stdout",
     "output_type": "stream",
     "text": [
      "images found ['ארליך-27_6481.jpg']\n",
      "number of images found 1\n",
      "0 ארליך-27_6481.jpg\n"
     ]
    },
    {
     "data": {
      "text/plain": [
       "4409"
      ]
     },
     "execution_count": 178,
     "metadata": {},
     "output_type": "execute_result"
    },
    {
     "name": "stdout",
     "output_type": "stream",
     "text": [
      "images found ['הקישון-50_6488.jpg']\n",
      "number of images found 1\n",
      "0 הקישון-50_6488.jpg\n"
     ]
    },
    {
     "data": {
      "text/plain": [
       "4419"
      ]
     },
     "execution_count": 178,
     "metadata": {},
     "output_type": "execute_result"
    },
    {
     "name": "stdout",
     "output_type": "stream",
     "text": [
      "images found ['הדולפין-11_6748.jpg']\n",
      "number of images found 1\n",
      "0 הדולפין-11_6748.jpg\n"
     ]
    },
    {
     "data": {
      "text/plain": [
       "4396"
      ]
     },
     "execution_count": 178,
     "metadata": {},
     "output_type": "execute_result"
    },
    {
     "name": "stdout",
     "output_type": "stream",
     "text": [
      "images found ['האגוז-17-שלוחות-1-הצרי-12-החילוף-22_6789.jpg']\n",
      "number of images found 1\n",
      "0 האגוז-17-שלוחות-1-הצרי-12-החילוף-22_6789.jpg\n"
     ]
    },
    {
     "data": {
      "text/plain": [
       "4417"
      ]
     },
     "execution_count": 178,
     "metadata": {},
     "output_type": "execute_result"
    },
    {
     "name": "stdout",
     "output_type": "stream",
     "text": [
      "images found ['דנטה-17_6799.jpg']\n",
      "number of images found 1\n",
      "0 דנטה-17_6799.jpg\n"
     ]
    },
    {
     "data": {
      "text/plain": [
       "4406"
      ]
     },
     "execution_count": 178,
     "metadata": {},
     "output_type": "execute_result"
    },
    {
     "name": "stdout",
     "output_type": "stream",
     "text": [
      "images found ['יהודה-הימית-5_6800.jpg']\n",
      "number of images found 1\n",
      "0 יהודה-הימית-5_6800.jpg\n"
     ]
    },
    {
     "data": {
      "text/plain": [
       "4427"
      ]
     },
     "execution_count": 178,
     "metadata": {},
     "output_type": "execute_result"
    },
    {
     "name": "stdout",
     "output_type": "stream",
     "text": [
      "images found ['רזיאל-דוד-21-23_6801.jpg']\n",
      "number of images found 1\n",
      "0 רזיאל-דוד-21-23_6801.jpg\n"
     ]
    },
    {
     "data": {
      "text/plain": [
       "4430"
      ]
     },
     "execution_count": 178,
     "metadata": {},
     "output_type": "execute_result"
    },
    {
     "name": "stdout",
     "output_type": "stream",
     "text": [
      "images found ['שמעון-הצדיק 12-14-שמעיה-8_6802.jpg', 'שמעון-הצדיק-12-14-שמעיה-8(2)_6802.jpg']\n",
      "number of images found 2\n",
      "0 שמעון-הצדיק 12-14-שמעיה-8_6802.jpg\n",
      "1 שמעון-הצדיק-12-14-שמעיה-8(2)_6802.jpg\n",
      "1 שמעון-הצדיק-12-14-שמעיה-8(2)_6802.jpg\n"
     ]
    },
    {
     "data": {
      "text/plain": [
       "4630"
      ]
     },
     "execution_count": 178,
     "metadata": {},
     "output_type": "execute_result"
    },
    {
     "name": "stdout",
     "output_type": "stream",
     "text": [
      "images found ['שלמה-19-וסרמן-יעקו-2(2)_6803.jpg', 'שלמה-19-וסרמן-יעקוב-2_6803.jpg']\n",
      "number of images found 2\n",
      "0 שלמה-19-וסרמן-יעקו-2(2)_6803.jpg\n",
      "1 שלמה-19-וסרמן-יעקוב-2_6803.jpg\n",
      "1 שלמה-19-וסרמן-יעקוב-2_6803.jpg\n"
     ]
    },
    {
     "data": {
      "text/plain": [
       "4608"
      ]
     },
     "execution_count": 178,
     "metadata": {},
     "output_type": "execute_result"
    },
    {
     "name": "stdout",
     "output_type": "stream",
     "text": [
      "images found ['יפת-21(2)_6812.jpg', 'יפת-21(3)_6812.jpg']\n",
      "number of images found 2\n",
      "0 יפת-21(2)_6812.jpg\n",
      "1 יפת-21(3)_6812.jpg\n",
      "1 יפת-21(3)_6812.jpg\n"
     ]
    },
    {
     "data": {
      "text/plain": [
       "4559"
      ]
     },
     "execution_count": 178,
     "metadata": {},
     "output_type": "execute_result"
    },
    {
     "name": "stdout",
     "output_type": "stream",
     "text": [
      "images found ['זבולון-24-מטלון-39_6822.jpg']\n",
      "number of images found 1\n",
      "0 זבולון-24-מטלון-39_6822.jpg\n"
     ]
    },
    {
     "data": {
      "text/plain": [
       "4421"
      ]
     },
     "execution_count": 178,
     "metadata": {},
     "output_type": "execute_result"
    },
    {
     "name": "stdout",
     "output_type": "stream",
     "text": [
      "images found []\n",
      "number of images found 0\n"
     ]
    },
    {
     "data": {
      "text/plain": [
       "4294"
      ]
     },
     "execution_count": 178,
     "metadata": {},
     "output_type": "execute_result"
    },
    {
     "name": "stdout",
     "output_type": "stream",
     "text": [
      "images found ['מטלון-7-רענן-25_6826.jpg']\n",
      "number of images found 1\n",
      "0 מטלון-7-רענן-25_6826.jpg\n"
     ]
    },
    {
     "data": {
      "text/plain": [
       "4416"
      ]
     },
     "execution_count": 178,
     "metadata": {},
     "output_type": "execute_result"
    },
    {
     "name": "stdout",
     "output_type": "stream",
     "text": [
      "images found []\n",
      "number of images found 0\n"
     ]
    },
    {
     "data": {
      "text/plain": [
       "4316"
      ]
     },
     "execution_count": 178,
     "metadata": {},
     "output_type": "execute_result"
    },
    {
     "name": "stdout",
     "output_type": "stream",
     "text": [
      "images found ['חנניא-בן-דוסא-21_6852.jpg']\n",
      "number of images found 1\n",
      "0 חנניא-בן-דוסא-21_6852.jpg\n"
     ]
    },
    {
     "data": {
      "text/plain": [
       "4409"
      ]
     },
     "execution_count": 178,
     "metadata": {},
     "output_type": "execute_result"
    },
    {
     "name": "stdout",
     "output_type": "stream",
     "text": [
      "images found ['העליה-24-מטלון-47_6877.jpg']\n",
      "number of images found 1\n",
      "0 העליה-24-מטלון-47_6877.jpg\n"
     ]
    },
    {
     "data": {
      "text/plain": [
       "4426"
      ]
     },
     "execution_count": 178,
     "metadata": {},
     "output_type": "execute_result"
    },
    {
     "name": "stdout",
     "output_type": "stream",
     "text": [
      "images found ['שמעון-הצדיק-7-חנניא-בן-דוסא-12_6879.jpg']\n",
      "number of images found 1\n",
      "0 שמעון-הצדיק-7-חנניא-בן-דוסא-12_6879.jpg\n"
     ]
    },
    {
     "data": {
      "text/plain": [
       "4431"
      ]
     },
     "execution_count": 178,
     "metadata": {},
     "output_type": "execute_result"
    },
    {
     "name": "stdout",
     "output_type": "stream",
     "text": [
      "images found ['שדרות-ירושלים-68_6883.jpg']\n",
      "number of images found 1\n",
      "0 שדרות-ירושלים-68_6883.jpg\n"
     ]
    },
    {
     "data": {
      "text/plain": [
       "4432"
      ]
     },
     "execution_count": 178,
     "metadata": {},
     "output_type": "execute_result"
    },
    {
     "name": "stdout",
     "output_type": "stream",
     "text": [
      "images found []\n",
      "number of images found 0\n"
     ]
    },
    {
     "data": {
      "text/plain": [
       "4316"
      ]
     },
     "execution_count": 178,
     "metadata": {},
     "output_type": "execute_result"
    },
    {
     "name": "stdout",
     "output_type": "stream",
     "text": [
      "images found ['עולי-ציון-32_6889.jpg']\n",
      "number of images found 1\n",
      "0 עולי-ציון-32_6889.jpg\n"
     ]
    },
    {
     "data": {
      "text/plain": [
       "4400"
      ]
     },
     "execution_count": 178,
     "metadata": {},
     "output_type": "execute_result"
    },
    {
     "name": "stdout",
     "output_type": "stream",
     "text": [
      "images found ['יפת-23(2)_6897.jpg', 'יפת-23_6897.jpg']\n",
      "number of images found 2\n",
      "0 יפת-23(2)_6897.jpg\n",
      "1 יפת-23_6897.jpg\n",
      "1 יפת-23_6897.jpg\n"
     ]
    },
    {
     "data": {
      "text/plain": [
       "4556"
      ]
     },
     "execution_count": 178,
     "metadata": {},
     "output_type": "execute_result"
    },
    {
     "name": "stdout",
     "output_type": "stream",
     "text": [
      "images found ['בית-אשל-25-חנניה-בן-דוסא-28_6899.jpg']\n",
      "number of images found 1\n",
      "0 בית-אשל-25-חנניה-בן-דוסא-28_6899.jpg\n"
     ]
    },
    {
     "data": {
      "text/plain": [
       "4409"
      ]
     },
     "execution_count": 178,
     "metadata": {},
     "output_type": "execute_result"
    },
    {
     "name": "stdout",
     "output_type": "stream",
     "text": [
      "images found ['לוינסקי-10-א׳_6900.jpg']\n",
      "number of images found 1\n",
      "0 לוינסקי-10-א׳_6900.jpg\n"
     ]
    },
    {
     "data": {
      "text/plain": [
       "4427"
      ]
     },
     "execution_count": 178,
     "metadata": {},
     "output_type": "execute_result"
    },
    {
     "name": "stdout",
     "output_type": "stream",
     "text": [
      "images found ['האתרוג-16_6913.jpg']\n",
      "number of images found 1\n",
      "0 האתרוג-16_6913.jpg\n"
     ]
    },
    {
     "data": {
      "text/plain": [
       "4395"
      ]
     },
     "execution_count": 178,
     "metadata": {},
     "output_type": "execute_result"
    },
    {
     "name": "stdout",
     "output_type": "stream",
     "text": [
      "images found ['ריש-גלוטא-6(2)_6923.jpg', 'ריש-גלוטא-6_6923.jpg']\n",
      "number of images found 2\n",
      "0 ריש-גלוטא-6(2)_6923.jpg\n",
      "1 ריש-גלוטא-6_6923.jpg\n",
      "1 ריש-גלוטא-6_6923.jpg\n"
     ]
    },
    {
     "data": {
      "text/plain": [
       "4584"
      ]
     },
     "execution_count": 178,
     "metadata": {},
     "output_type": "execute_result"
    },
    {
     "name": "stdout",
     "output_type": "stream",
     "text": [
      "images found ['שדרות-וושינגטון-17_6930.jpg']\n",
      "number of images found 1\n",
      "0 שדרות-וושינגטון-17_6930.jpg\n"
     ]
    },
    {
     "data": {
      "text/plain": [
       "4446"
      ]
     },
     "execution_count": 178,
     "metadata": {},
     "output_type": "execute_result"
    },
    {
     "name": "stdout",
     "output_type": "stream",
     "text": [
      "images found ['חנניה-בן-דוסא-29_6938.jpg']\n",
      "number of images found 1\n",
      "0 חנניה-בן-דוסא-29_6938.jpg\n"
     ]
    },
    {
     "data": {
      "text/plain": [
       "4438"
      ]
     },
     "execution_count": 178,
     "metadata": {},
     "output_type": "execute_result"
    },
    {
     "name": "stdout",
     "output_type": "stream",
     "text": [
      "images found ['אליעזר-בן-הורקונוס-4_6955.jpg']\n",
      "number of images found 1\n",
      "0 אליעזר-בן-הורקונוס-4_6955.jpg\n"
     ]
    },
    {
     "data": {
      "text/plain": [
       "4424"
      ]
     },
     "execution_count": 178,
     "metadata": {},
     "output_type": "execute_result"
    },
    {
     "name": "stdout",
     "output_type": "stream",
     "text": [
      "images found ['יפת-106-החרוב-46-48_6958.jpg']\n",
      "number of images found 1\n",
      "0 יפת-106-החרוב-46-48_6958.jpg\n"
     ]
    },
    {
     "data": {
      "text/plain": [
       "4403"
      ]
     },
     "execution_count": 178,
     "metadata": {},
     "output_type": "execute_result"
    },
    {
     "name": "stdout",
     "output_type": "stream",
     "text": [
      "images found ['ים-סוף-20_6959.jpg']\n",
      "number of images found 1\n",
      "0 ים-סוף-20_6959.jpg\n"
     ]
    },
    {
     "data": {
      "text/plain": [
       "4395"
      ]
     },
     "execution_count": 178,
     "metadata": {},
     "output_type": "execute_result"
    },
    {
     "name": "stdout",
     "output_type": "stream",
     "text": [
      "images found ['יפת-100-חייבי-משה-9_6960.jpg']\n",
      "number of images found 1\n",
      "0 יפת-100-חייבי-משה-9_6960.jpg\n"
     ]
    },
    {
     "data": {
      "text/plain": [
       "4402"
      ]
     },
     "execution_count": 178,
     "metadata": {},
     "output_type": "execute_result"
    },
    {
     "name": "stdout",
     "output_type": "stream",
     "text": [
      "images found ['יפת-72-ויינר-זאב-7_6963.jpg', 'יפת-74-ויינר-זאב-6_6963.jpg']\n",
      "number of images found 2\n",
      "0 יפת-72-ויינר-זאב-7_6963.jpg\n",
      "1 יפת-74-ויינר-זאב-6_6963.jpg\n",
      "1 יפת-74-ויינר-זאב-6_6963.jpg\n"
     ]
    },
    {
     "data": {
      "text/plain": [
       "4610"
      ]
     },
     "execution_count": 178,
     "metadata": {},
     "output_type": "execute_result"
    },
    {
     "name": "stdout",
     "output_type": "stream",
     "text": [
      "images found ['קורדיברו-9_6964.jpg']\n",
      "number of images found 1\n",
      "0 קורדיברו-9_6964.jpg\n"
     ]
    },
    {
     "data": {
      "text/plain": [
       "4419"
      ]
     },
     "execution_count": 178,
     "metadata": {},
     "output_type": "execute_result"
    },
    {
     "name": "stdout",
     "output_type": "stream",
     "text": [
      "images found ['ויקטור-הוגו-18_6989.jpg']\n",
      "number of images found 1\n",
      "0 ויקטור-הוגו-18_6989.jpg\n"
     ]
    },
    {
     "data": {
      "text/plain": [
       "4417"
      ]
     },
     "execution_count": 178,
     "metadata": {},
     "output_type": "execute_result"
    },
    {
     "name": "stdout",
     "output_type": "stream",
     "text": [
      "images found ['שטרן-אברהם-4-קורדיברו-21_7007.jpg']\n",
      "number of images found 1\n",
      "0 שטרן-אברהם-4-קורדיברו-21_7007.jpg\n"
     ]
    },
    {
     "data": {
      "text/plain": [
       "4435"
      ]
     },
     "execution_count": 178,
     "metadata": {},
     "output_type": "execute_result"
    },
    {
     "name": "stdout",
     "output_type": "stream",
     "text": [
      "images found ['קורדיברו-17_7008.jpg']\n",
      "number of images found 1\n",
      "0 קורדיברו-17_7008.jpg\n"
     ]
    },
    {
     "data": {
      "text/plain": [
       "4422"
      ]
     },
     "execution_count": 178,
     "metadata": {},
     "output_type": "execute_result"
    },
    {
     "name": "stdout",
     "output_type": "stream",
     "text": [
      "images found ['הרבי-מבכרך-34-אוארבך-9_7009.jpg']\n",
      "number of images found 1\n",
      "0 הרבי-מבכרך-34-אוארבך-9_7009.jpg\n"
     ]
    },
    {
     "data": {
      "text/plain": [
       "4400"
      ]
     },
     "execution_count": 178,
     "metadata": {},
     "output_type": "execute_result"
    },
    {
     "name": "stdout",
     "output_type": "stream",
     "text": [
      "images found ['ויקטור-הוגו-29_7013.jpg']\n",
      "number of images found 1\n",
      "0 ויקטור-הוגו-29_7013.jpg\n"
     ]
    },
    {
     "data": {
      "text/plain": [
       "4418"
      ]
     },
     "execution_count": 178,
     "metadata": {},
     "output_type": "execute_result"
    },
    {
     "name": "stdout",
     "output_type": "stream",
     "text": [
      "images found ['ויקטור-הוגו-26_7014.jpg']\n",
      "number of images found 1\n",
      "0 ויקטור-הוגו-26_7014.jpg\n"
     ]
    },
    {
     "data": {
      "text/plain": [
       "4417"
      ]
     },
     "execution_count": 178,
     "metadata": {},
     "output_type": "execute_result"
    },
    {
     "name": "stdout",
     "output_type": "stream",
     "text": [
      "images found ['יוסי-בן-יוסי-7_7015.jpg']\n",
      "number of images found 1\n",
      "0 יוסי-בן-יוסי-7_7015.jpg\n"
     ]
    },
    {
     "data": {
      "text/plain": [
       "4415"
      ]
     },
     "execution_count": 178,
     "metadata": {},
     "output_type": "execute_result"
    },
    {
     "name": "stdout",
     "output_type": "stream",
     "text": [
      "images found ['הרצל-100_7018.jpg']\n",
      "number of images found 1\n",
      "0 הרצל-100_7018.jpg\n"
     ]
    },
    {
     "data": {
      "text/plain": [
       "4414"
      ]
     },
     "execution_count": 178,
     "metadata": {},
     "output_type": "execute_result"
    },
    {
     "name": "stdout",
     "output_type": "stream",
     "text": [
      "images found ['הרצל-27_7019.jpg']\n",
      "number of images found 1\n",
      "0 הרצל-27_7019.jpg\n"
     ]
    },
    {
     "data": {
      "text/plain": [
       "4409"
      ]
     },
     "execution_count": 178,
     "metadata": {},
     "output_type": "execute_result"
    },
    {
     "name": "stdout",
     "output_type": "stream",
     "text": [
      "images found ['וולפסון-5-מזרחי-33_7022.jpg']\n",
      "number of images found 1\n",
      "0 וולפסון-5-מזרחי-33_7022.jpg\n"
     ]
    },
    {
     "data": {
      "text/plain": [
       "4425"
      ]
     },
     "execution_count": 178,
     "metadata": {},
     "output_type": "execute_result"
    },
    {
     "name": "stdout",
     "output_type": "stream",
     "text": [
      "images found ['הרצל-33_7027.jpg']\n",
      "number of images found 1\n",
      "0 הרצל-33_7027.jpg\n"
     ]
    },
    {
     "data": {
      "text/plain": [
       "4431"
      ]
     },
     "execution_count": 178,
     "metadata": {},
     "output_type": "execute_result"
    },
    {
     "name": "stdout",
     "output_type": "stream",
     "text": [
      "images found ['אוריאל-אקוסטה-14-12_7028.jpg']\n",
      "number of images found 1\n",
      "0 אוריאל-אקוסטה-14-12_7028.jpg\n"
     ]
    },
    {
     "data": {
      "text/plain": [
       "4440"
      ]
     },
     "execution_count": 178,
     "metadata": {},
     "output_type": "execute_result"
    },
    {
     "name": "stdout",
     "output_type": "stream",
     "text": [
      "images found ['קורדיברו-3_7032.jpg']\n",
      "number of images found 1\n",
      "0 קורדיברו-3_7032.jpg\n"
     ]
    },
    {
     "data": {
      "text/plain": [
       "4419"
      ]
     },
     "execution_count": 178,
     "metadata": {},
     "output_type": "execute_result"
    },
    {
     "name": "stdout",
     "output_type": "stream",
     "text": [
      "images found ['אוז׳שקובה-1-פושקין-9-דנטה-6_7035.jpg']\n",
      "number of images found 1\n",
      "0 אוז׳שקובה-1-פושקין-9-דנטה-6_7035.jpg\n"
     ]
    },
    {
     "data": {
      "text/plain": [
       "4416"
      ]
     },
     "execution_count": 178,
     "metadata": {},
     "output_type": "execute_result"
    },
    {
     "name": "stdout",
     "output_type": "stream",
     "text": [
      "images found ['יהודה-הימית-51_7036.jpg']\n",
      "number of images found 1\n",
      "0 יהודה-הימית-51_7036.jpg\n"
     ]
    },
    {
     "data": {
      "text/plain": [
       "4422"
      ]
     },
     "execution_count": 178,
     "metadata": {},
     "output_type": "execute_result"
    },
    {
     "name": "stdout",
     "output_type": "stream",
     "text": [
      "images found ['הרצל-31_7060.jpg']\n",
      "number of images found 1\n",
      "0 הרצל-31_7060.jpg\n"
     ]
    },
    {
     "data": {
      "text/plain": [
       "4409"
      ]
     },
     "execution_count": 178,
     "metadata": {},
     "output_type": "execute_result"
    },
    {
     "name": "stdout",
     "output_type": "stream",
     "text": [
      "images found []\n",
      "number of images found 0\n"
     ]
    },
    {
     "data": {
      "text/plain": [
       "4298"
      ]
     },
     "execution_count": 178,
     "metadata": {},
     "output_type": "execute_result"
    },
    {
     "name": "stdout",
     "output_type": "stream",
     "text": [
      "images found ['העליה-68_7083.jpg']\n",
      "number of images found 1\n",
      "0 העליה-68_7083.jpg\n"
     ]
    },
    {
     "data": {
      "text/plain": [
       "4418"
      ]
     },
     "execution_count": 178,
     "metadata": {},
     "output_type": "execute_result"
    },
    {
     "name": "stdout",
     "output_type": "stream",
     "text": [
      "images found ['יהודה-הימית-55_7085.jpg']\n",
      "number of images found 1\n",
      "0 יהודה-הימית-55_7085.jpg\n"
     ]
    },
    {
     "data": {
      "text/plain": [
       "4421"
      ]
     },
     "execution_count": 178,
     "metadata": {},
     "output_type": "execute_result"
    },
    {
     "name": "stdout",
     "output_type": "stream",
     "text": [
      "images found ['שמואל-בין-עדיה-28-הספינה-1_7086.jpg']\n",
      "number of images found 1\n",
      "0 שמואל-בין-עדיה-28-הספינה-1_7086.jpg\n"
     ]
    },
    {
     "data": {
      "text/plain": [
       "4432"
      ]
     },
     "execution_count": 178,
     "metadata": {},
     "output_type": "execute_result"
    },
    {
     "name": "stdout",
     "output_type": "stream",
     "text": [
      "images found ['ידידיה-פרנקל-55-החלוצים-46_7087.jpg']\n",
      "number of images found 1\n",
      "0 ידידיה-פרנקל-55-החלוצים-46_7087.jpg\n"
     ]
    },
    {
     "data": {
      "text/plain": [
       "4473"
      ]
     },
     "execution_count": 178,
     "metadata": {},
     "output_type": "execute_result"
    },
    {
     "name": "stdout",
     "output_type": "stream",
     "text": [
      "images found ['כפר-גלעדי-17_7111.jpg']\n",
      "number of images found 1\n",
      "0 כפר-גלעדי-17_7111.jpg\n"
     ]
    },
    {
     "data": {
      "text/plain": [
       "4423"
      ]
     },
     "execution_count": 178,
     "metadata": {},
     "output_type": "execute_result"
    },
    {
     "name": "stdout",
     "output_type": "stream",
     "text": [
      "images found ['הדואר-8_7128.jpg']\n",
      "number of images found 1\n",
      "0 הדואר-8_7128.jpg\n"
     ]
    },
    {
     "data": {
      "text/plain": [
       "4383"
      ]
     },
     "execution_count": 178,
     "metadata": {},
     "output_type": "execute_result"
    },
    {
     "name": "stdout",
     "output_type": "stream",
     "text": [
      "images found ['עולי-ציון-26_7149.jpg']\n",
      "number of images found 1\n",
      "0 עולי-ציון-26_7149.jpg\n"
     ]
    },
    {
     "data": {
      "text/plain": [
       "4419"
      ]
     },
     "execution_count": 178,
     "metadata": {},
     "output_type": "execute_result"
    },
    {
     "name": "stdout",
     "output_type": "stream",
     "text": [
      "images found ['מנדס-פרנס-26_7167.jpg']\n",
      "number of images found 1\n",
      "0 מנדס-פרנס-26_7167.jpg\n"
     ]
    },
    {
     "data": {
      "text/plain": [
       "4406"
      ]
     },
     "execution_count": 178,
     "metadata": {},
     "output_type": "execute_result"
    },
    {
     "name": "stdout",
     "output_type": "stream",
     "text": [
      "images found ['ירושלים-44_7169.jpg']\n",
      "number of images found 1\n",
      "0 ירושלים-44_7169.jpg\n"
     ]
    },
    {
     "data": {
      "text/plain": [
       "4411"
      ]
     },
     "execution_count": 178,
     "metadata": {},
     "output_type": "execute_result"
    },
    {
     "name": "stdout",
     "output_type": "stream",
     "text": [
      "images found ['אילת-46_7170.jpg']\n",
      "number of images found 1\n",
      "0 אילת-46_7170.jpg\n"
     ]
    },
    {
     "data": {
      "text/plain": [
       "4374"
      ]
     },
     "execution_count": 178,
     "metadata": {},
     "output_type": "execute_result"
    },
    {
     "name": "stdout",
     "output_type": "stream",
     "text": [
      "images found ['השוק-21-סמטת-אלוף-בצלות-9_7171.jpg']\n",
      "number of images found 1\n",
      "0 השוק-21-סמטת-אלוף-בצלות-9_7171.jpg\n"
     ]
    },
    {
     "data": {
      "text/plain": [
       "4426"
      ]
     },
     "execution_count": 178,
     "metadata": {},
     "output_type": "execute_result"
    },
    {
     "name": "stdout",
     "output_type": "stream",
     "text": [
      "images found ['שלמה-6(2)_7185.jpg', 'שלמה-6_7185.jpg']\n",
      "number of images found 2\n",
      "0 שלמה-6(2)_7185.jpg\n",
      "1 שלמה-6_7185.jpg\n",
      "1 שלמה-6_7185.jpg\n"
     ]
    },
    {
     "data": {
      "text/plain": [
       "4590"
      ]
     },
     "execution_count": 178,
     "metadata": {},
     "output_type": "execute_result"
    },
    {
     "name": "stdout",
     "output_type": "stream",
     "text": [
      "images found ['בן-יאיר-פנחס-3-שמעון-הצדיק-16(2)_7186.jpg', 'בן-יאיר-פנחס-3-שמעון-הצדיק-16_7186.jpg']\n",
      "number of images found 2\n",
      "0 בן-יאיר-פנחס-3-שמעון-הצדיק-16(2)_7186.jpg\n",
      "1 בן-יאיר-פנחס-3-שמעון-הצדיק-16_7186.jpg\n",
      "1 בן-יאיר-פנחס-3-שמעון-הצדיק-16_7186.jpg\n"
     ]
    },
    {
     "data": {
      "text/plain": [
       "4628"
      ]
     },
     "execution_count": 178,
     "metadata": {},
     "output_type": "execute_result"
    },
    {
     "name": "stdout",
     "output_type": "stream",
     "text": [
      "images found ['תרצה 23-שלמה-5_7187.jpg']\n",
      "number of images found 1\n",
      "0 תרצה 23-שלמה-5_7187.jpg\n"
     ]
    },
    {
     "data": {
      "text/plain": [
       "4402"
      ]
     },
     "execution_count": 178,
     "metadata": {},
     "output_type": "execute_result"
    },
    {
     "name": "stdout",
     "output_type": "stream",
     "text": [
      "images found ['שמעון-הצדיק-18(2)_7192.jpg', 'שמעון-הצדיק-18_7192.jpg']\n",
      "number of images found 2\n",
      "0 שמעון-הצדיק-18(2)_7192.jpg\n",
      "1 שמעון-הצדיק-18_7192.jpg\n",
      "1 שמעון-הצדיק-18_7192.jpg\n"
     ]
    },
    {
     "data": {
      "text/plain": [
       "4609"
      ]
     },
     "execution_count": 178,
     "metadata": {},
     "output_type": "execute_result"
    },
    {
     "name": "stdout",
     "output_type": "stream",
     "text": [
      "images found ['רזיאל-דוד-17_7193.jpg']\n",
      "number of images found 1\n",
      "0 רזיאל-דוד-17_7193.jpg\n"
     ]
    },
    {
     "data": {
      "text/plain": [
       "4399"
      ]
     },
     "execution_count": 178,
     "metadata": {},
     "output_type": "execute_result"
    },
    {
     "name": "stdout",
     "output_type": "stream",
     "text": [
      "images found ['בן-שטח-4_7194.jpg']\n",
      "number of images found 1\n",
      "0 בן-שטח-4_7194.jpg\n"
     ]
    },
    {
     "data": {
      "text/plain": [
       "4408"
      ]
     },
     "execution_count": 178,
     "metadata": {},
     "output_type": "execute_result"
    },
    {
     "name": "stdout",
     "output_type": "stream",
     "text": [
      "images found ['ויטל-חיים-3(2)_7195.jpg', 'ויטל-חיים-3_7195.jpg']\n",
      "number of images found 2\n",
      "0 ויטל-חיים-3(2)_7195.jpg\n",
      "1 ויטל-חיים-3_7195.jpg\n",
      "1 ויטל-חיים-3_7195.jpg\n"
     ]
    },
    {
     "data": {
      "text/plain": [
       "4614"
      ]
     },
     "execution_count": 178,
     "metadata": {},
     "output_type": "execute_result"
    },
    {
     "name": "stdout",
     "output_type": "stream",
     "text": [
      "images found ['קורדיברו-2-ויטל-חיים-7_7196.jpg']\n",
      "number of images found 1\n",
      "0 קורדיברו-2-ויטל-חיים-7_7196.jpg\n"
     ]
    },
    {
     "data": {
      "text/plain": [
       "4431"
      ]
     },
     "execution_count": 178,
     "metadata": {},
     "output_type": "execute_result"
    },
    {
     "name": "stdout",
     "output_type": "stream",
     "text": [
      "images found ['זבולון-14-לווינסקי-51_7198.jpg']\n",
      "number of images found 1\n",
      "0 זבולון-14-לווינסקי-51_7198.jpg\n"
     ]
    },
    {
     "data": {
      "text/plain": [
       "4426"
      ]
     },
     "execution_count": 178,
     "metadata": {},
     "output_type": "execute_result"
    },
    {
     "name": "stdout",
     "output_type": "stream",
     "text": [
      "images found ['רבי-פנחס-6א(2)_7201.jpg', 'רבי-פנחס-6א_7201.jpg']\n",
      "number of images found 2\n",
      "0 רבי-פנחס-6א(2)_7201.jpg\n",
      "1 רבי-פנחס-6א_7201.jpg\n",
      "1 רבי-פנחס-6א_7201.jpg\n"
     ]
    },
    {
     "data": {
      "text/plain": [
       "4585"
      ]
     },
     "execution_count": 178,
     "metadata": {},
     "output_type": "execute_result"
    },
    {
     "name": "stdout",
     "output_type": "stream",
     "text": [
      "images found ['כפר-גלעדי-2-יפו-28_7204.jpg']\n",
      "number of images found 1\n",
      "0 כפר-גלעדי-2-יפו-28_7204.jpg\n"
     ]
    },
    {
     "data": {
      "text/plain": [
       "4426"
      ]
     },
     "execution_count": 178,
     "metadata": {},
     "output_type": "execute_result"
    },
    {
     "name": "stdout",
     "output_type": "stream",
     "text": [
      "images found []\n",
      "number of images found 0\n"
     ]
    },
    {
     "data": {
      "text/plain": [
       "4311"
      ]
     },
     "execution_count": 178,
     "metadata": {},
     "output_type": "execute_result"
    },
    {
     "name": "stdout",
     "output_type": "stream",
     "text": [
      "images found ['ספיר-ברוך-4_7213.jpg']\n",
      "number of images found 1\n",
      "0 ספיר-ברוך-4_7213.jpg\n"
     ]
    },
    {
     "data": {
      "text/plain": [
       "4386"
      ]
     },
     "execution_count": 178,
     "metadata": {},
     "output_type": "execute_result"
    },
    {
     "name": "stdout",
     "output_type": "stream",
     "text": [
      "images found ['עולי-ציון-24(2)_7216.jpg', 'עולי-ציון-24_7216.jpg']\n",
      "number of images found 2\n",
      "0 עולי-ציון-24(2)_7216.jpg\n",
      "1 עולי-ציון-24_7216.jpg\n",
      "1 עולי-ציון-24_7216.jpg\n"
     ]
    },
    {
     "data": {
      "text/plain": [
       "4584"
      ]
     },
     "execution_count": 178,
     "metadata": {},
     "output_type": "execute_result"
    },
    {
     "name": "stdout",
     "output_type": "stream",
     "text": [
      "images found ['שדרות-ירושלים-76_7220.jpg']\n",
      "number of images found 1\n",
      "0 שדרות-ירושלים-76_7220.jpg\n"
     ]
    },
    {
     "data": {
      "text/plain": [
       "4419"
      ]
     },
     "execution_count": 178,
     "metadata": {},
     "output_type": "execute_result"
    },
    {
     "name": "stdout",
     "output_type": "stream",
     "text": [
      "images found ['יפת-43_7224.jpg']\n",
      "number of images found 1\n",
      "0 יפת-43_7224.jpg\n"
     ]
    },
    {
     "data": {
      "text/plain": [
       "4380"
      ]
     },
     "execution_count": 178,
     "metadata": {},
     "output_type": "execute_result"
    },
    {
     "name": "stdout",
     "output_type": "stream",
     "text": [
      "images found ['שדרות-הבעש״ט-4_7225.jpg']\n",
      "number of images found 1\n",
      "0 שדרות-הבעש״ט-4_7225.jpg\n"
     ]
    },
    {
     "data": {
      "text/plain": [
       "4391"
      ]
     },
     "execution_count": 178,
     "metadata": {},
     "output_type": "execute_result"
    },
    {
     "name": "stdout",
     "output_type": "stream",
     "text": [
      "images found []\n",
      "number of images found 0\n"
     ]
    },
    {
     "data": {
      "text/plain": [
       "4300"
      ]
     },
     "execution_count": 178,
     "metadata": {},
     "output_type": "execute_result"
    },
    {
     "name": "stdout",
     "output_type": "stream",
     "text": [
      "images found ['מטלון-18-כפר-גלעדי-28_7227.jpg']\n",
      "number of images found 1\n",
      "0 מטלון-18-כפר-גלעדי-28_7227.jpg\n"
     ]
    },
    {
     "data": {
      "text/plain": [
       "4428"
      ]
     },
     "execution_count": 178,
     "metadata": {},
     "output_type": "execute_result"
    },
    {
     "name": "stdout",
     "output_type": "stream",
     "text": [
      "images found ['ידידה פרנקל-61-העליה-41_7230.jpg', 'ידידה-פרנקל-61-העליה-41_7230.jpg']\n",
      "number of images found 2\n",
      "0 ידידה פרנקל-61-העליה-41_7230.jpg\n",
      "1 ידידה-פרנקל-61-העליה-41_7230.jpg\n",
      "1 ידידה-פרנקל-61-העליה-41_7230.jpg\n"
     ]
    },
    {
     "data": {
      "text/plain": [
       "4613"
      ]
     },
     "execution_count": 178,
     "metadata": {},
     "output_type": "execute_result"
    },
    {
     "name": "stdout",
     "output_type": "stream",
     "text": [
      "images found ['שמעון-הצדיק-8-המלך-חירם-12_7270.jpg']\n",
      "number of images found 1\n",
      "0 שמעון-הצדיק-8-המלך-חירם-12_7270.jpg\n"
     ]
    },
    {
     "data": {
      "text/plain": [
       "4429"
      ]
     },
     "execution_count": 178,
     "metadata": {},
     "output_type": "execute_result"
    },
    {
     "name": "stdout",
     "output_type": "stream",
     "text": [
      "images found ['הדואר-4_7282.jpg']\n",
      "number of images found 1\n",
      "0 הדואר-4_7282.jpg\n"
     ]
    },
    {
     "data": {
      "text/plain": [
       "4378"
      ]
     },
     "execution_count": 178,
     "metadata": {},
     "output_type": "execute_result"
    },
    {
     "name": "stdout",
     "output_type": "stream",
     "text": [
      "images found ['המלך-חירם 2-יועזר-איש-הבירה-1-3-מרזוק-ועזר-2_7284.jpg']\n",
      "number of images found 1\n",
      "0 המלך-חירם 2-יועזר-איש-הבירה-1-3-מרזוק-ועזר-2_7284.jpg\n"
     ]
    },
    {
     "data": {
      "text/plain": [
       "4426"
      ]
     },
     "execution_count": 178,
     "metadata": {},
     "output_type": "execute_result"
    },
    {
     "name": "stdout",
     "output_type": "stream",
     "text": [
      "images found ['ויקטור-הוגו-14_7285.jpg']\n",
      "number of images found 1\n",
      "0 ויקטור-הוגו-14_7285.jpg\n"
     ]
    },
    {
     "data": {
      "text/plain": [
       "4413"
      ]
     },
     "execution_count": 178,
     "metadata": {},
     "output_type": "execute_result"
    },
    {
     "name": "stdout",
     "output_type": "stream",
     "text": [
      "images found ['כפר-גלעדי-5_7287.jpg']\n",
      "number of images found 1\n",
      "0 כפר-גלעדי-5_7287.jpg\n"
     ]
    },
    {
     "data": {
      "text/plain": [
       "4425"
      ]
     },
     "execution_count": 178,
     "metadata": {},
     "output_type": "execute_result"
    },
    {
     "name": "stdout",
     "output_type": "stream",
     "text": [
      "images found ['כפר-גלעדי-9_7288.jpg']\n",
      "number of images found 1\n",
      "0 כפר-גלעדי-9_7288.jpg\n"
     ]
    },
    {
     "data": {
      "text/plain": [
       "4425"
      ]
     },
     "execution_count": 178,
     "metadata": {},
     "output_type": "execute_result"
    },
    {
     "name": "stdout",
     "output_type": "stream",
     "text": [
      "images found ['כפר-גלעדי-3_7289.jpg']\n",
      "number of images found 1\n",
      "0 כפר-גלעדי-3_7289.jpg\n"
     ]
    },
    {
     "data": {
      "text/plain": [
       "4424"
      ]
     },
     "execution_count": 178,
     "metadata": {},
     "output_type": "execute_result"
    },
    {
     "name": "stdout",
     "output_type": "stream",
     "text": [
      "images found ['ידידיה פרנקל-57-החלוצים-45_7304.jpg']\n",
      "number of images found 1\n",
      "0 ידידיה פרנקל-57-החלוצים-45_7304.jpg\n"
     ]
    },
    {
     "data": {
      "text/plain": [
       "4475"
      ]
     },
     "execution_count": 178,
     "metadata": {},
     "output_type": "execute_result"
    },
    {
     "name": "stdout",
     "output_type": "stream",
     "text": [
      "images found ['כפר-גלעדי-7_7305.jpg']\n",
      "number of images found 1\n",
      "0 כפר-גלעדי-7_7305.jpg\n"
     ]
    },
    {
     "data": {
      "text/plain": [
       "4424"
      ]
     },
     "execution_count": 178,
     "metadata": {},
     "output_type": "execute_result"
    },
    {
     "name": "stdout",
     "output_type": "stream",
     "text": [
      "images found []\n",
      "number of images found 0\n"
     ]
    },
    {
     "data": {
      "text/plain": [
       "4304"
      ]
     },
     "execution_count": 178,
     "metadata": {},
     "output_type": "execute_result"
    },
    {
     "name": "stdout",
     "output_type": "stream",
     "text": [
      "images found ['מיכאלאנג׳לו-28-פושקין-2_7315.jpg']\n",
      "number of images found 1\n",
      "0 מיכאלאנג׳לו-28-פושקין-2_7315.jpg\n"
     ]
    },
    {
     "data": {
      "text/plain": [
       "4424"
      ]
     },
     "execution_count": 178,
     "metadata": {},
     "output_type": "execute_result"
    },
    {
     "name": "stdout",
     "output_type": "stream",
     "text": [
      "images found ['תג׳ר-ציונה-24-עבד-אל-גני-2_7316.jpg']\n",
      "number of images found 1\n",
      "0 תג׳ר-ציונה-24-עבד-אל-גני-2_7316.jpg\n"
     ]
    },
    {
     "data": {
      "text/plain": [
       "4428"
      ]
     },
     "execution_count": 178,
     "metadata": {},
     "output_type": "execute_result"
    },
    {
     "name": "stdout",
     "output_type": "stream",
     "text": [
      "images found ['עבודת-ישראל-3_7319.jpg']\n",
      "number of images found 1\n",
      "0 עבודת-ישראל-3_7319.jpg\n"
     ]
    },
    {
     "data": {
      "text/plain": [
       "4419"
      ]
     },
     "execution_count": 178,
     "metadata": {},
     "output_type": "execute_result"
    },
    {
     "name": "stdout",
     "output_type": "stream",
     "text": [
      "images found ['שדרות-ירושלים-30-חנינא-בן-תרדניון-3(2)_7320.jpg', 'שדרות-ירושלים-30_7320.jpg']\n",
      "number of images found 2\n",
      "0 שדרות-ירושלים-30-חנינא-בן-תרדניון-3(2)_7320.jpg\n",
      "1 שדרות-ירושלים-30_7320.jpg\n",
      "1 שדרות-ירושלים-30_7320.jpg\n"
     ]
    },
    {
     "data": {
      "text/plain": [
       "4635"
      ]
     },
     "execution_count": 178,
     "metadata": {},
     "output_type": "execute_result"
    },
    {
     "name": "stdout",
     "output_type": "stream",
     "text": [
      "images found ['שדרות-ירושלים-62-מיכאלנגלו-37_7321.jpg']\n",
      "number of images found 1\n",
      "0 שדרות-ירושלים-62-מיכאלנגלו-37_7321.jpg\n"
     ]
    },
    {
     "data": {
      "text/plain": [
       "4448"
      ]
     },
     "execution_count": 178,
     "metadata": {},
     "output_type": "execute_result"
    },
    {
     "name": "stdout",
     "output_type": "stream",
     "text": [
      "images found ['המשביר-8-10-לוינסקי-33_7325.jpg']\n",
      "number of images found 1\n",
      "0 המשביר-8-10-לוינסקי-33_7325.jpg\n"
     ]
    },
    {
     "data": {
      "text/plain": [
       "4428"
      ]
     },
     "execution_count": 178,
     "metadata": {},
     "output_type": "execute_result"
    },
    {
     "name": "stdout",
     "output_type": "stream",
     "text": [
      "images found ['יפת-19_7327.jpg']\n",
      "number of images found 1\n",
      "0 יפת-19_7327.jpg\n"
     ]
    },
    {
     "data": {
      "text/plain": [
       "4380"
      ]
     },
     "execution_count": 178,
     "metadata": {},
     "output_type": "execute_result"
    },
    {
     "name": "stdout",
     "output_type": "stream",
     "text": [
      "images found ['דני-קיי-8_7330.jpg']\n",
      "number of images found 1\n",
      "0 דני-קיי-8_7330.jpg\n"
     ]
    },
    {
     "data": {
      "text/plain": [
       "4426"
      ]
     },
     "execution_count": 178,
     "metadata": {},
     "output_type": "execute_result"
    },
    {
     "name": "stdout",
     "output_type": "stream",
     "text": [
      "images found ['יפו-48-מרחביה-1_7333.jpg']\n",
      "number of images found 1\n",
      "0 יפו-48-מרחביה-1_7333.jpg\n"
     ]
    },
    {
     "data": {
      "text/plain": [
       "4430"
      ]
     },
     "execution_count": 178,
     "metadata": {},
     "output_type": "execute_result"
    },
    {
     "name": "stdout",
     "output_type": "stream",
     "text": [
      "images found ['כפר-גלעדי-19_7334.jpg']\n",
      "number of images found 1\n",
      "0 כפר-גלעדי-19_7334.jpg\n"
     ]
    },
    {
     "data": {
      "text/plain": [
       "4428"
      ]
     },
     "execution_count": 178,
     "metadata": {},
     "output_type": "execute_result"
    },
    {
     "name": "stdout",
     "output_type": "stream",
     "text": [
      "images found ['החלוצים-14-לוינסקי-55_7348.jpg']\n",
      "number of images found 1\n",
      "0 החלוצים-14-לוינסקי-55_7348.jpg\n"
     ]
    },
    {
     "data": {
      "text/plain": [
       "4430"
      ]
     },
     "execution_count": 178,
     "metadata": {},
     "output_type": "execute_result"
    },
    {
     "name": "stdout",
     "output_type": "stream",
     "text": [
      "images found ['הדואר 9-שדרות-ירושלים-12-ליענר-שלמה-1-שמי-יחיאל-2_7375.jpg']\n",
      "number of images found 1\n",
      "0 הדואר 9-שדרות-ירושלים-12-ליענר-שלמה-1-שמי-יחיאל-2_7375.jpg\n"
     ]
    },
    {
     "data": {
      "text/plain": [
       "4449"
      ]
     },
     "execution_count": 178,
     "metadata": {},
     "output_type": "execute_result"
    },
    {
     "name": "stdout",
     "output_type": "stream",
     "text": [
      "images found ['רבי-חנינא-14_7376.jpg', 'רבי-חנינא-16_7376.jpg']\n",
      "number of images found 2\n",
      "0 רבי-חנינא-14_7376.jpg\n",
      "1 רבי-חנינא-16_7376.jpg\n",
      "1 רבי-חנינא-16_7376.jpg\n"
     ]
    },
    {
     "data": {
      "text/plain": [
       "4592"
      ]
     },
     "execution_count": 178,
     "metadata": {},
     "output_type": "execute_result"
    },
    {
     "name": "stdout",
     "output_type": "stream",
     "text": [
      "images found ['מזרחי-8-לוינסקי-17_7377.jpg']\n",
      "number of images found 1\n",
      "0 מזרחי-8-לוינסקי-17_7377.jpg\n"
     ]
    },
    {
     "data": {
      "text/plain": [
       "4423"
      ]
     },
     "execution_count": 178,
     "metadata": {},
     "output_type": "execute_result"
    },
    {
     "name": "stdout",
     "output_type": "stream",
     "text": [
      "images found ['מרכלת-5-לוינסקי-11_7387.jpg']\n",
      "number of images found 1\n",
      "0 מרכלת-5-לוינסקי-11_7387.jpg\n"
     ]
    },
    {
     "data": {
      "text/plain": [
       "4424"
      ]
     },
     "execution_count": 178,
     "metadata": {},
     "output_type": "execute_result"
    },
    {
     "name": "stdout",
     "output_type": "stream",
     "text": [
      "images found ['הרצל-140(2)_7388.jpg', 'הרצל-140_7388.jpg']\n",
      "number of images found 2\n",
      "0 הרצל-140(2)_7388.jpg\n",
      "1 הרצל-140_7388.jpg\n",
      "1 הרצל-140_7388.jpg\n"
     ]
    },
    {
     "data": {
      "text/plain": [
       "4570"
      ]
     },
     "execution_count": 178,
     "metadata": {},
     "output_type": "execute_result"
    },
    {
     "name": "stdout",
     "output_type": "stream",
     "text": [
      "images found ['כפר-גלעדי-16_7402.jpg']\n",
      "number of images found 1\n",
      "0 כפר-גלעדי-16_7402.jpg\n"
     ]
    },
    {
     "data": {
      "text/plain": [
       "4427"
      ]
     },
     "execution_count": 178,
     "metadata": {},
     "output_type": "execute_result"
    },
    {
     "name": "stdout",
     "output_type": "stream",
     "text": [
      "images found ['כפר-גלעדי-14-לוינסקי-16_7403.jpg']\n",
      "number of images found 1\n",
      "0 כפר-גלעדי-14-לוינסקי-16_7403.jpg\n"
     ]
    },
    {
     "data": {
      "text/plain": [
       "4438"
      ]
     },
     "execution_count": 178,
     "metadata": {},
     "output_type": "execute_result"
    },
    {
     "name": "stdout",
     "output_type": "stream",
     "text": [
      "images found ['ויקטור-הוגו-10_7405.jpg']\n",
      "number of images found 1\n",
      "0 ויקטור-הוגו-10_7405.jpg\n"
     ]
    },
    {
     "data": {
      "text/plain": [
       "4415"
      ]
     },
     "execution_count": 178,
     "metadata": {},
     "output_type": "execute_result"
    },
    {
     "name": "stdout",
     "output_type": "stream",
     "text": [
      "images found ['שבטי-ישראל-42-עבד-אל-גני-17_7407.jpg']\n",
      "number of images found 1\n",
      "0 שבטי-ישראל-42-עבד-אל-גני-17_7407.jpg\n"
     ]
    },
    {
     "data": {
      "text/plain": [
       "4435"
      ]
     },
     "execution_count": 178,
     "metadata": {},
     "output_type": "execute_result"
    },
    {
     "name": "stdout",
     "output_type": "stream",
     "text": [
      "images found ['השוק-30-אלוף בצלות 7-מטלון-32_7421.jpg']\n",
      "number of images found 1\n",
      "0 השוק-30-אלוף בצלות 7-מטלון-32_7421.jpg\n"
     ]
    },
    {
     "data": {
      "text/plain": [
       "4432"
      ]
     },
     "execution_count": 178,
     "metadata": {},
     "output_type": "execute_result"
    },
    {
     "name": "stdout",
     "output_type": "stream",
     "text": [
      "images found ['כפר-גלעדי-22-24_7423.jpg']\n",
      "number of images found 1\n",
      "0 כפר-גלעדי-22-24_7423.jpg\n"
     ]
    },
    {
     "data": {
      "text/plain": [
       "4430"
      ]
     },
     "execution_count": 178,
     "metadata": {},
     "output_type": "execute_result"
    },
    {
     "name": "stdout",
     "output_type": "stream",
     "text": [
      "images found ['המלך-חירם-16-שמעון-הצדיק-4(2)_7433.jpg', 'המלך-חירם-16-שמעון-הצדיק-4_7433.jpg', 'שמעון-הצדיק 4-המלך-חירם-16_7433.jpg']\n",
      "number of images found 3\n",
      "0 המלך-חירם-16-שמעון-הצדיק-4(2)_7433.jpg\n",
      "1 המלך-חירם-16-שמעון-הצדיק-4_7433.jpg\n",
      "2 שמעון-הצדיק 4-המלך-חירם-16_7433.jpg\n",
      "1 המלך-חירם-16-שמעון-הצדיק-4_7433.jpg\n",
      "2 שמעון-הצדיק 4-המלך-חירם-16_7433.jpg\n"
     ]
    },
    {
     "data": {
      "text/plain": [
       "4831"
      ]
     },
     "execution_count": 178,
     "metadata": {},
     "output_type": "execute_result"
    },
    {
     "name": "stdout",
     "output_type": "stream",
     "text": [
      "images found ['יהודה-הימית-37-לוינסון-אברהם-2_7436.jpg']\n",
      "number of images found 1\n",
      "0 יהודה-הימית-37-לוינסון-אברהם-2_7436.jpg\n"
     ]
    },
    {
     "data": {
      "text/plain": [
       "4439"
      ]
     },
     "execution_count": 178,
     "metadata": {},
     "output_type": "execute_result"
    },
    {
     "name": "stdout",
     "output_type": "stream",
     "text": [
      "images found ['שמעון-הצדיק-6-המלך-חירם-14_7439.jpg']\n",
      "number of images found 1\n",
      "0 שמעון-הצדיק-6-המלך-חירם-14_7439.jpg\n"
     ]
    },
    {
     "data": {
      "text/plain": [
       "4416"
      ]
     },
     "execution_count": 178,
     "metadata": {},
     "output_type": "execute_result"
    },
    {
     "name": "stdout",
     "output_type": "stream",
     "text": [
      "images found ['רבי-חנינא-22(2)_7456.jpg', 'רבי-חנינא-22_7456.jpg']\n",
      "number of images found 2\n",
      "0 רבי-חנינא-22(2)_7456.jpg\n",
      "1 רבי-חנינא-22_7456.jpg\n",
      "1 רבי-חנינא-22_7456.jpg\n"
     ]
    },
    {
     "data": {
      "text/plain": [
       "4589"
      ]
     },
     "execution_count": 178,
     "metadata": {},
     "output_type": "execute_result"
    },
    {
     "name": "stdout",
     "output_type": "stream",
     "text": [
      "images found ['עולי-ציון-8-עמיעד-13-15-רבי-חנניה-1_7461.jpg']\n",
      "number of images found 1\n",
      "0 עולי-ציון-8-עמיעד-13-15-רבי-חנניה-1_7461.jpg\n"
     ]
    },
    {
     "data": {
      "text/plain": [
       "4413"
      ]
     },
     "execution_count": 178,
     "metadata": {},
     "output_type": "execute_result"
    },
    {
     "name": "stdout",
     "output_type": "stream",
     "text": [
      "images found ['יפת-27(2)_7462.jpg', 'יפת-27_7462.jpg']\n",
      "number of images found 2\n",
      "0 יפת-27(2)_7462.jpg\n",
      "1 יפת-27_7462.jpg\n",
      "1 יפת-27_7462.jpg\n"
     ]
    },
    {
     "data": {
      "text/plain": [
       "4554"
      ]
     },
     "execution_count": 178,
     "metadata": {},
     "output_type": "execute_result"
    },
    {
     "name": "stdout",
     "output_type": "stream",
     "text": [
      "images found ['מטלון-74א׳_7494.jpg']\n",
      "number of images found 1\n",
      "0 מטלון-74א׳_7494.jpg\n"
     ]
    },
    {
     "data": {
      "text/plain": [
       "4410"
      ]
     },
     "execution_count": 178,
     "metadata": {},
     "output_type": "execute_result"
    },
    {
     "name": "stdout",
     "output_type": "stream",
     "text": [
      "images found ['מרחביה-11-לוינסקי-45_7499.jpg']\n",
      "number of images found 1\n",
      "0 מרחביה-11-לוינסקי-45_7499.jpg\n"
     ]
    },
    {
     "data": {
      "text/plain": [
       "4427"
      ]
     },
     "execution_count": 178,
     "metadata": {},
     "output_type": "execute_result"
    },
    {
     "name": "stdout",
     "output_type": "stream",
     "text": [
      "images found ['יפו-34-המשביר-2_7526.jpg']\n",
      "number of images found 1\n",
      "0 יפו-34-המשביר-2_7526.jpg\n"
     ]
    },
    {
     "data": {
      "text/plain": [
       "4431"
      ]
     },
     "execution_count": 178,
     "metadata": {},
     "output_type": "execute_result"
    },
    {
     "name": "stdout",
     "output_type": "stream",
     "text": [
      "images found ['נחלת-בניימין-105-לוינסקי-42(2)_7527.jpg', 'נחלת-בניימין-105-לוינסקי-42_7527.jpg']\n",
      "number of images found 2\n",
      "0 נחלת-בניימין-105-לוינסקי-42(2)_7527.jpg\n",
      "1 נחלת-בניימין-105-לוינסקי-42_7527.jpg\n",
      "1 נחלת-בניימין-105-לוינסקי-42_7527.jpg\n"
     ]
    },
    {
     "data": {
      "text/plain": [
       "4662"
      ]
     },
     "execution_count": 178,
     "metadata": {},
     "output_type": "execute_result"
    },
    {
     "name": "stdout",
     "output_type": "stream",
     "text": [
      "images found ['אילת-8-ניצנה-7_7542.jpg']\n",
      "number of images found 1\n",
      "0 אילת-8-ניצנה-7_7542.jpg\n"
     ]
    },
    {
     "data": {
      "text/plain": [
       "4389"
      ]
     },
     "execution_count": 178,
     "metadata": {},
     "output_type": "execute_result"
    },
    {
     "name": "stdout",
     "output_type": "stream",
     "text": [
      "images found ['אבינרי יצחק 8-(חזית אחורית)_7563.jpg']\n",
      "number of images found 1\n",
      "0 אבינרי יצחק 8-(חזית אחורית)_7563.jpg\n"
     ]
    },
    {
     "data": {
      "text/plain": [
       "4422"
      ]
     },
     "execution_count": 178,
     "metadata": {},
     "output_type": "execute_result"
    },
    {
     "name": "stdout",
     "output_type": "stream",
     "text": [
      "images found []\n",
      "number of images found 0\n"
     ]
    },
    {
     "data": {
      "text/plain": [
       "4291"
      ]
     },
     "execution_count": 178,
     "metadata": {},
     "output_type": "execute_result"
    },
    {
     "name": "stdout",
     "output_type": "stream",
     "text": [
      "images found ['מטלון-5-רענן-28_8158.jpg']\n",
      "number of images found 1\n",
      "0 מטלון-5-רענן-28_8158.jpg\n"
     ]
    },
    {
     "data": {
      "text/plain": [
       "4418"
      ]
     },
     "execution_count": 178,
     "metadata": {},
     "output_type": "execute_result"
    },
    {
     "name": "stdout",
     "output_type": "stream",
     "text": [
      "images found ['החרש-41-לבנדה-56_8290.jpg']\n",
      "number of images found 1\n",
      "0 החרש-41-לבנדה-56_8290.jpg\n"
     ]
    },
    {
     "data": {
      "text/plain": [
       "4415"
      ]
     },
     "execution_count": 178,
     "metadata": {},
     "output_type": "execute_result"
    },
    {
     "name": "stdout",
     "output_type": "stream",
     "text": [
      "images found ['עולי-ציון-13_8369.jpg']\n",
      "number of images found 1\n",
      "0 עולי-ציון-13_8369.jpg\n"
     ]
    },
    {
     "data": {
      "text/plain": [
       "4405"
      ]
     },
     "execution_count": 178,
     "metadata": {},
     "output_type": "execute_result"
    },
    {
     "name": "stdout",
     "output_type": "stream",
     "text": [
      "images found ['יפו-36-המשביר-1_8370.jpg']\n",
      "number of images found 1\n",
      "0 יפו-36-המשביר-1_8370.jpg\n"
     ]
    },
    {
     "data": {
      "text/plain": [
       "4431"
      ]
     },
     "execution_count": 178,
     "metadata": {},
     "output_type": "execute_result"
    },
    {
     "name": "stdout",
     "output_type": "stream",
     "text": [
      "images found ['העליה-22_8371.jpg']\n",
      "number of images found 1\n",
      "0 העליה-22_8371.jpg\n"
     ]
    },
    {
     "data": {
      "text/plain": [
       "4417"
      ]
     },
     "execution_count": 178,
     "metadata": {},
     "output_type": "execute_result"
    },
    {
     "name": "stdout",
     "output_type": "stream",
     "text": [
      "images found ['העליה-2-יפו-62_8372.jpg']\n",
      "number of images found 1\n",
      "0 העליה-2-יפו-62_8372.jpg\n"
     ]
    },
    {
     "data": {
      "text/plain": [
       "4430"
      ]
     },
     "execution_count": 178,
     "metadata": {},
     "output_type": "execute_result"
    },
    {
     "name": "stdout",
     "output_type": "stream",
     "text": [
      "images found ['העליה-12_8373.jpg']\n",
      "number of images found 1\n",
      "0 העליה-12_8373.jpg\n"
     ]
    },
    {
     "data": {
      "text/plain": [
       "4416"
      ]
     },
     "execution_count": 178,
     "metadata": {},
     "output_type": "execute_result"
    },
    {
     "name": "stdout",
     "output_type": "stream",
     "text": [
      "images found ['העליה-10_8374.jpg']\n",
      "number of images found 1\n",
      "0 העליה-10_8374.jpg\n"
     ]
    },
    {
     "data": {
      "text/plain": [
       "4417"
      ]
     },
     "execution_count": 178,
     "metadata": {},
     "output_type": "execute_result"
    },
    {
     "name": "stdout",
     "output_type": "stream",
     "text": [
      "images found []\n",
      "number of images found 0\n"
     ]
    },
    {
     "data": {
      "text/plain": [
       "4321"
      ]
     },
     "execution_count": 178,
     "metadata": {},
     "output_type": "execute_result"
    },
    {
     "name": "stdout",
     "output_type": "stream",
     "text": [
      "images found ['המשביר-19_8376.jpg']\n",
      "number of images found 1\n",
      "0 המשביר-19_8376.jpg\n"
     ]
    },
    {
     "data": {
      "text/plain": [
       "4420"
      ]
     },
     "execution_count": 178,
     "metadata": {},
     "output_type": "execute_result"
    },
    {
     "name": "stdout",
     "output_type": "stream",
     "text": [
      "images found ['המשביר-11_8377.jpg']\n",
      "number of images found 1\n",
      "0 המשביר-11_8377.jpg\n"
     ]
    },
    {
     "data": {
      "text/plain": [
       "4420"
      ]
     },
     "execution_count": 178,
     "metadata": {},
     "output_type": "execute_result"
    },
    {
     "name": "stdout",
     "output_type": "stream",
     "text": [
      "images found ['עולי-ציון-4-רבי-אחא-2_8379.jpg']\n",
      "number of images found 1\n",
      "0 עולי-ציון-4-רבי-אחא-2_8379.jpg\n"
     ]
    },
    {
     "data": {
      "text/plain": [
       "4411"
      ]
     },
     "execution_count": 178,
     "metadata": {},
     "output_type": "execute_result"
    },
    {
     "name": "stdout",
     "output_type": "stream",
     "text": [
      "images found ['הקישון-81_8384.jpg']\n",
      "number of images found 1\n",
      "0 הקישון-81_8384.jpg\n"
     ]
    },
    {
     "data": {
      "text/plain": [
       "4419"
      ]
     },
     "execution_count": 178,
     "metadata": {},
     "output_type": "execute_result"
    },
    {
     "name": "stdout",
     "output_type": "stream",
     "text": [
      "images found ['נחלת-בניימין-92_8390.jpg']\n",
      "number of images found 1\n",
      "0 נחלת-בניימין-92_8390.jpg\n"
     ]
    },
    {
     "data": {
      "text/plain": [
       "4439"
      ]
     },
     "execution_count": 178,
     "metadata": {},
     "output_type": "execute_result"
    },
    {
     "name": "stdout",
     "output_type": "stream",
     "text": [
      "images found ['אילת-32-פברגט-אנריקה-1_8391.jpg']\n",
      "number of images found 1\n",
      "0 אילת-32-פברגט-אנריקה-1_8391.jpg\n"
     ]
    },
    {
     "data": {
      "text/plain": [
       "4393"
      ]
     },
     "execution_count": 178,
     "metadata": {},
     "output_type": "execute_result"
    },
    {
     "name": "stdout",
     "output_type": "stream",
     "text": [
      "images found ['נס-לגויים-9-עזה-66_8422.jpg']\n",
      "number of images found 1\n",
      "0 נס-לגויים-9-עזה-66_8422.jpg\n"
     ]
    },
    {
     "data": {
      "text/plain": [
       "4425"
      ]
     },
     "execution_count": 178,
     "metadata": {},
     "output_type": "execute_result"
    },
    {
     "name": "stdout",
     "output_type": "stream",
     "text": [
      "images found ['יהודה-מרגוזה-25_8429.jpg']\n",
      "number of images found 1\n",
      "0 יהודה-מרגוזה-25_8429.jpg\n"
     ]
    },
    {
     "data": {
      "text/plain": [
       "4413"
      ]
     },
     "execution_count": 178,
     "metadata": {},
     "output_type": "execute_result"
    },
    {
     "name": "stdout",
     "output_type": "stream",
     "text": [
      "images found ['למרטין-15-עזה-34_8436.jpg', 'עולי-ציון-34(2)_8436.jpg', 'עולי-ציון-34_8436.jpg']\n",
      "number of images found 3\n",
      "0 למרטין-15-עזה-34_8436.jpg\n",
      "1 עולי-ציון-34(2)_8436.jpg\n",
      "2 עולי-ציון-34_8436.jpg\n",
      "1 עולי-ציון-34(2)_8436.jpg\n",
      "2 עולי-ציון-34_8436.jpg\n"
     ]
    },
    {
     "data": {
      "text/plain": [
       "4789"
      ]
     },
     "execution_count": 178,
     "metadata": {},
     "output_type": "execute_result"
    },
    {
     "name": "stdout",
     "output_type": "stream",
     "text": [
      "images found ['למרטין-30-שדרות -ירושלים 101_8465.jpg', 'למרטין-30-שדרות-ירושלים-101_8465.jpg']\n",
      "number of images found 2\n",
      "0 למרטין-30-שדרות -ירושלים 101_8465.jpg\n",
      "1 למרטין-30-שדרות-ירושלים-101_8465.jpg\n",
      "1 למרטין-30-שדרות-ירושלים-101_8465.jpg\n"
     ]
    },
    {
     "data": {
      "text/plain": [
       "4632"
      ]
     },
     "execution_count": 178,
     "metadata": {},
     "output_type": "execute_result"
    },
    {
     "name": "stdout",
     "output_type": "stream",
     "text": [
      "images found ['יהודה-מרגוזה-28_8476.jpg']\n",
      "number of images found 1\n",
      "0 יהודה-מרגוזה-28_8476.jpg\n"
     ]
    },
    {
     "data": {
      "text/plain": [
       "4406"
      ]
     },
     "execution_count": 178,
     "metadata": {},
     "output_type": "execute_result"
    },
    {
     "name": "stdout",
     "output_type": "stream",
     "text": [
      "images found ['ראסין-ז׳אן-10_8483.jpg']\n",
      "number of images found 1\n",
      "0 ראסין-ז׳אן-10_8483.jpg\n"
     ]
    },
    {
     "data": {
      "text/plain": [
       "4416"
      ]
     },
     "execution_count": 178,
     "metadata": {},
     "output_type": "execute_result"
    },
    {
     "name": "stdout",
     "output_type": "stream",
     "text": [
      "images found ['יפת-89_8491.jpg']\n",
      "number of images found 1\n",
      "0 יפת-89_8491.jpg\n"
     ]
    },
    {
     "data": {
      "text/plain": [
       "4397"
      ]
     },
     "execution_count": 178,
     "metadata": {},
     "output_type": "execute_result"
    },
    {
     "name": "stdout",
     "output_type": "stream",
     "text": [
      "images found ['יהודה-הימית-57(2)_8494.jpg', 'יהודה-הימית-57_8494.jpg']\n",
      "number of images found 2\n",
      "0 יהודה-הימית-57(2)_8494.jpg\n",
      "1 יהודה-הימית-57_8494.jpg\n",
      "1 יהודה-הימית-57_8494.jpg\n"
     ]
    },
    {
     "data": {
      "text/plain": [
       "4614"
      ]
     },
     "execution_count": 178,
     "metadata": {},
     "output_type": "execute_result"
    },
    {
     "name": "stdout",
     "output_type": "stream",
     "text": [
      "images found ['יפת-103-מאור-עיניים-2_8510.jpg']\n",
      "number of images found 1\n",
      "0 יפת-103-מאור-עיניים-2_8510.jpg\n"
     ]
    },
    {
     "data": {
      "text/plain": [
       "4414"
      ]
     },
     "execution_count": 178,
     "metadata": {},
     "output_type": "execute_result"
    },
    {
     "name": "stdout",
     "output_type": "stream",
     "text": [
      "images found ['יפו-60-החלוצים-1_8533.jpg']\n",
      "number of images found 1\n",
      "0 יפו-60-החלוצים-1_8533.jpg\n"
     ]
    },
    {
     "data": {
      "text/plain": [
       "4433"
      ]
     },
     "execution_count": 178,
     "metadata": {},
     "output_type": "execute_result"
    },
    {
     "name": "stdout",
     "output_type": "stream",
     "text": [
      "images found ['פלורנטין-16_8535.jpg']\n",
      "number of images found 1\n",
      "0 פלורנטין-16_8535.jpg\n"
     ]
    },
    {
     "data": {
      "text/plain": [
       "4422"
      ]
     },
     "execution_count": 178,
     "metadata": {},
     "output_type": "execute_result"
    },
    {
     "name": "stdout",
     "output_type": "stream",
     "text": [
      "images found []\n",
      "number of images found 0\n"
     ]
    },
    {
     "data": {
      "text/plain": [
       "4296"
      ]
     },
     "execution_count": 178,
     "metadata": {},
     "output_type": "execute_result"
    },
    {
     "name": "stdout",
     "output_type": "stream",
     "text": [
      "images found ['אחילוף-3_8543.jpg']\n",
      "number of images found 1\n",
      "0 אחילוף-3_8543.jpg\n"
     ]
    },
    {
     "data": {
      "text/plain": [
       "4390"
      ]
     },
     "execution_count": 178,
     "metadata": {},
     "output_type": "execute_result"
    },
    {
     "name": "stdout",
     "output_type": "stream",
     "text": [
      "images found ['קדם-57_8544.jpg']\n",
      "number of images found 1\n",
      "0 קדם-57_8544.jpg\n"
     ]
    },
    {
     "data": {
      "text/plain": [
       "4387"
      ]
     },
     "execution_count": 178,
     "metadata": {},
     "output_type": "execute_result"
    },
    {
     "name": "stdout",
     "output_type": "stream",
     "text": [
      "images found ['יהודה-מרגוזה-5-עולי-ציון-11_8553.jpg']\n",
      "number of images found 1\n",
      "0 יהודה-מרגוזה-5-עולי-ציון-11_8553.jpg\n"
     ]
    },
    {
     "data": {
      "text/plain": [
       "4409"
      ]
     },
     "execution_count": 178,
     "metadata": {},
     "output_type": "execute_result"
    },
    {
     "name": "stdout",
     "output_type": "stream",
     "text": [
      "images found ['פלורנטין-17_8589.jpg']\n",
      "number of images found 1\n",
      "0 פלורנטין-17_8589.jpg\n"
     ]
    },
    {
     "data": {
      "text/plain": [
       "4422"
      ]
     },
     "execution_count": 178,
     "metadata": {},
     "output_type": "execute_result"
    },
    {
     "name": "stdout",
     "output_type": "stream",
     "text": [
      "images found ['החלוצים-39_8593.jpg']\n",
      "number of images found 1\n",
      "0 החלוצים-39_8593.jpg\n"
     ]
    },
    {
     "data": {
      "text/plain": [
       "4423"
      ]
     },
     "execution_count": 178,
     "metadata": {},
     "output_type": "execute_result"
    },
    {
     "name": "stdout",
     "output_type": "stream",
     "text": [
      "images found ['אאורבך-6_8596.jpg']\n",
      "number of images found 1\n",
      "0 אאורבך-6_8596.jpg\n"
     ]
    },
    {
     "data": {
      "text/plain": [
       "4384"
      ]
     },
     "execution_count": 178,
     "metadata": {},
     "output_type": "execute_result"
    },
    {
     "name": "stdout",
     "output_type": "stream",
     "text": [
      "images found ['הקישון-66_8597.jpg']\n",
      "number of images found 1\n",
      "0 הקישון-66_8597.jpg\n"
     ]
    },
    {
     "data": {
      "text/plain": [
       "4419"
      ]
     },
     "execution_count": 178,
     "metadata": {},
     "output_type": "execute_result"
    },
    {
     "name": "stdout",
     "output_type": "stream",
     "text": [
      "images found ['שמעון-הצדיק-13-15-שמעיה-10-אבטליון-1_8599.jpg']\n",
      "number of images found 1\n",
      "0 שמעון-הצדיק-13-15-שמעיה-10-אבטליון-1_8599.jpg\n"
     ]
    },
    {
     "data": {
      "text/plain": [
       "4456"
      ]
     },
     "execution_count": 178,
     "metadata": {},
     "output_type": "execute_result"
    },
    {
     "name": "stdout",
     "output_type": "stream",
     "text": [
      "images found ['נחמה-11-רוחמה-9-11-ניצנה-14-16-סגולה-8(2)_8600.jpg', 'נחמה11-רוחמה-9-11-ניצנה-14-16-סגולה-8(2)_8600.jpg']\n",
      "number of images found 2\n",
      "0 נחמה-11-רוחמה-9-11-ניצנה-14-16-סגולה-8(2)_8600.jpg\n",
      "1 נחמה11-רוחמה-9-11-ניצנה-14-16-סגולה-8(2)_8600.jpg\n",
      "1 נחמה11-רוחמה-9-11-ניצנה-14-16-סגולה-8(2)_8600.jpg\n"
     ]
    },
    {
     "data": {
      "text/plain": [
       "4622"
      ]
     },
     "execution_count": 178,
     "metadata": {},
     "output_type": "execute_result"
    },
    {
     "name": "stdout",
     "output_type": "stream",
     "text": [
      "images found ['שמעיה-14-אבטליון-4-בן-עזריה-אלעזר-7_8601.jpg']\n",
      "number of images found 1\n",
      "0 שמעיה-14-אבטליון-4-בן-עזריה-אלעזר-7_8601.jpg\n"
     ]
    },
    {
     "data": {
      "text/plain": [
       "4433"
      ]
     },
     "execution_count": 178,
     "metadata": {},
     "output_type": "execute_result"
    },
    {
     "name": "stdout",
     "output_type": "stream",
     "text": [
      "images found ['קורדיברו-12_8604.jpg']\n",
      "number of images found 1\n",
      "0 קורדיברו-12_8604.jpg\n"
     ]
    },
    {
     "data": {
      "text/plain": [
       "4421"
      ]
     },
     "execution_count": 178,
     "metadata": {},
     "output_type": "execute_result"
    },
    {
     "name": "stdout",
     "output_type": "stream",
     "text": [
      "images found ['אילת-42-קומפורט-1_8610.jpg']\n",
      "number of images found 1\n",
      "0 אילת-42-קומפורט-1_8610.jpg\n"
     ]
    },
    {
     "data": {
      "text/plain": [
       "4391"
      ]
     },
     "execution_count": 178,
     "metadata": {},
     "output_type": "execute_result"
    },
    {
     "name": "stdout",
     "output_type": "stream",
     "text": [
      "images found ['הקישון-83_8611.jpg']\n",
      "number of images found 1\n",
      "0 הקישון-83_8611.jpg\n"
     ]
    },
    {
     "data": {
      "text/plain": [
       "4389"
      ]
     },
     "execution_count": 178,
     "metadata": {},
     "output_type": "execute_result"
    },
    {
     "name": "stdout",
     "output_type": "stream",
     "text": [
      "images found ['נחלת-בניימין-86-לוינסקי-40_8614.jpg']\n",
      "number of images found 1\n",
      "0 נחלת-בניימין-86-לוינסקי-40_8614.jpg\n"
     ]
    },
    {
     "data": {
      "text/plain": [
       "4451"
      ]
     },
     "execution_count": 178,
     "metadata": {},
     "output_type": "execute_result"
    },
    {
     "name": "stdout",
     "output_type": "stream",
     "text": [
      "images found ['פלורנטין-25-שטרן-אברהם-12(2)_8615.jpg', 'פלורנטין-25-שטרן-אברהם-12_8615.jpg']\n",
      "number of images found 2\n",
      "0 פלורנטין-25-שטרן-אברהם-12(2)_8615.jpg\n",
      "1 פלורנטין-25-שטרן-אברהם-12_8615.jpg\n",
      "1 פלורנטין-25-שטרן-אברהם-12_8615.jpg\n"
     ]
    },
    {
     "data": {
      "text/plain": [
       "4631"
      ]
     },
     "execution_count": 178,
     "metadata": {},
     "output_type": "execute_result"
    },
    {
     "name": "stdout",
     "output_type": "stream",
     "text": [
      "images found ['נחלת-בניימין-82-80_8618.jpg']\n",
      "number of images found 1\n",
      "0 נחלת-בניימין-82-80_8618.jpg\n"
     ]
    },
    {
     "data": {
      "text/plain": [
       "4448"
      ]
     },
     "execution_count": 178,
     "metadata": {},
     "output_type": "execute_result"
    },
    {
     "name": "stdout",
     "output_type": "stream",
     "text": [
      "images found []\n",
      "number of images found 0\n"
     ]
    },
    {
     "data": {
      "text/plain": [
       "4314"
      ]
     },
     "execution_count": 178,
     "metadata": {},
     "output_type": "execute_result"
    },
    {
     "name": "stdout",
     "output_type": "stream",
     "text": [
      "images found ['השוק-3-סמטת-השוק-2_8658.jpg']\n",
      "number of images found 1\n",
      "0 השוק-3-סמטת-השוק-2_8658.jpg\n"
     ]
    },
    {
     "data": {
      "text/plain": [
       "4421"
      ]
     },
     "execution_count": 178,
     "metadata": {},
     "output_type": "execute_result"
    },
    {
     "name": "stdout",
     "output_type": "stream",
     "text": [
      "images found ['נחלת-בניימין-76_8682.jpg']\n",
      "number of images found 1\n",
      "0 נחלת-בניימין-76_8682.jpg\n"
     ]
    },
    {
     "data": {
      "text/plain": [
       "4440"
      ]
     },
     "execution_count": 178,
     "metadata": {},
     "output_type": "execute_result"
    },
    {
     "name": "stdout",
     "output_type": "stream",
     "text": [
      "images found ['נחלת-בנימין-140_8686.jpg']\n",
      "number of images found 1\n",
      "0 נחלת-בנימין-140_8686.jpg\n"
     ]
    },
    {
     "data": {
      "text/plain": [
       "4442"
      ]
     },
     "execution_count": 178,
     "metadata": {},
     "output_type": "execute_result"
    },
    {
     "name": "stdout",
     "output_type": "stream",
     "text": [
      "images found ['נחלת-בניימין-115-מטלון-40_8692.jpg']\n",
      "number of images found 1\n",
      "0 נחלת-בניימין-115-מטלון-40_8692.jpg\n"
     ]
    },
    {
     "data": {
      "text/plain": [
       "4451"
      ]
     },
     "execution_count": 178,
     "metadata": {},
     "output_type": "execute_result"
    },
    {
     "name": "stdout",
     "output_type": "stream",
     "text": [
      "images found ['וולפסון-19_8714.jpg']\n",
      "number of images found 1\n",
      "0 וולפסון-19_8714.jpg\n"
     ]
    },
    {
     "data": {
      "text/plain": [
       "4415"
      ]
     },
     "execution_count": 178,
     "metadata": {},
     "output_type": "execute_result"
    },
    {
     "name": "stdout",
     "output_type": "stream",
     "text": [
      "images found ['הרצל-66-וולפסון-15_8715.jpg']\n",
      "number of images found 1\n",
      "0 הרצל-66-וולפסון-15_8715.jpg\n"
     ]
    },
    {
     "data": {
      "text/plain": [
       "4421"
      ]
     },
     "execution_count": 178,
     "metadata": {},
     "output_type": "execute_result"
    },
    {
     "name": "stdout",
     "output_type": "stream",
     "text": [
      "images found ['השוק-7-לוינסקי-32_8718.jpg']\n",
      "number of images found 1\n",
      "0 השוק-7-לוינסקי-32_8718.jpg\n"
     ]
    },
    {
     "data": {
      "text/plain": [
       "4419"
      ]
     },
     "execution_count": 178,
     "metadata": {},
     "output_type": "execute_result"
    },
    {
     "name": "stdout",
     "output_type": "stream",
     "text": [
      "images found ['הרצל 61-השוק 38-וולפסון-18-20-22_8719.jpg']\n",
      "number of images found 1\n",
      "0 הרצל 61-השוק 38-וולפסון-18-20-22_8719.jpg\n"
     ]
    },
    {
     "data": {
      "text/plain": [
       "4434"
      ]
     },
     "execution_count": 178,
     "metadata": {},
     "output_type": "execute_result"
    },
    {
     "name": "stdout",
     "output_type": "stream",
     "text": [
      "images found ['גורקי-4_8752.jpg']\n",
      "number of images found 1\n",
      "0 גורקי-4_8752.jpg\n"
     ]
    },
    {
     "data": {
      "text/plain": [
       "4396"
      ]
     },
     "execution_count": 178,
     "metadata": {},
     "output_type": "execute_result"
    },
    {
     "name": "stdout",
     "output_type": "stream",
     "text": [
      "images found ['הקישון-6_8755.jpg']\n",
      "number of images found 1\n",
      "0 הקישון-6_8755.jpg\n"
     ]
    },
    {
     "data": {
      "text/plain": [
       "4415"
      ]
     },
     "execution_count": 178,
     "metadata": {},
     "output_type": "execute_result"
    },
    {
     "name": "stdout",
     "output_type": "stream",
     "text": [
      "images found ['הקישון-58-פלורנטין-33_8757.jpg']\n",
      "number of images found 1\n",
      "0 הקישון-58-פלורנטין-33_8757.jpg\n"
     ]
    },
    {
     "data": {
      "text/plain": [
       "4432"
      ]
     },
     "execution_count": 178,
     "metadata": {},
     "output_type": "execute_result"
    },
    {
     "name": "stdout",
     "output_type": "stream",
     "text": [
      "images found ['אילת-40-קומפורט-2_8761.jpg']\n",
      "number of images found 1\n",
      "0 אילת-40-קומפורט-2_8761.jpg\n"
     ]
    },
    {
     "data": {
      "text/plain": [
       "4390"
      ]
     },
     "execution_count": 178,
     "metadata": {},
     "output_type": "execute_result"
    },
    {
     "name": "stdout",
     "output_type": "stream",
     "text": [
      "images found ['קורדיברו-10_8762.jpg']\n",
      "number of images found 1\n",
      "0 קורדיברו-10_8762.jpg\n"
     ]
    },
    {
     "data": {
      "text/plain": [
       "4422"
      ]
     },
     "execution_count": 178,
     "metadata": {},
     "output_type": "execute_result"
    },
    {
     "name": "stdout",
     "output_type": "stream",
     "text": [
      "images found ['העליה-48-פרנקל-ידידיה-59_8763.jpg']\n",
      "number of images found 1\n",
      "0 העליה-48-פרנקל-ידידיה-59_8763.jpg\n"
     ]
    },
    {
     "data": {
      "text/plain": [
       "4432"
      ]
     },
     "execution_count": 178,
     "metadata": {},
     "output_type": "execute_result"
    },
    {
     "name": "stdout",
     "output_type": "stream",
     "text": [
      "images found ['החלוצים-24-מטלון-46_8764.jpg']\n",
      "number of images found 1\n",
      "0 החלוצים-24-מטלון-46_8764.jpg\n"
     ]
    },
    {
     "data": {
      "text/plain": [
       "4426"
      ]
     },
     "execution_count": 178,
     "metadata": {},
     "output_type": "execute_result"
    },
    {
     "name": "stdout",
     "output_type": "stream",
     "text": [
      "images found ['הרצל-30_8772.jpg']\n",
      "number of images found 1\n",
      "0 הרצל-30_8772.jpg\n"
     ]
    },
    {
     "data": {
      "text/plain": [
       "4410"
      ]
     },
     "execution_count": 178,
     "metadata": {},
     "output_type": "execute_result"
    },
    {
     "name": "stdout",
     "output_type": "stream",
     "text": [
      "images found ['הרצל-39_8773.jpg']\n",
      "number of images found 1\n",
      "0 הרצל-39_8773.jpg\n"
     ]
    },
    {
     "data": {
      "text/plain": [
       "4409"
      ]
     },
     "execution_count": 178,
     "metadata": {},
     "output_type": "execute_result"
    },
    {
     "name": "stdout",
     "output_type": "stream",
     "text": [
      "images found ['הרצל-40-לווינסקי-20_8775.jpg']\n",
      "number of images found 1\n",
      "0 הרצל-40-לווינסקי-20_8775.jpg\n"
     ]
    },
    {
     "data": {
      "text/plain": [
       "4422"
      ]
     },
     "execution_count": 178,
     "metadata": {},
     "output_type": "execute_result"
    },
    {
     "name": "stdout",
     "output_type": "stream",
     "text": [
      "images found ['החלוצים-33-וולפסון-36_8776.jpg']\n",
      "number of images found 1\n",
      "0 החלוצים-33-וולפסון-36_8776.jpg\n"
     ]
    },
    {
     "data": {
      "text/plain": [
       "4428"
      ]
     },
     "execution_count": 178,
     "metadata": {},
     "output_type": "execute_result"
    },
    {
     "name": "stdout",
     "output_type": "stream",
     "text": [
      "images found ['נחלת-בנימין-130_8787.jpg']\n",
      "number of images found 1\n",
      "0 נחלת-בנימין-130_8787.jpg\n"
     ]
    },
    {
     "data": {
      "text/plain": [
       "4443"
      ]
     },
     "execution_count": 178,
     "metadata": {},
     "output_type": "execute_result"
    },
    {
     "name": "stdout",
     "output_type": "stream",
     "text": [
      "images found ['נחלת-בנימין-128-פלורנטין-44_8788.jpg']\n",
      "number of images found 1\n",
      "0 נחלת-בנימין-128-פלורנטין-44_8788.jpg\n"
     ]
    },
    {
     "data": {
      "text/plain": [
       "4455"
      ]
     },
     "execution_count": 178,
     "metadata": {},
     "output_type": "execute_result"
    },
    {
     "name": "stdout",
     "output_type": "stream",
     "text": [
      "images found ['תג׳ר-ציונה-15_8815.jpg']\n",
      "number of images found 1\n",
      "0 תג׳ר-ציונה-15_8815.jpg\n"
     ]
    },
    {
     "data": {
      "text/plain": [
       "4418"
      ]
     },
     "execution_count": 178,
     "metadata": {},
     "output_type": "execute_result"
    },
    {
     "name": "stdout",
     "output_type": "stream",
     "text": [
      "images found ['תג׳ר-ציונה-17(2)_8816.jpg', 'תג׳ר-ציונה-17-(חזית)_8816.jpg']\n",
      "number of images found 2\n",
      "0 תג׳ר-ציונה-17(2)_8816.jpg\n",
      "1 תג׳ר-ציונה-17-(חזית)_8816.jpg\n",
      "1 תג׳ר-ציונה-17-(חזית)_8816.jpg\n"
     ]
    },
    {
     "data": {
      "text/plain": [
       "4614"
      ]
     },
     "execution_count": 178,
     "metadata": {},
     "output_type": "execute_result"
    },
    {
     "name": "stdout",
     "output_type": "stream",
     "text": [
      "images found ['תג׳ר-ציונה-14-16_8817.jpg']\n",
      "number of images found 1\n",
      "0 תג׳ר-ציונה-14-16_8817.jpg\n"
     ]
    },
    {
     "data": {
      "text/plain": [
       "4421"
      ]
     },
     "execution_count": 178,
     "metadata": {},
     "output_type": "execute_result"
    },
    {
     "name": "stdout",
     "output_type": "stream",
     "text": [
      "images found ['החלוצים-50-א׳_8823.jpg']\n",
      "number of images found 1\n",
      "0 החלוצים-50-א׳_8823.jpg\n"
     ]
    },
    {
     "data": {
      "text/plain": [
       "4431"
      ]
     },
     "execution_count": 178,
     "metadata": {},
     "output_type": "execute_result"
    },
    {
     "name": "stdout",
     "output_type": "stream",
     "text": [
      "images found ['הגמנסיה העברית 8-יועזר איש הבירה 2-4- 3338 1_8826.jpg']\n",
      "number of images found 1\n",
      "0 הגמנסיה העברית 8-יועזר איש הבירה 2-4- 3338 1_8826.jpg\n"
     ]
    },
    {
     "data": {
      "text/plain": [
       "4430"
      ]
     },
     "execution_count": 178,
     "metadata": {},
     "output_type": "execute_result"
    },
    {
     "name": "stdout",
     "output_type": "stream",
     "text": [
      "images found ['תג׳ר-ציונה-8_8827.jpg']\n",
      "number of images found 1\n",
      "0 תג׳ר-ציונה-8_8827.jpg\n"
     ]
    },
    {
     "data": {
      "text/plain": [
       "4416"
      ]
     },
     "execution_count": 178,
     "metadata": {},
     "output_type": "execute_result"
    },
    {
     "name": "stdout",
     "output_type": "stream",
     "text": [
      "images found []\n",
      "number of images found 0\n"
     ]
    },
    {
     "data": {
      "text/plain": [
       "4313"
      ]
     },
     "execution_count": 178,
     "metadata": {},
     "output_type": "execute_result"
    },
    {
     "name": "stdout",
     "output_type": "stream",
     "text": [
      "images found ['דני-קיי-2-תג׳ר-ציונה-9_8829.jpg', 'תג׳ר-ציונה-28_8829.jpg']\n",
      "number of images found 2\n",
      "0 דני-קיי-2-תג׳ר-ציונה-9_8829.jpg\n",
      "1 תג׳ר-ציונה-28_8829.jpg\n",
      "1 תג׳ר-ציונה-28_8829.jpg\n"
     ]
    },
    {
     "data": {
      "text/plain": [
       "4613"
      ]
     },
     "execution_count": 178,
     "metadata": {},
     "output_type": "execute_result"
    },
    {
     "name": "stdout",
     "output_type": "stream",
     "text": [
      "images found ['חנניא-בן-דוסא-23-בן-עזריה-אלעזר-12_8833.jpg']\n",
      "number of images found 1\n",
      "0 חנניא-בן-דוסא-23-בן-עזריה-אלעזר-12_8833.jpg\n"
     ]
    },
    {
     "data": {
      "text/plain": [
       "4434"
      ]
     },
     "execution_count": 178,
     "metadata": {},
     "output_type": "execute_result"
    },
    {
     "name": "stdout",
     "output_type": "stream",
     "text": [
      "images found ['בית-אשל-14-בן-יאיר-פנחס-12_8834.jpg']\n",
      "number of images found 1\n",
      "0 בית-אשל-14-בן-יאיר-פנחס-12_8834.jpg\n"
     ]
    },
    {
     "data": {
      "text/plain": [
       "4410"
      ]
     },
     "execution_count": 178,
     "metadata": {},
     "output_type": "execute_result"
    },
    {
     "name": "stdout",
     "output_type": "stream",
     "text": [
      "images found ['בית-אשל 3-בן-יאיר-פנחס-10_8836.jpg']\n",
      "number of images found 1\n",
      "0 בית-אשל 3-בן-יאיר-פנחס-10_8836.jpg\n"
     ]
    },
    {
     "data": {
      "text/plain": [
       "4417"
      ]
     },
     "execution_count": 178,
     "metadata": {},
     "output_type": "execute_result"
    },
    {
     "name": "stdout",
     "output_type": "stream",
     "text": [
      "images found ['בית-אשל-7-שמעון-הצדיק-31_8837.jpg']\n",
      "number of images found 1\n",
      "0 בית-אשל-7-שמעון-הצדיק-31_8837.jpg\n"
     ]
    },
    {
     "data": {
      "text/plain": [
       "4416"
      ]
     },
     "execution_count": 178,
     "metadata": {},
     "output_type": "execute_result"
    },
    {
     "name": "stdout",
     "output_type": "stream",
     "text": [
      "images found ['בית-אשל-38_8838.jpg']\n",
      "number of images found 1\n",
      "0 בית-אשל-38_8838.jpg\n"
     ]
    },
    {
     "data": {
      "text/plain": [
       "4422"
      ]
     },
     "execution_count": 178,
     "metadata": {},
     "output_type": "execute_result"
    },
    {
     "name": "stdout",
     "output_type": "stream",
     "text": [
      "images found ['בר-הופמו-17_8839.jpg', 'בר-הופמן-17_8839.jpg']\n",
      "number of images found 2\n",
      "0 בר-הופמו-17_8839.jpg\n",
      "1 בר-הופמן-17_8839.jpg\n",
      "1 בר-הופמן-17_8839.jpg\n"
     ]
    },
    {
     "data": {
      "text/plain": [
       "4580"
      ]
     },
     "execution_count": 178,
     "metadata": {},
     "output_type": "execute_result"
    },
    {
     "name": "stdout",
     "output_type": "stream",
     "text": [
      "images found ['אאורבך 8-בר-הופמן-14_8840.jpg']\n",
      "number of images found 1\n",
      "0 אאורבך 8-בר-הופמן-14_8840.jpg\n"
     ]
    },
    {
     "data": {
      "text/plain": [
       "4398"
      ]
     },
     "execution_count": 178,
     "metadata": {},
     "output_type": "execute_result"
    },
    {
     "name": "stdout",
     "output_type": "stream",
     "text": [
      "images found ['בר-הופמן-11_8841.jpg']\n",
      "number of images found 1\n",
      "0 בר-הופמן-11_8841.jpg\n"
     ]
    },
    {
     "data": {
      "text/plain": [
       "4396"
      ]
     },
     "execution_count": 178,
     "metadata": {},
     "output_type": "execute_result"
    },
    {
     "name": "stdout",
     "output_type": "stream",
     "text": [
      "images found ['בן-צבי-5_8842.JPG']\n",
      "number of images found 1\n",
      "0 בן-צבי-5_8842.JPG\n"
     ]
    },
    {
     "data": {
      "text/plain": [
       "4399"
      ]
     },
     "execution_count": 178,
     "metadata": {},
     "output_type": "execute_result"
    },
    {
     "name": "stdout",
     "output_type": "stream",
     "text": [
      "images found ['בית-אשל-28_8843.jpg']\n",
      "number of images found 1\n",
      "0 בית-אשל-28_8843.jpg\n"
     ]
    },
    {
     "data": {
      "text/plain": [
       "4394"
      ]
     },
     "execution_count": 178,
     "metadata": {},
     "output_type": "execute_result"
    },
    {
     "name": "stdout",
     "output_type": "stream",
     "text": [
      "images found ['הרצל-48_8844.jpg']\n",
      "number of images found 1\n",
      "0 הרצל-48_8844.jpg\n"
     ]
    },
    {
     "data": {
      "text/plain": [
       "4408"
      ]
     },
     "execution_count": 178,
     "metadata": {},
     "output_type": "execute_result"
    },
    {
     "name": "stdout",
     "output_type": "stream",
     "text": [
      "images found ['וולפסון-45-צ׳לנוב-23_8849.jpg']\n",
      "number of images found 1\n",
      "0 וולפסון-45-צ׳לנוב-23_8849.jpg\n"
     ]
    },
    {
     "data": {
      "text/plain": [
       "4420"
      ]
     },
     "execution_count": 178,
     "metadata": {},
     "output_type": "execute_result"
    },
    {
     "name": "stdout",
     "output_type": "stream",
     "text": [
      "images found ['פלורנטין-11_8865.jpg']\n",
      "number of images found 1\n",
      "0 פלורנטין-11_8865.jpg\n"
     ]
    },
    {
     "data": {
      "text/plain": [
       "4422"
      ]
     },
     "execution_count": 178,
     "metadata": {},
     "output_type": "execute_result"
    },
    {
     "name": "stdout",
     "output_type": "stream",
     "text": [
      "images found ['פלורנטין-13_8866.jpg']\n",
      "number of images found 1\n",
      "0 פלורנטין-13_8866.jpg\n"
     ]
    },
    {
     "data": {
      "text/plain": [
       "4422"
      ]
     },
     "execution_count": 178,
     "metadata": {},
     "output_type": "execute_result"
    },
    {
     "name": "stdout",
     "output_type": "stream",
     "text": [
      "images found ['פלורנטין-39_8867.jpg']\n",
      "number of images found 1\n",
      "0 פלורנטין-39_8867.jpg\n"
     ]
    },
    {
     "data": {
      "text/plain": [
       "4422"
      ]
     },
     "execution_count": 178,
     "metadata": {},
     "output_type": "execute_result"
    },
    {
     "name": "stdout",
     "output_type": "stream",
     "text": [
      "images found ['לוינסקי-14-הקישון-11_8868.jpg']\n",
      "number of images found 1\n",
      "0 לוינסקי-14-הקישון-11_8868.jpg\n"
     ]
    },
    {
     "data": {
      "text/plain": [
       "4428"
      ]
     },
     "execution_count": 178,
     "metadata": {},
     "output_type": "execute_result"
    },
    {
     "name": "stdout",
     "output_type": "stream",
     "text": [
      "images found ['ויטל-חיים-4-6-פלורנטין-5(2)_8869.jpg', 'ויטל-חיים-4-6-פלורנטין-5_8869.jpg']\n",
      "number of images found 2\n",
      "0 ויטל-חיים-4-6-פלורנטין-5(2)_8869.jpg\n",
      "1 ויטל-חיים-4-6-פלורנטין-5_8869.jpg\n",
      "1 ויטל-חיים-4-6-פלורנטין-5_8869.jpg\n"
     ]
    },
    {
     "data": {
      "text/plain": [
       "4638"
      ]
     },
     "execution_count": 178,
     "metadata": {},
     "output_type": "execute_result"
    },
    {
     "name": "stdout",
     "output_type": "stream",
     "text": [
      "images found ['שדרות-ירושלים-78_8894.jpg']\n",
      "number of images found 1\n",
      "0 שדרות-ירושלים-78_8894.jpg\n"
     ]
    },
    {
     "data": {
      "text/plain": [
       "4420"
      ]
     },
     "execution_count": 178,
     "metadata": {},
     "output_type": "execute_result"
    },
    {
     "name": "stdout",
     "output_type": "stream",
     "text": [
      "images found ['העליה-36-38-וולפסון-38_8908.jpg']\n",
      "number of images found 1\n",
      "0 העליה-36-38-וולפסון-38_8908.jpg\n"
     ]
    },
    {
     "data": {
      "text/plain": [
       "4430"
      ]
     },
     "execution_count": 178,
     "metadata": {},
     "output_type": "execute_result"
    },
    {
     "name": "stdout",
     "output_type": "stream",
     "text": [
      "images found ['העליה-32_8909.jpg']\n",
      "number of images found 1\n",
      "0 העליה-32_8909.jpg\n"
     ]
    },
    {
     "data": {
      "text/plain": [
       "4417"
      ]
     },
     "execution_count": 178,
     "metadata": {},
     "output_type": "execute_result"
    },
    {
     "name": "stdout",
     "output_type": "stream",
     "text": [
      "images found ['העליה-20_8911.jpg']\n",
      "number of images found 1\n",
      "0 העליה-20_8911.jpg\n"
     ]
    },
    {
     "data": {
      "text/plain": [
       "4416"
      ]
     },
     "execution_count": 178,
     "metadata": {},
     "output_type": "execute_result"
    },
    {
     "name": "stdout",
     "output_type": "stream",
     "text": [
      "images found ['העליה-18-לווינסקי-52_8912.jpg']\n",
      "number of images found 1\n",
      "0 העליה-18-לווינסקי-52_8912.jpg\n"
     ]
    },
    {
     "data": {
      "text/plain": [
       "4429"
      ]
     },
     "execution_count": 178,
     "metadata": {},
     "output_type": "execute_result"
    },
    {
     "name": "stdout",
     "output_type": "stream",
     "text": [
      "images found ['המשביר-6_8915.jpg']\n",
      "number of images found 1\n",
      "0 המשביר-6_8915.jpg\n"
     ]
    },
    {
     "data": {
      "text/plain": [
       "4415"
      ]
     },
     "execution_count": 178,
     "metadata": {},
     "output_type": "execute_result"
    },
    {
     "name": "stdout",
     "output_type": "stream",
     "text": [
      "images found ['בר-הופמן-15_8917.jpg']\n",
      "number of images found 1\n",
      "0 בר-הופמן-15_8917.jpg\n"
     ]
    },
    {
     "data": {
      "text/plain": [
       "4397"
      ]
     },
     "execution_count": 178,
     "metadata": {},
     "output_type": "execute_result"
    },
    {
     "name": "stdout",
     "output_type": "stream",
     "text": [
      "images found ['פלורנטין-15_8942.jpg']\n",
      "number of images found 1\n",
      "0 פלורנטין-15_8942.jpg\n"
     ]
    },
    {
     "data": {
      "text/plain": [
       "4422"
      ]
     },
     "execution_count": 178,
     "metadata": {},
     "output_type": "execute_result"
    },
    {
     "name": "stdout",
     "output_type": "stream",
     "text": [
      "images found ['הקישון-71_8946.jpg']\n",
      "number of images found 1\n",
      "0 הקישון-71_8946.jpg\n"
     ]
    },
    {
     "data": {
      "text/plain": [
       "4418"
      ]
     },
     "execution_count": 178,
     "metadata": {},
     "output_type": "execute_result"
    },
    {
     "name": "stdout",
     "output_type": "stream",
     "text": [
      "images found ['הגמנסיה-העברית-7-יועזר-איש-הבירה 6-יהושוע-בן-פרחיה-3-בן-יאיר-פנחס-6(2)_8955.jpg', 'הגמנסיה-העברית-7-יועזר-איש-הבירה 6-יהושוע-בן-פרחיה-3-בן-יאיר-פנחס-6_8955.jpg']\n",
      "number of images found 2\n",
      "0 הגמנסיה-העברית-7-יועזר-איש-הבירה 6-יהושוע-בן-פרחיה-3-בן-יאיר-פנחס-6(2)_8955.jpg\n",
      "1 הגמנסיה-העברית-7-יועזר-איש-הבירה 6-יהושוע-בן-פרחיה-3-בן-יאיר-פנחס-6_8955.jpg\n",
      "1 הגמנסיה-העברית-7-יועזר-איש-הבירה 6-יהושוע-בן-פרחיה-3-בן-יאיר-פנחס-6_8955.jpg\n"
     ]
    },
    {
     "data": {
      "text/plain": [
       "4691"
      ]
     },
     "execution_count": 178,
     "metadata": {},
     "output_type": "execute_result"
    },
    {
     "name": "stdout",
     "output_type": "stream",
     "text": [
      "images found ['שמעיה-6-4-בן-יאיר-פנחס-1_8957.jpg']\n",
      "number of images found 1\n",
      "0 שמעיה-6-4-בן-יאיר-פנחס-1_8957.jpg\n"
     ]
    },
    {
     "data": {
      "text/plain": [
       "4412"
      ]
     },
     "execution_count": 178,
     "metadata": {},
     "output_type": "execute_result"
    },
    {
     "name": "stdout",
     "output_type": "stream",
     "text": [
      "images found ['שדרות-ירושלים-82_8970.jpg']\n",
      "number of images found 1\n",
      "0 שדרות-ירושלים-82_8970.jpg\n"
     ]
    },
    {
     "data": {
      "text/plain": [
       "4436"
      ]
     },
     "execution_count": 178,
     "metadata": {},
     "output_type": "execute_result"
    },
    {
     "name": "stdout",
     "output_type": "stream",
     "text": [
      "images found ['עזה-24-מיכאלנגלו-42_8972.jpg']\n",
      "number of images found 1\n",
      "0 עזה-24-מיכאלנגלו-42_8972.jpg\n"
     ]
    },
    {
     "data": {
      "text/plain": [
       "4432"
      ]
     },
     "execution_count": 178,
     "metadata": {},
     "output_type": "execute_result"
    },
    {
     "name": "stdout",
     "output_type": "stream",
     "text": [
      "images found ['יפת-3_8977.jpg']\n",
      "number of images found 1\n",
      "0 יפת-3_8977.jpg\n"
     ]
    },
    {
     "data": {
      "text/plain": [
       "4388"
      ]
     },
     "execution_count": 178,
     "metadata": {},
     "output_type": "execute_result"
    },
    {
     "name": "stdout",
     "output_type": "stream",
     "text": [
      "images found ['זבולון-27_8978.jpg']\n",
      "number of images found 1\n",
      "0 זבולון-27_8978.jpg\n"
     ]
    },
    {
     "data": {
      "text/plain": [
       "4416"
      ]
     },
     "execution_count": 178,
     "metadata": {},
     "output_type": "execute_result"
    },
    {
     "name": "stdout",
     "output_type": "stream",
     "text": [
      "images found ['הרצל-79-פלורנטין-38_8983.jpg']\n",
      "number of images found 1\n",
      "0 הרצל-79-פלורנטין-38_8983.jpg\n"
     ]
    },
    {
     "data": {
      "text/plain": [
       "4392"
      ]
     },
     "execution_count": 178,
     "metadata": {},
     "output_type": "execute_result"
    },
    {
     "name": "stdout",
     "output_type": "stream",
     "text": [
      "images found ['הרצל-82-ידידה פרנקל-40_8984.jpg']\n",
      "number of images found 1\n",
      "0 הרצל-82-ידידה פרנקל-40_8984.jpg\n"
     ]
    },
    {
     "data": {
      "text/plain": [
       "4426"
      ]
     },
     "execution_count": 178,
     "metadata": {},
     "output_type": "execute_result"
    },
    {
     "name": "stdout",
     "output_type": "stream",
     "text": [
      "images found ['הדואר-10(2)_8985.jpg', 'הדואר-10_8985.jpg']\n",
      "number of images found 2\n",
      "0 הדואר-10(2)_8985.jpg\n",
      "1 הדואר-10_8985.jpg\n",
      "1 הדואר-10_8985.jpg\n"
     ]
    },
    {
     "data": {
      "text/plain": [
       "4565"
      ]
     },
     "execution_count": 178,
     "metadata": {},
     "output_type": "execute_result"
    },
    {
     "name": "stdout",
     "output_type": "stream",
     "text": [
      "images found ['יהושוע-בן-פרחיה-4-בן-יאיר-פנחס 8-הגמנסיה-העברית-9-11(2)_8986.jpg', 'יהושוע-בן-פרחיה-4-בן-יאיר-פנחס 8-הגמנסיה-העברית-9-11_8986.jpg']\n",
      "number of images found 2\n",
      "0 יהושוע-בן-פרחיה-4-בן-יאיר-פנחס 8-הגמנסיה-העברית-9-11(2)_8986.jpg\n",
      "1 יהושוע-בן-פרחיה-4-בן-יאיר-פנחס 8-הגמנסיה-העברית-9-11_8986.jpg\n",
      "1 יהושוע-בן-פרחיה-4-בן-יאיר-פנחס 8-הגמנסיה-העברית-9-11_8986.jpg\n"
     ]
    },
    {
     "data": {
      "text/plain": [
       "4699"
      ]
     },
     "execution_count": 178,
     "metadata": {},
     "output_type": "execute_result"
    },
    {
     "name": "stdout",
     "output_type": "stream",
     "text": [
      "images found ['בנבנישתי-18-דרך-שלמה-69_8987.jpg']\n",
      "number of images found 1\n",
      "0 בנבנישתי-18-דרך-שלמה-69_8987.jpg\n"
     ]
    },
    {
     "data": {
      "text/plain": [
       "4442"
      ]
     },
     "execution_count": 178,
     "metadata": {},
     "output_type": "execute_result"
    },
    {
     "name": "stdout",
     "output_type": "stream",
     "text": [
      "images found ['למרטין-10-שדרות-ירושלים-79(2)_9000.jpg']\n",
      "number of images found 1\n",
      "0 למרטין-10-שדרות-ירושלים-79(2)_9000.jpg\n"
     ]
    },
    {
     "data": {
      "text/plain": [
       "4454"
      ]
     },
     "execution_count": 178,
     "metadata": {},
     "output_type": "execute_result"
    },
    {
     "name": "stdout",
     "output_type": "stream",
     "text": [
      "images found ['ראסין-ז׳אן-5_9013.jpg']\n",
      "number of images found 1\n",
      "0 ראסין-ז׳אן-5_9013.jpg\n"
     ]
    },
    {
     "data": {
      "text/plain": [
       "4410"
      ]
     },
     "execution_count": 178,
     "metadata": {},
     "output_type": "execute_result"
    },
    {
     "name": "stdout",
     "output_type": "stream",
     "text": [
      "images found ['ישראל-מסלנט-35_9031.jpg']\n",
      "number of images found 1\n",
      "0 ישראל-מסלנט-35_9031.jpg\n"
     ]
    },
    {
     "data": {
      "text/plain": [
       "4421"
      ]
     },
     "execution_count": 178,
     "metadata": {},
     "output_type": "execute_result"
    },
    {
     "name": "stdout",
     "output_type": "stream",
     "text": [
      "images found ['מזרחי-6_9032.jpg']\n",
      "number of images found 1\n",
      "0 מזרחי-6_9032.jpg\n"
     ]
    },
    {
     "data": {
      "text/plain": [
       "4412"
      ]
     },
     "execution_count": 178,
     "metadata": {},
     "output_type": "execute_result"
    },
    {
     "name": "stdout",
     "output_type": "stream",
     "text": [
      "images found ['מזרחי-5_9034.jpg']\n",
      "number of images found 1\n",
      "0 מזרחי-5_9034.jpg\n"
     ]
    },
    {
     "data": {
      "text/plain": [
       "4411"
      ]
     },
     "execution_count": 178,
     "metadata": {},
     "output_type": "execute_result"
    },
    {
     "name": "stdout",
     "output_type": "stream",
     "text": [
      "images found ['מרכלת-16_9043.jpg']\n",
      "number of images found 1\n",
      "0 מרכלת-16_9043.jpg\n"
     ]
    },
    {
     "data": {
      "text/plain": [
       "4387"
      ]
     },
     "execution_count": 178,
     "metadata": {},
     "output_type": "execute_result"
    },
    {
     "name": "stdout",
     "output_type": "stream",
     "text": [
      "images found ['הרצל-98-פלורנטין-36_9048.jpg']\n",
      "number of images found 1\n",
      "0 הרצל-98-פלורנטין-36_9048.jpg\n"
     ]
    },
    {
     "data": {
      "text/plain": [
       "4392"
      ]
     },
     "execution_count": 178,
     "metadata": {},
     "output_type": "execute_result"
    },
    {
     "name": "stdout",
     "output_type": "stream",
     "text": [
      "images found []\n",
      "number of images found 0\n"
     ]
    },
    {
     "data": {
      "text/plain": [
       "4302"
      ]
     },
     "execution_count": 178,
     "metadata": {},
     "output_type": "execute_result"
    },
    {
     "name": "stdout",
     "output_type": "stream",
     "text": [
      "images found ['דרך-בן-צבי-78_9052.jpg']\n",
      "number of images found 1\n",
      "0 דרך-בן-צבי-78_9052.jpg\n"
     ]
    },
    {
     "data": {
      "text/plain": [
       "4421"
      ]
     },
     "execution_count": 178,
     "metadata": {},
     "output_type": "execute_result"
    },
    {
     "name": "stdout",
     "output_type": "stream",
     "text": [
      "images found ['הרצל-85_9057.jpg']\n",
      "number of images found 1\n",
      "0 הרצל-85_9057.jpg\n"
     ]
    },
    {
     "data": {
      "text/plain": [
       "4380"
      ]
     },
     "execution_count": 178,
     "metadata": {},
     "output_type": "execute_result"
    },
    {
     "name": "stdout",
     "output_type": "stream",
     "text": [
      "images found ['שדרות-ירושלים-18-שמעון-הצדיק-1_9061.jpg']\n",
      "number of images found 1\n",
      "0 שדרות-ירושלים-18-שמעון-הצדיק-1_9061.jpg\n"
     ]
    },
    {
     "data": {
      "text/plain": [
       "4432"
      ]
     },
     "execution_count": 178,
     "metadata": {},
     "output_type": "execute_result"
    },
    {
     "name": "stdout",
     "output_type": "stream",
     "text": [
      "images found ['יפת-7_9062.jpg', 'שדרות-ירושלים-14_9062.jpg']\n",
      "number of images found 2\n",
      "0 יפת-7_9062.jpg\n",
      "1 שדרות-ירושלים-14_9062.jpg\n",
      "1 שדרות-ירושלים-14_9062.jpg\n"
     ]
    },
    {
     "data": {
      "text/plain": [
       "4602"
      ]
     },
     "execution_count": 178,
     "metadata": {},
     "output_type": "execute_result"
    },
    {
     "name": "stdout",
     "output_type": "stream",
     "text": [
      "images found ['יפת-7_9062.jpg', 'שדרות-ירושלים-14_9062.jpg']\n",
      "number of images found 2\n",
      "0 יפת-7_9062.jpg\n",
      "1 שדרות-ירושלים-14_9062.jpg\n",
      "1 שדרות-ירושלים-14_9062.jpg\n"
     ]
    },
    {
     "data": {
      "text/plain": [
       "4567"
      ]
     },
     "execution_count": 178,
     "metadata": {},
     "output_type": "execute_result"
    },
    {
     "name": "stdout",
     "output_type": "stream",
     "text": [
      "images found ['יהושוע-בן-פרחיה-2-הגמנסיה-העברית-12_9063.jpg']\n",
      "number of images found 1\n",
      "0 יהושוע-בן-פרחיה-2-הגמנסיה-העברית-12_9063.jpg\n"
     ]
    },
    {
     "data": {
      "text/plain": [
       "4467"
      ]
     },
     "execution_count": 178,
     "metadata": {},
     "output_type": "execute_result"
    },
    {
     "name": "stdout",
     "output_type": "stream",
     "text": [
      "images found ['שטרן-אברהם-6-קורדיברו-24_9073.jpg']\n",
      "number of images found 1\n",
      "0 שטרן-אברהם-6-קורדיברו-24_9073.jpg\n"
     ]
    },
    {
     "data": {
      "text/plain": [
       "4435"
      ]
     },
     "execution_count": 178,
     "metadata": {},
     "output_type": "execute_result"
    },
    {
     "name": "stdout",
     "output_type": "stream",
     "text": [
      "images found ['מרחביה-3_9075.jpg']\n",
      "number of images found 1\n",
      "0 מרחביה-3_9075.jpg\n"
     ]
    },
    {
     "data": {
      "text/plain": [
       "4415"
      ]
     },
     "execution_count": 178,
     "metadata": {},
     "output_type": "execute_result"
    },
    {
     "name": "stdout",
     "output_type": "stream",
     "text": [
      "images found ['יפו-46-מרחביה-2_9077.jpg']\n",
      "number of images found 1\n",
      "0 יפו-46-מרחביה-2_9077.jpg\n"
     ]
    },
    {
     "data": {
      "text/plain": [
       "4431"
      ]
     },
     "execution_count": 178,
     "metadata": {},
     "output_type": "execute_result"
    },
    {
     "name": "stdout",
     "output_type": "stream",
     "text": [
      "images found ['שדרות-וושינגטון-27_9083.jpg']\n",
      "number of images found 1\n",
      "0 שדרות-וושינגטון-27_9083.jpg\n"
     ]
    },
    {
     "data": {
      "text/plain": [
       "4445"
      ]
     },
     "execution_count": 178,
     "metadata": {},
     "output_type": "execute_result"
    },
    {
     "name": "stdout",
     "output_type": "stream",
     "text": [
      "images found ['שדרות-וושינגטון-28_9084.jpg']\n",
      "number of images found 1\n",
      "0 שדרות-וושינגטון-28_9084.jpg\n"
     ]
    },
    {
     "data": {
      "text/plain": [
       "4444"
      ]
     },
     "execution_count": 178,
     "metadata": {},
     "output_type": "execute_result"
    },
    {
     "name": "stdout",
     "output_type": "stream",
     "text": [
      "images found ['שדרות-וושינגטון-30_9085.jpg']\n",
      "number of images found 1\n",
      "0 שדרות-וושינגטון-30_9085.jpg\n"
     ]
    },
    {
     "data": {
      "text/plain": [
       "4442"
      ]
     },
     "execution_count": 178,
     "metadata": {},
     "output_type": "execute_result"
    },
    {
     "name": "stdout",
     "output_type": "stream",
     "text": [
      "images found ['זבולון-11_9086.jpg']\n",
      "number of images found 1\n",
      "0 זבולון-11_9086.jpg\n"
     ]
    },
    {
     "data": {
      "text/plain": [
       "4414"
      ]
     },
     "execution_count": 178,
     "metadata": {},
     "output_type": "execute_result"
    },
    {
     "name": "stdout",
     "output_type": "stream",
     "text": [
      "images found ['יהודה-מרגוזה-14(2)_9102.jpg', 'יהודה-מרגוזה-14_9102.jpg']\n",
      "number of images found 2\n",
      "0 יהודה-מרגוזה-14(2)_9102.jpg\n",
      "1 יהודה-מרגוזה-14_9102.jpg\n",
      "1 יהודה-מרגוזה-14_9102.jpg\n"
     ]
    },
    {
     "data": {
      "text/plain": [
       "4605"
      ]
     },
     "execution_count": 178,
     "metadata": {},
     "output_type": "execute_result"
    },
    {
     "name": "stdout",
     "output_type": "stream",
     "text": [
      "images found ['יהדוה-מרגוזה-16_9121.jpg', 'יהודה-מרגוזה-16(2)_9121.jpg']\n",
      "number of images found 2\n",
      "0 יהדוה-מרגוזה-16_9121.jpg\n",
      "1 יהודה-מרגוזה-16(2)_9121.jpg\n",
      "1 יהודה-מרגוזה-16(2)_9121.jpg\n"
     ]
    },
    {
     "data": {
      "text/plain": [
       "4605"
      ]
     },
     "execution_count": 178,
     "metadata": {},
     "output_type": "execute_result"
    },
    {
     "name": "stdout",
     "output_type": "stream",
     "text": [
      "images found []\n",
      "number of images found 0\n"
     ]
    },
    {
     "data": {
      "text/plain": [
       "4309"
      ]
     },
     "execution_count": 178,
     "metadata": {},
     "output_type": "execute_result"
    },
    {
     "name": "stdout",
     "output_type": "stream",
     "text": [
      "images found ['הדואר-2-רזיאל-דוד-13_9269.jpg']\n",
      "number of images found 1\n",
      "0 הדואר-2-רזיאל-דוד-13_9269.jpg\n"
     ]
    },
    {
     "data": {
      "text/plain": [
       "4405"
      ]
     },
     "execution_count": 178,
     "metadata": {},
     "output_type": "execute_result"
    },
    {
     "name": "stdout",
     "output_type": "stream",
     "text": [
      "images found ['גורקי-12_9372.jpg']\n",
      "number of images found 1\n",
      "0 גורקי-12_9372.jpg\n"
     ]
    },
    {
     "data": {
      "text/plain": [
       "4399"
      ]
     },
     "execution_count": 178,
     "metadata": {},
     "output_type": "execute_result"
    },
    {
     "name": "stdout",
     "output_type": "stream",
     "text": [
      "images found ['סמטת-3350-3_9411.jpg']\n",
      "number of images found 1\n",
      "0 סמטת-3350-3_9411.jpg\n"
     ]
    },
    {
     "data": {
      "text/plain": [
       "4381"
      ]
     },
     "execution_count": 178,
     "metadata": {},
     "output_type": "execute_result"
    },
    {
     "name": "stdout",
     "output_type": "stream",
     "text": [
      "images found ['אאורבך-5_9412.jpg']\n",
      "number of images found 1\n",
      "0 אאורבך-5_9412.jpg\n"
     ]
    },
    {
     "data": {
      "text/plain": [
       "4386"
      ]
     },
     "execution_count": 178,
     "metadata": {},
     "output_type": "execute_result"
    },
    {
     "name": "stdout",
     "output_type": "stream",
     "text": [
      "images found ['הרצל-41_9414.jpg']\n",
      "number of images found 1\n",
      "0 הרצל-41_9414.jpg\n"
     ]
    },
    {
     "data": {
      "text/plain": [
       "4378"
      ]
     },
     "execution_count": 178,
     "metadata": {},
     "output_type": "execute_result"
    },
    {
     "name": "stdout",
     "output_type": "stream",
     "text": [
      "images found ['יפת-52_9456.jpg']\n",
      "number of images found 1\n",
      "0 יפת-52_9456.jpg\n"
     ]
    },
    {
     "data": {
      "text/plain": [
       "4387"
      ]
     },
     "execution_count": 178,
     "metadata": {},
     "output_type": "execute_result"
    },
    {
     "name": "stdout",
     "output_type": "stream",
     "text": [
      "images found ['המשביר-15-לוינסקי-28_9473.jpg']\n",
      "number of images found 1\n",
      "0 המשביר-15-לוינסקי-28_9473.jpg\n"
     ]
    },
    {
     "data": {
      "text/plain": [
       "4429"
      ]
     },
     "execution_count": 178,
     "metadata": {},
     "output_type": "execute_result"
    },
    {
     "name": "stdout",
     "output_type": "stream",
     "text": [
      "images found ['בן-עזריה-13-שמעון-בן-גמליאל-4_9508.jpg']\n",
      "number of images found 1\n",
      "0 בן-עזריה-13-שמעון-בן-גמליאל-4_9508.jpg\n"
     ]
    },
    {
     "data": {
      "text/plain": [
       "4427"
      ]
     },
     "execution_count": 178,
     "metadata": {},
     "output_type": "execute_result"
    },
    {
     "name": "stdout",
     "output_type": "stream",
     "text": [
      "images found ['ויטל-חיים-1-ידידיה-פרנקל-6-8(2)_9842.jpg', 'ויטל-חיים-1-ידידיה-פרנקל-6-8_9842.jpg']\n",
      "number of images found 2\n",
      "0 ויטל-חיים-1-ידידיה-פרנקל-6-8(2)_9842.jpg\n",
      "1 ויטל-חיים-1-ידידיה-פרנקל-6-8_9842.jpg\n",
      "1 ויטל-חיים-1-ידידיה-פרנקל-6-8_9842.jpg\n"
     ]
    },
    {
     "data": {
      "text/plain": [
       "4696"
      ]
     },
     "execution_count": 178,
     "metadata": {},
     "output_type": "execute_result"
    },
    {
     "name": "stdout",
     "output_type": "stream",
     "text": [
      "images found ['מרחביה-14-לוינסקי-36_10317.jpg']\n",
      "number of images found 1\n",
      "0 מרחביה-14-לוינסקי-36_10317.jpg\n"
     ]
    },
    {
     "data": {
      "text/plain": [
       "4430"
      ]
     },
     "execution_count": 178,
     "metadata": {},
     "output_type": "execute_result"
    },
    {
     "name": "stdout",
     "output_type": "stream",
     "text": [
      "images found ['דרך-שלמה-77_10318.jpg']\n",
      "number of images found 1\n",
      "0 דרך-שלמה-77_10318.jpg\n"
     ]
    },
    {
     "data": {
      "text/plain": [
       "4457"
      ]
     },
     "execution_count": 178,
     "metadata": {},
     "output_type": "execute_result"
    },
    {
     "name": "stdout",
     "output_type": "stream",
     "text": [
      "images found ['יפת-5_10319.jpg']\n",
      "number of images found 1\n",
      "0 יפת-5_10319.jpg\n"
     ]
    },
    {
     "data": {
      "text/plain": [
       "4391"
      ]
     },
     "execution_count": 178,
     "metadata": {},
     "output_type": "execute_result"
    },
    {
     "name": "stdout",
     "output_type": "stream",
     "text": [
      "images found ['מרחביה-4-סמטת-השוק-6_10324.jpg']\n",
      "number of images found 1\n",
      "0 מרחביה-4-סמטת-השוק-6_10324.jpg\n"
     ]
    },
    {
     "data": {
      "text/plain": [
       "4428"
      ]
     },
     "execution_count": 178,
     "metadata": {},
     "output_type": "execute_result"
    },
    {
     "name": "stdout",
     "output_type": "stream",
     "text": [
      "images found ['נחמה-2-תרצה 14-בת-עמי-1_10344.jpg']\n",
      "number of images found 1\n",
      "0 נחמה-2-תרצה 14-בת-עמי-1_10344.jpg\n"
     ]
    },
    {
     "data": {
      "text/plain": [
       "4402"
      ]
     },
     "execution_count": 178,
     "metadata": {},
     "output_type": "execute_result"
    },
    {
     "name": "stdout",
     "output_type": "stream",
     "text": [
      "images found []\n",
      "number of images found 0\n"
     ]
    },
    {
     "data": {
      "text/plain": [
       "4298"
      ]
     },
     "execution_count": 178,
     "metadata": {},
     "output_type": "execute_result"
    },
    {
     "name": "stdout",
     "output_type": "stream",
     "text": [
      "images found ['בן-אחיטוב-1-3-שמואל-בן-עדיה-7_10375.jpg']\n",
      "number of images found 1\n",
      "0 בן-אחיטוב-1-3-שמואל-בן-עדיה-7_10375.jpg\n"
     ]
    },
    {
     "data": {
      "text/plain": [
       "4421"
      ]
     },
     "execution_count": 178,
     "metadata": {},
     "output_type": "execute_result"
    },
    {
     "name": "stdout",
     "output_type": "stream",
     "text": [
      "images found ['זבולון-21_10399.jpg']\n",
      "number of images found 1\n",
      "0 זבולון-21_10399.jpg\n"
     ]
    },
    {
     "data": {
      "text/plain": [
       "4419"
      ]
     },
     "execution_count": 178,
     "metadata": {},
     "output_type": "execute_result"
    },
    {
     "name": "stdout",
     "output_type": "stream",
     "text": [
      "images found ['בר-הופמן-9_10401.jpg']\n",
      "number of images found 1\n",
      "0 בר-הופמן-9_10401.jpg\n"
     ]
    },
    {
     "data": {
      "text/plain": [
       "4396"
      ]
     },
     "execution_count": 178,
     "metadata": {},
     "output_type": "execute_result"
    },
    {
     "name": "stdout",
     "output_type": "stream",
     "text": [
      "images found ['יפת-1-בית-אשל-2_10418.jpg']\n",
      "number of images found 1\n",
      "0 יפת-1-בית-אשל-2_10418.jpg\n"
     ]
    },
    {
     "data": {
      "text/plain": [
       "4418"
      ]
     },
     "execution_count": 178,
     "metadata": {},
     "output_type": "execute_result"
    },
    {
     "name": "stdout",
     "output_type": "stream",
     "text": [
      "images found ['זבולון-25-מטלון-44_10419.jpg']\n",
      "number of images found 1\n",
      "0 זבולון-25-מטלון-44_10419.jpg\n"
     ]
    },
    {
     "data": {
      "text/plain": [
       "4427"
      ]
     },
     "execution_count": 178,
     "metadata": {},
     "output_type": "execute_result"
    },
    {
     "name": "stdout",
     "output_type": "stream",
     "text": [
      "images found ['הרצל-72_10420.jpg']\n",
      "number of images found 1\n",
      "0 הרצל-72_10420.jpg\n"
     ]
    },
    {
     "data": {
      "text/plain": [
       "4413"
      ]
     },
     "execution_count": 178,
     "metadata": {},
     "output_type": "execute_result"
    },
    {
     "name": "stdout",
     "output_type": "stream",
     "text": [
      "images found ['דרך-שלמה-63-בן-עטר-12_10421.jpg']\n",
      "number of images found 1\n",
      "0 דרך-שלמה-63-בן-עטר-12_10421.jpg\n"
     ]
    },
    {
     "data": {
      "text/plain": [
       "4441"
      ]
     },
     "execution_count": 178,
     "metadata": {},
     "output_type": "execute_result"
    },
    {
     "name": "stdout",
     "output_type": "stream",
     "text": [
      "images found ['יפו-40-השוק-1_10427.jpg']\n",
      "number of images found 1\n",
      "0 יפו-40-השוק-1_10427.jpg\n"
     ]
    },
    {
     "data": {
      "text/plain": [
       "4431"
      ]
     },
     "execution_count": 178,
     "metadata": {},
     "output_type": "execute_result"
    },
    {
     "name": "stdout",
     "output_type": "stream",
     "text": [
      "images found ['הרצל-89_10428.jpg']\n",
      "number of images found 1\n",
      "0 הרצל-89_10428.jpg\n"
     ]
    },
    {
     "data": {
      "text/plain": [
       "4414"
      ]
     },
     "execution_count": 178,
     "metadata": {},
     "output_type": "execute_result"
    },
    {
     "name": "stdout",
     "output_type": "stream",
     "text": [
      "images found ['מרכלת-1-יפו-14_10429.jpg']\n",
      "number of images found 1\n",
      "0 מרכלת-1-יפו-14_10429.jpg\n"
     ]
    },
    {
     "data": {
      "text/plain": [
       "4421"
      ]
     },
     "execution_count": 178,
     "metadata": {},
     "output_type": "execute_result"
    },
    {
     "name": "stdout",
     "output_type": "stream",
     "text": [
      "images found ['הרצל-83_10430.jpg']\n",
      "number of images found 1\n",
      "0 הרצל-83_10430.jpg\n"
     ]
    },
    {
     "data": {
      "text/plain": [
       "4414"
      ]
     },
     "execution_count": 178,
     "metadata": {},
     "output_type": "execute_result"
    },
    {
     "name": "stdout",
     "output_type": "stream",
     "text": [
      "images found ['הקישון-25-מטלון-15_10433.jpg']\n",
      "number of images found 1\n",
      "0 הקישון-25-מטלון-15_10433.jpg\n"
     ]
    },
    {
     "data": {
      "text/plain": [
       "4428"
      ]
     },
     "execution_count": 178,
     "metadata": {},
     "output_type": "execute_result"
    },
    {
     "name": "stdout",
     "output_type": "stream",
     "text": [
      "images found ['דרך-בן-צבי-68-70_10437.jpg']\n",
      "number of images found 1\n",
      "0 דרך-בן-צבי-68-70_10437.jpg\n"
     ]
    },
    {
     "data": {
      "text/plain": [
       "4427"
      ]
     },
     "execution_count": 178,
     "metadata": {},
     "output_type": "execute_result"
    },
    {
     "name": "stdout",
     "output_type": "stream",
     "text": [
      "images found ['מרחביה-5_10438.jpg']\n",
      "number of images found 1\n",
      "0 מרחביה-5_10438.jpg\n"
     ]
    },
    {
     "data": {
      "text/plain": [
       "4416"
      ]
     },
     "execution_count": 178,
     "metadata": {},
     "output_type": "execute_result"
    },
    {
     "name": "stdout",
     "output_type": "stream",
     "text": [
      "images found ['שדרות-וושינגטון-26_10446.jpg']\n",
      "number of images found 1\n",
      "0 שדרות-וושינגטון-26_10446.jpg\n"
     ]
    },
    {
     "data": {
      "text/plain": [
       "4448"
      ]
     },
     "execution_count": 178,
     "metadata": {},
     "output_type": "execute_result"
    },
    {
     "name": "stdout",
     "output_type": "stream",
     "text": [
      "images found []\n",
      "number of images found 0\n"
     ]
    },
    {
     "data": {
      "text/plain": [
       "4311"
      ]
     },
     "execution_count": 178,
     "metadata": {},
     "output_type": "execute_result"
    },
    {
     "name": "stdout",
     "output_type": "stream",
     "text": [
      "images found ['דה-רוטשילד-בת-שבע-3_10588.jpg']\n",
      "number of images found 1\n",
      "0 דה-רוטשילד-בת-שבע-3_10588.jpg\n"
     ]
    },
    {
     "data": {
      "text/plain": [
       "4436"
      ]
     },
     "execution_count": 178,
     "metadata": {},
     "output_type": "execute_result"
    },
    {
     "name": "stdout",
     "output_type": "stream",
     "text": [
      "images found ['הרצל-80-פרנקל-ידידיה-39_10593.jpg']\n",
      "number of images found 1\n",
      "0 הרצל-80-פרנקל-ידידיה-39_10593.jpg\n"
     ]
    },
    {
     "data": {
      "text/plain": [
       "4429"
      ]
     },
     "execution_count": 178,
     "metadata": {},
     "output_type": "execute_result"
    },
    {
     "name": "stdout",
     "output_type": "stream",
     "text": [
      "images found ['יהודה-הימית-45_10612.jpg']\n",
      "number of images found 1\n",
      "0 יהודה-הימית-45_10612.jpg\n"
     ]
    },
    {
     "data": {
      "text/plain": [
       "4423"
      ]
     },
     "execution_count": 178,
     "metadata": {},
     "output_type": "execute_result"
    },
    {
     "name": "stdout",
     "output_type": "stream",
     "text": [
      "images found ['דה-רוטשילד-בת-שבע-2_10615.jpg']\n",
      "number of images found 1\n",
      "0 דה-רוטשילד-בת-שבע-2_10615.jpg\n"
     ]
    },
    {
     "data": {
      "text/plain": [
       "4435"
      ]
     },
     "execution_count": 178,
     "metadata": {},
     "output_type": "execute_result"
    },
    {
     "name": "stdout",
     "output_type": "stream",
     "text": [
      "images found ['הקישון-46-ידידה-פקנקל-35-אוריאל-אקוסטה-22_10617.jpg']\n",
      "number of images found 1\n",
      "0 הקישון-46-ידידה-פקנקל-35-אוריאל-אקוסטה-22_10617.jpg\n"
     ]
    },
    {
     "data": {
      "text/plain": [
       "4496"
      ]
     },
     "execution_count": 178,
     "metadata": {},
     "output_type": "execute_result"
    },
    {
     "name": "stdout",
     "output_type": "stream",
     "text": [
      "images found ['הרצל-67-ידידיה-פרנקל-41_10618.jpg']\n",
      "number of images found 1\n",
      "0 הרצל-67-ידידיה-פרנקל-41_10618.jpg\n"
     ]
    },
    {
     "data": {
      "text/plain": [
       "4428"
      ]
     },
     "execution_count": 178,
     "metadata": {},
     "output_type": "execute_result"
    },
    {
     "name": "stdout",
     "output_type": "stream",
     "text": [
      "images found ['ידידיה-פרנקל-53-זבולון-49_10619.jpg']\n",
      "number of images found 1\n",
      "0 ידידיה-פרנקל-53-זבולון-49_10619.jpg\n"
     ]
    },
    {
     "data": {
      "text/plain": [
       "4479"
      ]
     },
     "execution_count": 178,
     "metadata": {},
     "output_type": "execute_result"
    },
    {
     "name": "stdout",
     "output_type": "stream",
     "text": [
      "images found ['שדרות-ירושלים-81-דנטה-13_10721.jpg']\n",
      "number of images found 1\n",
      "0 שדרות-ירושלים-81-דנטה-13_10721.jpg\n"
     ]
    },
    {
     "data": {
      "text/plain": [
       "4424"
      ]
     },
     "execution_count": 178,
     "metadata": {},
     "output_type": "execute_result"
    },
    {
     "name": "stdout",
     "output_type": "stream",
     "text": [
      "images found ['ארליך-16_10771.jpg']\n",
      "number of images found 1\n",
      "0 ארליך-16_10771.jpg\n"
     ]
    },
    {
     "data": {
      "text/plain": [
       "4412"
      ]
     },
     "execution_count": 178,
     "metadata": {},
     "output_type": "execute_result"
    },
    {
     "name": "stdout",
     "output_type": "stream",
     "text": [
      "images found ['זבולון-15-לווינסקי-46_10777.jpg']\n",
      "number of images found 1\n",
      "0 זבולון-15-לווינסקי-46_10777.jpg\n"
     ]
    },
    {
     "data": {
      "text/plain": [
       "4433"
      ]
     },
     "execution_count": 178,
     "metadata": {},
     "output_type": "execute_result"
    },
    {
     "name": "stdout",
     "output_type": "stream",
     "text": [
      "images found ['עאזר-אדיל-3_11374.jpg']\n",
      "number of images found 1\n",
      "0 עאזר-אדיל-3_11374.jpg\n"
     ]
    },
    {
     "data": {
      "text/plain": [
       "4408"
      ]
     },
     "execution_count": 178,
     "metadata": {},
     "output_type": "execute_result"
    },
    {
     "name": "stdout",
     "output_type": "stream",
     "text": [
      "images found ['נחלת-בניימין-94-מטלון-35_11378.jpg']\n",
      "number of images found 1\n",
      "0 נחלת-בניימין-94-מטלון-35_11378.jpg\n"
     ]
    },
    {
     "data": {
      "text/plain": [
       "4451"
      ]
     },
     "execution_count": 178,
     "metadata": {},
     "output_type": "execute_result"
    },
    {
     "name": "stdout",
     "output_type": "stream",
     "text": [
      "images found ['יפת-63_11402.jpg']\n",
      "number of images found 1\n",
      "0 יפת-63_11402.jpg\n"
     ]
    },
    {
     "data": {
      "text/plain": [
       "4400"
      ]
     },
     "execution_count": 178,
     "metadata": {},
     "output_type": "execute_result"
    },
    {
     "name": "stdout",
     "output_type": "stream",
     "text": [
      "images found []\n",
      "number of images found 0\n"
     ]
    },
    {
     "data": {
      "text/plain": [
       "4312"
      ]
     },
     "execution_count": 178,
     "metadata": {},
     "output_type": "execute_result"
    },
    {
     "name": "stdout",
     "output_type": "stream",
     "text": [
      "images found ['ויקטור-הוגו-13-מיכאלאנג׳לו-35_11451.jpg']\n",
      "number of images found 1\n",
      "0 ויקטור-הוגו-13-מיכאלאנג׳לו-35_11451.jpg\n"
     ]
    },
    {
     "data": {
      "text/plain": [
       "4434"
      ]
     },
     "execution_count": 178,
     "metadata": {},
     "output_type": "execute_result"
    },
    {
     "name": "stdout",
     "output_type": "stream",
     "text": [
      "images found ['השוק-42-ידידיה-פרנקל-43_11482.jpg']\n",
      "number of images found 1\n",
      "0 השוק-42-ידידיה-פרנקל-43_11482.jpg\n"
     ]
    },
    {
     "data": {
      "text/plain": [
       "4430"
      ]
     },
     "execution_count": 178,
     "metadata": {},
     "output_type": "execute_result"
    },
    {
     "name": "stdout",
     "output_type": "stream",
     "text": [
      "images found ['יהודה-הימית-43-קיוסו-אלברט-14_11485.jpg']\n",
      "number of images found 1\n",
      "0 יהודה-הימית-43-קיוסו-אלברט-14_11485.jpg\n"
     ]
    },
    {
     "data": {
      "text/plain": [
       "4439"
      ]
     },
     "execution_count": 178,
     "metadata": {},
     "output_type": "execute_result"
    },
    {
     "name": "stdout",
     "output_type": "stream",
     "text": [
      "images found ['יפת-61_11499.jpg']\n",
      "number of images found 1\n",
      "0 יפת-61_11499.jpg\n"
     ]
    },
    {
     "data": {
      "text/plain": [
       "4400"
      ]
     },
     "execution_count": 178,
     "metadata": {},
     "output_type": "execute_result"
    },
    {
     "name": "stdout",
     "output_type": "stream",
     "text": [
      "images found ['ידידיה-פרנקל-38_11507.jpg']\n",
      "number of images found 1\n",
      "0 ידידיה-פרנקל-38_11507.jpg\n"
     ]
    },
    {
     "data": {
      "text/plain": [
       "4470"
      ]
     },
     "execution_count": 178,
     "metadata": {},
     "output_type": "execute_result"
    },
    {
     "name": "stdout",
     "output_type": "stream",
     "text": [
      "images found ['הקישון-47-ידידה-פרנקל-37-כפר-גלעדי-48_11508.jpg']\n",
      "number of images found 1\n",
      "0 הקישון-47-ידידה-פרנקל-37-כפר-גלעדי-48_11508.jpg\n"
     ]
    },
    {
     "data": {
      "text/plain": [
       "4491"
      ]
     },
     "execution_count": 178,
     "metadata": {},
     "output_type": "execute_result"
    },
    {
     "name": "stdout",
     "output_type": "stream",
     "text": [
      "images found ['סגולה 4-תרצה-10_11636.jpg', 'סגולה-4-תרצה-10(2)_11636.jpg']\n",
      "number of images found 2\n",
      "0 סגולה 4-תרצה-10_11636.jpg\n",
      "1 סגולה-4-תרצה-10(2)_11636.jpg\n",
      "1 סגולה-4-תרצה-10(2)_11636.jpg\n"
     ]
    },
    {
     "data": {
      "text/plain": [
       "4580"
      ]
     },
     "execution_count": 178,
     "metadata": {},
     "output_type": "execute_result"
    },
    {
     "name": "stdout",
     "output_type": "stream",
     "text": [
      "images found ['שדרות-ירושלים-109_11644.jpg']\n",
      "number of images found 1\n",
      "0 שדרות-ירושלים-109_11644.jpg\n"
     ]
    },
    {
     "data": {
      "text/plain": [
       "4449"
      ]
     },
     "execution_count": 178,
     "metadata": {},
     "output_type": "execute_result"
    },
    {
     "name": "stdout",
     "output_type": "stream",
     "text": [
      "images found ['יהודה-הימית-59_11659.jpg']\n",
      "number of images found 1\n",
      "0 יהודה-הימית-59_11659.jpg\n"
     ]
    },
    {
     "data": {
      "text/plain": [
       "4425"
      ]
     },
     "execution_count": 178,
     "metadata": {},
     "output_type": "execute_result"
    },
    {
     "name": "stdout",
     "output_type": "stream",
     "text": [
      "images found ['הגר״א-36-ראש-פינ-25_11660.jpg']\n",
      "number of images found 1\n",
      "0 הגר״א-36-ראש-פינ-25_11660.jpg\n"
     ]
    },
    {
     "data": {
      "text/plain": [
       "4429"
      ]
     },
     "execution_count": 178,
     "metadata": {},
     "output_type": "execute_result"
    },
    {
     "name": "stdout",
     "output_type": "stream",
     "text": [
      "images found ['העליה-4_11661.jpg']\n",
      "number of images found 1\n",
      "0 העליה-4_11661.jpg\n"
     ]
    },
    {
     "data": {
      "text/plain": [
       "4417"
      ]
     },
     "execution_count": 178,
     "metadata": {},
     "output_type": "execute_result"
    },
    {
     "name": "stdout",
     "output_type": "stream",
     "text": [
      "images found ['אבן-רשד-12-בית-רעים-3-מתוקן_11663.jpg', 'אבן-רשד-12-בית-רעים-3_11663.jpg', 'בן-אחיטוב-13-החרוב-6_11663.jpg']\n",
      "number of images found 3\n",
      "0 אבן-רשד-12-בית-רעים-3-מתוקן_11663.jpg\n",
      "1 אבן-רשד-12-בית-רעים-3_11663.jpg\n",
      "2 בן-אחיטוב-13-החרוב-6_11663.jpg\n",
      "1 אבן-רשד-12-בית-רעים-3_11663.jpg\n",
      "2 בן-אחיטוב-13-החרוב-6_11663.jpg\n"
     ]
    },
    {
     "data": {
      "text/plain": [
       "4806"
      ]
     },
     "execution_count": 178,
     "metadata": {},
     "output_type": "execute_result"
    },
    {
     "name": "stdout",
     "output_type": "stream",
     "text": [
      "images found ['ראשון-לציון-13-(מגדל-מים)_11664.jpg']\n",
      "number of images found 1\n",
      "0 ראשון-לציון-13-(מגדל-מים)_11664.jpg\n"
     ]
    },
    {
     "data": {
      "text/plain": [
       "4445"
      ]
     },
     "execution_count": 178,
     "metadata": {},
     "output_type": "execute_result"
    },
    {
     "name": "stdout",
     "output_type": "stream",
     "text": [
      "images found ['עדולם-10-בכור-ציון-10_11665.jpg']\n",
      "number of images found 1\n",
      "0 עדולם-10-בכור-ציון-10_11665.jpg\n"
     ]
    },
    {
     "data": {
      "text/plain": [
       "4424"
      ]
     },
     "execution_count": 178,
     "metadata": {},
     "output_type": "execute_result"
    },
    {
     "name": "stdout",
     "output_type": "stream",
     "text": [
      "images found ['נס-לגויים-7-למרטין-47_11666.jpg']\n",
      "number of images found 1\n",
      "0 נס-לגויים-7-למרטין-47_11666.jpg\n"
     ]
    },
    {
     "data": {
      "text/plain": [
       "4433"
      ]
     },
     "execution_count": 178,
     "metadata": {},
     "output_type": "execute_result"
    },
    {
     "name": "stdout",
     "output_type": "stream",
     "text": [
      "images found ['ברנדט-וילי-3_11814.jpg']\n",
      "number of images found 1\n",
      "0 ברנדט-וילי-3_11814.jpg\n"
     ]
    },
    {
     "data": {
      "text/plain": [
       "4401"
      ]
     },
     "execution_count": 178,
     "metadata": {},
     "output_type": "execute_result"
    },
    {
     "name": "stdout",
     "output_type": "stream",
     "text": [
      "images found ['יפת-39_11820.jpg']\n",
      "number of images found 1\n",
      "0 יפת-39_11820.jpg\n"
     ]
    },
    {
     "data": {
      "text/plain": [
       "4383"
      ]
     },
     "execution_count": 178,
     "metadata": {},
     "output_type": "execute_result"
    },
    {
     "name": "stdout",
     "output_type": "stream",
     "text": [
      "images found ['שמעיה-11_11824.jpg']\n",
      "number of images found 1\n",
      "0 שמעיה-11_11824.jpg\n"
     ]
    },
    {
     "data": {
      "text/plain": [
       "4402"
      ]
     },
     "execution_count": 178,
     "metadata": {},
     "output_type": "execute_result"
    },
    {
     "name": "stdout",
     "output_type": "stream",
     "text": [
      "images found ['בנטוב מרדכי-14_11825.jpg']\n",
      "number of images found 1\n",
      "0 בנטוב מרדכי-14_11825.jpg\n"
     ]
    },
    {
     "data": {
      "text/plain": [
       "4433"
      ]
     },
     "execution_count": 178,
     "metadata": {},
     "output_type": "execute_result"
    },
    {
     "name": "stdout",
     "output_type": "stream",
     "text": [
      "images found ['שמעון-הצדיק-11-שמעיה-7_11826.jpg']\n",
      "number of images found 1\n",
      "0 שמעון-הצדיק-11-שמעיה-7_11826.jpg\n"
     ]
    },
    {
     "data": {
      "text/plain": [
       "4417"
      ]
     },
     "execution_count": 178,
     "metadata": {},
     "output_type": "execute_result"
    },
    {
     "name": "stdout",
     "output_type": "stream",
     "text": [
      "images found ['המלך-חירום-10-שמעיה-1-3(2)_11827.jpg', 'המלך-חירום-10-שמעיה-1-3_11827.jpg']\n",
      "number of images found 2\n",
      "0 המלך-חירום-10-שמעיה-1-3(2)_11827.jpg\n",
      "1 המלך-חירום-10-שמעיה-1-3_11827.jpg\n",
      "1 המלך-חירום-10-שמעיה-1-3_11827.jpg\n"
     ]
    },
    {
     "data": {
      "text/plain": [
       "4620"
      ]
     },
     "execution_count": 178,
     "metadata": {},
     "output_type": "execute_result"
    },
    {
     "name": "stdout",
     "output_type": "stream",
     "text": [
      "images found ['יפת-41_11830.jpg']\n",
      "number of images found 1\n",
      "0 יפת-41_11830.jpg\n"
     ]
    },
    {
     "data": {
      "text/plain": [
       "4388"
      ]
     },
     "execution_count": 178,
     "metadata": {},
     "output_type": "execute_result"
    },
    {
     "name": "stdout",
     "output_type": "stream",
     "text": [
      "images found ['ברגר-אליזבת-12_11831.jpg']\n",
      "number of images found 1\n",
      "0 ברגר-אליזבת-12_11831.jpg\n"
     ]
    },
    {
     "data": {
      "text/plain": [
       "4413"
      ]
     },
     "execution_count": 178,
     "metadata": {},
     "output_type": "execute_result"
    },
    {
     "name": "stdout",
     "output_type": "stream",
     "text": [
      "images found ['דונלו-הרופא-24_11843.jpg']\n",
      "number of images found 1\n",
      "0 דונלו-הרופא-24_11843.jpg\n"
     ]
    },
    {
     "data": {
      "text/plain": [
       "4417"
      ]
     },
     "execution_count": 178,
     "metadata": {},
     "output_type": "execute_result"
    },
    {
     "name": "stdout",
     "output_type": "stream",
     "text": [
      "images found ['זבולון-26-מטלון-42_11845.jpg']\n",
      "number of images found 1\n",
      "0 זבולון-26-מטלון-42_11845.jpg\n"
     ]
    },
    {
     "data": {
      "text/plain": [
       "4427"
      ]
     },
     "execution_count": 178,
     "metadata": {},
     "output_type": "execute_result"
    },
    {
     "name": "stdout",
     "output_type": "stream",
     "text": [
      "images found ['השוק-10_11847.jpg']\n",
      "number of images found 1\n",
      "0 השוק-10_11847.jpg\n"
     ]
    },
    {
     "data": {
      "text/plain": [
       "4415"
      ]
     },
     "execution_count": 178,
     "metadata": {},
     "output_type": "execute_result"
    },
    {
     "name": "stdout",
     "output_type": "stream",
     "text": [
      "images found ['מרחביה-13-לוינסקי-38_11848.jpg']\n",
      "number of images found 1\n",
      "0 מרחביה-13-לוינסקי-38_11848.jpg\n"
     ]
    },
    {
     "data": {
      "text/plain": [
       "4431"
      ]
     },
     "execution_count": 178,
     "metadata": {},
     "output_type": "execute_result"
    },
    {
     "name": "stdout",
     "output_type": "stream",
     "text": [
      "images found ['החלוצים-13-לווינסקי-57_11852.jpg']\n",
      "number of images found 1\n",
      "0 החלוצים-13-לווינסקי-57_11852.jpg\n"
     ]
    },
    {
     "data": {
      "text/plain": [
       "4434"
      ]
     },
     "execution_count": 178,
     "metadata": {},
     "output_type": "execute_result"
    },
    {
     "name": "stdout",
     "output_type": "stream",
     "text": [
      "images found ['העליה-16-לוינסקי-59_11858.jpg']\n",
      "number of images found 1\n",
      "0 העליה-16-לוינסקי-59_11858.jpg\n"
     ]
    },
    {
     "data": {
      "text/plain": [
       "4431"
      ]
     },
     "execution_count": 178,
     "metadata": {},
     "output_type": "execute_result"
    },
    {
     "name": "stdout",
     "output_type": "stream",
     "text": [
      "images found ['עזה-30-דנטא-18-למרטין-13(2)_11860.jpg']\n",
      "number of images found 1\n",
      "0 עזה-30-דנטא-18-למרטין-13(2)_11860.jpg\n"
     ]
    },
    {
     "data": {
      "text/plain": [
       "4429"
      ]
     },
     "execution_count": 178,
     "metadata": {},
     "output_type": "execute_result"
    },
    {
     "name": "stdout",
     "output_type": "stream",
     "text": [
      "images found ['שדרות-ירושלים-111(2)_11862.jpg', 'שדרות-ירושלים-111-ודקר_11862.jpg']\n",
      "number of images found 2\n",
      "0 שדרות-ירושלים-111(2)_11862.jpg\n",
      "1 שדרות-ירושלים-111-ודקר_11862.jpg\n",
      "1 שדרות-ירושלים-111-ודקר_11862.jpg\n"
     ]
    },
    {
     "data": {
      "text/plain": [
       "4655"
      ]
     },
     "execution_count": 178,
     "metadata": {},
     "output_type": "execute_result"
    },
    {
     "name": "stdout",
     "output_type": "stream",
     "text": [
      "images found ['כ״ץ-יעקוב-יוסף-4_11864.jpg']\n",
      "number of images found 1\n",
      "0 כ״ץ-יעקוב-יוסף-4_11864.jpg\n"
     ]
    },
    {
     "data": {
      "text/plain": [
       "4434"
      ]
     },
     "execution_count": 178,
     "metadata": {},
     "output_type": "execute_result"
    },
    {
     "name": "stdout",
     "output_type": "stream",
     "text": [
      "images found ['מטלון-34-השוק-19_11868.jpg']\n",
      "number of images found 1\n",
      "0 מטלון-34-השוק-19_11868.jpg\n"
     ]
    },
    {
     "data": {
      "text/plain": [
       "4423"
      ]
     },
     "execution_count": 178,
     "metadata": {},
     "output_type": "execute_result"
    },
    {
     "name": "stdout",
     "output_type": "stream",
     "text": [
      "images found ['יפו-20-מזרחי-4_11869.jpg']\n",
      "number of images found 1\n",
      "0 יפו-20-מזרחי-4_11869.jpg\n"
     ]
    },
    {
     "data": {
      "text/plain": [
       "4422"
      ]
     },
     "execution_count": 178,
     "metadata": {},
     "output_type": "execute_result"
    },
    {
     "name": "stdout",
     "output_type": "stream",
     "text": [
      "images found ['העליה-50-פרנקל-ידידה-62_11903.jpg']\n",
      "number of images found 1\n",
      "0 העליה-50-פרנקל-ידידה-62_11903.jpg\n"
     ]
    },
    {
     "data": {
      "text/plain": [
       "4403"
      ]
     },
     "execution_count": 178,
     "metadata": {},
     "output_type": "execute_result"
    },
    {
     "name": "stdout",
     "output_type": "stream",
     "text": [
      "images found ['נס-לגויים-5-למרטין-44_11906.jpg']\n",
      "number of images found 1\n",
      "0 נס-לגויים-5-למרטין-44_11906.jpg\n"
     ]
    },
    {
     "data": {
      "text/plain": [
       "4433"
      ]
     },
     "execution_count": 178,
     "metadata": {},
     "output_type": "execute_result"
    },
    {
     "name": "stdout",
     "output_type": "stream",
     "text": [
      "images found []\n",
      "number of images found 0\n"
     ]
    },
    {
     "data": {
      "text/plain": [
       "4301"
      ]
     },
     "execution_count": 178,
     "metadata": {},
     "output_type": "execute_result"
    },
    {
     "name": "stdout",
     "output_type": "stream",
     "text": [
      "images found ['עזה-13-15_11942.jpg']\n",
      "number of images found 1\n",
      "0 עזה-13-15_11942.jpg\n"
     ]
    },
    {
     "data": {
      "text/plain": [
       "4405"
      ]
     },
     "execution_count": 178,
     "metadata": {},
     "output_type": "execute_result"
    },
    {
     "name": "stdout",
     "output_type": "stream",
     "text": [
      "images found ['למרטין-8-שדרות-ירושלים-77_11943.jpg']\n",
      "number of images found 1\n",
      "0 למרטין-8-שדרות-ירושלים-77_11943.jpg\n"
     ]
    },
    {
     "data": {
      "text/plain": [
       "4433"
      ]
     },
     "execution_count": 178,
     "metadata": {},
     "output_type": "execute_result"
    },
    {
     "name": "stdout",
     "output_type": "stream",
     "text": [
      "images found ['העליה-64_11972.jpg']\n",
      "number of images found 1\n",
      "0 העליה-64_11972.jpg\n"
     ]
    },
    {
     "data": {
      "text/plain": [
       "4419"
      ]
     },
     "execution_count": 178,
     "metadata": {},
     "output_type": "execute_result"
    },
    {
     "name": "stdout",
     "output_type": "stream",
     "text": [
      "images found ['הקישון-52_11988.jpg']\n",
      "number of images found 1\n",
      "0 הקישון-52_11988.jpg\n"
     ]
    },
    {
     "data": {
      "text/plain": [
       "4422"
      ]
     },
     "execution_count": 178,
     "metadata": {},
     "output_type": "execute_result"
    },
    {
     "name": "stdout",
     "output_type": "stream",
     "text": [
      "images found ['הקישון-54_11990.jpg']\n",
      "number of images found 1\n",
      "0 הקישון-54_11990.jpg\n"
     ]
    },
    {
     "data": {
      "text/plain": [
       "4422"
      ]
     },
     "execution_count": 178,
     "metadata": {},
     "output_type": "execute_result"
    },
    {
     "name": "stdout",
     "output_type": "stream",
     "text": [
      "images found ['הקישון-56_11991.jpg']\n",
      "number of images found 1\n",
      "0 הקישון-56_11991.jpg\n"
     ]
    },
    {
     "data": {
      "text/plain": [
       "4422"
      ]
     },
     "execution_count": 178,
     "metadata": {},
     "output_type": "execute_result"
    },
    {
     "name": "stdout",
     "output_type": "stream",
     "text": [
      "images found ['עולי-ציון-2_12002.jpg']\n",
      "number of images found 1\n",
      "0 עולי-ציון-2_12002.jpg\n"
     ]
    },
    {
     "data": {
      "text/plain": [
       "4421"
      ]
     },
     "execution_count": 178,
     "metadata": {},
     "output_type": "execute_result"
    },
    {
     "name": "stdout",
     "output_type": "stream",
     "text": [
      "images found ['העליה-58_12003.jpg']\n",
      "number of images found 1\n",
      "0 העליה-58_12003.jpg\n"
     ]
    },
    {
     "data": {
      "text/plain": [
       "4421"
      ]
     },
     "execution_count": 178,
     "metadata": {},
     "output_type": "execute_result"
    },
    {
     "name": "stdout",
     "output_type": "stream",
     "text": [
      "images found ['הקישון-65-פלורנטין-34(2)_12004.jpg', 'הקישון-65-פלורנטין-34_12004.jpg']\n",
      "number of images found 2\n",
      "0 הקישון-65-פלורנטין-34(2)_12004.jpg\n",
      "1 הקישון-65-פלורנטין-34_12004.jpg\n",
      "1 הקישון-65-פלורנטין-34_12004.jpg\n"
     ]
    },
    {
     "data": {
      "text/plain": [
       "4629"
      ]
     },
     "execution_count": 178,
     "metadata": {},
     "output_type": "execute_result"
    },
    {
     "name": "stdout",
     "output_type": "stream",
     "text": [
      "images found ['החלוצים-47-פרנקל-ידידיה-58_12009.jpg']\n",
      "number of images found 1\n",
      "0 החלוצים-47-פרנקל-ידידיה-58_12009.jpg\n"
     ]
    },
    {
     "data": {
      "text/plain": [
       "4441"
      ]
     },
     "execution_count": 178,
     "metadata": {},
     "output_type": "execute_result"
    },
    {
     "name": "stdout",
     "output_type": "stream",
     "text": [
      "images found ['אפק-6-תרצה-8-סגולה-5_12018.jpg']\n",
      "number of images found 1\n",
      "0 אפק-6-תרצה-8-סגולה-5_12018.jpg\n"
     ]
    },
    {
     "data": {
      "text/plain": [
       "4396"
      ]
     },
     "execution_count": 178,
     "metadata": {},
     "output_type": "execute_result"
    },
    {
     "name": "stdout",
     "output_type": "stream",
     "text": [
      "images found ['הקישון-44-אוריאל-אקוסטה-25_12036.jpg']\n",
      "number of images found 1\n",
      "0 הקישון-44-אוריאל-אקוסטה-25_12036.jpg\n"
     ]
    },
    {
     "data": {
      "text/plain": [
       "4445"
      ]
     },
     "execution_count": 178,
     "metadata": {},
     "output_type": "execute_result"
    },
    {
     "name": "stdout",
     "output_type": "stream",
     "text": [
      "images found ['בית-אשל-1_12040.jpg']\n",
      "number of images found 1\n",
      "0 בית-אשל-1_12040.jpg\n"
     ]
    },
    {
     "data": {
      "text/plain": [
       "4423"
      ]
     },
     "execution_count": 178,
     "metadata": {},
     "output_type": "execute_result"
    },
    {
     "name": "stdout",
     "output_type": "stream",
     "text": [
      "images found ['החלוצים-16-לווינסקי-48_12056.jpg']\n",
      "number of images found 1\n",
      "0 החלוצים-16-לווינסקי-48_12056.jpg\n"
     ]
    },
    {
     "data": {
      "text/plain": [
       "4434"
      ]
     },
     "execution_count": 178,
     "metadata": {},
     "output_type": "execute_result"
    },
    {
     "name": "stdout",
     "output_type": "stream",
     "text": [
      "images found ['מרזוק-ועזר-3_12127.jpg']\n",
      "number of images found 1\n",
      "0 מרזוק-ועזר-3_12127.jpg\n"
     ]
    },
    {
     "data": {
      "text/plain": [
       "4406"
      ]
     },
     "execution_count": 178,
     "metadata": {},
     "output_type": "execute_result"
    },
    {
     "name": "stdout",
     "output_type": "stream",
     "text": [
      "images found ['ירושלים-8_12128.jpg']\n",
      "number of images found 1\n",
      "0 ירושלים-8_12128.jpg\n"
     ]
    },
    {
     "data": {
      "text/plain": [
       "4394"
      ]
     },
     "execution_count": 178,
     "metadata": {},
     "output_type": "execute_result"
    },
    {
     "name": "stdout",
     "output_type": "stream",
     "text": [
      "images found ['החלוצים-37_12129.jpg']\n",
      "number of images found 1\n",
      "0 החלוצים-37_12129.jpg\n"
     ]
    },
    {
     "data": {
      "text/plain": [
       "4426"
      ]
     },
     "execution_count": 178,
     "metadata": {},
     "output_type": "execute_result"
    },
    {
     "name": "stdout",
     "output_type": "stream",
     "text": [
      "images found ['למרטין-4-שדרות-ירושלים-75-מיכאלנגלו-38_12130.jpg']\n",
      "number of images found 1\n",
      "0 למרטין-4-שדרות-ירושלים-75-מיכאלנגלו-38_12130.jpg\n"
     ]
    },
    {
     "data": {
      "text/plain": [
       "4468"
      ]
     },
     "execution_count": 178,
     "metadata": {},
     "output_type": "execute_result"
    },
    {
     "name": "stdout",
     "output_type": "stream",
     "text": [
      "images found ['יפו-18-רענן-7-9_12133.jpg']\n",
      "number of images found 1\n",
      "0 יפו-18-רענן-7-9_12133.jpg\n"
     ]
    },
    {
     "data": {
      "text/plain": [
       "4422"
      ]
     },
     "execution_count": 178,
     "metadata": {},
     "output_type": "execute_result"
    },
    {
     "name": "stdout",
     "output_type": "stream",
     "text": [
      "images found ['יפו-16-רענן-8_12139.jpg']\n",
      "number of images found 1\n",
      "0 יפו-16-רענן-8_12139.jpg\n"
     ]
    },
    {
     "data": {
      "text/plain": [
       "4421"
      ]
     },
     "execution_count": 178,
     "metadata": {},
     "output_type": "execute_result"
    },
    {
     "name": "stdout",
     "output_type": "stream",
     "text": [
      "images found ['פלורנטין-30_12142.jpg']\n",
      "number of images found 1\n",
      "0 פלורנטין-30_12142.jpg\n"
     ]
    },
    {
     "data": {
      "text/plain": [
       "4426"
      ]
     },
     "execution_count": 178,
     "metadata": {},
     "output_type": "execute_result"
    },
    {
     "name": "stdout",
     "output_type": "stream",
     "text": [
      "images found ['אאורבך-4(2)_12146.jpg', 'אאורבך-4_12146.jpg']\n",
      "number of images found 2\n",
      "0 אאורבך-4(2)_12146.jpg\n",
      "1 אאורבך-4_12146.jpg\n",
      "1 אאורבך-4_12146.jpg\n"
     ]
    },
    {
     "data": {
      "text/plain": [
       "4569"
      ]
     },
     "execution_count": 178,
     "metadata": {},
     "output_type": "execute_result"
    },
    {
     "name": "stdout",
     "output_type": "stream",
     "text": [
      "images found ['שבטי-ישראל-21-מיכאלאנגלו-28_12151.jpg']\n",
      "number of images found 1\n",
      "0 שבטי-ישראל-21-מיכאלאנגלו-28_12151.jpg\n"
     ]
    },
    {
     "data": {
      "text/plain": [
       "4438"
      ]
     },
     "execution_count": 178,
     "metadata": {},
     "output_type": "execute_result"
    },
    {
     "name": "stdout",
     "output_type": "stream",
     "text": [
      "images found ['שבטי-ישראל-23_12152.jpg']\n",
      "number of images found 1\n",
      "0 שבטי-ישראל-23_12152.jpg\n"
     ]
    },
    {
     "data": {
      "text/plain": [
       "4424"
      ]
     },
     "execution_count": 178,
     "metadata": {},
     "output_type": "execute_result"
    },
    {
     "name": "stdout",
     "output_type": "stream",
     "text": [
      "images found ['ידידיה-פרנקל-20_12167.jpg']\n",
      "number of images found 1\n",
      "0 ידידיה-פרנקל-20_12167.jpg\n"
     ]
    },
    {
     "data": {
      "text/plain": [
       "4437"
      ]
     },
     "execution_count": 178,
     "metadata": {},
     "output_type": "execute_result"
    },
    {
     "name": "stdout",
     "output_type": "stream",
     "text": [
      "images found ['שבטי-ישראל-78_12169.jpg']\n",
      "number of images found 1\n",
      "0 שבטי-ישראל-78_12169.jpg\n"
     ]
    },
    {
     "data": {
      "text/plain": [
       "4411"
      ]
     },
     "execution_count": 178,
     "metadata": {},
     "output_type": "execute_result"
    },
    {
     "name": "stdout",
     "output_type": "stream",
     "text": [
      "images found ['יפו-38-השוק-2_12170.jpg']\n",
      "number of images found 1\n",
      "0 יפו-38-השוק-2_12170.jpg\n"
     ]
    },
    {
     "data": {
      "text/plain": [
       "4433"
      ]
     },
     "execution_count": 178,
     "metadata": {},
     "output_type": "execute_result"
    },
    {
     "name": "stdout",
     "output_type": "stream",
     "text": [
      "images found ['ניצנה-9א׳-ניצנה 9ב׳_12196.jpg']\n",
      "number of images found 1\n",
      "0 ניצנה-9א׳-ניצנה 9ב׳_12196.jpg\n"
     ]
    },
    {
     "data": {
      "text/plain": [
       "4399"
      ]
     },
     "execution_count": 178,
     "metadata": {},
     "output_type": "execute_result"
    },
    {
     "name": "stdout",
     "output_type": "stream",
     "text": [
      "images found ['הקישון-49_12220.jpg']\n",
      "number of images found 1\n",
      "0 הקישון-49_12220.jpg\n"
     ]
    },
    {
     "data": {
      "text/plain": [
       "4463"
      ]
     },
     "execution_count": 178,
     "metadata": {},
     "output_type": "execute_result"
    },
    {
     "name": "stdout",
     "output_type": "stream",
     "text": [
      "images found ['נחלת-בניימין-117_12221.jpg']\n",
      "number of images found 1\n",
      "0 נחלת-בניימין-117_12221.jpg\n"
     ]
    },
    {
     "data": {
      "text/plain": [
       "4445"
      ]
     },
     "execution_count": 178,
     "metadata": {},
     "output_type": "execute_result"
    },
    {
     "name": "stdout",
     "output_type": "stream",
     "text": [
      "images found ['נחלת-בניימין-129_12222.jpg']\n",
      "number of images found 1\n",
      "0 נחלת-בניימין-129_12222.jpg\n"
     ]
    },
    {
     "data": {
      "text/plain": [
       "4446"
      ]
     },
     "execution_count": 178,
     "metadata": {},
     "output_type": "execute_result"
    },
    {
     "name": "stdout",
     "output_type": "stream",
     "text": [
      "images found ['מרכלת-7-לוינסקי-4א׳_12246.jpg', 'פושקין-7-דנטה-5_12246.jpg']\n",
      "number of images found 2\n",
      "0 מרכלת-7-לוינסקי-4א׳_12246.jpg\n",
      "1 פושקין-7-דנטה-5_12246.jpg\n",
      "1 פושקין-7-דנטה-5_12246.jpg\n"
     ]
    },
    {
     "data": {
      "text/plain": [
       "4592"
      ]
     },
     "execution_count": 178,
     "metadata": {},
     "output_type": "execute_result"
    },
    {
     "name": "stdout",
     "output_type": "stream",
     "text": [
      "images found ['קורדיברו-18_12247.jpg']\n",
      "number of images found 1\n",
      "0 קורדיברו-18_12247.jpg\n"
     ]
    },
    {
     "data": {
      "text/plain": [
       "4423"
      ]
     },
     "execution_count": 178,
     "metadata": {},
     "output_type": "execute_result"
    },
    {
     "name": "stdout",
     "output_type": "stream",
     "text": [
      "images found ['הגמנסיה-העברית 4-6-יועזר-איש-הבירה-5_12257.jpg']\n",
      "number of images found 1\n",
      "0 הגמנסיה-העברית 4-6-יועזר-איש-הבירה-5_12257.jpg\n"
     ]
    },
    {
     "data": {
      "text/plain": [
       "4427"
      ]
     },
     "execution_count": 178,
     "metadata": {},
     "output_type": "execute_result"
    },
    {
     "name": "stdout",
     "output_type": "stream",
     "text": [
      "images found ['החלוצים-52_12259.jpg']\n",
      "number of images found 1\n",
      "0 החלוצים-52_12259.jpg\n"
     ]
    },
    {
     "data": {
      "text/plain": [
       "4396"
      ]
     },
     "execution_count": 178,
     "metadata": {},
     "output_type": "execute_result"
    },
    {
     "name": "stdout",
     "output_type": "stream",
     "text": [
      "images found ['העליה-26-מטלון-50_12260.jpg']\n",
      "number of images found 1\n",
      "0 העליה-26-מטלון-50_12260.jpg\n"
     ]
    },
    {
     "data": {
      "text/plain": [
       "4429"
      ]
     },
     "execution_count": 178,
     "metadata": {},
     "output_type": "execute_result"
    },
    {
     "name": "stdout",
     "output_type": "stream",
     "text": [
      "images found ['ד״ר-ולבה-יואל-3_12289.jpg']\n",
      "number of images found 1\n",
      "0 ד״ר-ולבה-יואל-3_12289.jpg\n"
     ]
    },
    {
     "data": {
      "text/plain": [
       "4425"
      ]
     },
     "execution_count": 178,
     "metadata": {},
     "output_type": "execute_result"
    },
    {
     "name": "stdout",
     "output_type": "stream",
     "text": [
      "images found ['ויקטור-הוגו-30_12290.jpg']\n",
      "number of images found 1\n",
      "0 ויקטור-הוגו-30_12290.jpg\n"
     ]
    },
    {
     "data": {
      "text/plain": [
       "4420"
      ]
     },
     "execution_count": 178,
     "metadata": {},
     "output_type": "execute_result"
    },
    {
     "name": "stdout",
     "output_type": "stream",
     "text": [
      "images found ['אילת-36_12295.jpg']\n",
      "number of images found 1\n",
      "0 אילת-36_12295.jpg\n"
     ]
    },
    {
     "data": {
      "text/plain": [
       "4380"
      ]
     },
     "execution_count": 178,
     "metadata": {},
     "output_type": "execute_result"
    },
    {
     "name": "stdout",
     "output_type": "stream",
     "text": [
      "images found ['אילת-38_12297.jpg']\n",
      "number of images found 1\n",
      "0 אילת-38_12297.jpg\n"
     ]
    },
    {
     "data": {
      "text/plain": [
       "4380"
      ]
     },
     "execution_count": 178,
     "metadata": {},
     "output_type": "execute_result"
    },
    {
     "name": "stdout",
     "output_type": "stream",
     "text": [
      "images found ['רבי-חנניא-2-עולי-ציון-6-רבי-אחא-1_12298.jpg']\n",
      "number of images found 1\n",
      "0 רבי-חנניא-2-עולי-ציון-6-רבי-אחא-1_12298.jpg\n"
     ]
    },
    {
     "data": {
      "text/plain": [
       "4424"
      ]
     },
     "execution_count": 178,
     "metadata": {},
     "output_type": "execute_result"
    },
    {
     "name": "stdout",
     "output_type": "stream",
     "text": [
      "images found ['הרצל-51-מטלון-24_12310.jpg']\n",
      "number of images found 1\n",
      "0 הרצל-51-מטלון-24_12310.jpg\n"
     ]
    },
    {
     "data": {
      "text/plain": [
       "4421"
      ]
     },
     "execution_count": 178,
     "metadata": {},
     "output_type": "execute_result"
    },
    {
     "name": "stdout",
     "output_type": "stream",
     "text": [
      "images found ['יפת-91(2)_12311.jpg', 'יפת-91_12311.jpg']\n",
      "number of images found 2\n",
      "0 יפת-91(2)_12311.jpg\n",
      "1 יפת-91_12311.jpg\n",
      "1 יפת-91_12311.jpg\n"
     ]
    },
    {
     "data": {
      "text/plain": [
       "4574"
      ]
     },
     "execution_count": 178,
     "metadata": {},
     "output_type": "execute_result"
    },
    {
     "name": "stdout",
     "output_type": "stream",
     "text": [
      "images found ['ניצנה-11-ניצנה-11א-ניצנה-11ב-נחמה-13(2)_12314.jpg', 'ניצנה11-ניצנה-11א-ניצנה-11ב-נחמה-13(3)_12314.jpg']\n",
      "number of images found 2\n",
      "0 ניצנה-11-ניצנה-11א-ניצנה-11ב-נחמה-13(2)_12314.jpg\n",
      "1 ניצנה11-ניצנה-11א-ניצנה-11ב-נחמה-13(3)_12314.jpg\n",
      "1 ניצנה11-ניצנה-11א-ניצנה-11ב-נחמה-13(3)_12314.jpg\n"
     ]
    },
    {
     "data": {
      "text/plain": [
       "4627"
      ]
     },
     "execution_count": 178,
     "metadata": {},
     "output_type": "execute_result"
    },
    {
     "name": "stdout",
     "output_type": "stream",
     "text": [
      "images found ['תג׳ר-ציונה-13_12317.jpg']\n",
      "number of images found 1\n",
      "0 תג׳ר-ציונה-13_12317.jpg\n"
     ]
    },
    {
     "data": {
      "text/plain": [
       "4421"
      ]
     },
     "execution_count": 178,
     "metadata": {},
     "output_type": "execute_result"
    },
    {
     "name": "stdout",
     "output_type": "stream",
     "text": [
      "images found ['תג׳ר-ציונה-18_12321.jpg']\n",
      "number of images found 1\n",
      "0 תג׳ר-ציונה-18_12321.jpg\n"
     ]
    },
    {
     "data": {
      "text/plain": [
       "4421"
      ]
     },
     "execution_count": 178,
     "metadata": {},
     "output_type": "execute_result"
    },
    {
     "name": "stdout",
     "output_type": "stream",
     "text": [
      "images found ['הרצל-44_12322.jpg']\n",
      "number of images found 1\n",
      "0 הרצל-44_12322.jpg\n"
     ]
    },
    {
     "data": {
      "text/plain": [
       "4413"
      ]
     },
     "execution_count": 178,
     "metadata": {},
     "output_type": "execute_result"
    },
    {
     "name": "stdout",
     "output_type": "stream",
     "text": [
      "images found ['עולי-ציון-1-יפת-9_12330.jpg']\n",
      "number of images found 1\n",
      "0 עולי-ציון-1-יפת-9_12330.jpg\n"
     ]
    },
    {
     "data": {
      "text/plain": [
       "4392"
      ]
     },
     "execution_count": 178,
     "metadata": {},
     "output_type": "execute_result"
    },
    {
     "name": "stdout",
     "output_type": "stream",
     "text": [
      "images found ['החרש-39-לבנדה-54_12335.jpg']\n",
      "number of images found 1\n",
      "0 החרש-39-לבנדה-54_12335.jpg\n"
     ]
    },
    {
     "data": {
      "text/plain": [
       "4419"
      ]
     },
     "execution_count": 178,
     "metadata": {},
     "output_type": "execute_result"
    },
    {
     "name": "stdout",
     "output_type": "stream",
     "text": [
      "images found ['תג׳ר-ציונה-2_12341.jpg']\n",
      "number of images found 1\n",
      "0 תג׳ר-ציונה-2_12341.jpg\n"
     ]
    },
    {
     "data": {
      "text/plain": [
       "4418"
      ]
     },
     "execution_count": 178,
     "metadata": {},
     "output_type": "execute_result"
    },
    {
     "name": "stdout",
     "output_type": "stream",
     "text": [
      "images found ['אוריאל-אקוסטה-9_12342.jpg']\n",
      "number of images found 1\n",
      "0 אוריאל-אקוסטה-9_12342.jpg\n"
     ]
    },
    {
     "data": {
      "text/plain": [
       "4422"
      ]
     },
     "execution_count": 178,
     "metadata": {},
     "output_type": "execute_result"
    },
    {
     "name": "stdout",
     "output_type": "stream",
     "text": [
      "images found ['יפת-80_12345.jpg']\n",
      "number of images found 1\n",
      "0 יפת-80_12345.jpg\n"
     ]
    },
    {
     "data": {
      "text/plain": [
       "4391"
      ]
     },
     "execution_count": 178,
     "metadata": {},
     "output_type": "execute_result"
    },
    {
     "name": "stdout",
     "output_type": "stream",
     "text": [
      "images found ['בן-אחיטוב-22-24_12346.jpg', 'יפת-76-בן-אחיטוב-22-24_12346.jpg']\n",
      "number of images found 2\n",
      "0 בן-אחיטוב-22-24_12346.jpg\n",
      "1 יפת-76-בן-אחיטוב-22-24_12346.jpg\n",
      "1 יפת-76-בן-אחיטוב-22-24_12346.jpg\n"
     ]
    },
    {
     "data": {
      "text/plain": [
       "4603"
      ]
     },
     "execution_count": 178,
     "metadata": {},
     "output_type": "execute_result"
    },
    {
     "name": "stdout",
     "output_type": "stream",
     "text": [
      "images found ['דרך-יפו-24-הקישון-2_12361.jpg']\n",
      "number of images found 1\n",
      "0 דרך-יפו-24-הקישון-2_12361.jpg\n"
     ]
    },
    {
     "data": {
      "text/plain": [
       "4439"
      ]
     },
     "execution_count": 178,
     "metadata": {},
     "output_type": "execute_result"
    },
    {
     "name": "stdout",
     "output_type": "stream",
     "text": [
      "images found ['הקישון-34_12362.jpg']\n",
      "number of images found 1\n",
      "0 הקישון-34_12362.jpg\n"
     ]
    },
    {
     "data": {
      "text/plain": [
       "4421"
      ]
     },
     "execution_count": 178,
     "metadata": {},
     "output_type": "execute_result"
    },
    {
     "name": "stdout",
     "output_type": "stream",
     "text": [
      "images found ['הקישון-43_12363.jpg']\n",
      "number of images found 1\n",
      "0 הקישון-43_12363.jpg\n"
     ]
    },
    {
     "data": {
      "text/plain": [
       "4421"
      ]
     },
     "execution_count": 178,
     "metadata": {},
     "output_type": "execute_result"
    },
    {
     "name": "stdout",
     "output_type": "stream",
     "text": [
      "images found ['הקישון-70_12434.jpg']\n",
      "number of images found 1\n",
      "0 הקישון-70_12434.jpg\n"
     ]
    },
    {
     "data": {
      "text/plain": [
       "4422"
      ]
     },
     "execution_count": 178,
     "metadata": {},
     "output_type": "execute_result"
    },
    {
     "name": "stdout",
     "output_type": "stream",
     "text": [
      "images found ['יפת-11-עמיעד-5_12437.jpg']\n",
      "number of images found 1\n",
      "0 יפת-11-עמיעד-5_12437.jpg\n"
     ]
    },
    {
     "data": {
      "text/plain": [
       "4401"
      ]
     },
     "execution_count": 178,
     "metadata": {},
     "output_type": "execute_result"
    },
    {
     "name": "stdout",
     "output_type": "stream",
     "text": [
      "images found ['המשביר-23_12438.jpg']\n",
      "number of images found 1\n",
      "0 המשביר-23_12438.jpg\n"
     ]
    },
    {
     "data": {
      "text/plain": [
       "4423"
      ]
     },
     "execution_count": 178,
     "metadata": {},
     "output_type": "execute_result"
    },
    {
     "name": "stdout",
     "output_type": "stream",
     "text": [
      "images found ['הקישון-69_12440.jpg']\n",
      "number of images found 1\n",
      "0 הקישון-69_12440.jpg\n"
     ]
    },
    {
     "data": {
      "text/plain": [
       "4391"
      ]
     },
     "execution_count": 178,
     "metadata": {},
     "output_type": "execute_result"
    },
    {
     "name": "stdout",
     "output_type": "stream",
     "text": [
      "images found ['הקישון-68_12441.jpg']\n",
      "number of images found 1\n",
      "0 הקישון-68_12441.jpg\n"
     ]
    },
    {
     "data": {
      "text/plain": [
       "4422"
      ]
     },
     "execution_count": 178,
     "metadata": {},
     "output_type": "execute_result"
    },
    {
     "name": "stdout",
     "output_type": "stream",
     "text": [
      "images found ['בית-אשל-5-שמעון-הצדיק-22-בן-יאיר-פנחס-7_12461.jpg']\n",
      "number of images found 1\n",
      "0 בית-אשל-5-שמעון-הצדיק-22-בן-יאיר-פנחס-7_12461.jpg\n"
     ]
    },
    {
     "data": {
      "text/plain": [
       "4420"
      ]
     },
     "execution_count": 178,
     "metadata": {},
     "output_type": "execute_result"
    },
    {
     "name": "stdout",
     "output_type": "stream",
     "text": [
      "images found ['שמעון-בן-זומא-4_12462.jpg']\n",
      "number of images found 1\n",
      "0 שמעון-בן-זומא-4_12462.jpg\n"
     ]
    },
    {
     "data": {
      "text/plain": [
       "4395"
      ]
     },
     "execution_count": 178,
     "metadata": {},
     "output_type": "execute_result"
    },
    {
     "name": "stdout",
     "output_type": "stream",
     "text": [
      "images found ['יועזר-איש-הביר- 9-בן-יאיר-פנחס-4(2)_12464.jpg', 'יועזר-איש-הבירה-9-בן-יאיר-פנחס-4_12464.jpg']\n",
      "number of images found 2\n",
      "0 יועזר-איש-הביר- 9-בן-יאיר-פנחס-4(2)_12464.jpg\n",
      "1 יועזר-איש-הבירה-9-בן-יאיר-פנחס-4_12464.jpg\n",
      "1 יועזר-איש-הבירה-9-בן-יאיר-פנחס-4_12464.jpg\n"
     ]
    },
    {
     "data": {
      "text/plain": [
       "4625"
      ]
     },
     "execution_count": 178,
     "metadata": {},
     "output_type": "execute_result"
    },
    {
     "name": "stdout",
     "output_type": "stream",
     "text": [
      "images found ['החלוצים-44_12469.jpg']\n",
      "number of images found 1\n",
      "0 החלוצים-44_12469.jpg\n"
     ]
    },
    {
     "data": {
      "text/plain": [
       "4426"
      ]
     },
     "execution_count": 178,
     "metadata": {},
     "output_type": "execute_result"
    },
    {
     "name": "stdout",
     "output_type": "stream",
     "text": [
      "images found ['שבטי-ישראל-31_12473.jpg']\n",
      "number of images found 1\n",
      "0 שבטי-ישראל-31_12473.jpg\n"
     ]
    },
    {
     "data": {
      "text/plain": [
       "4425"
      ]
     },
     "execution_count": 178,
     "metadata": {},
     "output_type": "execute_result"
    },
    {
     "name": "stdout",
     "output_type": "stream",
     "text": [
      "images found ['נחלת-בניימין-113-מטלון-37_12522.jpg']\n",
      "number of images found 1\n",
      "0 נחלת-בניימין-113-מטלון-37_12522.jpg\n"
     ]
    },
    {
     "data": {
      "text/plain": [
       "4455"
      ]
     },
     "execution_count": 178,
     "metadata": {},
     "output_type": "execute_result"
    },
    {
     "name": "stdout",
     "output_type": "stream",
     "text": [
      "images found ['אבינרי-יצחק-4-4-,א׳חביבי-אמיל-3_12704.jpg']\n",
      "number of images found 1\n",
      "0 אבינרי-יצחק-4-4-,א׳חביבי-אמיל-3_12704.jpg\n"
     ]
    },
    {
     "data": {
      "text/plain": [
       "4435"
      ]
     },
     "execution_count": 178,
     "metadata": {},
     "output_type": "execute_result"
    },
    {
     "name": "stdout",
     "output_type": "stream",
     "text": [
      "images found ['סלסלה-11_12720.jpg']\n",
      "number of images found 1\n",
      "0 סלסלה-11_12720.jpg\n"
     ]
    },
    {
     "data": {
      "text/plain": [
       "4396"
      ]
     },
     "execution_count": 178,
     "metadata": {},
     "output_type": "execute_result"
    },
    {
     "name": "stdout",
     "output_type": "stream",
     "text": [
      "images found []\n",
      "number of images found 0\n"
     ]
    },
    {
     "data": {
      "text/plain": [
       "4311"
      ]
     },
     "execution_count": 178,
     "metadata": {},
     "output_type": "execute_result"
    },
    {
     "name": "stdout",
     "output_type": "stream",
     "text": [
      "images found ['הגמנסיה-העברית-5-יועזר-איש-הבירה-7-המלך-חירם-4_12861.jpg']\n",
      "number of images found 1\n",
      "0 הגמנסיה-העברית-5-יועזר-איש-הבירה-7-המלך-חירם-4_12861.jpg\n"
     ]
    },
    {
     "data": {
      "text/plain": [
       "4436"
      ]
     },
     "execution_count": 178,
     "metadata": {},
     "output_type": "execute_result"
    },
    {
     "name": "stdout",
     "output_type": "stream",
     "text": [
      "images found ['יועזר-איש-הבירה-7א_12878.jpg', 'יועזר-איש-הבירה-7א׳(2)_12878.jpg']\n",
      "number of images found 2\n",
      "0 יועזר-איש-הבירה-7א_12878.jpg\n",
      "1 יועזר-איש-הבירה-7א׳(2)_12878.jpg\n",
      "1 יועזר-איש-הבירה-7א׳(2)_12878.jpg\n"
     ]
    },
    {
     "data": {
      "text/plain": [
       "4601"
      ]
     },
     "execution_count": 178,
     "metadata": {},
     "output_type": "execute_result"
    },
    {
     "name": "stdout",
     "output_type": "stream",
     "text": [
      "images found ['קורדיברו-1-ויטל-חיים-5_12879.jpg']\n",
      "number of images found 1\n",
      "0 קורדיברו-1-ויטל-חיים-5_12879.jpg\n"
     ]
    },
    {
     "data": {
      "text/plain": [
       "4434"
      ]
     },
     "execution_count": 178,
     "metadata": {},
     "output_type": "execute_result"
    },
    {
     "name": "stdout",
     "output_type": "stream",
     "text": [
      "images found ['יהודה-מרגוזה-40_12880.jpg']\n",
      "number of images found 1\n",
      "0 יהודה-מרגוזה-40_12880.jpg\n"
     ]
    },
    {
     "data": {
      "text/plain": [
       "4410"
      ]
     },
     "execution_count": 178,
     "metadata": {},
     "output_type": "execute_result"
    },
    {
     "name": "stdout",
     "output_type": "stream",
     "text": [
      "images found ['חנניה-בן-דוסא-30-בית-אשל-27_12881.jpg']\n",
      "number of images found 1\n",
      "0 חנניה-בן-דוסא-30-בית-אשל-27_12881.jpg\n"
     ]
    },
    {
     "data": {
      "text/plain": [
       "4431"
      ]
     },
     "execution_count": 178,
     "metadata": {},
     "output_type": "execute_result"
    },
    {
     "name": "stdout",
     "output_type": "stream",
     "text": [
      "images found ['יהודה-מרגוזה-38_12882.jpg']\n",
      "number of images found 1\n",
      "0 יהודה-מרגוזה-38_12882.jpg\n"
     ]
    },
    {
     "data": {
      "text/plain": [
       "4411"
      ]
     },
     "execution_count": 178,
     "metadata": {},
     "output_type": "execute_result"
    },
    {
     "name": "stdout",
     "output_type": "stream",
     "text": [
      "images found ['יוסי-בן-יוסי-11_12888.jpg']\n",
      "number of images found 1\n",
      "0 יוסי-בן-יוסי-11_12888.jpg\n"
     ]
    },
    {
     "data": {
      "text/plain": [
       "4401"
      ]
     },
     "execution_count": 178,
     "metadata": {},
     "output_type": "execute_result"
    },
    {
     "name": "stdout",
     "output_type": "stream",
     "text": [
      "images found ['יפת-33(2)_12889.jpg', 'יפת-33_12889.jpg']\n",
      "number of images found 2\n",
      "0 יפת-33(2)_12889.jpg\n",
      "1 יפת-33_12889.jpg\n",
      "1 יפת-33_12889.jpg\n"
     ]
    },
    {
     "data": {
      "text/plain": [
       "4560"
      ]
     },
     "execution_count": 178,
     "metadata": {},
     "output_type": "execute_result"
    },
    {
     "name": "stdout",
     "output_type": "stream",
     "text": [
      "images found ['בית-אשל-26_12890.jpg']\n",
      "number of images found 1\n",
      "0 בית-אשל-26_12890.jpg\n"
     ]
    },
    {
     "data": {
      "text/plain": [
       "4397"
      ]
     },
     "execution_count": 178,
     "metadata": {},
     "output_type": "execute_result"
    },
    {
     "name": "stdout",
     "output_type": "stream",
     "text": [
      "images found ['שקד-7_12897.jpg']\n",
      "number of images found 1\n",
      "0 שקד-7_12897.jpg\n"
     ]
    },
    {
     "data": {
      "text/plain": [
       "4400"
      ]
     },
     "execution_count": 178,
     "metadata": {},
     "output_type": "execute_result"
    },
    {
     "name": "stdout",
     "output_type": "stream",
     "text": [
      "images found ['בן-זומא-שמעון-2-חנניא-בן-דוסא-19_12899.jpg']\n",
      "number of images found 1\n",
      "0 בן-זומא-שמעון-2-חנניא-בן-דוסא-19_12899.jpg\n"
     ]
    },
    {
     "data": {
      "text/plain": [
       "4428"
      ]
     },
     "execution_count": 178,
     "metadata": {},
     "output_type": "execute_result"
    },
    {
     "name": "stdout",
     "output_type": "stream",
     "text": [
      "images found ['תל-גבורים-18_12904.jpg']\n",
      "number of images found 1\n",
      "0 תל-גבורים-18_12904.jpg\n"
     ]
    },
    {
     "data": {
      "text/plain": [
       "4417"
      ]
     },
     "execution_count": 178,
     "metadata": {},
     "output_type": "execute_result"
    },
    {
     "name": "stdout",
     "output_type": "stream",
     "text": [
      "images found ['פלורנטין-24_12907.jpg']\n",
      "number of images found 1\n",
      "0 פלורנטין-24_12907.jpg\n"
     ]
    },
    {
     "data": {
      "text/plain": [
       "4425"
      ]
     },
     "execution_count": 178,
     "metadata": {},
     "output_type": "execute_result"
    },
    {
     "name": "stdout",
     "output_type": "stream",
     "text": [
      "images found ['יהודה-הימית-33_12908.jpg']\n",
      "number of images found 1\n",
      "0 יהודה-הימית-33_12908.jpg\n"
     ]
    },
    {
     "data": {
      "text/plain": [
       "4410"
      ]
     },
     "execution_count": 178,
     "metadata": {},
     "output_type": "execute_result"
    },
    {
     "name": "stdout",
     "output_type": "stream",
     "text": [
      "images found ['מגן-אברהם-10-בעלי-התוספות-15_12909.jpg']\n",
      "number of images found 1\n",
      "0 מגן-אברהם-10-בעלי-התוספות-15_12909.jpg\n"
     ]
    },
    {
     "data": {
      "text/plain": [
       "4422"
      ]
     },
     "execution_count": 178,
     "metadata": {},
     "output_type": "execute_result"
    },
    {
     "name": "stdout",
     "output_type": "stream",
     "text": [
      "images found ['דרור-9(2)_12910.jpg', 'דרור-9_12910.jpg', 'ספיר-ברוך-6_12910.jpg']\n",
      "number of images found 3\n",
      "0 דרור-9(2)_12910.jpg\n",
      "1 דרור-9_12910.jpg\n",
      "2 ספיר-ברוך-6_12910.jpg\n",
      "1 דרור-9_12910.jpg\n",
      "2 ספיר-ברוך-6_12910.jpg\n"
     ]
    },
    {
     "data": {
      "text/plain": [
       "4728"
      ]
     },
     "execution_count": 178,
     "metadata": {},
     "output_type": "execute_result"
    },
    {
     "name": "stdout",
     "output_type": "stream",
     "text": [
      "images found ['אילת-14-אוארבך-1_12911.jpg']\n",
      "number of images found 1\n",
      "0 אילת-14-אוארבך-1_12911.jpg\n"
     ]
    },
    {
     "data": {
      "text/plain": [
       "4398"
      ]
     },
     "execution_count": 178,
     "metadata": {},
     "output_type": "execute_result"
    },
    {
     "name": "stdout",
     "output_type": "stream",
     "text": [
      "images found ['בר-הופמן-13-אוארבך-10(2)_12912.jpg', 'בר-הופמן-13-אוארבך-10_12912.jpg']\n",
      "number of images found 2\n",
      "0 בר-הופמן-13-אוארבך-10(2)_12912.jpg\n",
      "1 בר-הופמן-13-אוארבך-10_12912.jpg\n",
      "1 בר-הופמן-13-אוארבך-10_12912.jpg\n"
     ]
    },
    {
     "data": {
      "text/plain": [
       "4598"
      ]
     },
     "execution_count": 178,
     "metadata": {},
     "output_type": "execute_result"
    },
    {
     "name": "stdout",
     "output_type": "stream",
     "text": [
      "images found ['שמעיה-12-אבטליון-5-3_12913.jpg']\n",
      "number of images found 1\n",
      "0 שמעיה-12-אבטליון-5-3_12913.jpg\n"
     ]
    },
    {
     "data": {
      "text/plain": [
       "4412"
      ]
     },
     "execution_count": 178,
     "metadata": {},
     "output_type": "execute_result"
    },
    {
     "name": "stdout",
     "output_type": "stream",
     "text": [
      "images found ['שמעון-הצדיק-17-אבטליון-2_12914.jpg']\n",
      "number of images found 1\n",
      "0 שמעון-הצדיק-17-אבטליון-2_12914.jpg\n"
     ]
    },
    {
     "data": {
      "text/plain": [
       "4429"
      ]
     },
     "execution_count": 178,
     "metadata": {},
     "output_type": "execute_result"
    },
    {
     "name": "stdout",
     "output_type": "stream",
     "text": [
      "images found ['החלוצים-35_12923.jpg']\n",
      "number of images found 1\n",
      "0 החלוצים-35_12923.jpg\n"
     ]
    },
    {
     "data": {
      "text/plain": [
       "4426"
      ]
     },
     "execution_count": 178,
     "metadata": {},
     "output_type": "execute_result"
    },
    {
     "name": "stdout",
     "output_type": "stream",
     "text": [
      "images found ['החלוצים-36_12924.jpg']\n",
      "number of images found 1\n",
      "0 החלוצים-36_12924.jpg\n"
     ]
    },
    {
     "data": {
      "text/plain": [
       "4410"
      ]
     },
     "execution_count": 178,
     "metadata": {},
     "output_type": "execute_result"
    },
    {
     "name": "stdout",
     "output_type": "stream",
     "text": [
      "images found ['אאורבך-7_12928.jpg']\n",
      "number of images found 1\n",
      "0 אאורבך-7_12928.jpg\n"
     ]
    },
    {
     "data": {
      "text/plain": [
       "4387"
      ]
     },
     "execution_count": 178,
     "metadata": {},
     "output_type": "execute_result"
    },
    {
     "name": "stdout",
     "output_type": "stream",
     "text": [
      "images found ['שבטי-ישראל-25_12942.jpg']\n",
      "number of images found 1\n",
      "0 שבטי-ישראל-25_12942.jpg\n"
     ]
    },
    {
     "data": {
      "text/plain": [
       "4424"
      ]
     },
     "execution_count": 178,
     "metadata": {},
     "output_type": "execute_result"
    },
    {
     "name": "stdout",
     "output_type": "stream",
     "text": [
      "images found ['שבטי-ישראל-33_12946.jpg']\n",
      "number of images found 1\n",
      "0 שבטי-ישראל-33_12946.jpg\n"
     ]
    },
    {
     "data": {
      "text/plain": [
       "4425"
      ]
     },
     "execution_count": 178,
     "metadata": {},
     "output_type": "execute_result"
    },
    {
     "name": "stdout",
     "output_type": "stream",
     "text": [
      "images found ['החלוצים-32_12962.jpg']\n",
      "number of images found 1\n",
      "0 החלוצים-32_12962.jpg\n"
     ]
    },
    {
     "data": {
      "text/plain": [
       "4426"
      ]
     },
     "execution_count": 178,
     "metadata": {},
     "output_type": "execute_result"
    },
    {
     "name": "stdout",
     "output_type": "stream",
     "text": [
      "images found ['יפו-50-נחלת-בנימין-74_12963.jpg', 'כפר-גלעדי-20_12963.jpg']\n",
      "number of images found 2\n",
      "0 יפו-50-נחלת-בנימין-74_12963.jpg\n",
      "1 כפר-גלעדי-20_12963.jpg\n",
      "1 כפר-גלעדי-20_12963.jpg\n"
     ]
    },
    {
     "data": {
      "text/plain": [
       "4627"
      ]
     },
     "execution_count": 178,
     "metadata": {},
     "output_type": "execute_result"
    },
    {
     "name": "stdout",
     "output_type": "stream",
     "text": [
      "images found ['החלוצים-34-וולפסון-34_12971.jpg']\n",
      "number of images found 1\n",
      "0 החלוצים-34-וולפסון-34_12971.jpg\n"
     ]
    },
    {
     "data": {
      "text/plain": [
       "4430"
      ]
     },
     "execution_count": 178,
     "metadata": {},
     "output_type": "execute_result"
    },
    {
     "name": "stdout",
     "output_type": "stream",
     "text": [
      "images found ['השוק-36-וולפסון-23_12980.jpg']\n",
      "number of images found 1\n",
      "0 השוק-36-וולפסון-23_12980.jpg\n"
     ]
    },
    {
     "data": {
      "text/plain": [
       "4427"
      ]
     },
     "execution_count": 178,
     "metadata": {},
     "output_type": "execute_result"
    },
    {
     "name": "stdout",
     "output_type": "stream",
     "text": [
      "images found ['וולפסון-21_12981.jpg']\n",
      "number of images found 1\n",
      "0 וולפסון-21_12981.jpg\n"
     ]
    },
    {
     "data": {
      "text/plain": [
       "4418"
      ]
     },
     "execution_count": 178,
     "metadata": {},
     "output_type": "execute_result"
    },
    {
     "name": "stdout",
     "output_type": "stream",
     "text": [
      "images found ['הרצל-59-וולפסון-17_12982.jpg']\n",
      "number of images found 1\n",
      "0 הרצל-59-וולפסון-17_12982.jpg\n"
     ]
    },
    {
     "data": {
      "text/plain": [
       "4423"
      ]
     },
     "execution_count": 178,
     "metadata": {},
     "output_type": "execute_result"
    },
    {
     "name": "stdout",
     "output_type": "stream",
     "text": [
      "images found ['וולפסון-13-כפר-גלעדי-37_12983.jpg']\n",
      "number of images found 1\n",
      "0 וולפסון-13-כפר-גלעדי-37_12983.jpg\n"
     ]
    },
    {
     "data": {
      "text/plain": [
       "4442"
      ]
     },
     "execution_count": 178,
     "metadata": {},
     "output_type": "execute_result"
    },
    {
     "name": "stdout",
     "output_type": "stream",
     "text": [
      "images found ['הקישון-64_12991.jpg']\n",
      "number of images found 1\n",
      "0 הקישון-64_12991.jpg\n"
     ]
    },
    {
     "data": {
      "text/plain": [
       "4422"
      ]
     },
     "execution_count": 178,
     "metadata": {},
     "output_type": "execute_result"
    },
    {
     "name": "stdout",
     "output_type": "stream",
     "text": [
      "images found ['הקישון-60-פלורנטין-32_12993.jpg']\n",
      "number of images found 1\n",
      "0 הקישון-60-פלורנטין-32_12993.jpg\n"
     ]
    },
    {
     "data": {
      "text/plain": [
       "4436"
      ]
     },
     "execution_count": 178,
     "metadata": {},
     "output_type": "execute_result"
    },
    {
     "name": "stdout",
     "output_type": "stream",
     "text": [
      "images found ['יוסי-בן-יוסי-13_13011.jpg', 'עולי-ציון-30_13011.jpg']\n",
      "number of images found 2\n",
      "0 יוסי-בן-יוסי-13_13011.jpg\n",
      "1 עולי-ציון-30_13011.jpg\n",
      "1 עולי-ציון-30_13011.jpg\n"
     ]
    },
    {
     "data": {
      "text/plain": [
       "4583"
      ]
     },
     "execution_count": 178,
     "metadata": {},
     "output_type": "execute_result"
    },
    {
     "name": "stdout",
     "output_type": "stream",
     "text": [
      "images found ['קורדיברו-11_13118.jpg']\n",
      "number of images found 1\n",
      "0 קורדיברו-11_13118.jpg\n"
     ]
    },
    {
     "data": {
      "text/plain": [
       "4425"
      ]
     },
     "execution_count": 178,
     "metadata": {},
     "output_type": "execute_result"
    },
    {
     "name": "stdout",
     "output_type": "stream",
     "text": [
      "images found ['מטלון-74_18670.jpg']\n",
      "number of images found 1\n",
      "0 מטלון-74_18670.jpg\n"
     ]
    },
    {
     "data": {
      "text/plain": [
       "4411"
      ]
     },
     "execution_count": 178,
     "metadata": {},
     "output_type": "execute_result"
    },
    {
     "name": "stdout",
     "output_type": "stream",
     "text": [
      "images found ['העליה 29-וולפסון-40_19823.jpg', 'העליה-29-וולפסון-40(2)_19823.jpg']\n",
      "number of images found 2\n",
      "0 העליה 29-וולפסון-40_19823.jpg\n",
      "1 העליה-29-וולפסון-40(2)_19823.jpg\n",
      "1 העליה-29-וולפסון-40(2)_19823.jpg\n"
     ]
    },
    {
     "data": {
      "text/plain": [
       "4617"
      ]
     },
     "execution_count": 178,
     "metadata": {},
     "output_type": "execute_result"
    },
    {
     "name": "stdout",
     "output_type": "stream",
     "text": [
      "images found ['וולפסון-43-העליה-27_19926.jpg']\n",
      "number of images found 1\n",
      "0 וולפסון-43-העליה-27_19926.jpg\n"
     ]
    },
    {
     "data": {
      "text/plain": [
       "4401"
      ]
     },
     "execution_count": 178,
     "metadata": {},
     "output_type": "execute_result"
    },
    {
     "name": "stdout",
     "output_type": "stream",
     "text": [
      "images found ['שמעון-הצדיק 9_19987.jpg']\n",
      "number of images found 1\n",
      "0 שמעון-הצדיק 9_19987.jpg\n"
     ]
    },
    {
     "data": {
      "text/plain": [
       "4406"
      ]
     },
     "execution_count": 178,
     "metadata": {},
     "output_type": "execute_result"
    },
    {
     "name": "stdout",
     "output_type": "stream",
     "text": [
      "images found ['ארליך-20_21657.jpg']\n",
      "number of images found 1\n",
      "0 ארליך-20_21657.jpg\n"
     ]
    },
    {
     "data": {
      "text/plain": [
       "4431"
      ]
     },
     "execution_count": 178,
     "metadata": {},
     "output_type": "execute_result"
    },
    {
     "name": "stdout",
     "output_type": "stream",
     "text": [
      "images found ['שמעון-בן-גמליאל-1-שמעון-בן-עזאי-6-שדרות-ירושלים-24-בן-עזריה-אל-עזר-15_40858.jpg']\n",
      "number of images found 1\n",
      "0 שמעון-בן-גמליאל-1-שמעון-בן-עזאי-6-שדרות-ירושלים-24-בן-עזריה-אל-עזר-15_40858.jpg\n"
     ]
    },
    {
     "data": {
      "text/plain": [
       "4462"
      ]
     },
     "execution_count": 178,
     "metadata": {},
     "output_type": "execute_result"
    },
    {
     "name": "stdout",
     "output_type": "stream",
     "text": [
      "images found ['הדואר-6_40883.jpg']\n",
      "number of images found 1\n",
      "0 הדואר-6_40883.jpg\n"
     ]
    },
    {
     "data": {
      "text/plain": [
       "4386"
      ]
     },
     "execution_count": 178,
     "metadata": {},
     "output_type": "execute_result"
    },
    {
     "name": "stdout",
     "output_type": "stream",
     "text": [
      "images found ['רזיאל-דוד-15_40910.jpg']\n",
      "number of images found 1\n",
      "0 רזיאל-דוד-15_40910.jpg\n"
     ]
    },
    {
     "data": {
      "text/plain": [
       "4401"
      ]
     },
     "execution_count": 178,
     "metadata": {},
     "output_type": "execute_result"
    },
    {
     "name": "stdout",
     "output_type": "stream",
     "text": [
      "images found ['אילת-44_40932.jpg']\n",
      "number of images found 1\n",
      "0 אילת-44_40932.jpg\n"
     ]
    },
    {
     "data": {
      "text/plain": [
       "4382"
      ]
     },
     "execution_count": 178,
     "metadata": {},
     "output_type": "execute_result"
    },
    {
     "name": "stdout",
     "output_type": "stream",
     "text": [
      "images found ['בית-אשל-4-10_40942.jpg']\n",
      "number of images found 1\n",
      "0 בית-אשל-4-10_40942.jpg\n"
     ]
    },
    {
     "data": {
      "text/plain": [
       "4408"
      ]
     },
     "execution_count": 178,
     "metadata": {},
     "output_type": "execute_result"
    },
    {
     "name": "stdout",
     "output_type": "stream",
     "text": [
      "images found ['מרחביה-21-מטלון-33_40957.jpg']\n",
      "number of images found 1\n",
      "0 מרחביה-21-מטלון-33_40957.jpg\n"
     ]
    },
    {
     "data": {
      "text/plain": [
       "4427"
      ]
     },
     "execution_count": 178,
     "metadata": {},
     "output_type": "execute_result"
    },
    {
     "name": "stdout",
     "output_type": "stream",
     "text": [
      "images found ['ירושלים-2-רזיאל-דוד-1_40966.jpg']\n",
      "number of images found 1\n",
      "0 ירושלים-2-רזיאל-דוד-1_40966.jpg\n"
     ]
    },
    {
     "data": {
      "text/plain": [
       "4408"
      ]
     },
     "execution_count": 178,
     "metadata": {},
     "output_type": "execute_result"
    },
    {
     "name": "stdout",
     "output_type": "stream",
     "text": [
      "images found ['העליה-70-דרך-שלמה-93_41013.jpg']\n",
      "number of images found 1\n",
      "0 העליה-70-דרך-שלמה-93_41013.jpg\n"
     ]
    },
    {
     "data": {
      "text/plain": [
       "4433"
      ]
     },
     "execution_count": 178,
     "metadata": {},
     "output_type": "execute_result"
    },
    {
     "name": "stdout",
     "output_type": "stream",
     "text": [
      "images found ['בית-אשל-21_41026.jpg']\n",
      "number of images found 1\n",
      "0 בית-אשל-21_41026.jpg\n"
     ]
    },
    {
     "data": {
      "text/plain": [
       "4395"
      ]
     },
     "execution_count": 178,
     "metadata": {},
     "output_type": "execute_result"
    },
    {
     "name": "stdout",
     "output_type": "stream",
     "text": [
      "images found ['בית-אשל-19_41028.jpg']\n",
      "number of images found 1\n",
      "0 בית-אשל-19_41028.jpg\n"
     ]
    },
    {
     "data": {
      "text/plain": [
       "4395"
      ]
     },
     "execution_count": 178,
     "metadata": {},
     "output_type": "execute_result"
    },
    {
     "name": "stdout",
     "output_type": "stream",
     "text": [
      "images found ['מטלון-3-מרכלת-17_41055.jpg']\n",
      "number of images found 1\n",
      "0 מטלון-3-מרכלת-17_41055.jpg\n"
     ]
    },
    {
     "data": {
      "text/plain": [
       "4423"
      ]
     },
     "execution_count": 178,
     "metadata": {},
     "output_type": "execute_result"
    },
    {
     "name": "stdout",
     "output_type": "stream",
     "text": [
      "images found ['יפת-48-עבד-אל-ראוף-אלביטאר-1_41079.jpg']\n",
      "number of images found 1\n",
      "0 יפת-48-עבד-אל-ראוף-אלביטאר-1_41079.jpg\n"
     ]
    },
    {
     "data": {
      "text/plain": [
       "4413"
      ]
     },
     "execution_count": 178,
     "metadata": {},
     "output_type": "execute_result"
    },
    {
     "name": "stdout",
     "output_type": "stream",
     "text": [
      "images found ['מיכאלאנג׳לו-22(2)_41113.jpg', 'מיכאלאנג׳לו-22_41113.jpg']\n",
      "number of images found 2\n",
      "0 מיכאלאנג׳לו-22(2)_41113.jpg\n",
      "1 מיכאלאנג׳לו-22_41113.jpg\n",
      "1 מיכאלאנג׳לו-22_41113.jpg\n"
     ]
    },
    {
     "data": {
      "text/plain": [
       "4613"
      ]
     },
     "execution_count": 178,
     "metadata": {},
     "output_type": "execute_result"
    },
    {
     "name": "stdout",
     "output_type": "stream",
     "text": [
      "images found ['הרצל-114-דרך-שלמה-85_41179.jpg']\n",
      "number of images found 1\n",
      "0 הרצל-114-דרך-שלמה-85_41179.jpg\n"
     ]
    },
    {
     "data": {
      "text/plain": [
       "4427"
      ]
     },
     "execution_count": 178,
     "metadata": {},
     "output_type": "execute_result"
    },
    {
     "name": "stdout",
     "output_type": "stream",
     "text": [
      "images found ['הקישון-80-שלמה-79_41187.jpg']\n",
      "number of images found 1\n",
      "0 הקישון-80-שלמה-79_41187.jpg\n"
     ]
    },
    {
     "data": {
      "text/plain": [
       "4440"
      ]
     },
     "execution_count": 178,
     "metadata": {},
     "output_type": "execute_result"
    },
    {
     "name": "stdout",
     "output_type": "stream",
     "text": [
      "images found ['המשביר-12-לוינסקי-26_41208.jpg']\n",
      "number of images found 1\n",
      "0 המשביר-12-לוינסקי-26_41208.jpg\n"
     ]
    },
    {
     "data": {
      "text/plain": [
       "4432"
      ]
     },
     "execution_count": 178,
     "metadata": {},
     "output_type": "execute_result"
    },
    {
     "name": "stdout",
     "output_type": "stream",
     "text": [
      "images found ['נחלת-בניימין-103-לוינסקי-49_41241.jpg']\n",
      "number of images found 1\n",
      "0 נחלת-בניימין-103-לוינסקי-49_41241.jpg\n"
     ]
    },
    {
     "data": {
      "text/plain": [
       "4456"
      ]
     },
     "execution_count": 178,
     "metadata": {},
     "output_type": "execute_result"
    },
    {
     "name": "stdout",
     "output_type": "stream",
     "text": [
      "images found ['שדרות-ירושלים-70_41251.jpg']\n",
      "number of images found 1\n",
      "0 שדרות-ירושלים-70_41251.jpg\n"
     ]
    },
    {
     "data": {
      "text/plain": [
       "4439"
      ]
     },
     "execution_count": 178,
     "metadata": {},
     "output_type": "execute_result"
    },
    {
     "name": "stdout",
     "output_type": "stream",
     "text": [
      "images found ['הדולפין-20_41401.jpg']\n",
      "number of images found 1\n",
      "0 הדולפין-20_41401.jpg\n"
     ]
    },
    {
     "data": {
      "text/plain": [
       "4402"
      ]
     },
     "execution_count": 178,
     "metadata": {},
     "output_type": "execute_result"
    },
    {
     "name": "stdout",
     "output_type": "stream",
     "text": [
      "images found ['לוינסקי-21-הקישון-10_41403.jpg']\n",
      "number of images found 1\n",
      "0 לוינסקי-21-הקישון-10_41403.jpg\n"
     ]
    },
    {
     "data": {
      "text/plain": [
       "4431"
      ]
     },
     "execution_count": 178,
     "metadata": {},
     "output_type": "execute_result"
    },
    {
     "name": "stdout",
     "output_type": "stream",
     "text": [
      "images found ['בר-הופמן-17א_41441.jpg']\n",
      "number of images found 1\n",
      "0 בר-הופמן-17א_41441.jpg\n"
     ]
    },
    {
     "data": {
      "text/plain": [
       "4402"
      ]
     },
     "execution_count": 178,
     "metadata": {},
     "output_type": "execute_result"
    },
    {
     "name": "stdout",
     "output_type": "stream",
     "text": [
      "images found ['בית אשל-11-בן-עזריה-אלעזר-6_41512.jpg']\n",
      "number of images found 1\n",
      "0 בית אשל-11-בן-עזריה-אלעזר-6_41512.jpg\n"
     ]
    },
    {
     "data": {
      "text/plain": [
       "4428"
      ]
     },
     "execution_count": 178,
     "metadata": {},
     "output_type": "execute_result"
    },
    {
     "name": "stdout",
     "output_type": "stream",
     "text": [
      "images found ['שדרות-ירושלים-60_41540.jpg']\n",
      "number of images found 1\n",
      "0 שדרות-ירושלים-60_41540.jpg\n"
     ]
    },
    {
     "data": {
      "text/plain": [
       "4440"
      ]
     },
     "execution_count": 178,
     "metadata": {},
     "output_type": "execute_result"
    },
    {
     "name": "stdout",
     "output_type": "stream",
     "text": [
      "images found ['השוק-28-מטלון-29_41547.jpg']\n",
      "number of images found 1\n",
      "0 השוק-28-מטלון-29_41547.jpg\n"
     ]
    },
    {
     "data": {
      "text/plain": [
       "4424"
      ]
     },
     "execution_count": 178,
     "metadata": {},
     "output_type": "execute_result"
    },
    {
     "name": "stdout",
     "output_type": "stream",
     "text": [
      "images found ['רבי-חנינא-12_41569.jpg']\n",
      "number of images found 1\n",
      "0 רבי-חנינא-12_41569.jpg\n"
     ]
    },
    {
     "data": {
      "text/plain": [
       "4404"
      ]
     },
     "execution_count": 178,
     "metadata": {},
     "output_type": "execute_result"
    },
    {
     "name": "stdout",
     "output_type": "stream",
     "text": [
      "images found ['יהודה-מרגוזה-12(2)_41598.jpg', 'יהודה-מרגוזה-12_41598.jpg']\n",
      "number of images found 2\n",
      "0 יהודה-מרגוזה-12(2)_41598.jpg\n",
      "1 יהודה-מרגוזה-12_41598.jpg\n",
      "1 יהודה-מרגוזה-12_41598.jpg\n"
     ]
    },
    {
     "data": {
      "text/plain": [
       "4610"
      ]
     },
     "execution_count": 178,
     "metadata": {},
     "output_type": "execute_result"
    },
    {
     "name": "stdout",
     "output_type": "stream",
     "text": [
      "images found ['נס-לגויים-51_41616.jpg']\n",
      "number of images found 1\n",
      "0 נס-לגויים-51_41616.jpg\n"
     ]
    },
    {
     "data": {
      "text/plain": [
       "4417"
      ]
     },
     "execution_count": 178,
     "metadata": {},
     "output_type": "execute_result"
    },
    {
     "name": "stdout",
     "output_type": "stream",
     "text": [
      "images found ['פלורנטין-14-בן-עטר-1_41618.jpg']\n",
      "number of images found 1\n",
      "0 פלורנטין-14-בן-עטר-1_41618.jpg\n"
     ]
    },
    {
     "data": {
      "text/plain": [
       "4432"
      ]
     },
     "execution_count": 178,
     "metadata": {},
     "output_type": "execute_result"
    },
    {
     "name": "stdout",
     "output_type": "stream",
     "text": [
      "images found ['כפר-גלעדי-11_41624.jpg', 'לוינסקי-27-כפר-גלעדי-11_41624_41624.jpg']\n",
      "number of images found 2\n",
      "0 כפר-גלעדי-11_41624.jpg\n",
      "1 לוינסקי-27-כפר-גלעדי-11_41624_41624.jpg\n",
      "1 לוינסקי-27-כפר-גלעדי-11_41624_41624.jpg\n"
     ]
    },
    {
     "data": {
      "text/plain": [
       "4635"
      ]
     },
     "execution_count": 178,
     "metadata": {},
     "output_type": "execute_result"
    },
    {
     "name": "stdout",
     "output_type": "stream",
     "text": [
      "images found ['ולנסיה-13-15-מענית-1-האשכוליות-18_41628.jpg']\n",
      "number of images found 1\n",
      "0 ולנסיה-13-15-מענית-1-האשכוליות-18_41628.jpg\n"
     ]
    },
    {
     "data": {
      "text/plain": [
       "4424"
      ]
     },
     "execution_count": 178,
     "metadata": {},
     "output_type": "execute_result"
    },
    {
     "name": "stdout",
     "output_type": "stream",
     "text": [
      "images found ['הרצל-38-36-לווינסקי-29(2)_41643.jpg', 'הרצל-38-36-לווינסקי-29_41643.jpg']\n",
      "number of images found 2\n",
      "0 הרצל-38-36-לווינסקי-29(2)_41643.jpg\n",
      "1 הרצל-38-36-לווינסקי-29_41643.jpg\n",
      "1 הרצל-38-36-לווינסקי-29_41643.jpg\n"
     ]
    },
    {
     "data": {
      "text/plain": [
       "4620"
      ]
     },
     "execution_count": 178,
     "metadata": {},
     "output_type": "execute_result"
    },
    {
     "name": "stdout",
     "output_type": "stream",
     "text": [
      "images found ['צנובר-3-דודאים-6_50438.jpg']\n",
      "number of images found 1\n",
      "0 צנובר-3-דודאים-6_50438.jpg\n"
     ]
    },
    {
     "data": {
      "text/plain": [
       "4401"
      ]
     },
     "execution_count": 178,
     "metadata": {},
     "output_type": "execute_result"
    },
    {
     "name": "stdout",
     "output_type": "stream",
     "text": [
      "images found ['דרך-שלמה-81-הקישון-87_50439.jpg']\n",
      "number of images found 1\n",
      "0 דרך-שלמה-81-הקישון-87_50439.jpg\n"
     ]
    },
    {
     "data": {
      "text/plain": [
       "4444"
      ]
     },
     "execution_count": 178,
     "metadata": {},
     "output_type": "execute_result"
    },
    {
     "name": "stdout",
     "output_type": "stream",
     "text": [
      "images found ['הרצל-35-לווינסקי-31_50447.jpg']\n",
      "number of images found 1\n",
      "0 הרצל-35-לווינסקי-31_50447.jpg\n"
     ]
    },
    {
     "data": {
      "text/plain": [
       "4424"
      ]
     },
     "execution_count": 178,
     "metadata": {},
     "output_type": "execute_result"
    },
    {
     "name": "stdout",
     "output_type": "stream",
     "text": [
      "images found ['קדם-59_50462.jpg']\n",
      "number of images found 1\n",
      "0 קדם-59_50462.jpg\n"
     ]
    },
    {
     "data": {
      "text/plain": [
       "4389"
      ]
     },
     "execution_count": 178,
     "metadata": {},
     "output_type": "execute_result"
    },
    {
     "name": "stdout",
     "output_type": "stream",
     "text": [
      "images found ['ויטל-חיים-10_50514.jpg']\n",
      "number of images found 1\n",
      "0 ויטל-חיים-10_50514.jpg\n"
     ]
    },
    {
     "data": {
      "text/plain": [
       "4433"
      ]
     },
     "execution_count": 178,
     "metadata": {},
     "output_type": "execute_result"
    },
    {
     "name": "stdout",
     "output_type": "stream",
     "text": [
      "images found ['יפת-82_50556.jpg']\n",
      "number of images found 1\n",
      "0 יפת-82_50556.jpg\n"
     ]
    },
    {
     "data": {
      "text/plain": [
       "4387"
      ]
     },
     "execution_count": 178,
     "metadata": {},
     "output_type": "execute_result"
    },
    {
     "name": "stdout",
     "output_type": "stream",
     "text": [
      "images found ['סגל-צבי-הרמן-2_50559.jpg']\n",
      "number of images found 1\n",
      "0 סגל-צבי-הרמן-2_50559.jpg\n"
     ]
    },
    {
     "data": {
      "text/plain": [
       "4426"
      ]
     },
     "execution_count": 178,
     "metadata": {},
     "output_type": "execute_result"
    },
    {
     "name": "stdout",
     "output_type": "stream",
     "text": [
      "images found ['המשביר-24-מטלון-25_50569.jpg']\n",
      "number of images found 1\n",
      "0 המשביר-24-מטלון-25_50569.jpg\n"
     ]
    },
    {
     "data": {
      "text/plain": [
       "4431"
      ]
     },
     "execution_count": 178,
     "metadata": {},
     "output_type": "execute_result"
    },
    {
     "name": "stdout",
     "output_type": "stream",
     "text": [
      "images found ['שבטי-ישראל-31א׳_50584.jpg']\n",
      "number of images found 1\n",
      "0 שבטי-ישראל-31א׳_50584.jpg\n"
     ]
    },
    {
     "data": {
      "text/plain": [
       "4415"
      ]
     },
     "execution_count": 178,
     "metadata": {},
     "output_type": "execute_result"
    },
    {
     "name": "stdout",
     "output_type": "stream",
     "text": [
      "images found ['פלורנטין-20-בנבנישתי-2_50587.jpg']\n",
      "number of images found 1\n",
      "0 פלורנטין-20-בנבנישתי-2_50587.jpg\n"
     ]
    },
    {
     "data": {
      "text/plain": [
       "4436"
      ]
     },
     "execution_count": 178,
     "metadata": {},
     "output_type": "execute_result"
    },
    {
     "name": "stdout",
     "output_type": "stream",
     "text": [
      "images found ['למרטין-17_50589.jpg']\n",
      "number of images found 1\n",
      "0 למרטין-17_50589.jpg\n"
     ]
    },
    {
     "data": {
      "text/plain": [
       "4419"
      ]
     },
     "execution_count": 178,
     "metadata": {},
     "output_type": "execute_result"
    },
    {
     "name": "stdout",
     "output_type": "stream",
     "text": [
      "images found ['סלסלה-26-החרוב-19_50590.jpg']\n",
      "number of images found 1\n",
      "0 סלסלה-26-החרוב-19_50590.jpg\n"
     ]
    },
    {
     "data": {
      "text/plain": [
       "4406"
      ]
     },
     "execution_count": 178,
     "metadata": {},
     "output_type": "execute_result"
    },
    {
     "name": "stdout",
     "output_type": "stream",
     "text": [
      "images found ['מנדס-פרנס-25-געש-16_50592.jpg']\n",
      "number of images found 1\n",
      "0 מנדס-פרנס-25-געש-16_50592.jpg\n"
     ]
    },
    {
     "data": {
      "text/plain": [
       "4420"
      ]
     },
     "execution_count": 178,
     "metadata": {},
     "output_type": "execute_result"
    },
    {
     "name": "stdout",
     "output_type": "stream",
     "text": [
      "images found ['יפת-94_50594.jpg']\n",
      "number of images found 1\n",
      "0 יפת-94_50594.jpg\n"
     ]
    },
    {
     "data": {
      "text/plain": [
       "4391"
      ]
     },
     "execution_count": 178,
     "metadata": {},
     "output_type": "execute_result"
    },
    {
     "name": "stdout",
     "output_type": "stream",
     "text": [
      "images found ['שדרות-ירושלים-66_50620.jpg']\n",
      "number of images found 1\n",
      "0 שדרות-ירושלים-66_50620.jpg\n"
     ]
    },
    {
     "data": {
      "text/plain": [
       "4435"
      ]
     },
     "execution_count": 178,
     "metadata": {},
     "output_type": "execute_result"
    },
    {
     "name": "stdout",
     "output_type": "stream",
     "text": [
      "images found ['יפת-92-סלסלה-30_50623.jpg']\n",
      "number of images found 1\n",
      "0 יפת-92-סלסלה-30_50623.jpg\n"
     ]
    },
    {
     "data": {
      "text/plain": [
       "4400"
      ]
     },
     "execution_count": 178,
     "metadata": {},
     "output_type": "execute_result"
    },
    {
     "name": "stdout",
     "output_type": "stream",
     "text": [
      "images found ['מטלון-28_50628.jpg']\n",
      "number of images found 1\n",
      "0 מטלון-28_50628.jpg\n"
     ]
    },
    {
     "data": {
      "text/plain": [
       "4418"
      ]
     },
     "execution_count": 178,
     "metadata": {},
     "output_type": "execute_result"
    },
    {
     "name": "stdout",
     "output_type": "stream",
     "text": [
      "images found ['נחמה-6-רוחמה-16_50638.jpg']\n",
      "number of images found 1\n",
      "0 נחמה-6-רוחמה-16_50638.jpg\n"
     ]
    },
    {
     "data": {
      "text/plain": [
       "4393"
      ]
     },
     "execution_count": 178,
     "metadata": {},
     "output_type": "execute_result"
    },
    {
     "name": "stdout",
     "output_type": "stream",
     "text": [
      "images found ['מנדס-פרנס-9_50653.jpg']\n",
      "number of images found 1\n",
      "0 מנדס-פרנס-9_50653.jpg\n"
     ]
    },
    {
     "data": {
      "text/plain": [
       "4410"
      ]
     },
     "execution_count": 178,
     "metadata": {},
     "output_type": "execute_result"
    },
    {
     "name": "stdout",
     "output_type": "stream",
     "text": [
      "images found ['השוק-17-מטלון-31-מרחביה-22(2)_50666.jpg', 'השוק-17-מטלון-31-מרחביה-22_50666.jpg']\n",
      "number of images found 2\n",
      "0 השוק-17-מטלון-31-מרחביה-22(2)_50666.jpg\n",
      "1 השוק-17-מטלון-31-מרחביה-22_50666.jpg\n",
      "1 השוק-17-מטלון-31-מרחביה-22_50666.jpg\n"
     ]
    },
    {
     "data": {
      "text/plain": [
       "4634"
      ]
     },
     "execution_count": 178,
     "metadata": {},
     "output_type": "execute_result"
    },
    {
     "name": "stdout",
     "output_type": "stream",
     "text": [
      "images found ['מטלון-30_50667.jpg']\n",
      "number of images found 1\n",
      "0 מטלון-30_50667.jpg\n"
     ]
    },
    {
     "data": {
      "text/plain": [
       "4418"
      ]
     },
     "execution_count": 178,
     "metadata": {},
     "output_type": "execute_result"
    },
    {
     "name": "stdout",
     "output_type": "stream",
     "text": [
      "images found ['התקומה-40_50685.jpg']\n",
      "number of images found 1\n",
      "0 התקומה-40_50685.jpg\n"
     ]
    },
    {
     "data": {
      "text/plain": [
       "4414"
      ]
     },
     "execution_count": 178,
     "metadata": {},
     "output_type": "execute_result"
    },
    {
     "name": "stdout",
     "output_type": "stream",
     "text": [
      "images found ['דרך-שלמה-83_50815.jpg']\n",
      "number of images found 1\n",
      "0 דרך-שלמה-83_50815.jpg\n"
     ]
    },
    {
     "data": {
      "text/plain": [
       "4434"
      ]
     },
     "execution_count": 178,
     "metadata": {},
     "output_type": "execute_result"
    },
    {
     "name": "stdout",
     "output_type": "stream",
     "text": [
      "images found ['ויטל-חיים-2-ידידיה-פרנקל-4_50943.jpg']\n",
      "number of images found 1\n",
      "0 ויטל-חיים-2-ידידיה-פרנקל-4_50943.jpg\n"
     ]
    },
    {
     "data": {
      "text/plain": [
       "4445"
      ]
     },
     "execution_count": 178,
     "metadata": {},
     "output_type": "execute_result"
    },
    {
     "name": "stdout",
     "output_type": "stream",
     "text": [
      "images found ['מנדס-פרנס-28_50952.jpg']\n",
      "number of images found 1\n",
      "0 מנדס-פרנס-28_50952.jpg\n"
     ]
    },
    {
     "data": {
      "text/plain": [
       "4413"
      ]
     },
     "execution_count": 178,
     "metadata": {},
     "output_type": "execute_result"
    },
    {
     "name": "stdout",
     "output_type": "stream",
     "text": [
      "images found ['שדרות-ירושלים-56_50974.jpg']\n",
      "number of images found 1\n",
      "0 שדרות-ירושלים-56_50974.jpg\n"
     ]
    },
    {
     "data": {
      "text/plain": [
       "4438"
      ]
     },
     "execution_count": 178,
     "metadata": {},
     "output_type": "execute_result"
    },
    {
     "name": "stdout",
     "output_type": "stream",
     "text": [
      "images found ['בית-אשל-12_50980.jpg']\n",
      "number of images found 1\n",
      "0 בית-אשל-12_50980.jpg\n"
     ]
    },
    {
     "data": {
      "text/plain": [
       "4409"
      ]
     },
     "execution_count": 178,
     "metadata": {},
     "output_type": "execute_result"
    },
    {
     "name": "stdout",
     "output_type": "stream",
     "text": [
      "images found ['יפת-29_50982.jpg']\n",
      "number of images found 1\n",
      "0 יפת-29_50982.jpg\n"
     ]
    },
    {
     "data": {
      "text/plain": [
       "4380"
      ]
     },
     "execution_count": 178,
     "metadata": {},
     "output_type": "execute_result"
    },
    {
     "name": "stdout",
     "output_type": "stream",
     "text": [
      "images found ['גורקי-6-פושקין-20-(חזית)_51009.jpg', 'גורקי-6-פושקין-20_51009.jpg', 'פחד-יצחק-13_51009.jpg']\n",
      "number of images found 3\n",
      "0 גורקי-6-פושקין-20-(חזית)_51009.jpg\n",
      "1 גורקי-6-פושקין-20_51009.jpg\n",
      "2 פחד-יצחק-13_51009.jpg\n",
      "1 גורקי-6-פושקין-20_51009.jpg\n",
      "2 פחד-יצחק-13_51009.jpg\n"
     ]
    },
    {
     "data": {
      "text/plain": [
       "4803"
      ]
     },
     "execution_count": 178,
     "metadata": {},
     "output_type": "execute_result"
    },
    {
     "name": "stdout",
     "output_type": "stream",
     "text": [
      "images found []\n",
      "number of images found 0\n"
     ]
    },
    {
     "data": {
      "text/plain": [
       "4301"
      ]
     },
     "execution_count": 178,
     "metadata": {},
     "output_type": "execute_result"
    },
    {
     "name": "stdout",
     "output_type": "stream",
     "text": [
      "images found ['הדולפין-19_51096.jpg']\n",
      "number of images found 1\n",
      "0 הדולפין-19_51096.jpg\n"
     ]
    },
    {
     "data": {
      "text/plain": [
       "4402"
      ]
     },
     "execution_count": 178,
     "metadata": {},
     "output_type": "execute_result"
    },
    {
     "name": "stdout",
     "output_type": "stream",
     "text": [
      "images found ['שערי-ניקנור-6_51105.jpg']\n",
      "number of images found 1\n",
      "0 שערי-ניקנור-6_51105.jpg\n"
     ]
    },
    {
     "data": {
      "text/plain": [
       "4418"
      ]
     },
     "execution_count": 178,
     "metadata": {},
     "output_type": "execute_result"
    },
    {
     "name": "stdout",
     "output_type": "stream",
     "text": [
      "images found ['החלוצים-42_52695.jpg']\n",
      "number of images found 1\n",
      "0 החלוצים-42_52695.jpg\n"
     ]
    },
    {
     "data": {
      "text/plain": [
       "4426"
      ]
     },
     "execution_count": 178,
     "metadata": {},
     "output_type": "execute_result"
    },
    {
     "name": "stdout",
     "output_type": "stream",
     "text": [
      "images found ['הרצל-46_52697.jpg']\n",
      "number of images found 1\n",
      "0 הרצל-46_52697.jpg\n"
     ]
    },
    {
     "data": {
      "text/plain": [
       "4413"
      ]
     },
     "execution_count": 178,
     "metadata": {},
     "output_type": "execute_result"
    },
    {
     "name": "stdout",
     "output_type": "stream",
     "text": [
      "images found ['החלוצים-5_52703.jpg']\n",
      "number of images found 1\n",
      "0 החלוצים-5_52703.jpg\n"
     ]
    },
    {
     "data": {
      "text/plain": [
       "4423"
      ]
     },
     "execution_count": 178,
     "metadata": {},
     "output_type": "execute_result"
    },
    {
     "name": "stdout",
     "output_type": "stream",
     "text": [
      "images found ['הרצל-64_52704.jpg']\n",
      "number of images found 1\n",
      "0 הרצל-64_52704.jpg\n"
     ]
    },
    {
     "data": {
      "text/plain": [
       "4413"
      ]
     },
     "execution_count": 178,
     "metadata": {},
     "output_type": "execute_result"
    },
    {
     "name": "stdout",
     "output_type": "stream",
     "text": [
      "images found ['בית-אשל-31_52708.jpg']\n",
      "number of images found 1\n",
      "0 בית-אשל-31_52708.jpg\n"
     ]
    },
    {
     "data": {
      "text/plain": [
       "4408"
      ]
     },
     "execution_count": 178,
     "metadata": {},
     "output_type": "execute_result"
    },
    {
     "name": "stdout",
     "output_type": "stream",
     "text": [
      "images found ['יהודה-הימית-35_52731.jpg']\n",
      "number of images found 1\n",
      "0 יהודה-הימית-35_52731.jpg\n"
     ]
    },
    {
     "data": {
      "text/plain": [
       "4409"
      ]
     },
     "execution_count": 178,
     "metadata": {},
     "output_type": "execute_result"
    },
    {
     "name": "stdout",
     "output_type": "stream",
     "text": [
      "images found ['בעל-הטורים-5_52732.jpg']\n",
      "number of images found 1\n",
      "0 בעל-הטורים-5_52732.jpg\n"
     ]
    },
    {
     "data": {
      "text/plain": [
       "4404"
      ]
     },
     "execution_count": 178,
     "metadata": {},
     "output_type": "execute_result"
    },
    {
     "name": "stdout",
     "output_type": "stream",
     "text": [
      "images found ['כפר-גלעדי-1-יפו-30_64526.jpg']\n",
      "number of images found 1\n",
      "0 כפר-גלעדי-1-יפו-30_64526.jpg\n"
     ]
    },
    {
     "data": {
      "text/plain": [
       "4429"
      ]
     },
     "execution_count": 178,
     "metadata": {},
     "output_type": "execute_result"
    },
    {
     "name": "stdout",
     "output_type": "stream",
     "text": [
      "images found ['וולפסון-3-מזרחי-32_64822.jpg']\n",
      "number of images found 1\n",
      "0 וולפסון-3-מזרחי-32_64822.jpg\n"
     ]
    },
    {
     "data": {
      "text/plain": [
       "4428"
      ]
     },
     "execution_count": 178,
     "metadata": {},
     "output_type": "execute_result"
    },
    {
     "name": "stdout",
     "output_type": "stream",
     "text": [
      "images found ['חנניא-בן-דוסא-14_65285.jpg']\n",
      "number of images found 1\n",
      "0 חנניא-בן-דוסא-14_65285.jpg\n"
     ]
    },
    {
     "data": {
      "text/plain": [
       "4420"
      ]
     },
     "execution_count": 178,
     "metadata": {},
     "output_type": "execute_result"
    },
    {
     "name": "stdout",
     "output_type": "stream",
     "text": [
      "images found ['מיכאלאנג׳לו-30-פושקין-1-ראסין-ז׳אן-2(2)_65329.jpg']\n",
      "number of images found 1\n",
      "0 מיכאלאנג׳לו-30-פושקין-1-ראסין-ז׳אן-2(2)_65329.jpg\n"
     ]
    },
    {
     "data": {
      "text/plain": [
       "4447"
      ]
     },
     "execution_count": 178,
     "metadata": {},
     "output_type": "execute_result"
    },
    {
     "name": "stdout",
     "output_type": "stream",
     "text": [
      "images found ['נס-לגויים-49(2)_65652.jpg', 'נס-לגויים-49_65652.jpg']\n",
      "number of images found 2\n",
      "0 נס-לגויים-49(2)_65652.jpg\n",
      "1 נס-לגויים-49_65652.jpg\n",
      "1 נס-לגויים-49_65652.jpg\n"
     ]
    },
    {
     "data": {
      "text/plain": [
       "4605"
      ]
     },
     "execution_count": 178,
     "metadata": {},
     "output_type": "execute_result"
    },
    {
     "name": "stdout",
     "output_type": "stream",
     "text": [
      "images found ['יפת-47-יהודה-הימית-67_65937.jpg']\n",
      "number of images found 1\n",
      "0 יפת-47-יהודה-הימית-67_65937.jpg\n"
     ]
    },
    {
     "data": {
      "text/plain": [
       "4409"
      ]
     },
     "execution_count": 178,
     "metadata": {},
     "output_type": "execute_result"
    },
    {
     "name": "stdout",
     "output_type": "stream",
     "text": [
      "images found ['יפת-49_65938.jpg']\n",
      "number of images found 1\n",
      "0 יפת-49_65938.jpg\n"
     ]
    },
    {
     "data": {
      "text/plain": [
       "4400"
      ]
     },
     "execution_count": 178,
     "metadata": {},
     "output_type": "execute_result"
    },
    {
     "name": "stdout",
     "output_type": "stream",
     "text": [
      "images found ['עזה-14_205265.jpg']\n",
      "number of images found 1\n",
      "0 עזה-14_205265.jpg\n"
     ]
    },
    {
     "data": {
      "text/plain": [
       "4404"
      ]
     },
     "execution_count": 178,
     "metadata": {},
     "output_type": "execute_result"
    },
    {
     "name": "stdout",
     "output_type": "stream",
     "text": [
      "images found []\n",
      "number of images found 0\n"
     ]
    },
    {
     "ename": "OSError",
     "evalue": "[Errno 22] Invalid argument: '../building_cards/?.html'",
     "output_type": "error",
     "traceback": [
      "\u001b[1;31m---------------------------------------------------------------------------\u001b[0m",
      "\u001b[1;31mOSError\u001b[0m                                   Traceback (most recent call last)",
      "\u001b[1;32m<ipython-input-178-173b1a3542dd>\u001b[0m in \u001b[0;36m<module>\u001b[1;34m\u001b[0m\n\u001b[0;32m    170\u001b[0m     \u001b[1;31m# open the file in w mode\u001b[0m\u001b[1;33m\u001b[0m\u001b[1;33m\u001b[0m\u001b[1;33m\u001b[0m\u001b[0m\n\u001b[0;32m    171\u001b[0m     \u001b[1;31m# set encoding to UTF-8\u001b[0m\u001b[1;33m\u001b[0m\u001b[1;33m\u001b[0m\u001b[1;33m\u001b[0m\u001b[0m\n\u001b[1;32m--> 172\u001b[1;33m     \u001b[1;32mwith\u001b[0m \u001b[0mopen\u001b[0m\u001b[1;33m(\u001b[0m\u001b[1;34mf'../building_cards/{bld_id}.html'\u001b[0m\u001b[1;33m,\u001b[0m \u001b[1;34m\"w\"\u001b[0m\u001b[1;33m,\u001b[0m \u001b[0mencoding\u001b[0m \u001b[1;33m=\u001b[0m \u001b[1;34m'utf-8'\u001b[0m\u001b[1;33m)\u001b[0m \u001b[1;32mas\u001b[0m \u001b[0mfile\u001b[0m\u001b[1;33m:\u001b[0m\u001b[1;33m\u001b[0m\u001b[1;33m\u001b[0m\u001b[0m\n\u001b[0m\u001b[0;32m    173\u001b[0m         \u001b[0mfile\u001b[0m\u001b[1;33m.\u001b[0m\u001b[0mwrite\u001b[0m\u001b[1;33m(\u001b[0m\u001b[0mpage_str\u001b[0m\u001b[1;33m)\u001b[0m \u001b[1;31m# NOTICE change to actual string\u001b[0m\u001b[1;33m\u001b[0m\u001b[1;33m\u001b[0m\u001b[0m\n",
      "\u001b[1;31mOSError\u001b[0m: [Errno 22] Invalid argument: '../building_cards/?.html'"
     ]
    }
   ],
   "source": [
    "#for each building id in id_lst\n",
    "for bld_index, bld_id in enumerate(id_lst):\n",
    "    # create matching string for html page\n",
    "    bld_address = address_lst[bld_index]\n",
    "    bld_parcel = parcel_lst[bld_index]\n",
    "    bld_section = section_lst[bld_index]\n",
    "    bld_complex = complex_lst[bld_index]\n",
    "    bld_status = status_lst[bld_index]\n",
    "    bld_city_plan = bld_city_plan_lst[bld_index]\n",
    "    bld_lat = lat_lst[bld_index]\n",
    "    bld_lon = lon_lst[bld_index]\n",
    "\n",
    "    # <------------ HEAD stays the same ------------>\n",
    "\n",
    "    html_head =     f\"\"\" <!DOCTYPE html>\n",
    "    <html lang=\"en\">\n",
    "\n",
    "    <head>\n",
    "    <meta charset=\"UTF-8\">\n",
    "    <meta http-equiv=\"X-UA-Compatible\" content=\"IE=edge\">\n",
    "    <meta name=\"viewport\" content=\"width=device-width, initial-scale=1.0\">\n",
    "    <link href=\"../css/building_card.css\" rel=\"stylesheet\">\n",
    "    <link href=\"https://fonts.googleapis.com/css?family=Material+Icons|Material+Icons+Outlined|Material+Icons+Two+Tone|Material+Icons+Round|Material+Icons+Sharp\" rel=\"stylesheet\">\n",
    "    <!--To load jquery -->\n",
    "    <script src=\"https://cdnjs.cloudflare.com/ajax/libs/jquery/3.2.1/jquery.min.js \"></script>\n",
    "    <!--To dataTables -->\n",
    "    <link rel=\"stylesheet\" type=\"text/css\" href=\"https://cdn.datatables.net/1.10.24/css/jquery.dataTables.css\">\n",
    "    <script type=\"text/javascript\" charset=\"utf8\" src=\"https://cdn.datatables.net/1.10.24/js/jquery.dataTables.js\"></script>\n",
    "    <!--To pass variables -->\n",
    "    <script type=\"text/javascript\" src=\"../js/app.js\"></script>\n",
    "    <!--To load chartjs -->\n",
    "    <script type=\"text/javascript\" src=\"https://cdnjs.cloudflare.com/ajax/libs/Chart.js/3.3.0/chart.min.js\"></script>\n",
    "    <title>Card ID: {bld_id}</title> \n",
    "    </head>\n",
    "    \"\"\"\n",
    "    # <------------ HEAD stays the same ------------>\n",
    "\n",
    "    html_body_start = f\"\"\"\n",
    "<body>\n",
    "    <div class='summary-page'>\n",
    "        <span class=\"material-icons-outlined\" id=\"topRightFixed\">\n",
    "            close\n",
    "            </span>\n",
    "        <div class=\"summary\">\n",
    "            <h2>{bld_address}</h2>\n",
    "            <p>parcel : {bld_parcel}</p>\n",
    "            <p>section: {bld_section}</p>\n",
    "            <p>complex: {bld_complex}</p>\n",
    "            <p>status: {bld_status} b</p>\n",
    "            <p>City Building Plan: {bld_city_plan}</p>\n",
    "            <p id=\"building_id\">ID: {bld_id}</p>\n",
    "        </div>\n",
    "        \n",
    "        <div class=\"carousel-container\">\n",
    "        \"\"\" # NOTICE the opening\n",
    "    bld_photos = [] # create an empty list to append to \n",
    "    for i in phot_lst: # compare one building id against all photos\n",
    "        #print(str(bld_id).strip() + '_')\n",
    "        if i.find(str(bld_id).strip()) != -1: # if the photo name is containing the building id\n",
    "            #id_df.iloc[index, 1] = f'./photos/{i}'4\n",
    "            bld_photos.append(i)\n",
    "    print('images found', bld_photos)\n",
    "    print('number of images found', len(bld_photos))\n",
    "    n_images = len(bld_photos)\n",
    "    \n",
    "    html_body_carousel = \"\" # create empty string to append to \n",
    "    \n",
    "    for index, value in enumerate(bld_photos):\n",
    "        print(index, value)\n",
    "        tmp_img = f\"\"\"<img alt=\"{bld_address}\" photo_num='{index + 1}' class=\"center carousel\" src=\"../photos/{value}\">\"\"\"\n",
    "        html_body_carousel += tmp_img      \n",
    "    \n",
    "    html_body_carousel += \" </div>\" # close the div\n",
    "    # <------------ HEAD stays the same ------------>\n",
    "  \n",
    "    # create the number of corrospnsing button - depending on the number of images existing\n",
    "    # NOTICE starting with opening the carousel-button div - closing in html_body_end\n",
    "    first_radio_button = \"\"\"  <div class=\"carousel-button\">\n",
    "    <span class=\"material-icons-outlined\" button_num='1'>radio_button_checked</span>\"\"\"           \n",
    "    \n",
    "    next_n_radio_buttons = \"\" # create empty string\n",
    "    \n",
    "    for index, value in enumerate(bld_photos):\n",
    "        if index > 0:\n",
    "            tmp_radio_button = f\"\"\"<span class=\"material-icons-outlined\" button_num='{index}'>radio_button_unchecked</span>\"\"\"\n",
    "            next_n_radio_buttons += tmp_radio_button\n",
    "            \n",
    "    html_body_radio_button = first_radio_button + next_n_radio_buttons # join all buttons to a single string\n",
    "    # NOTICE starting with closing the radio button div\n",
    "    html_body_end = f\"\"\"\n",
    "        </div>\n",
    "        <span class=\"material-icons-outlined info-button info-summary\" id=\"buttonLeftFixed\">info</span>\n",
    "        <span class=\"material-icons-outlined\" id=\"navigate_before\">\n",
    "        navigate_before\n",
    "        </span>\n",
    "        <span class=\"material-icons-outlined navigate_next\" id=\"buttonRightFixed\">\n",
    "        navigate_next\n",
    "        </span>\n",
    "    </div>\n",
    "\n",
    "    <div class='detailed-page'>\n",
    "        <!-- Entire page-->\n",
    "        <div class=\"top_container\">\n",
    "            <!-- simplex / powerBI - simplex height=\"550px\" width=\"100%\" -->\n",
    "\n",
    "            <div class='simplex_box'>\n",
    "                <iframe id=\"simplexinlineFrame\" height=\"95%\" width=\"90%\" title=\"Meimad Iframe\" \n",
    "                src='https://simplex-smart3d.com/ces/TLV/app-ANPLUS/?pos=34.756111,32.055,1100&ori=0,-90,0#lookAt={{%22lat%22:{bld_lat},%22lon%22:{bld_lon},%20%22elev%22:0.1,%22heading%22:180,%22pitch%22:45,%22dist%22:100,%22duration%22:3,%22fly%22:true,%22showPin%22:%20false,%22circle%22:true,%22rpm%22:1}}&layout=clean'> </iframe>\n",
    "            </div>\n",
    "            <div class=' graph_box '>\n",
    "                <!-- Graph -->\n",
    "                <canvas id=\"radar_chart\"></canvas>\n",
    "                <!--  <canvas id=\"multi_series_pie_chart\"></canvas> -->\n",
    "            </div>\n",
    "        </div>\n",
    "        <!-- close: class=\"top_container\"-->\n",
    "\n",
    "        <div class=\"bottom_container\">\n",
    "            <!-- table -->\n",
    "            <div class='table_box '>\n",
    "\n",
    "\n",
    "                <table id=\"table_id\" class=\"display\">\n",
    "                    <thead>\n",
    "                        <tr>\n",
    "                            <th>id</th>\n",
    "                            <th>primary</th>\n",
    "                            <th>secondary</th>\n",
    "                            <th>n_bicycle_parking.</th>\n",
    "                            <th>placeholder.</th>\n",
    "                            <th>placeholder.</th>\n",
    "                            <th>placeholder.</th>\n",
    "                            <th>placeholder.</th>\n",
    "                            <th>placeholder.</th>\n",
    "                            <th>placeholder.</th>\n",
    "\n",
    "\n",
    "                        </tr>\n",
    "                    </thead>\n",
    "                </table>\n",
    "                <!-- table -->\n",
    "            </div>\n",
    "            <!-- close: class=\"bottom_container\"-->\n",
    "\n",
    "        </div>\n",
    "        <!-- close entire page div -->\n",
    "        <span class=\"material-icons-outlined info-button info-detailed\" id=\"buttonLeftFixed\">info</span>\n",
    "\n",
    "    </div>\n",
    "    <!-- close: class='detailed-page '-->\n",
    "</body>\n",
    "\"\"\"\n",
    "\n",
    "    html_footer = \"\"\"\n",
    "<footer>\n",
    "\n",
    "    <!--To load javascript page -->\n",
    "    <script src=\"../js/building_card.js\"></script>\n",
    "\n",
    "\n",
    "</footer>\n",
    "\n",
    "</html>\n",
    "\"\"\"\n",
    "    \n",
    "    \n",
    "    page_str = html_head + html_body_start + html_body_carousel + html_body_radio_button + html_body_end + html_footer\n",
    "    # parse as html file in folder\n",
    "    # open the file in w mode\n",
    "    # set encoding to UTF-8\n",
    "    with open(f'../building_cards/{bld_id}.html', \"w\", encoding = 'utf-8') as file:\n",
    "        file.write(page_str) # NOTICE change to actual string"
   ]
  },
  {
   "cell_type": "raw",
   "id": "moral-deadline",
   "metadata": {},
   "source": [
    "<!DOCTYPE html>\n",
    "<html lang=\"en\">\n",
    "\n",
    "<head>\n",
    "    <meta charset=\"UTF-8\">\n",
    "    <meta http-equiv=\"X-UA-Compatible\" content=\"IE=edge\">\n",
    "    <meta name=\"viewport\" content=\"width=device-width, initial-scale=1.0\">\n",
    "    <link href=\"../css/building_card.css\" rel=\"stylesheet\">\n",
    "    <link href=\"https://fonts.googleapis.com/css?family=Material+Icons|Material+Icons+Outlined|Material+Icons+Two+Tone|Material+Icons+Round|Material+Icons+Sharp\" rel=\"stylesheet\">\n",
    "    <!--To load jquery -->\n",
    "    <script src=\"https://cdnjs.cloudflare.com/ajax/libs/jquery/3.2.1/jquery.min.js \"></script>\n",
    "    <!--To dataTables -->\n",
    "    <link rel=\"stylesheet\" type=\"text/css\" href=\"https://cdn.datatables.net/1.10.24/css/jquery.dataTables.css\">\n",
    "    <script type=\"text/javascript\" charset=\"utf8\" src=\"https://cdn.datatables.net/1.10.24/js/jquery.dataTables.js\"></script>\n",
    "    <!--To pass variables -->\n",
    "    <script type=\"text/javascript\" src=\"../js/app.js\"></script>\n",
    "    <!--To load chartjs -->\n",
    "    <script type=\"text/javascript\" src=\"https://cdnjs.cloudflare.com/ajax/libs/Chart.js/3.3.0/chart.min.js\"></script>\n",
    "\n",
    "\n",
    "\n",
    "    <title>Document</title>\n",
    "</head>\n",
    "\n",
    "<body>\n",
    "    <div class='summary-page'>\n",
    "        <span class=\"material-icons-outlined\" id=\"topRightFixed\">\n",
    "            close\n",
    "            </span>\n",
    "        <div class=\"summary\">\n",
    "            <h2>Auerbach 4 </h2>\n",
    "            <p>parcel : 701</p>\n",
    "            <p>section: 3</p>\n",
    "            <p>complex: north jaffa</p>\n",
    "            <p>status: conservation b</p>\n",
    "            <p>City Building Plan: 2572</p>\n",
    "            <p id=\"building_id\">ID: 12146</p>\n",
    "        </div>\n",
    "        <div class=\"carousel-container\">\n",
    "            <img alt=\"test\" photo_num='1' class=\"center carousel\" src=\"../photos/אאורבך-4(2)_12146.jpg\">\n",
    "            <img alt=\"test\" photo_num='2' class=\"center carousel\" src=\"../photos/אאורבך-4_12146.jpg\">\n",
    "        </div>\n",
    "\n",
    "        <div class=\"carousel-button\">\n",
    "            <span class=\"material-icons-outlined\" button_num='1'>\n",
    "                    radio_button_checked\n",
    "                    </span>\n",
    "            <span class=\"material-icons-outlined\" button_num='2'>\n",
    "                        radio_button_unchecked\n",
    "                        </span>\n",
    "\n",
    "\n",
    "        </div>\n",
    "        <span class=\"material-icons-outlined info-button info-summary\" id=\"buttonLeftFixed\">info</span>\n",
    "        <span class=\"material-icons-outlined\" id=\"navigate_before\">\n",
    "        navigate_before\n",
    "        </span>\n",
    "        <span class=\"material-icons-outlined navigate_next\" id=\"buttonRightFixed\">\n",
    "        navigate_next\n",
    "        </span>\n",
    "    </div>\n",
    "\n",
    "    <div class='detailed-page'>\n",
    "        <!-- Entire page-->\n",
    "        <div class=\"top_container\">\n",
    "            <!-- simplex / powerBI - simplex height=\"550px\" width=\"100%\"            -->\n",
    "\n",
    "            <div class='simplex_box'>\n",
    "                <iframe id=\"simplexinlineFrame\" height=\"95%\" width=\"90%\" title=\"Meimad Iframe\" src='https://simplex-smart3d.com/ces/TLV/app-ANPLUS/?pos=34.756111,32.055,1100&ori=0,-90,0#lookAt={%22lat%22:32.0438991,%22lon%22:34.7639062,%20%22elev%22:0.1,%22heading%22:180,%22pitch%22:45,%22dist%22:100,%22duration%22:3,%22fly%22:true,%22showPin%22:%20false,%22circle%22:true,%22rpm%22:1}&layout=clean'> </iframe>\n",
    "            </div>\n",
    "            <div class=' graph_box '>\n",
    "                <!-- Graph -->\n",
    "                <canvas id=\"radar_chart\"></canvas>\n",
    "                <!--  <canvas id=\"multi_series_pie_chart\"></canvas> -->\n",
    "            </div>\n",
    "        </div>\n",
    "        <!-- close: class=\"top_container\"-->\n",
    "\n",
    "        <div class=\"bottom_container\">\n",
    "            <!-- table -->\n",
    "            <div class='table_box '>\n",
    "\n",
    "\n",
    "                <table id=\"table_id\" class=\"display\">\n",
    "                    <thead>\n",
    "                        <tr>\n",
    "                            <th>id</th>\n",
    "                            <th>primary</th>\n",
    "                            <th>secondary</th>\n",
    "                            <th>n_bicycle_parking.</th>\n",
    "                            <th>placeholder.</th>\n",
    "                            <th>placeholder.</th>\n",
    "                            <th>placeholder.</th>\n",
    "                            <th>placeholder.</th>\n",
    "                            <th>placeholder.</th>\n",
    "                            <th>placeholder.</th>\n",
    "\n",
    "\n",
    "                        </tr>\n",
    "                    </thead>\n",
    "                </table>\n",
    "                <!-- table -->\n",
    "            </div>\n",
    "            <!-- close: class=\"bottom_container\"-->\n",
    "\n",
    "        </div>\n",
    "        <!-- close entire page div -->\n",
    "        <span class=\"material-icons-outlined info-button info-detailed\" id=\"buttonLeftFixed\">info</span>\n",
    "\n",
    "    </div>\n",
    "    <!-- close: class='detailed-page '-->\n",
    "</body>\n",
    "\n",
    "<footer>\n",
    "\n",
    "    <!--To load javascript page -->\n",
    "    <script src=\"../js/building_card.js\"></script>\n",
    "\n",
    "\n",
    "</footer>\n",
    "\n",
    "</html>"
   ]
  },
  {
   "cell_type": "code",
   "execution_count": null,
   "id": "commercial-student",
   "metadata": {},
   "outputs": [],
   "source": [
    "<!DOCTYPE html>\n",
    "<html lang=\"en\">\n",
    "\n",
    "<head>\n",
    "    <meta charset=\"UTF-8\">\n",
    "    <meta http-equiv=\"X-UA-Compatible\" content=\"IE=edge\">\n",
    "    <meta name=\"viewport\" content=\"width=device-width, initial-scale=1.0\">\n",
    "    <link href=\"../css/building_card.css\" rel=\"stylesheet\">\n",
    "    <link href=\"https://fonts.googleapis.com/css?family=Material+Icons|Material+Icons+Outlined|Material+Icons+Two+Tone|Material+Icons+Round|Material+Icons+Sharp\" rel=\"stylesheet\">\n",
    "    <!--To load jquery -->\n",
    "    <script src=\"https://cdnjs.cloudflare.com/ajax/libs/jquery/3.2.1/jquery.min.js \"></script>\n",
    "    <!--To dataTables -->\n",
    "    <link rel=\"stylesheet\" type=\"text/css\" href=\"https://cdn.datatables.net/1.10.24/css/jquery.dataTables.css\">\n",
    "    <script type=\"text/javascript\" charset=\"utf8\" src=\"https://cdn.datatables.net/1.10.24/js/jquery.dataTables.js\"></script>\n",
    "    <!--To pass variables -->\n",
    "    <script type=\"text/javascript\" src=\"../js/app.js\"></script>\n",
    "    <!--To load chartjs -->\n",
    "    <script type=\"text/javascript\" src=\"https://cdnjs.cloudflare.com/ajax/libs/Chart.js/3.3.0/chart.min.js\"></script>\n",
    "\n",
    "\n",
    "\n",
    "    <title>Document</title>\n",
    "</head>"
   ]
  },
  {
   "cell_type": "markdown",
   "id": "fiscal-disabled",
   "metadata": {},
   "source": [
    "## Generate an executable (.exe) file from the jupyter-notebook"
   ]
  }
 ],
 "metadata": {
  "kernelspec": {
   "display_name": "Python 3",
   "language": "python",
   "name": "python3"
  },
  "language_info": {
   "codemirror_mode": {
    "name": "ipython",
    "version": 3
   },
   "file_extension": ".py",
   "mimetype": "text/x-python",
   "name": "python",
   "nbconvert_exporter": "python",
   "pygments_lexer": "ipython3",
   "version": "3.8.5"
  }
 },
 "nbformat": 4,
 "nbformat_minor": 5
}
