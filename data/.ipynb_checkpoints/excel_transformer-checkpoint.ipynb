{
 "cells": [
  {
   "cell_type": "markdown",
   "id": "cultural-genius",
   "metadata": {},
   "source": [
    "## Import librearies\n"
   ]
  },
  {
   "cell_type": "code",
   "execution_count": 68,
   "id": "lucky-contribution",
   "metadata": {},
   "outputs": [],
   "source": [
    "from IPython.core.interactiveshell import InteractiveShell\n",
    "InteractiveShell.ast_node_interactivity = \"all\"\n",
    " # to see better in Jupyter notebook / lab"
   ]
  },
  {
   "cell_type": "code",
   "execution_count": 69,
   "id": "afraid-mouse",
   "metadata": {},
   "outputs": [],
   "source": [
    "import numpy as np # for numbers, NaN values etc. \n",
    "import pandas as pd # for excel tables etc"
   ]
  },
  {
   "cell_type": "code",
   "execution_count": 70,
   "id": "recorded-rabbit",
   "metadata": {},
   "outputs": [],
   "source": [
    "from bs4 import BeautifulSoup # import to read HTML file"
   ]
  },
  {
   "cell_type": "code",
   "execution_count": 71,
   "id": "filled-natural",
   "metadata": {},
   "outputs": [],
   "source": [
    "import os # for reading file names in photo directory"
   ]
  },
  {
   "cell_type": "code",
   "execution_count": 72,
   "id": "heated-subcommittee",
   "metadata": {},
   "outputs": [],
   "source": [
    "import re # for finding missing photos"
   ]
  },
  {
   "cell_type": "markdown",
   "id": "confidential-bubble",
   "metadata": {},
   "source": [
    "## Load excel file"
   ]
  },
  {
   "cell_type": "code",
   "execution_count": 73,
   "id": "cubic-mechanism",
   "metadata": {},
   "outputs": [],
   "source": [
    "df = pd.read_excel(r'master.xlsx')"
   ]
  },
  {
   "cell_type": "code",
   "execution_count": 74,
   "id": "failing-mobility",
   "metadata": {},
   "outputs": [
    {
     "data": {
      "text/html": [
       "<div>\n",
       "<style scoped>\n",
       "    .dataframe tbody tr th:only-of-type {\n",
       "        vertical-align: middle;\n",
       "    }\n",
       "\n",
       "    .dataframe tbody tr th {\n",
       "        vertical-align: top;\n",
       "    }\n",
       "\n",
       "    .dataframe thead th {\n",
       "        text-align: right;\n",
       "    }\n",
       "</style>\n",
       "<table border=\"1\" class=\"dataframe\">\n",
       "  <thead>\n",
       "    <tr style=\"text-align: right;\">\n",
       "      <th></th>\n",
       "      <th>id</th>\n",
       "      <th>long</th>\n",
       "      <th>lat</th>\n",
       "      <th>n_bicycle_parking</th>\n",
       "      <th>n_tel_o_fun</th>\n",
       "      <th>built_density</th>\n",
       "      <th>n_auto_tel</th>\n",
       "      <th>centrality</th>\n",
       "      <th>dist_parcel_limit</th>\n",
       "      <th>n_parks</th>\n",
       "      <th>...</th>\n",
       "      <th>kindergarten</th>\n",
       "      <th>n_flickr_tags</th>\n",
       "      <th>n_hotels</th>\n",
       "      <th>n_bars</th>\n",
       "      <th>accesability_score</th>\n",
       "      <th>accesability_score_normalized</th>\n",
       "      <th>amenities_score</th>\n",
       "      <th>amenities_score_normalized</th>\n",
       "      <th>tourism_score</th>\n",
       "      <th>tourism_score_normalized</th>\n",
       "    </tr>\n",
       "  </thead>\n",
       "  <tbody>\n",
       "    <tr>\n",
       "      <th>0</th>\n",
       "      <td>1698</td>\n",
       "      <td>34.763906</td>\n",
       "      <td>32.043899</td>\n",
       "      <td>0</td>\n",
       "      <td>0</td>\n",
       "      <td>0.163702</td>\n",
       "      <td>5</td>\n",
       "      <td>0.284663</td>\n",
       "      <td>1.826463e+00</td>\n",
       "      <td>20</td>\n",
       "      <td>...</td>\n",
       "      <td>1</td>\n",
       "      <td>372</td>\n",
       "      <td>35.0</td>\n",
       "      <td>4.0</td>\n",
       "      <td>845.692931</td>\n",
       "      <td>0.182099</td>\n",
       "      <td>40</td>\n",
       "      <td>0.000000</td>\n",
       "      <td>407</td>\n",
       "      <td>0.912556</td>\n",
       "    </tr>\n",
       "    <tr>\n",
       "      <th>1</th>\n",
       "      <td>1700</td>\n",
       "      <td>34.764112</td>\n",
       "      <td>32.043826</td>\n",
       "      <td>2</td>\n",
       "      <td>99</td>\n",
       "      <td>0.162582</td>\n",
       "      <td>22</td>\n",
       "      <td>0.244624</td>\n",
       "      <td>4.498390e-01</td>\n",
       "      <td>173</td>\n",
       "      <td>...</td>\n",
       "      <td>23</td>\n",
       "      <td>0</td>\n",
       "      <td>NaN</td>\n",
       "      <td>4.0</td>\n",
       "      <td>954.761253</td>\n",
       "      <td>0.215093</td>\n",
       "      <td>279</td>\n",
       "      <td>0.625654</td>\n",
       "      <td>0</td>\n",
       "      <td>0.000000</td>\n",
       "    </tr>\n",
       "    <tr>\n",
       "      <th>2</th>\n",
       "      <td>2110</td>\n",
       "      <td>34.759574</td>\n",
       "      <td>32.056483</td>\n",
       "      <td>7</td>\n",
       "      <td>83</td>\n",
       "      <td>0.123723</td>\n",
       "      <td>9</td>\n",
       "      <td>0.270562</td>\n",
       "      <td>0.000000e+00</td>\n",
       "      <td>236</td>\n",
       "      <td>...</td>\n",
       "      <td>25</td>\n",
       "      <td>396</td>\n",
       "      <td>46.0</td>\n",
       "      <td>50.0</td>\n",
       "      <td>1759.388405</td>\n",
       "      <td>0.458498</td>\n",
       "      <td>413</td>\n",
       "      <td>0.976440</td>\n",
       "      <td>442</td>\n",
       "      <td>0.991031</td>\n",
       "    </tr>\n",
       "    <tr>\n",
       "      <th>3</th>\n",
       "      <td>2143</td>\n",
       "      <td>34.747829</td>\n",
       "      <td>32.035631</td>\n",
       "      <td>8</td>\n",
       "      <td>68</td>\n",
       "      <td>0.167012</td>\n",
       "      <td>2</td>\n",
       "      <td>0.364729</td>\n",
       "      <td>2.043400e+00</td>\n",
       "      <td>193</td>\n",
       "      <td>...</td>\n",
       "      <td>17</td>\n",
       "      <td>180</td>\n",
       "      <td>47.0</td>\n",
       "      <td>3.0</td>\n",
       "      <td>2187.279083</td>\n",
       "      <td>0.587938</td>\n",
       "      <td>289</td>\n",
       "      <td>0.651832</td>\n",
       "      <td>227</td>\n",
       "      <td>0.508969</td>\n",
       "    </tr>\n",
       "    <tr>\n",
       "      <th>4</th>\n",
       "      <td>2203</td>\n",
       "      <td>34.747280</td>\n",
       "      <td>32.037557</td>\n",
       "      <td>8</td>\n",
       "      <td>88</td>\n",
       "      <td>0.171806</td>\n",
       "      <td>2</td>\n",
       "      <td>0.353015</td>\n",
       "      <td>2.005172e+03</td>\n",
       "      <td>179</td>\n",
       "      <td>...</td>\n",
       "      <td>14</td>\n",
       "      <td>396</td>\n",
       "      <td>48.0</td>\n",
       "      <td>1.0</td>\n",
       "      <td>2048.152800</td>\n",
       "      <td>0.545851</td>\n",
       "      <td>263</td>\n",
       "      <td>0.583770</td>\n",
       "      <td>444</td>\n",
       "      <td>0.995516</td>\n",
       "    </tr>\n",
       "    <tr>\n",
       "      <th>...</th>\n",
       "      <td>...</td>\n",
       "      <td>...</td>\n",
       "      <td>...</td>\n",
       "      <td>...</td>\n",
       "      <td>...</td>\n",
       "      <td>...</td>\n",
       "      <td>...</td>\n",
       "      <td>...</td>\n",
       "      <td>...</td>\n",
       "      <td>...</td>\n",
       "      <td>...</td>\n",
       "      <td>...</td>\n",
       "      <td>...</td>\n",
       "      <td>...</td>\n",
       "      <td>...</td>\n",
       "      <td>...</td>\n",
       "      <td>...</td>\n",
       "      <td>...</td>\n",
       "      <td>...</td>\n",
       "      <td>...</td>\n",
       "      <td>...</td>\n",
       "    </tr>\n",
       "    <tr>\n",
       "      <th>695</th>\n",
       "      <td>65329</td>\n",
       "      <td>34.757599</td>\n",
       "      <td>32.048770</td>\n",
       "      <td>5</td>\n",
       "      <td>167</td>\n",
       "      <td>0.326731</td>\n",
       "      <td>35</td>\n",
       "      <td>0.271237</td>\n",
       "      <td>0.000000e+00</td>\n",
       "      <td>219</td>\n",
       "      <td>...</td>\n",
       "      <td>14</td>\n",
       "      <td>42</td>\n",
       "      <td>43.0</td>\n",
       "      <td>47.0</td>\n",
       "      <td>646.521881</td>\n",
       "      <td>0.121849</td>\n",
       "      <td>371</td>\n",
       "      <td>0.866492</td>\n",
       "      <td>85</td>\n",
       "      <td>0.190583</td>\n",
       "    </tr>\n",
       "    <tr>\n",
       "      <th>696</th>\n",
       "      <td>65652</td>\n",
       "      <td>34.769927</td>\n",
       "      <td>32.041468</td>\n",
       "      <td>5</td>\n",
       "      <td>39</td>\n",
       "      <td>0.279996</td>\n",
       "      <td>10</td>\n",
       "      <td>0.280203</td>\n",
       "      <td>1.977016e+01</td>\n",
       "      <td>131</td>\n",
       "      <td>...</td>\n",
       "      <td>19</td>\n",
       "      <td>306</td>\n",
       "      <td>50.0</td>\n",
       "      <td>1.0</td>\n",
       "      <td>1237.552368</td>\n",
       "      <td>0.300639</td>\n",
       "      <td>213</td>\n",
       "      <td>0.452880</td>\n",
       "      <td>356</td>\n",
       "      <td>0.798206</td>\n",
       "    </tr>\n",
       "    <tr>\n",
       "      <th>697</th>\n",
       "      <td>65937</td>\n",
       "      <td>34.770170</td>\n",
       "      <td>32.059200</td>\n",
       "      <td>14</td>\n",
       "      <td>249</td>\n",
       "      <td>0.392666</td>\n",
       "      <td>46</td>\n",
       "      <td>0.299048</td>\n",
       "      <td>4.963656e+00</td>\n",
       "      <td>149</td>\n",
       "      <td>...</td>\n",
       "      <td>17</td>\n",
       "      <td>396</td>\n",
       "      <td>49.0</td>\n",
       "      <td>51.0</td>\n",
       "      <td>827.119489</td>\n",
       "      <td>0.176481</td>\n",
       "      <td>291</td>\n",
       "      <td>0.657068</td>\n",
       "      <td>445</td>\n",
       "      <td>0.997758</td>\n",
       "    </tr>\n",
       "    <tr>\n",
       "      <th>698</th>\n",
       "      <td>65938</td>\n",
       "      <td>34.757271</td>\n",
       "      <td>32.054239</td>\n",
       "      <td>8</td>\n",
       "      <td>189</td>\n",
       "      <td>0.405160</td>\n",
       "      <td>44</td>\n",
       "      <td>0.289785</td>\n",
       "      <td>1.200000e-10</td>\n",
       "      <td>139</td>\n",
       "      <td>...</td>\n",
       "      <td>12</td>\n",
       "      <td>396</td>\n",
       "      <td>42.0</td>\n",
       "      <td>51.0</td>\n",
       "      <td>746.530223</td>\n",
       "      <td>0.152102</td>\n",
       "      <td>266</td>\n",
       "      <td>0.591623</td>\n",
       "      <td>438</td>\n",
       "      <td>0.982063</td>\n",
       "    </tr>\n",
       "    <tr>\n",
       "      <th>699</th>\n",
       "      <td>205265</td>\n",
       "      <td>34.762882</td>\n",
       "      <td>32.056560</td>\n",
       "      <td>9</td>\n",
       "      <td>167</td>\n",
       "      <td>0.466160</td>\n",
       "      <td>44</td>\n",
       "      <td>0.328646</td>\n",
       "      <td>1.783000e-03</td>\n",
       "      <td>179</td>\n",
       "      <td>...</td>\n",
       "      <td>1</td>\n",
       "      <td>372</td>\n",
       "      <td>45.0</td>\n",
       "      <td>43.0</td>\n",
       "      <td>271.898629</td>\n",
       "      <td>0.008523</td>\n",
       "      <td>304</td>\n",
       "      <td>0.691099</td>\n",
       "      <td>417</td>\n",
       "      <td>0.934978</td>\n",
       "    </tr>\n",
       "  </tbody>\n",
       "</table>\n",
       "<p>700 rows × 56 columns</p>\n",
       "</div>"
      ],
      "text/plain": [
       "         id       long        lat  n_bicycle_parking  n_tel_o_fun  \\\n",
       "0      1698  34.763906  32.043899                  0            0   \n",
       "1      1700  34.764112  32.043826                  2           99   \n",
       "2      2110  34.759574  32.056483                  7           83   \n",
       "3      2143  34.747829  32.035631                  8           68   \n",
       "4      2203  34.747280  32.037557                  8           88   \n",
       "..      ...        ...        ...                ...          ...   \n",
       "695   65329  34.757599  32.048770                  5          167   \n",
       "696   65652  34.769927  32.041468                  5           39   \n",
       "697   65937  34.770170  32.059200                 14          249   \n",
       "698   65938  34.757271  32.054239                  8          189   \n",
       "699  205265  34.762882  32.056560                  9          167   \n",
       "\n",
       "     built_density  n_auto_tel  centrality  dist_parcel_limit  n_parks  ...  \\\n",
       "0         0.163702           5    0.284663       1.826463e+00       20  ...   \n",
       "1         0.162582          22    0.244624       4.498390e-01      173  ...   \n",
       "2         0.123723           9    0.270562       0.000000e+00      236  ...   \n",
       "3         0.167012           2    0.364729       2.043400e+00      193  ...   \n",
       "4         0.171806           2    0.353015       2.005172e+03      179  ...   \n",
       "..             ...         ...         ...                ...      ...  ...   \n",
       "695       0.326731          35    0.271237       0.000000e+00      219  ...   \n",
       "696       0.279996          10    0.280203       1.977016e+01      131  ...   \n",
       "697       0.392666          46    0.299048       4.963656e+00      149  ...   \n",
       "698       0.405160          44    0.289785       1.200000e-10      139  ...   \n",
       "699       0.466160          44    0.328646       1.783000e-03      179  ...   \n",
       "\n",
       "     kindergarten  n_flickr_tags  n_hotels  n_bars  accesability_score  \\\n",
       "0               1            372      35.0     4.0          845.692931   \n",
       "1              23              0       NaN     4.0          954.761253   \n",
       "2              25            396      46.0    50.0         1759.388405   \n",
       "3              17            180      47.0     3.0         2187.279083   \n",
       "4              14            396      48.0     1.0         2048.152800   \n",
       "..            ...            ...       ...     ...                 ...   \n",
       "695            14             42      43.0    47.0          646.521881   \n",
       "696            19            306      50.0     1.0         1237.552368   \n",
       "697            17            396      49.0    51.0          827.119489   \n",
       "698            12            396      42.0    51.0          746.530223   \n",
       "699             1            372      45.0    43.0          271.898629   \n",
       "\n",
       "     accesability_score_normalized  amenities_score  \\\n",
       "0                         0.182099               40   \n",
       "1                         0.215093              279   \n",
       "2                         0.458498              413   \n",
       "3                         0.587938              289   \n",
       "4                         0.545851              263   \n",
       "..                             ...              ...   \n",
       "695                       0.121849              371   \n",
       "696                       0.300639              213   \n",
       "697                       0.176481              291   \n",
       "698                       0.152102              266   \n",
       "699                       0.008523              304   \n",
       "\n",
       "     amenities_score_normalized  tourism_score  tourism_score_normalized  \n",
       "0                      0.000000            407                  0.912556  \n",
       "1                      0.625654              0                  0.000000  \n",
       "2                      0.976440            442                  0.991031  \n",
       "3                      0.651832            227                  0.508969  \n",
       "4                      0.583770            444                  0.995516  \n",
       "..                          ...            ...                       ...  \n",
       "695                    0.866492             85                  0.190583  \n",
       "696                    0.452880            356                  0.798206  \n",
       "697                    0.657068            445                  0.997758  \n",
       "698                    0.591623            438                  0.982063  \n",
       "699                    0.691099            417                  0.934978  \n",
       "\n",
       "[700 rows x 56 columns]"
      ]
     },
     "execution_count": 74,
     "metadata": {},
     "output_type": "execute_result"
    }
   ],
   "source": [
    "df"
   ]
  },
  {
   "cell_type": "code",
   "execution_count": 75,
   "id": "french-scratch",
   "metadata": {
    "tags": []
   },
   "outputs": [
    {
     "data": {
      "text/plain": [
       "id                                 int64\n",
       "long                             float64\n",
       "lat                              float64\n",
       "n_bicycle_parking                  int64\n",
       "n_tel_o_fun                        int64\n",
       "built_density                    float64\n",
       "n_auto_tel                         int64\n",
       "centrality                       float64\n",
       "dist_parcel_limit                float64\n",
       "n_parks                            int64\n",
       "bld_height                       float64\n",
       "n_historical_bld                   int64\n",
       "parcel_size                        int64\n",
       "n_playgrounds                      int64\n",
       "tsunami_flood_line                 int64\n",
       "bld_vol                          float64\n",
       "n_religious_bld                    int64\n",
       "n_workout                          int64\n",
       "dist_sea                         float64\n",
       "dist_bicycle_route               float64\n",
       "n_gas_station                      int64\n",
       "n_hospitals_clinics                int64\n",
       "n_kindergartens                    int64\n",
       "primary                           object\n",
       "secondary                         object\n",
       "street                            object\n",
       "number                            object\n",
       "block                            float64\n",
       "parcel                            object\n",
       "complex                           object\n",
       "city_building_plan                object\n",
       "technology                        object\n",
       "status                            object\n",
       "n_floors                         float64\n",
       "finishing_materials               object\n",
       "roof                              object\n",
       "n_facades                        float64\n",
       "arrnona_year                     float64\n",
       "typology                          object\n",
       "positioning                       object\n",
       "physical_condition                object\n",
       "architectural_value               object\n",
       "urban_value                       object\n",
       "historical_significance           object\n",
       "general_evaluation                object\n",
       "radiation                        float64\n",
       "kindergarten                       int64\n",
       "n_flickr_tags                      int64\n",
       "n_hotels                         float64\n",
       "n_bars                           float64\n",
       "accesability_score               float64\n",
       "accesability_score_normalized    float64\n",
       "amenities_score                    int64\n",
       "amenities_score_normalized       float64\n",
       "tourism_score                      int64\n",
       "tourism_score_normalized         float64\n",
       "dtype: object"
      ]
     },
     "execution_count": 75,
     "metadata": {},
     "output_type": "execute_result"
    }
   ],
   "source": [
    "df.dtypes"
   ]
  },
  {
   "cell_type": "code",
   "execution_count": 76,
   "id": "respiratory-german",
   "metadata": {
    "tags": []
   },
   "outputs": [
    {
     "data": {
      "text/html": [
       "<div>\n",
       "<style scoped>\n",
       "    .dataframe tbody tr th:only-of-type {\n",
       "        vertical-align: middle;\n",
       "    }\n",
       "\n",
       "    .dataframe tbody tr th {\n",
       "        vertical-align: top;\n",
       "    }\n",
       "\n",
       "    .dataframe thead th {\n",
       "        text-align: right;\n",
       "    }\n",
       "</style>\n",
       "<table border=\"1\" class=\"dataframe\">\n",
       "  <thead>\n",
       "    <tr style=\"text-align: right;\">\n",
       "      <th></th>\n",
       "      <th>id</th>\n",
       "      <th>long</th>\n",
       "      <th>lat</th>\n",
       "      <th>n_bicycle_parking</th>\n",
       "      <th>n_tel_o_fun</th>\n",
       "      <th>built_density</th>\n",
       "      <th>n_auto_tel</th>\n",
       "      <th>centrality</th>\n",
       "      <th>dist_parcel_limit</th>\n",
       "      <th>n_parks</th>\n",
       "      <th>...</th>\n",
       "      <th>kindergarten</th>\n",
       "      <th>n_flickr_tags</th>\n",
       "      <th>n_hotels</th>\n",
       "      <th>n_bars</th>\n",
       "      <th>accesability_score</th>\n",
       "      <th>accesability_score_normalized</th>\n",
       "      <th>amenities_score</th>\n",
       "      <th>amenities_score_normalized</th>\n",
       "      <th>tourism_score</th>\n",
       "      <th>tourism_score_normalized</th>\n",
       "    </tr>\n",
       "  </thead>\n",
       "  <tbody>\n",
       "    <tr>\n",
       "      <th>0</th>\n",
       "      <td>1698</td>\n",
       "      <td>34.763906</td>\n",
       "      <td>32.043899</td>\n",
       "      <td>0</td>\n",
       "      <td>0</td>\n",
       "      <td>0.163702</td>\n",
       "      <td>5</td>\n",
       "      <td>0.284663</td>\n",
       "      <td>1.826463e+00</td>\n",
       "      <td>20</td>\n",
       "      <td>...</td>\n",
       "      <td>1</td>\n",
       "      <td>372</td>\n",
       "      <td>35.0</td>\n",
       "      <td>4.0</td>\n",
       "      <td>845.692931</td>\n",
       "      <td>0.182099</td>\n",
       "      <td>40</td>\n",
       "      <td>0.000000</td>\n",
       "      <td>407</td>\n",
       "      <td>0.912556</td>\n",
       "    </tr>\n",
       "    <tr>\n",
       "      <th>1</th>\n",
       "      <td>1700</td>\n",
       "      <td>34.764112</td>\n",
       "      <td>32.043826</td>\n",
       "      <td>2</td>\n",
       "      <td>99</td>\n",
       "      <td>0.162582</td>\n",
       "      <td>22</td>\n",
       "      <td>0.244624</td>\n",
       "      <td>4.498390e-01</td>\n",
       "      <td>173</td>\n",
       "      <td>...</td>\n",
       "      <td>23</td>\n",
       "      <td>0</td>\n",
       "      <td>NaN</td>\n",
       "      <td>4.0</td>\n",
       "      <td>954.761253</td>\n",
       "      <td>0.215093</td>\n",
       "      <td>279</td>\n",
       "      <td>0.625654</td>\n",
       "      <td>0</td>\n",
       "      <td>0.000000</td>\n",
       "    </tr>\n",
       "    <tr>\n",
       "      <th>2</th>\n",
       "      <td>2110</td>\n",
       "      <td>34.759574</td>\n",
       "      <td>32.056483</td>\n",
       "      <td>7</td>\n",
       "      <td>83</td>\n",
       "      <td>0.123723</td>\n",
       "      <td>9</td>\n",
       "      <td>0.270562</td>\n",
       "      <td>0.000000e+00</td>\n",
       "      <td>236</td>\n",
       "      <td>...</td>\n",
       "      <td>25</td>\n",
       "      <td>396</td>\n",
       "      <td>46.0</td>\n",
       "      <td>50.0</td>\n",
       "      <td>1759.388405</td>\n",
       "      <td>0.458498</td>\n",
       "      <td>413</td>\n",
       "      <td>0.976440</td>\n",
       "      <td>442</td>\n",
       "      <td>0.991031</td>\n",
       "    </tr>\n",
       "    <tr>\n",
       "      <th>3</th>\n",
       "      <td>2143</td>\n",
       "      <td>34.747829</td>\n",
       "      <td>32.035631</td>\n",
       "      <td>8</td>\n",
       "      <td>68</td>\n",
       "      <td>0.167012</td>\n",
       "      <td>2</td>\n",
       "      <td>0.364729</td>\n",
       "      <td>2.043400e+00</td>\n",
       "      <td>193</td>\n",
       "      <td>...</td>\n",
       "      <td>17</td>\n",
       "      <td>180</td>\n",
       "      <td>47.0</td>\n",
       "      <td>3.0</td>\n",
       "      <td>2187.279083</td>\n",
       "      <td>0.587938</td>\n",
       "      <td>289</td>\n",
       "      <td>0.651832</td>\n",
       "      <td>227</td>\n",
       "      <td>0.508969</td>\n",
       "    </tr>\n",
       "    <tr>\n",
       "      <th>4</th>\n",
       "      <td>2203</td>\n",
       "      <td>34.747280</td>\n",
       "      <td>32.037557</td>\n",
       "      <td>8</td>\n",
       "      <td>88</td>\n",
       "      <td>0.171806</td>\n",
       "      <td>2</td>\n",
       "      <td>0.353015</td>\n",
       "      <td>2.005172e+03</td>\n",
       "      <td>179</td>\n",
       "      <td>...</td>\n",
       "      <td>14</td>\n",
       "      <td>396</td>\n",
       "      <td>48.0</td>\n",
       "      <td>1.0</td>\n",
       "      <td>2048.152800</td>\n",
       "      <td>0.545851</td>\n",
       "      <td>263</td>\n",
       "      <td>0.583770</td>\n",
       "      <td>444</td>\n",
       "      <td>0.995516</td>\n",
       "    </tr>\n",
       "    <tr>\n",
       "      <th>...</th>\n",
       "      <td>...</td>\n",
       "      <td>...</td>\n",
       "      <td>...</td>\n",
       "      <td>...</td>\n",
       "      <td>...</td>\n",
       "      <td>...</td>\n",
       "      <td>...</td>\n",
       "      <td>...</td>\n",
       "      <td>...</td>\n",
       "      <td>...</td>\n",
       "      <td>...</td>\n",
       "      <td>...</td>\n",
       "      <td>...</td>\n",
       "      <td>...</td>\n",
       "      <td>...</td>\n",
       "      <td>...</td>\n",
       "      <td>...</td>\n",
       "      <td>...</td>\n",
       "      <td>...</td>\n",
       "      <td>...</td>\n",
       "      <td>...</td>\n",
       "    </tr>\n",
       "    <tr>\n",
       "      <th>695</th>\n",
       "      <td>65329</td>\n",
       "      <td>34.757599</td>\n",
       "      <td>32.048770</td>\n",
       "      <td>5</td>\n",
       "      <td>167</td>\n",
       "      <td>0.326731</td>\n",
       "      <td>35</td>\n",
       "      <td>0.271237</td>\n",
       "      <td>0.000000e+00</td>\n",
       "      <td>219</td>\n",
       "      <td>...</td>\n",
       "      <td>14</td>\n",
       "      <td>42</td>\n",
       "      <td>43.0</td>\n",
       "      <td>47.0</td>\n",
       "      <td>646.521881</td>\n",
       "      <td>0.121849</td>\n",
       "      <td>371</td>\n",
       "      <td>0.866492</td>\n",
       "      <td>85</td>\n",
       "      <td>0.190583</td>\n",
       "    </tr>\n",
       "    <tr>\n",
       "      <th>696</th>\n",
       "      <td>65652</td>\n",
       "      <td>34.769927</td>\n",
       "      <td>32.041468</td>\n",
       "      <td>5</td>\n",
       "      <td>39</td>\n",
       "      <td>0.279996</td>\n",
       "      <td>10</td>\n",
       "      <td>0.280203</td>\n",
       "      <td>1.977016e+01</td>\n",
       "      <td>131</td>\n",
       "      <td>...</td>\n",
       "      <td>19</td>\n",
       "      <td>306</td>\n",
       "      <td>50.0</td>\n",
       "      <td>1.0</td>\n",
       "      <td>1237.552368</td>\n",
       "      <td>0.300639</td>\n",
       "      <td>213</td>\n",
       "      <td>0.452880</td>\n",
       "      <td>356</td>\n",
       "      <td>0.798206</td>\n",
       "    </tr>\n",
       "    <tr>\n",
       "      <th>697</th>\n",
       "      <td>65937</td>\n",
       "      <td>34.770170</td>\n",
       "      <td>32.059200</td>\n",
       "      <td>14</td>\n",
       "      <td>249</td>\n",
       "      <td>0.392666</td>\n",
       "      <td>46</td>\n",
       "      <td>0.299048</td>\n",
       "      <td>4.963656e+00</td>\n",
       "      <td>149</td>\n",
       "      <td>...</td>\n",
       "      <td>17</td>\n",
       "      <td>396</td>\n",
       "      <td>49.0</td>\n",
       "      <td>51.0</td>\n",
       "      <td>827.119489</td>\n",
       "      <td>0.176481</td>\n",
       "      <td>291</td>\n",
       "      <td>0.657068</td>\n",
       "      <td>445</td>\n",
       "      <td>0.997758</td>\n",
       "    </tr>\n",
       "    <tr>\n",
       "      <th>698</th>\n",
       "      <td>65938</td>\n",
       "      <td>34.757271</td>\n",
       "      <td>32.054239</td>\n",
       "      <td>8</td>\n",
       "      <td>189</td>\n",
       "      <td>0.405160</td>\n",
       "      <td>44</td>\n",
       "      <td>0.289785</td>\n",
       "      <td>1.200000e-10</td>\n",
       "      <td>139</td>\n",
       "      <td>...</td>\n",
       "      <td>12</td>\n",
       "      <td>396</td>\n",
       "      <td>42.0</td>\n",
       "      <td>51.0</td>\n",
       "      <td>746.530223</td>\n",
       "      <td>0.152102</td>\n",
       "      <td>266</td>\n",
       "      <td>0.591623</td>\n",
       "      <td>438</td>\n",
       "      <td>0.982063</td>\n",
       "    </tr>\n",
       "    <tr>\n",
       "      <th>699</th>\n",
       "      <td>205265</td>\n",
       "      <td>34.762882</td>\n",
       "      <td>32.056560</td>\n",
       "      <td>9</td>\n",
       "      <td>167</td>\n",
       "      <td>0.466160</td>\n",
       "      <td>44</td>\n",
       "      <td>0.328646</td>\n",
       "      <td>1.783000e-03</td>\n",
       "      <td>179</td>\n",
       "      <td>...</td>\n",
       "      <td>1</td>\n",
       "      <td>372</td>\n",
       "      <td>45.0</td>\n",
       "      <td>43.0</td>\n",
       "      <td>271.898629</td>\n",
       "      <td>0.008523</td>\n",
       "      <td>304</td>\n",
       "      <td>0.691099</td>\n",
       "      <td>417</td>\n",
       "      <td>0.934978</td>\n",
       "    </tr>\n",
       "  </tbody>\n",
       "</table>\n",
       "<p>700 rows × 38 columns</p>\n",
       "</div>"
      ],
      "text/plain": [
       "         id       long        lat  n_bicycle_parking  n_tel_o_fun  \\\n",
       "0      1698  34.763906  32.043899                  0            0   \n",
       "1      1700  34.764112  32.043826                  2           99   \n",
       "2      2110  34.759574  32.056483                  7           83   \n",
       "3      2143  34.747829  32.035631                  8           68   \n",
       "4      2203  34.747280  32.037557                  8           88   \n",
       "..      ...        ...        ...                ...          ...   \n",
       "695   65329  34.757599  32.048770                  5          167   \n",
       "696   65652  34.769927  32.041468                  5           39   \n",
       "697   65937  34.770170  32.059200                 14          249   \n",
       "698   65938  34.757271  32.054239                  8          189   \n",
       "699  205265  34.762882  32.056560                  9          167   \n",
       "\n",
       "     built_density  n_auto_tel  centrality  dist_parcel_limit  n_parks  ...  \\\n",
       "0         0.163702           5    0.284663       1.826463e+00       20  ...   \n",
       "1         0.162582          22    0.244624       4.498390e-01      173  ...   \n",
       "2         0.123723           9    0.270562       0.000000e+00      236  ...   \n",
       "3         0.167012           2    0.364729       2.043400e+00      193  ...   \n",
       "4         0.171806           2    0.353015       2.005172e+03      179  ...   \n",
       "..             ...         ...         ...                ...      ...  ...   \n",
       "695       0.326731          35    0.271237       0.000000e+00      219  ...   \n",
       "696       0.279996          10    0.280203       1.977016e+01      131  ...   \n",
       "697       0.392666          46    0.299048       4.963656e+00      149  ...   \n",
       "698       0.405160          44    0.289785       1.200000e-10      139  ...   \n",
       "699       0.466160          44    0.328646       1.783000e-03      179  ...   \n",
       "\n",
       "     kindergarten  n_flickr_tags  n_hotels  n_bars  accesability_score  \\\n",
       "0               1            372      35.0     4.0          845.692931   \n",
       "1              23              0       NaN     4.0          954.761253   \n",
       "2              25            396      46.0    50.0         1759.388405   \n",
       "3              17            180      47.0     3.0         2187.279083   \n",
       "4              14            396      48.0     1.0         2048.152800   \n",
       "..            ...            ...       ...     ...                 ...   \n",
       "695            14             42      43.0    47.0          646.521881   \n",
       "696            19            306      50.0     1.0         1237.552368   \n",
       "697            17            396      49.0    51.0          827.119489   \n",
       "698            12            396      42.0    51.0          746.530223   \n",
       "699             1            372      45.0    43.0          271.898629   \n",
       "\n",
       "     accesability_score_normalized  amenities_score  \\\n",
       "0                         0.182099               40   \n",
       "1                         0.215093              279   \n",
       "2                         0.458498              413   \n",
       "3                         0.587938              289   \n",
       "4                         0.545851              263   \n",
       "..                             ...              ...   \n",
       "695                       0.121849              371   \n",
       "696                       0.300639              213   \n",
       "697                       0.176481              291   \n",
       "698                       0.152102              266   \n",
       "699                       0.008523              304   \n",
       "\n",
       "     amenities_score_normalized  tourism_score  tourism_score_normalized  \n",
       "0                      0.000000            407                  0.912556  \n",
       "1                      0.625654              0                  0.000000  \n",
       "2                      0.976440            442                  0.991031  \n",
       "3                      0.651832            227                  0.508969  \n",
       "4                      0.583770            444                  0.995516  \n",
       "..                          ...            ...                       ...  \n",
       "695                    0.866492             85                  0.190583  \n",
       "696                    0.452880            356                  0.798206  \n",
       "697                    0.657068            445                  0.997758  \n",
       "698                    0.591623            438                  0.982063  \n",
       "699                    0.691099            417                  0.934978  \n",
       "\n",
       "[700 rows x 38 columns]"
      ]
     },
     "execution_count": 76,
     "metadata": {},
     "output_type": "execute_result"
    }
   ],
   "source": [
    "df.select_dtypes(np.number)"
   ]
  },
  {
   "cell_type": "code",
   "execution_count": 77,
   "id": "typical-visitor",
   "metadata": {
    "tags": []
   },
   "outputs": [
    {
     "data": {
      "text/html": [
       "<div>\n",
       "<style scoped>\n",
       "    .dataframe tbody tr th:only-of-type {\n",
       "        vertical-align: middle;\n",
       "    }\n",
       "\n",
       "    .dataframe tbody tr th {\n",
       "        vertical-align: top;\n",
       "    }\n",
       "\n",
       "    .dataframe thead th {\n",
       "        text-align: right;\n",
       "    }\n",
       "</style>\n",
       "<table border=\"1\" class=\"dataframe\">\n",
       "  <thead>\n",
       "    <tr style=\"text-align: right;\">\n",
       "      <th></th>\n",
       "    </tr>\n",
       "  </thead>\n",
       "  <tbody>\n",
       "    <tr>\n",
       "      <th>0</th>\n",
       "    </tr>\n",
       "    <tr>\n",
       "      <th>1</th>\n",
       "    </tr>\n",
       "    <tr>\n",
       "      <th>2</th>\n",
       "    </tr>\n",
       "    <tr>\n",
       "      <th>3</th>\n",
       "    </tr>\n",
       "    <tr>\n",
       "      <th>4</th>\n",
       "    </tr>\n",
       "    <tr>\n",
       "      <th>...</th>\n",
       "    </tr>\n",
       "    <tr>\n",
       "      <th>695</th>\n",
       "    </tr>\n",
       "    <tr>\n",
       "      <th>696</th>\n",
       "    </tr>\n",
       "    <tr>\n",
       "      <th>697</th>\n",
       "    </tr>\n",
       "    <tr>\n",
       "      <th>698</th>\n",
       "    </tr>\n",
       "    <tr>\n",
       "      <th>699</th>\n",
       "    </tr>\n",
       "  </tbody>\n",
       "</table>\n",
       "<p>700 rows × 0 columns</p>\n",
       "</div>"
      ],
      "text/plain": [
       "Empty DataFrame\n",
       "Columns: []\n",
       "Index: [0, 1, 2, 3, 4, 5, 6, 7, 8, 9, 10, 11, 12, 13, 14, 15, 16, 17, 18, 19, 20, 21, 22, 23, 24, 25, 26, 27, 28, 29, 30, 31, 32, 33, 34, 35, 36, 37, 38, 39, 40, 41, 42, 43, 44, 45, 46, 47, 48, 49, 50, 51, 52, 53, 54, 55, 56, 57, 58, 59, 60, 61, 62, 63, 64, 65, 66, 67, 68, 69, 70, 71, 72, 73, 74, 75, 76, 77, 78, 79, 80, 81, 82, 83, 84, 85, 86, 87, 88, 89, 90, 91, 92, 93, 94, 95, 96, 97, 98, 99, ...]\n",
       "\n",
       "[700 rows x 0 columns]"
      ]
     },
     "execution_count": 77,
     "metadata": {},
     "output_type": "execute_result"
    }
   ],
   "source": [
    "df.select_dtypes('category')"
   ]
  },
  {
   "cell_type": "markdown",
   "id": "friendly-subcommittee",
   "metadata": {},
   "source": [
    "## Import images"
   ]
  },
  {
   "cell_type": "markdown",
   "id": "adolescent-senior",
   "metadata": {},
   "source": [
    "keep building id column from excel"
   ]
  },
  {
   "cell_type": "code",
   "execution_count": 78,
   "id": "likely-harris",
   "metadata": {},
   "outputs": [],
   "source": [
    "id_lst = df['id']"
   ]
  },
  {
   "cell_type": "code",
   "execution_count": 79,
   "id": "indian-collector",
   "metadata": {},
   "outputs": [],
   "source": [
    "strets_lst = df['street']\n",
    "st_num_lst = df['number']"
   ]
  },
  {
   "cell_type": "code",
   "execution_count": 80,
   "id": "checked-contrary",
   "metadata": {
    "tags": []
   },
   "outputs": [
    {
     "name": "stdout",
     "output_type": "stream",
     "text": [
      "NOTICE the street name is a number\n",
      "NOTICE the street name is a number\n"
     ]
    }
   ],
   "source": [
    "address_lst = [] # create empty\n",
    "for x, i in enumerate(strets_lst):\n",
    "    if isinstance(i, (int, float, complex)) and not isinstance(i, bool):\n",
    "        print('NOTICE the street name is a number')\n",
    "        # don't strip the string\n",
    "        #str(i) + ' ' + str(st_num_lst[x]).strip()\n",
    "        address_lst.append(str(i) + ' ' + str(st_num_lst[x]).strip())\n",
    "    else:\n",
    "        #str(i.strip()) + ' ' + str(st_num_lst[x]).strip()\n",
    "        address_lst.append(str(i.strip()) + ' ' + str(st_num_lst[x]).strip())\n",
    "    "
   ]
  },
  {
   "cell_type": "code",
   "execution_count": 81,
   "id": "looking-logic",
   "metadata": {},
   "outputs": [],
   "source": [
    "parcel_lst = df['parcel']\n",
    "section_lst = df['block']\n",
    "complex_lst = df['complex']\n",
    "status_lst = df['status']\n",
    "bld_city_plan_lst = df['city_building_plan']\n",
    "lat_lst = df['lat']\n",
    "lon_lst = df['long']"
   ]
  },
  {
   "cell_type": "code",
   "execution_count": 82,
   "id": "prospective-strike",
   "metadata": {},
   "outputs": [],
   "source": [
    "id_df = pd.DataFrame(id_lst)"
   ]
  },
  {
   "cell_type": "markdown",
   "id": "endangered-documentary",
   "metadata": {},
   "source": [
    "Load files from the photo folder"
   ]
  },
  {
   "cell_type": "code",
   "execution_count": 83,
   "id": "intensive-empire",
   "metadata": {},
   "outputs": [],
   "source": [
    "phot_lst = os.listdir('../photos') # returns list"
   ]
  },
  {
   "cell_type": "code",
   "execution_count": 84,
   "id": "hydraulic-freeware",
   "metadata": {},
   "outputs": [
    {
     "data": {
      "text/plain": [
       "764"
      ]
     },
     "execution_count": 84,
     "metadata": {},
     "output_type": "execute_result"
    }
   ],
   "source": [
    "len(phot_lst)"
   ]
  },
  {
   "cell_type": "code",
   "execution_count": 85,
   "id": "interior-marina",
   "metadata": {},
   "outputs": [],
   "source": [
    "id_df['img_src'] = '' # create empty column to add data to"
   ]
  },
  {
   "cell_type": "code",
   "execution_count": 86,
   "id": "declared-secretary",
   "metadata": {
    "tags": []
   },
   "outputs": [
    {
     "data": {
      "text/plain": [
       "['אאורבך 8-בר-הופמן-14_8840.jpg',\n",
       " 'אאורבך-4(2)_12146.jpg',\n",
       " 'אאורבך-4_12146.jpg',\n",
       " 'אאורבך-5_9412.jpg',\n",
       " 'אאורבך-6_8596.jpg',\n",
       " 'אאורבך-7_12928.jpg',\n",
       " 'אבינרי יצחק 8-(חזית אחורית)_7563.jpg',\n",
       " 'אבינרי-יצחק-4-4-,א׳חביבי-אמיל-3_12704.jpg',\n",
       " 'אבינרי-יצחק-6_2598.jpg',\n",
       " 'אבן-רשד-12-בית-רעים-3-מתוקן_11663.jpg',\n",
       " 'אבן-רשד-12-בית-רעים-3_11663.jpg',\n",
       " 'אוז׳שקובה-1-פושקין-9-דנטה-6_7035.jpg',\n",
       " 'אוז׳שקובה-2-פושקין-11-(חזית)_2538.jpg',\n",
       " 'אוז׳שקובה-2-פינת-פושקין-11_2538.jpg',\n",
       " 'אוז׳שקובה-4_2556.jpg',\n",
       " 'אוריאל-אקוסטה-11_2334.jpg',\n",
       " 'אוריאל-אקוסטה-14-12_7028.jpg',\n",
       " 'אוריאל-אקוסטה-15(1)_2518.jpg',\n",
       " 'אוריאל-אקוסטה-15_2518.jpg',\n",
       " 'אוריאל-אקוסטה-16_6383.jpg',\n",
       " 'אוריאל-אקוסטה-17_2407.jpg',\n",
       " 'אוריאל-אקוסטה-18-פרנקל-ידידיה-31(2)_6399.jpg',\n",
       " 'אוריאל-אקוסטה-18-פרנקל-ידידיה-31_6399.jpg',\n",
       " 'אוריאל-אקוסטה-20-פרנקל-ידידיה-33(2)_6403.jpg',\n",
       " 'אוריאל-אקוסטה-20-פרנקל-ידידיה-33_6403.jpg',\n",
       " 'אוריאל-אקוסטה-9_12342.jpg',\n",
       " 'אחילוף-3_8543.jpg',\n",
       " 'איילת-השחר-10-ראש-פינה-28_2833.jpg',\n",
       " 'איילת-השחר-7-ראש פינה-26_2983.jpg',\n",
       " 'אילת-10_2498.jpg',\n",
       " 'אילת-14-אוארבך-1_12911.jpg',\n",
       " 'אילת-16_2577.jpg',\n",
       " 'אילת-32-פברגט-אנריקה-1_8391.jpg',\n",
       " 'אילת-36_12295.jpg',\n",
       " 'אילת-38_12297.jpg',\n",
       " 'אילת-40-קומפורט-2_8761.jpg',\n",
       " 'אילת-42-קומפורט-1_8610.jpg',\n",
       " 'אילת-44_40932.jpg',\n",
       " 'אילת-46_7170.jpg',\n",
       " 'אילת-50-אברבנאל-2_2954.jpg',\n",
       " 'אילת-52-54-אברבנאל-1_2369.jpg',\n",
       " 'אילת-8-ניצנה-7_7542.jpg',\n",
       " 'אילת-השחר-10-ראש-פינה-28(2)_2833.jpg',\n",
       " 'אליעזר-בן-הורקונוס-4_6955.jpg',\n",
       " 'אלעז- בן-יוסי-2-חנניה-בן-דוסא-27_2309.jpg',\n",
       " 'אסף-הרופא-40-42_2325.jpg',\n",
       " 'אפק-6-תרצה-8-סגולה-5_12018.jpg',\n",
       " 'ארליך-16_10771.jpg',\n",
       " 'ארליך-18_6458.jpg',\n",
       " 'ארליך-20_21657.jpg',\n",
       " 'ארליך-21-שבטי-ישראל-49_2599.jpg',\n",
       " 'ארליך-27_6481.jpg',\n",
       " 'בגין מנחם 10-הגדוד העברי(2)-1_2241.jpg',\n",
       " 'בגין מנחם 10-הגדוד העברי-1_2241.jpg',\n",
       " 'בגין מנחם 12-הגדוד העברי-3_2260.jpg',\n",
       " 'בגין-מנחם 12-הגדוד-העברי-3(2)_2260.jpg',\n",
       " 'בית אשל-11-בן-עזריה-אלעזר-6_41512.jpg',\n",
       " 'בית-אשל 3-בן-יאיר-פנחס-10_8836.jpg',\n",
       " 'בית-אשל-12_50980.jpg',\n",
       " 'בית-אשל-14-בן-יאיר-פנחס-12_8834.jpg',\n",
       " 'בית-אשל-19_41028.jpg',\n",
       " 'בית-אשל-1_12040.jpg',\n",
       " 'בית-אשל-21_41026.jpg',\n",
       " 'בית-אשל-23_2203.jpg',\n",
       " 'בית-אשל-25-חנניה-בן-דוסא-28_6899.jpg',\n",
       " 'בית-אשל-26_12890.jpg',\n",
       " 'בית-אשל-28_8843.jpg',\n",
       " 'בית-אשל-31_52708.jpg',\n",
       " 'בית-אשל-38_8838.jpg',\n",
       " 'בית-אשל-4-10_40942.jpg',\n",
       " 'בית-אשל-5-שמעון-הצדיק-22-בן-יאיר-פנחס-7_12461.jpg',\n",
       " 'בית-אשל-7-שמעון-הצדיק-31_8837.jpg',\n",
       " 'בן-אחיטוב-1-3-שמואל-בן-עדיה-7_10375.jpg',\n",
       " 'בן-אחיטוב-13-החרוב-6_11663.jpg',\n",
       " 'בן-אחיטוב-14_2408.jpg',\n",
       " 'בן-אחיטוב-17_2886.jpg',\n",
       " 'בן-אחיטוב-22-24_12346.jpg',\n",
       " 'בן-זומא-שמעון-2-חנניא-בן-דוסא-19_12899.jpg',\n",
       " 'בן-יאיר-פנחס-3-שמעון-הצדיק-16(2)_7186.jpg',\n",
       " 'בן-יאיר-פנחס-3-שמעון-הצדיק-16_7186.jpg',\n",
       " 'בן-יאיר-פנחס-5-שמעון-הצדיק-20-יוהשע-בן-פרחיה-6_2803.jpg',\n",
       " 'בן-עזריה-13-שמעון-בן-גמליאל-4_9508.jpg',\n",
       " 'בן-צבי-5_8842.JPG',\n",
       " 'בן-שטח-4_7194.jpg',\n",
       " 'בנבנישתי-18-דרך-שלמה-69_8987.jpg',\n",
       " 'בנטוב מרדכי-14_11825.jpg',\n",
       " 'בעל-הטורים-5_52732.jpg',\n",
       " 'בר-הופמו-17_8839.jpg',\n",
       " 'בר-הופמן-11_8841.jpg',\n",
       " 'בר-הופמן-13-אוארבך-10(2)_12912.jpg',\n",
       " 'בר-הופמן-13-אוארבך-10_12912.jpg',\n",
       " 'בר-הופמן-15_8917.jpg',\n",
       " 'בר-הופמן-17_8839.jpg',\n",
       " 'בר-הופמן-17א_41441.jpg',\n",
       " 'בר-הופמן-9_10401.jpg',\n",
       " 'ברגר-אליזבת-12_11831.jpg',\n",
       " 'ברנדט-וילי-3_11814.jpg',\n",
       " 'גורקי-12_9372.jpg',\n",
       " 'גורקי-4_8752.jpg',\n",
       " 'גורקי-6-פושקין-20-(חזית)_51009.jpg',\n",
       " 'גורקי-6-פושקין-20_51009.jpg',\n",
       " 'דה-רוטשילד-בת-שבע-2_10615.jpg',\n",
       " 'דה-רוטשילד-בת-שבע-3_10588.jpg',\n",
       " 'דונלו-הרופא-24_11843.jpg',\n",
       " 'דנטה-17_6799.jpg',\n",
       " 'דני-קיי-2-תג׳ר-ציונה-9_8829.jpg',\n",
       " 'דני-קיי-8_7330.jpg',\n",
       " 'דני-קיי-קמינסקי-6-10(2)_2823.jpg',\n",
       " 'דני-קיי-קמינסקי-6-10_2823.jpg',\n",
       " 'דרור-9(2)_12910.jpg',\n",
       " 'דרור-9_12910.jpg',\n",
       " 'דרך-בן-צבי-68-70_10437.jpg',\n",
       " 'דרך-בן-צבי-78_9052.jpg',\n",
       " 'דרך-יפו-24-הקישון-2_12361.jpg',\n",
       " 'דרך-שלמה-63-בן-עטר-12_10421.jpg',\n",
       " 'דרך-שלמה-77_10318.jpg',\n",
       " 'דרך-שלמה-81-הקישון-87_50439.jpg',\n",
       " 'דרך-שלמה-83_50815.jpg',\n",
       " 'ד״ר-ולבה-יואל-3_12289.jpg',\n",
       " 'האגוז-17-שלוחות-1-הצרי-12-החילוף-22_6789.jpg',\n",
       " 'האתרוג-16_6913.jpg',\n",
       " 'האתרוג-24-יאנוש-קורצאק-7-בית-פלט-37_2624.jpg',\n",
       " 'הגמנסיה העברית 8-יועזר איש הבירה 2-4- 3338 1_8826.jpg',\n",
       " 'הגמנסיה-העברית 4-6-יועזר-איש-הבירה-5_12257.jpg',\n",
       " 'הגמנסיה-העברית-5-יועזר-איש-הבירה-7-המלך-חירם-4_12861.jpg',\n",
       " 'הגמנסיה-העברית-7-יועזר-איש-הבירה 6-יהושוע-בן-פרחיה-3-בן-יאיר-פנחס-6(2)_8955.jpg',\n",
       " 'הגמנסיה-העברית-7-יועזר-איש-הבירה 6-יהושוע-בן-פרחיה-3-בן-יאיר-פנחס-6_8955.jpg',\n",
       " 'הגר״א-36-ראש-פינ-25_11660.jpg',\n",
       " 'הדואר 9-שדרות-ירושלים-12-ליענר-שלמה-1-שמי-יחיאל-2_7375.jpg',\n",
       " 'הדואר-10(2)_8985.jpg',\n",
       " 'הדואר-10_8985.jpg',\n",
       " 'הדואר-12-14_6277.jpg',\n",
       " 'הדואר-2-רזיאל-דוד-13_9269.jpg',\n",
       " 'הדואר-4_7282.jpg',\n",
       " 'הדואר-6_40883.jpg',\n",
       " 'הדואר-8_7128.jpg',\n",
       " 'הדולפין-11_6748.jpg',\n",
       " 'הדולפין-19_51096.jpg',\n",
       " 'הדולפין-20_41401.jpg',\n",
       " 'החיטה-3_2438.jpg',\n",
       " 'החלוצים-13-לווינסקי-57_11852.jpg',\n",
       " 'החלוצים-14-לוינסקי-55_7348.jpg',\n",
       " 'החלוצים-16-לווינסקי-48_12056.jpg',\n",
       " 'החלוצים-21-מטלון-45_9829.jpg',\n",
       " 'החלוצים-22-מטלון-43_2942.jpg',\n",
       " 'החלוצים-24-מטלון-46_8764.jpg',\n",
       " 'החלוצים-32_12962.jpg',\n",
       " 'החלוצים-33-וולפסון-36_8776.jpg',\n",
       " 'החלוצים-34-וולפסון-34_12971.jpg',\n",
       " 'החלוצים-35_12923.jpg',\n",
       " 'החלוצים-36_12924.jpg',\n",
       " 'החלוצים-37_12129.jpg',\n",
       " 'החלוצים-39_8593.jpg',\n",
       " 'החלוצים-42_52695.jpg',\n",
       " 'החלוצים-44_12469.jpg',\n",
       " 'החלוצים-47-פרנקל-ידידיה-58_12009.jpg',\n",
       " 'החלוצים-50-א׳_8823.jpg',\n",
       " 'החלוצים-52_12259.jpg',\n",
       " 'החלוצים-5_52703.jpg',\n",
       " 'החצוצרה-(מגדל-מים)_0.jpg',\n",
       " 'החצוצרה-7-(מגדל-מים)-1_0.jpg',\n",
       " 'החרוב-26_2853.jpg',\n",
       " 'החרוב-2_2858.jpg',\n",
       " 'החרוב-30_2331.jpg',\n",
       " 'החרוב-44_2860.jpg',\n",
       " 'החרש-37-לבנדה-52_2243.jpg',\n",
       " 'החרש-39-לבנדה-54_12335.jpg',\n",
       " 'החרש-41-לבנדה-56_8290.jpg',\n",
       " 'הלוטוס-8_2857.jpg',\n",
       " 'הלענה-3-הצרי-24_2855.jpg',\n",
       " 'המגיד-מדובנא-4_2914.jpg',\n",
       " 'המלך-חירום-10-שמעיה-1-3(2)_11827.jpg',\n",
       " 'המלך-חירום-10-שמעיה-1-3_11827.jpg',\n",
       " 'המלך-חירם 2-יועזר-איש-הבירה-1-3-מרזוק-ועזר-2_7284.jpg',\n",
       " 'המלך-חירם-15_2763.jpg',\n",
       " 'המלך-חירם-16-שמעון-הצדיק-4(2)_7433.jpg',\n",
       " 'המלך-חירם-16-שמעון-הצדיק-4_7433.jpg',\n",
       " 'המשביר-11_8377.jpg',\n",
       " 'המשביר-12-לוינסקי-26_41208.jpg',\n",
       " 'המשביר-15-לוינסקי-28_9473.jpg',\n",
       " 'המשביר-19_8376.jpg',\n",
       " 'המשביר-23_12438.jpg',\n",
       " 'המשביר-24-מטלון-25_50569.jpg',\n",
       " 'המשביר-4_8735.jpg',\n",
       " 'המשביר-6_8915.jpg',\n",
       " 'המשביר-8-10-לוינסקי-33_7325.jpg',\n",
       " 'הספינה-17_3008.jpg',\n",
       " 'העליה 29-וולפסון-40_19823.jpg',\n",
       " 'העליה-10_8374.jpg',\n",
       " 'העליה-12_8373.jpg',\n",
       " 'העליה-16-לוינסקי-59_11858.jpg',\n",
       " 'העליה-18-לווינסקי-52_8912.jpg',\n",
       " 'העליה-2-יפו-62_8372.jpg',\n",
       " 'העליה-20_8911.jpg',\n",
       " 'העליה-22_8371.jpg',\n",
       " 'העליה-24-מטלון-47_6877.jpg',\n",
       " 'העליה-26-מטלון-50_12260.jpg',\n",
       " 'העליה-29-וולפסון-40(2)_19823.jpg',\n",
       " 'העליה-32_8909.jpg',\n",
       " 'העליה-34-וולפסון-41_2379.jpg',\n",
       " 'העליה-36-38-וולפסון-38_8908.jpg',\n",
       " 'העליה-48-פרנקל-ידידיה-59_8763.jpg',\n",
       " 'העליה-4_11661.jpg',\n",
       " 'העליה-50-פרנקל-ידידה-62_11903.jpg',\n",
       " 'העליה-58_12003.jpg',\n",
       " 'העליה-60-פלורנטין-59_2607.jpg',\n",
       " 'העליה-64_11972.jpg',\n",
       " 'העליה-68_7083.jpg',\n",
       " 'העליה-70-דרך-שלמה-93_41013.jpg',\n",
       " 'הצרי-7_2495.jpg',\n",
       " 'הקישון-25-מטלון-15_10433.jpg',\n",
       " 'הקישון-34_12362.jpg',\n",
       " 'הקישון-36-וולפסון-7_2514.jpg',\n",
       " 'הקישון-38-וולפסון-8_2625.jpg',\n",
       " 'הקישון-3_2610.jpg',\n",
       " 'הקישון-43_12363.jpg',\n",
       " 'הקישון-44-אוריאל-אקוסטה-25_12036.jpg',\n",
       " 'הקישון-45_2618.jpg',\n",
       " 'הקישון-46-ידידה-פקנקל-35-אוריאל-אקוסטה-22_10617.jpg',\n",
       " 'הקישון-47-ידידה-פרנקל-37-כפר-גלעדי-48_11508.jpg',\n",
       " 'הקישון-48-ידידה-פרנקל-32_6476.jpg',\n",
       " 'הקישון-49_12220.jpg',\n",
       " 'הקישון-50_6488.jpg',\n",
       " 'הקישון-52_11988.jpg',\n",
       " 'הקישון-54_11990.jpg',\n",
       " 'הקישון-56_11991.jpg',\n",
       " 'הקישון-58-פלורנטין-33_8757.jpg',\n",
       " 'הקישון-59_2588.jpg',\n",
       " 'הקישון-5_2610.jpg',\n",
       " 'הקישון-60-פלורנטין-32_12993.jpg',\n",
       " 'הקישון-63-פלורנטין-35_2572.jpg',\n",
       " 'הקישון-64_12991.jpg',\n",
       " 'הקישון-65-פלורנטין-34(2)_12004.jpg',\n",
       " 'הקישון-65-פלורנטין-34_12004.jpg',\n",
       " 'הקישון-66_8597.jpg',\n",
       " 'הקישון-68_12441.jpg',\n",
       " 'הקישון-69_12440.jpg',\n",
       " 'הקישון-6_8755.jpg',\n",
       " 'הקישון-70_12434.jpg',\n",
       " 'הקישון-71_8946.jpg',\n",
       " 'הקישון-72_6463.jpg',\n",
       " 'הקישון-74_6464.jpg',\n",
       " 'הקישון-75_2293.jpg',\n",
       " 'הקישון-76_2576.jpg',\n",
       " 'הקישון-77_2604.jpg',\n",
       " 'הקישון-78_2574.jpg',\n",
       " 'הקישון-80-שלמה-79_41187.jpg',\n",
       " 'הקישון-81_8384.jpg',\n",
       " 'הקישון-83_8611.jpg',\n",
       " 'הקישון-8_2562.jpg',\n",
       " 'הקישון-9-לוינסקי-23_6461.jpg',\n",
       " 'הרבי-מבכרך-32_2975.jpg',\n",
       " 'הרבי-מבכרך-34-אוארבך-9_7009.jpg',\n",
       " 'הרבי-מבכרך-42א_2847.jpg',\n",
       " 'הרצל 61-השוק 38-וולפסון-18-20-22_8719.jpg',\n",
       " 'הרצל-100_7018.jpg',\n",
       " 'הרצל-114-דרך-שלמה-85_41179.jpg',\n",
       " 'הרצל-140(2)_7388.jpg',\n",
       " 'הרצל-140_7388.jpg',\n",
       " 'הרצל-27_7019.jpg',\n",
       " 'הרצל-28-יפו-32_2511.jpg',\n",
       " 'הרצל-29_2512.jpg',\n",
       " 'הרצל-30_8772.jpg',\n",
       " 'הרצל-31_7060.jpg',\n",
       " 'הרצל-32_6431.jpg',\n",
       " 'הרצל-33_7027.jpg',\n",
       " 'הרצל-34_6387.jpg',\n",
       " 'הרצל-35-לווינסקי-31_50447.jpg',\n",
       " 'הרצל-37-לווינסקי-22_2535.jpg',\n",
       " 'הרצל-38-36-לווינסקי-29(2)_41643.jpg',\n",
       " 'הרצל-38-36-לווינסקי-29_41643.jpg',\n",
       " 'הרצל-39_8773.jpg',\n",
       " 'הרצל-40-לווינסקי-20_8775.jpg',\n",
       " 'הרצל-41_9414.jpg',\n",
       " 'הרצל-44_12322.jpg',\n",
       " 'הרצל-46_52697.jpg',\n",
       " 'הרצל-48_8844.jpg',\n",
       " 'הרצל-49-מטלון-23_2918.jpg',\n",
       " 'הרצל-51-מטלון-24_12310.jpg',\n",
       " 'הרצל-59-וולפסון-17_12982.jpg',\n",
       " 'הרצל-64_52704.jpg',\n",
       " 'הרצל-66-וולפסון-15_8715.jpg',\n",
       " 'הרצל-67-ידידיה-פרנקל-41_10618.jpg',\n",
       " 'הרצל-68-וולפסון-16_2797.jpg',\n",
       " 'הרצל-72_10420.jpg',\n",
       " 'הרצל-79-פלורנטין-38_8983.jpg',\n",
       " 'הרצל-80-פרנקל-ידידיה-39_10593.jpg',\n",
       " 'הרצל-82-ידידה פרנקל-40_8984.jpg',\n",
       " 'הרצל-83_10430.jpg',\n",
       " 'הרצל-85_9057.jpg',\n",
       " 'הרצל-89_10428.jpg',\n",
       " 'הרצל-98-פלורנטין-36_9048.jpg',\n",
       " 'השוק-10_11847.jpg',\n",
       " 'השוק-17-מטלון-31-מרחביה-22(2)_50666.jpg',\n",
       " 'השוק-17-מטלון-31-מרחביה-22_50666.jpg',\n",
       " 'השוק-21-סמטת-אלוף-בצלות-9_7171.jpg',\n",
       " 'השוק-28-מטלון-29_41547.jpg',\n",
       " 'השוק-3-סמטת-השוק-2_8658.jpg',\n",
       " 'השוק-30-אלוף בצלות 7-מטלון-32_7421.jpg',\n",
       " 'השוק-36-וולפסון-23_12980.jpg',\n",
       " 'השוק-42-ידידיה-פרנקל-43_11482.jpg',\n",
       " 'השוק-7-לוינסקי-32_8718.jpg',\n",
       " 'התקומה-40_50685.jpg',\n",
       " 'וולפסון-13-כפר-גלעדי-37_12983.jpg',\n",
       " 'וולפסון-19_8714.jpg',\n",
       " 'וולפסון-21_12981.jpg',\n",
       " 'וולפסון-3-מזרחי-32_64822.jpg',\n",
       " 'וולפסון-43-העליה-27_19926.jpg',\n",
       " 'וולפסון-45-צ׳לנוב-23_8849.jpg',\n",
       " 'וולפסון-5-מזרחי-33_7022.jpg',\n",
       " 'ויטל-חיים-1-ידידיה-פרנקל-6-8(2)_9842.jpg',\n",
       " 'ויטל-חיים-1-ידידיה-פרנקל-6-8_9842.jpg',\n",
       " 'ויטל-חיים-10_50514.jpg',\n",
       " 'ויטל-חיים-2-ידידיה-פרנקל-4_50943.jpg',\n",
       " 'ויטל-חיים-3(2)_7195.jpg',\n",
       " 'ויטל-חיים-3_7195.jpg',\n",
       " 'ויטל-חיים-4-6-פלורנטין-5(2)_8869.jpg',\n",
       " 'ויטל-חיים-4-6-פלורנטין-5_8869.jpg',\n",
       " 'ויטל-חיים-8-פלורנטין-8_2232.jpg',\n",
       " 'ויקטור-הוגו-10_7405.jpg',\n",
       " 'ויקטור-הוגו-13-מיכאלאנג׳לו-35_11451.jpg',\n",
       " 'ויקטור-הוגו-14_7285.jpg',\n",
       " 'ויקטור-הוגו-16_6412.jpg',\n",
       " 'ויקטור-הוגו-18_6989.jpg',\n",
       " 'ויקטור-הוגו-26_7014.jpg',\n",
       " 'ויקטור-הוגו-29_7013.jpg',\n",
       " 'ויקטור-הוגו-30_12290.jpg',\n",
       " 'ויקטור-הוגו-9_2621.jpg',\n",
       " 'ולנסיה-13-15-מענית-1-האשכוליות-18_41628.jpg',\n",
       " 'זבולון-11_9086.jpg',\n",
       " 'זבולון-13-לווינסקי-53_2822.jpg',\n",
       " 'זבולון-14-לווינסקי-51_7198.jpg',\n",
       " 'זבולון-15-לווינסקי-46_10777.jpg',\n",
       " 'זבולון-21_10399.jpg',\n",
       " 'זבולון-24-מטלון-39_6822.jpg',\n",
       " 'זבולון-25-מטלון-44_10419.jpg',\n",
       " 'זבולון-26-מטלון-42_11845.jpg',\n",
       " 'זבולון-27_8978.jpg',\n",
       " 'זבולון-33-וולפסון-35_2374.jpg',\n",
       " 'חייבי-משה-8-התות-12-החרוב-37_2859.jpg',\n",
       " 'חנניא-בן-דוסא-14_65285.jpg',\n",
       " 'חנניא-בן-דוסא-16-18-שמעון-בן-עזאי-3_2824.jpg',\n",
       " 'חנניא-בן-דוסא-21_6852.jpg',\n",
       " 'חנניא-בן-דוסא-23-בן-עזריה-אלעזר-12_8833.jpg',\n",
       " 'חנניא-בן-דוסא-26_2866.jpg',\n",
       " 'חנניא-בן-דוסא-27-אלעזר-בן-יוסי-2_2309.jpg',\n",
       " 'חנניה-בן-דוסא-29_6938.jpg',\n",
       " 'חנניה-בן-דוסא-30-בית-אשל-27_12881.jpg',\n",
       " 'ידידה פרנקל-61-העליה-41_7230.jpg',\n",
       " 'ידידה-פרנקל-26-שטרן-אברהם-2_2306.jpg',\n",
       " 'ידידה-פרנקל-28-שטרן-אברהם-1_6419.jpg',\n",
       " 'ידידה-פרנקל-61-העליה-41_7230.jpg',\n",
       " 'ידידיה פרנקל-57-החלוצים-45_7304.jpg',\n",
       " 'ידידיה-פרנקל-16_6467.jpg',\n",
       " 'ידידיה-פרנקל-18_2628.jpg',\n",
       " 'ידידיה-פרנקל-2-אברבנאל-31_2366.jpg',\n",
       " 'ידידיה-פרנקל-20_12167.jpg',\n",
       " 'ידידיה-פרנקל-22_2566.jpg',\n",
       " 'ידידיה-פרנקל-23_6439.jpg',\n",
       " 'ידידיה-פרנקל-24_6438.jpg',\n",
       " 'ידידיה-פרנקל-27_6410.jpg',\n",
       " 'ידידיה-פרנקל-29_2354.jpg',\n",
       " 'ידידיה-פרנקל-30_2355.jpg',\n",
       " 'ידידיה-פרנקל-38_11507.jpg',\n",
       " 'ידידיה-פרנקל-53-זבולון-49_10619.jpg',\n",
       " 'ידידיה-פרנקל-55-החלוצים-46_7087.jpg',\n",
       " 'יהדוה-מרגוזה-16_9121.jpg',\n",
       " 'יהודה-הימית-21_2418.jpg',\n",
       " 'יהודה-הימית-29_6416.jpg',\n",
       " 'יהודה-הימית-31_2597.jpg',\n",
       " 'יהודה-הימית-33_12908.jpg',\n",
       " 'יהודה-הימית-35_52731.jpg',\n",
       " 'יהודה-הימית-37-לוינסון-אברהם-2_7436.jpg',\n",
       " 'יהודה-הימית-43-קיוסו-אלברט-14_11485.jpg',\n",
       " 'יהודה-הימית-45_10612.jpg',\n",
       " 'יהודה-הימית-51_7036.jpg',\n",
       " 'יהודה-הימית-55_7085.jpg',\n",
       " 'יהודה-הימית-57(2)_8494.jpg',\n",
       " 'יהודה-הימית-57_8494.jpg',\n",
       " 'יהודה-הימית-59_11659.jpg',\n",
       " 'יהודה-הימית-5_6800.jpg',\n",
       " 'יהודה-הימית-73_2312.jpg',\n",
       " 'יהודה-מרגוזה-1-3_2882.jpg',\n",
       " 'יהודה-מרגוזה-12(2)_41598.jpg',\n",
       " 'יהודה-מרגוזה-12_41598.jpg',\n",
       " 'יהודה-מרגוזה-14(2)_9102.jpg',\n",
       " 'יהודה-מרגוזה-14_9102.jpg',\n",
       " 'יהודה-מרגוזה-16(2)_9121.jpg',\n",
       " 'יהודה-מרגוזה-25_8429.jpg',\n",
       " 'יהודה-מרגוזה-28_8476.jpg',\n",
       " 'יהודה-מרגוזה-38_12882.jpg',\n",
       " 'יהודה-מרגוזה-40_12880.jpg',\n",
       " 'יהודה-מרגוזה-5-עולי-ציון-11_8553.jpg',\n",
       " 'יהושוע-בן-פרחיה-1-הגמנסיה-העברית-10_2572.jpg',\n",
       " 'יהושוע-בן-פרחיה-2-הגמנסיה-העברית-12_9063.jpg',\n",
       " 'יהושוע-בן-פרחיה-4-בן-יאיר-פנחס 8-הגמנסיה-העברית-9-11(2)_8986.jpg',\n",
       " 'יהושוע-בן-פרחיה-4-בן-יאיר-פנחס 8-הגמנסיה-העברית-9-11_8986.jpg',\n",
       " 'יוסי-בן-יוסי-11_12888.jpg',\n",
       " 'יוסי-בן-יוסי-13_13011.jpg',\n",
       " 'יוסי-בן-יוסי-17_2510.jpg',\n",
       " 'יוסי-בן-יוסי-7_7015.jpg',\n",
       " 'יועזר-איש-הביר- 9-בן-יאיר-פנחס-4(2)_12464.jpg',\n",
       " 'יועזר-איש-הבירה-7א_12878.jpg',\n",
       " 'יועזר-איש-הבירה-7א׳(2)_12878.jpg',\n",
       " 'יועזר-איש-הבירה-9-בן-יאיר-פנחס-4_12464.jpg',\n",
       " 'ים-סוף-20_6959.jpg',\n",
       " 'יפו-16-רענן-8_12139.jpg',\n",
       " 'יפו-18-רענן-7-9_12133.jpg',\n",
       " 'יפו-20-מזרחי-4_11869.jpg',\n",
       " 'יפו-22-מזרחי-1_2919.jpg',\n",
       " 'יפו-34-המשביר-2_7526.jpg',\n",
       " 'יפו-36-המשביר-1_8370.jpg',\n",
       " 'יפו-38-השוק-2_12170.jpg',\n",
       " 'יפו-40-השוק-1_10427.jpg',\n",
       " 'יפו-42_2962.jpg',\n",
       " 'יפו-46-מרחביה-2_9077.jpg',\n",
       " 'יפו-48-מרחביה-1_7333.jpg',\n",
       " 'יפו-50-נחלת-בנימין-74_12963.jpg',\n",
       " 'יפו-60-החלוצים-1_8533.jpg',\n",
       " 'יפת 51-אבינרי-יצחק-1_2867.jpg',\n",
       " 'יפת-1-בית-אשל-2_10418.jpg',\n",
       " 'יפת-100-חייבי-משה-9_6960.jpg',\n",
       " 'יפת-102-חייבי-משה-10_2370.jpg',\n",
       " 'יפת-103-מאור-עיניים-2_8510.jpg',\n",
       " 'יפת-106-החרוב-46-48_6958.jpg',\n",
       " 'יפת-11-עמיעד-5_12437.jpg',\n",
       " 'יפת-19_7327.jpg',\n",
       " 'יפת-21(2)_6812.jpg',\n",
       " 'יפת-21(3)_6812.jpg',\n",
       " 'יפת-23(2)_6897.jpg',\n",
       " 'יפת-23_6897.jpg',\n",
       " 'יפת-27(2)_7462.jpg',\n",
       " 'יפת-27_7462.jpg',\n",
       " 'יפת-29_50982.jpg',\n",
       " 'יפת-33(2)_12889.jpg',\n",
       " 'יפת-33_12889.jpg',\n",
       " 'יפת-39_11820.jpg',\n",
       " 'יפת-3_8977.jpg',\n",
       " 'יפת-41_11830.jpg',\n",
       " 'יפת-43_7224.jpg',\n",
       " 'יפת-47-יהודה-הימית-67_65937.jpg',\n",
       " 'יפת-48-עבד-אל-ראוף-אלביטאר-1_41079.jpg',\n",
       " 'יפת-49_65938.jpg',\n",
       " 'יפת-51-אבינרי-יצחק-1_2867.jpg',\n",
       " 'יפת-52_9456.jpg',\n",
       " 'יפת-54-דה-רוטשילד-בת-שבע-1_6401.jpg',\n",
       " 'יפת-55_1700.jpg',\n",
       " 'יפת-57_1698.jpg',\n",
       " 'יפת-5_10319.jpg',\n",
       " 'יפת-61_11499.jpg',\n",
       " 'יפת-63_11402.jpg',\n",
       " 'יפת-72-ויינר-זאב-7_6963.jpg',\n",
       " 'יפת-74-ויינר-זאב-6_6963.jpg',\n",
       " 'יפת-76-בן-אחיטוב-22-24_12346.jpg',\n",
       " 'יפת-7_9062.jpg',\n",
       " 'יפת-80_12345.jpg',\n",
       " 'יפת-82_50556.jpg',\n",
       " 'יפת-89_8491.jpg',\n",
       " 'יפת-91(2)_12311.jpg',\n",
       " 'יפת-91_12311.jpg',\n",
       " 'יפת-92-סלסלה-30_50623.jpg',\n",
       " 'יפת-94_50594.jpg',\n",
       " 'ירושלים-2-רזיאל-דוד-1_40966.jpg',\n",
       " 'ירושלים-44_7169.jpg',\n",
       " 'ירושלים-4_2110.jpg',\n",
       " 'ירושלים-6_2809.jpg',\n",
       " 'ירושלים-8_12128.jpg',\n",
       " 'ישראל-מסלנט-35_9031.jpg',\n",
       " 'כפר-גלעד-29-מטלון-20-פלורנטין_2838.jpg',\n",
       " 'כפר-גלעדי-1-יפו-30_64526.jpg',\n",
       " 'כפר-גלעדי-11_41624.jpg',\n",
       " 'כפר-גלעדי-14-לוינסקי-16_7403.jpg',\n",
       " 'כפר-גלעדי-16_7402.jpg',\n",
       " 'כפר-גלעדי-17_7111.jpg',\n",
       " 'כפר-גלעדי-18_2846.jpg',\n",
       " 'כפר-גלעדי-19_7334.jpg',\n",
       " 'כפר-גלעדי-2-יפו-28_7204.jpg',\n",
       " 'כפר-גלעדי-20_12963.jpg',\n",
       " 'כפר-גלעדי-22-24_7423.jpg',\n",
       " 'כפר-גלעדי-29-מטלון-20_2838.jpg',\n",
       " 'כפר-גלעדי-3_7289.jpg',\n",
       " 'כפר-גלעדי-5_7287.jpg',\n",
       " 'כפר-גלעדי-7_7305.jpg',\n",
       " 'כפר-גלעדי-9_7288.jpg',\n",
       " 'כ״ץ-יעקוב-יוסף-4_11864.jpg',\n",
       " 'לוינסקי-10-א׳_6900.jpg',\n",
       " 'לוינסקי-12-הקישון-12_2611.jpg',\n",
       " 'לוינסקי-14-הקישון-11_8868.jpg',\n",
       " 'לוינסקי-21-הקישון-10_41403.jpg',\n",
       " 'לוינסקי-24_2917.jpg',\n",
       " 'לוינסקי-27-כפר-גלעדי-11_41624_41624.jpg',\n",
       " 'לוינסקי-34_2927.jpg',\n",
       " 'לוינסקי-8-מזרחי-10_2995.jpg',\n",
       " 'למרטין-10-שדרות-ירושלים-79(2)_9000.jpg',\n",
       " 'למרטין-15-עזה-34_8436.jpg',\n",
       " 'למרטין-16_2905.jpg',\n",
       " 'למרטין-17_50589.jpg',\n",
       " 'למרטין-30-שדרות -ירושלים 101_8465.jpg',\n",
       " 'למרטין-30-שדרות-ירושלים-101_8465.jpg',\n",
       " 'למרטין-34-שדרות ירושלים 105-הלה טוני-1_2236.jpg',\n",
       " 'למרטין-34-שדרות-ירושלים-105-הלה-טוני-1(2)_2236.jpg',\n",
       " 'למרטין-4-שדרות-ירושלים-75-מיכאלנגלו-38_12130.jpg',\n",
       " 'למרטין-8-שדרות-ירושלים-77_11943.jpg',\n",
       " 'מגן-אברהם-10-בעלי-התוספות-15_12909.jpg',\n",
       " 'מזרחי-3_2805.jpg',\n",
       " 'מזרחי-5_9034.jpg',\n",
       " 'מזרחי-6_9032.jpg',\n",
       " 'מזרחי-8-לוינסקי-17_7377.jpg',\n",
       " 'מזרחי-9-לוינסקי-19_2799.jpg',\n",
       " 'מטלון-18-כפר-גלעדי-28_7227.jpg',\n",
       " 'מטלון-28_50628.jpg',\n",
       " 'מטלון-3-מרכלת-17_41055.jpg',\n",
       " 'מטלון-30_50667.jpg',\n",
       " 'מטלון-34-השוק-19_11868.jpg',\n",
       " 'מטלון-5-רענן-28_8158.jpg',\n",
       " 'מטלון-6-רענן-30_2365.jpg',\n",
       " 'מטלון-7-רענן-25_6826.jpg',\n",
       " 'מטלון-74_18670.jpg',\n",
       " 'מטלון-74א׳_7494.jpg',\n",
       " 'מיכאלאנג׳לו-22(2)_41113.jpg',\n",
       " 'מיכאלאנג׳לו-22_41113.jpg',\n",
       " 'מיכאלאנג׳לו-28-פושקין-2_7315.jpg',\n",
       " 'מיכאלאנג׳לו-30-פושקין-1-ראסין-ז׳אן-2(2)_65329.jpg',\n",
       " 'מיכאלאנג׳לו-33_3021.jpg',\n",
       " 'מיכאלנג׳לו-33_3021.jpg',\n",
       " 'מנדס-פרנס-25-געש-16_50592.jpg',\n",
       " 'מנדס-פרנס-26_7167.jpg',\n",
       " 'מנדס-פרנס-28_50952.jpg',\n",
       " 'מנדס-פרנס-9_50653.jpg',\n",
       " 'מרזוק-ועזר-3_12127.jpg',\n",
       " 'מרחביה-11-לוינסקי-45_7499.jpg',\n",
       " 'מרחביה-12-לוינסקי-43_2944.jpg',\n",
       " 'מרחביה-13-לוינסקי-38_11848.jpg',\n",
       " 'מרחביה-14-לוינסקי-36_10317.jpg',\n",
       " 'מרחביה-21-מטלון-33_40957.jpg',\n",
       " 'מרחביה-3_9075.jpg',\n",
       " 'מרחביה-4-סמטת-השוק-6_10324.jpg',\n",
       " 'מרחביה-5_10438.jpg',\n",
       " 'מרכלת-1-יפו-14_10429.jpg',\n",
       " 'מרכלת-16_9043.jpg',\n",
       " 'מרכלת-5-לוינסקי-11_7387.jpg',\n",
       " 'מרכלת-7-לוינסקי-4א׳_12246.jpg',\n",
       " 'נועם-7(2)_2813.jpg',\n",
       " 'נועם-7_2813.jpg',\n",
       " 'נועם-9(2)_2225.jpg',\n",
       " 'נועם-9_2225.jpg',\n",
       " 'נחלת-בניימין-103-לוינסקי-49_41241.jpg',\n",
       " 'נחלת-בניימין-105-לוינסקי-42(2)_7527.jpg',\n",
       " 'נחלת-בניימין-105-לוינסקי-42_7527.jpg',\n",
       " 'נחלת-בניימין-113-מטלון-37_12522.jpg',\n",
       " 'נחלת-בניימין-115-מטלון-40_8692.jpg',\n",
       " 'נחלת-בניימין-117_12221.jpg',\n",
       " 'נחלת-בניימין-123-וולפסון-31_6393.jpg',\n",
       " 'נחלת-בניימין-129_12222.jpg',\n",
       " 'נחלת-בניימין-76_8682.jpg',\n",
       " 'נחלת-בניימין-82-80_8618.jpg',\n",
       " 'נחלת-בניימין-84-לוינסקי-47_2920.jpg',\n",
       " 'נחלת-בניימין-86-לוינסקי-40_8614.jpg',\n",
       " 'נחלת-בניימין-92_8390.jpg',\n",
       " 'נחלת-בניימין-94-מטלון-35_11378.jpg',\n",
       " 'נחלת-בנימין-128-פלורנטין-44_8788.jpg',\n",
       " 'נחלת-בנימין-130_8787.jpg',\n",
       " 'נחלת-בנימין-140_8686.jpg',\n",
       " 'נחמה-11-רוחמה-9-11-ניצנה-14-16-סגולה-8(2)_8600.jpg',\n",
       " 'נחמה-2-תרצה 14-בת-עמי-1_10344.jpg',\n",
       " 'נחמה-6-רוחמה-16_50638.jpg',\n",
       " 'נחמה11-רוחמה-9-11-ניצנה-14-16-סגולה-8(2)_8600.jpg',\n",
       " 'ניצנה-11-ניצנה-11א-ניצנה-11ב-נחמה-13(2)_12314.jpg',\n",
       " 'ניצנה-9א׳-ניצנה 9ב׳_12196.jpg',\n",
       " 'ניצנה11-ניצנה-11א-ניצנה-11ב-נחמה-13(3)_12314.jpg',\n",
       " 'נס-לגויים-49(2)_65652.jpg',\n",
       " 'נס-לגויים-49_65652.jpg',\n",
       " 'נס-לגויים-5-למרטין-44_11906.jpg',\n",
       " 'נס-לגויים-51_41616.jpg',\n",
       " 'נס-לגויים-7-למרטין-47_11666.jpg',\n",
       " 'נס-לגויים-9-עזה-66_8422.jpg',\n",
       " 'סגולה 4-תרצה-10_11636.jpg',\n",
       " 'סגולה-4-תרצה-10(2)_11636.jpg',\n",
       " 'סגל-צבי-הרמן-2_50559.jpg',\n",
       " 'סייפן-2-4-שדרות-יפת-110_2326.jpg',\n",
       " 'סלסלה-11_12720.jpg',\n",
       " 'סלסלה-16-הערמון-2_3010.jpg',\n",
       " 'סלסלה-24-החרוב-1_2825.jpg',\n",
       " 'סלסלה-26-החרוב-19_50590.jpg',\n",
       " 'סמטת-3350-3_9411.jpg',\n",
       " 'ספיר-ברוך-4_7213.jpg',\n",
       " 'ספיר-ברוך-6_12910.jpg',\n",
       " 'עאזר-אדיל-3_11374.jpg',\n",
       " 'עבודת-ישראל-3_7319.jpg',\n",
       " 'עדולם-10-בכור-ציון-10_11665.jpg',\n",
       " 'עולי-ציו- 36(2)_3019.jpg',\n",
       " 'עולי-ציון-1-יפת-9_12330.jpg',\n",
       " 'עולי-ציון-13_8369.jpg',\n",
       " 'עולי-ציון-24(2)_7216.jpg',\n",
       " 'עולי-ציון-24_7216.jpg',\n",
       " 'עולי-ציון-26_7149.jpg',\n",
       " 'עולי-ציון-2_12002.jpg',\n",
       " 'עולי-ציון-30_13011.jpg',\n",
       " 'עולי-ציון-32_6889.jpg',\n",
       " 'עולי-ציון-34(2)_8436.jpg',\n",
       " 'עולי-ציון-34_8436.jpg',\n",
       " 'עולי-ציון-36_3019.jpg',\n",
       " 'עולי-ציון-4-רבי-אחא-2_8379.jpg',\n",
       " 'עולי-ציון-8-עמיעד-13-15-רבי-חנניה-1_7461.jpg',\n",
       " 'עזה-13-15_11942.jpg',\n",
       " 'עזה-14_205265.jpg',\n",
       " 'עזה-24-מיכאלנגלו-42_8972.jpg',\n",
       " 'עזה-30-דנטא-18-למרטין-13(2)_11860.jpg',\n",
       " 'פושקין-7-דנטה-5_12246.jpg',\n",
       " 'פחד-יצחק-13_51009.jpg',\n",
       " 'פלורנטין-11_8865.jpg',\n",
       " 'פלורנטין-13_8866.jpg',\n",
       " 'פלורנטין-14-בן-עטר-1_41618.jpg',\n",
       " 'פלורנטין-15_8942.jpg',\n",
       " 'פלורנטין-16_8535.jpg',\n",
       " 'פלורנטין-17_8589.jpg',\n",
       " 'פלורנטין-20-בנבנישתי-2_50587.jpg',\n",
       " 'פלורנטין-24_12907.jpg',\n",
       " 'פלורנטין-25-שטרן-אברהם-12(2)_8615.jpg',\n",
       " 'פלורנטין-25-שטרן-אברהם-12_8615.jpg',\n",
       " 'פלורנטין-26-שדרות-וושינגטון-14_2231.jpg',\n",
       " 'פלורנטין-28-שדרות-וושינגטון-15_2230.jpg',\n",
       " 'פלורנטין-30_12142.jpg',\n",
       " 'פלורנטין-37_2573.jpg',\n",
       " 'פלורנטין-39_8867.jpg',\n",
       " 'צנובר-3-דודאים-6_50438.jpg',\n",
       " 'צנובר-4-דודאים-4_2952.jpg',\n",
       " 'קדם-35-רב-חובל-11_2616.jpg',\n",
       " 'קדם-57_8544.jpg',\n",
       " 'קדם-59_50462.jpg',\n",
       " 'קדרון-21-23_2575.jpg',\n",
       " 'קורדיברו-1-ויטל-חיים-5_12879.jpg',\n",
       " 'קורדיברו-10_8762.jpg',\n",
       " 'קורדיברו-11_13118.jpg',\n",
       " 'קורדיברו-12_8604.jpg',\n",
       " 'קורדיברו-13_2617.jpg',\n",
       " 'קורדיברו-14_6473.jpg',\n",
       " 'קורדיברו-15_2590.jpg',\n",
       " 'קורדיברו-17_7008.jpg',\n",
       " 'קורדיברו-18_12247.jpg',\n",
       " 'קורדיברו-19_2509.jpg',\n",
       " 'קורדיברו-2-ויטל-חיים-7_7196.jpg',\n",
       " 'קורדיברו-20_2536.jpg',\n",
       " 'קורדיברו-3_7032.jpg',\n",
       " 'קורדיברו-5_6432.jpg',\n",
       " 'קורדיברו-7_6397.jpg',\n",
       " 'קורדיברו-8_6392.jpg',\n",
       " 'קורדיברו-9_6964.jpg',\n",
       " 'ראסין-ז׳אן-10_8483.jpg',\n",
       " 'ראסין-ז׳אן-5_9013.jpg',\n",
       " 'ראש-פינה-25-הגר״א-36_1160.jpg',\n",
       " 'ראשון-לציון-13-(מגדל-מים)_11664.jpg',\n",
       " 'רבי-חנינא-12_41569.jpg',\n",
       " 'רבי-חנינא-14_7376.jpg',\n",
       " 'רבי-חנינא-16_7376.jpg',\n",
       " 'רבי-חנינא-22(2)_7456.jpg',\n",
       " 'רבי-חנינא-22_7456.jpg',\n",
       " 'רבי-חנניא-2-עולי-ציון-6-רבי-אחא-1_12298.jpg',\n",
       " 'רבי-פנחס-6א(2)_7201.jpg',\n",
       " 'רבי-פנחס-6א_7201.jpg',\n",
       " 'רזיאל-8_2873.jpg',\n",
       " 'רזיאל-דוד-14-16-רטוש-יונתן-4_2261.jpg',\n",
       " 'רזיאל-דוד-15_40910.jpg',\n",
       " 'רזיאל-דוד-17_7193.jpg',\n",
       " 'רזיאל-דוד-21-23_6801.jpg',\n",
       " 'רזיאל-דוד-25_2222.jpg',\n",
       " 'רזיאל-דוד-27-29(2)_2861.jpg',\n",
       " 'רזיאל-דוד-27-29_2861.jpg',\n",
       " 'רזיאל-דוד-4_2871.jpg',\n",
       " 'ריש-גלוטא-6(2)_6923.jpg',\n",
       " 'ריש-גלוטא-6_6923.jpg',\n",
       " 'שבטי-ישראל-21-מיכאלאנגלו-28_12151.jpg',\n",
       " 'שבטי-ישראל-23_12152.jpg',\n",
       " 'שבטי-ישראל-25_12942.jpg',\n",
       " 'שבטי-ישראל-31_12473.jpg',\n",
       " 'שבטי-ישראל-31א׳_50584.jpg',\n",
       " 'שבטי-ישראל-33_12946.jpg',\n",
       " 'שבטי-ישראל-42-עבד-אל-גני-17_7407.jpg',\n",
       " 'שבטי-ישראל-58_2262.jpg',\n",
       " 'שבטי-ישראל-78_12169.jpg',\n",
       " 'שדרות-הבעש״ט-4_7225.jpg',\n",
       " 'שדרות-וושינגטון-17_6930.jpg',\n",
       " 'שדרות-וושינגטון-19_2974.jpg',\n",
       " 'שדרות-וושינגטון-24_2266.jpg',\n",
       " 'שדרות-וושינגטון-25_2841.jpg',\n",
       " 'שדרות-וושינגטון-26_10446.jpg',\n",
       " 'שדרות-וושינגטון-27_9083.jpg',\n",
       " 'שדרות-וושינגטון-28_9084.jpg',\n",
       " 'שדרות-וושינגטון-30_9085.jpg',\n",
       " 'שדרות-ירושלים-109_11644.jpg',\n",
       " 'שדרות-ירושלים-111(2)_11862.jpg',\n",
       " 'שדרות-ירושלים-111-ודקר_11862.jpg',\n",
       " 'שדרות-ירושלים-14_9062.jpg',\n",
       " 'שדרות-ירושלים-18-שמעון-הצדיק-1_9061.jpg',\n",
       " 'שדרות-ירושלים-28-בני-בתירא-4-אליעזר-בן-הורקונוס-3(2)_2313.jpg',\n",
       " 'שדרות-ירושלים-28-בני-בתירא-4-אליעזר-בן-הורקונוס-3_2313.jpg',\n",
       " 'שדרות-ירושלים-30-חנינא-בן-תרדניון-3(2)_7320.jpg',\n",
       " 'שדרות-ירושלים-30_7320.jpg',\n",
       " 'שדרות-ירושלים-56_50974.jpg',\n",
       " 'שדרות-ירושלים-60_41540.jpg',\n",
       " 'שדרות-ירושלים-62-מיכאלנגלו-37_7321.jpg',\n",
       " 'שדרות-ירושלים-66_50620.jpg',\n",
       " 'שדרות-ירושלים-68_6883.jpg',\n",
       " 'שדרות-ירושלים-70_41251.jpg',\n",
       " 'שדרות-ירושלים-74_2828.jpg',\n",
       " 'שדרות-ירושלים-76_7220.jpg',\n",
       " 'שדרות-ירושלים-78_8894.jpg',\n",
       " 'שדרות-ירושלים-81-דנטה-13_10721.jpg',\n",
       " 'שדרות-ירושלים-82_8970.jpg',\n",
       " 'שטרן-אברהם-4-קורדיברו-21_7007.jpg',\n",
       " 'שטרן-אברהם-6-קורדיברו-24_9073.jpg',\n",
       " 'שלמה-19-וסרמן-יעקו-2(2)_6803.jpg',\n",
       " 'שלמה-19-וסרמן-יעקוב-2_6803.jpg',\n",
       " 'שלמה-6(2)_7185.jpg',\n",
       " 'שלמה-6_7185.jpg',\n",
       " 'שמואל-בין-עדיה-28-הספינה-1_7086.jpg',\n",
       " 'שמואל-בן-עדיה-20-הקברנית-22_2571.jpg',\n",
       " 'שמעון-בן-גמליאל-1-שמעון-בן-עזאי-6-שדרות-ירושלים-24-בן-עזריה-אל-עזר-15_40858.jpg',\n",
       " 'שמעון-בן-גמליאל-2_2812.jpg',\n",
       " 'שמעון-בן-זומא-4_12462.jpg',\n",
       " 'שמעון-בן-עזאי-2-חנניה-בן-דוסא-20_2868.jpg',\n",
       " 'שמעון-בן-עזאי-5_2811.jpg',\n",
       " 'שמעון-בן-שטח-10(2)_2810.jpg',\n",
       " 'שמעון-בן-שטח-10_2810.jpg',\n",
       " 'שמעון-בן-שטח-2(2)_2809.jpg',\n",
       " 'שמעון-הצדיק 12-14-שמעיה-8_6802.jpg',\n",
       " 'שמעון-הצדיק 4-המלך-חירם-16_7433.jpg',\n",
       " 'שמעון-הצדיק 9_19987.jpg',\n",
       " 'שמעון-הצדיק-10-שמעיה-5_2220.jpg',\n",
       " 'שמעון-הצדיק-11-שמעיה-7_11826.jpg',\n",
       " 'שמעון-הצדיק-12-14-שמעיה-8(2)_6802.jpg',\n",
       " 'שמעון-הצדיק-13-15-שמעיה-10-אבטליון-1_8599.jpg',\n",
       " 'שמעון-הצדיק-17-אבטליון-2_12914.jpg',\n",
       " 'שמעון-הצדיק-18(2)_7192.jpg',\n",
       " 'שמעון-הצדיק-18_7192.jpg',\n",
       " 'שמעון-הצדיק-19_2795.jpg',\n",
       " 'שמעון-הצדיק-6-המלך-חירם-14_7439.jpg',\n",
       " 'שמעון-הצדיק-7-חנניא-בן-דוסא-12_6879.jpg',\n",
       " 'שמעון-הצדיק-8-המלך-חירם-12_7270.jpg',\n",
       " 'שמעיה-11_11824.jpg',\n",
       " 'שמעיה-12-אבטליון-5-3_12913.jpg',\n",
       " 'שמעיה-14-אבטליון-4-בן-עזריה-אלעזר-7_8601.jpg',\n",
       " 'שמעיה-6-4-בן-יאיר-פנחס-1_8957.jpg',\n",
       " 'שמעיה-9-שמעון-בן-עזאי-1_2233.jpg',\n",
       " 'שערי-ניקנור-15_2609.jpg',\n",
       " 'שערי-ניקנור-22_2608.jpg',\n",
       " 'שערי-ניקנור-6_51105.jpg',\n",
       " 'שערי-ניקנור-7_6391.jpg',\n",
       " 'שערי-ניקנור-9-שמואל-בן-עדיה-1_6405.jpg',\n",
       " 'שקד-7_12897.jpg',\n",
       " \"ת'גר-ציונה-11_6857.jpg\",\n",
       " 'תג׳ר-ציונה-13_12317.jpg',\n",
       " 'תג׳ר-ציונה-14-16_8817.jpg',\n",
       " 'תג׳ר-ציונה-15_8815.jpg',\n",
       " 'תג׳ר-ציונה-17(2)_8816.jpg',\n",
       " 'תג׳ר-ציונה-17-(חזית)_8816.jpg',\n",
       " 'תג׳ר-ציונה-18_12321.jpg',\n",
       " 'תג׳ר-ציונה-24-עבד-אל-גני-2_7316.jpg',\n",
       " 'תג׳ר-ציונה-28_8829.jpg',\n",
       " 'תג׳ר-ציונה-2_12341.jpg',\n",
       " 'תג׳ר-ציונה-6_2143.jpg',\n",
       " 'תג׳ר-ציונה-8_8827.jpg',\n",
       " 'תל-גבורים-18_12904.jpg',\n",
       " 'תרצה 23-שלמה-5_7187.jpg']"
      ]
     },
     "execution_count": 86,
     "metadata": {},
     "output_type": "execute_result"
    }
   ],
   "source": [
    "phot_lst"
   ]
  },
  {
   "cell_type": "code",
   "execution_count": 87,
   "id": "front-population",
   "metadata": {},
   "outputs": [],
   "source": [
    "for index, row in id_df.iterrows(): # go over everyrow (every building id)\n",
    "    for i in phot_lst: # compare one building id against all photos\n",
    "        if i.find(str(row[0])) != -1: # if the photo name is containing the building id\n",
    "            id_df.iloc[index, 1] = f'./photos/{i}'"
   ]
  },
  {
   "cell_type": "code",
   "execution_count": 88,
   "id": "amateur-champagne",
   "metadata": {},
   "outputs": [],
   "source": [
    "img_src_lst = id_df['img_src'].values.tolist()"
   ]
  },
  {
   "cell_type": "code",
   "execution_count": 89,
   "id": "reported-trainer",
   "metadata": {},
   "outputs": [],
   "source": [
    "#img_src_lst"
   ]
  },
  {
   "cell_type": "code",
   "execution_count": 90,
   "id": "united-candy",
   "metadata": {
    "tags": []
   },
   "outputs": [
    {
     "name": "stdout",
     "output_type": "stream",
     "text": [
      "Indx: 34, id: 2373, file name: \n",
      "Indx: 48, id: 2517, file name: \n",
      "Indx: 133, id: 2999, file name: \n",
      "Indx: 137, id: 3020, file name: \n",
      "Indx: 139, id: 5714, file name: \n",
      "Indx: 146, id: 6394, file name: \n",
      "Indx: 155, id: 6418, file name: \n",
      "Indx: 179, id: 6825, file name: \n",
      "Indx: 181, id: 6829, file name: \n",
      "Indx: 186, id: 6888, file name: \n",
      "Indx: 217, id: 7080, file name: \n",
      "Indx: 240, id: 7208, file name: \n",
      "Indx: 246, id: 7226, file name: \n",
      "Indx: 258, id: 7307, file name: \n",
      "Indx: 293, id: 8154, file name: \n",
      "Indx: 302, id: 8375, file name: \n",
      "Indx: 320, id: 8542, file name: \n",
      "Indx: 337, id: 8657, file name: \n",
      "Indx: 365, id: 8828, file name: \n",
      "Indx: 411, id: 9051, file name: \n",
      "Indx: 427, id: 9122, file name: \n",
      "Indx: 442, id: 10363, file name: \n",
      "Indx: 458, id: 10587, file name: \n",
      "Indx: 472, id: 11444, file name: \n",
      "Indx: 509, id: 11920, file name: \n",
      "Indx: 579, id: 12721, file name: \n",
      "Indx: 682, id: 51041, file name: \n"
     ]
    }
   ],
   "source": [
    "for x,i in enumerate(img_src_lst):\n",
    "    if i == '':\n",
    "        print(f'Indx: {x}, id: {id_df[\"id\"][x]}, file name: {i}')"
   ]
  },
  {
   "cell_type": "code",
   "execution_count": 91,
   "id": "earned-encyclopedia",
   "metadata": {},
   "outputs": [
    {
     "name": "stdout",
     "output_type": "stream",
     "text": [
      "בגין מנחם 10-הגדוד העברי(2)-1_2241.jpg\n",
      "בגין מנחם 10-הגדוד העברי-1_2241.jpg\n",
      "בגין מנחם 12-הגדוד העברי-3_2260.jpg\n",
      "בגין-מנחם 12-הגדוד-העברי-3(2)_2260.jpg\n",
      "הדואר-2-רזיאל-דוד-13_9269.jpg\n",
      "ירושלים-2-רזיאל-דוד-1_40966.jpg\n",
      "צנובר-3-דודאים-6_50438.jpg\n",
      "צנובר-4-דודאים-4_2952.jpg\n",
      "רזיאל-דוד-14-16-רטוש-יונתן-4_2261.jpg\n",
      "רזיאל-דוד-15_40910.jpg\n",
      "רזיאל-דוד-17_7193.jpg\n",
      "רזיאל-דוד-21-23_6801.jpg\n",
      "רזיאל-דוד-25_2222.jpg\n",
      "רזיאל-דוד-27-29(2)_2861.jpg\n",
      "רזיאל-דוד-27-29_2861.jpg\n",
      "רזיאל-דוד-4_2871.jpg\n"
     ]
    }
   ],
   "source": [
    "search_word = \"דוד\"\n",
    "for i in phot_lst:\n",
    "    if i.find(f'{search_word}') > -1:\n",
    "    #if i.find(f'{search_word}') =! -1:\n",
    "        print(i)"
   ]
  },
  {
   "cell_type": "code",
   "execution_count": 92,
   "id": "willing-finger",
   "metadata": {},
   "outputs": [
    {
     "data": {
      "text/plain": [
       "-1"
      ]
     },
     "execution_count": 92,
     "metadata": {},
     "output_type": "execute_result"
    }
   ],
   "source": [
    "phot_lst[0].find(\"c;\")"
   ]
  },
  {
   "cell_type": "code",
   "execution_count": 93,
   "id": "endangered-charity",
   "metadata": {},
   "outputs": [],
   "source": [
    "col_list = df.columns.values.tolist()"
   ]
  },
  {
   "cell_type": "code",
   "execution_count": 94,
   "id": "outside-antarctica",
   "metadata": {
    "tags": []
   },
   "outputs": [
    {
     "data": {
      "text/plain": [
       "['id',\n",
       " 'long',\n",
       " 'lat',\n",
       " 'n_bicycle_parking',\n",
       " 'n_tel_o_fun',\n",
       " 'built_density',\n",
       " 'n_auto_tel',\n",
       " 'centrality',\n",
       " 'dist_parcel_limit',\n",
       " 'n_parks',\n",
       " 'bld_height',\n",
       " 'n_historical_bld',\n",
       " 'parcel_size',\n",
       " 'n_playgrounds',\n",
       " 'tsunami_flood_line',\n",
       " 'bld_vol',\n",
       " 'n_religious_bld',\n",
       " 'n_workout',\n",
       " 'dist_sea',\n",
       " 'dist_bicycle_route',\n",
       " 'n_gas_station',\n",
       " 'n_hospitals_clinics',\n",
       " 'n_kindergartens',\n",
       " 'primary',\n",
       " 'secondary',\n",
       " 'street',\n",
       " 'number',\n",
       " 'block',\n",
       " 'parcel',\n",
       " 'complex',\n",
       " 'city_building_plan',\n",
       " 'technology',\n",
       " 'status',\n",
       " 'n_floors',\n",
       " 'finishing_materials',\n",
       " 'roof',\n",
       " 'n_facades',\n",
       " 'arrnona_year',\n",
       " 'typology',\n",
       " 'positioning',\n",
       " 'physical_condition',\n",
       " 'architectural_value',\n",
       " 'urban_value',\n",
       " 'historical_significance',\n",
       " 'general_evaluation',\n",
       " 'radiation',\n",
       " 'kindergarten',\n",
       " 'n_flickr_tags',\n",
       " 'n_hotels',\n",
       " 'n_bars',\n",
       " 'accesability_score',\n",
       " 'accesability_score_normalized',\n",
       " 'amenities_score',\n",
       " 'amenities_score_normalized',\n",
       " 'tourism_score',\n",
       " 'tourism_score_normalized']"
      ]
     },
     "execution_count": 94,
     "metadata": {},
     "output_type": "execute_result"
    }
   ],
   "source": [
    "col_list"
   ]
  },
  {
   "cell_type": "code",
   "execution_count": 95,
   "id": "packed-december",
   "metadata": {
    "tags": []
   },
   "outputs": [],
   "source": [
    "grid_items = '' # create an empty string to append to \n",
    "#iterate through each row of dataframe\n",
    "for index, row in df.iterrows():\n",
    "    #print(index, ': ', row)\n",
    "    bld_id = id_lst[index]\n",
    "    inside_div_combined = '' # create empty string to append to \n",
    "    tmp_div_open = '<div class=\"building_square\" col_header=\"b\">' #  NOTICE: col_header=\"b\"\n",
    "    #print(\"STARTING COLUMN PRINT\")\n",
    "    for col_index, col_name in enumerate(col_list):\n",
    "        tmp_div_inside = f'<p class=\"{col_name}\" style=\"display:none;\">{df.iloc[index, col_index]}</p>' # -----> NOTICE using a 'p'?\n",
    "        inside_div_combined += tmp_div_inside\n",
    "    building_card_link = f'./building_cards/{bld_id}.html' #NOTICE dot removed, was : f'../building_cards/{bld_id}.html'\n",
    "    link_open_option = '_blank'\n",
    "    tmp_div_img = f\"\"\"<a href=\"#\" onClick=\"window.open('{building_card_link}', '_blank') \"><img src=\"{img_src_lst[index]}\"></a>\"\"\" # change image each row - NOTICE <a> tag    \n",
    "    inside_div_combined += tmp_div_img # tmp_div_inside + tmp_div_img - BEFORE // CREATED DOUBLE LAST LINE\n",
    "    tmp_div_close = f'</div>'\n",
    "    tmp_str = tmp_div_open + inside_div_combined + tmp_div_close\n",
    "    grid_items += tmp_str"
   ]
  },
  {
   "cell_type": "code",
   "execution_count": 96,
   "id": "stable-collect",
   "metadata": {},
   "outputs": [],
   "source": [
    "#grid_items"
   ]
  },
  {
   "cell_type": "code",
   "execution_count": 97,
   "id": "handled-responsibility",
   "metadata": {},
   "outputs": [
    {
     "data": {
      "text/plain": [
       "'<p class=\"tourism_score_normalized\" style=\"display:none;\">0.9349775784753364</p>'"
      ]
     },
     "execution_count": 97,
     "metadata": {},
     "output_type": "execute_result"
    }
   ],
   "source": [
    "tmp_div_inside"
   ]
  },
  {
   "cell_type": "markdown",
   "id": "proof-transcript",
   "metadata": {},
   "source": [
    "Load html > parse to string > insert after '<div class=\"grid\">' > export as html"
   ]
  },
  {
   "cell_type": "markdown",
   "id": "laughing-operator",
   "metadata": {},
   "source": [
    "# Push to html"
   ]
  },
  {
   "cell_type": "code",
   "execution_count": 98,
   "id": "convinced-daniel",
   "metadata": {},
   "outputs": [],
   "source": [
    "#test_phrase = '<p> hello, this was inserted into the website html </p>'"
   ]
  },
  {
   "cell_type": "code",
   "execution_count": 99,
   "id": "thirty-pixel",
   "metadata": {},
   "outputs": [],
   "source": [
    "html_insert = grid_items"
   ]
  },
  {
   "cell_type": "code",
   "execution_count": 100,
   "id": "educational-courtesy",
   "metadata": {},
   "outputs": [],
   "source": [
    "file = open('../index.html', \"r\") # open local html file (as opposoed to reading from URL)"
   ]
  },
  {
   "cell_type": "code",
   "execution_count": 101,
   "id": "attached-ukraine",
   "metadata": {},
   "outputs": [],
   "source": [
    "# Parse the html file\n",
    "soup = BeautifulSoup(file, 'html.parser')\n",
    "\n",
    "# Format the parsed html file\n",
    "strhtm = soup.prettify()"
   ]
  },
  {
   "cell_type": "code",
   "execution_count": 102,
   "id": "warming-romance",
   "metadata": {},
   "outputs": [],
   "source": [
    "#soup\n",
    "soup_string = str(soup)"
   ]
  },
  {
   "cell_type": "code",
   "execution_count": 103,
   "id": "palestinian-bangladesh",
   "metadata": {},
   "outputs": [
    {
     "data": {
      "text/plain": [
       "str"
      ]
     },
     "execution_count": 103,
     "metadata": {},
     "output_type": "execute_result"
    }
   ],
   "source": [
    "type(strhtm)"
   ]
  },
  {
   "cell_type": "code",
   "execution_count": 104,
   "id": "documented-radius",
   "metadata": {},
   "outputs": [],
   "source": [
    "html_start = strhtm.split('<!-- THIS WILL BE REPLACED WITH INSERTED-->')[0]\n",
    "html_end = strhtm.split('<!-- THIS WILL BE REPLACED WITH INSERTED-->')[1]"
   ]
  },
  {
   "cell_type": "code",
   "execution_count": 105,
   "id": "eight-tamil",
   "metadata": {},
   "outputs": [],
   "source": [
    "#strhtm"
   ]
  },
  {
   "cell_type": "code",
   "execution_count": 106,
   "id": "improved-tribune",
   "metadata": {},
   "outputs": [],
   "source": [
    "html_combined = [html_start, html_insert, html_end]"
   ]
  },
  {
   "cell_type": "code",
   "execution_count": 107,
   "id": "split-standing",
   "metadata": {},
   "outputs": [],
   "source": [
    "joint_str = ''.join(html_combined)"
   ]
  },
  {
   "cell_type": "code",
   "execution_count": 108,
   "id": "announced-party",
   "metadata": {},
   "outputs": [],
   "source": [
    "#strhtm"
   ]
  },
  {
   "cell_type": "markdown",
   "id": "armed-officer",
   "metadata": {},
   "source": [
    "push only mid"
   ]
  },
  {
   "cell_type": "code",
   "execution_count": 109,
   "id": "faced-example",
   "metadata": {},
   "outputs": [
    {
     "data": {
      "text/plain": [
       "2366510"
      ]
     },
     "execution_count": 109,
     "metadata": {},
     "output_type": "execute_result"
    }
   ],
   "source": [
    "# open the file in w mode\n",
    "# set encoding to UTF-8\n",
    "with open(\"../bld_img_atr.html\", \"w\", encoding = 'utf-8') as file:\n",
    "    \n",
    "    # prettify the soup object and convert it into a string  \n",
    "    file.write(grid_items)"
   ]
  },
  {
   "cell_type": "markdown",
   "id": "recorded-taylor",
   "metadata": {},
   "source": [
    "push everything"
   ]
  },
  {
   "cell_type": "code",
   "execution_count": 110,
   "id": "secret-tanzania",
   "metadata": {},
   "outputs": [
    {
     "data": {
      "text/plain": [
       "2386298"
      ]
     },
     "execution_count": 110,
     "metadata": {},
     "output_type": "execute_result"
    }
   ],
   "source": [
    "# open the file in w mode\n",
    "# set encoding to UTF-8\n",
    "with open(\"../output.html\", \"w\", encoding = 'utf-8') as file:\n",
    "    \n",
    "    # prettify the soup object and convert it into a string  \n",
    "    file.write(joint_str)"
   ]
  },
  {
   "cell_type": "code",
   "execution_count": 111,
   "id": "racial-montgomery",
   "metadata": {},
   "outputs": [],
   "source": [
    "#joint_str.encode()"
   ]
  },
  {
   "cell_type": "markdown",
   "id": "horizontal-amber",
   "metadata": {},
   "source": [
    "## Create a building card for each image"
   ]
  },
  {
   "cell_type": "markdown",
   "id": "unsigned-elder",
   "metadata": {},
   "source": [
    "for each id in id_lst"
   ]
  },
  {
   "cell_type": "code",
   "execution_count": 112,
   "id": "skilled-costa",
   "metadata": {
    "tags": []
   },
   "outputs": [
    {
     "data": {
      "text/plain": [
       "5219"
      ]
     },
     "execution_count": 112,
     "metadata": {},
     "output_type": "execute_result"
    },
    {
     "data": {
      "text/plain": [
       "5219"
      ]
     },
     "execution_count": 112,
     "metadata": {},
     "output_type": "execute_result"
    },
    {
     "data": {
      "text/plain": [
       "5209"
      ]
     },
     "execution_count": 112,
     "metadata": {},
     "output_type": "execute_result"
    },
    {
     "data": {
      "text/plain": [
       "5240"
      ]
     },
     "execution_count": 112,
     "metadata": {},
     "output_type": "execute_result"
    },
    {
     "data": {
      "text/plain": [
       "5214"
      ]
     },
     "execution_count": 112,
     "metadata": {},
     "output_type": "execute_result"
    },
    {
     "data": {
      "text/plain": [
       "5421"
      ]
     },
     "execution_count": 112,
     "metadata": {},
     "output_type": "execute_result"
    },
    {
     "data": {
      "text/plain": [
       "5411"
      ]
     },
     "execution_count": 112,
     "metadata": {},
     "output_type": "execute_result"
    },
    {
     "data": {
      "text/plain": [
       "5374"
      ]
     },
     "execution_count": 112,
     "metadata": {},
     "output_type": "execute_result"
    },
    {
     "data": {
      "text/plain": [
       "5265"
      ]
     },
     "execution_count": 112,
     "metadata": {},
     "output_type": "execute_result"
    },
    {
     "data": {
      "text/plain": [
       "5265"
      ]
     },
     "execution_count": 112,
     "metadata": {},
     "output_type": "execute_result"
    },
    {
     "data": {
      "text/plain": [
       "5256"
      ]
     },
     "execution_count": 112,
     "metadata": {},
     "output_type": "execute_result"
    },
    {
     "data": {
      "text/plain": [
       "5239"
      ]
     },
     "execution_count": 112,
     "metadata": {},
     "output_type": "execute_result"
    },
    {
     "data": {
      "text/plain": [
       "5481"
      ]
     },
     "execution_count": 112,
     "metadata": {},
     "output_type": "execute_result"
    },
    {
     "data": {
      "text/plain": [
       "5459"
      ]
     },
     "execution_count": 112,
     "metadata": {},
     "output_type": "execute_result"
    },
    {
     "data": {
      "text/plain": [
       "5238"
      ]
     },
     "execution_count": 112,
     "metadata": {},
     "output_type": "execute_result"
    },
    {
     "data": {
      "text/plain": [
       "5650"
      ]
     },
     "execution_count": 112,
     "metadata": {},
     "output_type": "execute_result"
    },
    {
     "data": {
      "text/plain": [
       "5237"
      ]
     },
     "execution_count": 112,
     "metadata": {},
     "output_type": "execute_result"
    },
    {
     "data": {
      "text/plain": [
       "5228"
      ]
     },
     "execution_count": 112,
     "metadata": {},
     "output_type": "execute_result"
    },
    {
     "data": {
      "text/plain": [
       "5252"
      ]
     },
     "execution_count": 112,
     "metadata": {},
     "output_type": "execute_result"
    },
    {
     "data": {
      "text/plain": [
       "5240"
      ]
     },
     "execution_count": 112,
     "metadata": {},
     "output_type": "execute_result"
    },
    {
     "data": {
      "text/plain": [
       "5269"
      ]
     },
     "execution_count": 112,
     "metadata": {},
     "output_type": "execute_result"
    },
    {
     "data": {
      "text/plain": [
       "5466"
      ]
     },
     "execution_count": 112,
     "metadata": {},
     "output_type": "execute_result"
    },
    {
     "data": {
      "text/plain": [
       "5227"
      ]
     },
     "execution_count": 112,
     "metadata": {},
     "output_type": "execute_result"
    },
    {
     "data": {
      "text/plain": [
       "5475"
      ]
     },
     "execution_count": 112,
     "metadata": {},
     "output_type": "execute_result"
    },
    {
     "data": {
      "text/plain": [
       "5221"
      ]
     },
     "execution_count": 112,
     "metadata": {},
     "output_type": "execute_result"
    },
    {
     "data": {
      "text/plain": [
       "5229"
      ]
     },
     "execution_count": 112,
     "metadata": {},
     "output_type": "execute_result"
    },
    {
     "data": {
      "text/plain": [
       "5214"
      ]
     },
     "execution_count": 112,
     "metadata": {},
     "output_type": "execute_result"
    },
    {
     "data": {
      "text/plain": [
       "5256"
      ]
     },
     "execution_count": 112,
     "metadata": {},
     "output_type": "execute_result"
    },
    {
     "data": {
      "text/plain": [
       "5288"
      ]
     },
     "execution_count": 112,
     "metadata": {},
     "output_type": "execute_result"
    },
    {
     "data": {
      "text/plain": [
       "5288"
      ]
     },
     "execution_count": 112,
     "metadata": {},
     "output_type": "execute_result"
    },
    {
     "data": {
      "text/plain": [
       "5240"
      ]
     },
     "execution_count": 112,
     "metadata": {},
     "output_type": "execute_result"
    },
    {
     "data": {
      "text/plain": [
       "5263"
      ]
     },
     "execution_count": 112,
     "metadata": {},
     "output_type": "execute_result"
    },
    {
     "data": {
      "text/plain": [
       "5234"
      ]
     },
     "execution_count": 112,
     "metadata": {},
     "output_type": "execute_result"
    },
    {
     "data": {
      "text/plain": [
       "5226"
      ]
     },
     "execution_count": 112,
     "metadata": {},
     "output_type": "execute_result"
    },
    {
     "data": {
      "text/plain": [
       "5122"
      ]
     },
     "execution_count": 112,
     "metadata": {},
     "output_type": "execute_result"
    },
    {
     "data": {
      "text/plain": [
       "5248"
      ]
     },
     "execution_count": 112,
     "metadata": {},
     "output_type": "execute_result"
    },
    {
     "data": {
      "text/plain": [
       "5248"
      ]
     },
     "execution_count": 112,
     "metadata": {},
     "output_type": "execute_result"
    },
    {
     "data": {
      "text/plain": [
       "5258"
      ]
     },
     "execution_count": 112,
     "metadata": {},
     "output_type": "execute_result"
    },
    {
     "data": {
      "text/plain": [
       "5225"
      ]
     },
     "execution_count": 112,
     "metadata": {},
     "output_type": "execute_result"
    },
    {
     "data": {
      "text/plain": [
       "5243"
      ]
     },
     "execution_count": 112,
     "metadata": {},
     "output_type": "execute_result"
    },
    {
     "data": {
      "text/plain": [
       "5386"
      ]
     },
     "execution_count": 112,
     "metadata": {},
     "output_type": "execute_result"
    },
    {
     "data": {
      "text/plain": [
       "5212"
      ]
     },
     "execution_count": 112,
     "metadata": {},
     "output_type": "execute_result"
    },
    {
     "data": {
      "text/plain": [
       "5202"
      ]
     },
     "execution_count": 112,
     "metadata": {},
     "output_type": "execute_result"
    },
    {
     "data": {
      "text/plain": [
       "5243"
      ]
     },
     "execution_count": 112,
     "metadata": {},
     "output_type": "execute_result"
    },
    {
     "data": {
      "text/plain": [
       "5230"
      ]
     },
     "execution_count": 112,
     "metadata": {},
     "output_type": "execute_result"
    },
    {
     "data": {
      "text/plain": [
       "5252"
      ]
     },
     "execution_count": 112,
     "metadata": {},
     "output_type": "execute_result"
    },
    {
     "data": {
      "text/plain": [
       "5230"
      ]
     },
     "execution_count": 112,
     "metadata": {},
     "output_type": "execute_result"
    },
    {
     "data": {
      "text/plain": [
       "5245"
      ]
     },
     "execution_count": 112,
     "metadata": {},
     "output_type": "execute_result"
    },
    {
     "data": {
      "text/plain": [
       "5120"
      ]
     },
     "execution_count": 112,
     "metadata": {},
     "output_type": "execute_result"
    },
    {
     "data": {
      "text/plain": [
       "5451"
      ]
     },
     "execution_count": 112,
     "metadata": {},
     "output_type": "execute_result"
    },
    {
     "data": {
      "text/plain": [
       "5242"
      ]
     },
     "execution_count": 112,
     "metadata": {},
     "output_type": "execute_result"
    },
    {
     "data": {
      "text/plain": [
       "5243"
      ]
     },
     "execution_count": 112,
     "metadata": {},
     "output_type": "execute_result"
    },
    {
     "data": {
      "text/plain": [
       "5445"
      ]
     },
     "execution_count": 112,
     "metadata": {},
     "output_type": "execute_result"
    },
    {
     "data": {
      "text/plain": [
       "5232"
      ]
     },
     "execution_count": 112,
     "metadata": {},
     "output_type": "execute_result"
    },
    {
     "data": {
      "text/plain": [
       "5236"
      ]
     },
     "execution_count": 112,
     "metadata": {},
     "output_type": "execute_result"
    },
    {
     "data": {
      "text/plain": [
       "5256"
      ]
     },
     "execution_count": 112,
     "metadata": {},
     "output_type": "execute_result"
    },
    {
     "data": {
      "text/plain": [
       "5255"
      ]
     },
     "execution_count": 112,
     "metadata": {},
     "output_type": "execute_result"
    },
    {
     "data": {
      "text/plain": [
       "5455"
      ]
     },
     "execution_count": 112,
     "metadata": {},
     "output_type": "execute_result"
    },
    {
     "data": {
      "text/plain": [
       "5465"
      ]
     },
     "execution_count": 112,
     "metadata": {},
     "output_type": "execute_result"
    },
    {
     "data": {
      "text/plain": [
       "5244"
      ]
     },
     "execution_count": 112,
     "metadata": {},
     "output_type": "execute_result"
    },
    {
     "data": {
      "text/plain": [
       "5240"
      ]
     },
     "execution_count": 112,
     "metadata": {},
     "output_type": "execute_result"
    },
    {
     "data": {
      "text/plain": [
       "5217"
      ]
     },
     "execution_count": 112,
     "metadata": {},
     "output_type": "execute_result"
    },
    {
     "data": {
      "text/plain": [
       "5240"
      ]
     },
     "execution_count": 112,
     "metadata": {},
     "output_type": "execute_result"
    },
    {
     "data": {
      "text/plain": [
       "5229"
      ]
     },
     "execution_count": 112,
     "metadata": {},
     "output_type": "execute_result"
    },
    {
     "data": {
      "text/plain": [
       "5240"
      ]
     },
     "execution_count": 112,
     "metadata": {},
     "output_type": "execute_result"
    },
    {
     "data": {
      "text/plain": [
       "5243"
      ]
     },
     "execution_count": 112,
     "metadata": {},
     "output_type": "execute_result"
    },
    {
     "data": {
      "text/plain": [
       "5244"
      ]
     },
     "execution_count": 112,
     "metadata": {},
     "output_type": "execute_result"
    },
    {
     "data": {
      "text/plain": [
       "5244"
      ]
     },
     "execution_count": 112,
     "metadata": {},
     "output_type": "execute_result"
    },
    {
     "data": {
      "text/plain": [
       "5253"
      ]
     },
     "execution_count": 112,
     "metadata": {},
     "output_type": "execute_result"
    },
    {
     "data": {
      "text/plain": [
       "5240"
      ]
     },
     "execution_count": 112,
     "metadata": {},
     "output_type": "execute_result"
    },
    {
     "data": {
      "text/plain": [
       "5251"
      ]
     },
     "execution_count": 112,
     "metadata": {},
     "output_type": "execute_result"
    },
    {
     "data": {
      "text/plain": [
       "5240"
      ]
     },
     "execution_count": 112,
     "metadata": {},
     "output_type": "execute_result"
    },
    {
     "data": {
      "text/plain": [
       "5240"
      ]
     },
     "execution_count": 112,
     "metadata": {},
     "output_type": "execute_result"
    },
    {
     "data": {
      "text/plain": [
       "5412"
      ]
     },
     "execution_count": 112,
     "metadata": {},
     "output_type": "execute_result"
    },
    {
     "data": {
      "text/plain": [
       "5250"
      ]
     },
     "execution_count": 112,
     "metadata": {},
     "output_type": "execute_result"
    },
    {
     "data": {
      "text/plain": [
       "5220"
      ]
     },
     "execution_count": 112,
     "metadata": {},
     "output_type": "execute_result"
    },
    {
     "data": {
      "text/plain": [
       "5243"
      ]
     },
     "execution_count": 112,
     "metadata": {},
     "output_type": "execute_result"
    },
    {
     "data": {
      "text/plain": [
       "5239"
      ]
     },
     "execution_count": 112,
     "metadata": {},
     "output_type": "execute_result"
    },
    {
     "data": {
      "text/plain": [
       "5236"
      ]
     },
     "execution_count": 112,
     "metadata": {},
     "output_type": "execute_result"
    },
    {
     "data": {
      "text/plain": [
       "5255"
      ]
     },
     "execution_count": 112,
     "metadata": {},
     "output_type": "execute_result"
    },
    {
     "data": {
      "text/plain": [
       "5245"
      ]
     },
     "execution_count": 112,
     "metadata": {},
     "output_type": "execute_result"
    },
    {
     "data": {
      "text/plain": [
       "5256"
      ]
     },
     "execution_count": 112,
     "metadata": {},
     "output_type": "execute_result"
    },
    {
     "data": {
      "text/plain": [
       "5222"
      ]
     },
     "execution_count": 112,
     "metadata": {},
     "output_type": "execute_result"
    },
    {
     "data": {
      "text/plain": [
       "5252"
      ]
     },
     "execution_count": 112,
     "metadata": {},
     "output_type": "execute_result"
    },
    {
     "data": {
      "text/plain": [
       "5242"
      ]
     },
     "execution_count": 112,
     "metadata": {},
     "output_type": "execute_result"
    },
    {
     "data": {
      "text/plain": [
       "5243"
      ]
     },
     "execution_count": 112,
     "metadata": {},
     "output_type": "execute_result"
    },
    {
     "data": {
      "text/plain": [
       "5270"
      ]
     },
     "execution_count": 112,
     "metadata": {},
     "output_type": "execute_result"
    },
    {
     "data": {
      "text/plain": [
       "5231"
      ]
     },
     "execution_count": 112,
     "metadata": {},
     "output_type": "execute_result"
    },
    {
     "data": {
      "text/plain": [
       "5427"
      ]
     },
     "execution_count": 112,
     "metadata": {},
     "output_type": "execute_result"
    },
    {
     "data": {
      "text/plain": [
       "5436"
      ]
     },
     "execution_count": 112,
     "metadata": {},
     "output_type": "execute_result"
    },
    {
     "data": {
      "text/plain": [
       "5228"
      ]
     },
     "execution_count": 112,
     "metadata": {},
     "output_type": "execute_result"
    },
    {
     "data": {
      "text/plain": [
       "5237"
      ]
     },
     "execution_count": 112,
     "metadata": {},
     "output_type": "execute_result"
    },
    {
     "data": {
      "text/plain": [
       "5396"
      ]
     },
     "execution_count": 112,
     "metadata": {},
     "output_type": "execute_result"
    },
    {
     "data": {
      "text/plain": [
       "5250"
      ]
     },
     "execution_count": 112,
     "metadata": {},
     "output_type": "execute_result"
    },
    {
     "data": {
      "text/plain": [
       "5448"
      ]
     },
     "execution_count": 112,
     "metadata": {},
     "output_type": "execute_result"
    },
    {
     "data": {
      "text/plain": [
       "5259"
      ]
     },
     "execution_count": 112,
     "metadata": {},
     "output_type": "execute_result"
    },
    {
     "data": {
      "text/plain": [
       "5223"
      ]
     },
     "execution_count": 112,
     "metadata": {},
     "output_type": "execute_result"
    },
    {
     "data": {
      "text/plain": [
       "5242"
      ]
     },
     "execution_count": 112,
     "metadata": {},
     "output_type": "execute_result"
    },
    {
     "data": {
      "text/plain": [
       "5451"
      ]
     },
     "execution_count": 112,
     "metadata": {},
     "output_type": "execute_result"
    },
    {
     "data": {
      "text/plain": [
       "5460"
      ]
     },
     "execution_count": 112,
     "metadata": {},
     "output_type": "execute_result"
    },
    {
     "data": {
      "text/plain": [
       "5269"
      ]
     },
     "execution_count": 112,
     "metadata": {},
     "output_type": "execute_result"
    },
    {
     "data": {
      "text/plain": [
       "5250"
      ]
     },
     "execution_count": 112,
     "metadata": {},
     "output_type": "execute_result"
    },
    {
     "data": {
      "text/plain": [
       "5231"
      ]
     },
     "execution_count": 112,
     "metadata": {},
     "output_type": "execute_result"
    },
    {
     "data": {
      "text/plain": [
       "5215"
      ]
     },
     "execution_count": 112,
     "metadata": {},
     "output_type": "execute_result"
    },
    {
     "data": {
      "text/plain": [
       "5223"
      ]
     },
     "execution_count": 112,
     "metadata": {},
     "output_type": "execute_result"
    },
    {
     "data": {
      "text/plain": [
       "5213"
      ]
     },
     "execution_count": 112,
     "metadata": {},
     "output_type": "execute_result"
    },
    {
     "data": {
      "text/plain": [
       "5213"
      ]
     },
     "execution_count": 112,
     "metadata": {},
     "output_type": "execute_result"
    },
    {
     "data": {
      "text/plain": [
       "5236"
      ]
     },
     "execution_count": 112,
     "metadata": {},
     "output_type": "execute_result"
    },
    {
     "data": {
      "text/plain": [
       "5216"
      ]
     },
     "execution_count": 112,
     "metadata": {},
     "output_type": "execute_result"
    },
    {
     "data": {
      "text/plain": [
       "5635"
      ]
     },
     "execution_count": 112,
     "metadata": {},
     "output_type": "execute_result"
    },
    {
     "data": {
      "text/plain": [
       "5242"
      ]
     },
     "execution_count": 112,
     "metadata": {},
     "output_type": "execute_result"
    },
    {
     "data": {
      "text/plain": [
       "5419"
      ]
     },
     "execution_count": 112,
     "metadata": {},
     "output_type": "execute_result"
    },
    {
     "data": {
      "text/plain": [
       "5256"
      ]
     },
     "execution_count": 112,
     "metadata": {},
     "output_type": "execute_result"
    },
    {
     "data": {
      "text/plain": [
       "5215"
      ]
     },
     "execution_count": 112,
     "metadata": {},
     "output_type": "execute_result"
    },
    {
     "data": {
      "text/plain": [
       "5211"
      ]
     },
     "execution_count": 112,
     "metadata": {},
     "output_type": "execute_result"
    },
    {
     "data": {
      "text/plain": [
       "5424"
      ]
     },
     "execution_count": 112,
     "metadata": {},
     "output_type": "execute_result"
    },
    {
     "data": {
      "text/plain": [
       "5224"
      ]
     },
     "execution_count": 112,
     "metadata": {},
     "output_type": "execute_result"
    },
    {
     "data": {
      "text/plain": [
       "5232"
      ]
     },
     "execution_count": 112,
     "metadata": {},
     "output_type": "execute_result"
    },
    {
     "data": {
      "text/plain": [
       "5436"
      ]
     },
     "execution_count": 112,
     "metadata": {},
     "output_type": "execute_result"
    },
    {
     "data": {
      "text/plain": [
       "5240"
      ]
     },
     "execution_count": 112,
     "metadata": {},
     "output_type": "execute_result"
    },
    {
     "data": {
      "text/plain": [
       "5238"
      ]
     },
     "execution_count": 112,
     "metadata": {},
     "output_type": "execute_result"
    },
    {
     "data": {
      "text/plain": [
       "5239"
      ]
     },
     "execution_count": 112,
     "metadata": {},
     "output_type": "execute_result"
    },
    {
     "data": {
      "text/plain": [
       "5271"
      ]
     },
     "execution_count": 112,
     "metadata": {},
     "output_type": "execute_result"
    },
    {
     "data": {
      "text/plain": [
       "5236"
      ]
     },
     "execution_count": 112,
     "metadata": {},
     "output_type": "execute_result"
    },
    {
     "data": {
      "text/plain": [
       "5429"
      ]
     },
     "execution_count": 112,
     "metadata": {},
     "output_type": "execute_result"
    },
    {
     "data": {
      "text/plain": [
       "5246"
      ]
     },
     "execution_count": 112,
     "metadata": {},
     "output_type": "execute_result"
    },
    {
     "data": {
      "text/plain": [
       "5220"
      ]
     },
     "execution_count": 112,
     "metadata": {},
     "output_type": "execute_result"
    },
    {
     "data": {
      "text/plain": [
       "5215"
      ]
     },
     "execution_count": 112,
     "metadata": {},
     "output_type": "execute_result"
    },
    {
     "data": {
      "text/plain": [
       "5424"
      ]
     },
     "execution_count": 112,
     "metadata": {},
     "output_type": "execute_result"
    },
    {
     "data": {
      "text/plain": [
       "5267"
      ]
     },
     "execution_count": 112,
     "metadata": {},
     "output_type": "execute_result"
    },
    {
     "data": {
      "text/plain": [
       "5233"
      ]
     },
     "execution_count": 112,
     "metadata": {},
     "output_type": "execute_result"
    },
    {
     "data": {
      "text/plain": [
       "5446"
      ]
     },
     "execution_count": 112,
     "metadata": {},
     "output_type": "execute_result"
    },
    {
     "data": {
      "text/plain": [
       "5246"
      ]
     },
     "execution_count": 112,
     "metadata": {},
     "output_type": "execute_result"
    },
    {
     "data": {
      "text/plain": [
       "5123"
      ]
     },
     "execution_count": 112,
     "metadata": {},
     "output_type": "execute_result"
    },
    {
     "data": {
      "text/plain": [
       "5219"
      ]
     },
     "execution_count": 112,
     "metadata": {},
     "output_type": "execute_result"
    },
    {
     "data": {
      "text/plain": [
       "5223"
      ]
     },
     "execution_count": 112,
     "metadata": {},
     "output_type": "execute_result"
    },
    {
     "data": {
      "text/plain": [
       "5397"
      ]
     },
     "execution_count": 112,
     "metadata": {},
     "output_type": "execute_result"
    },
    {
     "data": {
      "text/plain": [
       "5117"
      ]
     },
     "execution_count": 112,
     "metadata": {},
     "output_type": "execute_result"
    },
    {
     "data": {
      "text/plain": [
       "5407"
      ]
     },
     "execution_count": 112,
     "metadata": {},
     "output_type": "execute_result"
    },
    {
     "data": {
      "text/plain": [
       "5137"
      ]
     },
     "execution_count": 112,
     "metadata": {},
     "output_type": "execute_result"
    },
    {
     "data": {
      "text/plain": [
       "5211"
      ]
     },
     "execution_count": 112,
     "metadata": {},
     "output_type": "execute_result"
    },
    {
     "data": {
      "text/plain": [
       "5259"
      ]
     },
     "execution_count": 112,
     "metadata": {},
     "output_type": "execute_result"
    },
    {
     "data": {
      "text/plain": [
       "5231"
      ]
     },
     "execution_count": 112,
     "metadata": {},
     "output_type": "execute_result"
    },
    {
     "data": {
      "text/plain": [
       "5237"
      ]
     },
     "execution_count": 112,
     "metadata": {},
     "output_type": "execute_result"
    },
    {
     "data": {
      "text/plain": [
       "5239"
      ]
     },
     "execution_count": 112,
     "metadata": {},
     "output_type": "execute_result"
    },
    {
     "data": {
      "text/plain": [
       "5274"
      ]
     },
     "execution_count": 112,
     "metadata": {},
     "output_type": "execute_result"
    },
    {
     "data": {
      "text/plain": [
       "5122"
      ]
     },
     "execution_count": 112,
     "metadata": {},
     "output_type": "execute_result"
    },
    {
     "data": {
      "text/plain": [
       "5240"
      ]
     },
     "execution_count": 112,
     "metadata": {},
     "output_type": "execute_result"
    },
    {
     "data": {
      "text/plain": [
       "5530"
      ]
     },
     "execution_count": 112,
     "metadata": {},
     "output_type": "execute_result"
    },
    {
     "data": {
      "text/plain": [
       "5230"
      ]
     },
     "execution_count": 112,
     "metadata": {},
     "output_type": "execute_result"
    },
    {
     "data": {
      "text/plain": [
       "5530"
      ]
     },
     "execution_count": 112,
     "metadata": {},
     "output_type": "execute_result"
    },
    {
     "data": {
      "text/plain": [
       "5252"
      ]
     },
     "execution_count": 112,
     "metadata": {},
     "output_type": "execute_result"
    },
    {
     "data": {
      "text/plain": [
       "5287"
      ]
     },
     "execution_count": 112,
     "metadata": {},
     "output_type": "execute_result"
    },
    {
     "data": {
      "text/plain": [
       "5239"
      ]
     },
     "execution_count": 112,
     "metadata": {},
     "output_type": "execute_result"
    },
    {
     "data": {
      "text/plain": [
       "5244"
      ]
     },
     "execution_count": 112,
     "metadata": {},
     "output_type": "execute_result"
    },
    {
     "data": {
      "text/plain": [
       "5122"
      ]
     },
     "execution_count": 112,
     "metadata": {},
     "output_type": "execute_result"
    },
    {
     "data": {
      "text/plain": [
       "5300"
      ]
     },
     "execution_count": 112,
     "metadata": {},
     "output_type": "execute_result"
    },
    {
     "data": {
      "text/plain": [
       "5231"
      ]
     },
     "execution_count": 112,
     "metadata": {},
     "output_type": "execute_result"
    },
    {
     "data": {
      "text/plain": [
       "5240"
      ]
     },
     "execution_count": 112,
     "metadata": {},
     "output_type": "execute_result"
    },
    {
     "data": {
      "text/plain": [
       "5256"
      ]
     },
     "execution_count": 112,
     "metadata": {},
     "output_type": "execute_result"
    },
    {
     "data": {
      "text/plain": [
       "5287"
      ]
     },
     "execution_count": 112,
     "metadata": {},
     "output_type": "execute_result"
    },
    {
     "data": {
      "text/plain": [
       "5231"
      ]
     },
     "execution_count": 112,
     "metadata": {},
     "output_type": "execute_result"
    },
    {
     "data": {
      "text/plain": [
       "5249"
      ]
     },
     "execution_count": 112,
     "metadata": {},
     "output_type": "execute_result"
    },
    {
     "data": {
      "text/plain": [
       "5240"
      ]
     },
     "execution_count": 112,
     "metadata": {},
     "output_type": "execute_result"
    },
    {
     "data": {
      "text/plain": [
       "5240"
      ]
     },
     "execution_count": 112,
     "metadata": {},
     "output_type": "execute_result"
    },
    {
     "data": {
      "text/plain": [
       "5256"
      ]
     },
     "execution_count": 112,
     "metadata": {},
     "output_type": "execute_result"
    },
    {
     "data": {
      "text/plain": [
       "5243"
      ]
     },
     "execution_count": 112,
     "metadata": {},
     "output_type": "execute_result"
    },
    {
     "data": {
      "text/plain": [
       "5267"
      ]
     },
     "execution_count": 112,
     "metadata": {},
     "output_type": "execute_result"
    },
    {
     "data": {
      "text/plain": [
       "5231"
      ]
     },
     "execution_count": 112,
     "metadata": {},
     "output_type": "execute_result"
    },
    {
     "data": {
      "text/plain": [
       "5240"
      ]
     },
     "execution_count": 112,
     "metadata": {},
     "output_type": "execute_result"
    },
    {
     "data": {
      "text/plain": [
       "5218"
      ]
     },
     "execution_count": 112,
     "metadata": {},
     "output_type": "execute_result"
    },
    {
     "data": {
      "text/plain": [
       "5239"
      ]
     },
     "execution_count": 112,
     "metadata": {},
     "output_type": "execute_result"
    },
    {
     "data": {
      "text/plain": [
       "5228"
      ]
     },
     "execution_count": 112,
     "metadata": {},
     "output_type": "execute_result"
    },
    {
     "data": {
      "text/plain": [
       "5249"
      ]
     },
     "execution_count": 112,
     "metadata": {},
     "output_type": "execute_result"
    },
    {
     "data": {
      "text/plain": [
       "5249"
      ]
     },
     "execution_count": 112,
     "metadata": {},
     "output_type": "execute_result"
    },
    {
     "data": {
      "text/plain": [
       "5451"
      ]
     },
     "execution_count": 112,
     "metadata": {},
     "output_type": "execute_result"
    },
    {
     "data": {
      "text/plain": [
       "5430"
      ]
     },
     "execution_count": 112,
     "metadata": {},
     "output_type": "execute_result"
    },
    {
     "data": {
      "text/plain": [
       "5381"
      ]
     },
     "execution_count": 112,
     "metadata": {},
     "output_type": "execute_result"
    },
    {
     "data": {
      "text/plain": [
       "5242"
      ]
     },
     "execution_count": 112,
     "metadata": {},
     "output_type": "execute_result"
    },
    {
     "data": {
      "text/plain": [
       "5116"
      ]
     },
     "execution_count": 112,
     "metadata": {},
     "output_type": "execute_result"
    },
    {
     "data": {
      "text/plain": [
       "5237"
      ]
     },
     "execution_count": 112,
     "metadata": {},
     "output_type": "execute_result"
    },
    {
     "data": {
      "text/plain": [
       "5137"
      ]
     },
     "execution_count": 112,
     "metadata": {},
     "output_type": "execute_result"
    },
    {
     "data": {
      "text/plain": [
       "5231"
      ]
     },
     "execution_count": 112,
     "metadata": {},
     "output_type": "execute_result"
    },
    {
     "data": {
      "text/plain": [
       "5247"
      ]
     },
     "execution_count": 112,
     "metadata": {},
     "output_type": "execute_result"
    },
    {
     "data": {
      "text/plain": [
       "5252"
      ]
     },
     "execution_count": 112,
     "metadata": {},
     "output_type": "execute_result"
    },
    {
     "data": {
      "text/plain": [
       "5254"
      ]
     },
     "execution_count": 112,
     "metadata": {},
     "output_type": "execute_result"
    },
    {
     "data": {
      "text/plain": [
       "5137"
      ]
     },
     "execution_count": 112,
     "metadata": {},
     "output_type": "execute_result"
    },
    {
     "data": {
      "text/plain": [
       "5221"
      ]
     },
     "execution_count": 112,
     "metadata": {},
     "output_type": "execute_result"
    },
    {
     "data": {
      "text/plain": [
       "5378"
      ]
     },
     "execution_count": 112,
     "metadata": {},
     "output_type": "execute_result"
    },
    {
     "data": {
      "text/plain": [
       "5231"
      ]
     },
     "execution_count": 112,
     "metadata": {},
     "output_type": "execute_result"
    },
    {
     "data": {
      "text/plain": [
       "5248"
      ]
     },
     "execution_count": 112,
     "metadata": {},
     "output_type": "execute_result"
    },
    {
     "data": {
      "text/plain": [
       "5217"
      ]
     },
     "execution_count": 112,
     "metadata": {},
     "output_type": "execute_result"
    },
    {
     "data": {
      "text/plain": [
       "5406"
      ]
     },
     "execution_count": 112,
     "metadata": {},
     "output_type": "execute_result"
    },
    {
     "data": {
      "text/plain": [
       "5267"
      ]
     },
     "execution_count": 112,
     "metadata": {},
     "output_type": "execute_result"
    },
    {
     "data": {
      "text/plain": [
       "5257"
      ]
     },
     "execution_count": 112,
     "metadata": {},
     "output_type": "execute_result"
    },
    {
     "data": {
      "text/plain": [
       "5246"
      ]
     },
     "execution_count": 112,
     "metadata": {},
     "output_type": "execute_result"
    },
    {
     "data": {
      "text/plain": [
       "5225"
      ]
     },
     "execution_count": 112,
     "metadata": {},
     "output_type": "execute_result"
    },
    {
     "data": {
      "text/plain": [
       "5217"
      ]
     },
     "execution_count": 112,
     "metadata": {},
     "output_type": "execute_result"
    },
    {
     "data": {
      "text/plain": [
       "5224"
      ]
     },
     "execution_count": 112,
     "metadata": {},
     "output_type": "execute_result"
    },
    {
     "data": {
      "text/plain": [
       "5432"
      ]
     },
     "execution_count": 112,
     "metadata": {},
     "output_type": "execute_result"
    },
    {
     "data": {
      "text/plain": [
       "5240"
      ]
     },
     "execution_count": 112,
     "metadata": {},
     "output_type": "execute_result"
    },
    {
     "data": {
      "text/plain": [
       "5239"
      ]
     },
     "execution_count": 112,
     "metadata": {},
     "output_type": "execute_result"
    },
    {
     "data": {
      "text/plain": [
       "5256"
      ]
     },
     "execution_count": 112,
     "metadata": {},
     "output_type": "execute_result"
    },
    {
     "data": {
      "text/plain": [
       "5243"
      ]
     },
     "execution_count": 112,
     "metadata": {},
     "output_type": "execute_result"
    },
    {
     "data": {
      "text/plain": [
       "5222"
      ]
     },
     "execution_count": 112,
     "metadata": {},
     "output_type": "execute_result"
    },
    {
     "data": {
      "text/plain": [
       "5240"
      ]
     },
     "execution_count": 112,
     "metadata": {},
     "output_type": "execute_result"
    },
    {
     "data": {
      "text/plain": [
       "5239"
      ]
     },
     "execution_count": 112,
     "metadata": {},
     "output_type": "execute_result"
    },
    {
     "data": {
      "text/plain": [
       "5236"
      ]
     },
     "execution_count": 112,
     "metadata": {},
     "output_type": "execute_result"
    },
    {
     "data": {
      "text/plain": [
       "5235"
      ]
     },
     "execution_count": 112,
     "metadata": {},
     "output_type": "execute_result"
    },
    {
     "data": {
      "text/plain": [
       "5230"
      ]
     },
     "execution_count": 112,
     "metadata": {},
     "output_type": "execute_result"
    },
    {
     "data": {
      "text/plain": [
       "5246"
      ]
     },
     "execution_count": 112,
     "metadata": {},
     "output_type": "execute_result"
    },
    {
     "data": {
      "text/plain": [
       "5252"
      ]
     },
     "execution_count": 112,
     "metadata": {},
     "output_type": "execute_result"
    },
    {
     "data": {
      "text/plain": [
       "5261"
      ]
     },
     "execution_count": 112,
     "metadata": {},
     "output_type": "execute_result"
    },
    {
     "data": {
      "text/plain": [
       "5240"
      ]
     },
     "execution_count": 112,
     "metadata": {},
     "output_type": "execute_result"
    },
    {
     "data": {
      "text/plain": [
       "5238"
      ]
     },
     "execution_count": 112,
     "metadata": {},
     "output_type": "execute_result"
    },
    {
     "data": {
      "text/plain": [
       "5244"
      ]
     },
     "execution_count": 112,
     "metadata": {},
     "output_type": "execute_result"
    },
    {
     "data": {
      "text/plain": [
       "5230"
      ]
     },
     "execution_count": 112,
     "metadata": {},
     "output_type": "execute_result"
    },
    {
     "data": {
      "text/plain": [
       "5120"
      ]
     },
     "execution_count": 112,
     "metadata": {},
     "output_type": "execute_result"
    },
    {
     "data": {
      "text/plain": [
       "5239"
      ]
     },
     "execution_count": 112,
     "metadata": {},
     "output_type": "execute_result"
    },
    {
     "data": {
      "text/plain": [
       "5243"
      ]
     },
     "execution_count": 112,
     "metadata": {},
     "output_type": "execute_result"
    },
    {
     "data": {
      "text/plain": [
       "5254"
      ]
     },
     "execution_count": 112,
     "metadata": {},
     "output_type": "execute_result"
    },
    {
     "data": {
      "text/plain": [
       "5294"
      ]
     },
     "execution_count": 112,
     "metadata": {},
     "output_type": "execute_result"
    },
    {
     "data": {
      "text/plain": [
       "5244"
      ]
     },
     "execution_count": 112,
     "metadata": {},
     "output_type": "execute_result"
    },
    {
     "data": {
      "text/plain": [
       "5205"
      ]
     },
     "execution_count": 112,
     "metadata": {},
     "output_type": "execute_result"
    },
    {
     "data": {
      "text/plain": [
       "5238"
      ]
     },
     "execution_count": 112,
     "metadata": {},
     "output_type": "execute_result"
    },
    {
     "data": {
      "text/plain": [
       "5228"
      ]
     },
     "execution_count": 112,
     "metadata": {},
     "output_type": "execute_result"
    },
    {
     "data": {
      "text/plain": [
       "5233"
      ]
     },
     "execution_count": 112,
     "metadata": {},
     "output_type": "execute_result"
    },
    {
     "data": {
      "text/plain": [
       "5196"
      ]
     },
     "execution_count": 112,
     "metadata": {},
     "output_type": "execute_result"
    },
    {
     "data": {
      "text/plain": [
       "5247"
      ]
     },
     "execution_count": 112,
     "metadata": {},
     "output_type": "execute_result"
    },
    {
     "data": {
      "text/plain": [
       "5411"
      ]
     },
     "execution_count": 112,
     "metadata": {},
     "output_type": "execute_result"
    },
    {
     "data": {
      "text/plain": [
       "5450"
      ]
     },
     "execution_count": 112,
     "metadata": {},
     "output_type": "execute_result"
    },
    {
     "data": {
      "text/plain": [
       "5224"
      ]
     },
     "execution_count": 112,
     "metadata": {},
     "output_type": "execute_result"
    },
    {
     "data": {
      "text/plain": [
       "5430"
      ]
     },
     "execution_count": 112,
     "metadata": {},
     "output_type": "execute_result"
    },
    {
     "data": {
      "text/plain": [
       "5221"
      ]
     },
     "execution_count": 112,
     "metadata": {},
     "output_type": "execute_result"
    },
    {
     "data": {
      "text/plain": [
       "5230"
      ]
     },
     "execution_count": 112,
     "metadata": {},
     "output_type": "execute_result"
    },
    {
     "data": {
      "text/plain": [
       "5435"
      ]
     },
     "execution_count": 112,
     "metadata": {},
     "output_type": "execute_result"
    },
    {
     "data": {
      "text/plain": [
       "5252"
      ]
     },
     "execution_count": 112,
     "metadata": {},
     "output_type": "execute_result"
    },
    {
     "data": {
      "text/plain": [
       "5247"
      ]
     },
     "execution_count": 112,
     "metadata": {},
     "output_type": "execute_result"
    },
    {
     "data": {
      "text/plain": [
       "5407"
      ]
     },
     "execution_count": 112,
     "metadata": {},
     "output_type": "execute_result"
    },
    {
     "data": {
      "text/plain": [
       "5247"
      ]
     },
     "execution_count": 112,
     "metadata": {},
     "output_type": "execute_result"
    },
    {
     "data": {
      "text/plain": [
       "5133"
      ]
     },
     "execution_count": 112,
     "metadata": {},
     "output_type": "execute_result"
    },
    {
     "data": {
      "text/plain": [
       "5207"
      ]
     },
     "execution_count": 112,
     "metadata": {},
     "output_type": "execute_result"
    },
    {
     "data": {
      "text/plain": [
       "5406"
      ]
     },
     "execution_count": 112,
     "metadata": {},
     "output_type": "execute_result"
    },
    {
     "data": {
      "text/plain": [
       "5241"
      ]
     },
     "execution_count": 112,
     "metadata": {},
     "output_type": "execute_result"
    },
    {
     "data": {
      "text/plain": [
       "5202"
      ]
     },
     "execution_count": 112,
     "metadata": {},
     "output_type": "execute_result"
    },
    {
     "data": {
      "text/plain": [
       "5212"
      ]
     },
     "execution_count": 112,
     "metadata": {},
     "output_type": "execute_result"
    },
    {
     "data": {
      "text/plain": [
       "5122"
      ]
     },
     "execution_count": 112,
     "metadata": {},
     "output_type": "execute_result"
    },
    {
     "data": {
      "text/plain": [
       "5249"
      ]
     },
     "execution_count": 112,
     "metadata": {},
     "output_type": "execute_result"
    },
    {
     "data": {
      "text/plain": [
       "5434"
      ]
     },
     "execution_count": 112,
     "metadata": {},
     "output_type": "execute_result"
    },
    {
     "data": {
      "text/plain": [
       "5250"
      ]
     },
     "execution_count": 112,
     "metadata": {},
     "output_type": "execute_result"
    },
    {
     "data": {
      "text/plain": [
       "5200"
      ]
     },
     "execution_count": 112,
     "metadata": {},
     "output_type": "execute_result"
    },
    {
     "data": {
      "text/plain": [
       "5247"
      ]
     },
     "execution_count": 112,
     "metadata": {},
     "output_type": "execute_result"
    },
    {
     "data": {
      "text/plain": [
       "5235"
      ]
     },
     "execution_count": 112,
     "metadata": {},
     "output_type": "execute_result"
    },
    {
     "data": {
      "text/plain": [
       "5246"
      ]
     },
     "execution_count": 112,
     "metadata": {},
     "output_type": "execute_result"
    },
    {
     "data": {
      "text/plain": [
       "5246"
      ]
     },
     "execution_count": 112,
     "metadata": {},
     "output_type": "execute_result"
    },
    {
     "data": {
      "text/plain": [
       "5245"
      ]
     },
     "execution_count": 112,
     "metadata": {},
     "output_type": "execute_result"
    },
    {
     "data": {
      "text/plain": [
       "5296"
      ]
     },
     "execution_count": 112,
     "metadata": {},
     "output_type": "execute_result"
    },
    {
     "data": {
      "text/plain": [
       "5245"
      ]
     },
     "execution_count": 112,
     "metadata": {},
     "output_type": "execute_result"
    },
    {
     "data": {
      "text/plain": [
       "5126"
      ]
     },
     "execution_count": 112,
     "metadata": {},
     "output_type": "execute_result"
    },
    {
     "data": {
      "text/plain": [
       "5246"
      ]
     },
     "execution_count": 112,
     "metadata": {},
     "output_type": "execute_result"
    },
    {
     "data": {
      "text/plain": [
       "5250"
      ]
     },
     "execution_count": 112,
     "metadata": {},
     "output_type": "execute_result"
    },
    {
     "data": {
      "text/plain": [
       "5241"
      ]
     },
     "execution_count": 112,
     "metadata": {},
     "output_type": "execute_result"
    },
    {
     "data": {
      "text/plain": [
       "5457"
      ]
     },
     "execution_count": 112,
     "metadata": {},
     "output_type": "execute_result"
    },
    {
     "data": {
      "text/plain": [
       "5270"
      ]
     },
     "execution_count": 112,
     "metadata": {},
     "output_type": "execute_result"
    },
    {
     "data": {
      "text/plain": [
       "5249"
      ]
     },
     "execution_count": 112,
     "metadata": {},
     "output_type": "execute_result"
    },
    {
     "data": {
      "text/plain": [
       "5202"
      ]
     },
     "execution_count": 112,
     "metadata": {},
     "output_type": "execute_result"
    },
    {
     "data": {
      "text/plain": [
       "5248"
      ]
     },
     "execution_count": 112,
     "metadata": {},
     "output_type": "execute_result"
    },
    {
     "data": {
      "text/plain": [
       "5251"
      ]
     },
     "execution_count": 112,
     "metadata": {},
     "output_type": "execute_result"
    },
    {
     "data": {
      "text/plain": [
       "5249"
      ]
     },
     "execution_count": 112,
     "metadata": {},
     "output_type": "execute_result"
    },
    {
     "data": {
      "text/plain": [
       "5251"
      ]
     },
     "execution_count": 112,
     "metadata": {},
     "output_type": "execute_result"
    },
    {
     "data": {
      "text/plain": [
       "5271"
      ]
     },
     "execution_count": 112,
     "metadata": {},
     "output_type": "execute_result"
    },
    {
     "data": {
      "text/plain": [
       "5414"
      ]
     },
     "execution_count": 112,
     "metadata": {},
     "output_type": "execute_result"
    },
    {
     "data": {
      "text/plain": [
       "5244"
      ]
     },
     "execution_count": 112,
     "metadata": {},
     "output_type": "execute_result"
    },
    {
     "data": {
      "text/plain": [
       "5245"
      ]
     },
     "execution_count": 112,
     "metadata": {},
     "output_type": "execute_result"
    },
    {
     "data": {
      "text/plain": [
       "5391"
      ]
     },
     "execution_count": 112,
     "metadata": {},
     "output_type": "execute_result"
    },
    {
     "data": {
      "text/plain": [
       "5248"
      ]
     },
     "execution_count": 112,
     "metadata": {},
     "output_type": "execute_result"
    },
    {
     "data": {
      "text/plain": [
       "5259"
      ]
     },
     "execution_count": 112,
     "metadata": {},
     "output_type": "execute_result"
    },
    {
     "data": {
      "text/plain": [
       "5237"
      ]
     },
     "execution_count": 112,
     "metadata": {},
     "output_type": "execute_result"
    },
    {
     "data": {
      "text/plain": [
       "5257"
      ]
     },
     "execution_count": 112,
     "metadata": {},
     "output_type": "execute_result"
    },
    {
     "data": {
      "text/plain": [
       "5253"
      ]
     },
     "execution_count": 112,
     "metadata": {},
     "output_type": "execute_result"
    },
    {
     "data": {
      "text/plain": [
       "5251"
      ]
     },
     "execution_count": 112,
     "metadata": {},
     "output_type": "execute_result"
    },
    {
     "data": {
      "text/plain": [
       "5653"
      ]
     },
     "execution_count": 112,
     "metadata": {},
     "output_type": "execute_result"
    },
    {
     "data": {
      "text/plain": [
       "5261"
      ]
     },
     "execution_count": 112,
     "metadata": {},
     "output_type": "execute_result"
    },
    {
     "data": {
      "text/plain": [
       "5238"
      ]
     },
     "execution_count": 112,
     "metadata": {},
     "output_type": "execute_result"
    },
    {
     "data": {
      "text/plain": [
       "5411"
      ]
     },
     "execution_count": 112,
     "metadata": {},
     "output_type": "execute_result"
    },
    {
     "data": {
      "text/plain": [
       "5235"
      ]
     },
     "execution_count": 112,
     "metadata": {},
     "output_type": "execute_result"
    },
    {
     "data": {
      "text/plain": [
       "5376"
      ]
     },
     "execution_count": 112,
     "metadata": {},
     "output_type": "execute_result"
    },
    {
     "data": {
      "text/plain": [
       "5231"
      ]
     },
     "execution_count": 112,
     "metadata": {},
     "output_type": "execute_result"
    },
    {
     "data": {
      "text/plain": [
       "5248"
      ]
     },
     "execution_count": 112,
     "metadata": {},
     "output_type": "execute_result"
    },
    {
     "data": {
      "text/plain": [
       "5252"
      ]
     },
     "execution_count": 112,
     "metadata": {},
     "output_type": "execute_result"
    },
    {
     "data": {
      "text/plain": [
       "5483"
      ]
     },
     "execution_count": 112,
     "metadata": {},
     "output_type": "execute_result"
    },
    {
     "data": {
      "text/plain": [
       "5211"
      ]
     },
     "execution_count": 112,
     "metadata": {},
     "output_type": "execute_result"
    },
    {
     "data": {
      "text/plain": [
       "5244"
      ]
     },
     "execution_count": 112,
     "metadata": {},
     "output_type": "execute_result"
    },
    {
     "data": {
      "text/plain": [
       "5113"
      ]
     },
     "execution_count": 112,
     "metadata": {},
     "output_type": "execute_result"
    },
    {
     "data": {
      "text/plain": [
       "5239"
      ]
     },
     "execution_count": 112,
     "metadata": {},
     "output_type": "execute_result"
    },
    {
     "data": {
      "text/plain": [
       "5236"
      ]
     },
     "execution_count": 112,
     "metadata": {},
     "output_type": "execute_result"
    },
    {
     "data": {
      "text/plain": [
       "5226"
      ]
     },
     "execution_count": 112,
     "metadata": {},
     "output_type": "execute_result"
    },
    {
     "data": {
      "text/plain": [
       "5252"
      ]
     },
     "execution_count": 112,
     "metadata": {},
     "output_type": "execute_result"
    },
    {
     "data": {
      "text/plain": [
       "5238"
      ]
     },
     "execution_count": 112,
     "metadata": {},
     "output_type": "execute_result"
    },
    {
     "data": {
      "text/plain": [
       "5251"
      ]
     },
     "execution_count": 112,
     "metadata": {},
     "output_type": "execute_result"
    },
    {
     "data": {
      "text/plain": [
       "5237"
      ]
     },
     "execution_count": 112,
     "metadata": {},
     "output_type": "execute_result"
    },
    {
     "data": {
      "text/plain": [
       "5238"
      ]
     },
     "execution_count": 112,
     "metadata": {},
     "output_type": "execute_result"
    },
    {
     "data": {
      "text/plain": [
       "5142"
      ]
     },
     "execution_count": 112,
     "metadata": {},
     "output_type": "execute_result"
    },
    {
     "data": {
      "text/plain": [
       "5241"
      ]
     },
     "execution_count": 112,
     "metadata": {},
     "output_type": "execute_result"
    },
    {
     "data": {
      "text/plain": [
       "5241"
      ]
     },
     "execution_count": 112,
     "metadata": {},
     "output_type": "execute_result"
    },
    {
     "data": {
      "text/plain": [
       "5232"
      ]
     },
     "execution_count": 112,
     "metadata": {},
     "output_type": "execute_result"
    },
    {
     "data": {
      "text/plain": [
       "5240"
      ]
     },
     "execution_count": 112,
     "metadata": {},
     "output_type": "execute_result"
    },
    {
     "data": {
      "text/plain": [
       "5260"
      ]
     },
     "execution_count": 112,
     "metadata": {},
     "output_type": "execute_result"
    },
    {
     "data": {
      "text/plain": [
       "5215"
      ]
     },
     "execution_count": 112,
     "metadata": {},
     "output_type": "execute_result"
    },
    {
     "data": {
      "text/plain": [
       "5247"
      ]
     },
     "execution_count": 112,
     "metadata": {},
     "output_type": "execute_result"
    },
    {
     "data": {
      "text/plain": [
       "5234"
      ]
     },
     "execution_count": 112,
     "metadata": {},
     "output_type": "execute_result"
    },
    {
     "data": {
      "text/plain": [
       "5611"
      ]
     },
     "execution_count": 112,
     "metadata": {},
     "output_type": "execute_result"
    },
    {
     "data": {
      "text/plain": [
       "5454"
      ]
     },
     "execution_count": 112,
     "metadata": {},
     "output_type": "execute_result"
    },
    {
     "data": {
      "text/plain": [
       "5228"
      ]
     },
     "execution_count": 112,
     "metadata": {},
     "output_type": "execute_result"
    },
    {
     "data": {
      "text/plain": [
       "5238"
      ]
     },
     "execution_count": 112,
     "metadata": {},
     "output_type": "execute_result"
    },
    {
     "data": {
      "text/plain": [
       "5219"
      ]
     },
     "execution_count": 112,
     "metadata": {},
     "output_type": "execute_result"
    },
    {
     "data": {
      "text/plain": [
       "5436"
      ]
     },
     "execution_count": 112,
     "metadata": {},
     "output_type": "execute_result"
    },
    {
     "data": {
      "text/plain": [
       "5236"
      ]
     },
     "execution_count": 112,
     "metadata": {},
     "output_type": "execute_result"
    },
    {
     "data": {
      "text/plain": [
       "5254"
      ]
     },
     "execution_count": 112,
     "metadata": {},
     "output_type": "execute_result"
    },
    {
     "data": {
      "text/plain": [
       "5243"
      ]
     },
     "execution_count": 112,
     "metadata": {},
     "output_type": "execute_result"
    },
    {
     "data": {
      "text/plain": [
       "5118"
      ]
     },
     "execution_count": 112,
     "metadata": {},
     "output_type": "execute_result"
    },
    {
     "data": {
      "text/plain": [
       "5212"
      ]
     },
     "execution_count": 112,
     "metadata": {},
     "output_type": "execute_result"
    },
    {
     "data": {
      "text/plain": [
       "5209"
      ]
     },
     "execution_count": 112,
     "metadata": {},
     "output_type": "execute_result"
    },
    {
     "data": {
      "text/plain": [
       "5231"
      ]
     },
     "execution_count": 112,
     "metadata": {},
     "output_type": "execute_result"
    },
    {
     "data": {
      "text/plain": [
       "5243"
      ]
     },
     "execution_count": 112,
     "metadata": {},
     "output_type": "execute_result"
    },
    {
     "data": {
      "text/plain": [
       "5244"
      ]
     },
     "execution_count": 112,
     "metadata": {},
     "output_type": "execute_result"
    },
    {
     "data": {
      "text/plain": [
       "5206"
      ]
     },
     "execution_count": 112,
     "metadata": {},
     "output_type": "execute_result"
    },
    {
     "data": {
      "text/plain": [
       "5240"
      ]
     },
     "execution_count": 112,
     "metadata": {},
     "output_type": "execute_result"
    },
    {
     "data": {
      "text/plain": [
       "5275"
      ]
     },
     "execution_count": 112,
     "metadata": {},
     "output_type": "execute_result"
    },
    {
     "data": {
      "text/plain": [
       "5444"
      ]
     },
     "execution_count": 112,
     "metadata": {},
     "output_type": "execute_result"
    },
    {
     "data": {
      "text/plain": [
       "5255"
      ]
     },
     "execution_count": 112,
     "metadata": {},
     "output_type": "execute_result"
    },
    {
     "data": {
      "text/plain": [
       "5242"
      ]
     },
     "execution_count": 112,
     "metadata": {},
     "output_type": "execute_result"
    },
    {
     "data": {
      "text/plain": [
       "5213"
      ]
     },
     "execution_count": 112,
     "metadata": {},
     "output_type": "execute_result"
    },
    {
     "data": {
      "text/plain": [
       "5211"
      ]
     },
     "execution_count": 112,
     "metadata": {},
     "output_type": "execute_result"
    },
    {
     "data": {
      "text/plain": [
       "5272"
      ]
     },
     "execution_count": 112,
     "metadata": {},
     "output_type": "execute_result"
    },
    {
     "data": {
      "text/plain": [
       "5452"
      ]
     },
     "execution_count": 112,
     "metadata": {},
     "output_type": "execute_result"
    },
    {
     "data": {
      "text/plain": [
       "5269"
      ]
     },
     "execution_count": 112,
     "metadata": {},
     "output_type": "execute_result"
    },
    {
     "data": {
      "text/plain": [
       "5136"
      ]
     },
     "execution_count": 112,
     "metadata": {},
     "output_type": "execute_result"
    },
    {
     "data": {
      "text/plain": [
       "5242"
      ]
     },
     "execution_count": 112,
     "metadata": {},
     "output_type": "execute_result"
    },
    {
     "data": {
      "text/plain": [
       "5261"
      ]
     },
     "execution_count": 112,
     "metadata": {},
     "output_type": "execute_result"
    },
    {
     "data": {
      "text/plain": [
       "5263"
      ]
     },
     "execution_count": 112,
     "metadata": {},
     "output_type": "execute_result"
    },
    {
     "data": {
      "text/plain": [
       "5272"
      ]
     },
     "execution_count": 112,
     "metadata": {},
     "output_type": "execute_result"
    },
    {
     "data": {
      "text/plain": [
       "5236"
      ]
     },
     "execution_count": 112,
     "metadata": {},
     "output_type": "execute_result"
    },
    {
     "data": {
      "text/plain": [
       "5242"
      ]
     },
     "execution_count": 112,
     "metadata": {},
     "output_type": "execute_result"
    },
    {
     "data": {
      "text/plain": [
       "5240"
      ]
     },
     "execution_count": 112,
     "metadata": {},
     "output_type": "execute_result"
    },
    {
     "data": {
      "text/plain": [
       "5255"
      ]
     },
     "execution_count": 112,
     "metadata": {},
     "output_type": "execute_result"
    },
    {
     "data": {
      "text/plain": [
       "5218"
      ]
     },
     "execution_count": 112,
     "metadata": {},
     "output_type": "execute_result"
    },
    {
     "data": {
      "text/plain": [
       "5236"
      ]
     },
     "execution_count": 112,
     "metadata": {},
     "output_type": "execute_result"
    },
    {
     "data": {
      "text/plain": [
       "5253"
      ]
     },
     "execution_count": 112,
     "metadata": {},
     "output_type": "execute_result"
    },
    {
     "data": {
      "text/plain": [
       "5212"
      ]
     },
     "execution_count": 112,
     "metadata": {},
     "output_type": "execute_result"
    },
    {
     "data": {
      "text/plain": [
       "5243"
      ]
     },
     "execution_count": 112,
     "metadata": {},
     "output_type": "execute_result"
    },
    {
     "data": {
      "text/plain": [
       "5253"
      ]
     },
     "execution_count": 112,
     "metadata": {},
     "output_type": "execute_result"
    },
    {
     "data": {
      "text/plain": [
       "5247"
      ]
     },
     "execution_count": 112,
     "metadata": {},
     "output_type": "execute_result"
    },
    {
     "data": {
      "text/plain": [
       "5231"
      ]
     },
     "execution_count": 112,
     "metadata": {},
     "output_type": "execute_result"
    },
    {
     "data": {
      "text/plain": [
       "5230"
      ]
     },
     "execution_count": 112,
     "metadata": {},
     "output_type": "execute_result"
    },
    {
     "data": {
      "text/plain": [
       "5243"
      ]
     },
     "execution_count": 112,
     "metadata": {},
     "output_type": "execute_result"
    },
    {
     "data": {
      "text/plain": [
       "5249"
      ]
     },
     "execution_count": 112,
     "metadata": {},
     "output_type": "execute_result"
    },
    {
     "data": {
      "text/plain": [
       "5264"
      ]
     },
     "execution_count": 112,
     "metadata": {},
     "output_type": "execute_result"
    },
    {
     "data": {
      "text/plain": [
       "5276"
      ]
     },
     "execution_count": 112,
     "metadata": {},
     "output_type": "execute_result"
    },
    {
     "data": {
      "text/plain": [
       "5240"
      ]
     },
     "execution_count": 112,
     "metadata": {},
     "output_type": "execute_result"
    },
    {
     "data": {
      "text/plain": [
       "5436"
      ]
     },
     "execution_count": 112,
     "metadata": {},
     "output_type": "execute_result"
    },
    {
     "data": {
      "text/plain": [
       "5243"
      ]
     },
     "execution_count": 112,
     "metadata": {},
     "output_type": "execute_result"
    },
    {
     "data": {
      "text/plain": [
       "5252"
      ]
     },
     "execution_count": 112,
     "metadata": {},
     "output_type": "execute_result"
    },
    {
     "data": {
      "text/plain": [
       "5251"
      ]
     },
     "execution_count": 112,
     "metadata": {},
     "output_type": "execute_result"
    },
    {
     "data": {
      "text/plain": [
       "5238"
      ]
     },
     "execution_count": 112,
     "metadata": {},
     "output_type": "execute_result"
    },
    {
     "data": {
      "text/plain": [
       "5135"
      ]
     },
     "execution_count": 112,
     "metadata": {},
     "output_type": "execute_result"
    },
    {
     "data": {
      "text/plain": [
       "5435"
      ]
     },
     "execution_count": 112,
     "metadata": {},
     "output_type": "execute_result"
    },
    {
     "data": {
      "text/plain": [
       "5256"
      ]
     },
     "execution_count": 112,
     "metadata": {},
     "output_type": "execute_result"
    },
    {
     "data": {
      "text/plain": [
       "5232"
      ]
     },
     "execution_count": 112,
     "metadata": {},
     "output_type": "execute_result"
    },
    {
     "data": {
      "text/plain": [
       "5238"
      ]
     },
     "execution_count": 112,
     "metadata": {},
     "output_type": "execute_result"
    },
    {
     "data": {
      "text/plain": [
       "5238"
      ]
     },
     "execution_count": 112,
     "metadata": {},
     "output_type": "execute_result"
    },
    {
     "data": {
      "text/plain": [
       "5241"
      ]
     },
     "execution_count": 112,
     "metadata": {},
     "output_type": "execute_result"
    },
    {
     "data": {
      "text/plain": [
       "5402"
      ]
     },
     "execution_count": 112,
     "metadata": {},
     "output_type": "execute_result"
    },
    {
     "data": {
      "text/plain": [
       "5220"
      ]
     },
     "execution_count": 112,
     "metadata": {},
     "output_type": "execute_result"
    },
    {
     "data": {
      "text/plain": [
       "5218"
      ]
     },
     "execution_count": 112,
     "metadata": {},
     "output_type": "execute_result"
    },
    {
     "data": {
      "text/plain": [
       "5221"
      ]
     },
     "execution_count": 112,
     "metadata": {},
     "output_type": "execute_result"
    },
    {
     "data": {
      "text/plain": [
       "5216"
      ]
     },
     "execution_count": 112,
     "metadata": {},
     "output_type": "execute_result"
    },
    {
     "data": {
      "text/plain": [
       "5229"
      ]
     },
     "execution_count": 112,
     "metadata": {},
     "output_type": "execute_result"
    },
    {
     "data": {
      "text/plain": [
       "5241"
      ]
     },
     "execution_count": 112,
     "metadata": {},
     "output_type": "execute_result"
    },
    {
     "data": {
      "text/plain": [
       "5243"
      ]
     },
     "execution_count": 112,
     "metadata": {},
     "output_type": "execute_result"
    },
    {
     "data": {
      "text/plain": [
       "5243"
      ]
     },
     "execution_count": 112,
     "metadata": {},
     "output_type": "execute_result"
    },
    {
     "data": {
      "text/plain": [
       "5243"
      ]
     },
     "execution_count": 112,
     "metadata": {},
     "output_type": "execute_result"
    },
    {
     "data": {
      "text/plain": [
       "5249"
      ]
     },
     "execution_count": 112,
     "metadata": {},
     "output_type": "execute_result"
    },
    {
     "data": {
      "text/plain": [
       "5459"
      ]
     },
     "execution_count": 112,
     "metadata": {},
     "output_type": "execute_result"
    },
    {
     "data": {
      "text/plain": [
       "5242"
      ]
     },
     "execution_count": 112,
     "metadata": {},
     "output_type": "execute_result"
    },
    {
     "data": {
      "text/plain": [
       "5251"
      ]
     },
     "execution_count": 112,
     "metadata": {},
     "output_type": "execute_result"
    },
    {
     "data": {
      "text/plain": [
       "5238"
      ]
     },
     "execution_count": 112,
     "metadata": {},
     "output_type": "execute_result"
    },
    {
     "data": {
      "text/plain": [
       "5237"
      ]
     },
     "execution_count": 112,
     "metadata": {},
     "output_type": "execute_result"
    },
    {
     "data": {
      "text/plain": [
       "5250"
      ]
     },
     "execution_count": 112,
     "metadata": {},
     "output_type": "execute_result"
    },
    {
     "data": {
      "text/plain": [
       "5236"
      ]
     },
     "execution_count": 112,
     "metadata": {},
     "output_type": "execute_result"
    },
    {
     "data": {
      "text/plain": [
       "5219"
      ]
     },
     "execution_count": 112,
     "metadata": {},
     "output_type": "execute_result"
    },
    {
     "data": {
      "text/plain": [
       "5243"
      ]
     },
     "execution_count": 112,
     "metadata": {},
     "output_type": "execute_result"
    },
    {
     "data": {
      "text/plain": [
       "5239"
      ]
     },
     "execution_count": 112,
     "metadata": {},
     "output_type": "execute_result"
    },
    {
     "data": {
      "text/plain": [
       "5512"
      ]
     },
     "execution_count": 112,
     "metadata": {},
     "output_type": "execute_result"
    },
    {
     "data": {
      "text/plain": [
       "5233"
      ]
     },
     "execution_count": 112,
     "metadata": {},
     "output_type": "execute_result"
    },
    {
     "data": {
      "text/plain": [
       "5258"
      ]
     },
     "execution_count": 112,
     "metadata": {},
     "output_type": "execute_result"
    },
    {
     "data": {
      "text/plain": [
       "5254"
      ]
     },
     "execution_count": 112,
     "metadata": {},
     "output_type": "execute_result"
    },
    {
     "data": {
      "text/plain": [
       "5209"
      ]
     },
     "execution_count": 112,
     "metadata": {},
     "output_type": "execute_result"
    },
    {
     "data": {
      "text/plain": [
       "5237"
      ]
     },
     "execution_count": 112,
     "metadata": {},
     "output_type": "execute_result"
    },
    {
     "data": {
      "text/plain": [
       "5214"
      ]
     },
     "execution_count": 112,
     "metadata": {},
     "output_type": "execute_result"
    },
    {
     "data": {
      "text/plain": [
       "5247"
      ]
     },
     "execution_count": 112,
     "metadata": {},
     "output_type": "execute_result"
    },
    {
     "data": {
      "text/plain": [
       "5387"
      ]
     },
     "execution_count": 112,
     "metadata": {},
     "output_type": "execute_result"
    },
    {
     "data": {
      "text/plain": [
       "5520"
      ]
     },
     "execution_count": 112,
     "metadata": {},
     "output_type": "execute_result"
    },
    {
     "data": {
      "text/plain": [
       "5263"
      ]
     },
     "execution_count": 112,
     "metadata": {},
     "output_type": "execute_result"
    },
    {
     "data": {
      "text/plain": [
       "5276"
      ]
     },
     "execution_count": 112,
     "metadata": {},
     "output_type": "execute_result"
    },
    {
     "data": {
      "text/plain": [
       "5230"
      ]
     },
     "execution_count": 112,
     "metadata": {},
     "output_type": "execute_result"
    },
    {
     "data": {
      "text/plain": [
       "5242"
      ]
     },
     "execution_count": 112,
     "metadata": {},
     "output_type": "execute_result"
    },
    {
     "data": {
      "text/plain": [
       "5233"
      ]
     },
     "execution_count": 112,
     "metadata": {},
     "output_type": "execute_result"
    },
    {
     "data": {
      "text/plain": [
       "5232"
      ]
     },
     "execution_count": 112,
     "metadata": {},
     "output_type": "execute_result"
    },
    {
     "data": {
      "text/plain": [
       "5209"
      ]
     },
     "execution_count": 112,
     "metadata": {},
     "output_type": "execute_result"
    },
    {
     "data": {
      "text/plain": [
       "5214"
      ]
     },
     "execution_count": 112,
     "metadata": {},
     "output_type": "execute_result"
    },
    {
     "data": {
      "text/plain": [
       "5124"
      ]
     },
     "execution_count": 112,
     "metadata": {},
     "output_type": "execute_result"
    },
    {
     "data": {
      "text/plain": [
       "5243"
      ]
     },
     "execution_count": 112,
     "metadata": {},
     "output_type": "execute_result"
    },
    {
     "data": {
      "text/plain": [
       "5202"
      ]
     },
     "execution_count": 112,
     "metadata": {},
     "output_type": "execute_result"
    },
    {
     "data": {
      "text/plain": [
       "5254"
      ]
     },
     "execution_count": 112,
     "metadata": {},
     "output_type": "execute_result"
    },
    {
     "data": {
      "text/plain": [
       "5424"
      ]
     },
     "execution_count": 112,
     "metadata": {},
     "output_type": "execute_result"
    },
    {
     "data": {
      "text/plain": [
       "5388"
      ]
     },
     "execution_count": 112,
     "metadata": {},
     "output_type": "execute_result"
    },
    {
     "data": {
      "text/plain": [
       "5288"
      ]
     },
     "execution_count": 112,
     "metadata": {},
     "output_type": "execute_result"
    },
    {
     "data": {
      "text/plain": [
       "5256"
      ]
     },
     "execution_count": 112,
     "metadata": {},
     "output_type": "execute_result"
    },
    {
     "data": {
      "text/plain": [
       "5236"
      ]
     },
     "execution_count": 112,
     "metadata": {},
     "output_type": "execute_result"
    },
    {
     "data": {
      "text/plain": [
       "5252"
      ]
     },
     "execution_count": 112,
     "metadata": {},
     "output_type": "execute_result"
    },
    {
     "data": {
      "text/plain": [
       "5266"
      ]
     },
     "execution_count": 112,
     "metadata": {},
     "output_type": "execute_result"
    },
    {
     "data": {
      "text/plain": [
       "5265"
      ]
     },
     "execution_count": 112,
     "metadata": {},
     "output_type": "execute_result"
    },
    {
     "data": {
      "text/plain": [
       "5263"
      ]
     },
     "execution_count": 112,
     "metadata": {},
     "output_type": "execute_result"
    },
    {
     "data": {
      "text/plain": [
       "5234"
      ]
     },
     "execution_count": 112,
     "metadata": {},
     "output_type": "execute_result"
    },
    {
     "data": {
      "text/plain": [
       "5426"
      ]
     },
     "execution_count": 112,
     "metadata": {},
     "output_type": "execute_result"
    },
    {
     "data": {
      "text/plain": [
       "5426"
      ]
     },
     "execution_count": 112,
     "metadata": {},
     "output_type": "execute_result"
    },
    {
     "data": {
      "text/plain": [
       "5131"
      ]
     },
     "execution_count": 112,
     "metadata": {},
     "output_type": "execute_result"
    },
    {
     "data": {
      "text/plain": [
       "5227"
      ]
     },
     "execution_count": 112,
     "metadata": {},
     "output_type": "execute_result"
    },
    {
     "data": {
      "text/plain": [
       "5221"
      ]
     },
     "execution_count": 112,
     "metadata": {},
     "output_type": "execute_result"
    },
    {
     "data": {
      "text/plain": [
       "5203"
      ]
     },
     "execution_count": 112,
     "metadata": {},
     "output_type": "execute_result"
    },
    {
     "data": {
      "text/plain": [
       "5208"
      ]
     },
     "execution_count": 112,
     "metadata": {},
     "output_type": "execute_result"
    },
    {
     "data": {
      "text/plain": [
       "5200"
      ]
     },
     "execution_count": 112,
     "metadata": {},
     "output_type": "execute_result"
    },
    {
     "data": {
      "text/plain": [
       "5209"
      ]
     },
     "execution_count": 112,
     "metadata": {},
     "output_type": "execute_result"
    },
    {
     "data": {
      "text/plain": [
       "5250"
      ]
     },
     "execution_count": 112,
     "metadata": {},
     "output_type": "execute_result"
    },
    {
     "data": {
      "text/plain": [
       "5249"
      ]
     },
     "execution_count": 112,
     "metadata": {},
     "output_type": "execute_result"
    },
    {
     "data": {
      "text/plain": [
       "5517"
      ]
     },
     "execution_count": 112,
     "metadata": {},
     "output_type": "execute_result"
    },
    {
     "data": {
      "text/plain": [
       "5251"
      ]
     },
     "execution_count": 112,
     "metadata": {},
     "output_type": "execute_result"
    },
    {
     "data": {
      "text/plain": [
       "5278"
      ]
     },
     "execution_count": 112,
     "metadata": {},
     "output_type": "execute_result"
    },
    {
     "data": {
      "text/plain": [
       "5212"
      ]
     },
     "execution_count": 112,
     "metadata": {},
     "output_type": "execute_result"
    },
    {
     "data": {
      "text/plain": [
       "5249"
      ]
     },
     "execution_count": 112,
     "metadata": {},
     "output_type": "execute_result"
    },
    {
     "data": {
      "text/plain": [
       "5224"
      ]
     },
     "execution_count": 112,
     "metadata": {},
     "output_type": "execute_result"
    },
    {
     "data": {
      "text/plain": [
       "5120"
      ]
     },
     "execution_count": 112,
     "metadata": {},
     "output_type": "execute_result"
    },
    {
     "data": {
      "text/plain": [
       "5243"
      ]
     },
     "execution_count": 112,
     "metadata": {},
     "output_type": "execute_result"
    },
    {
     "data": {
      "text/plain": [
       "5240"
      ]
     },
     "execution_count": 112,
     "metadata": {},
     "output_type": "execute_result"
    },
    {
     "data": {
      "text/plain": [
       "5218"
      ]
     },
     "execution_count": 112,
     "metadata": {},
     "output_type": "execute_result"
    },
    {
     "data": {
      "text/plain": [
       "5237"
      ]
     },
     "execution_count": 112,
     "metadata": {},
     "output_type": "execute_result"
    },
    {
     "data": {
      "text/plain": [
       "5248"
      ]
     },
     "execution_count": 112,
     "metadata": {},
     "output_type": "execute_result"
    },
    {
     "data": {
      "text/plain": [
       "5234"
      ]
     },
     "execution_count": 112,
     "metadata": {},
     "output_type": "execute_result"
    },
    {
     "data": {
      "text/plain": [
       "5262"
      ]
     },
     "execution_count": 112,
     "metadata": {},
     "output_type": "execute_result"
    },
    {
     "data": {
      "text/plain": [
       "5252"
      ]
     },
     "execution_count": 112,
     "metadata": {},
     "output_type": "execute_result"
    },
    {
     "data": {
      "text/plain": [
       "5235"
      ]
     },
     "execution_count": 112,
     "metadata": {},
     "output_type": "execute_result"
    },
    {
     "data": {
      "text/plain": [
       "5242"
      ]
     },
     "execution_count": 112,
     "metadata": {},
     "output_type": "execute_result"
    },
    {
     "data": {
      "text/plain": [
       "5235"
      ]
     },
     "execution_count": 112,
     "metadata": {},
     "output_type": "execute_result"
    },
    {
     "data": {
      "text/plain": [
       "5249"
      ]
     },
     "execution_count": 112,
     "metadata": {},
     "output_type": "execute_result"
    },
    {
     "data": {
      "text/plain": [
       "5249"
      ]
     },
     "execution_count": 112,
     "metadata": {},
     "output_type": "execute_result"
    },
    {
     "data": {
      "text/plain": [
       "5237"
      ]
     },
     "execution_count": 112,
     "metadata": {},
     "output_type": "execute_result"
    },
    {
     "data": {
      "text/plain": [
       "5269"
      ]
     },
     "execution_count": 112,
     "metadata": {},
     "output_type": "execute_result"
    },
    {
     "data": {
      "text/plain": [
       "5133"
      ]
     },
     "execution_count": 112,
     "metadata": {},
     "output_type": "execute_result"
    },
    {
     "data": {
      "text/plain": [
       "5258"
      ]
     },
     "execution_count": 112,
     "metadata": {},
     "output_type": "execute_result"
    },
    {
     "data": {
      "text/plain": [
       "5250"
      ]
     },
     "execution_count": 112,
     "metadata": {},
     "output_type": "execute_result"
    },
    {
     "data": {
      "text/plain": [
       "5245"
      ]
     },
     "execution_count": 112,
     "metadata": {},
     "output_type": "execute_result"
    },
    {
     "data": {
      "text/plain": [
       "5257"
      ]
     },
     "execution_count": 112,
     "metadata": {},
     "output_type": "execute_result"
    },
    {
     "data": {
      "text/plain": [
       "5317"
      ]
     },
     "execution_count": 112,
     "metadata": {},
     "output_type": "execute_result"
    },
    {
     "data": {
      "text/plain": [
       "5249"
      ]
     },
     "execution_count": 112,
     "metadata": {},
     "output_type": "execute_result"
    },
    {
     "data": {
      "text/plain": [
       "5300"
      ]
     },
     "execution_count": 112,
     "metadata": {},
     "output_type": "execute_result"
    },
    {
     "data": {
      "text/plain": [
       "5246"
      ]
     },
     "execution_count": 112,
     "metadata": {},
     "output_type": "execute_result"
    },
    {
     "data": {
      "text/plain": [
       "5234"
      ]
     },
     "execution_count": 112,
     "metadata": {},
     "output_type": "execute_result"
    },
    {
     "data": {
      "text/plain": [
       "5254"
      ]
     },
     "execution_count": 112,
     "metadata": {},
     "output_type": "execute_result"
    },
    {
     "data": {
      "text/plain": [
       "5230"
      ]
     },
     "execution_count": 112,
     "metadata": {},
     "output_type": "execute_result"
    },
    {
     "data": {
      "text/plain": [
       "5272"
      ]
     },
     "execution_count": 112,
     "metadata": {},
     "output_type": "execute_result"
    },
    {
     "data": {
      "text/plain": [
       "5222"
      ]
     },
     "execution_count": 112,
     "metadata": {},
     "output_type": "execute_result"
    },
    {
     "data": {
      "text/plain": [
       "5134"
      ]
     },
     "execution_count": 112,
     "metadata": {},
     "output_type": "execute_result"
    },
    {
     "data": {
      "text/plain": [
       "5256"
      ]
     },
     "execution_count": 112,
     "metadata": {},
     "output_type": "execute_result"
    },
    {
     "data": {
      "text/plain": [
       "5251"
      ]
     },
     "execution_count": 112,
     "metadata": {},
     "output_type": "execute_result"
    },
    {
     "data": {
      "text/plain": [
       "5261"
      ]
     },
     "execution_count": 112,
     "metadata": {},
     "output_type": "execute_result"
    },
    {
     "data": {
      "text/plain": [
       "5222"
      ]
     },
     "execution_count": 112,
     "metadata": {},
     "output_type": "execute_result"
    },
    {
     "data": {
      "text/plain": [
       "5291"
      ]
     },
     "execution_count": 112,
     "metadata": {},
     "output_type": "execute_result"
    },
    {
     "data": {
      "text/plain": [
       "5312"
      ]
     },
     "execution_count": 112,
     "metadata": {},
     "output_type": "execute_result"
    },
    {
     "data": {
      "text/plain": [
       "5402"
      ]
     },
     "execution_count": 112,
     "metadata": {},
     "output_type": "execute_result"
    },
    {
     "data": {
      "text/plain": [
       "5271"
      ]
     },
     "execution_count": 112,
     "metadata": {},
     "output_type": "execute_result"
    },
    {
     "data": {
      "text/plain": [
       "5247"
      ]
     },
     "execution_count": 112,
     "metadata": {},
     "output_type": "execute_result"
    },
    {
     "data": {
      "text/plain": [
       "5250"
      ]
     },
     "execution_count": 112,
     "metadata": {},
     "output_type": "execute_result"
    },
    {
     "data": {
      "text/plain": [
       "5238"
      ]
     },
     "execution_count": 112,
     "metadata": {},
     "output_type": "execute_result"
    },
    {
     "data": {
      "text/plain": [
       "5628"
      ]
     },
     "execution_count": 112,
     "metadata": {},
     "output_type": "execute_result"
    },
    {
     "data": {
      "text/plain": [
       "5266"
      ]
     },
     "execution_count": 112,
     "metadata": {},
     "output_type": "execute_result"
    },
    {
     "data": {
      "text/plain": [
       "5246"
      ]
     },
     "execution_count": 112,
     "metadata": {},
     "output_type": "execute_result"
    },
    {
     "data": {
      "text/plain": [
       "5255"
      ]
     },
     "execution_count": 112,
     "metadata": {},
     "output_type": "execute_result"
    },
    {
     "data": {
      "text/plain": [
       "5223"
      ]
     },
     "execution_count": 112,
     "metadata": {},
     "output_type": "execute_result"
    },
    {
     "data": {
      "text/plain": [
       "5205"
      ]
     },
     "execution_count": 112,
     "metadata": {},
     "output_type": "execute_result"
    },
    {
     "data": {
      "text/plain": [
       "5223"
      ]
     },
     "execution_count": 112,
     "metadata": {},
     "output_type": "execute_result"
    },
    {
     "data": {
      "text/plain": [
       "5255"
      ]
     },
     "execution_count": 112,
     "metadata": {},
     "output_type": "execute_result"
    },
    {
     "data": {
      "text/plain": [
       "5239"
      ]
     },
     "execution_count": 112,
     "metadata": {},
     "output_type": "execute_result"
    },
    {
     "data": {
      "text/plain": [
       "5442"
      ]
     },
     "execution_count": 112,
     "metadata": {},
     "output_type": "execute_result"
    },
    {
     "data": {
      "text/plain": [
       "5209"
      ]
     },
     "execution_count": 112,
     "metadata": {},
     "output_type": "execute_result"
    },
    {
     "data": {
      "text/plain": [
       "5235"
      ]
     },
     "execution_count": 112,
     "metadata": {},
     "output_type": "execute_result"
    },
    {
     "data": {
      "text/plain": [
       "5239"
      ]
     },
     "execution_count": 112,
     "metadata": {},
     "output_type": "execute_result"
    },
    {
     "data": {
      "text/plain": [
       "5248"
      ]
     },
     "execution_count": 112,
     "metadata": {},
     "output_type": "execute_result"
    },
    {
     "data": {
      "text/plain": [
       "5236"
      ]
     },
     "execution_count": 112,
     "metadata": {},
     "output_type": "execute_result"
    },
    {
     "data": {
      "text/plain": [
       "5252"
      ]
     },
     "execution_count": 112,
     "metadata": {},
     "output_type": "execute_result"
    },
    {
     "data": {
      "text/plain": [
       "5255"
      ]
     },
     "execution_count": 112,
     "metadata": {},
     "output_type": "execute_result"
    },
    {
     "data": {
      "text/plain": [
       "5252"
      ]
     },
     "execution_count": 112,
     "metadata": {},
     "output_type": "execute_result"
    },
    {
     "data": {
      "text/plain": [
       "5251"
      ]
     },
     "execution_count": 112,
     "metadata": {},
     "output_type": "execute_result"
    },
    {
     "data": {
      "text/plain": [
       "5477"
      ]
     },
     "execution_count": 112,
     "metadata": {},
     "output_type": "execute_result"
    },
    {
     "data": {
      "text/plain": [
       "5256"
      ]
     },
     "execution_count": 112,
     "metadata": {},
     "output_type": "execute_result"
    },
    {
     "data": {
      "text/plain": [
       "5244"
      ]
     },
     "execution_count": 112,
     "metadata": {},
     "output_type": "execute_result"
    },
    {
     "data": {
      "text/plain": [
       "5243"
      ]
     },
     "execution_count": 112,
     "metadata": {},
     "output_type": "execute_result"
    },
    {
     "data": {
      "text/plain": [
       "5225"
      ]
     },
     "execution_count": 112,
     "metadata": {},
     "output_type": "execute_result"
    },
    {
     "data": {
      "text/plain": [
       "5255"
      ]
     },
     "execution_count": 112,
     "metadata": {},
     "output_type": "execute_result"
    },
    {
     "data": {
      "text/plain": [
       "5123"
      ]
     },
     "execution_count": 112,
     "metadata": {},
     "output_type": "execute_result"
    },
    {
     "data": {
      "text/plain": [
       "5227"
      ]
     },
     "execution_count": 112,
     "metadata": {},
     "output_type": "execute_result"
    },
    {
     "data": {
      "text/plain": [
       "5255"
      ]
     },
     "execution_count": 112,
     "metadata": {},
     "output_type": "execute_result"
    },
    {
     "data": {
      "text/plain": [
       "5240"
      ]
     },
     "execution_count": 112,
     "metadata": {},
     "output_type": "execute_result"
    },
    {
     "data": {
      "text/plain": [
       "5243"
      ]
     },
     "execution_count": 112,
     "metadata": {},
     "output_type": "execute_result"
    },
    {
     "data": {
      "text/plain": [
       "5243"
      ]
     },
     "execution_count": 112,
     "metadata": {},
     "output_type": "execute_result"
    },
    {
     "data": {
      "text/plain": [
       "5243"
      ]
     },
     "execution_count": 112,
     "metadata": {},
     "output_type": "execute_result"
    },
    {
     "data": {
      "text/plain": [
       "5240"
      ]
     },
     "execution_count": 112,
     "metadata": {},
     "output_type": "execute_result"
    },
    {
     "data": {
      "text/plain": [
       "5242"
      ]
     },
     "execution_count": 112,
     "metadata": {},
     "output_type": "execute_result"
    },
    {
     "data": {
      "text/plain": [
       "5450"
      ]
     },
     "execution_count": 112,
     "metadata": {},
     "output_type": "execute_result"
    },
    {
     "data": {
      "text/plain": [
       "5262"
      ]
     },
     "execution_count": 112,
     "metadata": {},
     "output_type": "execute_result"
    },
    {
     "data": {
      "text/plain": [
       "5218"
      ]
     },
     "execution_count": 112,
     "metadata": {},
     "output_type": "execute_result"
    },
    {
     "data": {
      "text/plain": [
       "5267"
      ]
     },
     "execution_count": 112,
     "metadata": {},
     "output_type": "execute_result"
    },
    {
     "data": {
      "text/plain": [
       "5242"
      ]
     },
     "execution_count": 112,
     "metadata": {},
     "output_type": "execute_result"
    },
    {
     "data": {
      "text/plain": [
       "5255"
      ]
     },
     "execution_count": 112,
     "metadata": {},
     "output_type": "execute_result"
    },
    {
     "data": {
      "text/plain": [
       "5228"
      ]
     },
     "execution_count": 112,
     "metadata": {},
     "output_type": "execute_result"
    },
    {
     "data": {
      "text/plain": [
       "5216"
      ]
     },
     "execution_count": 112,
     "metadata": {},
     "output_type": "execute_result"
    },
    {
     "data": {
      "text/plain": [
       "5247"
      ]
     },
     "execution_count": 112,
     "metadata": {},
     "output_type": "execute_result"
    },
    {
     "data": {
      "text/plain": [
       "5290"
      ]
     },
     "execution_count": 112,
     "metadata": {},
     "output_type": "execute_result"
    },
    {
     "data": {
      "text/plain": [
       "5243"
      ]
     },
     "execution_count": 112,
     "metadata": {},
     "output_type": "execute_result"
    },
    {
     "data": {
      "text/plain": [
       "5242"
      ]
     },
     "execution_count": 112,
     "metadata": {},
     "output_type": "execute_result"
    },
    {
     "data": {
      "text/plain": [
       "5247"
      ]
     },
     "execution_count": 112,
     "metadata": {},
     "output_type": "execute_result"
    },
    {
     "data": {
      "text/plain": [
       "5391"
      ]
     },
     "execution_count": 112,
     "metadata": {},
     "output_type": "execute_result"
    },
    {
     "data": {
      "text/plain": [
       "5260"
      ]
     },
     "execution_count": 112,
     "metadata": {},
     "output_type": "execute_result"
    },
    {
     "data": {
      "text/plain": [
       "5246"
      ]
     },
     "execution_count": 112,
     "metadata": {},
     "output_type": "execute_result"
    },
    {
     "data": {
      "text/plain": [
       "5259"
      ]
     },
     "execution_count": 112,
     "metadata": {},
     "output_type": "execute_result"
    },
    {
     "data": {
      "text/plain": [
       "5232"
      ]
     },
     "execution_count": 112,
     "metadata": {},
     "output_type": "execute_result"
    },
    {
     "data": {
      "text/plain": [
       "5254"
      ]
     },
     "execution_count": 112,
     "metadata": {},
     "output_type": "execute_result"
    },
    {
     "data": {
      "text/plain": [
       "5221"
      ]
     },
     "execution_count": 112,
     "metadata": {},
     "output_type": "execute_result"
    },
    {
     "data": {
      "text/plain": [
       "5284"
      ]
     },
     "execution_count": 112,
     "metadata": {},
     "output_type": "execute_result"
    },
    {
     "data": {
      "text/plain": [
       "5266"
      ]
     },
     "execution_count": 112,
     "metadata": {},
     "output_type": "execute_result"
    },
    {
     "data": {
      "text/plain": [
       "5267"
      ]
     },
     "execution_count": 112,
     "metadata": {},
     "output_type": "execute_result"
    },
    {
     "data": {
      "text/plain": [
       "5414"
      ]
     },
     "execution_count": 112,
     "metadata": {},
     "output_type": "execute_result"
    },
    {
     "data": {
      "text/plain": [
       "5244"
      ]
     },
     "execution_count": 112,
     "metadata": {},
     "output_type": "execute_result"
    },
    {
     "data": {
      "text/plain": [
       "5248"
      ]
     },
     "execution_count": 112,
     "metadata": {},
     "output_type": "execute_result"
    },
    {
     "data": {
      "text/plain": [
       "5218"
      ]
     },
     "execution_count": 112,
     "metadata": {},
     "output_type": "execute_result"
    },
    {
     "data": {
      "text/plain": [
       "5250"
      ]
     },
     "execution_count": 112,
     "metadata": {},
     "output_type": "execute_result"
    },
    {
     "data": {
      "text/plain": [
       "5247"
      ]
     },
     "execution_count": 112,
     "metadata": {},
     "output_type": "execute_result"
    },
    {
     "data": {
      "text/plain": [
       "5242"
      ]
     },
     "execution_count": 112,
     "metadata": {},
     "output_type": "execute_result"
    },
    {
     "data": {
      "text/plain": [
       "5202"
      ]
     },
     "execution_count": 112,
     "metadata": {},
     "output_type": "execute_result"
    },
    {
     "data": {
      "text/plain": [
       "5202"
      ]
     },
     "execution_count": 112,
     "metadata": {},
     "output_type": "execute_result"
    },
    {
     "data": {
      "text/plain": [
       "5245"
      ]
     },
     "execution_count": 112,
     "metadata": {},
     "output_type": "execute_result"
    },
    {
     "data": {
      "text/plain": [
       "5242"
      ]
     },
     "execution_count": 112,
     "metadata": {},
     "output_type": "execute_result"
    },
    {
     "data": {
      "text/plain": [
       "5396"
      ]
     },
     "execution_count": 112,
     "metadata": {},
     "output_type": "execute_result"
    },
    {
     "data": {
      "text/plain": [
       "5449"
      ]
     },
     "execution_count": 112,
     "metadata": {},
     "output_type": "execute_result"
    },
    {
     "data": {
      "text/plain": [
       "5243"
      ]
     },
     "execution_count": 112,
     "metadata": {},
     "output_type": "execute_result"
    },
    {
     "data": {
      "text/plain": [
       "5243"
      ]
     },
     "execution_count": 112,
     "metadata": {},
     "output_type": "execute_result"
    },
    {
     "data": {
      "text/plain": [
       "5234"
      ]
     },
     "execution_count": 112,
     "metadata": {},
     "output_type": "execute_result"
    },
    {
     "data": {
      "text/plain": [
       "5214"
      ]
     },
     "execution_count": 112,
     "metadata": {},
     "output_type": "execute_result"
    },
    {
     "data": {
      "text/plain": [
       "5240"
      ]
     },
     "execution_count": 112,
     "metadata": {},
     "output_type": "execute_result"
    },
    {
     "data": {
      "text/plain": [
       "5240"
      ]
     },
     "execution_count": 112,
     "metadata": {},
     "output_type": "execute_result"
    },
    {
     "data": {
      "text/plain": [
       "5244"
      ]
     },
     "execution_count": 112,
     "metadata": {},
     "output_type": "execute_result"
    },
    {
     "data": {
      "text/plain": [
       "5213"
      ]
     },
     "execution_count": 112,
     "metadata": {},
     "output_type": "execute_result"
    },
    {
     "data": {
      "text/plain": [
       "5425"
      ]
     },
     "execution_count": 112,
     "metadata": {},
     "output_type": "execute_result"
    },
    {
     "data": {
      "text/plain": [
       "5260"
      ]
     },
     "execution_count": 112,
     "metadata": {},
     "output_type": "execute_result"
    },
    {
     "data": {
      "text/plain": [
       "5242"
      ]
     },
     "execution_count": 112,
     "metadata": {},
     "output_type": "execute_result"
    },
    {
     "data": {
      "text/plain": [
       "5242"
      ]
     },
     "execution_count": 112,
     "metadata": {},
     "output_type": "execute_result"
    },
    {
     "data": {
      "text/plain": [
       "5243"
      ]
     },
     "execution_count": 112,
     "metadata": {},
     "output_type": "execute_result"
    },
    {
     "data": {
      "text/plain": [
       "5222"
      ]
     },
     "execution_count": 112,
     "metadata": {},
     "output_type": "execute_result"
    },
    {
     "data": {
      "text/plain": [
       "5244"
      ]
     },
     "execution_count": 112,
     "metadata": {},
     "output_type": "execute_result"
    },
    {
     "data": {
      "text/plain": [
       "5213"
      ]
     },
     "execution_count": 112,
     "metadata": {},
     "output_type": "execute_result"
    },
    {
     "data": {
      "text/plain": [
       "5243"
      ]
     },
     "execution_count": 112,
     "metadata": {},
     "output_type": "execute_result"
    },
    {
     "data": {
      "text/plain": [
       "5242"
      ]
     },
     "execution_count": 112,
     "metadata": {},
     "output_type": "execute_result"
    },
    {
     "data": {
      "text/plain": [
       "5217"
      ]
     },
     "execution_count": 112,
     "metadata": {},
     "output_type": "execute_result"
    },
    {
     "data": {
      "text/plain": [
       "5446"
      ]
     },
     "execution_count": 112,
     "metadata": {},
     "output_type": "execute_result"
    },
    {
     "data": {
      "text/plain": [
       "5247"
      ]
     },
     "execution_count": 112,
     "metadata": {},
     "output_type": "execute_result"
    },
    {
     "data": {
      "text/plain": [
       "5247"
      ]
     },
     "execution_count": 112,
     "metadata": {},
     "output_type": "execute_result"
    },
    {
     "data": {
      "text/plain": [
       "5276"
      ]
     },
     "execution_count": 112,
     "metadata": {},
     "output_type": "execute_result"
    },
    {
     "data": {
      "text/plain": [
       "5257"
      ]
     },
     "execution_count": 112,
     "metadata": {},
     "output_type": "execute_result"
    },
    {
     "data": {
      "text/plain": [
       "5218"
      ]
     },
     "execution_count": 112,
     "metadata": {},
     "output_type": "execute_result"
    },
    {
     "data": {
      "text/plain": [
       "5133"
      ]
     },
     "execution_count": 112,
     "metadata": {},
     "output_type": "execute_result"
    },
    {
     "data": {
      "text/plain": [
       "5257"
      ]
     },
     "execution_count": 112,
     "metadata": {},
     "output_type": "execute_result"
    },
    {
     "data": {
      "text/plain": [
       "5422"
      ]
     },
     "execution_count": 112,
     "metadata": {},
     "output_type": "execute_result"
    },
    {
     "data": {
      "text/plain": [
       "5255"
      ]
     },
     "execution_count": 112,
     "metadata": {},
     "output_type": "execute_result"
    },
    {
     "data": {
      "text/plain": [
       "5232"
      ]
     },
     "execution_count": 112,
     "metadata": {},
     "output_type": "execute_result"
    },
    {
     "data": {
      "text/plain": [
       "5250"
      ]
     },
     "execution_count": 112,
     "metadata": {},
     "output_type": "execute_result"
    },
    {
     "data": {
      "text/plain": [
       "5233"
      ]
     },
     "execution_count": 112,
     "metadata": {},
     "output_type": "execute_result"
    },
    {
     "data": {
      "text/plain": [
       "5223"
      ]
     },
     "execution_count": 112,
     "metadata": {},
     "output_type": "execute_result"
    },
    {
     "data": {
      "text/plain": [
       "5382"
      ]
     },
     "execution_count": 112,
     "metadata": {},
     "output_type": "execute_result"
    },
    {
     "data": {
      "text/plain": [
       "5219"
      ]
     },
     "execution_count": 112,
     "metadata": {},
     "output_type": "execute_result"
    },
    {
     "data": {
      "text/plain": [
       "5222"
      ]
     },
     "execution_count": 112,
     "metadata": {},
     "output_type": "execute_result"
    },
    {
     "data": {
      "text/plain": [
       "5250"
      ]
     },
     "execution_count": 112,
     "metadata": {},
     "output_type": "execute_result"
    },
    {
     "data": {
      "text/plain": [
       "5239"
      ]
     },
     "execution_count": 112,
     "metadata": {},
     "output_type": "execute_result"
    },
    {
     "data": {
      "text/plain": [
       "5246"
      ]
     },
     "execution_count": 112,
     "metadata": {},
     "output_type": "execute_result"
    },
    {
     "data": {
      "text/plain": [
       "5232"
      ]
     },
     "execution_count": 112,
     "metadata": {},
     "output_type": "execute_result"
    },
    {
     "data": {
      "text/plain": [
       "5244"
      ]
     },
     "execution_count": 112,
     "metadata": {},
     "output_type": "execute_result"
    },
    {
     "data": {
      "text/plain": [
       "5550"
      ]
     },
     "execution_count": 112,
     "metadata": {},
     "output_type": "execute_result"
    },
    {
     "data": {
      "text/plain": [
       "5220"
      ]
     },
     "execution_count": 112,
     "metadata": {},
     "output_type": "execute_result"
    },
    {
     "data": {
      "text/plain": [
       "5420"
      ]
     },
     "execution_count": 112,
     "metadata": {},
     "output_type": "execute_result"
    },
    {
     "data": {
      "text/plain": [
       "5233"
      ]
     },
     "execution_count": 112,
     "metadata": {},
     "output_type": "execute_result"
    },
    {
     "data": {
      "text/plain": [
       "5250"
      ]
     },
     "execution_count": 112,
     "metadata": {},
     "output_type": "execute_result"
    },
    {
     "data": {
      "text/plain": [
       "5247"
      ]
     },
     "execution_count": 112,
     "metadata": {},
     "output_type": "execute_result"
    },
    {
     "data": {
      "text/plain": [
       "5231"
      ]
     },
     "execution_count": 112,
     "metadata": {},
     "output_type": "execute_result"
    },
    {
     "data": {
      "text/plain": [
       "5209"
      ]
     },
     "execution_count": 112,
     "metadata": {},
     "output_type": "execute_result"
    },
    {
     "data": {
      "text/plain": [
       "5246"
      ]
     },
     "execution_count": 112,
     "metadata": {},
     "output_type": "execute_result"
    },
    {
     "data": {
      "text/plain": [
       "5247"
      ]
     },
     "execution_count": 112,
     "metadata": {},
     "output_type": "execute_result"
    },
    {
     "data": {
      "text/plain": [
       "5247"
      ]
     },
     "execution_count": 112,
     "metadata": {},
     "output_type": "execute_result"
    },
    {
     "data": {
      "text/plain": [
       "5448"
      ]
     },
     "execution_count": 112,
     "metadata": {},
     "output_type": "execute_result"
    },
    {
     "data": {
      "text/plain": [
       "5443"
      ]
     },
     "execution_count": 112,
     "metadata": {},
     "output_type": "execute_result"
    },
    {
     "data": {
      "text/plain": [
       "5251"
      ]
     },
     "execution_count": 112,
     "metadata": {},
     "output_type": "execute_result"
    },
    {
     "data": {
      "text/plain": [
       "5248"
      ]
     },
     "execution_count": 112,
     "metadata": {},
     "output_type": "execute_result"
    },
    {
     "data": {
      "text/plain": [
       "5239"
      ]
     },
     "execution_count": 112,
     "metadata": {},
     "output_type": "execute_result"
    },
    {
     "data": {
      "text/plain": [
       "5244"
      ]
     },
     "execution_count": 112,
     "metadata": {},
     "output_type": "execute_result"
    },
    {
     "data": {
      "text/plain": [
       "5263"
      ]
     },
     "execution_count": 112,
     "metadata": {},
     "output_type": "execute_result"
    },
    {
     "data": {
      "text/plain": [
       "5243"
      ]
     },
     "execution_count": 112,
     "metadata": {},
     "output_type": "execute_result"
    },
    {
     "data": {
      "text/plain": [
       "5257"
      ]
     },
     "execution_count": 112,
     "metadata": {},
     "output_type": "execute_result"
    },
    {
     "data": {
      "text/plain": [
       "5405"
      ]
     },
     "execution_count": 112,
     "metadata": {},
     "output_type": "execute_result"
    },
    {
     "data": {
      "text/plain": [
       "5246"
      ]
     },
     "execution_count": 112,
     "metadata": {},
     "output_type": "execute_result"
    },
    {
     "data": {
      "text/plain": [
       "5232"
      ]
     },
     "execution_count": 112,
     "metadata": {},
     "output_type": "execute_result"
    },
    {
     "data": {
      "text/plain": [
       "5438"
      ]
     },
     "execution_count": 112,
     "metadata": {},
     "output_type": "execute_result"
    },
    {
     "data": {
      "text/plain": [
       "5223"
      ]
     },
     "execution_count": 112,
     "metadata": {},
     "output_type": "execute_result"
    },
    {
     "data": {
      "text/plain": [
       "5228"
      ]
     },
     "execution_count": 112,
     "metadata": {},
     "output_type": "execute_result"
    },
    {
     "data": {
      "text/plain": [
       "5253"
      ]
     },
     "execution_count": 112,
     "metadata": {},
     "output_type": "execute_result"
    },
    {
     "data": {
      "text/plain": [
       "5284"
      ]
     },
     "execution_count": 112,
     "metadata": {},
     "output_type": "execute_result"
    },
    {
     "data": {
      "text/plain": [
       "5208"
      ]
     },
     "execution_count": 112,
     "metadata": {},
     "output_type": "execute_result"
    },
    {
     "data": {
      "text/plain": [
       "5223"
      ]
     },
     "execution_count": 112,
     "metadata": {},
     "output_type": "execute_result"
    },
    {
     "data": {
      "text/plain": [
       "5204"
      ]
     },
     "execution_count": 112,
     "metadata": {},
     "output_type": "execute_result"
    },
    {
     "data": {
      "text/plain": [
       "5229"
      ]
     },
     "execution_count": 112,
     "metadata": {},
     "output_type": "execute_result"
    },
    {
     "data": {
      "text/plain": [
       "5248"
      ]
     },
     "execution_count": 112,
     "metadata": {},
     "output_type": "execute_result"
    },
    {
     "data": {
      "text/plain": [
       "5230"
      ]
     },
     "execution_count": 112,
     "metadata": {},
     "output_type": "execute_result"
    },
    {
     "data": {
      "text/plain": [
       "5254"
      ]
     },
     "execution_count": 112,
     "metadata": {},
     "output_type": "execute_result"
    },
    {
     "data": {
      "text/plain": [
       "5217"
      ]
     },
     "execution_count": 112,
     "metadata": {},
     "output_type": "execute_result"
    },
    {
     "data": {
      "text/plain": [
       "5217"
      ]
     },
     "execution_count": 112,
     "metadata": {},
     "output_type": "execute_result"
    },
    {
     "data": {
      "text/plain": [
       "5244"
      ]
     },
     "execution_count": 112,
     "metadata": {},
     "output_type": "execute_result"
    },
    {
     "data": {
      "text/plain": [
       "5235"
      ]
     },
     "execution_count": 112,
     "metadata": {},
     "output_type": "execute_result"
    },
    {
     "data": {
      "text/plain": [
       "5435"
      ]
     },
     "execution_count": 112,
     "metadata": {},
     "output_type": "execute_result"
    },
    {
     "data": {
      "text/plain": [
       "5248"
      ]
     },
     "execution_count": 112,
     "metadata": {},
     "output_type": "execute_result"
    },
    {
     "data": {
      "text/plain": [
       "5261"
      ]
     },
     "execution_count": 112,
     "metadata": {},
     "output_type": "execute_result"
    },
    {
     "data": {
      "text/plain": [
       "5253"
      ]
     },
     "execution_count": 112,
     "metadata": {},
     "output_type": "execute_result"
    },
    {
     "data": {
      "text/plain": [
       "5277"
      ]
     },
     "execution_count": 112,
     "metadata": {},
     "output_type": "execute_result"
    },
    {
     "data": {
      "text/plain": [
       "5261"
      ]
     },
     "execution_count": 112,
     "metadata": {},
     "output_type": "execute_result"
    },
    {
     "data": {
      "text/plain": [
       "5224"
      ]
     },
     "execution_count": 112,
     "metadata": {},
     "output_type": "execute_result"
    },
    {
     "data": {
      "text/plain": [
       "5252"
      ]
     },
     "execution_count": 112,
     "metadata": {},
     "output_type": "execute_result"
    },
    {
     "data": {
      "text/plain": [
       "5224"
      ]
     },
     "execution_count": 112,
     "metadata": {},
     "output_type": "execute_result"
    },
    {
     "data": {
      "text/plain": [
       "5250"
      ]
     },
     "execution_count": 112,
     "metadata": {},
     "output_type": "execute_result"
    },
    {
     "data": {
      "text/plain": [
       "5262"
      ]
     },
     "execution_count": 112,
     "metadata": {},
     "output_type": "execute_result"
    },
    {
     "data": {
      "text/plain": [
       "5245"
      ]
     },
     "execution_count": 112,
     "metadata": {},
     "output_type": "execute_result"
    },
    {
     "data": {
      "text/plain": [
       "5226"
      ]
     },
     "execution_count": 112,
     "metadata": {},
     "output_type": "execute_result"
    },
    {
     "data": {
      "text/plain": [
       "5431"
      ]
     },
     "execution_count": 112,
     "metadata": {},
     "output_type": "execute_result"
    },
    {
     "data": {
      "text/plain": [
       "5239"
      ]
     },
     "execution_count": 112,
     "metadata": {},
     "output_type": "execute_result"
    },
    {
     "data": {
      "text/plain": [
       "5253"
      ]
     },
     "execution_count": 112,
     "metadata": {},
     "output_type": "execute_result"
    },
    {
     "data": {
      "text/plain": [
       "5456"
      ]
     },
     "execution_count": 112,
     "metadata": {},
     "output_type": "execute_result"
    },
    {
     "data": {
      "text/plain": [
       "5246"
      ]
     },
     "execution_count": 112,
     "metadata": {},
     "output_type": "execute_result"
    },
    {
     "data": {
      "text/plain": [
       "5439"
      ]
     },
     "execution_count": 112,
     "metadata": {},
     "output_type": "execute_result"
    },
    {
     "data": {
      "text/plain": [
       "5223"
      ]
     },
     "execution_count": 112,
     "metadata": {},
     "output_type": "execute_result"
    },
    {
     "data": {
      "text/plain": [
       "5265"
      ]
     },
     "execution_count": 112,
     "metadata": {},
     "output_type": "execute_result"
    },
    {
     "data": {
      "text/plain": [
       "5245"
      ]
     },
     "execution_count": 112,
     "metadata": {},
     "output_type": "execute_result"
    },
    {
     "data": {
      "text/plain": [
       "5211"
      ]
     },
     "execution_count": 112,
     "metadata": {},
     "output_type": "execute_result"
    },
    {
     "data": {
      "text/plain": [
       "5252"
      ]
     },
     "execution_count": 112,
     "metadata": {},
     "output_type": "execute_result"
    },
    {
     "data": {
      "text/plain": [
       "5209"
      ]
     },
     "execution_count": 112,
     "metadata": {},
     "output_type": "execute_result"
    },
    {
     "data": {
      "text/plain": [
       "5248"
      ]
     },
     "execution_count": 112,
     "metadata": {},
     "output_type": "execute_result"
    },
    {
     "data": {
      "text/plain": [
       "5252"
      ]
     },
     "execution_count": 112,
     "metadata": {},
     "output_type": "execute_result"
    },
    {
     "data": {
      "text/plain": [
       "5237"
      ]
     },
     "execution_count": 112,
     "metadata": {},
     "output_type": "execute_result"
    },
    {
     "data": {
      "text/plain": [
       "5257"
      ]
     },
     "execution_count": 112,
     "metadata": {},
     "output_type": "execute_result"
    },
    {
     "data": {
      "text/plain": [
       "5241"
      ]
     },
     "execution_count": 112,
     "metadata": {},
     "output_type": "execute_result"
    },
    {
     "data": {
      "text/plain": [
       "5228"
      ]
     },
     "execution_count": 112,
     "metadata": {},
     "output_type": "execute_result"
    },
    {
     "data": {
      "text/plain": [
       "5242"
      ]
     },
     "execution_count": 112,
     "metadata": {},
     "output_type": "execute_result"
    },
    {
     "data": {
      "text/plain": [
       "5213"
      ]
     },
     "execution_count": 112,
     "metadata": {},
     "output_type": "execute_result"
    },
    {
     "data": {
      "text/plain": [
       "5257"
      ]
     },
     "execution_count": 112,
     "metadata": {},
     "output_type": "execute_result"
    },
    {
     "data": {
      "text/plain": [
       "5222"
      ]
     },
     "execution_count": 112,
     "metadata": {},
     "output_type": "execute_result"
    },
    {
     "data": {
      "text/plain": [
       "5239"
      ]
     },
     "execution_count": 112,
     "metadata": {},
     "output_type": "execute_result"
    },
    {
     "data": {
      "text/plain": [
       "5215"
      ]
     },
     "execution_count": 112,
     "metadata": {},
     "output_type": "execute_result"
    },
    {
     "data": {
      "text/plain": [
       "5232"
      ]
     },
     "execution_count": 112,
     "metadata": {},
     "output_type": "execute_result"
    },
    {
     "data": {
      "text/plain": [
       "5455"
      ]
     },
     "execution_count": 112,
     "metadata": {},
     "output_type": "execute_result"
    },
    {
     "data": {
      "text/plain": [
       "5239"
      ]
     },
     "execution_count": 112,
     "metadata": {},
     "output_type": "execute_result"
    },
    {
     "data": {
      "text/plain": [
       "5236"
      ]
     },
     "execution_count": 112,
     "metadata": {},
     "output_type": "execute_result"
    },
    {
     "data": {
      "text/plain": [
       "5255"
      ]
     },
     "execution_count": 112,
     "metadata": {},
     "output_type": "execute_result"
    },
    {
     "data": {
      "text/plain": [
       "5266"
      ]
     },
     "execution_count": 112,
     "metadata": {},
     "output_type": "execute_result"
    },
    {
     "data": {
      "text/plain": [
       "5235"
      ]
     },
     "execution_count": 112,
     "metadata": {},
     "output_type": "execute_result"
    },
    {
     "data": {
      "text/plain": [
       "5260"
      ]
     },
     "execution_count": 112,
     "metadata": {},
     "output_type": "execute_result"
    },
    {
     "data": {
      "text/plain": [
       "5227"
      ]
     },
     "execution_count": 112,
     "metadata": {},
     "output_type": "execute_result"
    },
    {
     "data": {
      "text/plain": [
       "5202"
      ]
     },
     "execution_count": 112,
     "metadata": {},
     "output_type": "execute_result"
    },
    {
     "data": {
      "text/plain": [
       "5625"
      ]
     },
     "execution_count": 112,
     "metadata": {},
     "output_type": "execute_result"
    },
    {
     "data": {
      "text/plain": [
       "5123"
      ]
     },
     "execution_count": 112,
     "metadata": {},
     "output_type": "execute_result"
    },
    {
     "data": {
      "text/plain": [
       "5224"
      ]
     },
     "execution_count": 112,
     "metadata": {},
     "output_type": "execute_result"
    },
    {
     "data": {
      "text/plain": [
       "5240"
      ]
     },
     "execution_count": 112,
     "metadata": {},
     "output_type": "execute_result"
    },
    {
     "data": {
      "text/plain": [
       "5247"
      ]
     },
     "execution_count": 112,
     "metadata": {},
     "output_type": "execute_result"
    },
    {
     "data": {
      "text/plain": [
       "5234"
      ]
     },
     "execution_count": 112,
     "metadata": {},
     "output_type": "execute_result"
    },
    {
     "data": {
      "text/plain": [
       "5244"
      ]
     },
     "execution_count": 112,
     "metadata": {},
     "output_type": "execute_result"
    },
    {
     "data": {
      "text/plain": [
       "5234"
      ]
     },
     "execution_count": 112,
     "metadata": {},
     "output_type": "execute_result"
    },
    {
     "data": {
      "text/plain": [
       "5229"
      ]
     },
     "execution_count": 112,
     "metadata": {},
     "output_type": "execute_result"
    },
    {
     "data": {
      "text/plain": [
       "5231"
      ]
     },
     "execution_count": 112,
     "metadata": {},
     "output_type": "execute_result"
    },
    {
     "data": {
      "text/plain": [
       "5226"
      ]
     },
     "execution_count": 112,
     "metadata": {},
     "output_type": "execute_result"
    },
    {
     "data": {
      "text/plain": [
       "5250"
      ]
     },
     "execution_count": 112,
     "metadata": {},
     "output_type": "execute_result"
    },
    {
     "data": {
      "text/plain": [
       "5249"
      ]
     },
     "execution_count": 112,
     "metadata": {},
     "output_type": "execute_result"
    },
    {
     "data": {
      "text/plain": [
       "5241"
      ]
     },
     "execution_count": 112,
     "metadata": {},
     "output_type": "execute_result"
    },
    {
     "data": {
      "text/plain": [
       "5269"
      ]
     },
     "execution_count": 112,
     "metadata": {},
     "output_type": "execute_result"
    },
    {
     "data": {
      "text/plain": [
       "5427"
      ]
     },
     "execution_count": 112,
     "metadata": {},
     "output_type": "execute_result"
    },
    {
     "data": {
      "text/plain": [
       "5231"
      ]
     },
     "execution_count": 112,
     "metadata": {},
     "output_type": "execute_result"
    },
    {
     "data": {
      "text/plain": [
       "5222"
      ]
     },
     "execution_count": 112,
     "metadata": {},
     "output_type": "execute_result"
    },
    {
     "data": {
      "text/plain": [
       "5226"
      ]
     },
     "execution_count": 112,
     "metadata": {},
     "output_type": "execute_result"
    }
   ],
   "source": [
    "#for each building id in id_lst\n",
    "for bld_index, bld_id in enumerate(id_lst):\n",
    "    # create matching string for html page\n",
    "    bld_address = address_lst[bld_index]\n",
    "    bld_parcel = parcel_lst[bld_index]\n",
    "    bld_section = section_lst[bld_index]\n",
    "    bld_complex = complex_lst[bld_index]\n",
    "    bld_status = status_lst[bld_index]\n",
    "    bld_city_plan = bld_city_plan_lst[bld_index]\n",
    "    bld_lat = lat_lst[bld_index]\n",
    "    bld_lon = lon_lst[bld_index]\n",
    "\n",
    "    # <------------ HEAD stays the same ------------>\n",
    "\n",
    "    html_head =     f\"\"\" <!DOCTYPE html>\n",
    "    <html lang=\"en\">\n",
    "\n",
    "    <head>\n",
    "    <meta charset=\"UTF-8\">\n",
    "    <meta http-equiv=\"X-UA-Compatible\" content=\"IE=edge\">\n",
    "    <meta name=\"viewport\" content=\"width=device-width, initial-scale=1.0\">\n",
    "    <link href=\"../css/building_card.css\" rel=\"stylesheet\">\n",
    "    <link href=\"https://fonts.googleapis.com/css?family=Material+Icons|Material+Icons+Outlined|Material+Icons+Two+Tone|Material+Icons+Round|Material+Icons+Sharp\" rel=\"stylesheet\">\n",
    "    <!--To load jquery -->\n",
    "    <script src=\"https://cdnjs.cloudflare.com/ajax/libs/jquery/3.2.1/jquery.min.js \"></script>\n",
    "    <!--To dataTables -->\n",
    "    <link rel=\"stylesheet\" type=\"text/css\" href=\"https://cdn.datatables.net/1.10.24/css/jquery.dataTables.css\">\n",
    "    <script type=\"text/javascript\" charset=\"utf8\" src=\"https://cdn.datatables.net/1.10.24/js/jquery.dataTables.js\"></script>\n",
    "    <link rel=\"stylesheet\" type=\"text/css\" href=\"https://cdn.datatables.net/v/ju/dt-1.10.25/b-1.7.1/b-html5-1.7.1/datatables.min.css\"/>\n",
    "    <script type=\"text/javascript\" src=\"https://cdn.datatables.net/v/ju/dt-1.10.25/b-1.7.1/b-html5-1.7.1/datatables.min.js\"></script>\n",
    "    <!--To pass variables -->\n",
    "    <script type=\"text/javascript\" src=\"../js/app.js\"></script>\n",
    "    <!--To load chartjs -->\n",
    "    <script type=\"text/javascript\" src=\"https://cdnjs.cloudflare.com/ajax/libs/Chart.js/3.3.0/chart.min.js\"></script>\n",
    "    <title>Card ID: {bld_id}</title> \n",
    "    </head>\n",
    "    \"\"\"\n",
    "    # <------------ HEAD stays the same ------------>\n",
    "\n",
    "    html_body_start = f\"\"\"\n",
    "<body>\n",
    "    <div class='summary-page'>\n",
    "    \n",
    "        <span class=\"material-icons-outlined\" id=\"topRightFixed\"> close </span> \n",
    "            \n",
    "            \n",
    "        <div class=\"summary\">\n",
    "            <h2>{bld_address}</h2>\n",
    "            <p>parcel : {bld_parcel}</p>\n",
    "            <p>section: {bld_section}</p>\n",
    "            <p>complex: {bld_complex}</p>\n",
    "            <p>status: {bld_status} b</p>\n",
    "            <p>City Building Plan: {bld_city_plan}</p>\n",
    "            <p id=\"building_id\">ID: {bld_id}</p>\n",
    "        </div>\n",
    "        \n",
    "        <div class=\"carousel-container\">\n",
    "        \"\"\" # NOTICE the opening\n",
    "    bld_photos = [] # create an empty list to append to \n",
    "    for i in phot_lst: # compare one building id against all photos\n",
    "        #print(str(bld_id).strip() + '_')\n",
    "        if i.find(str(bld_id).strip()) != -1: # if the photo name is containing the building id\n",
    "            #id_df.iloc[index, 1] = f'./photos/{i}'4\n",
    "            bld_photos.append(i)\n",
    "    n_images = len(bld_photos)\n",
    "    \n",
    "    html_body_carousel = \"\" # create empty string to append to \n",
    "    \n",
    "    for index, value in enumerate(bld_photos):\n",
    "        tmp_img = f\"\"\"<img alt=\"{bld_address}\" photo_num='{index + 1}' class=\"center carousel\" src=\"../photos/{value}\">\"\"\"\n",
    "        html_body_carousel += tmp_img      \n",
    "    \n",
    "    html_body_carousel += \" </div>\" # close the div\n",
    "    # <------------ HEAD stays the same ------------>\n",
    "  \n",
    "    # create the number of corrospnsing button - depending on the number of images existing\n",
    "    # NOTICE starting with opening the carousel-button div - closing in html_body_end\n",
    "    first_radio_button = \"\"\"  <div class=\"carousel-button\">\n",
    "    <span class=\"material-icons-outlined\" button_num='1'>radio_button_checked</span>\"\"\"           \n",
    "    \n",
    "    next_n_radio_buttons = \"\" # create empty string\n",
    "    \n",
    "    for index, value in enumerate(bld_photos):\n",
    "        if index > 0:\n",
    "            tmp_radio_button = f\"\"\"<span class=\"material-icons-outlined\" button_num='{index}'>radio_button_unchecked</span>\"\"\"\n",
    "            next_n_radio_buttons += tmp_radio_button\n",
    "            \n",
    "    html_body_radio_button = first_radio_button + next_n_radio_buttons # join all buttons to a single string\n",
    "    # NOTICE starting with closing the radio button div\n",
    "    html_body_end = f\"\"\"\n",
    "        </div>\n",
    "        <a href=\"#\">\n",
    "        <span class=\"material-icons-outlined info-button info-summary\" id=\"buttonLeftFixed\">info</span>\n",
    "        </a>\n",
    "        <a href=\"#\">\n",
    "        <span class=\"material-icons-outlined\" id=\"navigate_before\">\n",
    "        navigate_before\n",
    "        </span>\n",
    "        </a>\n",
    "        <a href=\"#\">\n",
    "        <span class=\"material-icons-outlined navigate_next\" id=\"buttonRightFixed\">\n",
    "        navigate_next\n",
    "        </span>\n",
    "        </a>\n",
    "    </div>\n",
    "\n",
    "    <div class='detailed-page'>\n",
    "        <!-- Entire page-->\n",
    "        <div class=\"top_container\">\n",
    "            <!-- simplex / powerBI - simplex height=\"550px\" width=\"100%\" -->\n",
    "\n",
    "            <div class='simplex_box'>\n",
    "                <iframe id=\"simplexinlineFrame\" height=\"95%\" width=\"90%\" title=\"Meimad Iframe\" \n",
    "                src='https://simplex-smart3d.com/ces/TLV/app-ANPLUS/?pos=34.756111,32.055,1100&ori=0,-90,0#lookAt={{%22lat%22:{bld_lat},%22lon%22:{bld_lon},%20%22elev%22:0.1,%22heading%22:180,%22pitch%22:45,%22dist%22:100,%22duration%22:3,%22fly%22:true,%22showPin%22:%20false,%22circle%22:true,%22rpm%22:1}}&layout=clean'> </iframe>\n",
    "            </div>\n",
    "            <div class=' graph_box '>\n",
    "                <!-- Graph -->\n",
    "                <canvas id=\"radar_chart\"></canvas>\n",
    "                <!--  <canvas id=\"multi_series_pie_chart\"></canvas> -->\n",
    "            </div>\n",
    "        </div>\n",
    "        <!-- close: class=\"top_container\"-->\n",
    "\n",
    "        <div class=\"bottom_container\">\n",
    "            <!-- table -->\n",
    "            <div class='table_box '>\n",
    "\n",
    "\n",
    "                <table id=\"table_id\" class=\"display\">\n",
    "                    <thead>\n",
    "                        <tr>\n",
    "                            <th>id</th>\n",
    "                            <th>primary</th>\n",
    "                            <th>secondary</th>\n",
    "                            <th>typology.</th>\n",
    "                            <th>physical condition.</th>\n",
    "                            <th>status</th>\n",
    "                            <th>technology</th>\n",
    "                            <th>finishing materials</th>\n",
    "                            <th>roof</th>\n",
    "                            <th>positioning</th>\n",
    "                            <th>architectural value</th>\n",
    "                            <th>urban value</th>\n",
    "                            <th>historical significance</th>\n",
    "                            <th>general evaluation</th>\n",
    "                            <th>#floors</th>\n",
    "                            <th>#facades</th>\n",
    "                            <th>arrnona year</th>\n",
    "                            <th>flooded in a tsunami</th>\n",
    "                        </tr>\n",
    "                    </thead>\n",
    "                </table>\n",
    "                <!-- table -->\n",
    "            </div>\n",
    "            <!-- close: class=\"bottom_container\"-->\n",
    "\n",
    "        </div>\n",
    "        <!-- close entire page div -->\n",
    "        <a href=\"#\">\n",
    "        <span class=\"material-icons-outlined info-button info-detailed\" id=\"buttonLeftFixed\">info</span>\n",
    "        </a>\n",
    "    </div>\n",
    "    <!-- close: class='detailed-page '-->\n",
    "</body>\n",
    "\"\"\"\n",
    "\n",
    "    html_footer = \"\"\"\n",
    "<footer>\n",
    "\n",
    "    <!--To load javascript page -->\n",
    "    <script src=\"../js/building_card.js\"></script>\n",
    "\n",
    "\n",
    "</footer>\n",
    "\n",
    "</html>\n",
    "\"\"\"\n",
    "    \n",
    "    \n",
    "    page_str = html_head + html_body_start + html_body_carousel + html_body_radio_button + html_body_end + html_footer\n",
    "    # parse as html file in folder\n",
    "    # open the file in w mode\n",
    "    # set encoding to UTF-8\n",
    "    with open(f'../building_cards/{bld_id}.html', \"w\", encoding = 'utf-8') as file:\n",
    "        file.write(page_str) # NOTICE change to actual string"
   ]
  },
  {
   "cell_type": "raw",
   "id": "fifteen-nation",
   "metadata": {},
   "source": [
    "<!DOCTYPE html>\n",
    "<html lang=\"en\">\n",
    "\n",
    "<head>\n",
    "    <meta charset=\"UTF-8\">\n",
    "    <meta http-equiv=\"X-UA-Compatible\" content=\"IE=edge\">\n",
    "    <meta name=\"viewport\" content=\"width=device-width, initial-scale=1.0\">\n",
    "    <link href=\"../css/building_card.css\" rel=\"stylesheet\">\n",
    "    <link href=\"https://fonts.googleapis.com/css?family=Material+Icons|Material+Icons+Outlined|Material+Icons+Two+Tone|Material+Icons+Round|Material+Icons+Sharp\" rel=\"stylesheet\">\n",
    "    <!--To load jquery -->\n",
    "    <script src=\"https://cdnjs.cloudflare.com/ajax/libs/jquery/3.2.1/jquery.min.js \"></script>\n",
    "    <!--To dataTables -->\n",
    "    <link rel=\"stylesheet\" type=\"text/css\" href=\"https://cdn.datatables.net/1.10.24/css/jquery.dataTables.css\">\n",
    "    <script type=\"text/javascript\" charset=\"utf8\" src=\"https://cdn.datatables.net/1.10.24/js/jquery.dataTables.js\"></script>\n",
    "    <!--To pass variables -->\n",
    "    <script type=\"text/javascript\" src=\"../js/app.js\"></script>\n",
    "    <!--To load chartjs -->\n",
    "    <script type=\"text/javascript\" src=\"https://cdnjs.cloudflare.com/ajax/libs/Chart.js/3.3.0/chart.min.js\"></script>\n",
    "\n",
    "\n",
    "\n",
    "    <title>Document</title>\n",
    "</head>\n",
    "\n",
    "<body>\n",
    "    <div class='summary-page'>\n",
    "        <span class=\"material-icons-outlined\" id=\"topRightFixed\">\n",
    "            close\n",
    "            </span>\n",
    "        <div class=\"summary\">\n",
    "            <h2>Auerbach 4 </h2>\n",
    "            <p>parcel : 701</p>\n",
    "            <p>section: 3</p>\n",
    "            <p>complex: north jaffa</p>\n",
    "            <p>status: conservation b</p>\n",
    "            <p>City Building Plan: 2572</p>\n",
    "            <p id=\"building_id\">ID: 12146</p>\n",
    "        </div>\n",
    "        <div class=\"carousel-container\">\n",
    "            <img alt=\"test\" photo_num='1' class=\"center carousel\" src=\"../photos/אאורבך-4(2)_12146.jpg\">\n",
    "            <img alt=\"test\" photo_num='2' class=\"center carousel\" src=\"../photos/אאורבך-4_12146.jpg\">\n",
    "        </div>\n",
    "\n",
    "        <div class=\"carousel-button\">\n",
    "            <span class=\"material-icons-outlined\" button_num='1'>\n",
    "                    radio_button_checked\n",
    "                    </span>\n",
    "            <span class=\"material-icons-outlined\" button_num='2'>\n",
    "                        radio_button_unchecked\n",
    "                        </span>\n",
    "\n",
    "\n",
    "        </div>\n",
    "        <span class=\"material-icons-outlined info-button info-summary\" id=\"buttonLeftFixed\">info</span>\n",
    "        <span class=\"material-icons-outlined\" id=\"navigate_before\">\n",
    "        navigate_before\n",
    "        </span>\n",
    "        <span class=\"material-icons-outlined navigate_next\" id=\"buttonRightFixed\">\n",
    "        navigate_next\n",
    "        </span>\n",
    "    </div>\n",
    "\n",
    "    <div class='detailed-page'>\n",
    "        <!-- Entire page-->\n",
    "        <div class=\"top_container\">\n",
    "            <!-- simplex / powerBI - simplex height=\"550px\" width=\"100%\"            -->\n",
    "\n",
    "            <div class='simplex_box'>\n",
    "                <iframe id=\"simplexinlineFrame\" height=\"95%\" width=\"90%\" title=\"Meimad Iframe\" src='https://simplex-smart3d.com/ces/TLV/app-ANPLUS/?pos=34.756111,32.055,1100&ori=0,-90,0#lookAt={%22lat%22:32.0438991,%22lon%22:34.7639062,%20%22elev%22:0.1,%22heading%22:180,%22pitch%22:45,%22dist%22:100,%22duration%22:3,%22fly%22:true,%22showPin%22:%20false,%22circle%22:true,%22rpm%22:1}&layout=clean'> </iframe>\n",
    "            </div>\n",
    "            <div class=' graph_box '>\n",
    "                <!-- Graph -->\n",
    "                <canvas id=\"radar_chart\"></canvas>\n",
    "                <!--  <canvas id=\"multi_series_pie_chart\"></canvas> -->\n",
    "            </div>\n",
    "        </div>\n",
    "        <!-- close: class=\"top_container\"-->\n",
    "\n",
    "        <div class=\"bottom_container\">\n",
    "            <!-- table -->\n",
    "            <div class='table_box '>\n",
    "\n",
    "\n",
    "                <table id=\"table_id\" class=\"display\">\n",
    "                    <thead>\n",
    "                        <tr>\n",
    "                            <th>id</th>\n",
    "                            <th>primary</th>\n",
    "                            <th>secondary</th>\n",
    "                            <th>n_bicycle_parking.</th>\n",
    "                            <th>placeholder.</th>\n",
    "                            <th>placeholder.</th>\n",
    "                            <th>placeholder.</th>\n",
    "                            <th>placeholder.</th>\n",
    "                            <th>placeholder.</th>\n",
    "                            <th>placeholder.</th>\n",
    "\n",
    "\n",
    "                        </tr>\n",
    "                    </thead>\n",
    "                </table>\n",
    "                <!-- table -->\n",
    "            </div>\n",
    "            <!-- close: class=\"bottom_container\"-->\n",
    "\n",
    "        </div>\n",
    "        <!-- close entire page div -->\n",
    "        <span class=\"material-icons-outlined info-button info-detailed\" id=\"buttonLeftFixed\">info</span>\n",
    "\n",
    "    </div>\n",
    "    <!-- close: class='detailed-page '-->\n",
    "</body>\n",
    "\n",
    "<footer>\n",
    "\n",
    "    <!--To load javascript page -->\n",
    "    <script src=\"../js/building_card.js\"></script>\n",
    "\n",
    "\n",
    "</footer>\n",
    "\n",
    "</html>"
   ]
  },
  {
   "cell_type": "code",
   "execution_count": 113,
   "id": "portuguese-scout",
   "metadata": {},
   "outputs": [
    {
     "ename": "SyntaxError",
     "evalue": "invalid syntax (<ipython-input-113-065beb10df11>, line 1)",
     "output_type": "error",
     "traceback": [
      "\u001b[1;36m  File \u001b[1;32m\"<ipython-input-113-065beb10df11>\"\u001b[1;36m, line \u001b[1;32m1\u001b[0m\n\u001b[1;33m    <!DOCTYPE html>\u001b[0m\n\u001b[1;37m    ^\u001b[0m\n\u001b[1;31mSyntaxError\u001b[0m\u001b[1;31m:\u001b[0m invalid syntax\n"
     ]
    }
   ],
   "source": [
    "<!DOCTYPE html>\n",
    "<html lang=\"en\">\n",
    "\n",
    "<head>\n",
    "    <meta charset=\"UTF-8\">\n",
    "    <meta http-equiv=\"X-UA-Compatible\" content=\"IE=edge\">\n",
    "    <meta name=\"viewport\" content=\"width=device-width, initial-scale=1.0\">\n",
    "    <link href=\"../css/building_card.css\" rel=\"stylesheet\">\n",
    "    <link href=\"https://fonts.googleapis.com/css?family=Material+Icons|Material+Icons+Outlined|Material+Icons+Two+Tone|Material+Icons+Round|Material+Icons+Sharp\" rel=\"stylesheet\">\n",
    "    <!--To load jquery -->\n",
    "    <script src=\"https://cdnjs.cloudflare.com/ajax/libs/jquery/3.2.1/jquery.min.js \"></script>\n",
    "    <!--To dataTables -->\n",
    "    <link rel=\"stylesheet\" type=\"text/css\" href=\"https://cdn.datatables.net/1.10.24/css/jquery.dataTables.css\">\n",
    "    <script type=\"text/javascript\" charset=\"utf8\" src=\"https://cdn.datatables.net/1.10.24/js/jquery.dataTables.js\"></script>\n",
    "    <!--To pass variables -->\n",
    "    <script type=\"text/javascript\" src=\"../js/app.js\"></script>\n",
    "    <!--To load chartjs -->\n",
    "    <script type=\"text/javascript\" src=\"https://cdnjs.cloudflare.com/ajax/libs/Chart.js/3.3.0/chart.min.js\"></script>\n",
    "\n",
    "\n",
    "\n",
    "    <title>Document</title>\n",
    "</head>"
   ]
  },
  {
   "cell_type": "markdown",
   "id": "civilian-disorder",
   "metadata": {},
   "source": [
    "## Generate an executable (.exe) file from the jupyter-notebook"
   ]
  },
  {
   "cell_type": "code",
   "execution_count": null,
   "id": "differential-cotton",
   "metadata": {},
   "outputs": [],
   "source": []
  },
  {
   "cell_type": "code",
   "execution_count": null,
   "id": "rapid-cherry",
   "metadata": {},
   "outputs": [],
   "source": []
  },
  {
   "cell_type": "code",
   "execution_count": null,
   "id": "honest-bachelor",
   "metadata": {},
   "outputs": [],
   "source": []
  },
  {
   "cell_type": "code",
   "execution_count": null,
   "id": "valued-filing",
   "metadata": {},
   "outputs": [],
   "source": []
  },
  {
   "cell_type": "code",
   "execution_count": null,
   "id": "economic-queen",
   "metadata": {},
   "outputs": [],
   "source": []
  },
  {
   "cell_type": "code",
   "execution_count": null,
   "id": "parliamentary-coalition",
   "metadata": {},
   "outputs": [],
   "source": []
  },
  {
   "cell_type": "code",
   "execution_count": null,
   "id": "nuclear-behavior",
   "metadata": {},
   "outputs": [],
   "source": []
  },
  {
   "cell_type": "code",
   "execution_count": null,
   "id": "breeding-device",
   "metadata": {},
   "outputs": [],
   "source": []
  },
  {
   "cell_type": "code",
   "execution_count": null,
   "id": "vanilla-portfolio",
   "metadata": {},
   "outputs": [],
   "source": []
  },
  {
   "cell_type": "code",
   "execution_count": null,
   "id": "tough-automation",
   "metadata": {},
   "outputs": [],
   "source": []
  },
  {
   "cell_type": "code",
   "execution_count": null,
   "id": "accompanied-republican",
   "metadata": {},
   "outputs": [],
   "source": []
  },
  {
   "cell_type": "code",
   "execution_count": null,
   "id": "utility-conflict",
   "metadata": {},
   "outputs": [],
   "source": []
  },
  {
   "cell_type": "code",
   "execution_count": null,
   "id": "middle-brisbane",
   "metadata": {},
   "outputs": [],
   "source": []
  },
  {
   "cell_type": "code",
   "execution_count": null,
   "id": "pharmaceutical-bandwidth",
   "metadata": {},
   "outputs": [],
   "source": []
  },
  {
   "cell_type": "code",
   "execution_count": null,
   "id": "clear-designer",
   "metadata": {},
   "outputs": [],
   "source": []
  }
 ],
 "metadata": {
  "kernelspec": {
   "display_name": "Python 3",
   "language": "python",
   "name": "python3"
  },
  "language_info": {
   "codemirror_mode": {
    "name": "ipython",
    "version": 3
   },
   "file_extension": ".py",
   "mimetype": "text/x-python",
   "name": "python",
   "nbconvert_exporter": "python",
   "pygments_lexer": "ipython3",
   "version": "3.8.5"
  }
 },
 "nbformat": 4,
 "nbformat_minor": 5
}
