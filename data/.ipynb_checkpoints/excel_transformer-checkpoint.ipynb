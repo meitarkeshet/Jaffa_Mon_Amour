{
 "cells": [
  {
   "cell_type": "markdown",
   "id": "hungarian-kitchen",
   "metadata": {},
   "source": [
    "## Import librearies\n"
   ]
  },
  {
   "cell_type": "code",
   "execution_count": 42,
   "id": "acquired-drama",
   "metadata": {},
   "outputs": [],
   "source": [
    "from IPython.core.interactiveshell import InteractiveShell\n",
    "InteractiveShell.ast_node_interactivity = \"all\"\n",
    " # to see better in Jupyter notebook / lab"
   ]
  },
  {
   "cell_type": "code",
   "execution_count": 43,
   "id": "funky-fighter",
   "metadata": {},
   "outputs": [],
   "source": [
    "import numpy as np # for numbers, NaN values etc. \n",
    "import pandas as pd # for excel tables etc"
   ]
  },
  {
   "cell_type": "code",
   "execution_count": 44,
   "id": "monthly-shakespeare",
   "metadata": {},
   "outputs": [],
   "source": [
    "from bs4 import BeautifulSoup # import to read HTML file"
   ]
  },
  {
   "cell_type": "code",
   "execution_count": 45,
   "id": "foreign-produce",
   "metadata": {},
   "outputs": [],
   "source": [
    "import os # for reading file names in photo directory"
   ]
  },
  {
   "cell_type": "code",
   "execution_count": 46,
   "id": "noble-gravity",
   "metadata": {},
   "outputs": [],
   "source": [
    "import re # for finding missing photos"
   ]
  },
  {
   "cell_type": "markdown",
   "id": "hollywood-powell",
   "metadata": {},
   "source": [
    "## Load excel file"
   ]
  },
  {
   "cell_type": "code",
   "execution_count": 47,
   "id": "norman-alcohol",
   "metadata": {},
   "outputs": [],
   "source": [
    "df = pd.read_excel(r'master.xlsx')"
   ]
  },
  {
   "cell_type": "code",
   "execution_count": 48,
   "id": "offensive-annex",
   "metadata": {},
   "outputs": [
    {
     "data": {
      "text/html": [
       "<div>\n",
       "<style scoped>\n",
       "    .dataframe tbody tr th:only-of-type {\n",
       "        vertical-align: middle;\n",
       "    }\n",
       "\n",
       "    .dataframe tbody tr th {\n",
       "        vertical-align: top;\n",
       "    }\n",
       "\n",
       "    .dataframe thead th {\n",
       "        text-align: right;\n",
       "    }\n",
       "</style>\n",
       "<table border=\"1\" class=\"dataframe\">\n",
       "  <thead>\n",
       "    <tr style=\"text-align: right;\">\n",
       "      <th></th>\n",
       "      <th>id</th>\n",
       "      <th>long</th>\n",
       "      <th>lat</th>\n",
       "      <th>n_bicycle_parking</th>\n",
       "      <th>n_tel_o_fun</th>\n",
       "      <th>Built density (2d built area / void) in 250 meter radius</th>\n",
       "      <th>n_auto_tel</th>\n",
       "      <th>Centrality (gravity) score for each building within 15 min. walk r.</th>\n",
       "      <th>building's street-facing front Distance from parcel limits (0 line) in meters</th>\n",
       "      <th>n_parks</th>\n",
       "      <th>...</th>\n",
       "      <th>roof</th>\n",
       "      <th>n_facades</th>\n",
       "      <th>arrnona_year</th>\n",
       "      <th>typology</th>\n",
       "      <th>positioning</th>\n",
       "      <th>physical_condition</th>\n",
       "      <th>architectural_value</th>\n",
       "      <th>urban_value</th>\n",
       "      <th>historical_ significance</th>\n",
       "      <th>general evaluation</th>\n",
       "    </tr>\n",
       "  </thead>\n",
       "  <tbody>\n",
       "    <tr>\n",
       "      <th>0</th>\n",
       "      <td>1698</td>\n",
       "      <td>34.763906</td>\n",
       "      <td>32.043899</td>\n",
       "      <td>0</td>\n",
       "      <td>0</td>\n",
       "      <td>0.163702</td>\n",
       "      <td>5</td>\n",
       "      <td>0.284663</td>\n",
       "      <td>1.826463e+00</td>\n",
       "      <td>20</td>\n",
       "      <td>...</td>\n",
       "      <td>tiles</td>\n",
       "      <td>4.0</td>\n",
       "      <td>1953.0</td>\n",
       "      <td>well house (81)</td>\n",
       "      <td>alongside minor road</td>\n",
       "      <td>mediocre</td>\n",
       "      <td>high</td>\n",
       "      <td>low</td>\n",
       "      <td>NaN</td>\n",
       "      <td>mediocre</td>\n",
       "    </tr>\n",
       "    <tr>\n",
       "      <th>1</th>\n",
       "      <td>1700</td>\n",
       "      <td>34.764112</td>\n",
       "      <td>32.043826</td>\n",
       "      <td>2</td>\n",
       "      <td>99</td>\n",
       "      <td>0.162582</td>\n",
       "      <td>22</td>\n",
       "      <td>0.244624</td>\n",
       "      <td>4.498390e-01</td>\n",
       "      <td>173</td>\n",
       "      <td>...</td>\n",
       "      <td>tiles</td>\n",
       "      <td>4.0</td>\n",
       "      <td>1940.0</td>\n",
       "      <td>well house (48)</td>\n",
       "      <td>alongside main road</td>\n",
       "      <td>bad</td>\n",
       "      <td>extraordinary</td>\n",
       "      <td>low</td>\n",
       "      <td>NaN</td>\n",
       "      <td>high</td>\n",
       "    </tr>\n",
       "    <tr>\n",
       "      <th>2</th>\n",
       "      <td>2110</td>\n",
       "      <td>34.759574</td>\n",
       "      <td>32.056483</td>\n",
       "      <td>7</td>\n",
       "      <td>83</td>\n",
       "      <td>0.123723</td>\n",
       "      <td>9</td>\n",
       "      <td>0.270562</td>\n",
       "      <td>0.000000e+00</td>\n",
       "      <td>236</td>\n",
       "      <td>...</td>\n",
       "      <td>tiles</td>\n",
       "      <td>2.0</td>\n",
       "      <td>NaN</td>\n",
       "      <td>commercial level</td>\n",
       "      <td>alongside main road</td>\n",
       "      <td>mediocre</td>\n",
       "      <td>NaN</td>\n",
       "      <td>NaN</td>\n",
       "      <td>NaN</td>\n",
       "      <td>low</td>\n",
       "    </tr>\n",
       "    <tr>\n",
       "      <th>3</th>\n",
       "      <td>2143</td>\n",
       "      <td>34.747829</td>\n",
       "      <td>32.035631</td>\n",
       "      <td>8</td>\n",
       "      <td>68</td>\n",
       "      <td>0.167012</td>\n",
       "      <td>2</td>\n",
       "      <td>0.364729</td>\n",
       "      <td>2.043400e+00</td>\n",
       "      <td>193</td>\n",
       "      <td>...</td>\n",
       "      <td>flat</td>\n",
       "      <td>3.0</td>\n",
       "      <td>1935.0</td>\n",
       "      <td>residential</td>\n",
       "      <td>alongside minor road</td>\n",
       "      <td>good</td>\n",
       "      <td>high</td>\n",
       "      <td>low</td>\n",
       "      <td>NaN</td>\n",
       "      <td>mediocre</td>\n",
       "    </tr>\n",
       "    <tr>\n",
       "      <th>4</th>\n",
       "      <td>2203</td>\n",
       "      <td>34.747280</td>\n",
       "      <td>32.037557</td>\n",
       "      <td>8</td>\n",
       "      <td>88</td>\n",
       "      <td>0.171806</td>\n",
       "      <td>2</td>\n",
       "      <td>0.353015</td>\n",
       "      <td>2.005172e+03</td>\n",
       "      <td>179</td>\n",
       "      <td>...</td>\n",
       "      <td>vault</td>\n",
       "      <td>1.0</td>\n",
       "      <td>NaN</td>\n",
       "      <td>commercial</td>\n",
       "      <td>alongside main road</td>\n",
       "      <td>good</td>\n",
       "      <td>extraordinary</td>\n",
       "      <td>low</td>\n",
       "      <td>NaN</td>\n",
       "      <td>high</td>\n",
       "    </tr>\n",
       "    <tr>\n",
       "      <th>...</th>\n",
       "      <td>...</td>\n",
       "      <td>...</td>\n",
       "      <td>...</td>\n",
       "      <td>...</td>\n",
       "      <td>...</td>\n",
       "      <td>...</td>\n",
       "      <td>...</td>\n",
       "      <td>...</td>\n",
       "      <td>...</td>\n",
       "      <td>...</td>\n",
       "      <td>...</td>\n",
       "      <td>...</td>\n",
       "      <td>...</td>\n",
       "      <td>...</td>\n",
       "      <td>...</td>\n",
       "      <td>...</td>\n",
       "      <td>...</td>\n",
       "      <td>...</td>\n",
       "      <td>...</td>\n",
       "      <td>...</td>\n",
       "      <td>...</td>\n",
       "    </tr>\n",
       "    <tr>\n",
       "      <th>695</th>\n",
       "      <td>65652</td>\n",
       "      <td>34.769927</td>\n",
       "      <td>32.041468</td>\n",
       "      <td>5</td>\n",
       "      <td>39</td>\n",
       "      <td>0.279996</td>\n",
       "      <td>10</td>\n",
       "      <td>0.280203</td>\n",
       "      <td>1.977016e+01</td>\n",
       "      <td>131</td>\n",
       "      <td>...</td>\n",
       "      <td>flat</td>\n",
       "      <td>4.0</td>\n",
       "      <td>1935.0</td>\n",
       "      <td>residential</td>\n",
       "      <td>detachted</td>\n",
       "      <td>bad</td>\n",
       "      <td>high</td>\n",
       "      <td>low</td>\n",
       "      <td>NaN</td>\n",
       "      <td>low</td>\n",
       "    </tr>\n",
       "    <tr>\n",
       "      <th>696</th>\n",
       "      <td>65937</td>\n",
       "      <td>34.770170</td>\n",
       "      <td>32.059200</td>\n",
       "      <td>14</td>\n",
       "      <td>249</td>\n",
       "      <td>0.392666</td>\n",
       "      <td>46</td>\n",
       "      <td>0.299048</td>\n",
       "      <td>4.963656e+00</td>\n",
       "      <td>149</td>\n",
       "      <td>...</td>\n",
       "      <td>flat</td>\n",
       "      <td>4.0</td>\n",
       "      <td>1947.0</td>\n",
       "      <td>commercial, residential</td>\n",
       "      <td>NaN</td>\n",
       "      <td>NaN</td>\n",
       "      <td>NaN</td>\n",
       "      <td>NaN</td>\n",
       "      <td>NaN</td>\n",
       "      <td>low</td>\n",
       "    </tr>\n",
       "    <tr>\n",
       "      <th>697</th>\n",
       "      <td>65938</td>\n",
       "      <td>34.757271</td>\n",
       "      <td>32.054239</td>\n",
       "      <td>8</td>\n",
       "      <td>189</td>\n",
       "      <td>0.405160</td>\n",
       "      <td>44</td>\n",
       "      <td>0.289785</td>\n",
       "      <td>1.200000e-10</td>\n",
       "      <td>139</td>\n",
       "      <td>...</td>\n",
       "      <td>flat</td>\n",
       "      <td>4.0</td>\n",
       "      <td>NaN</td>\n",
       "      <td>school</td>\n",
       "      <td>corner</td>\n",
       "      <td>good</td>\n",
       "      <td>NaN</td>\n",
       "      <td>NaN</td>\n",
       "      <td>NaN</td>\n",
       "      <td>low</td>\n",
       "    </tr>\n",
       "    <tr>\n",
       "      <th>698</th>\n",
       "      <td>205265</td>\n",
       "      <td>34.762882</td>\n",
       "      <td>32.056560</td>\n",
       "      <td>9</td>\n",
       "      <td>167</td>\n",
       "      <td>0.466160</td>\n",
       "      <td>44</td>\n",
       "      <td>0.328646</td>\n",
       "      <td>1.783000e-03</td>\n",
       "      <td>179</td>\n",
       "      <td>...</td>\n",
       "      <td>flat</td>\n",
       "      <td>3.0</td>\n",
       "      <td>1944.0</td>\n",
       "      <td>residential</td>\n",
       "      <td>corner</td>\n",
       "      <td>NaN</td>\n",
       "      <td>high</td>\n",
       "      <td>high</td>\n",
       "      <td>NaN</td>\n",
       "      <td>high</td>\n",
       "    </tr>\n",
       "    <tr>\n",
       "      <th>699</th>\n",
       "      <td>?</td>\n",
       "      <td>34.758355</td>\n",
       "      <td>32.049357</td>\n",
       "      <td>0</td>\n",
       "      <td>0</td>\n",
       "      <td>0.163702</td>\n",
       "      <td>5</td>\n",
       "      <td>0.284663</td>\n",
       "      <td>1.826463e+00</td>\n",
       "      <td>20</td>\n",
       "      <td>...</td>\n",
       "      <td>flat</td>\n",
       "      <td>2.0</td>\n",
       "      <td>1938.0</td>\n",
       "      <td>commercial level</td>\n",
       "      <td>alongside minor road</td>\n",
       "      <td>bad</td>\n",
       "      <td>NaN</td>\n",
       "      <td>NaN</td>\n",
       "      <td>NaN</td>\n",
       "      <td>low</td>\n",
       "    </tr>\n",
       "  </tbody>\n",
       "</table>\n",
       "<p>700 rows × 46 columns</p>\n",
       "</div>"
      ],
      "text/plain": [
       "         id       long        lat  n_bicycle_parking  n_tel_o_fun  \\\n",
       "0      1698  34.763906  32.043899                  0            0   \n",
       "1      1700  34.764112  32.043826                  2           99   \n",
       "2      2110  34.759574  32.056483                  7           83   \n",
       "3      2143  34.747829  32.035631                  8           68   \n",
       "4      2203  34.747280  32.037557                  8           88   \n",
       "..      ...        ...        ...                ...          ...   \n",
       "695   65652  34.769927  32.041468                  5           39   \n",
       "696   65937  34.770170  32.059200                 14          249   \n",
       "697   65938  34.757271  32.054239                  8          189   \n",
       "698  205265  34.762882  32.056560                  9          167   \n",
       "699       ?  34.758355  32.049357                  0            0   \n",
       "\n",
       "     Built density (2d built area / void) in 250 meter radius  n_auto_tel  \\\n",
       "0                                             0.163702                  5   \n",
       "1                                             0.162582                 22   \n",
       "2                                             0.123723                  9   \n",
       "3                                             0.167012                  2   \n",
       "4                                             0.171806                  2   \n",
       "..                                                 ...                ...   \n",
       "695                                           0.279996                 10   \n",
       "696                                           0.392666                 46   \n",
       "697                                           0.405160                 44   \n",
       "698                                           0.466160                 44   \n",
       "699                                           0.163702                  5   \n",
       "\n",
       "     Centrality (gravity) score for each building within 15 min. walk r.  \\\n",
       "0                                             0.284663                     \n",
       "1                                             0.244624                     \n",
       "2                                             0.270562                     \n",
       "3                                             0.364729                     \n",
       "4                                             0.353015                     \n",
       "..                                                 ...                     \n",
       "695                                           0.280203                     \n",
       "696                                           0.299048                     \n",
       "697                                           0.289785                     \n",
       "698                                           0.328646                     \n",
       "699                                           0.284663                     \n",
       "\n",
       "      building's street-facing front Distance from parcel limits (0 line) in meters  \\\n",
       "0                                         1.826463e+00                                \n",
       "1                                         4.498390e-01                                \n",
       "2                                         0.000000e+00                                \n",
       "3                                         2.043400e+00                                \n",
       "4                                         2.005172e+03                                \n",
       "..                                                 ...                                \n",
       "695                                       1.977016e+01                                \n",
       "696                                       4.963656e+00                                \n",
       "697                                       1.200000e-10                                \n",
       "698                                       1.783000e-03                                \n",
       "699                                       1.826463e+00                                \n",
       "\n",
       "     n_parks  ...   roof  n_facades  arrnona_year                 typology  \\\n",
       "0         20  ...  tiles        4.0        1953.0          well house (81)   \n",
       "1        173  ...  tiles        4.0        1940.0          well house (48)   \n",
       "2        236  ...  tiles        2.0           NaN         commercial level   \n",
       "3        193  ...   flat        3.0        1935.0              residential   \n",
       "4        179  ...  vault        1.0           NaN               commercial   \n",
       "..       ...  ...    ...        ...           ...                      ...   \n",
       "695      131  ...   flat        4.0        1935.0              residential   \n",
       "696      149  ...   flat        4.0        1947.0  commercial, residential   \n",
       "697      139  ...   flat        4.0           NaN                   school   \n",
       "698      179  ...   flat        3.0        1944.0              residential   \n",
       "699       20  ...   flat        2.0        1938.0         commercial level   \n",
       "\n",
       "              positioning  physical_condition  architectural_value  \\\n",
       "0    alongside minor road            mediocre                 high   \n",
       "1     alongside main road                 bad        extraordinary   \n",
       "2     alongside main road            mediocre                  NaN   \n",
       "3    alongside minor road                good                 high   \n",
       "4     alongside main road                good        extraordinary   \n",
       "..                    ...                 ...                  ...   \n",
       "695             detachted                 bad                 high   \n",
       "696                   NaN                 NaN                  NaN   \n",
       "697                corner                good                  NaN   \n",
       "698                corner                 NaN                 high   \n",
       "699  alongside minor road                 bad                  NaN   \n",
       "\n",
       "     urban_value  historical_ significance  general evaluation  \n",
       "0            low                       NaN            mediocre  \n",
       "1            low                       NaN                high  \n",
       "2            NaN                       NaN                 low  \n",
       "3            low                       NaN            mediocre  \n",
       "4            low                       NaN                high  \n",
       "..           ...                       ...                 ...  \n",
       "695          low                       NaN                 low  \n",
       "696          NaN                       NaN                 low  \n",
       "697          NaN                       NaN                 low  \n",
       "698         high                       NaN                high  \n",
       "699          NaN                       NaN                 low  \n",
       "\n",
       "[700 rows x 46 columns]"
      ]
     },
     "execution_count": 48,
     "metadata": {},
     "output_type": "execute_result"
    }
   ],
   "source": [
    "df"
   ]
  },
  {
   "cell_type": "code",
   "execution_count": 49,
   "id": "helpful-afghanistan",
   "metadata": {
    "tags": []
   },
   "outputs": [
    {
     "data": {
      "text/plain": [
       "id                                                                                 object\n",
       "long                                                                              float64\n",
       "lat                                                                               float64\n",
       "n_bicycle_parking                                                                   int64\n",
       "n_tel_o_fun                                                                         int64\n",
       "Built density (2d built area / void) in 250 meter radius                          float64\n",
       "n_auto_tel                                                                          int64\n",
       "Centrality (gravity) score for each building within 15 min. walk r.               float64\n",
       " building's street-facing front Distance from parcel limits (0 line) in meters    float64\n",
       "n_parks                                                                             int64\n",
       "Building's height (simple)                                                        float64\n",
       "Historical buildings within 15 min. walk                                            int64\n",
       "Parcel size (square meters)                                                         int64\n",
       "n_playgrounds                                                                       int64\n",
       "tsunami_flood_line                                                                  int64\n",
       "Building's volume in cubic meter                                                  float64\n",
       "Amount of walkalbe Religious buildings (15 min.)                                    int64\n",
       "Amount of walkable street workout equipment (15 min.)                               int64\n",
       "Distance from the Sea in meteres                                                  float64\n",
       "Distance to nearest bicycle route in meters                                       float64\n",
       "Amount of gas stations in 1k radius                                                 int64\n",
       "Geo point via Flicker                                                               int64\n",
       "Amount of walkable hospitals and clinics 15. m radius                               int64\n",
       "n_kindergartens                                                                     int64\n",
       "primary                                                                            object\n",
       "secondary                                                                          object\n",
       "street                                                                             object\n",
       "number                                                                             object\n",
       "block                                                                             float64\n",
       "parcel                                                                             object\n",
       "complex                                                                            object\n",
       "city_building_plan                                                                 object\n",
       "technology                                                                         object\n",
       "status                                                                             object\n",
       "n_floors                                                                          float64\n",
       "finishing_materials                                                                object\n",
       "roof                                                                               object\n",
       "n_facades                                                                         float64\n",
       "arrnona_year                                                                      float64\n",
       "typology                                                                           object\n",
       "positioning                                                                        object\n",
       "physical_condition                                                                 object\n",
       "architectural_value                                                                object\n",
       "urban_value                                                                        object\n",
       "historical_ significance                                                           object\n",
       "general evaluation                                                                 object\n",
       "dtype: object"
      ]
     },
     "execution_count": 49,
     "metadata": {},
     "output_type": "execute_result"
    }
   ],
   "source": [
    "df.dtypes"
   ]
  },
  {
   "cell_type": "code",
   "execution_count": 50,
   "id": "valuable-guide",
   "metadata": {
    "tags": []
   },
   "outputs": [
    {
     "data": {
      "text/html": [
       "<div>\n",
       "<style scoped>\n",
       "    .dataframe tbody tr th:only-of-type {\n",
       "        vertical-align: middle;\n",
       "    }\n",
       "\n",
       "    .dataframe tbody tr th {\n",
       "        vertical-align: top;\n",
       "    }\n",
       "\n",
       "    .dataframe thead th {\n",
       "        text-align: right;\n",
       "    }\n",
       "</style>\n",
       "<table border=\"1\" class=\"dataframe\">\n",
       "  <thead>\n",
       "    <tr style=\"text-align: right;\">\n",
       "      <th></th>\n",
       "      <th>long</th>\n",
       "      <th>lat</th>\n",
       "      <th>n_bicycle_parking</th>\n",
       "      <th>n_tel_o_fun</th>\n",
       "      <th>Built density (2d built area / void) in 250 meter radius</th>\n",
       "      <th>n_auto_tel</th>\n",
       "      <th>Centrality (gravity) score for each building within 15 min. walk r.</th>\n",
       "      <th>building's street-facing front Distance from parcel limits (0 line) in meters</th>\n",
       "      <th>n_parks</th>\n",
       "      <th>Building's height (simple)</th>\n",
       "      <th>...</th>\n",
       "      <th>Distance from the Sea in meteres</th>\n",
       "      <th>Distance to nearest bicycle route in meters</th>\n",
       "      <th>Amount of gas stations in 1k radius</th>\n",
       "      <th>Geo point via Flicker</th>\n",
       "      <th>Amount of walkable hospitals and clinics 15. m radius</th>\n",
       "      <th>n_kindergartens</th>\n",
       "      <th>block</th>\n",
       "      <th>n_floors</th>\n",
       "      <th>n_facades</th>\n",
       "      <th>arrnona_year</th>\n",
       "    </tr>\n",
       "  </thead>\n",
       "  <tbody>\n",
       "    <tr>\n",
       "      <th>0</th>\n",
       "      <td>34.763906</td>\n",
       "      <td>32.043899</td>\n",
       "      <td>0</td>\n",
       "      <td>0</td>\n",
       "      <td>0.163702</td>\n",
       "      <td>5</td>\n",
       "      <td>0.284663</td>\n",
       "      <td>1.826463e+00</td>\n",
       "      <td>20</td>\n",
       "      <td>7.84</td>\n",
       "      <td>...</td>\n",
       "      <td>1624.112200</td>\n",
       "      <td>840.408268</td>\n",
       "      <td>1</td>\n",
       "      <td>372</td>\n",
       "      <td>0</td>\n",
       "      <td>1</td>\n",
       "      <td>7023.0</td>\n",
       "      <td>3.0</td>\n",
       "      <td>4.0</td>\n",
       "      <td>1953.0</td>\n",
       "    </tr>\n",
       "    <tr>\n",
       "      <th>1</th>\n",
       "      <td>34.764112</td>\n",
       "      <td>32.043826</td>\n",
       "      <td>2</td>\n",
       "      <td>99</td>\n",
       "      <td>0.162582</td>\n",
       "      <td>22</td>\n",
       "      <td>0.244624</td>\n",
       "      <td>4.498390e-01</td>\n",
       "      <td>173</td>\n",
       "      <td>10.91</td>\n",
       "      <td>...</td>\n",
       "      <td>1640.330240</td>\n",
       "      <td>831.516629</td>\n",
       "      <td>0</td>\n",
       "      <td>0</td>\n",
       "      <td>4</td>\n",
       "      <td>23</td>\n",
       "      <td>7023.0</td>\n",
       "      <td>3.0</td>\n",
       "      <td>4.0</td>\n",
       "      <td>1940.0</td>\n",
       "    </tr>\n",
       "    <tr>\n",
       "      <th>2</th>\n",
       "      <td>34.759574</td>\n",
       "      <td>32.056483</td>\n",
       "      <td>7</td>\n",
       "      <td>83</td>\n",
       "      <td>0.123723</td>\n",
       "      <td>9</td>\n",
       "      <td>0.270562</td>\n",
       "      <td>0.000000e+00</td>\n",
       "      <td>236</td>\n",
       "      <td>9.35</td>\n",
       "      <td>...</td>\n",
       "      <td>1005.625262</td>\n",
       "      <td>1660.117843</td>\n",
       "      <td>6</td>\n",
       "      <td>396</td>\n",
       "      <td>7</td>\n",
       "      <td>25</td>\n",
       "      <td>7017.0</td>\n",
       "      <td>1.0</td>\n",
       "      <td>2.0</td>\n",
       "      <td>NaN</td>\n",
       "    </tr>\n",
       "    <tr>\n",
       "      <th>3</th>\n",
       "      <td>34.747829</td>\n",
       "      <td>32.035631</td>\n",
       "      <td>8</td>\n",
       "      <td>68</td>\n",
       "      <td>0.167012</td>\n",
       "      <td>2</td>\n",
       "      <td>0.364729</td>\n",
       "      <td>2.043400e+00</td>\n",
       "      <td>193</td>\n",
       "      <td>21.42</td>\n",
       "      <td>...</td>\n",
       "      <td>349.219875</td>\n",
       "      <td>2108.914354</td>\n",
       "      <td>8</td>\n",
       "      <td>180</td>\n",
       "      <td>6</td>\n",
       "      <td>17</td>\n",
       "      <td>7023.0</td>\n",
       "      <td>3.0</td>\n",
       "      <td>3.0</td>\n",
       "      <td>1935.0</td>\n",
       "    </tr>\n",
       "    <tr>\n",
       "      <th>4</th>\n",
       "      <td>34.747280</td>\n",
       "      <td>32.037557</td>\n",
       "      <td>8</td>\n",
       "      <td>88</td>\n",
       "      <td>0.171806</td>\n",
       "      <td>2</td>\n",
       "      <td>0.353015</td>\n",
       "      <td>2.005172e+03</td>\n",
       "      <td>179</td>\n",
       "      <td>18.18</td>\n",
       "      <td>...</td>\n",
       "      <td>350.104553</td>\n",
       "      <td>1949.799785</td>\n",
       "      <td>6</td>\n",
       "      <td>396</td>\n",
       "      <td>5</td>\n",
       "      <td>14</td>\n",
       "      <td>9005.0</td>\n",
       "      <td>2.0</td>\n",
       "      <td>1.0</td>\n",
       "      <td>NaN</td>\n",
       "    </tr>\n",
       "    <tr>\n",
       "      <th>...</th>\n",
       "      <td>...</td>\n",
       "      <td>...</td>\n",
       "      <td>...</td>\n",
       "      <td>...</td>\n",
       "      <td>...</td>\n",
       "      <td>...</td>\n",
       "      <td>...</td>\n",
       "      <td>...</td>\n",
       "      <td>...</td>\n",
       "      <td>...</td>\n",
       "      <td>...</td>\n",
       "      <td>...</td>\n",
       "      <td>...</td>\n",
       "      <td>...</td>\n",
       "      <td>...</td>\n",
       "      <td>...</td>\n",
       "      <td>...</td>\n",
       "      <td>...</td>\n",
       "      <td>...</td>\n",
       "      <td>...</td>\n",
       "      <td>...</td>\n",
       "    </tr>\n",
       "    <tr>\n",
       "      <th>695</th>\n",
       "      <td>34.769927</td>\n",
       "      <td>32.041468</td>\n",
       "      <td>5</td>\n",
       "      <td>39</td>\n",
       "      <td>0.279996</td>\n",
       "      <td>10</td>\n",
       "      <td>0.280203</td>\n",
       "      <td>1.977016e+01</td>\n",
       "      <td>131</td>\n",
       "      <td>10.57</td>\n",
       "      <td>...</td>\n",
       "      <td>2127.083640</td>\n",
       "      <td>1183.272165</td>\n",
       "      <td>3</td>\n",
       "      <td>42</td>\n",
       "      <td>2</td>\n",
       "      <td>14</td>\n",
       "      <td>7054.0</td>\n",
       "      <td>3.0</td>\n",
       "      <td>4.0</td>\n",
       "      <td>1935.0</td>\n",
       "    </tr>\n",
       "    <tr>\n",
       "      <th>696</th>\n",
       "      <td>34.770170</td>\n",
       "      <td>32.059200</td>\n",
       "      <td>14</td>\n",
       "      <td>249</td>\n",
       "      <td>0.392666</td>\n",
       "      <td>46</td>\n",
       "      <td>0.299048</td>\n",
       "      <td>4.963656e+00</td>\n",
       "      <td>149</td>\n",
       "      <td>22.01</td>\n",
       "      <td>...</td>\n",
       "      <td>510.805234</td>\n",
       "      <td>517.820441</td>\n",
       "      <td>0</td>\n",
       "      <td>306</td>\n",
       "      <td>3</td>\n",
       "      <td>19</td>\n",
       "      <td>7023.0</td>\n",
       "      <td>3.0</td>\n",
       "      <td>4.0</td>\n",
       "      <td>1947.0</td>\n",
       "    </tr>\n",
       "    <tr>\n",
       "      <th>697</th>\n",
       "      <td>34.757271</td>\n",
       "      <td>32.054239</td>\n",
       "      <td>8</td>\n",
       "      <td>189</td>\n",
       "      <td>0.405160</td>\n",
       "      <td>44</td>\n",
       "      <td>0.289785</td>\n",
       "      <td>1.200000e-10</td>\n",
       "      <td>139</td>\n",
       "      <td>22.19</td>\n",
       "      <td>...</td>\n",
       "      <td>524.167714</td>\n",
       "      <td>505.240438</td>\n",
       "      <td>6</td>\n",
       "      <td>396</td>\n",
       "      <td>3</td>\n",
       "      <td>17</td>\n",
       "      <td>7023.0</td>\n",
       "      <td>2.0</td>\n",
       "      <td>4.0</td>\n",
       "      <td>NaN</td>\n",
       "    </tr>\n",
       "    <tr>\n",
       "      <th>698</th>\n",
       "      <td>34.762882</td>\n",
       "      <td>32.056560</td>\n",
       "      <td>9</td>\n",
       "      <td>167</td>\n",
       "      <td>0.466160</td>\n",
       "      <td>44</td>\n",
       "      <td>0.328646</td>\n",
       "      <td>1.783000e-03</td>\n",
       "      <td>179</td>\n",
       "      <td>21.01</td>\n",
       "      <td>...</td>\n",
       "      <td>555.908392</td>\n",
       "      <td>51.569983</td>\n",
       "      <td>5</td>\n",
       "      <td>396</td>\n",
       "      <td>7</td>\n",
       "      <td>12</td>\n",
       "      <td>7076.0</td>\n",
       "      <td>2.0</td>\n",
       "      <td>3.0</td>\n",
       "      <td>1944.0</td>\n",
       "    </tr>\n",
       "    <tr>\n",
       "      <th>699</th>\n",
       "      <td>34.758355</td>\n",
       "      <td>32.049357</td>\n",
       "      <td>0</td>\n",
       "      <td>0</td>\n",
       "      <td>0.163702</td>\n",
       "      <td>5</td>\n",
       "      <td>0.284663</td>\n",
       "      <td>1.826463e+00</td>\n",
       "      <td>20</td>\n",
       "      <td>7.84</td>\n",
       "      <td>...</td>\n",
       "      <td>1624.112200</td>\n",
       "      <td>840.408268</td>\n",
       "      <td>1</td>\n",
       "      <td>372</td>\n",
       "      <td>0</td>\n",
       "      <td>1</td>\n",
       "      <td>6930.0</td>\n",
       "      <td>2.0</td>\n",
       "      <td>2.0</td>\n",
       "      <td>1938.0</td>\n",
       "    </tr>\n",
       "  </tbody>\n",
       "</table>\n",
       "<p>700 rows × 27 columns</p>\n",
       "</div>"
      ],
      "text/plain": [
       "          long        lat  n_bicycle_parking  n_tel_o_fun  \\\n",
       "0    34.763906  32.043899                  0            0   \n",
       "1    34.764112  32.043826                  2           99   \n",
       "2    34.759574  32.056483                  7           83   \n",
       "3    34.747829  32.035631                  8           68   \n",
       "4    34.747280  32.037557                  8           88   \n",
       "..         ...        ...                ...          ...   \n",
       "695  34.769927  32.041468                  5           39   \n",
       "696  34.770170  32.059200                 14          249   \n",
       "697  34.757271  32.054239                  8          189   \n",
       "698  34.762882  32.056560                  9          167   \n",
       "699  34.758355  32.049357                  0            0   \n",
       "\n",
       "     Built density (2d built area / void) in 250 meter radius  n_auto_tel  \\\n",
       "0                                             0.163702                  5   \n",
       "1                                             0.162582                 22   \n",
       "2                                             0.123723                  9   \n",
       "3                                             0.167012                  2   \n",
       "4                                             0.171806                  2   \n",
       "..                                                 ...                ...   \n",
       "695                                           0.279996                 10   \n",
       "696                                           0.392666                 46   \n",
       "697                                           0.405160                 44   \n",
       "698                                           0.466160                 44   \n",
       "699                                           0.163702                  5   \n",
       "\n",
       "     Centrality (gravity) score for each building within 15 min. walk r.  \\\n",
       "0                                             0.284663                     \n",
       "1                                             0.244624                     \n",
       "2                                             0.270562                     \n",
       "3                                             0.364729                     \n",
       "4                                             0.353015                     \n",
       "..                                                 ...                     \n",
       "695                                           0.280203                     \n",
       "696                                           0.299048                     \n",
       "697                                           0.289785                     \n",
       "698                                           0.328646                     \n",
       "699                                           0.284663                     \n",
       "\n",
       "      building's street-facing front Distance from parcel limits (0 line) in meters  \\\n",
       "0                                         1.826463e+00                                \n",
       "1                                         4.498390e-01                                \n",
       "2                                         0.000000e+00                                \n",
       "3                                         2.043400e+00                                \n",
       "4                                         2.005172e+03                                \n",
       "..                                                 ...                                \n",
       "695                                       1.977016e+01                                \n",
       "696                                       4.963656e+00                                \n",
       "697                                       1.200000e-10                                \n",
       "698                                       1.783000e-03                                \n",
       "699                                       1.826463e+00                                \n",
       "\n",
       "     n_parks  Building's height (simple)  ...  \\\n",
       "0         20                        7.84  ...   \n",
       "1        173                       10.91  ...   \n",
       "2        236                        9.35  ...   \n",
       "3        193                       21.42  ...   \n",
       "4        179                       18.18  ...   \n",
       "..       ...                         ...  ...   \n",
       "695      131                       10.57  ...   \n",
       "696      149                       22.01  ...   \n",
       "697      139                       22.19  ...   \n",
       "698      179                       21.01  ...   \n",
       "699       20                        7.84  ...   \n",
       "\n",
       "     Distance from the Sea in meteres  \\\n",
       "0                         1624.112200   \n",
       "1                         1640.330240   \n",
       "2                         1005.625262   \n",
       "3                          349.219875   \n",
       "4                          350.104553   \n",
       "..                                ...   \n",
       "695                       2127.083640   \n",
       "696                        510.805234   \n",
       "697                        524.167714   \n",
       "698                        555.908392   \n",
       "699                       1624.112200   \n",
       "\n",
       "     Distance to nearest bicycle route in meters  \\\n",
       "0                                     840.408268   \n",
       "1                                     831.516629   \n",
       "2                                    1660.117843   \n",
       "3                                    2108.914354   \n",
       "4                                    1949.799785   \n",
       "..                                           ...   \n",
       "695                                  1183.272165   \n",
       "696                                   517.820441   \n",
       "697                                   505.240438   \n",
       "698                                    51.569983   \n",
       "699                                   840.408268   \n",
       "\n",
       "     Amount of gas stations in 1k radius  Geo point via Flicker   \\\n",
       "0                                      1                     372   \n",
       "1                                      0                       0   \n",
       "2                                      6                     396   \n",
       "3                                      8                     180   \n",
       "4                                      6                     396   \n",
       "..                                   ...                     ...   \n",
       "695                                    3                      42   \n",
       "696                                    0                     306   \n",
       "697                                    6                     396   \n",
       "698                                    5                     396   \n",
       "699                                    1                     372   \n",
       "\n",
       "     Amount of walkable hospitals and clinics 15. m radius  n_kindergartens  \\\n",
       "0                                                    0                    1   \n",
       "1                                                    4                   23   \n",
       "2                                                    7                   25   \n",
       "3                                                    6                   17   \n",
       "4                                                    5                   14   \n",
       "..                                                 ...                  ...   \n",
       "695                                                  2                   14   \n",
       "696                                                  3                   19   \n",
       "697                                                  3                   17   \n",
       "698                                                  7                   12   \n",
       "699                                                  0                    1   \n",
       "\n",
       "      block  n_floors  n_facades  arrnona_year  \n",
       "0    7023.0       3.0        4.0        1953.0  \n",
       "1    7023.0       3.0        4.0        1940.0  \n",
       "2    7017.0       1.0        2.0           NaN  \n",
       "3    7023.0       3.0        3.0        1935.0  \n",
       "4    9005.0       2.0        1.0           NaN  \n",
       "..      ...       ...        ...           ...  \n",
       "695  7054.0       3.0        4.0        1935.0  \n",
       "696  7023.0       3.0        4.0        1947.0  \n",
       "697  7023.0       2.0        4.0           NaN  \n",
       "698  7076.0       2.0        3.0        1944.0  \n",
       "699  6930.0       2.0        2.0        1938.0  \n",
       "\n",
       "[700 rows x 27 columns]"
      ]
     },
     "execution_count": 50,
     "metadata": {},
     "output_type": "execute_result"
    }
   ],
   "source": [
    "df.select_dtypes(np.number)"
   ]
  },
  {
   "cell_type": "code",
   "execution_count": 51,
   "id": "local-handling",
   "metadata": {
    "tags": []
   },
   "outputs": [
    {
     "data": {
      "text/html": [
       "<div>\n",
       "<style scoped>\n",
       "    .dataframe tbody tr th:only-of-type {\n",
       "        vertical-align: middle;\n",
       "    }\n",
       "\n",
       "    .dataframe tbody tr th {\n",
       "        vertical-align: top;\n",
       "    }\n",
       "\n",
       "    .dataframe thead th {\n",
       "        text-align: right;\n",
       "    }\n",
       "</style>\n",
       "<table border=\"1\" class=\"dataframe\">\n",
       "  <thead>\n",
       "    <tr style=\"text-align: right;\">\n",
       "      <th></th>\n",
       "    </tr>\n",
       "  </thead>\n",
       "  <tbody>\n",
       "    <tr>\n",
       "      <th>0</th>\n",
       "    </tr>\n",
       "    <tr>\n",
       "      <th>1</th>\n",
       "    </tr>\n",
       "    <tr>\n",
       "      <th>2</th>\n",
       "    </tr>\n",
       "    <tr>\n",
       "      <th>3</th>\n",
       "    </tr>\n",
       "    <tr>\n",
       "      <th>4</th>\n",
       "    </tr>\n",
       "    <tr>\n",
       "      <th>...</th>\n",
       "    </tr>\n",
       "    <tr>\n",
       "      <th>695</th>\n",
       "    </tr>\n",
       "    <tr>\n",
       "      <th>696</th>\n",
       "    </tr>\n",
       "    <tr>\n",
       "      <th>697</th>\n",
       "    </tr>\n",
       "    <tr>\n",
       "      <th>698</th>\n",
       "    </tr>\n",
       "    <tr>\n",
       "      <th>699</th>\n",
       "    </tr>\n",
       "  </tbody>\n",
       "</table>\n",
       "<p>700 rows × 0 columns</p>\n",
       "</div>"
      ],
      "text/plain": [
       "Empty DataFrame\n",
       "Columns: []\n",
       "Index: [0, 1, 2, 3, 4, 5, 6, 7, 8, 9, 10, 11, 12, 13, 14, 15, 16, 17, 18, 19, 20, 21, 22, 23, 24, 25, 26, 27, 28, 29, 30, 31, 32, 33, 34, 35, 36, 37, 38, 39, 40, 41, 42, 43, 44, 45, 46, 47, 48, 49, 50, 51, 52, 53, 54, 55, 56, 57, 58, 59, 60, 61, 62, 63, 64, 65, 66, 67, 68, 69, 70, 71, 72, 73, 74, 75, 76, 77, 78, 79, 80, 81, 82, 83, 84, 85, 86, 87, 88, 89, 90, 91, 92, 93, 94, 95, 96, 97, 98, 99, ...]\n",
       "\n",
       "[700 rows x 0 columns]"
      ]
     },
     "execution_count": 51,
     "metadata": {},
     "output_type": "execute_result"
    }
   ],
   "source": [
    "df.select_dtypes('category')"
   ]
  },
  {
   "cell_type": "markdown",
   "id": "normal-asset",
   "metadata": {},
   "source": [
    "## Import images"
   ]
  },
  {
   "cell_type": "markdown",
   "id": "chicken-payday",
   "metadata": {},
   "source": [
    "keep building id column from excel"
   ]
  },
  {
   "cell_type": "code",
   "execution_count": 52,
   "id": "concerned-flashing",
   "metadata": {},
   "outputs": [],
   "source": [
    "id_lst = df['id']"
   ]
  },
  {
   "cell_type": "code",
   "execution_count": 102,
   "id": "hazardous-vertical",
   "metadata": {},
   "outputs": [],
   "source": [
    "strets_lst = df['street']\n",
    "st_num_lst = df['number']"
   ]
  },
  {
   "cell_type": "code",
   "execution_count": 121,
   "id": "entertaining-brake",
   "metadata": {
    "tags": []
   },
   "outputs": [
    {
     "name": "stdout",
     "output_type": "stream",
     "text": [
      "NOTICE the street name is a number\n",
      "NOTICE the street name is a number\n"
     ]
    }
   ],
   "source": [
    "address_lst = [] # create empty\n",
    "for x, i in enumerate(strets_lst):\n",
    "    if isinstance(i, (int, float, complex)) and not isinstance(i, bool):\n",
    "        print('NOTICE the street name is a number')\n",
    "        # don't strip the string\n",
    "        #str(i) + ' ' + str(st_num_lst[x]).strip()\n",
    "        address_lst.append(str(i) + ' ' + str(st_num_lst[x]).strip())\n",
    "    else:\n",
    "        #str(i.strip()) + ' ' + str(st_num_lst[x]).strip()\n",
    "        address_lst.append(str(i.strip()) + ' ' + str(st_num_lst[x]).strip())\n",
    "    "
   ]
  },
  {
   "cell_type": "code",
   "execution_count": 129,
   "id": "similar-consequence",
   "metadata": {},
   "outputs": [],
   "source": [
    "parcel_lst = df['parcel']\n",
    "section_lst = df['block']\n",
    "complex_lst = df['complex']\n",
    "status_lst = df['status']\n",
    "bld_city_plan_lst = df['city_building_plan']\n",
    "lat_lst = df['lat']\n",
    "lon_lst = df['long']"
   ]
  },
  {
   "cell_type": "code",
   "execution_count": 53,
   "id": "selective-exhaust",
   "metadata": {},
   "outputs": [],
   "source": [
    "id_df = pd.DataFrame(id_lst)"
   ]
  },
  {
   "cell_type": "markdown",
   "id": "dedicated-principal",
   "metadata": {},
   "source": [
    "Load files from the photo folder"
   ]
  },
  {
   "cell_type": "code",
   "execution_count": 54,
   "id": "tropical-walnut",
   "metadata": {},
   "outputs": [],
   "source": [
    "phot_lst = os.listdir('../photos') # returns list"
   ]
  },
  {
   "cell_type": "code",
   "execution_count": 55,
   "id": "qualified-rental",
   "metadata": {},
   "outputs": [
    {
     "data": {
      "text/plain": [
       "764"
      ]
     },
     "execution_count": 55,
     "metadata": {},
     "output_type": "execute_result"
    }
   ],
   "source": [
    "len(phot_lst)"
   ]
  },
  {
   "cell_type": "code",
   "execution_count": 56,
   "id": "african-patrol",
   "metadata": {},
   "outputs": [],
   "source": [
    "id_df['img_src'] = '' # create empty column to add data to"
   ]
  },
  {
   "cell_type": "code",
   "execution_count": 57,
   "id": "intellectual-nicholas",
   "metadata": {
    "collapsed": true,
    "jupyter": {
     "outputs_hidden": true
    },
    "tags": []
   },
   "outputs": [
    {
     "data": {
      "text/plain": [
       "['אאורבך 8-בר-הופמן-14_8840.jpg',\n",
       " 'אאורבך-4(2)_12146.jpg',\n",
       " 'אאורבך-4_12146.jpg',\n",
       " 'אאורבך-5_9412.jpg',\n",
       " 'אאורבך-6_8596.jpg',\n",
       " 'אאורבך-7_12928.jpg',\n",
       " 'אבינרי יצחק 8-(חזית אחורית)_7563.jpg',\n",
       " 'אבינרי-יצחק-4-4-,א׳חביבי-אמיל-3_12704.jpg',\n",
       " 'אבינרי-יצחק-6_2598.jpg',\n",
       " 'אבן-רשד-12-בית-רעים-3-מתוקן_11663.jpg',\n",
       " 'אבן-רשד-12-בית-רעים-3_11663.jpg',\n",
       " 'אוז׳שקובה-1-פושקין-9-דנטה-6_7035.jpg',\n",
       " 'אוז׳שקובה-2-פושקין-11-(חזית)_2538.jpg',\n",
       " 'אוז׳שקובה-2-פינת-פושקין-11_2538.jpg',\n",
       " 'אוז׳שקובה-4_2556.jpg',\n",
       " 'אוריאל-אקוסטה-11_2334.jpg',\n",
       " 'אוריאל-אקוסטה-14-12_7028.jpg',\n",
       " 'אוריאל-אקוסטה-15(1)_2518.jpg',\n",
       " 'אוריאל-אקוסטה-15_2518.jpg',\n",
       " 'אוריאל-אקוסטה-16_6383.jpg',\n",
       " 'אוריאל-אקוסטה-17_2407.jpg',\n",
       " 'אוריאל-אקוסטה-18-פרנקל-ידידיה-31(2)_6399.jpg',\n",
       " 'אוריאל-אקוסטה-18-פרנקל-ידידיה-31_6399.jpg',\n",
       " 'אוריאל-אקוסטה-20-פרנקל-ידידיה-33(2)_6403.jpg',\n",
       " 'אוריאל-אקוסטה-20-פרנקל-ידידיה-33_6403.jpg',\n",
       " 'אוריאל-אקוסטה-9_12342.jpg',\n",
       " 'אחילוף-3_8543.jpg',\n",
       " 'איילת-השחר-10-ראש-פינה-28_2833.jpg',\n",
       " 'איילת-השחר-7-ראש פינה-26_2983.jpg',\n",
       " 'אילת-10_2498.jpg',\n",
       " 'אילת-14-אוארבך-1_12911.jpg',\n",
       " 'אילת-16_2577.jpg',\n",
       " 'אילת-32-פברגט-אנריקה-1_8391.jpg',\n",
       " 'אילת-36_12295.jpg',\n",
       " 'אילת-38_12297.jpg',\n",
       " 'אילת-40-קומפורט-2_8761.jpg',\n",
       " 'אילת-42-קומפורט-1_8610.jpg',\n",
       " 'אילת-44_40932.jpg',\n",
       " 'אילת-46_7170.jpg',\n",
       " 'אילת-50-אברבנאל-2_2954.jpg',\n",
       " 'אילת-52-54-אברבנאל-1_2369.jpg',\n",
       " 'אילת-8-ניצנה-7_7542.jpg',\n",
       " 'אילת-השחר-10-ראש-פינה-28(2)_2833.jpg',\n",
       " 'אליעזר-בן-הורקונוס-4_6955.jpg',\n",
       " 'אלעז- בן-יוסי-2-חנניה-בן-דוסא-27_2309.jpg',\n",
       " 'אסף-הרופא-40-42_2325.jpg',\n",
       " 'אפק-6-תרצה-8-סגולה-5_12018.jpg',\n",
       " 'ארליך-16_10771.jpg',\n",
       " 'ארליך-18_6458.jpg',\n",
       " 'ארליך-20_21657.jpg',\n",
       " 'ארליך-21-שבטי-ישראל-49_2599.jpg',\n",
       " 'ארליך-27_6481.jpg',\n",
       " 'בגין מנחם 10-הגדוד העברי(2)-1_2241.jpg',\n",
       " 'בגין מנחם 10-הגדוד העברי-1_2241.jpg',\n",
       " 'בגין מנחם 12-הגדוד העברי-3_2260.jpg',\n",
       " 'בגין-מנחם 12-הגדוד-העברי-3(2)_2260.jpg',\n",
       " 'בית אשל-11-בן-עזריה-אלעזר-6_41512.jpg',\n",
       " 'בית-אשל 3-בן-יאיר-פנחס-10_8836.jpg',\n",
       " 'בית-אשל-12_50980.jpg',\n",
       " 'בית-אשל-14-בן-יאיר-פנחס-12_8834.jpg',\n",
       " 'בית-אשל-19_41028.jpg',\n",
       " 'בית-אשל-1_12040.jpg',\n",
       " 'בית-אשל-21_41026.jpg',\n",
       " 'בית-אשל-23_2203.jpg',\n",
       " 'בית-אשל-25-חנניה-בן-דוסא-28_6899.jpg',\n",
       " 'בית-אשל-26_12890.jpg',\n",
       " 'בית-אשל-28_8843.jpg',\n",
       " 'בית-אשל-31_52708.jpg',\n",
       " 'בית-אשל-38_8838.jpg',\n",
       " 'בית-אשל-4-10_40942.jpg',\n",
       " 'בית-אשל-5-שמעון-הצדיק-22-בן-יאיר-פנחס-7_12461.jpg',\n",
       " 'בית-אשל-7-שמעון-הצדיק-31_8837.jpg',\n",
       " 'בן-אחיטוב-1-3-שמואל-בן-עדיה-7_10375.jpg',\n",
       " 'בן-אחיטוב-13-החרוב-6_11663.jpg',\n",
       " 'בן-אחיטוב-14_2408.jpg',\n",
       " 'בן-אחיטוב-17_2886.jpg',\n",
       " 'בן-אחיטוב-22-24_12346.jpg',\n",
       " 'בן-זומא-שמעון-2-חנניא-בן-דוסא-19_12899.jpg',\n",
       " 'בן-יאיר-פנחס-3-שמעון-הצדיק-16(2)_7186.jpg',\n",
       " 'בן-יאיר-פנחס-3-שמעון-הצדיק-16_7186.jpg',\n",
       " 'בן-יאיר-פנחס-5-שמעון-הצדיק-20-יוהשע-בן-פרחיה-6_2803.jpg',\n",
       " 'בן-עזריה-13-שמעון-בן-גמליאל-4_9508.jpg',\n",
       " 'בן-צבי-5_8842.JPG',\n",
       " 'בן-שטח-4_7194.jpg',\n",
       " 'בנבנישתי-18-דרך-שלמה-69_8987.jpg',\n",
       " 'בנטוב מרדכי-14_11825.jpg',\n",
       " 'בעל-הטורים-5_52732.jpg',\n",
       " 'בר-הופמו-17_8839.jpg',\n",
       " 'בר-הופמן-11_8841.jpg',\n",
       " 'בר-הופמן-13-אוארבך-10(2)_12912.jpg',\n",
       " 'בר-הופמן-13-אוארבך-10_12912.jpg',\n",
       " 'בר-הופמן-15_8917.jpg',\n",
       " 'בר-הופמן-17_8839.jpg',\n",
       " 'בר-הופמן-17א_41441.jpg',\n",
       " 'בר-הופמן-9_10401.jpg',\n",
       " 'ברגר-אליזבת-12_11831.jpg',\n",
       " 'ברנדט-וילי-3_11814.jpg',\n",
       " 'גורקי-12_9372.jpg',\n",
       " 'גורקי-4_8752.jpg',\n",
       " 'גורקי-6-פושקין-20-(חזית)_51009.jpg',\n",
       " 'גורקי-6-פושקין-20_51009.jpg',\n",
       " 'דה-רוטשילד-בת-שבע-2_10615.jpg',\n",
       " 'דה-רוטשילד-בת-שבע-3_10588.jpg',\n",
       " 'דונלו-הרופא-24_11843.jpg',\n",
       " 'דנטה-17_6799.jpg',\n",
       " 'דני-קיי-2-תג׳ר-ציונה-9_8829.jpg',\n",
       " 'דני-קיי-8_7330.jpg',\n",
       " 'דני-קיי-קמינסקי-6-10(2)_2823.jpg',\n",
       " 'דני-קיי-קמינסקי-6-10_2823.jpg',\n",
       " 'דרור-9(2)_12910.jpg',\n",
       " 'דרור-9_12910.jpg',\n",
       " 'דרך-בן-צבי-68-70_10437.jpg',\n",
       " 'דרך-בן-צבי-78_9052.jpg',\n",
       " 'דרך-יפו-24-הקישון-2_12361.jpg',\n",
       " 'דרך-שלמה-63-בן-עטר-12_10421.jpg',\n",
       " 'דרך-שלמה-77_10318.jpg',\n",
       " 'דרך-שלמה-81-הקישון-87_50439.jpg',\n",
       " 'דרך-שלמה-83_50815.jpg',\n",
       " 'ד״ר-ולבה-יואל-3_12289.jpg',\n",
       " 'האגוז-17-שלוחות-1-הצרי-12-החילוף-22_6789.jpg',\n",
       " 'האתרוג-16_6913.jpg',\n",
       " 'האתרוג-24-יאנוש-קורצאק-7-בית-פלט-37_2624.jpg',\n",
       " 'הגמנסיה העברית 8-יועזר איש הבירה 2-4- 3338 1_8826.jpg',\n",
       " 'הגמנסיה-העברית 4-6-יועזר-איש-הבירה-5_12257.jpg',\n",
       " 'הגמנסיה-העברית-5-יועזר-איש-הבירה-7-המלך-חירם-4_12861.jpg',\n",
       " 'הגמנסיה-העברית-7-יועזר-איש-הבירה 6-יהושוע-בן-פרחיה-3-בן-יאיר-פנחס-6(2)_8955.jpg',\n",
       " 'הגמנסיה-העברית-7-יועזר-איש-הבירה 6-יהושוע-בן-פרחיה-3-בן-יאיר-פנחס-6_8955.jpg',\n",
       " 'הגר״א-36-ראש-פינ-25_11660.jpg',\n",
       " 'הדואר 9-שדרות-ירושלים-12-ליענר-שלמה-1-שמי-יחיאל-2_7375.jpg',\n",
       " 'הדואר-10(2)_8985.jpg',\n",
       " 'הדואר-10_8985.jpg',\n",
       " 'הדואר-12-14_6277.jpg',\n",
       " 'הדואר-2-רזיאל-דוד-13_9269.jpg',\n",
       " 'הדואר-4_7282.jpg',\n",
       " 'הדואר-6_40883.jpg',\n",
       " 'הדואר-8_7128.jpg',\n",
       " 'הדולפין-11_6748.jpg',\n",
       " 'הדולפין-19_51096.jpg',\n",
       " 'הדולפין-20_41401.jpg',\n",
       " 'החיטה-3_2438.jpg',\n",
       " 'החלוצים-13-לווינסקי-57_11852.jpg',\n",
       " 'החלוצים-14-לוינסקי-55_7348.jpg',\n",
       " 'החלוצים-16-לווינסקי-48_12056.jpg',\n",
       " 'החלוצים-21-מטלון-45_9829.jpg',\n",
       " 'החלוצים-22-מטלון-43_2942.jpg',\n",
       " 'החלוצים-24-מטלון-46_8764.jpg',\n",
       " 'החלוצים-32_12962.jpg',\n",
       " 'החלוצים-33-וולפסון-36_8776.jpg',\n",
       " 'החלוצים-34-וולפסון-34_12971.jpg',\n",
       " 'החלוצים-35_12923.jpg',\n",
       " 'החלוצים-36_12924.jpg',\n",
       " 'החלוצים-37_12129.jpg',\n",
       " 'החלוצים-39_8593.jpg',\n",
       " 'החלוצים-42_52695.jpg',\n",
       " 'החלוצים-44_12469.jpg',\n",
       " 'החלוצים-47-פרנקל-ידידיה-58_12009.jpg',\n",
       " 'החלוצים-50-א׳_8823.jpg',\n",
       " 'החלוצים-52_12259.jpg',\n",
       " 'החלוצים-5_52703.jpg',\n",
       " 'החצוצרה-(מגדל-מים)_0.jpg',\n",
       " 'החצוצרה-7-(מגדל-מים)-1_0.jpg',\n",
       " 'החרוב-26_2853.jpg',\n",
       " 'החרוב-2_2858.jpg',\n",
       " 'החרוב-30_2331.jpg',\n",
       " 'החרוב-44_2860.jpg',\n",
       " 'החרש-37-לבנדה-52_2243.jpg',\n",
       " 'החרש-39-לבנדה-54_12335.jpg',\n",
       " 'החרש-41-לבנדה-56_8290.jpg',\n",
       " 'הלוטוס-8_2857.jpg',\n",
       " 'הלענה-3-הצרי-24_2855.jpg',\n",
       " 'המגיד-מדובנא-4_2914.jpg',\n",
       " 'המלך-חירום-10-שמעיה-1-3(2)_11827.jpg',\n",
       " 'המלך-חירום-10-שמעיה-1-3_11827.jpg',\n",
       " 'המלך-חירם 2-יועזר-איש-הבירה-1-3-מרזוק-ועזר-2_7284.jpg',\n",
       " 'המלך-חירם-15_2763.jpg',\n",
       " 'המלך-חירם-16-שמעון-הצדיק-4(2)_7433.jpg',\n",
       " 'המלך-חירם-16-שמעון-הצדיק-4_7433.jpg',\n",
       " 'המשביר-11_8377.jpg',\n",
       " 'המשביר-12-לוינסקי-26_41208.jpg',\n",
       " 'המשביר-15-לוינסקי-28_9473.jpg',\n",
       " 'המשביר-19_8376.jpg',\n",
       " 'המשביר-23_12438.jpg',\n",
       " 'המשביר-24-מטלון-25_50569.jpg',\n",
       " 'המשביר-4_8735.jpg',\n",
       " 'המשביר-6_8915.jpg',\n",
       " 'המשביר-8-10-לוינסקי-33_7325.jpg',\n",
       " 'הספינה-17_3008.jpg',\n",
       " 'העליה 29-וולפסון-40_19823.jpg',\n",
       " 'העליה-10_8374.jpg',\n",
       " 'העליה-12_8373.jpg',\n",
       " 'העליה-16-לוינסקי-59_11858.jpg',\n",
       " 'העליה-18-לווינסקי-52_8912.jpg',\n",
       " 'העליה-2-יפו-62_8372.jpg',\n",
       " 'העליה-20_8911.jpg',\n",
       " 'העליה-22_8371.jpg',\n",
       " 'העליה-24-מטלון-47_6877.jpg',\n",
       " 'העליה-26-מטלון-50_12260.jpg',\n",
       " 'העליה-29-וולפסון-40(2)_19823.jpg',\n",
       " 'העליה-32_8909.jpg',\n",
       " 'העליה-34-וולפסון-41_2379.jpg',\n",
       " 'העליה-36-38-וולפסון-38_8908.jpg',\n",
       " 'העליה-48-פרנקל-ידידיה-59_8763.jpg',\n",
       " 'העליה-4_11661.jpg',\n",
       " 'העליה-50-פרנקל-ידידה-62_11903.jpg',\n",
       " 'העליה-58_12003.jpg',\n",
       " 'העליה-60-פלורנטין-59_2607.jpg',\n",
       " 'העליה-64_11972.jpg',\n",
       " 'העליה-68_7083.jpg',\n",
       " 'העליה-70-דרך-שלמה-93_41013.jpg',\n",
       " 'הצרי-7_2495.jpg',\n",
       " 'הקישון-25-מטלון-15_10433.jpg',\n",
       " 'הקישון-34_12362.jpg',\n",
       " 'הקישון-36-וולפסון-7_2514.jpg',\n",
       " 'הקישון-38-וולפסון-8_2625.jpg',\n",
       " 'הקישון-3_2610.jpg',\n",
       " 'הקישון-43_12363.jpg',\n",
       " 'הקישון-44-אוריאל-אקוסטה-25_12036.jpg',\n",
       " 'הקישון-45_2618.jpg',\n",
       " 'הקישון-46-ידידה-פקנקל-35-אוריאל-אקוסטה-22_10617.jpg',\n",
       " 'הקישון-47-ידידה-פרנקל-37-כפר-גלעדי-48_11508.jpg',\n",
       " 'הקישון-48-ידידה-פרנקל-32_6476.jpg',\n",
       " 'הקישון-49_12220.jpg',\n",
       " 'הקישון-50_6488.jpg',\n",
       " 'הקישון-52_11988.jpg',\n",
       " 'הקישון-54_11990.jpg',\n",
       " 'הקישון-56_11991.jpg',\n",
       " 'הקישון-58-פלורנטין-33_8757.jpg',\n",
       " 'הקישון-59_2588.jpg',\n",
       " 'הקישון-5_2610.jpg',\n",
       " 'הקישון-60-פלורנטין-32_12993.jpg',\n",
       " 'הקישון-63-פלורנטין-35_2572.jpg',\n",
       " 'הקישון-64_12991.jpg',\n",
       " 'הקישון-65-פלורנטין-34(2)_12004.jpg',\n",
       " 'הקישון-65-פלורנטין-34_12004.jpg',\n",
       " 'הקישון-66_8597.jpg',\n",
       " 'הקישון-68_12441.jpg',\n",
       " 'הקישון-69_12440.jpg',\n",
       " 'הקישון-6_8755.jpg',\n",
       " 'הקישון-70_12434.jpg',\n",
       " 'הקישון-71_8946.jpg',\n",
       " 'הקישון-72_6463.jpg',\n",
       " 'הקישון-74_6464.jpg',\n",
       " 'הקישון-75_2293.jpg',\n",
       " 'הקישון-76_2576.jpg',\n",
       " 'הקישון-77_2604.jpg',\n",
       " 'הקישון-78_2574.jpg',\n",
       " 'הקישון-80-שלמה-79_41187.jpg',\n",
       " 'הקישון-81_8384.jpg',\n",
       " 'הקישון-83_8611.jpg',\n",
       " 'הקישון-8_2562.jpg',\n",
       " 'הקישון-9-לוינסקי-23_6461.jpg',\n",
       " 'הרבי-מבכרך-32_2975.jpg',\n",
       " 'הרבי-מבכרך-34-אוארבך-9_7009.jpg',\n",
       " 'הרבי-מבכרך-42א_2847.jpg',\n",
       " 'הרצל 61-השוק 38-וולפסון-18-20-22_8719.jpg',\n",
       " 'הרצל-100_7018.jpg',\n",
       " 'הרצל-114-דרך-שלמה-85_41179.jpg',\n",
       " 'הרצל-140(2)_7388.jpg',\n",
       " 'הרצל-140_7388.jpg',\n",
       " 'הרצל-27_7019.jpg',\n",
       " 'הרצל-28-יפו-32_2511.jpg',\n",
       " 'הרצל-29_2512.jpg',\n",
       " 'הרצל-30_8772.jpg',\n",
       " 'הרצל-31_7060.jpg',\n",
       " 'הרצל-32_6431.jpg',\n",
       " 'הרצל-33_7027.jpg',\n",
       " 'הרצל-34_6387.jpg',\n",
       " 'הרצל-35-לווינסקי-31_50447.jpg',\n",
       " 'הרצל-37-לווינסקי-22_2535.jpg',\n",
       " 'הרצל-38-36-לווינסקי-29(2)_41643.jpg',\n",
       " 'הרצל-38-36-לווינסקי-29_41643.jpg',\n",
       " 'הרצל-39_8773.jpg',\n",
       " 'הרצל-40-לווינסקי-20_8775.jpg',\n",
       " 'הרצל-41_9414.jpg',\n",
       " 'הרצל-44_12322.jpg',\n",
       " 'הרצל-46_52697.jpg',\n",
       " 'הרצל-48_8844.jpg',\n",
       " 'הרצל-49-מטלון-23_2918.jpg',\n",
       " 'הרצל-51-מטלון-24_12310.jpg',\n",
       " 'הרצל-59-וולפסון-17_12982.jpg',\n",
       " 'הרצל-64_52704.jpg',\n",
       " 'הרצל-66-וולפסון-15_8715.jpg',\n",
       " 'הרצל-67-ידידיה-פרנקל-41_10618.jpg',\n",
       " 'הרצל-68-וולפסון-16_2797.jpg',\n",
       " 'הרצל-72_10420.jpg',\n",
       " 'הרצל-79-פלורנטין-38_8983.jpg',\n",
       " 'הרצל-80-פרנקל-ידידיה-39_10593.jpg',\n",
       " 'הרצל-82-ידידה פרנקל-40_8984.jpg',\n",
       " 'הרצל-83_10430.jpg',\n",
       " 'הרצל-85_9057.jpg',\n",
       " 'הרצל-89_10428.jpg',\n",
       " 'הרצל-98-פלורנטין-36_9048.jpg',\n",
       " 'השוק-10_11847.jpg',\n",
       " 'השוק-17-מטלון-31-מרחביה-22(2)_50666.jpg',\n",
       " 'השוק-17-מטלון-31-מרחביה-22_50666.jpg',\n",
       " 'השוק-21-סמטת-אלוף-בצלות-9_7171.jpg',\n",
       " 'השוק-28-מטלון-29_41547.jpg',\n",
       " 'השוק-3-סמטת-השוק-2_8658.jpg',\n",
       " 'השוק-30-אלוף בצלות 7-מטלון-32_7421.jpg',\n",
       " 'השוק-36-וולפסון-23_12980.jpg',\n",
       " 'השוק-42-ידידיה-פרנקל-43_11482.jpg',\n",
       " 'השוק-7-לוינסקי-32_8718.jpg',\n",
       " 'התקומה-40_50685.jpg',\n",
       " 'וולפסון-13-כפר-גלעדי-37_12983.jpg',\n",
       " 'וולפסון-19_8714.jpg',\n",
       " 'וולפסון-21_12981.jpg',\n",
       " 'וולפסון-3-מזרחי-32_64822.jpg',\n",
       " 'וולפסון-43-העליה-27_19926.jpg',\n",
       " 'וולפסון-45-צ׳לנוב-23_8849.jpg',\n",
       " 'וולפסון-5-מזרחי-33_7022.jpg',\n",
       " 'ויטל-חיים-1-ידידיה-פרנקל-6-8(2)_9842.jpg',\n",
       " 'ויטל-חיים-1-ידידיה-פרנקל-6-8_9842.jpg',\n",
       " 'ויטל-חיים-10_50514.jpg',\n",
       " 'ויטל-חיים-2-ידידיה-פרנקל-4_50943.jpg',\n",
       " 'ויטל-חיים-3(2)_7195.jpg',\n",
       " 'ויטל-חיים-3_7195.jpg',\n",
       " 'ויטל-חיים-4-6-פלורנטין-5(2)_8869.jpg',\n",
       " 'ויטל-חיים-4-6-פלורנטין-5_8869.jpg',\n",
       " 'ויטל-חיים-8-פלורנטין-8_2232.jpg',\n",
       " 'ויקטור-הוגו-10_7405.jpg',\n",
       " 'ויקטור-הוגו-13-מיכאלאנג׳לו-35_11451.jpg',\n",
       " 'ויקטור-הוגו-14_7285.jpg',\n",
       " 'ויקטור-הוגו-16_6412.jpg',\n",
       " 'ויקטור-הוגו-18_6989.jpg',\n",
       " 'ויקטור-הוגו-26_7014.jpg',\n",
       " 'ויקטור-הוגו-29_7013.jpg',\n",
       " 'ויקטור-הוגו-30_12290.jpg',\n",
       " 'ויקטור-הוגו-9_2621.jpg',\n",
       " 'ולנסיה-13-15-מענית-1-האשכוליות-18_41628.jpg',\n",
       " 'זבולון-11_9086.jpg',\n",
       " 'זבולון-13-לווינסקי-53_2822.jpg',\n",
       " 'זבולון-14-לווינסקי-51_7198.jpg',\n",
       " 'זבולון-15-לווינסקי-46_10777.jpg',\n",
       " 'זבולון-21_10399.jpg',\n",
       " 'זבולון-24-מטלון-39_6822.jpg',\n",
       " 'זבולון-25-מטלון-44_10419.jpg',\n",
       " 'זבולון-26-מטלון-42_11845.jpg',\n",
       " 'זבולון-27_8978.jpg',\n",
       " 'זבולון-33-וולפסון-35_2374.jpg',\n",
       " 'חייבי-משה-8-התות-12-החרוב-37_2859.jpg',\n",
       " 'חנניא-בן-דוסא-14_65285.jpg',\n",
       " 'חנניא-בן-דוסא-16-18-שמעון-בן-עזאי-3_2824.jpg',\n",
       " 'חנניא-בן-דוסא-21_6852.jpg',\n",
       " 'חנניא-בן-דוסא-23-בן-עזריה-אלעזר-12_8833.jpg',\n",
       " 'חנניא-בן-דוסא-26_2866.jpg',\n",
       " 'חנניא-בן-דוסא-27-אלעזר-בן-יוסי-2_2309.jpg',\n",
       " 'חנניה-בן-דוסא-29_6938.jpg',\n",
       " 'חנניה-בן-דוסא-30-בית-אשל-27_12881.jpg',\n",
       " 'ידידה פרנקל-61-העליה-41_7230.jpg',\n",
       " 'ידידה-פרנקל-26-שטרן-אברהם-2_2306.jpg',\n",
       " 'ידידה-פרנקל-28-שטרן-אברהם-1_6419.jpg',\n",
       " 'ידידה-פרנקל-61-העליה-41_7230.jpg',\n",
       " 'ידידיה פרנקל-57-החלוצים-45_7304.jpg',\n",
       " 'ידידיה-פרנקל-16_6467.jpg',\n",
       " 'ידידיה-פרנקל-18_2628.jpg',\n",
       " 'ידידיה-פרנקל-2-אברבנאל-31_2366.jpg',\n",
       " 'ידידיה-פרנקל-20_12167.jpg',\n",
       " 'ידידיה-פרנקל-22_2566.jpg',\n",
       " 'ידידיה-פרנקל-23_6439.jpg',\n",
       " 'ידידיה-פרנקל-24_6438.jpg',\n",
       " 'ידידיה-פרנקל-27_6410.jpg',\n",
       " 'ידידיה-פרנקל-29_2354.jpg',\n",
       " 'ידידיה-פרנקל-30_2355.jpg',\n",
       " 'ידידיה-פרנקל-38_11507.jpg',\n",
       " 'ידידיה-פרנקל-53-זבולון-49_10619.jpg',\n",
       " 'ידידיה-פרנקל-55-החלוצים-46_7087.jpg',\n",
       " 'יהדוה-מרגוזה-16_9121.jpg',\n",
       " 'יהודה-הימית-21_2418.jpg',\n",
       " 'יהודה-הימית-29_6416.jpg',\n",
       " 'יהודה-הימית-31_2597.jpg',\n",
       " 'יהודה-הימית-33_12908.jpg',\n",
       " 'יהודה-הימית-35_52731.jpg',\n",
       " 'יהודה-הימית-37-לוינסון-אברהם-2_7436.jpg',\n",
       " 'יהודה-הימית-43-קיוסו-אלברט-14_11485.jpg',\n",
       " 'יהודה-הימית-45_10612.jpg',\n",
       " 'יהודה-הימית-51_7036.jpg',\n",
       " 'יהודה-הימית-55_7085.jpg',\n",
       " 'יהודה-הימית-57(2)_8494.jpg',\n",
       " 'יהודה-הימית-57_8494.jpg',\n",
       " 'יהודה-הימית-59_11659.jpg',\n",
       " 'יהודה-הימית-5_6800.jpg',\n",
       " 'יהודה-הימית-73_2312.jpg',\n",
       " 'יהודה-מרגוזה-1-3_2882.jpg',\n",
       " 'יהודה-מרגוזה-12(2)_41598.jpg',\n",
       " 'יהודה-מרגוזה-12_41598.jpg',\n",
       " 'יהודה-מרגוזה-14(2)_9102.jpg',\n",
       " 'יהודה-מרגוזה-14_9102.jpg',\n",
       " 'יהודה-מרגוזה-16(2)_9121.jpg',\n",
       " 'יהודה-מרגוזה-25_8429.jpg',\n",
       " 'יהודה-מרגוזה-28_8476.jpg',\n",
       " 'יהודה-מרגוזה-38_12882.jpg',\n",
       " 'יהודה-מרגוזה-40_12880.jpg',\n",
       " 'יהודה-מרגוזה-5-עולי-ציון-11_8553.jpg',\n",
       " 'יהושוע-בן-פרחיה-1-הגמנסיה-העברית-10_2572.jpg',\n",
       " 'יהושוע-בן-פרחיה-2-הגמנסיה-העברית-12_9063.jpg',\n",
       " 'יהושוע-בן-פרחיה-4-בן-יאיר-פנחס 8-הגמנסיה-העברית-9-11(2)_8986.jpg',\n",
       " 'יהושוע-בן-פרחיה-4-בן-יאיר-פנחס 8-הגמנסיה-העברית-9-11_8986.jpg',\n",
       " 'יוסי-בן-יוסי-11_12888.jpg',\n",
       " 'יוסי-בן-יוסי-13_13011.jpg',\n",
       " 'יוסי-בן-יוסי-17_2510.jpg',\n",
       " 'יוסי-בן-יוסי-7_7015.jpg',\n",
       " 'יועזר-איש-הביר- 9-בן-יאיר-פנחס-4(2)_12464.jpg',\n",
       " 'יועזר-איש-הבירה-7א_12878.jpg',\n",
       " 'יועזר-איש-הבירה-7א׳(2)_12878.jpg',\n",
       " 'יועזר-איש-הבירה-9-בן-יאיר-פנחס-4_12464.jpg',\n",
       " 'ים-סוף-20_6959.jpg',\n",
       " 'יפו-16-רענן-8_12139.jpg',\n",
       " 'יפו-18-רענן-7-9_12133.jpg',\n",
       " 'יפו-20-מזרחי-4_11869.jpg',\n",
       " 'יפו-22-מזרחי-1_2919.jpg',\n",
       " 'יפו-34-המשביר-2_7526.jpg',\n",
       " 'יפו-36-המשביר-1_8370.jpg',\n",
       " 'יפו-38-השוק-2_12170.jpg',\n",
       " 'יפו-40-השוק-1_10427.jpg',\n",
       " 'יפו-42_2962.jpg',\n",
       " 'יפו-46-מרחביה-2_9077.jpg',\n",
       " 'יפו-48-מרחביה-1_7333.jpg',\n",
       " 'יפו-50-נחלת-בנימין-74_12963.jpg',\n",
       " 'יפו-60-החלוצים-1_8533.jpg',\n",
       " 'יפת 51-אבינרי-יצחק-1_2867.jpg',\n",
       " 'יפת-1-בית-אשל-2_10418.jpg',\n",
       " 'יפת-100-חייבי-משה-9_6960.jpg',\n",
       " 'יפת-102-חייבי-משה-10_2370.jpg',\n",
       " 'יפת-103-מאור-עיניים-2_8510.jpg',\n",
       " 'יפת-106-החרוב-46-48_6958.jpg',\n",
       " 'יפת-11-עמיעד-5_12437.jpg',\n",
       " 'יפת-19_7327.jpg',\n",
       " 'יפת-21(2)_6812.jpg',\n",
       " 'יפת-21(3)_6812.jpg',\n",
       " 'יפת-23(2)_6897.jpg',\n",
       " 'יפת-23_6897.jpg',\n",
       " 'יפת-27(2)_7462.jpg',\n",
       " 'יפת-27_7462.jpg',\n",
       " 'יפת-29_50982.jpg',\n",
       " 'יפת-33(2)_12889.jpg',\n",
       " 'יפת-33_12889.jpg',\n",
       " 'יפת-39_11820.jpg',\n",
       " 'יפת-3_8977.jpg',\n",
       " 'יפת-41_11830.jpg',\n",
       " 'יפת-43_7224.jpg',\n",
       " 'יפת-47-יהודה-הימית-67_65937.jpg',\n",
       " 'יפת-48-עבד-אל-ראוף-אלביטאר-1_41079.jpg',\n",
       " 'יפת-49_65938.jpg',\n",
       " 'יפת-51-אבינרי-יצחק-1_2867.jpg',\n",
       " 'יפת-52_9456.jpg',\n",
       " 'יפת-54-דה-רוטשילד-בת-שבע-1_6401.jpg',\n",
       " 'יפת-55_1700.jpg',\n",
       " 'יפת-57_1698.jpg',\n",
       " 'יפת-5_10319.jpg',\n",
       " 'יפת-61_11499.jpg',\n",
       " 'יפת-63_11402.jpg',\n",
       " 'יפת-72-ויינר-זאב-7_6963.jpg',\n",
       " 'יפת-74-ויינר-זאב-6_6963.jpg',\n",
       " 'יפת-76-בן-אחיטוב-22-24_12346.jpg',\n",
       " 'יפת-7_9062.jpg',\n",
       " 'יפת-80_12345.jpg',\n",
       " 'יפת-82_50556.jpg',\n",
       " 'יפת-89_8491.jpg',\n",
       " 'יפת-91(2)_12311.jpg',\n",
       " 'יפת-91_12311.jpg',\n",
       " 'יפת-92-סלסלה-30_50623.jpg',\n",
       " 'יפת-94_50594.jpg',\n",
       " 'ירושלים-2-רזיאל-דוד-1_40966.jpg',\n",
       " 'ירושלים-44_7169.jpg',\n",
       " 'ירושלים-4_2110.jpg',\n",
       " 'ירושלים-6_2809.jpg',\n",
       " 'ירושלים-8_12128.jpg',\n",
       " 'ישראל-מסלנט-35_9031.jpg',\n",
       " 'כפר-גלעד-29-מטלון-20-פלורנטין_2838.jpg',\n",
       " 'כפר-גלעדי-1-יפו-30_64526.jpg',\n",
       " 'כפר-גלעדי-11_41624.jpg',\n",
       " 'כפר-גלעדי-14-לוינסקי-16_7403.jpg',\n",
       " 'כפר-גלעדי-16_7402.jpg',\n",
       " 'כפר-גלעדי-17_7111.jpg',\n",
       " 'כפר-גלעדי-18_2846.jpg',\n",
       " 'כפר-גלעדי-19_7334.jpg',\n",
       " 'כפר-גלעדי-2-יפו-28_7204.jpg',\n",
       " 'כפר-גלעדי-20_12963.jpg',\n",
       " 'כפר-גלעדי-22-24_7423.jpg',\n",
       " 'כפר-גלעדי-29-מטלון-20_2838.jpg',\n",
       " 'כפר-גלעדי-3_7289.jpg',\n",
       " 'כפר-גלעדי-5_7287.jpg',\n",
       " 'כפר-גלעדי-7_7305.jpg',\n",
       " 'כפר-גלעדי-9_7288.jpg',\n",
       " 'כ״ץ-יעקוב-יוסף-4_11864.jpg',\n",
       " 'לוינסקי-10-א׳_6900.jpg',\n",
       " 'לוינסקי-12-הקישון-12_2611.jpg',\n",
       " 'לוינסקי-14-הקישון-11_8868.jpg',\n",
       " 'לוינסקי-21-הקישון-10_41403.jpg',\n",
       " 'לוינסקי-24_2917.jpg',\n",
       " 'לוינסקי-27-כפר-גלעדי-11_41624_41624.jpg',\n",
       " 'לוינסקי-34_2927.jpg',\n",
       " 'לוינסקי-8-מזרחי-10_2995.jpg',\n",
       " 'למרטין-10-שדרות-ירושלים-79(2)_9000.jpg',\n",
       " 'למרטין-15-עזה-34_8436.jpg',\n",
       " 'למרטין-16_2905.jpg',\n",
       " 'למרטין-17_50589.jpg',\n",
       " 'למרטין-30-שדרות -ירושלים 101_8465.jpg',\n",
       " 'למרטין-30-שדרות-ירושלים-101_8465.jpg',\n",
       " 'למרטין-34-שדרות ירושלים 105-הלה טוני-1_2236.jpg',\n",
       " 'למרטין-34-שדרות-ירושלים-105-הלה-טוני-1(2)_2236.jpg',\n",
       " 'למרטין-4-שדרות-ירושלים-75-מיכאלנגלו-38_12130.jpg',\n",
       " 'למרטין-8-שדרות-ירושלים-77_11943.jpg',\n",
       " 'מגן-אברהם-10-בעלי-התוספות-15_12909.jpg',\n",
       " 'מזרחי-3_2805.jpg',\n",
       " 'מזרחי-5_9034.jpg',\n",
       " 'מזרחי-6_9032.jpg',\n",
       " 'מזרחי-8-לוינסקי-17_7377.jpg',\n",
       " 'מזרחי-9-לוינסקי-19_2799.jpg',\n",
       " 'מטלון-18-כפר-גלעדי-28_7227.jpg',\n",
       " 'מטלון-28_50628.jpg',\n",
       " 'מטלון-3-מרכלת-17_41055.jpg',\n",
       " 'מטלון-30_50667.jpg',\n",
       " 'מטלון-34-השוק-19_11868.jpg',\n",
       " 'מטלון-5-רענן-28_8158.jpg',\n",
       " 'מטלון-6-רענן-30_2365.jpg',\n",
       " 'מטלון-7-רענן-25_6826.jpg',\n",
       " 'מטלון-74_18670.jpg',\n",
       " 'מטלון-74א׳_7494.jpg',\n",
       " 'מיכאלאנג׳לו-22(2)_41113.jpg',\n",
       " 'מיכאלאנג׳לו-22_41113.jpg',\n",
       " 'מיכאלאנג׳לו-28-פושקין-2_7315.jpg',\n",
       " 'מיכאלאנג׳לו-30-פושקין-1-ראסין-ז׳אן-2(2)_65329.jpg',\n",
       " 'מיכאלאנג׳לו-33_3021.jpg',\n",
       " 'מיכאלנג׳לו-33_3021.jpg',\n",
       " 'מנדס-פרנס-25-געש-16_50592.jpg',\n",
       " 'מנדס-פרנס-26_7167.jpg',\n",
       " 'מנדס-פרנס-28_50952.jpg',\n",
       " 'מנדס-פרנס-9_50653.jpg',\n",
       " 'מרזוק-ועזר-3_12127.jpg',\n",
       " 'מרחביה-11-לוינסקי-45_7499.jpg',\n",
       " 'מרחביה-12-לוינסקי-43_2944.jpg',\n",
       " 'מרחביה-13-לוינסקי-38_11848.jpg',\n",
       " 'מרחביה-14-לוינסקי-36_10317.jpg',\n",
       " 'מרחביה-21-מטלון-33_40957.jpg',\n",
       " 'מרחביה-3_9075.jpg',\n",
       " 'מרחביה-4-סמטת-השוק-6_10324.jpg',\n",
       " 'מרחביה-5_10438.jpg',\n",
       " 'מרכלת-1-יפו-14_10429.jpg',\n",
       " 'מרכלת-16_9043.jpg',\n",
       " 'מרכלת-5-לוינסקי-11_7387.jpg',\n",
       " 'מרכלת-7-לוינסקי-4א׳_12246.jpg',\n",
       " 'נועם-7(2)_2813.jpg',\n",
       " 'נועם-7_2813.jpg',\n",
       " 'נועם-9(2)_2225.jpg',\n",
       " 'נועם-9_2225.jpg',\n",
       " 'נחלת-בניימין-103-לוינסקי-49_41241.jpg',\n",
       " 'נחלת-בניימין-105-לוינסקי-42(2)_7527.jpg',\n",
       " 'נחלת-בניימין-105-לוינסקי-42_7527.jpg',\n",
       " 'נחלת-בניימין-113-מטלון-37_12522.jpg',\n",
       " 'נחלת-בניימין-115-מטלון-40_8692.jpg',\n",
       " 'נחלת-בניימין-117_12221.jpg',\n",
       " 'נחלת-בניימין-123-וולפסון-31_6393.jpg',\n",
       " 'נחלת-בניימין-129_12222.jpg',\n",
       " 'נחלת-בניימין-76_8682.jpg',\n",
       " 'נחלת-בניימין-82-80_8618.jpg',\n",
       " 'נחלת-בניימין-84-לוינסקי-47_2920.jpg',\n",
       " 'נחלת-בניימין-86-לוינסקי-40_8614.jpg',\n",
       " 'נחלת-בניימין-92_8390.jpg',\n",
       " 'נחלת-בניימין-94-מטלון-35_11378.jpg',\n",
       " 'נחלת-בנימין-128-פלורנטין-44_8788.jpg',\n",
       " 'נחלת-בנימין-130_8787.jpg',\n",
       " 'נחלת-בנימין-140_8686.jpg',\n",
       " 'נחמה-11-רוחמה-9-11-ניצנה-14-16-סגולה-8(2)_8600.jpg',\n",
       " 'נחמה-2-תרצה 14-בת-עמי-1_10344.jpg',\n",
       " 'נחמה-6-רוחמה-16_50638.jpg',\n",
       " 'נחמה11-רוחמה-9-11-ניצנה-14-16-סגולה-8(2)_8600.jpg',\n",
       " 'ניצנה-11-ניצנה-11א-ניצנה-11ב-נחמה-13(2)_12314.jpg',\n",
       " 'ניצנה-9א׳-ניצנה 9ב׳_12196.jpg',\n",
       " 'ניצנה11-ניצנה-11א-ניצנה-11ב-נחמה-13(3)_12314.jpg',\n",
       " 'נס-לגויים-49(2)_65652.jpg',\n",
       " 'נס-לגויים-49_65652.jpg',\n",
       " 'נס-לגויים-5-למרטין-44_11906.jpg',\n",
       " 'נס-לגויים-51_41616.jpg',\n",
       " 'נס-לגויים-7-למרטין-47_11666.jpg',\n",
       " 'נס-לגויים-9-עזה-66_8422.jpg',\n",
       " 'סגולה 4-תרצה-10_11636.jpg',\n",
       " 'סגולה-4-תרצה-10(2)_11636.jpg',\n",
       " 'סגל-צבי-הרמן-2_50559.jpg',\n",
       " 'סייפן-2-4-שדרות-יפת-110_2326.jpg',\n",
       " 'סלסלה-11_12720.jpg',\n",
       " 'סלסלה-16-הערמון-2_3010.jpg',\n",
       " 'סלסלה-24-החרוב-1_2825.jpg',\n",
       " 'סלסלה-26-החרוב-19_50590.jpg',\n",
       " 'סמטת-3350-3_9411.jpg',\n",
       " 'ספיר-ברוך-4_7213.jpg',\n",
       " 'ספיר-ברוך-6_12910.jpg',\n",
       " 'עאזר-אדיל-3_11374.jpg',\n",
       " 'עבודת-ישראל-3_7319.jpg',\n",
       " 'עדולם-10-בכור-ציון-10_11665.jpg',\n",
       " 'עולי-ציו- 36(2)_3019.jpg',\n",
       " 'עולי-ציון-1-יפת-9_12330.jpg',\n",
       " 'עולי-ציון-13_8369.jpg',\n",
       " 'עולי-ציון-24(2)_7216.jpg',\n",
       " 'עולי-ציון-24_7216.jpg',\n",
       " 'עולי-ציון-26_7149.jpg',\n",
       " 'עולי-ציון-2_12002.jpg',\n",
       " 'עולי-ציון-30_13011.jpg',\n",
       " 'עולי-ציון-32_6889.jpg',\n",
       " 'עולי-ציון-34(2)_8436.jpg',\n",
       " 'עולי-ציון-34_8436.jpg',\n",
       " 'עולי-ציון-36_3019.jpg',\n",
       " 'עולי-ציון-4-רבי-אחא-2_8379.jpg',\n",
       " 'עולי-ציון-8-עמיעד-13-15-רבי-חנניה-1_7461.jpg',\n",
       " 'עזה-13-15_11942.jpg',\n",
       " 'עזה-14_205265.jpg',\n",
       " 'עזה-24-מיכאלנגלו-42_8972.jpg',\n",
       " 'עזה-30-דנטא-18-למרטין-13(2)_11860.jpg',\n",
       " 'פושקין-7-דנטה-5_12246.jpg',\n",
       " 'פחד-יצחק-13_51009.jpg',\n",
       " 'פלורנטין-11_8865.jpg',\n",
       " 'פלורנטין-13_8866.jpg',\n",
       " 'פלורנטין-14-בן-עטר-1_41618.jpg',\n",
       " 'פלורנטין-15_8942.jpg',\n",
       " 'פלורנטין-16_8535.jpg',\n",
       " 'פלורנטין-17_8589.jpg',\n",
       " 'פלורנטין-20-בנבנישתי-2_50587.jpg',\n",
       " 'פלורנטין-24_12907.jpg',\n",
       " 'פלורנטין-25-שטרן-אברהם-12(2)_8615.jpg',\n",
       " 'פלורנטין-25-שטרן-אברהם-12_8615.jpg',\n",
       " 'פלורנטין-26-שדרות-וושינגטון-14_2231.jpg',\n",
       " 'פלורנטין-28-שדרות-וושינגטון-15_2230.jpg',\n",
       " 'פלורנטין-30_12142.jpg',\n",
       " 'פלורנטין-37_2573.jpg',\n",
       " 'פלורנטין-39_8867.jpg',\n",
       " 'צנובר-3-דודאים-6_50438.jpg',\n",
       " 'צנובר-4-דודאים-4_2952.jpg',\n",
       " 'קדם-35-רב-חובל-11_2616.jpg',\n",
       " 'קדם-57_8544.jpg',\n",
       " 'קדם-59_50462.jpg',\n",
       " 'קדרון-21-23_2575.jpg',\n",
       " 'קורדיברו-1-ויטל-חיים-5_12879.jpg',\n",
       " 'קורדיברו-10_8762.jpg',\n",
       " 'קורדיברו-11_13118.jpg',\n",
       " 'קורדיברו-12_8604.jpg',\n",
       " 'קורדיברו-13_2617.jpg',\n",
       " 'קורדיברו-14_6473.jpg',\n",
       " 'קורדיברו-15_2590.jpg',\n",
       " 'קורדיברו-17_7008.jpg',\n",
       " 'קורדיברו-18_12247.jpg',\n",
       " 'קורדיברו-19_2509.jpg',\n",
       " 'קורדיברו-2-ויטל-חיים-7_7196.jpg',\n",
       " 'קורדיברו-20_2536.jpg',\n",
       " 'קורדיברו-3_7032.jpg',\n",
       " 'קורדיברו-5_6432.jpg',\n",
       " 'קורדיברו-7_6397.jpg',\n",
       " 'קורדיברו-8_6392.jpg',\n",
       " 'קורדיברו-9_6964.jpg',\n",
       " 'ראסין-ז׳אן-10_8483.jpg',\n",
       " 'ראסין-ז׳אן-5_9013.jpg',\n",
       " 'ראש-פינה-25-הגר״א-36_1160.jpg',\n",
       " 'ראשון-לציון-13-(מגדל-מים)_11664.jpg',\n",
       " 'רבי-חנינא-12_41569.jpg',\n",
       " 'רבי-חנינא-14_7376.jpg',\n",
       " 'רבי-חנינא-16_7376.jpg',\n",
       " 'רבי-חנינא-22(2)_7456.jpg',\n",
       " 'רבי-חנינא-22_7456.jpg',\n",
       " 'רבי-חנניא-2-עולי-ציון-6-רבי-אחא-1_12298.jpg',\n",
       " 'רבי-פנחס-6א(2)_7201.jpg',\n",
       " 'רבי-פנחס-6א_7201.jpg',\n",
       " 'רזיאל-8_2873.jpg',\n",
       " 'רזיאל-דוד-14-16-רטוש-יונתן-4_2261.jpg',\n",
       " 'רזיאל-דוד-15_40910.jpg',\n",
       " 'רזיאל-דוד-17_7193.jpg',\n",
       " 'רזיאל-דוד-21-23_6801.jpg',\n",
       " 'רזיאל-דוד-25_2222.jpg',\n",
       " 'רזיאל-דוד-27-29(2)_2861.jpg',\n",
       " 'רזיאל-דוד-27-29_2861.jpg',\n",
       " 'רזיאל-דוד-4_2871.jpg',\n",
       " 'ריש-גלוטא-6(2)_6923.jpg',\n",
       " 'ריש-גלוטא-6_6923.jpg',\n",
       " 'שבטי-ישראל-21-מיכאלאנגלו-28_12151.jpg',\n",
       " 'שבטי-ישראל-23_12152.jpg',\n",
       " 'שבטי-ישראל-25_12942.jpg',\n",
       " 'שבטי-ישראל-31_12473.jpg',\n",
       " 'שבטי-ישראל-31א׳_50584.jpg',\n",
       " 'שבטי-ישראל-33_12946.jpg',\n",
       " 'שבטי-ישראל-42-עבד-אל-גני-17_7407.jpg',\n",
       " 'שבטי-ישראל-58_2262.jpg',\n",
       " 'שבטי-ישראל-78_12169.jpg',\n",
       " 'שדרות-הבעש״ט-4_7225.jpg',\n",
       " 'שדרות-וושינגטון-17_6930.jpg',\n",
       " 'שדרות-וושינגטון-19_2974.jpg',\n",
       " 'שדרות-וושינגטון-24_2266.jpg',\n",
       " 'שדרות-וושינגטון-25_2841.jpg',\n",
       " 'שדרות-וושינגטון-26_10446.jpg',\n",
       " 'שדרות-וושינגטון-27_9083.jpg',\n",
       " 'שדרות-וושינגטון-28_9084.jpg',\n",
       " 'שדרות-וושינגטון-30_9085.jpg',\n",
       " 'שדרות-ירושלים-109_11644.jpg',\n",
       " 'שדרות-ירושלים-111(2)_11862.jpg',\n",
       " 'שדרות-ירושלים-111-ודקר_11862.jpg',\n",
       " 'שדרות-ירושלים-14_9062.jpg',\n",
       " 'שדרות-ירושלים-18-שמעון-הצדיק-1_9061.jpg',\n",
       " 'שדרות-ירושלים-28-בני-בתירא-4-אליעזר-בן-הורקונוס-3(2)_2313.jpg',\n",
       " 'שדרות-ירושלים-28-בני-בתירא-4-אליעזר-בן-הורקונוס-3_2313.jpg',\n",
       " 'שדרות-ירושלים-30-חנינא-בן-תרדניון-3(2)_7320.jpg',\n",
       " 'שדרות-ירושלים-30_7320.jpg',\n",
       " 'שדרות-ירושלים-56_50974.jpg',\n",
       " 'שדרות-ירושלים-60_41540.jpg',\n",
       " 'שדרות-ירושלים-62-מיכאלנגלו-37_7321.jpg',\n",
       " 'שדרות-ירושלים-66_50620.jpg',\n",
       " 'שדרות-ירושלים-68_6883.jpg',\n",
       " 'שדרות-ירושלים-70_41251.jpg',\n",
       " 'שדרות-ירושלים-74_2828.jpg',\n",
       " 'שדרות-ירושלים-76_7220.jpg',\n",
       " 'שדרות-ירושלים-78_8894.jpg',\n",
       " 'שדרות-ירושלים-81-דנטה-13_10721.jpg',\n",
       " 'שדרות-ירושלים-82_8970.jpg',\n",
       " 'שטרן-אברהם-4-קורדיברו-21_7007.jpg',\n",
       " 'שטרן-אברהם-6-קורדיברו-24_9073.jpg',\n",
       " 'שלמה-19-וסרמן-יעקו-2(2)_6803.jpg',\n",
       " 'שלמה-19-וסרמן-יעקוב-2_6803.jpg',\n",
       " 'שלמה-6(2)_7185.jpg',\n",
       " 'שלמה-6_7185.jpg',\n",
       " 'שמואל-בין-עדיה-28-הספינה-1_7086.jpg',\n",
       " 'שמואל-בן-עדיה-20-הקברנית-22_2571.jpg',\n",
       " 'שמעון-בן-גמליאל-1-שמעון-בן-עזאי-6-שדרות-ירושלים-24-בן-עזריה-אל-עזר-15_40858.jpg',\n",
       " 'שמעון-בן-גמליאל-2_2812.jpg',\n",
       " 'שמעון-בן-זומא-4_12462.jpg',\n",
       " 'שמעון-בן-עזאי-2-חנניה-בן-דוסא-20_2868.jpg',\n",
       " 'שמעון-בן-עזאי-5_2811.jpg',\n",
       " 'שמעון-בן-שטח-10(2)_2810.jpg',\n",
       " 'שמעון-בן-שטח-10_2810.jpg',\n",
       " 'שמעון-בן-שטח-2(2)_2809.jpg',\n",
       " 'שמעון-הצדיק 12-14-שמעיה-8_6802.jpg',\n",
       " 'שמעון-הצדיק 4-המלך-חירם-16_7433.jpg',\n",
       " 'שמעון-הצדיק 9_19987.jpg',\n",
       " 'שמעון-הצדיק-10-שמעיה-5_2220.jpg',\n",
       " 'שמעון-הצדיק-11-שמעיה-7_11826.jpg',\n",
       " 'שמעון-הצדיק-12-14-שמעיה-8(2)_6802.jpg',\n",
       " 'שמעון-הצדיק-13-15-שמעיה-10-אבטליון-1_8599.jpg',\n",
       " 'שמעון-הצדיק-17-אבטליון-2_12914.jpg',\n",
       " 'שמעון-הצדיק-18(2)_7192.jpg',\n",
       " 'שמעון-הצדיק-18_7192.jpg',\n",
       " 'שמעון-הצדיק-19_2795.jpg',\n",
       " 'שמעון-הצדיק-6-המלך-חירם-14_7439.jpg',\n",
       " 'שמעון-הצדיק-7-חנניא-בן-דוסא-12_6879.jpg',\n",
       " 'שמעון-הצדיק-8-המלך-חירם-12_7270.jpg',\n",
       " 'שמעיה-11_11824.jpg',\n",
       " 'שמעיה-12-אבטליון-5-3_12913.jpg',\n",
       " 'שמעיה-14-אבטליון-4-בן-עזריה-אלעזר-7_8601.jpg',\n",
       " 'שמעיה-6-4-בן-יאיר-פנחס-1_8957.jpg',\n",
       " 'שמעיה-9-שמעון-בן-עזאי-1_2233.jpg',\n",
       " 'שערי-ניקנור-15_2609.jpg',\n",
       " 'שערי-ניקנור-22_2608.jpg',\n",
       " 'שערי-ניקנור-6_51105.jpg',\n",
       " 'שערי-ניקנור-7_6391.jpg',\n",
       " 'שערי-ניקנור-9-שמואל-בן-עדיה-1_6405.jpg',\n",
       " 'שקד-7_12897.jpg',\n",
       " \"ת'גר-ציונה-11_6857.jpg\",\n",
       " 'תג׳ר-ציונה-13_12317.jpg',\n",
       " 'תג׳ר-ציונה-14-16_8817.jpg',\n",
       " 'תג׳ר-ציונה-15_8815.jpg',\n",
       " 'תג׳ר-ציונה-17(2)_8816.jpg',\n",
       " 'תג׳ר-ציונה-17-(חזית)_8816.jpg',\n",
       " 'תג׳ר-ציונה-18_12321.jpg',\n",
       " 'תג׳ר-ציונה-24-עבד-אל-גני-2_7316.jpg',\n",
       " 'תג׳ר-ציונה-28_8829.jpg',\n",
       " 'תג׳ר-ציונה-2_12341.jpg',\n",
       " 'תג׳ר-ציונה-6_2143.jpg',\n",
       " 'תג׳ר-ציונה-8_8827.jpg',\n",
       " 'תל-גבורים-18_12904.jpg',\n",
       " 'תרצה 23-שלמה-5_7187.jpg']"
      ]
     },
     "execution_count": 57,
     "metadata": {},
     "output_type": "execute_result"
    }
   ],
   "source": [
    "phot_lst"
   ]
  },
  {
   "cell_type": "code",
   "execution_count": 58,
   "id": "passive-procedure",
   "metadata": {},
   "outputs": [],
   "source": [
    "for index, row in id_df.iterrows(): # go over everyrow (every building id)\n",
    "    for i in phot_lst: # compare one building id against all photos\n",
    "        if i.find(str(row[0])) != -1: # if the photo name is containing the building id\n",
    "            id_df.iloc[index, 1] = f'./photos/{i}'"
   ]
  },
  {
   "cell_type": "code",
   "execution_count": 59,
   "id": "technological-chocolate",
   "metadata": {},
   "outputs": [],
   "source": [
    "img_src_lst = id_df['img_src'].values.tolist()"
   ]
  },
  {
   "cell_type": "code",
   "execution_count": 60,
   "id": "lesser-event",
   "metadata": {},
   "outputs": [],
   "source": [
    "#img_src_lst"
   ]
  },
  {
   "cell_type": "code",
   "execution_count": 61,
   "id": "damaged-injection",
   "metadata": {
    "tags": []
   },
   "outputs": [
    {
     "name": "stdout",
     "output_type": "stream",
     "text": [
      "Indx: 34, id: 2373, file name: \n",
      "Indx: 48, id: 2517, file name: \n",
      "Indx: 133, id: 2999, file name: \n",
      "Indx: 137, id: 3020, file name: \n",
      "Indx: 139, id: 5714, file name: \n",
      "Indx: 146, id: 6394, file name: \n",
      "Indx: 155, id: 6418, file name: \n",
      "Indx: 179, id: 6825, file name: \n",
      "Indx: 181, id: 6829, file name: \n",
      "Indx: 186, id: 6888, file name: \n",
      "Indx: 217, id: 7080, file name: \n",
      "Indx: 240, id: 7208, file name: \n",
      "Indx: 246, id: 7226, file name: \n",
      "Indx: 258, id: 7307, file name: \n",
      "Indx: 293, id: 8154, file name: \n",
      "Indx: 302, id: 8375, file name: \n",
      "Indx: 320, id: 8542, file name: \n",
      "Indx: 337, id: 8657, file name: \n",
      "Indx: 365, id: 8828, file name: \n",
      "Indx: 411, id: 9051, file name: \n",
      "Indx: 427, id: 9122, file name: \n",
      "Indx: 442, id: 10363, file name: \n",
      "Indx: 458, id: 10587, file name: \n",
      "Indx: 472, id: 11444, file name: \n",
      "Indx: 509, id: 11920, file name: \n",
      "Indx: 579, id: 12721, file name: \n",
      "Indx: 681, id: 51041, file name: \n",
      "Indx: 699, id: ?, file name: \n"
     ]
    }
   ],
   "source": [
    "for x,i in enumerate(img_src_lst):\n",
    "    if i == '':\n",
    "        print(f'Indx: {x}, id: {id_df[\"id\"][x]}, file name: {i}')"
   ]
  },
  {
   "cell_type": "code",
   "execution_count": 62,
   "id": "liquid-chicken",
   "metadata": {},
   "outputs": [
    {
     "name": "stdout",
     "output_type": "stream",
     "text": [
      "בגין מנחם 10-הגדוד העברי(2)-1_2241.jpg\n",
      "בגין מנחם 10-הגדוד העברי-1_2241.jpg\n",
      "בגין מנחם 12-הגדוד העברי-3_2260.jpg\n",
      "בגין-מנחם 12-הגדוד-העברי-3(2)_2260.jpg\n",
      "הדואר-2-רזיאל-דוד-13_9269.jpg\n",
      "ירושלים-2-רזיאל-דוד-1_40966.jpg\n",
      "צנובר-3-דודאים-6_50438.jpg\n",
      "צנובר-4-דודאים-4_2952.jpg\n",
      "רזיאל-דוד-14-16-רטוש-יונתן-4_2261.jpg\n",
      "רזיאל-דוד-15_40910.jpg\n",
      "רזיאל-דוד-17_7193.jpg\n",
      "רזיאל-דוד-21-23_6801.jpg\n",
      "רזיאל-דוד-25_2222.jpg\n",
      "רזיאל-דוד-27-29(2)_2861.jpg\n",
      "רזיאל-דוד-27-29_2861.jpg\n",
      "רזיאל-דוד-4_2871.jpg\n"
     ]
    }
   ],
   "source": [
    "search_word = \"דוד\"\n",
    "for i in phot_lst:\n",
    "    if i.find(f'{search_word}') > -1:\n",
    "    #if i.find(f'{search_word}') =! -1:\n",
    "        print(i)"
   ]
  },
  {
   "cell_type": "code",
   "execution_count": 63,
   "id": "rental-server",
   "metadata": {},
   "outputs": [
    {
     "data": {
      "text/plain": [
       "-1"
      ]
     },
     "execution_count": 63,
     "metadata": {},
     "output_type": "execute_result"
    }
   ],
   "source": [
    "phot_lst[0].find(\"c;\")"
   ]
  },
  {
   "cell_type": "code",
   "execution_count": 64,
   "id": "impossible-diameter",
   "metadata": {},
   "outputs": [],
   "source": [
    "col_list = df.columns.values.tolist()"
   ]
  },
  {
   "cell_type": "code",
   "execution_count": 65,
   "id": "liked-thailand",
   "metadata": {},
   "outputs": [
    {
     "data": {
      "text/plain": [
       "['id',\n",
       " 'long',\n",
       " 'lat',\n",
       " 'n_bicycle_parking',\n",
       " 'n_tel_o_fun',\n",
       " 'Built density (2d built area / void) in 250 meter radius',\n",
       " 'n_auto_tel',\n",
       " 'Centrality (gravity) score for each building within 15 min. walk r.',\n",
       " \" building's street-facing front Distance from parcel limits (0 line) in meters\",\n",
       " 'n_parks',\n",
       " \"Building's height (simple)\",\n",
       " 'Historical buildings within 15 min. walk',\n",
       " 'Parcel size (square meters)',\n",
       " 'n_playgrounds',\n",
       " 'tsunami_flood_line',\n",
       " \"Building's volume in cubic meter\",\n",
       " 'Amount of walkalbe Religious buildings (15 min.)',\n",
       " 'Amount of walkable street workout equipment (15 min.)',\n",
       " 'Distance from the Sea in meteres',\n",
       " 'Distance to nearest bicycle route in meters',\n",
       " 'Amount of gas stations in 1k radius',\n",
       " 'Geo point via Flicker ',\n",
       " 'Amount of walkable hospitals and clinics 15. m radius',\n",
       " 'n_kindergartens',\n",
       " 'primary',\n",
       " 'secondary',\n",
       " 'street',\n",
       " 'number',\n",
       " 'block',\n",
       " 'parcel',\n",
       " 'complex',\n",
       " 'city_building_plan',\n",
       " 'technology',\n",
       " 'status',\n",
       " 'n_floors',\n",
       " 'finishing_materials',\n",
       " 'roof',\n",
       " 'n_facades',\n",
       " 'arrnona_year',\n",
       " 'typology',\n",
       " 'positioning',\n",
       " 'physical_condition',\n",
       " 'architectural_value',\n",
       " 'urban_value',\n",
       " 'historical_ significance',\n",
       " 'general evaluation']"
      ]
     },
     "execution_count": 65,
     "metadata": {},
     "output_type": "execute_result"
    }
   ],
   "source": [
    "col_list"
   ]
  },
  {
   "cell_type": "code",
   "execution_count": 131,
   "id": "automotive-enhancement",
   "metadata": {
    "collapsed": true,
    "jupyter": {
     "outputs_hidden": true
    },
    "tags": []
   },
   "outputs": [
    {
     "name": "stdout",
     "output_type": "stream",
     "text": [
      "1698\n",
      "1700\n",
      "2110\n",
      "2143\n",
      "2203\n",
      "2220\n",
      "2222\n",
      "2225\n",
      "2230\n",
      "2231\n",
      "2232\n",
      "2233\n",
      "2236\n",
      "2241\n",
      "2243\n",
      "2260\n",
      "2261\n",
      "2262\n",
      "2266\n",
      "2293\n",
      "2306\n",
      "2309\n",
      "2312\n",
      "2313\n",
      "2325\n",
      "2326\n",
      "2331\n",
      "2334\n",
      "2354\n",
      "2355\n",
      "2365\n",
      "2366\n",
      "2369\n",
      "2370\n",
      "2373\n",
      "2374\n",
      "2379\n",
      "2407\n",
      "2408\n",
      "2418\n",
      "2438\n",
      "2495\n",
      "2498\n",
      "2509\n",
      "2510\n",
      "2511\n",
      "2512\n",
      "2514\n",
      "2517\n",
      "2518\n",
      "2535\n",
      "2536\n",
      "2538\n",
      "2556\n",
      "2562\n",
      "2566\n",
      "2571\n",
      "2572\n",
      "2572\n",
      "2573\n",
      "2574\n",
      "2575\n",
      "2576\n",
      "2577\n",
      "2588\n",
      "2590\n",
      "2597\n",
      "2598\n",
      "2599\n",
      "2604\n",
      "2607\n",
      "2608\n",
      "2609\n",
      "2610\n",
      "2611\n",
      "2616\n",
      "2617\n",
      "2618\n",
      "2621\n",
      "2624\n",
      "2625\n",
      "2628\n",
      "2763\n",
      "2795\n",
      "2797\n",
      "2799\n",
      "2803\n",
      "2805\n",
      "2809\n",
      "2810\n",
      "2811\n",
      "2812\n",
      "2813\n",
      "2822\n",
      "2823\n",
      "2824\n",
      "2825\n",
      "2828\n",
      "2833\n",
      "2838\n",
      "2841\n",
      "2846\n",
      "2847\n",
      "2853\n",
      "2855\n",
      "2857\n",
      "2858\n",
      "2859\n",
      "2860\n",
      "2861\n",
      "2866\n",
      "2867\n",
      "2868\n",
      "2871\n",
      "2873\n",
      "2882\n",
      "2886\n",
      "2905\n",
      "2914\n",
      "2917\n",
      "2918\n",
      "2919\n",
      "2920\n",
      "2927\n",
      "2942\n",
      "2944\n",
      "2952\n",
      "2954\n",
      "2962\n",
      "2974\n",
      "2975\n",
      "2983\n",
      "2995\n",
      "2999\n",
      "3008\n",
      "3010\n",
      "3019\n",
      "3020\n",
      "3021\n",
      "5714\n",
      "6277\n",
      "6383\n",
      "6387\n",
      "6391\n",
      "6392\n",
      "6393\n",
      "6394\n",
      "6397\n",
      "6399\n",
      "6401\n",
      "6403\n",
      "6405\n",
      "6410\n",
      "6412\n",
      "6416\n",
      "6418\n",
      "6419\n",
      "6431\n",
      "6432\n",
      "6438\n",
      "6439\n",
      "6458\n",
      "6461\n",
      "6463\n",
      "6464\n",
      "6467\n",
      "6473\n",
      "6476\n",
      "6481\n",
      "6488\n",
      "6748\n",
      "6789\n",
      "6799\n",
      "6800\n",
      "6801\n",
      "6802\n",
      "6803\n",
      "6812\n",
      "6822\n",
      "6825\n",
      "6826\n",
      "6829\n",
      "6852\n",
      "6877\n",
      "6879\n",
      "6883\n",
      "6888\n",
      "6889\n",
      "6897\n",
      "6899\n",
      "6900\n",
      "6913\n",
      "6923\n",
      "6930\n",
      "6938\n",
      "6955\n",
      "6958\n",
      "6959\n",
      "6960\n",
      "6963\n",
      "6964\n",
      "6989\n",
      "7007\n",
      "7008\n",
      "7009\n",
      "7013\n",
      "7014\n",
      "7015\n",
      "7018\n",
      "7019\n",
      "7022\n",
      "7027\n",
      "7028\n",
      "7032\n",
      "7035\n",
      "7036\n",
      "7060\n",
      "7080\n",
      "7083\n",
      "7085\n",
      "7086\n",
      "7087\n",
      "7111\n",
      "7128\n",
      "7149\n",
      "7167\n",
      "7169\n",
      "7170\n",
      "7171\n",
      "7185\n",
      "7186\n",
      "7187\n",
      "7192\n",
      "7193\n",
      "7194\n",
      "7195\n",
      "7196\n",
      "7198\n",
      "7201\n",
      "7204\n",
      "7208\n",
      "7213\n",
      "7216\n",
      "7220\n",
      "7224\n",
      "7225\n",
      "7226\n",
      "7227\n",
      "7230\n",
      "7270\n",
      "7282\n",
      "7284\n",
      "7285\n",
      "7287\n",
      "7288\n",
      "7289\n",
      "7304\n",
      "7305\n",
      "7307\n",
      "7315\n",
      "7316\n",
      "7319\n",
      "7320\n",
      "7321\n",
      "7325\n",
      "7327\n",
      "7330\n",
      "7333\n",
      "7334\n",
      "7348\n",
      "7375\n",
      "7376\n",
      "7377\n",
      "7387\n",
      "7388\n",
      "7402\n",
      "7403\n",
      "7405\n",
      "7407\n",
      "7421\n",
      "7423\n",
      "7433\n",
      "7436\n",
      "7439\n",
      "7456\n",
      "7461\n",
      "7462\n",
      "7494\n",
      "7499\n",
      "7526\n",
      "7527\n",
      "7542\n",
      "7563\n",
      "8154\n",
      "8158\n",
      "8290\n",
      "8369\n",
      "8370\n",
      "8371\n",
      "8372\n",
      "8373\n",
      "8374\n",
      "8375\n",
      "8376\n",
      "8377\n",
      "8379\n",
      "8384\n",
      "8390\n",
      "8391\n",
      "8422\n",
      "8429\n",
      "8436\n",
      "8465\n",
      "8476\n",
      "8483\n",
      "8491\n",
      "8494\n",
      "8510\n",
      "8533\n",
      "8535\n",
      "8542\n",
      "8543\n",
      "8544\n",
      "8553\n",
      "8589\n",
      "8593\n",
      "8596\n",
      "8597\n",
      "8599\n",
      "8600\n",
      "8601\n",
      "8604\n",
      "8610\n",
      "8611\n",
      "8614\n",
      "8615\n",
      "8618\n",
      "8657\n",
      "8658\n",
      "8682\n",
      "8686\n",
      "8692\n",
      "8714\n",
      "8715\n",
      "8718\n",
      "8719\n",
      "8752\n",
      "8755\n",
      "8757\n",
      "8761\n",
      "8762\n",
      "8763\n",
      "8764\n",
      "8772\n",
      "8773\n",
      "8775\n",
      "8776\n",
      "8787\n",
      "8788\n",
      "8815\n",
      "8816\n",
      "8817\n",
      "8823\n",
      "8826\n",
      "8827\n",
      "8828\n",
      "8829\n",
      "8833\n",
      "8834\n",
      "8836\n",
      "8837\n",
      "8838\n",
      "8839\n",
      "8840\n",
      "8841\n",
      "8842\n",
      "8843\n",
      "8844\n",
      "8849\n",
      "8865\n",
      "8866\n",
      "8867\n",
      "8868\n",
      "8869\n",
      "8894\n",
      "8908\n",
      "8909\n",
      "8911\n",
      "8912\n",
      "8915\n",
      "8917\n",
      "8942\n",
      "8946\n",
      "8955\n",
      "8957\n",
      "8970\n",
      "8972\n",
      "8977\n",
      "8978\n",
      "8983\n",
      "8984\n",
      "8985\n",
      "8986\n",
      "8987\n",
      "9000\n",
      "9013\n",
      "9031\n",
      "9032\n",
      "9034\n",
      "9043\n",
      "9048\n",
      "9051\n",
      "9052\n",
      "9057\n",
      "9061\n",
      "9062\n",
      "9062\n",
      "9063\n",
      "9073\n",
      "9075\n",
      "9077\n",
      "9083\n",
      "9084\n",
      "9085\n",
      "9086\n",
      "9102\n",
      "9121\n",
      "9122\n",
      "9269\n",
      "9372\n",
      "9411\n",
      "9412\n",
      "9414\n",
      "9456\n",
      "9473\n",
      "9508\n",
      "9842\n",
      "10317\n",
      "10318\n",
      "10319\n",
      "10324\n",
      "10344\n",
      "10363\n",
      "10375\n",
      "10399\n",
      "10401\n",
      "10418\n",
      "10419\n",
      "10420\n",
      "10421\n",
      "10427\n",
      "10428\n",
      "10429\n",
      "10430\n",
      "10433\n",
      "10437\n",
      "10438\n",
      "10446\n",
      "10587\n",
      "10588\n",
      "10593\n",
      "10612\n",
      "10615\n",
      "10617\n",
      "10618\n",
      "10619\n",
      "10721\n",
      "10771\n",
      "10777\n",
      "11374\n",
      "11378\n",
      "11402\n",
      "11444\n",
      "11451\n",
      "11482\n",
      "11485\n",
      "11499\n",
      "11507\n",
      "11508\n",
      "11636\n",
      "11644\n",
      "11659\n",
      "11660\n",
      "11661\n",
      "11663\n",
      "11664\n",
      "11665\n",
      "11666\n",
      "11814\n",
      "11820\n",
      "11824\n",
      "11825\n",
      "11826\n",
      "11827\n",
      "11830\n",
      "11831\n",
      "11843\n",
      "11845\n",
      "11847\n",
      "11848\n",
      "11852\n",
      "11858\n",
      "11860\n",
      "11862\n",
      "11864\n",
      "11868\n",
      "11869\n",
      "11903\n",
      "11906\n",
      "11920\n",
      "11942\n",
      "11943\n",
      "11972\n",
      "11988\n",
      "11990\n",
      "11991\n",
      "12002\n",
      "12003\n",
      "12004\n",
      "12009\n",
      "12018\n",
      "12036\n",
      "12040\n",
      "12056\n",
      "12127\n",
      "12128\n",
      "12129\n",
      "12130\n",
      "12133\n",
      "12139\n",
      "12142\n",
      "12146\n",
      "12151\n",
      "12152\n",
      "12167\n",
      "12169\n",
      "12170\n",
      "12196\n",
      "12220\n",
      "12221\n",
      "12222\n",
      "12246\n",
      "12247\n",
      "12257\n",
      "12259\n",
      "12260\n",
      "12289\n",
      "12290\n",
      "12295\n",
      "12297\n",
      "12298\n",
      "12310\n",
      "12311\n",
      "12314\n",
      "12317\n",
      "12321\n",
      "12322\n",
      "12330\n",
      "12335\n",
      "12341\n",
      "12342\n",
      "12345\n",
      "12346\n",
      "12361\n",
      "12362\n",
      "12363\n",
      "12434\n",
      "12437\n",
      "12438\n",
      "12440\n",
      "12441\n",
      "12461\n",
      "12462\n",
      "12464\n",
      "12469\n",
      "12473\n",
      "12522\n",
      "12704\n",
      "12720\n",
      "12721\n",
      "12861\n",
      "12878\n",
      "12879\n",
      "12880\n",
      "12881\n",
      "12882\n",
      "12888\n",
      "12889\n",
      "12890\n",
      "12897\n",
      "12899\n",
      "12904\n",
      "12907\n",
      "12908\n",
      "12909\n",
      "12910\n",
      "12911\n",
      "12912\n",
      "12913\n",
      "12914\n",
      "12923\n",
      "12924\n",
      "12928\n",
      "12942\n",
      "12946\n",
      "12962\n",
      "12963\n",
      "12971\n",
      "12980\n",
      "12981\n",
      "12982\n",
      "12983\n",
      "12991\n",
      "12993\n",
      "13011\n",
      "13118\n",
      "18670\n",
      "19823\n",
      "19926\n",
      "19987\n",
      "21657\n",
      "40858\n",
      "40883\n",
      "40910\n",
      "40932\n",
      "40942\n",
      "40957\n",
      "40966\n",
      "41013\n",
      "41026\n",
      "41028\n",
      "41055\n",
      "41079\n",
      "41113\n",
      "41179\n",
      "41187\n",
      "41208\n",
      "41241\n",
      "41251\n",
      "41401\n",
      "41403\n",
      "41441\n",
      "41512\n",
      "41540\n",
      "41547\n",
      "41569\n",
      "41598\n",
      "41616\n",
      "41618\n",
      "41624\n",
      "41628\n",
      "41643\n",
      "50438\n",
      "50439\n",
      "50447\n",
      "50462\n",
      "50514\n",
      "50556\n",
      "50559\n",
      "50569\n",
      "50584\n",
      "50587\n",
      "50589\n",
      "50590\n",
      "50592\n",
      "50594\n",
      "50620\n",
      "50623\n",
      "50628\n",
      "50638\n",
      "50653\n",
      "50666\n",
      "50667\n",
      "50685\n",
      "50815\n",
      "50943\n",
      "50952\n",
      "50974\n",
      "50980\n",
      "50982\n",
      "51009\n",
      "51041\n",
      "51096\n",
      "51105\n",
      "52695\n",
      "52697\n",
      "52703\n",
      "52704\n",
      "52708\n",
      "52731\n",
      "52732\n",
      "64526\n",
      "64822\n",
      "65285\n",
      "65329\n",
      "65652\n",
      "65937\n",
      "65938\n",
      "205265\n",
      "?\n"
     ]
    }
   ],
   "source": [
    "grid_items = '' # create an empty string to append to \n",
    "#iterate through each row of dataframe\n",
    "for index, row in df.iterrows():\n",
    "    #print(index, ': ', row)\n",
    "    bld_id = id_lst[index]\n",
    "    inside_div_combined = '' # create empty string to append to \n",
    "    tmp_div_open = '<div class=\"building_square\" col_header=\"b\">' #  NOTICE: col_header=\"b\"\n",
    "    #print(\"STARTING COLUMN PRINT\")\n",
    "    for col_index, col_name in enumerate(col_list):\n",
    "        tmp_div_inside = f'<p class=\"{col_name}\" style=\"display:none;\">{df.iloc[index, col_index]}</p>' # -----> NOTICE using a 'p'?\n",
    "        inside_div_combined += tmp_div_inside\n",
    "    building_card_link = f'../building_cards/{bld_id}.html'\n",
    "    link_open_option = '_blank'\n",
    "    tmp_div_img = f\"\"\"<a href=\"#\" onClick=\"window.open('{building_card_link}', '_blank') \"><img src=\"{img_src_lst[index]}\"></a>\"\"\" # change image each row - NOTICE <a> tag    \n",
    "    inside_div_combined += tmp_div_img # tmp_div_inside + tmp_div_img - BEFORE // CREATED DOUBLE LAST LINE\n",
    "    tmp_div_close = f'</div>'\n",
    "    tmp_str = tmp_div_open + inside_div_combined + tmp_div_close\n",
    "    grid_items += tmp_str"
   ]
  },
  {
   "cell_type": "code",
   "execution_count": 67,
   "id": "likely-protein",
   "metadata": {},
   "outputs": [],
   "source": [
    "#grid_items"
   ]
  },
  {
   "cell_type": "code",
   "execution_count": 68,
   "id": "faced-commerce",
   "metadata": {},
   "outputs": [
    {
     "data": {
      "text/plain": [
       "'<p class=\"general evaluation\" style=\"display:none;\">low</p>'"
      ]
     },
     "execution_count": 68,
     "metadata": {},
     "output_type": "execute_result"
    }
   ],
   "source": [
    "tmp_div_inside"
   ]
  },
  {
   "cell_type": "markdown",
   "id": "brown-departure",
   "metadata": {},
   "source": [
    "Load html > parse to string > insert after '<div class=\"grid\">' > export as html"
   ]
  },
  {
   "cell_type": "code",
   "execution_count": 69,
   "id": "normal-programmer",
   "metadata": {},
   "outputs": [],
   "source": [
    "#test_phrase = '<p> hello, this was inserted into the website html </p>'"
   ]
  },
  {
   "cell_type": "code",
   "execution_count": 70,
   "id": "patient-shaft",
   "metadata": {},
   "outputs": [],
   "source": [
    "html_insert = grid_items"
   ]
  },
  {
   "cell_type": "code",
   "execution_count": 71,
   "id": "greatest-opinion",
   "metadata": {},
   "outputs": [],
   "source": [
    "file = open('../index.html', \"r\") # open local html file (as opposoed to reading from URL)"
   ]
  },
  {
   "cell_type": "code",
   "execution_count": 72,
   "id": "parallel-thanksgiving",
   "metadata": {},
   "outputs": [],
   "source": [
    "# Parse the html file\n",
    "soup = BeautifulSoup(file, 'html.parser')\n",
    "\n",
    "# Format the parsed html file\n",
    "strhtm = soup.prettify()"
   ]
  },
  {
   "cell_type": "code",
   "execution_count": 73,
   "id": "crude-middle",
   "metadata": {},
   "outputs": [],
   "source": [
    "#soup\n",
    "soup_string = str(soup)"
   ]
  },
  {
   "cell_type": "code",
   "execution_count": 74,
   "id": "enormous-network",
   "metadata": {},
   "outputs": [
    {
     "data": {
      "text/plain": [
       "str"
      ]
     },
     "execution_count": 74,
     "metadata": {},
     "output_type": "execute_result"
    }
   ],
   "source": [
    "type(strhtm)"
   ]
  },
  {
   "cell_type": "code",
   "execution_count": 75,
   "id": "afraid-chain",
   "metadata": {},
   "outputs": [],
   "source": [
    "html_start = strhtm.split('<!-- THIS WILL BE REPLACED WITH INSERTED-->')[0]\n",
    "html_end = strhtm.split('<!-- THIS WILL BE REPLACED WITH INSERTED-->')[1]"
   ]
  },
  {
   "cell_type": "code",
   "execution_count": 76,
   "id": "resident-saint",
   "metadata": {},
   "outputs": [],
   "source": [
    "#strhtm"
   ]
  },
  {
   "cell_type": "code",
   "execution_count": 77,
   "id": "controversial-policy",
   "metadata": {},
   "outputs": [],
   "source": [
    "html_combined = [html_start, html_insert, html_end]"
   ]
  },
  {
   "cell_type": "code",
   "execution_count": 78,
   "id": "limited-repository",
   "metadata": {},
   "outputs": [],
   "source": [
    "joint_str = ''.join(html_combined)"
   ]
  },
  {
   "cell_type": "code",
   "execution_count": 79,
   "id": "sapphire-photograph",
   "metadata": {},
   "outputs": [],
   "source": [
    "#strhtm"
   ]
  },
  {
   "cell_type": "markdown",
   "id": "protective-sterling",
   "metadata": {},
   "source": [
    "push only mid"
   ]
  },
  {
   "cell_type": "code",
   "execution_count": 80,
   "id": "registered-nevada",
   "metadata": {},
   "outputs": [
    {
     "data": {
      "text/plain": [
       "2221609"
      ]
     },
     "execution_count": 80,
     "metadata": {},
     "output_type": "execute_result"
    }
   ],
   "source": [
    "# open the file in w mode\n",
    "# set encoding to UTF-8\n",
    "with open(\"../bld_img_atr.html\", \"w\", encoding = 'utf-8') as file:\n",
    "    \n",
    "    # prettify the soup object and convert it into a string  \n",
    "    file.write(grid_items)"
   ]
  },
  {
   "cell_type": "markdown",
   "id": "thousand-ivory",
   "metadata": {},
   "source": [
    "push everything"
   ]
  },
  {
   "cell_type": "code",
   "execution_count": 81,
   "id": "international-lebanon",
   "metadata": {},
   "outputs": [
    {
     "data": {
      "text/plain": [
       "2234932"
      ]
     },
     "execution_count": 81,
     "metadata": {},
     "output_type": "execute_result"
    }
   ],
   "source": [
    "# open the file in w mode\n",
    "# set encoding to UTF-8\n",
    "with open(\"../output.html\", \"w\", encoding = 'utf-8') as file:\n",
    "    \n",
    "    # prettify the soup object and convert it into a string  \n",
    "    file.write(joint_str)"
   ]
  },
  {
   "cell_type": "code",
   "execution_count": 82,
   "id": "million-korean",
   "metadata": {},
   "outputs": [],
   "source": [
    "#joint_str.encode()"
   ]
  },
  {
   "cell_type": "markdown",
   "id": "outer-going",
   "metadata": {},
   "source": [
    "## Create a building card for each image"
   ]
  },
  {
   "cell_type": "markdown",
   "id": "competitive-timothy",
   "metadata": {},
   "source": [
    "for each id in id_lst"
   ]
  },
  {
   "cell_type": "code",
   "execution_count": 130,
   "id": "assigned-count",
   "metadata": {
    "tags": []
   },
   "outputs": [
    {
     "data": {
      "text/plain": [
       "4709"
      ]
     },
     "execution_count": 130,
     "metadata": {},
     "output_type": "execute_result"
    },
    {
     "data": {
      "text/plain": [
       "4709"
      ]
     },
     "execution_count": 130,
     "metadata": {},
     "output_type": "execute_result"
    },
    {
     "data": {
      "text/plain": [
       "4693"
      ]
     },
     "execution_count": 130,
     "metadata": {},
     "output_type": "execute_result"
    },
    {
     "data": {
      "text/plain": [
       "4717"
      ]
     },
     "execution_count": 130,
     "metadata": {},
     "output_type": "execute_result"
    },
    {
     "data": {
      "text/plain": [
       "4695"
      ]
     },
     "execution_count": 130,
     "metadata": {},
     "output_type": "execute_result"
    },
    {
     "data": {
      "text/plain": [
       "4701"
      ]
     },
     "execution_count": 130,
     "metadata": {},
     "output_type": "execute_result"
    },
    {
     "data": {
      "text/plain": [
       "4698"
      ]
     },
     "execution_count": 130,
     "metadata": {},
     "output_type": "execute_result"
    },
    {
     "data": {
      "text/plain": [
       "4691"
      ]
     },
     "execution_count": 130,
     "metadata": {},
     "output_type": "execute_result"
    },
    {
     "data": {
      "text/plain": [
       "4727"
      ]
     },
     "execution_count": 130,
     "metadata": {},
     "output_type": "execute_result"
    },
    {
     "data": {
      "text/plain": [
       "4727"
      ]
     },
     "execution_count": 130,
     "metadata": {},
     "output_type": "execute_result"
    },
    {
     "data": {
      "text/plain": [
       "4726"
      ]
     },
     "execution_count": 130,
     "metadata": {},
     "output_type": "execute_result"
    },
    {
     "data": {
      "text/plain": [
       "4702"
      ]
     },
     "execution_count": 130,
     "metadata": {},
     "output_type": "execute_result"
    },
    {
     "data": {
      "text/plain": [
       "4722"
      ]
     },
     "execution_count": 130,
     "metadata": {},
     "output_type": "execute_result"
    },
    {
     "data": {
      "text/plain": [
       "4721"
      ]
     },
     "execution_count": 130,
     "metadata": {},
     "output_type": "execute_result"
    },
    {
     "data": {
      "text/plain": [
       "4717"
      ]
     },
     "execution_count": 130,
     "metadata": {},
     "output_type": "execute_result"
    },
    {
     "data": {
      "text/plain": [
       "4721"
      ]
     },
     "execution_count": 130,
     "metadata": {},
     "output_type": "execute_result"
    },
    {
     "data": {
      "text/plain": [
       "4698"
      ]
     },
     "execution_count": 130,
     "metadata": {},
     "output_type": "execute_result"
    },
    {
     "data": {
      "text/plain": [
       "4702"
      ]
     },
     "execution_count": 130,
     "metadata": {},
     "output_type": "execute_result"
    },
    {
     "data": {
      "text/plain": [
       "4726"
      ]
     },
     "execution_count": 130,
     "metadata": {},
     "output_type": "execute_result"
    },
    {
     "data": {
      "text/plain": [
       "4725"
      ]
     },
     "execution_count": 130,
     "metadata": {},
     "output_type": "execute_result"
    },
    {
     "data": {
      "text/plain": [
       "4714"
      ]
     },
     "execution_count": 130,
     "metadata": {},
     "output_type": "execute_result"
    },
    {
     "data": {
      "text/plain": [
       "4713"
      ]
     },
     "execution_count": 130,
     "metadata": {},
     "output_type": "execute_result"
    },
    {
     "data": {
      "text/plain": [
       "4704"
      ]
     },
     "execution_count": 130,
     "metadata": {},
     "output_type": "execute_result"
    },
    {
     "data": {
      "text/plain": [
       "4696"
      ]
     },
     "execution_count": 130,
     "metadata": {},
     "output_type": "execute_result"
    },
    {
     "data": {
      "text/plain": [
       "4701"
      ]
     },
     "execution_count": 130,
     "metadata": {},
     "output_type": "execute_result"
    },
    {
     "data": {
      "text/plain": [
       "4701"
      ]
     },
     "execution_count": 130,
     "metadata": {},
     "output_type": "execute_result"
    },
    {
     "data": {
      "text/plain": [
       "4700"
      ]
     },
     "execution_count": 130,
     "metadata": {},
     "output_type": "execute_result"
    },
    {
     "data": {
      "text/plain": [
       "4728"
      ]
     },
     "execution_count": 130,
     "metadata": {},
     "output_type": "execute_result"
    },
    {
     "data": {
      "text/plain": [
       "4746"
      ]
     },
     "execution_count": 130,
     "metadata": {},
     "output_type": "execute_result"
    },
    {
     "data": {
      "text/plain": [
       "4746"
      ]
     },
     "execution_count": 130,
     "metadata": {},
     "output_type": "execute_result"
    },
    {
     "data": {
      "text/plain": [
       "4721"
      ]
     },
     "execution_count": 130,
     "metadata": {},
     "output_type": "execute_result"
    },
    {
     "data": {
      "text/plain": [
       "4711"
      ]
     },
     "execution_count": 130,
     "metadata": {},
     "output_type": "execute_result"
    },
    {
     "data": {
      "text/plain": [
       "4708"
      ]
     },
     "execution_count": 130,
     "metadata": {},
     "output_type": "execute_result"
    },
    {
     "data": {
      "text/plain": [
       "4701"
      ]
     },
     "execution_count": 130,
     "metadata": {},
     "output_type": "execute_result"
    },
    {
     "data": {
      "text/plain": [
       "4702"
      ]
     },
     "execution_count": 130,
     "metadata": {},
     "output_type": "execute_result"
    },
    {
     "data": {
      "text/plain": [
       "4723"
      ]
     },
     "execution_count": 130,
     "metadata": {},
     "output_type": "execute_result"
    },
    {
     "data": {
      "text/plain": [
       "4723"
      ]
     },
     "execution_count": 130,
     "metadata": {},
     "output_type": "execute_result"
    },
    {
     "data": {
      "text/plain": [
       "4730"
      ]
     },
     "execution_count": 130,
     "metadata": {},
     "output_type": "execute_result"
    },
    {
     "data": {
      "text/plain": [
       "4704"
      ]
     },
     "execution_count": 130,
     "metadata": {},
     "output_type": "execute_result"
    },
    {
     "data": {
      "text/plain": [
       "4716"
      ]
     },
     "execution_count": 130,
     "metadata": {},
     "output_type": "execute_result"
    },
    {
     "data": {
      "text/plain": [
       "4699"
      ]
     },
     "execution_count": 130,
     "metadata": {},
     "output_type": "execute_result"
    },
    {
     "data": {
      "text/plain": [
       "4701"
      ]
     },
     "execution_count": 130,
     "metadata": {},
     "output_type": "execute_result"
    },
    {
     "data": {
      "text/plain": [
       "4691"
      ]
     },
     "execution_count": 130,
     "metadata": {},
     "output_type": "execute_result"
    },
    {
     "data": {
      "text/plain": [
       "4725"
      ]
     },
     "execution_count": 130,
     "metadata": {},
     "output_type": "execute_result"
    },
    {
     "data": {
      "text/plain": [
       "4702"
      ]
     },
     "execution_count": 130,
     "metadata": {},
     "output_type": "execute_result"
    },
    {
     "data": {
      "text/plain": [
       "4728"
      ]
     },
     "execution_count": 130,
     "metadata": {},
     "output_type": "execute_result"
    },
    {
     "data": {
      "text/plain": [
       "4720"
      ]
     },
     "execution_count": 130,
     "metadata": {},
     "output_type": "execute_result"
    },
    {
     "data": {
      "text/plain": [
       "4722"
      ]
     },
     "execution_count": 130,
     "metadata": {},
     "output_type": "execute_result"
    },
    {
     "data": {
      "text/plain": [
       "4700"
      ]
     },
     "execution_count": 130,
     "metadata": {},
     "output_type": "execute_result"
    },
    {
     "data": {
      "text/plain": [
       "4729"
      ]
     },
     "execution_count": 130,
     "metadata": {},
     "output_type": "execute_result"
    },
    {
     "data": {
      "text/plain": [
       "4720"
      ]
     },
     "execution_count": 130,
     "metadata": {},
     "output_type": "execute_result"
    },
    {
     "data": {
      "text/plain": [
       "4725"
      ]
     },
     "execution_count": 130,
     "metadata": {},
     "output_type": "execute_result"
    },
    {
     "data": {
      "text/plain": [
       "4713"
      ]
     },
     "execution_count": 130,
     "metadata": {},
     "output_type": "execute_result"
    },
    {
     "data": {
      "text/plain": [
       "4713"
      ]
     },
     "execution_count": 130,
     "metadata": {},
     "output_type": "execute_result"
    },
    {
     "data": {
      "text/plain": [
       "4723"
      ]
     },
     "execution_count": 130,
     "metadata": {},
     "output_type": "execute_result"
    },
    {
     "data": {
      "text/plain": [
       "4713"
      ]
     },
     "execution_count": 130,
     "metadata": {},
     "output_type": "execute_result"
    },
    {
     "data": {
      "text/plain": [
       "4712"
      ]
     },
     "execution_count": 130,
     "metadata": {},
     "output_type": "execute_result"
    },
    {
     "data": {
      "text/plain": [
       "4722"
      ]
     },
     "execution_count": 130,
     "metadata": {},
     "output_type": "execute_result"
    },
    {
     "data": {
      "text/plain": [
       "4712"
      ]
     },
     "execution_count": 130,
     "metadata": {},
     "output_type": "execute_result"
    },
    {
     "data": {
      "text/plain": [
       "4726"
      ]
     },
     "execution_count": 130,
     "metadata": {},
     "output_type": "execute_result"
    },
    {
     "data": {
      "text/plain": [
       "4725"
      ]
     },
     "execution_count": 130,
     "metadata": {},
     "output_type": "execute_result"
    },
    {
     "data": {
      "text/plain": [
       "4701"
      ]
     },
     "execution_count": 130,
     "metadata": {},
     "output_type": "execute_result"
    },
    {
     "data": {
      "text/plain": [
       "4725"
      ]
     },
     "execution_count": 130,
     "metadata": {},
     "output_type": "execute_result"
    },
    {
     "data": {
      "text/plain": [
       "4721"
      ]
     },
     "execution_count": 130,
     "metadata": {},
     "output_type": "execute_result"
    },
    {
     "data": {
      "text/plain": [
       "4725"
      ]
     },
     "execution_count": 130,
     "metadata": {},
     "output_type": "execute_result"
    },
    {
     "data": {
      "text/plain": [
       "4725"
      ]
     },
     "execution_count": 130,
     "metadata": {},
     "output_type": "execute_result"
    },
    {
     "data": {
      "text/plain": [
       "4717"
      ]
     },
     "execution_count": 130,
     "metadata": {},
     "output_type": "execute_result"
    },
    {
     "data": {
      "text/plain": [
       "4718"
      ]
     },
     "execution_count": 130,
     "metadata": {},
     "output_type": "execute_result"
    },
    {
     "data": {
      "text/plain": [
       "4718"
      ]
     },
     "execution_count": 130,
     "metadata": {},
     "output_type": "execute_result"
    },
    {
     "data": {
      "text/plain": [
       "4725"
      ]
     },
     "execution_count": 130,
     "metadata": {},
     "output_type": "execute_result"
    },
    {
     "data": {
      "text/plain": [
       "4725"
      ]
     },
     "execution_count": 130,
     "metadata": {},
     "output_type": "execute_result"
    },
    {
     "data": {
      "text/plain": [
       "4711"
      ]
     },
     "execution_count": 130,
     "metadata": {},
     "output_type": "execute_result"
    },
    {
     "data": {
      "text/plain": [
       "4711"
      ]
     },
     "execution_count": 130,
     "metadata": {},
     "output_type": "execute_result"
    },
    {
     "data": {
      "text/plain": [
       "4723"
      ]
     },
     "execution_count": 130,
     "metadata": {},
     "output_type": "execute_result"
    },
    {
     "data": {
      "text/plain": [
       "4724"
      ]
     },
     "execution_count": 130,
     "metadata": {},
     "output_type": "execute_result"
    },
    {
     "data": {
      "text/plain": [
       "4699"
      ]
     },
     "execution_count": 130,
     "metadata": {},
     "output_type": "execute_result"
    },
    {
     "data": {
      "text/plain": [
       "4725"
      ]
     },
     "execution_count": 130,
     "metadata": {},
     "output_type": "execute_result"
    },
    {
     "data": {
      "text/plain": [
       "4724"
      ]
     },
     "execution_count": 130,
     "metadata": {},
     "output_type": "execute_result"
    },
    {
     "data": {
      "text/plain": [
       "4714"
      ]
     },
     "execution_count": 130,
     "metadata": {},
     "output_type": "execute_result"
    },
    {
     "data": {
      "text/plain": [
       "4708"
      ]
     },
     "execution_count": 130,
     "metadata": {},
     "output_type": "execute_result"
    },
    {
     "data": {
      "text/plain": [
       "4722"
      ]
     },
     "execution_count": 130,
     "metadata": {},
     "output_type": "execute_result"
    },
    {
     "data": {
      "text/plain": [
       "4713"
      ]
     },
     "execution_count": 130,
     "metadata": {},
     "output_type": "execute_result"
    },
    {
     "data": {
      "text/plain": [
       "4697"
      ]
     },
     "execution_count": 130,
     "metadata": {},
     "output_type": "execute_result"
    },
    {
     "data": {
      "text/plain": [
       "4728"
      ]
     },
     "execution_count": 130,
     "metadata": {},
     "output_type": "execute_result"
    },
    {
     "data": {
      "text/plain": [
       "4721"
      ]
     },
     "execution_count": 130,
     "metadata": {},
     "output_type": "execute_result"
    },
    {
     "data": {
      "text/plain": [
       "4721"
      ]
     },
     "execution_count": 130,
     "metadata": {},
     "output_type": "execute_result"
    },
    {
     "data": {
      "text/plain": [
       "4712"
      ]
     },
     "execution_count": 130,
     "metadata": {},
     "output_type": "execute_result"
    },
    {
     "data": {
      "text/plain": [
       "4720"
      ]
     },
     "execution_count": 130,
     "metadata": {},
     "output_type": "execute_result"
    },
    {
     "data": {
      "text/plain": [
       "4705"
      ]
     },
     "execution_count": 130,
     "metadata": {},
     "output_type": "execute_result"
    },
    {
     "data": {
      "text/plain": [
       "4705"
      ]
     },
     "execution_count": 130,
     "metadata": {},
     "output_type": "execute_result"
    },
    {
     "data": {
      "text/plain": [
       "4700"
      ]
     },
     "execution_count": 130,
     "metadata": {},
     "output_type": "execute_result"
    },
    {
     "data": {
      "text/plain": [
       "4703"
      ]
     },
     "execution_count": 130,
     "metadata": {},
     "output_type": "execute_result"
    },
    {
     "data": {
      "text/plain": [
       "4699"
      ]
     },
     "execution_count": 130,
     "metadata": {},
     "output_type": "execute_result"
    },
    {
     "data": {
      "text/plain": [
       "4723"
      ]
     },
     "execution_count": 130,
     "metadata": {},
     "output_type": "execute_result"
    },
    {
     "data": {
      "text/plain": [
       "4707"
      ]
     },
     "execution_count": 130,
     "metadata": {},
     "output_type": "execute_result"
    },
    {
     "data": {
      "text/plain": [
       "4712"
      ]
     },
     "execution_count": 130,
     "metadata": {},
     "output_type": "execute_result"
    },
    {
     "data": {
      "text/plain": [
       "4701"
      ]
     },
     "execution_count": 130,
     "metadata": {},
     "output_type": "execute_result"
    },
    {
     "data": {
      "text/plain": [
       "4708"
      ]
     },
     "execution_count": 130,
     "metadata": {},
     "output_type": "execute_result"
    },
    {
     "data": {
      "text/plain": [
       "4720"
      ]
     },
     "execution_count": 130,
     "metadata": {},
     "output_type": "execute_result"
    },
    {
     "data": {
      "text/plain": [
       "4727"
      ]
     },
     "execution_count": 130,
     "metadata": {},
     "output_type": "execute_result"
    },
    {
     "data": {
      "text/plain": [
       "4736"
      ]
     },
     "execution_count": 130,
     "metadata": {},
     "output_type": "execute_result"
    },
    {
     "data": {
      "text/plain": [
       "4728"
      ]
     },
     "execution_count": 130,
     "metadata": {},
     "output_type": "execute_result"
    },
    {
     "data": {
      "text/plain": [
       "4700"
      ]
     },
     "execution_count": 130,
     "metadata": {},
     "output_type": "execute_result"
    },
    {
     "data": {
      "text/plain": [
       "4701"
      ]
     },
     "execution_count": 130,
     "metadata": {},
     "output_type": "execute_result"
    },
    {
     "data": {
      "text/plain": [
       "4702"
      ]
     },
     "execution_count": 130,
     "metadata": {},
     "output_type": "execute_result"
    },
    {
     "data": {
      "text/plain": [
       "4700"
      ]
     },
     "execution_count": 130,
     "metadata": {},
     "output_type": "execute_result"
    },
    {
     "data": {
      "text/plain": [
       "4701"
      ]
     },
     "execution_count": 130,
     "metadata": {},
     "output_type": "execute_result"
    },
    {
     "data": {
      "text/plain": [
       "4702"
      ]
     },
     "execution_count": 130,
     "metadata": {},
     "output_type": "execute_result"
    },
    {
     "data": {
      "text/plain": [
       "4702"
      ]
     },
     "execution_count": 130,
     "metadata": {},
     "output_type": "execute_result"
    },
    {
     "data": {
      "text/plain": [
       "4698"
      ]
     },
     "execution_count": 130,
     "metadata": {},
     "output_type": "execute_result"
    },
    {
     "data": {
      "text/plain": [
       "4713"
      ]
     },
     "execution_count": 130,
     "metadata": {},
     "output_type": "execute_result"
    },
    {
     "data": {
      "text/plain": [
       "4709"
      ]
     },
     "execution_count": 130,
     "metadata": {},
     "output_type": "execute_result"
    },
    {
     "data": {
      "text/plain": [
       "4712"
      ]
     },
     "execution_count": 130,
     "metadata": {},
     "output_type": "execute_result"
    },
    {
     "data": {
      "text/plain": [
       "4694"
      ]
     },
     "execution_count": 130,
     "metadata": {},
     "output_type": "execute_result"
    },
    {
     "data": {
      "text/plain": [
       "4694"
      ]
     },
     "execution_count": 130,
     "metadata": {},
     "output_type": "execute_result"
    },
    {
     "data": {
      "text/plain": [
       "4707"
      ]
     },
     "execution_count": 130,
     "metadata": {},
     "output_type": "execute_result"
    },
    {
     "data": {
      "text/plain": [
       "4702"
      ]
     },
     "execution_count": 130,
     "metadata": {},
     "output_type": "execute_result"
    },
    {
     "data": {
      "text/plain": [
       "4715"
      ]
     },
     "execution_count": 130,
     "metadata": {},
     "output_type": "execute_result"
    },
    {
     "data": {
      "text/plain": [
       "4709"
      ]
     },
     "execution_count": 130,
     "metadata": {},
     "output_type": "execute_result"
    },
    {
     "data": {
      "text/plain": [
       "4724"
      ]
     },
     "execution_count": 130,
     "metadata": {},
     "output_type": "execute_result"
    },
    {
     "data": {
      "text/plain": [
       "4719"
      ]
     },
     "execution_count": 130,
     "metadata": {},
     "output_type": "execute_result"
    },
    {
     "data": {
      "text/plain": [
       "4721"
      ]
     },
     "execution_count": 130,
     "metadata": {},
     "output_type": "execute_result"
    },
    {
     "data": {
      "text/plain": [
       "4731"
      ]
     },
     "execution_count": 130,
     "metadata": {},
     "output_type": "execute_result"
    },
    {
     "data": {
      "text/plain": [
       "4720"
      ]
     },
     "execution_count": 130,
     "metadata": {},
     "output_type": "execute_result"
    },
    {
     "data": {
      "text/plain": [
       "4723"
      ]
     },
     "execution_count": 130,
     "metadata": {},
     "output_type": "execute_result"
    },
    {
     "data": {
      "text/plain": [
       "4720"
      ]
     },
     "execution_count": 130,
     "metadata": {},
     "output_type": "execute_result"
    },
    {
     "data": {
      "text/plain": [
       "4700"
      ]
     },
     "execution_count": 130,
     "metadata": {},
     "output_type": "execute_result"
    },
    {
     "data": {
      "text/plain": [
       "4691"
      ]
     },
     "execution_count": 130,
     "metadata": {},
     "output_type": "execute_result"
    },
    {
     "data": {
      "text/plain": [
       "4724"
      ]
     },
     "execution_count": 130,
     "metadata": {},
     "output_type": "execute_result"
    },
    {
     "data": {
      "text/plain": [
       "4734"
      ]
     },
     "execution_count": 130,
     "metadata": {},
     "output_type": "execute_result"
    },
    {
     "data": {
      "text/plain": [
       "4704"
      ]
     },
     "execution_count": 130,
     "metadata": {},
     "output_type": "execute_result"
    },
    {
     "data": {
      "text/plain": [
       "4719"
      ]
     },
     "execution_count": 130,
     "metadata": {},
     "output_type": "execute_result"
    },
    {
     "data": {
      "text/plain": [
       "4723"
      ]
     },
     "execution_count": 130,
     "metadata": {},
     "output_type": "execute_result"
    },
    {
     "data": {
      "text/plain": [
       "4703"
      ]
     },
     "execution_count": 130,
     "metadata": {},
     "output_type": "execute_result"
    },
    {
     "data": {
      "text/plain": [
       "4703"
      ]
     },
     "execution_count": 130,
     "metadata": {},
     "output_type": "execute_result"
    },
    {
     "data": {
      "text/plain": [
       "4701"
      ]
     },
     "execution_count": 130,
     "metadata": {},
     "output_type": "execute_result"
    },
    {
     "data": {
      "text/plain": [
       "4692"
      ]
     },
     "execution_count": 130,
     "metadata": {},
     "output_type": "execute_result"
    },
    {
     "data": {
      "text/plain": [
       "4698"
      ]
     },
     "execution_count": 130,
     "metadata": {},
     "output_type": "execute_result"
    },
    {
     "data": {
      "text/plain": [
       "4696"
      ]
     },
     "execution_count": 130,
     "metadata": {},
     "output_type": "execute_result"
    },
    {
     "data": {
      "text/plain": [
       "4718"
      ]
     },
     "execution_count": 130,
     "metadata": {},
     "output_type": "execute_result"
    },
    {
     "data": {
      "text/plain": [
       "4694"
      ]
     },
     "execution_count": 130,
     "metadata": {},
     "output_type": "execute_result"
    },
    {
     "data": {
      "text/plain": [
       "4731"
      ]
     },
     "execution_count": 130,
     "metadata": {},
     "output_type": "execute_result"
    },
    {
     "data": {
      "text/plain": [
       "4721"
      ]
     },
     "execution_count": 130,
     "metadata": {},
     "output_type": "execute_result"
    },
    {
     "data": {
      "text/plain": [
       "4710"
      ]
     },
     "execution_count": 130,
     "metadata": {},
     "output_type": "execute_result"
    },
    {
     "data": {
      "text/plain": [
       "4723"
      ]
     },
     "execution_count": 130,
     "metadata": {},
     "output_type": "execute_result"
    },
    {
     "data": {
      "text/plain": [
       "4732"
      ]
     },
     "execution_count": 130,
     "metadata": {},
     "output_type": "execute_result"
    },
    {
     "data": {
      "text/plain": [
       "4702"
      ]
     },
     "execution_count": 130,
     "metadata": {},
     "output_type": "execute_result"
    },
    {
     "data": {
      "text/plain": [
       "4724"
      ]
     },
     "execution_count": 130,
     "metadata": {},
     "output_type": "execute_result"
    },
    {
     "data": {
      "text/plain": [
       "4746"
      ]
     },
     "execution_count": 130,
     "metadata": {},
     "output_type": "execute_result"
    },
    {
     "data": {
      "text/plain": [
       "4700"
      ]
     },
     "execution_count": 130,
     "metadata": {},
     "output_type": "execute_result"
    },
    {
     "data": {
      "text/plain": [
       "4746"
      ]
     },
     "execution_count": 130,
     "metadata": {},
     "output_type": "execute_result"
    },
    {
     "data": {
      "text/plain": [
       "4709"
      ]
     },
     "execution_count": 130,
     "metadata": {},
     "output_type": "execute_result"
    },
    {
     "data": {
      "text/plain": [
       "4745"
      ]
     },
     "execution_count": 130,
     "metadata": {},
     "output_type": "execute_result"
    },
    {
     "data": {
      "text/plain": [
       "4715"
      ]
     },
     "execution_count": 130,
     "metadata": {},
     "output_type": "execute_result"
    },
    {
     "data": {
      "text/plain": [
       "4717"
      ]
     },
     "execution_count": 130,
     "metadata": {},
     "output_type": "execute_result"
    },
    {
     "data": {
      "text/plain": [
       "4702"
      ]
     },
     "execution_count": 130,
     "metadata": {},
     "output_type": "execute_result"
    },
    {
     "data": {
      "text/plain": [
       "4746"
      ]
     },
     "execution_count": 130,
     "metadata": {},
     "output_type": "execute_result"
    },
    {
     "data": {
      "text/plain": [
       "4721"
      ]
     },
     "execution_count": 130,
     "metadata": {},
     "output_type": "execute_result"
    },
    {
     "data": {
      "text/plain": [
       "4724"
      ]
     },
     "execution_count": 130,
     "metadata": {},
     "output_type": "execute_result"
    },
    {
     "data": {
      "text/plain": [
       "4713"
      ]
     },
     "execution_count": 130,
     "metadata": {},
     "output_type": "execute_result"
    },
    {
     "data": {
      "text/plain": [
       "4745"
      ]
     },
     "execution_count": 130,
     "metadata": {},
     "output_type": "execute_result"
    },
    {
     "data": {
      "text/plain": [
       "4714"
      ]
     },
     "execution_count": 130,
     "metadata": {},
     "output_type": "execute_result"
    },
    {
     "data": {
      "text/plain": [
       "4724"
      ]
     },
     "execution_count": 130,
     "metadata": {},
     "output_type": "execute_result"
    },
    {
     "data": {
      "text/plain": [
       "4725"
      ]
     },
     "execution_count": 130,
     "metadata": {},
     "output_type": "execute_result"
    },
    {
     "data": {
      "text/plain": [
       "4725"
      ]
     },
     "execution_count": 130,
     "metadata": {},
     "output_type": "execute_result"
    },
    {
     "data": {
      "text/plain": [
       "4713"
      ]
     },
     "execution_count": 130,
     "metadata": {},
     "output_type": "execute_result"
    },
    {
     "data": {
      "text/plain": [
       "4725"
      ]
     },
     "execution_count": 130,
     "metadata": {},
     "output_type": "execute_result"
    },
    {
     "data": {
      "text/plain": [
       "4715"
      ]
     },
     "execution_count": 130,
     "metadata": {},
     "output_type": "execute_result"
    },
    {
     "data": {
      "text/plain": [
       "4714"
      ]
     },
     "execution_count": 130,
     "metadata": {},
     "output_type": "execute_result"
    },
    {
     "data": {
      "text/plain": [
       "4725"
      ]
     },
     "execution_count": 130,
     "metadata": {},
     "output_type": "execute_result"
    },
    {
     "data": {
      "text/plain": [
       "4700"
      ]
     },
     "execution_count": 130,
     "metadata": {},
     "output_type": "execute_result"
    },
    {
     "data": {
      "text/plain": [
       "4699"
      ]
     },
     "execution_count": 130,
     "metadata": {},
     "output_type": "execute_result"
    },
    {
     "data": {
      "text/plain": [
       "4717"
      ]
     },
     "execution_count": 130,
     "metadata": {},
     "output_type": "execute_result"
    },
    {
     "data": {
      "text/plain": [
       "4724"
      ]
     },
     "execution_count": 130,
     "metadata": {},
     "output_type": "execute_result"
    },
    {
     "data": {
      "text/plain": [
       "4726"
      ]
     },
     "execution_count": 130,
     "metadata": {},
     "output_type": "execute_result"
    },
    {
     "data": {
      "text/plain": [
       "4711"
      ]
     },
     "execution_count": 130,
     "metadata": {},
     "output_type": "execute_result"
    },
    {
     "data": {
      "text/plain": [
       "4700"
      ]
     },
     "execution_count": 130,
     "metadata": {},
     "output_type": "execute_result"
    },
    {
     "data": {
      "text/plain": [
       "4693"
      ]
     },
     "execution_count": 130,
     "metadata": {},
     "output_type": "execute_result"
    },
    {
     "data": {
      "text/plain": [
       "4719"
      ]
     },
     "execution_count": 130,
     "metadata": {},
     "output_type": "execute_result"
    },
    {
     "data": {
      "text/plain": [
       "4696"
      ]
     },
     "execution_count": 130,
     "metadata": {},
     "output_type": "execute_result"
    },
    {
     "data": {
      "text/plain": [
       "4718"
      ]
     },
     "execution_count": 130,
     "metadata": {},
     "output_type": "execute_result"
    },
    {
     "data": {
      "text/plain": [
       "4718"
      ]
     },
     "execution_count": 130,
     "metadata": {},
     "output_type": "execute_result"
    },
    {
     "data": {
      "text/plain": [
       "4701"
      ]
     },
     "execution_count": 130,
     "metadata": {},
     "output_type": "execute_result"
    },
    {
     "data": {
      "text/plain": [
       "4724"
      ]
     },
     "execution_count": 130,
     "metadata": {},
     "output_type": "execute_result"
    },
    {
     "data": {
      "text/plain": [
       "4711"
      ]
     },
     "execution_count": 130,
     "metadata": {},
     "output_type": "execute_result"
    },
    {
     "data": {
      "text/plain": [
       "4720"
      ]
     },
     "execution_count": 130,
     "metadata": {},
     "output_type": "execute_result"
    },
    {
     "data": {
      "text/plain": [
       "4718"
      ]
     },
     "execution_count": 130,
     "metadata": {},
     "output_type": "execute_result"
    },
    {
     "data": {
      "text/plain": [
       "4702"
      ]
     },
     "execution_count": 130,
     "metadata": {},
     "output_type": "execute_result"
    },
    {
     "data": {
      "text/plain": [
       "4693"
      ]
     },
     "execution_count": 130,
     "metadata": {},
     "output_type": "execute_result"
    },
    {
     "data": {
      "text/plain": [
       "4695"
      ]
     },
     "execution_count": 130,
     "metadata": {},
     "output_type": "execute_result"
    },
    {
     "data": {
      "text/plain": [
       "4726"
      ]
     },
     "execution_count": 130,
     "metadata": {},
     "output_type": "execute_result"
    },
    {
     "data": {
      "text/plain": [
       "4702"
      ]
     },
     "execution_count": 130,
     "metadata": {},
     "output_type": "execute_result"
    },
    {
     "data": {
      "text/plain": [
       "4699"
      ]
     },
     "execution_count": 130,
     "metadata": {},
     "output_type": "execute_result"
    },
    {
     "data": {
      "text/plain": [
       "4734"
      ]
     },
     "execution_count": 130,
     "metadata": {},
     "output_type": "execute_result"
    },
    {
     "data": {
      "text/plain": [
       "4730"
      ]
     },
     "execution_count": 130,
     "metadata": {},
     "output_type": "execute_result"
    },
    {
     "data": {
      "text/plain": [
       "4707"
      ]
     },
     "execution_count": 130,
     "metadata": {},
     "output_type": "execute_result"
    },
    {
     "data": {
      "text/plain": [
       "4701"
      ]
     },
     "execution_count": 130,
     "metadata": {},
     "output_type": "execute_result"
    },
    {
     "data": {
      "text/plain": [
       "4702"
      ]
     },
     "execution_count": 130,
     "metadata": {},
     "output_type": "execute_result"
    },
    {
     "data": {
      "text/plain": [
       "4700"
      ]
     },
     "execution_count": 130,
     "metadata": {},
     "output_type": "execute_result"
    },
    {
     "data": {
      "text/plain": [
       "4708"
      ]
     },
     "execution_count": 130,
     "metadata": {},
     "output_type": "execute_result"
    },
    {
     "data": {
      "text/plain": [
       "4724"
      ]
     },
     "execution_count": 130,
     "metadata": {},
     "output_type": "execute_result"
    },
    {
     "data": {
      "text/plain": [
       "4715"
      ]
     },
     "execution_count": 130,
     "metadata": {},
     "output_type": "execute_result"
    },
    {
     "data": {
      "text/plain": [
       "4725"
      ]
     },
     "execution_count": 130,
     "metadata": {},
     "output_type": "execute_result"
    },
    {
     "data": {
      "text/plain": [
       "4725"
      ]
     },
     "execution_count": 130,
     "metadata": {},
     "output_type": "execute_result"
    },
    {
     "data": {
      "text/plain": [
       "4694"
      ]
     },
     "execution_count": 130,
     "metadata": {},
     "output_type": "execute_result"
    },
    {
     "data": {
      "text/plain": [
       "4716"
      ]
     },
     "execution_count": 130,
     "metadata": {},
     "output_type": "execute_result"
    },
    {
     "data": {
      "text/plain": [
       "4715"
      ]
     },
     "execution_count": 130,
     "metadata": {},
     "output_type": "execute_result"
    },
    {
     "data": {
      "text/plain": [
       "4710"
      ]
     },
     "execution_count": 130,
     "metadata": {},
     "output_type": "execute_result"
    },
    {
     "data": {
      "text/plain": [
       "4723"
      ]
     },
     "execution_count": 130,
     "metadata": {},
     "output_type": "execute_result"
    },
    {
     "data": {
      "text/plain": [
       "4720"
      ]
     },
     "execution_count": 130,
     "metadata": {},
     "output_type": "execute_result"
    },
    {
     "data": {
      "text/plain": [
       "4723"
      ]
     },
     "execution_count": 130,
     "metadata": {},
     "output_type": "execute_result"
    },
    {
     "data": {
      "text/plain": [
       "4742"
      ]
     },
     "execution_count": 130,
     "metadata": {},
     "output_type": "execute_result"
    },
    {
     "data": {
      "text/plain": [
       "4730"
      ]
     },
     "execution_count": 130,
     "metadata": {},
     "output_type": "execute_result"
    },
    {
     "data": {
      "text/plain": [
       "4724"
      ]
     },
     "execution_count": 130,
     "metadata": {},
     "output_type": "execute_result"
    },
    {
     "data": {
      "text/plain": [
       "4708"
      ]
     },
     "execution_count": 130,
     "metadata": {},
     "output_type": "execute_result"
    },
    {
     "data": {
      "text/plain": [
       "4717"
      ]
     },
     "execution_count": 130,
     "metadata": {},
     "output_type": "execute_result"
    },
    {
     "data": {
      "text/plain": [
       "4720"
      ]
     },
     "execution_count": 130,
     "metadata": {},
     "output_type": "execute_result"
    },
    {
     "data": {
      "text/plain": [
       "4700"
      ]
     },
     "execution_count": 130,
     "metadata": {},
     "output_type": "execute_result"
    },
    {
     "data": {
      "text/plain": [
       "4725"
      ]
     },
     "execution_count": 130,
     "metadata": {},
     "output_type": "execute_result"
    },
    {
     "data": {
      "text/plain": [
       "4716"
      ]
     },
     "execution_count": 130,
     "metadata": {},
     "output_type": "execute_result"
    },
    {
     "data": {
      "text/plain": [
       "4712"
      ]
     },
     "execution_count": 130,
     "metadata": {},
     "output_type": "execute_result"
    },
    {
     "data": {
      "text/plain": [
       "4741"
      ]
     },
     "execution_count": 130,
     "metadata": {},
     "output_type": "execute_result"
    },
    {
     "data": {
      "text/plain": [
       "4722"
      ]
     },
     "execution_count": 130,
     "metadata": {},
     "output_type": "execute_result"
    },
    {
     "data": {
      "text/plain": [
       "4693"
      ]
     },
     "execution_count": 130,
     "metadata": {},
     "output_type": "execute_result"
    },
    {
     "data": {
      "text/plain": [
       "4721"
      ]
     },
     "execution_count": 130,
     "metadata": {},
     "output_type": "execute_result"
    },
    {
     "data": {
      "text/plain": [
       "4704"
      ]
     },
     "execution_count": 130,
     "metadata": {},
     "output_type": "execute_result"
    },
    {
     "data": {
      "text/plain": [
       "4705"
      ]
     },
     "execution_count": 130,
     "metadata": {},
     "output_type": "execute_result"
    },
    {
     "data": {
      "text/plain": [
       "4685"
      ]
     },
     "execution_count": 130,
     "metadata": {},
     "output_type": "execute_result"
    },
    {
     "data": {
      "text/plain": [
       "4718"
      ]
     },
     "execution_count": 130,
     "metadata": {},
     "output_type": "execute_result"
    },
    {
     "data": {
      "text/plain": [
       "4713"
      ]
     },
     "execution_count": 130,
     "metadata": {},
     "output_type": "execute_result"
    },
    {
     "data": {
      "text/plain": [
       "4701"
      ]
     },
     "execution_count": 130,
     "metadata": {},
     "output_type": "execute_result"
    },
    {
     "data": {
      "text/plain": [
       "4699"
      ]
     },
     "execution_count": 130,
     "metadata": {},
     "output_type": "execute_result"
    },
    {
     "data": {
      "text/plain": [
       "4712"
      ]
     },
     "execution_count": 130,
     "metadata": {},
     "output_type": "execute_result"
    },
    {
     "data": {
      "text/plain": [
       "4698"
      ]
     },
     "execution_count": 130,
     "metadata": {},
     "output_type": "execute_result"
    },
    {
     "data": {
      "text/plain": [
       "4705"
      ]
     },
     "execution_count": 130,
     "metadata": {},
     "output_type": "execute_result"
    },
    {
     "data": {
      "text/plain": [
       "4727"
      ]
     },
     "execution_count": 130,
     "metadata": {},
     "output_type": "execute_result"
    },
    {
     "data": {
      "text/plain": [
       "4724"
      ]
     },
     "execution_count": 130,
     "metadata": {},
     "output_type": "execute_result"
    },
    {
     "data": {
      "text/plain": [
       "4720"
      ]
     },
     "execution_count": 130,
     "metadata": {},
     "output_type": "execute_result"
    },
    {
     "data": {
      "text/plain": [
       "4698"
      ]
     },
     "execution_count": 130,
     "metadata": {},
     "output_type": "execute_result"
    },
    {
     "data": {
      "text/plain": [
       "4720"
      ]
     },
     "execution_count": 130,
     "metadata": {},
     "output_type": "execute_result"
    },
    {
     "data": {
      "text/plain": [
       "4713"
      ]
     },
     "execution_count": 130,
     "metadata": {},
     "output_type": "execute_result"
    },
    {
     "data": {
      "text/plain": [
       "4687"
      ]
     },
     "execution_count": 130,
     "metadata": {},
     "output_type": "execute_result"
    },
    {
     "data": {
      "text/plain": [
       "4697"
      ]
     },
     "execution_count": 130,
     "metadata": {},
     "output_type": "execute_result"
    },
    {
     "data": {
      "text/plain": [
       "4707"
      ]
     },
     "execution_count": 130,
     "metadata": {},
     "output_type": "execute_result"
    },
    {
     "data": {
      "text/plain": [
       "4692"
      ]
     },
     "execution_count": 130,
     "metadata": {},
     "output_type": "execute_result"
    },
    {
     "data": {
      "text/plain": [
       "4687"
      ]
     },
     "execution_count": 130,
     "metadata": {},
     "output_type": "execute_result"
    },
    {
     "data": {
      "text/plain": [
       "4702"
      ]
     },
     "execution_count": 130,
     "metadata": {},
     "output_type": "execute_result"
    },
    {
     "data": {
      "text/plain": [
       "4723"
      ]
     },
     "execution_count": 130,
     "metadata": {},
     "output_type": "execute_result"
    },
    {
     "data": {
      "text/plain": [
       "4713"
      ]
     },
     "execution_count": 130,
     "metadata": {},
     "output_type": "execute_result"
    },
    {
     "data": {
      "text/plain": [
       "4712"
      ]
     },
     "execution_count": 130,
     "metadata": {},
     "output_type": "execute_result"
    },
    {
     "data": {
      "text/plain": [
       "4688"
      ]
     },
     "execution_count": 130,
     "metadata": {},
     "output_type": "execute_result"
    },
    {
     "data": {
      "text/plain": [
       "4699"
      ]
     },
     "execution_count": 130,
     "metadata": {},
     "output_type": "execute_result"
    },
    {
     "data": {
      "text/plain": [
       "4711"
      ]
     },
     "execution_count": 130,
     "metadata": {},
     "output_type": "execute_result"
    },
    {
     "data": {
      "text/plain": [
       "4726"
      ]
     },
     "execution_count": 130,
     "metadata": {},
     "output_type": "execute_result"
    },
    {
     "data": {
      "text/plain": [
       "4726"
      ]
     },
     "execution_count": 130,
     "metadata": {},
     "output_type": "execute_result"
    },
    {
     "data": {
      "text/plain": [
       "4725"
      ]
     },
     "execution_count": 130,
     "metadata": {},
     "output_type": "execute_result"
    },
    {
     "data": {
      "text/plain": [
       "4743"
      ]
     },
     "execution_count": 130,
     "metadata": {},
     "output_type": "execute_result"
    },
    {
     "data": {
      "text/plain": [
       "4725"
      ]
     },
     "execution_count": 130,
     "metadata": {},
     "output_type": "execute_result"
    },
    {
     "data": {
      "text/plain": [
       "4706"
      ]
     },
     "execution_count": 130,
     "metadata": {},
     "output_type": "execute_result"
    },
    {
     "data": {
      "text/plain": [
       "4712"
      ]
     },
     "execution_count": 130,
     "metadata": {},
     "output_type": "execute_result"
    },
    {
     "data": {
      "text/plain": [
       "4713"
      ]
     },
     "execution_count": 130,
     "metadata": {},
     "output_type": "execute_result"
    },
    {
     "data": {
      "text/plain": [
       "4717"
      ]
     },
     "execution_count": 130,
     "metadata": {},
     "output_type": "execute_result"
    },
    {
     "data": {
      "text/plain": [
       "4705"
      ]
     },
     "execution_count": 130,
     "metadata": {},
     "output_type": "execute_result"
    },
    {
     "data": {
      "text/plain": [
       "4723"
      ]
     },
     "execution_count": 130,
     "metadata": {},
     "output_type": "execute_result"
    },
    {
     "data": {
      "text/plain": [
       "4721"
      ]
     },
     "execution_count": 130,
     "metadata": {},
     "output_type": "execute_result"
    },
    {
     "data": {
      "text/plain": [
       "4692"
      ]
     },
     "execution_count": 130,
     "metadata": {},
     "output_type": "execute_result"
    },
    {
     "data": {
      "text/plain": [
       "4722"
      ]
     },
     "execution_count": 130,
     "metadata": {},
     "output_type": "execute_result"
    },
    {
     "data": {
      "text/plain": [
       "4726"
      ]
     },
     "execution_count": 130,
     "metadata": {},
     "output_type": "execute_result"
    },
    {
     "data": {
      "text/plain": [
       "4727"
      ]
     },
     "execution_count": 130,
     "metadata": {},
     "output_type": "execute_result"
    },
    {
     "data": {
      "text/plain": [
       "4724"
      ]
     },
     "execution_count": 130,
     "metadata": {},
     "output_type": "execute_result"
    },
    {
     "data": {
      "text/plain": [
       "4704"
      ]
     },
     "execution_count": 130,
     "metadata": {},
     "output_type": "execute_result"
    },
    {
     "data": {
      "text/plain": [
       "4706"
      ]
     },
     "execution_count": 130,
     "metadata": {},
     "output_type": "execute_result"
    },
    {
     "data": {
      "text/plain": [
       "4722"
      ]
     },
     "execution_count": 130,
     "metadata": {},
     "output_type": "execute_result"
    },
    {
     "data": {
      "text/plain": [
       "4722"
      ]
     },
     "execution_count": 130,
     "metadata": {},
     "output_type": "execute_result"
    },
    {
     "data": {
      "text/plain": [
       "4701"
      ]
     },
     "execution_count": 130,
     "metadata": {},
     "output_type": "execute_result"
    },
    {
     "data": {
      "text/plain": [
       "4726"
      ]
     },
     "execution_count": 130,
     "metadata": {},
     "output_type": "execute_result"
    },
    {
     "data": {
      "text/plain": [
       "4726"
      ]
     },
     "execution_count": 130,
     "metadata": {},
     "output_type": "execute_result"
    },
    {
     "data": {
      "text/plain": [
       "4713"
      ]
     },
     "execution_count": 130,
     "metadata": {},
     "output_type": "execute_result"
    },
    {
     "data": {
      "text/plain": [
       "4717"
      ]
     },
     "execution_count": 130,
     "metadata": {},
     "output_type": "execute_result"
    },
    {
     "data": {
      "text/plain": [
       "4720"
      ]
     },
     "execution_count": 130,
     "metadata": {},
     "output_type": "execute_result"
    },
    {
     "data": {
      "text/plain": [
       "4726"
      ]
     },
     "execution_count": 130,
     "metadata": {},
     "output_type": "execute_result"
    },
    {
     "data": {
      "text/plain": [
       "4703"
      ]
     },
     "execution_count": 130,
     "metadata": {},
     "output_type": "execute_result"
    },
    {
     "data": {
      "text/plain": [
       "4718"
      ]
     },
     "execution_count": 130,
     "metadata": {},
     "output_type": "execute_result"
    },
    {
     "data": {
      "text/plain": [
       "4700"
      ]
     },
     "execution_count": 130,
     "metadata": {},
     "output_type": "execute_result"
    },
    {
     "data": {
      "text/plain": [
       "4700"
      ]
     },
     "execution_count": 130,
     "metadata": {},
     "output_type": "execute_result"
    },
    {
     "data": {
      "text/plain": [
       "4693"
      ]
     },
     "execution_count": 130,
     "metadata": {},
     "output_type": "execute_result"
    },
    {
     "data": {
      "text/plain": [
       "4691"
      ]
     },
     "execution_count": 130,
     "metadata": {},
     "output_type": "execute_result"
    },
    {
     "data": {
      "text/plain": [
       "4715"
      ]
     },
     "execution_count": 130,
     "metadata": {},
     "output_type": "execute_result"
    },
    {
     "data": {
      "text/plain": [
       "4722"
      ]
     },
     "execution_count": 130,
     "metadata": {},
     "output_type": "execute_result"
    },
    {
     "data": {
      "text/plain": [
       "4727"
      ]
     },
     "execution_count": 130,
     "metadata": {},
     "output_type": "execute_result"
    },
    {
     "data": {
      "text/plain": [
       "4733"
      ]
     },
     "execution_count": 130,
     "metadata": {},
     "output_type": "execute_result"
    },
    {
     "data": {
      "text/plain": [
       "4692"
      ]
     },
     "execution_count": 130,
     "metadata": {},
     "output_type": "execute_result"
    },
    {
     "data": {
      "text/plain": [
       "4704"
      ]
     },
     "execution_count": 130,
     "metadata": {},
     "output_type": "execute_result"
    },
    {
     "data": {
      "text/plain": [
       "4693"
      ]
     },
     "execution_count": 130,
     "metadata": {},
     "output_type": "execute_result"
    },
    {
     "data": {
      "text/plain": [
       "4720"
      ]
     },
     "execution_count": 130,
     "metadata": {},
     "output_type": "execute_result"
    },
    {
     "data": {
      "text/plain": [
       "4715"
      ]
     },
     "execution_count": 130,
     "metadata": {},
     "output_type": "execute_result"
    },
    {
     "data": {
      "text/plain": [
       "4707"
      ]
     },
     "execution_count": 130,
     "metadata": {},
     "output_type": "execute_result"
    },
    {
     "data": {
      "text/plain": [
       "4727"
      ]
     },
     "execution_count": 130,
     "metadata": {},
     "output_type": "execute_result"
    },
    {
     "data": {
      "text/plain": [
       "4724"
      ]
     },
     "execution_count": 130,
     "metadata": {},
     "output_type": "execute_result"
    },
    {
     "data": {
      "text/plain": [
       "4727"
      ]
     },
     "execution_count": 130,
     "metadata": {},
     "output_type": "execute_result"
    },
    {
     "data": {
      "text/plain": [
       "4723"
      ]
     },
     "execution_count": 130,
     "metadata": {},
     "output_type": "execute_result"
    },
    {
     "data": {
      "text/plain": [
       "4724"
      ]
     },
     "execution_count": 130,
     "metadata": {},
     "output_type": "execute_result"
    },
    {
     "data": {
      "text/plain": [
       "4723"
      ]
     },
     "execution_count": 130,
     "metadata": {},
     "output_type": "execute_result"
    },
    {
     "data": {
      "text/plain": [
       "4725"
      ]
     },
     "execution_count": 130,
     "metadata": {},
     "output_type": "execute_result"
    },
    {
     "data": {
      "text/plain": [
       "4725"
      ]
     },
     "execution_count": 130,
     "metadata": {},
     "output_type": "execute_result"
    },
    {
     "data": {
      "text/plain": [
       "4705"
      ]
     },
     "execution_count": 130,
     "metadata": {},
     "output_type": "execute_result"
    },
    {
     "data": {
      "text/plain": [
       "4725"
      ]
     },
     "execution_count": 130,
     "metadata": {},
     "output_type": "execute_result"
    },
    {
     "data": {
      "text/plain": [
       "4731"
      ]
     },
     "execution_count": 130,
     "metadata": {},
     "output_type": "execute_result"
    },
    {
     "data": {
      "text/plain": [
       "4689"
      ]
     },
     "execution_count": 130,
     "metadata": {},
     "output_type": "execute_result"
    },
    {
     "data": {
      "text/plain": [
       "4720"
      ]
     },
     "execution_count": 130,
     "metadata": {},
     "output_type": "execute_result"
    },
    {
     "data": {
      "text/plain": [
       "4707"
      ]
     },
     "execution_count": 130,
     "metadata": {},
     "output_type": "execute_result"
    },
    {
     "data": {
      "text/plain": [
       "4720"
      ]
     },
     "execution_count": 130,
     "metadata": {},
     "output_type": "execute_result"
    },
    {
     "data": {
      "text/plain": [
       "4721"
      ]
     },
     "execution_count": 130,
     "metadata": {},
     "output_type": "execute_result"
    },
    {
     "data": {
      "text/plain": [
       "4700"
      ]
     },
     "execution_count": 130,
     "metadata": {},
     "output_type": "execute_result"
    },
    {
     "data": {
      "text/plain": [
       "4715"
      ]
     },
     "execution_count": 130,
     "metadata": {},
     "output_type": "execute_result"
    },
    {
     "data": {
      "text/plain": [
       "4709"
      ]
     },
     "execution_count": 130,
     "metadata": {},
     "output_type": "execute_result"
    },
    {
     "data": {
      "text/plain": [
       "4717"
      ]
     },
     "execution_count": 130,
     "metadata": {},
     "output_type": "execute_result"
    },
    {
     "data": {
      "text/plain": [
       "4710"
      ]
     },
     "execution_count": 130,
     "metadata": {},
     "output_type": "execute_result"
    },
    {
     "data": {
      "text/plain": [
       "4728"
      ]
     },
     "execution_count": 130,
     "metadata": {},
     "output_type": "execute_result"
    },
    {
     "data": {
      "text/plain": [
       "4725"
      ]
     },
     "execution_count": 130,
     "metadata": {},
     "output_type": "execute_result"
    },
    {
     "data": {
      "text/plain": [
       "4698"
      ]
     },
     "execution_count": 130,
     "metadata": {},
     "output_type": "execute_result"
    },
    {
     "data": {
      "text/plain": [
       "4700"
      ]
     },
     "execution_count": 130,
     "metadata": {},
     "output_type": "execute_result"
    },
    {
     "data": {
      "text/plain": [
       "4699"
      ]
     },
     "execution_count": 130,
     "metadata": {},
     "output_type": "execute_result"
    },
    {
     "data": {
      "text/plain": [
       "4696"
      ]
     },
     "execution_count": 130,
     "metadata": {},
     "output_type": "execute_result"
    },
    {
     "data": {
      "text/plain": [
       "4725"
      ]
     },
     "execution_count": 130,
     "metadata": {},
     "output_type": "execute_result"
    },
    {
     "data": {
      "text/plain": [
       "4726"
      ]
     },
     "execution_count": 130,
     "metadata": {},
     "output_type": "execute_result"
    },
    {
     "data": {
      "text/plain": [
       "4692"
      ]
     },
     "execution_count": 130,
     "metadata": {},
     "output_type": "execute_result"
    },
    {
     "data": {
      "text/plain": [
       "4725"
      ]
     },
     "execution_count": 130,
     "metadata": {},
     "output_type": "execute_result"
    },
    {
     "data": {
      "text/plain": [
       "4729"
      ]
     },
     "execution_count": 130,
     "metadata": {},
     "output_type": "execute_result"
    },
    {
     "data": {
      "text/plain": [
       "4691"
      ]
     },
     "execution_count": 130,
     "metadata": {},
     "output_type": "execute_result"
    },
    {
     "data": {
      "text/plain": [
       "4704"
      ]
     },
     "execution_count": 130,
     "metadata": {},
     "output_type": "execute_result"
    },
    {
     "data": {
      "text/plain": [
       "4724"
      ]
     },
     "execution_count": 130,
     "metadata": {},
     "output_type": "execute_result"
    },
    {
     "data": {
      "text/plain": [
       "4691"
      ]
     },
     "execution_count": 130,
     "metadata": {},
     "output_type": "execute_result"
    },
    {
     "data": {
      "text/plain": [
       "4695"
      ]
     },
     "execution_count": 130,
     "metadata": {},
     "output_type": "execute_result"
    },
    {
     "data": {
      "text/plain": [
       "4732"
      ]
     },
     "execution_count": 130,
     "metadata": {},
     "output_type": "execute_result"
    },
    {
     "data": {
      "text/plain": [
       "4724"
      ]
     },
     "execution_count": 130,
     "metadata": {},
     "output_type": "execute_result"
    },
    {
     "data": {
      "text/plain": [
       "4734"
      ]
     },
     "execution_count": 130,
     "metadata": {},
     "output_type": "execute_result"
    },
    {
     "data": {
      "text/plain": [
       "4716"
      ]
     },
     "execution_count": 130,
     "metadata": {},
     "output_type": "execute_result"
    },
    {
     "data": {
      "text/plain": [
       "4721"
      ]
     },
     "execution_count": 130,
     "metadata": {},
     "output_type": "execute_result"
    },
    {
     "data": {
      "text/plain": [
       "4732"
      ]
     },
     "execution_count": 130,
     "metadata": {},
     "output_type": "execute_result"
    },
    {
     "data": {
      "text/plain": [
       "4733"
      ]
     },
     "execution_count": 130,
     "metadata": {},
     "output_type": "execute_result"
    },
    {
     "data": {
      "text/plain": [
       "4732"
      ]
     },
     "execution_count": 130,
     "metadata": {},
     "output_type": "execute_result"
    },
    {
     "data": {
      "text/plain": [
       "4721"
      ]
     },
     "execution_count": 130,
     "metadata": {},
     "output_type": "execute_result"
    },
    {
     "data": {
      "text/plain": [
       "4721"
      ]
     },
     "execution_count": 130,
     "metadata": {},
     "output_type": "execute_result"
    },
    {
     "data": {
      "text/plain": [
       "4720"
      ]
     },
     "execution_count": 130,
     "metadata": {},
     "output_type": "execute_result"
    },
    {
     "data": {
      "text/plain": [
       "4720"
      ]
     },
     "execution_count": 130,
     "metadata": {},
     "output_type": "execute_result"
    },
    {
     "data": {
      "text/plain": [
       "4708"
      ]
     },
     "execution_count": 130,
     "metadata": {},
     "output_type": "execute_result"
    },
    {
     "data": {
      "text/plain": [
       "4723"
      ]
     },
     "execution_count": 130,
     "metadata": {},
     "output_type": "execute_result"
    },
    {
     "data": {
      "text/plain": [
       "4725"
      ]
     },
     "execution_count": 130,
     "metadata": {},
     "output_type": "execute_result"
    },
    {
     "data": {
      "text/plain": [
       "4690"
      ]
     },
     "execution_count": 130,
     "metadata": {},
     "output_type": "execute_result"
    },
    {
     "data": {
      "text/plain": [
       "4725"
      ]
     },
     "execution_count": 130,
     "metadata": {},
     "output_type": "execute_result"
    },
    {
     "data": {
      "text/plain": [
       "4723"
      ]
     },
     "execution_count": 130,
     "metadata": {},
     "output_type": "execute_result"
    },
    {
     "data": {
      "text/plain": [
       "4723"
      ]
     },
     "execution_count": 130,
     "metadata": {},
     "output_type": "execute_result"
    },
    {
     "data": {
      "text/plain": [
       "4721"
      ]
     },
     "execution_count": 130,
     "metadata": {},
     "output_type": "execute_result"
    },
    {
     "data": {
      "text/plain": [
       "4720"
      ]
     },
     "execution_count": 130,
     "metadata": {},
     "output_type": "execute_result"
    },
    {
     "data": {
      "text/plain": [
       "4721"
      ]
     },
     "execution_count": 130,
     "metadata": {},
     "output_type": "execute_result"
    },
    {
     "data": {
      "text/plain": [
       "4723"
      ]
     },
     "execution_count": 130,
     "metadata": {},
     "output_type": "execute_result"
    },
    {
     "data": {
      "text/plain": [
       "4734"
      ]
     },
     "execution_count": 130,
     "metadata": {},
     "output_type": "execute_result"
    },
    {
     "data": {
      "text/plain": [
       "4734"
      ]
     },
     "execution_count": 130,
     "metadata": {},
     "output_type": "execute_result"
    },
    {
     "data": {
      "text/plain": [
       "4716"
      ]
     },
     "execution_count": 130,
     "metadata": {},
     "output_type": "execute_result"
    },
    {
     "data": {
      "text/plain": [
       "4716"
      ]
     },
     "execution_count": 130,
     "metadata": {},
     "output_type": "execute_result"
    },
    {
     "data": {
      "text/plain": [
       "4716"
      ]
     },
     "execution_count": 130,
     "metadata": {},
     "output_type": "execute_result"
    },
    {
     "data": {
      "text/plain": [
       "4729"
      ]
     },
     "execution_count": 130,
     "metadata": {},
     "output_type": "execute_result"
    },
    {
     "data": {
      "text/plain": [
       "4703"
      ]
     },
     "execution_count": 130,
     "metadata": {},
     "output_type": "execute_result"
    },
    {
     "data": {
      "text/plain": [
       "4716"
      ]
     },
     "execution_count": 130,
     "metadata": {},
     "output_type": "execute_result"
    },
    {
     "data": {
      "text/plain": [
       "4715"
      ]
     },
     "execution_count": 130,
     "metadata": {},
     "output_type": "execute_result"
    },
    {
     "data": {
      "text/plain": [
       "4716"
      ]
     },
     "execution_count": 130,
     "metadata": {},
     "output_type": "execute_result"
    },
    {
     "data": {
      "text/plain": [
       "4705"
      ]
     },
     "execution_count": 130,
     "metadata": {},
     "output_type": "execute_result"
    },
    {
     "data": {
      "text/plain": [
       "4697"
      ]
     },
     "execution_count": 130,
     "metadata": {},
     "output_type": "execute_result"
    },
    {
     "data": {
      "text/plain": [
       "4706"
      ]
     },
     "execution_count": 130,
     "metadata": {},
     "output_type": "execute_result"
    },
    {
     "data": {
      "text/plain": [
       "4701"
      ]
     },
     "execution_count": 130,
     "metadata": {},
     "output_type": "execute_result"
    },
    {
     "data": {
      "text/plain": [
       "4725"
      ]
     },
     "execution_count": 130,
     "metadata": {},
     "output_type": "execute_result"
    },
    {
     "data": {
      "text/plain": [
       "4698"
      ]
     },
     "execution_count": 130,
     "metadata": {},
     "output_type": "execute_result"
    },
    {
     "data": {
      "text/plain": [
       "4694"
      ]
     },
     "execution_count": 130,
     "metadata": {},
     "output_type": "execute_result"
    },
    {
     "data": {
      "text/plain": [
       "4697"
      ]
     },
     "execution_count": 130,
     "metadata": {},
     "output_type": "execute_result"
    },
    {
     "data": {
      "text/plain": [
       "4701"
      ]
     },
     "execution_count": 130,
     "metadata": {},
     "output_type": "execute_result"
    },
    {
     "data": {
      "text/plain": [
       "4697"
      ]
     },
     "execution_count": 130,
     "metadata": {},
     "output_type": "execute_result"
    },
    {
     "data": {
      "text/plain": [
       "4719"
      ]
     },
     "execution_count": 130,
     "metadata": {},
     "output_type": "execute_result"
    },
    {
     "data": {
      "text/plain": [
       "4716"
      ]
     },
     "execution_count": 130,
     "metadata": {},
     "output_type": "execute_result"
    },
    {
     "data": {
      "text/plain": [
       "4725"
      ]
     },
     "execution_count": 130,
     "metadata": {},
     "output_type": "execute_result"
    },
    {
     "data": {
      "text/plain": [
       "4725"
      ]
     },
     "execution_count": 130,
     "metadata": {},
     "output_type": "execute_result"
    },
    {
     "data": {
      "text/plain": [
       "4725"
      ]
     },
     "execution_count": 130,
     "metadata": {},
     "output_type": "execute_result"
    },
    {
     "data": {
      "text/plain": [
       "4723"
      ]
     },
     "execution_count": 130,
     "metadata": {},
     "output_type": "execute_result"
    },
    {
     "data": {
      "text/plain": [
       "4727"
      ]
     },
     "execution_count": 130,
     "metadata": {},
     "output_type": "execute_result"
    },
    {
     "data": {
      "text/plain": [
       "4708"
      ]
     },
     "execution_count": 130,
     "metadata": {},
     "output_type": "execute_result"
    },
    {
     "data": {
      "text/plain": [
       "4723"
      ]
     },
     "execution_count": 130,
     "metadata": {},
     "output_type": "execute_result"
    },
    {
     "data": {
      "text/plain": [
       "4724"
      ]
     },
     "execution_count": 130,
     "metadata": {},
     "output_type": "execute_result"
    },
    {
     "data": {
      "text/plain": [
       "4723"
      ]
     },
     "execution_count": 130,
     "metadata": {},
     "output_type": "execute_result"
    },
    {
     "data": {
      "text/plain": [
       "4724"
      ]
     },
     "execution_count": 130,
     "metadata": {},
     "output_type": "execute_result"
    },
    {
     "data": {
      "text/plain": [
       "4722"
      ]
     },
     "execution_count": 130,
     "metadata": {},
     "output_type": "execute_result"
    },
    {
     "data": {
      "text/plain": [
       "4698"
      ]
     },
     "execution_count": 130,
     "metadata": {},
     "output_type": "execute_result"
    },
    {
     "data": {
      "text/plain": [
       "4725"
      ]
     },
     "execution_count": 130,
     "metadata": {},
     "output_type": "execute_result"
    },
    {
     "data": {
      "text/plain": [
       "4724"
      ]
     },
     "execution_count": 130,
     "metadata": {},
     "output_type": "execute_result"
    },
    {
     "data": {
      "text/plain": [
       "4704"
      ]
     },
     "execution_count": 130,
     "metadata": {},
     "output_type": "execute_result"
    },
    {
     "data": {
      "text/plain": [
       "4704"
      ]
     },
     "execution_count": 130,
     "metadata": {},
     "output_type": "execute_result"
    },
    {
     "data": {
      "text/plain": [
       "4724"
      ]
     },
     "execution_count": 130,
     "metadata": {},
     "output_type": "execute_result"
    },
    {
     "data": {
      "text/plain": [
       "4724"
      ]
     },
     "execution_count": 130,
     "metadata": {},
     "output_type": "execute_result"
    },
    {
     "data": {
      "text/plain": [
       "4702"
      ]
     },
     "execution_count": 130,
     "metadata": {},
     "output_type": "execute_result"
    },
    {
     "data": {
      "text/plain": [
       "4723"
      ]
     },
     "execution_count": 130,
     "metadata": {},
     "output_type": "execute_result"
    },
    {
     "data": {
      "text/plain": [
       "4691"
      ]
     },
     "execution_count": 130,
     "metadata": {},
     "output_type": "execute_result"
    },
    {
     "data": {
      "text/plain": [
       "4722"
      ]
     },
     "execution_count": 130,
     "metadata": {},
     "output_type": "execute_result"
    },
    {
     "data": {
      "text/plain": [
       "4694"
      ]
     },
     "execution_count": 130,
     "metadata": {},
     "output_type": "execute_result"
    },
    {
     "data": {
      "text/plain": [
       "4716"
      ]
     },
     "execution_count": 130,
     "metadata": {},
     "output_type": "execute_result"
    },
    {
     "data": {
      "text/plain": [
       "4729"
      ]
     },
     "execution_count": 130,
     "metadata": {},
     "output_type": "execute_result"
    },
    {
     "data": {
      "text/plain": [
       "4729"
      ]
     },
     "execution_count": 130,
     "metadata": {},
     "output_type": "execute_result"
    },
    {
     "data": {
      "text/plain": [
       "4711"
      ]
     },
     "execution_count": 130,
     "metadata": {},
     "output_type": "execute_result"
    },
    {
     "data": {
      "text/plain": [
       "4716"
      ]
     },
     "execution_count": 130,
     "metadata": {},
     "output_type": "execute_result"
    },
    {
     "data": {
      "text/plain": [
       "4722"
      ]
     },
     "execution_count": 130,
     "metadata": {},
     "output_type": "execute_result"
    },
    {
     "data": {
      "text/plain": [
       "4721"
      ]
     },
     "execution_count": 130,
     "metadata": {},
     "output_type": "execute_result"
    },
    {
     "data": {
      "text/plain": [
       "4694"
      ]
     },
     "execution_count": 130,
     "metadata": {},
     "output_type": "execute_result"
    },
    {
     "data": {
      "text/plain": [
       "4691"
      ]
     },
     "execution_count": 130,
     "metadata": {},
     "output_type": "execute_result"
    },
    {
     "data": {
      "text/plain": [
       "4704"
      ]
     },
     "execution_count": 130,
     "metadata": {},
     "output_type": "execute_result"
    },
    {
     "data": {
      "text/plain": [
       "4717"
      ]
     },
     "execution_count": 130,
     "metadata": {},
     "output_type": "execute_result"
    },
    {
     "data": {
      "text/plain": [
       "4691"
      ]
     },
     "execution_count": 130,
     "metadata": {},
     "output_type": "execute_result"
    },
    {
     "data": {
      "text/plain": [
       "4706"
      ]
     },
     "execution_count": 130,
     "metadata": {},
     "output_type": "execute_result"
    },
    {
     "data": {
      "text/plain": [
       "4705"
      ]
     },
     "execution_count": 130,
     "metadata": {},
     "output_type": "execute_result"
    },
    {
     "data": {
      "text/plain": [
       "4700"
      ]
     },
     "execution_count": 130,
     "metadata": {},
     "output_type": "execute_result"
    },
    {
     "data": {
      "text/plain": [
       "4727"
      ]
     },
     "execution_count": 130,
     "metadata": {},
     "output_type": "execute_result"
    },
    {
     "data": {
      "text/plain": [
       "4725"
      ]
     },
     "execution_count": 130,
     "metadata": {},
     "output_type": "execute_result"
    },
    {
     "data": {
      "text/plain": [
       "4723"
      ]
     },
     "execution_count": 130,
     "metadata": {},
     "output_type": "execute_result"
    },
    {
     "data": {
      "text/plain": [
       "4727"
      ]
     },
     "execution_count": 130,
     "metadata": {},
     "output_type": "execute_result"
    },
    {
     "data": {
      "text/plain": [
       "4733"
      ]
     },
     "execution_count": 130,
     "metadata": {},
     "output_type": "execute_result"
    },
    {
     "data": {
      "text/plain": [
       "4732"
      ]
     },
     "execution_count": 130,
     "metadata": {},
     "output_type": "execute_result"
    },
    {
     "data": {
      "text/plain": [
       "4730"
      ]
     },
     "execution_count": 130,
     "metadata": {},
     "output_type": "execute_result"
    },
    {
     "data": {
      "text/plain": [
       "4721"
      ]
     },
     "execution_count": 130,
     "metadata": {},
     "output_type": "execute_result"
    },
    {
     "data": {
      "text/plain": [
       "4706"
      ]
     },
     "execution_count": 130,
     "metadata": {},
     "output_type": "execute_result"
    },
    {
     "data": {
      "text/plain": [
       "4706"
      ]
     },
     "execution_count": 130,
     "metadata": {},
     "output_type": "execute_result"
    },
    {
     "data": {
      "text/plain": [
       "4711"
      ]
     },
     "execution_count": 130,
     "metadata": {},
     "output_type": "execute_result"
    },
    {
     "data": {
      "text/plain": [
       "4696"
      ]
     },
     "execution_count": 130,
     "metadata": {},
     "output_type": "execute_result"
    },
    {
     "data": {
      "text/plain": [
       "4709"
      ]
     },
     "execution_count": 130,
     "metadata": {},
     "output_type": "execute_result"
    },
    {
     "data": {
      "text/plain": [
       "4690"
      ]
     },
     "execution_count": 130,
     "metadata": {},
     "output_type": "execute_result"
    },
    {
     "data": {
      "text/plain": [
       "4694"
      ]
     },
     "execution_count": 130,
     "metadata": {},
     "output_type": "execute_result"
    },
    {
     "data": {
      "text/plain": [
       "4689"
      ]
     },
     "execution_count": 130,
     "metadata": {},
     "output_type": "execute_result"
    },
    {
     "data": {
      "text/plain": [
       "4699"
      ]
     },
     "execution_count": 130,
     "metadata": {},
     "output_type": "execute_result"
    },
    {
     "data": {
      "text/plain": [
       "4724"
      ]
     },
     "execution_count": 130,
     "metadata": {},
     "output_type": "execute_result"
    },
    {
     "data": {
      "text/plain": [
       "4703"
      ]
     },
     "execution_count": 130,
     "metadata": {},
     "output_type": "execute_result"
    },
    {
     "data": {
      "text/plain": [
       "4743"
      ]
     },
     "execution_count": 130,
     "metadata": {},
     "output_type": "execute_result"
    },
    {
     "data": {
      "text/plain": [
       "4724"
      ]
     },
     "execution_count": 130,
     "metadata": {},
     "output_type": "execute_result"
    },
    {
     "data": {
      "text/plain": [
       "4755"
      ]
     },
     "execution_count": 130,
     "metadata": {},
     "output_type": "execute_result"
    },
    {
     "data": {
      "text/plain": [
       "4704"
      ]
     },
     "execution_count": 130,
     "metadata": {},
     "output_type": "execute_result"
    },
    {
     "data": {
      "text/plain": [
       "4723"
      ]
     },
     "execution_count": 130,
     "metadata": {},
     "output_type": "execute_result"
    },
    {
     "data": {
      "text/plain": [
       "4695"
      ]
     },
     "execution_count": 130,
     "metadata": {},
     "output_type": "execute_result"
    },
    {
     "data": {
      "text/plain": [
       "4700"
      ]
     },
     "execution_count": 130,
     "metadata": {},
     "output_type": "execute_result"
    },
    {
     "data": {
      "text/plain": [
       "4705"
      ]
     },
     "execution_count": 130,
     "metadata": {},
     "output_type": "execute_result"
    },
    {
     "data": {
      "text/plain": [
       "4725"
      ]
     },
     "execution_count": 130,
     "metadata": {},
     "output_type": "execute_result"
    },
    {
     "data": {
      "text/plain": [
       "4698"
      ]
     },
     "execution_count": 130,
     "metadata": {},
     "output_type": "execute_result"
    },
    {
     "data": {
      "text/plain": [
       "4721"
      ]
     },
     "execution_count": 130,
     "metadata": {},
     "output_type": "execute_result"
    },
    {
     "data": {
      "text/plain": [
       "4724"
      ]
     },
     "execution_count": 130,
     "metadata": {},
     "output_type": "execute_result"
    },
    {
     "data": {
      "text/plain": [
       "4723"
      ]
     },
     "execution_count": 130,
     "metadata": {},
     "output_type": "execute_result"
    },
    {
     "data": {
      "text/plain": [
       "4729"
      ]
     },
     "execution_count": 130,
     "metadata": {},
     "output_type": "execute_result"
    },
    {
     "data": {
      "text/plain": [
       "4728"
      ]
     },
     "execution_count": 130,
     "metadata": {},
     "output_type": "execute_result"
    },
    {
     "data": {
      "text/plain": [
       "4724"
      ]
     },
     "execution_count": 130,
     "metadata": {},
     "output_type": "execute_result"
    },
    {
     "data": {
      "text/plain": [
       "4722"
      ]
     },
     "execution_count": 130,
     "metadata": {},
     "output_type": "execute_result"
    },
    {
     "data": {
      "text/plain": [
       "4724"
      ]
     },
     "execution_count": 130,
     "metadata": {},
     "output_type": "execute_result"
    },
    {
     "data": {
      "text/plain": [
       "4725"
      ]
     },
     "execution_count": 130,
     "metadata": {},
     "output_type": "execute_result"
    },
    {
     "data": {
      "text/plain": [
       "4719"
      ]
     },
     "execution_count": 130,
     "metadata": {},
     "output_type": "execute_result"
    },
    {
     "data": {
      "text/plain": [
       "4723"
      ]
     },
     "execution_count": 130,
     "metadata": {},
     "output_type": "execute_result"
    },
    {
     "data": {
      "text/plain": [
       "4735"
      ]
     },
     "execution_count": 130,
     "metadata": {},
     "output_type": "execute_result"
    },
    {
     "data": {
      "text/plain": [
       "4713"
      ]
     },
     "execution_count": 130,
     "metadata": {},
     "output_type": "execute_result"
    },
    {
     "data": {
      "text/plain": [
       "4718"
      ]
     },
     "execution_count": 130,
     "metadata": {},
     "output_type": "execute_result"
    },
    {
     "data": {
      "text/plain": [
       "4723"
      ]
     },
     "execution_count": 130,
     "metadata": {},
     "output_type": "execute_result"
    },
    {
     "data": {
      "text/plain": [
       "4718"
      ]
     },
     "execution_count": 130,
     "metadata": {},
     "output_type": "execute_result"
    },
    {
     "data": {
      "text/plain": [
       "4717"
      ]
     },
     "execution_count": 130,
     "metadata": {},
     "output_type": "execute_result"
    },
    {
     "data": {
      "text/plain": [
       "4748"
      ]
     },
     "execution_count": 130,
     "metadata": {},
     "output_type": "execute_result"
    },
    {
     "data": {
      "text/plain": [
       "4722"
      ]
     },
     "execution_count": 130,
     "metadata": {},
     "output_type": "execute_result"
    },
    {
     "data": {
      "text/plain": [
       "4747"
      ]
     },
     "execution_count": 130,
     "metadata": {},
     "output_type": "execute_result"
    },
    {
     "data": {
      "text/plain": [
       "4717"
      ]
     },
     "execution_count": 130,
     "metadata": {},
     "output_type": "execute_result"
    },
    {
     "data": {
      "text/plain": [
       "4716"
      ]
     },
     "execution_count": 130,
     "metadata": {},
     "output_type": "execute_result"
    },
    {
     "data": {
      "text/plain": [
       "4726"
      ]
     },
     "execution_count": 130,
     "metadata": {},
     "output_type": "execute_result"
    },
    {
     "data": {
      "text/plain": [
       "4708"
      ]
     },
     "execution_count": 130,
     "metadata": {},
     "output_type": "execute_result"
    },
    {
     "data": {
      "text/plain": [
       "4733"
      ]
     },
     "execution_count": 130,
     "metadata": {},
     "output_type": "execute_result"
    },
    {
     "data": {
      "text/plain": [
       "4711"
      ]
     },
     "execution_count": 130,
     "metadata": {},
     "output_type": "execute_result"
    },
    {
     "data": {
      "text/plain": [
       "4714"
      ]
     },
     "execution_count": 130,
     "metadata": {},
     "output_type": "execute_result"
    },
    {
     "data": {
      "text/plain": [
       "4716"
      ]
     },
     "execution_count": 130,
     "metadata": {},
     "output_type": "execute_result"
    },
    {
     "data": {
      "text/plain": [
       "4723"
      ]
     },
     "execution_count": 130,
     "metadata": {},
     "output_type": "execute_result"
    },
    {
     "data": {
      "text/plain": [
       "4718"
      ]
     },
     "execution_count": 130,
     "metadata": {},
     "output_type": "execute_result"
    },
    {
     "data": {
      "text/plain": [
       "4711"
      ]
     },
     "execution_count": 130,
     "metadata": {},
     "output_type": "execute_result"
    },
    {
     "data": {
      "text/plain": [
       "4748"
      ]
     },
     "execution_count": 130,
     "metadata": {},
     "output_type": "execute_result"
    },
    {
     "data": {
      "text/plain": [
       "4747"
      ]
     },
     "execution_count": 130,
     "metadata": {},
     "output_type": "execute_result"
    },
    {
     "data": {
      "text/plain": [
       "4695"
      ]
     },
     "execution_count": 130,
     "metadata": {},
     "output_type": "execute_result"
    },
    {
     "data": {
      "text/plain": [
       "4734"
      ]
     },
     "execution_count": 130,
     "metadata": {},
     "output_type": "execute_result"
    },
    {
     "data": {
      "text/plain": [
       "4719"
      ]
     },
     "execution_count": 130,
     "metadata": {},
     "output_type": "execute_result"
    },
    {
     "data": {
      "text/plain": [
       "4722"
      ]
     },
     "execution_count": 130,
     "metadata": {},
     "output_type": "execute_result"
    },
    {
     "data": {
      "text/plain": [
       "4725"
      ]
     },
     "execution_count": 130,
     "metadata": {},
     "output_type": "execute_result"
    },
    {
     "data": {
      "text/plain": [
       "4706"
      ]
     },
     "execution_count": 130,
     "metadata": {},
     "output_type": "execute_result"
    },
    {
     "data": {
      "text/plain": [
       "4727"
      ]
     },
     "execution_count": 130,
     "metadata": {},
     "output_type": "execute_result"
    },
    {
     "data": {
      "text/plain": [
       "4719"
      ]
     },
     "execution_count": 130,
     "metadata": {},
     "output_type": "execute_result"
    },
    {
     "data": {
      "text/plain": [
       "4724"
      ]
     },
     "execution_count": 130,
     "metadata": {},
     "output_type": "execute_result"
    },
    {
     "data": {
      "text/plain": [
       "4700"
      ]
     },
     "execution_count": 130,
     "metadata": {},
     "output_type": "execute_result"
    },
    {
     "data": {
      "text/plain": [
       "4694"
      ]
     },
     "execution_count": 130,
     "metadata": {},
     "output_type": "execute_result"
    },
    {
     "data": {
      "text/plain": [
       "4708"
      ]
     },
     "execution_count": 130,
     "metadata": {},
     "output_type": "execute_result"
    },
    {
     "data": {
      "text/plain": [
       "4725"
      ]
     },
     "execution_count": 130,
     "metadata": {},
     "output_type": "execute_result"
    },
    {
     "data": {
      "text/plain": [
       "4703"
      ]
     },
     "execution_count": 130,
     "metadata": {},
     "output_type": "execute_result"
    },
    {
     "data": {
      "text/plain": [
       "4703"
      ]
     },
     "execution_count": 130,
     "metadata": {},
     "output_type": "execute_result"
    },
    {
     "data": {
      "text/plain": [
       "4699"
      ]
     },
     "execution_count": 130,
     "metadata": {},
     "output_type": "execute_result"
    },
    {
     "data": {
      "text/plain": [
       "4704"
      ]
     },
     "execution_count": 130,
     "metadata": {},
     "output_type": "execute_result"
    },
    {
     "data": {
      "text/plain": [
       "4711"
      ]
     },
     "execution_count": 130,
     "metadata": {},
     "output_type": "execute_result"
    },
    {
     "data": {
      "text/plain": [
       "4724"
      ]
     },
     "execution_count": 130,
     "metadata": {},
     "output_type": "execute_result"
    },
    {
     "data": {
      "text/plain": [
       "4724"
      ]
     },
     "execution_count": 130,
     "metadata": {},
     "output_type": "execute_result"
    },
    {
     "data": {
      "text/plain": [
       "4725"
      ]
     },
     "execution_count": 130,
     "metadata": {},
     "output_type": "execute_result"
    },
    {
     "data": {
      "text/plain": [
       "4726"
      ]
     },
     "execution_count": 130,
     "metadata": {},
     "output_type": "execute_result"
    },
    {
     "data": {
      "text/plain": [
       "4726"
      ]
     },
     "execution_count": 130,
     "metadata": {},
     "output_type": "execute_result"
    },
    {
     "data": {
      "text/plain": [
       "4719"
      ]
     },
     "execution_count": 130,
     "metadata": {},
     "output_type": "execute_result"
    },
    {
     "data": {
      "text/plain": [
       "4733"
      ]
     },
     "execution_count": 130,
     "metadata": {},
     "output_type": "execute_result"
    },
    {
     "data": {
      "text/plain": [
       "4723"
      ]
     },
     "execution_count": 130,
     "metadata": {},
     "output_type": "execute_result"
    },
    {
     "data": {
      "text/plain": [
       "4723"
      ]
     },
     "execution_count": 130,
     "metadata": {},
     "output_type": "execute_result"
    },
    {
     "data": {
      "text/plain": [
       "4724"
      ]
     },
     "execution_count": 130,
     "metadata": {},
     "output_type": "execute_result"
    },
    {
     "data": {
      "text/plain": [
       "4694"
      ]
     },
     "execution_count": 130,
     "metadata": {},
     "output_type": "execute_result"
    },
    {
     "data": {
      "text/plain": [
       "4724"
      ]
     },
     "execution_count": 130,
     "metadata": {},
     "output_type": "execute_result"
    },
    {
     "data": {
      "text/plain": [
       "4703"
      ]
     },
     "execution_count": 130,
     "metadata": {},
     "output_type": "execute_result"
    },
    {
     "data": {
      "text/plain": [
       "4715"
      ]
     },
     "execution_count": 130,
     "metadata": {},
     "output_type": "execute_result"
    },
    {
     "data": {
      "text/plain": [
       "4722"
      ]
     },
     "execution_count": 130,
     "metadata": {},
     "output_type": "execute_result"
    },
    {
     "data": {
      "text/plain": [
       "4725"
      ]
     },
     "execution_count": 130,
     "metadata": {},
     "output_type": "execute_result"
    },
    {
     "data": {
      "text/plain": [
       "4727"
      ]
     },
     "execution_count": 130,
     "metadata": {},
     "output_type": "execute_result"
    },
    {
     "data": {
      "text/plain": [
       "4727"
      ]
     },
     "execution_count": 130,
     "metadata": {},
     "output_type": "execute_result"
    },
    {
     "data": {
      "text/plain": [
       "4727"
      ]
     },
     "execution_count": 130,
     "metadata": {},
     "output_type": "execute_result"
    },
    {
     "data": {
      "text/plain": [
       "4724"
      ]
     },
     "execution_count": 130,
     "metadata": {},
     "output_type": "execute_result"
    },
    {
     "data": {
      "text/plain": [
       "4727"
      ]
     },
     "execution_count": 130,
     "metadata": {},
     "output_type": "execute_result"
    },
    {
     "data": {
      "text/plain": [
       "4728"
      ]
     },
     "execution_count": 130,
     "metadata": {},
     "output_type": "execute_result"
    },
    {
     "data": {
      "text/plain": [
       "4727"
      ]
     },
     "execution_count": 130,
     "metadata": {},
     "output_type": "execute_result"
    },
    {
     "data": {
      "text/plain": [
       "4693"
      ]
     },
     "execution_count": 130,
     "metadata": {},
     "output_type": "execute_result"
    },
    {
     "data": {
      "text/plain": [
       "4727"
      ]
     },
     "execution_count": 130,
     "metadata": {},
     "output_type": "execute_result"
    },
    {
     "data": {
      "text/plain": [
       "4727"
      ]
     },
     "execution_count": 130,
     "metadata": {},
     "output_type": "execute_result"
    },
    {
     "data": {
      "text/plain": [
       "4726"
      ]
     },
     "execution_count": 130,
     "metadata": {},
     "output_type": "execute_result"
    },
    {
     "data": {
      "text/plain": [
       "4701"
      ]
     },
     "execution_count": 130,
     "metadata": {},
     "output_type": "execute_result"
    },
    {
     "data": {
      "text/plain": [
       "4698"
      ]
     },
     "execution_count": 130,
     "metadata": {},
     "output_type": "execute_result"
    },
    {
     "data": {
      "text/plain": [
       "4728"
      ]
     },
     "execution_count": 130,
     "metadata": {},
     "output_type": "execute_result"
    },
    {
     "data": {
      "text/plain": [
       "4733"
      ]
     },
     "execution_count": 130,
     "metadata": {},
     "output_type": "execute_result"
    },
    {
     "data": {
      "text/plain": [
       "4723"
      ]
     },
     "execution_count": 130,
     "metadata": {},
     "output_type": "execute_result"
    },
    {
     "data": {
      "text/plain": [
       "4724"
      ]
     },
     "execution_count": 130,
     "metadata": {},
     "output_type": "execute_result"
    },
    {
     "data": {
      "text/plain": [
       "4728"
      ]
     },
     "execution_count": 130,
     "metadata": {},
     "output_type": "execute_result"
    },
    {
     "data": {
      "text/plain": [
       "4696"
      ]
     },
     "execution_count": 130,
     "metadata": {},
     "output_type": "execute_result"
    },
    {
     "data": {
      "text/plain": [
       "4719"
      ]
     },
     "execution_count": 130,
     "metadata": {},
     "output_type": "execute_result"
    },
    {
     "data": {
      "text/plain": [
       "4719"
      ]
     },
     "execution_count": 130,
     "metadata": {},
     "output_type": "execute_result"
    },
    {
     "data": {
      "text/plain": [
       "4715"
      ]
     },
     "execution_count": 130,
     "metadata": {},
     "output_type": "execute_result"
    },
    {
     "data": {
      "text/plain": [
       "4706"
      ]
     },
     "execution_count": 130,
     "metadata": {},
     "output_type": "execute_result"
    },
    {
     "data": {
      "text/plain": [
       "4730"
      ]
     },
     "execution_count": 130,
     "metadata": {},
     "output_type": "execute_result"
    },
    {
     "data": {
      "text/plain": [
       "4694"
      ]
     },
     "execution_count": 130,
     "metadata": {},
     "output_type": "execute_result"
    },
    {
     "data": {
      "text/plain": [
       "4747"
      ]
     },
     "execution_count": 130,
     "metadata": {},
     "output_type": "execute_result"
    },
    {
     "data": {
      "text/plain": [
       "4734"
      ]
     },
     "execution_count": 130,
     "metadata": {},
     "output_type": "execute_result"
    },
    {
     "data": {
      "text/plain": [
       "4735"
      ]
     },
     "execution_count": 130,
     "metadata": {},
     "output_type": "execute_result"
    },
    {
     "data": {
      "text/plain": [
       "4710"
      ]
     },
     "execution_count": 130,
     "metadata": {},
     "output_type": "execute_result"
    },
    {
     "data": {
      "text/plain": [
       "4725"
      ]
     },
     "execution_count": 130,
     "metadata": {},
     "output_type": "execute_result"
    },
    {
     "data": {
      "text/plain": [
       "4707"
      ]
     },
     "execution_count": 130,
     "metadata": {},
     "output_type": "execute_result"
    },
    {
     "data": {
      "text/plain": [
       "4698"
      ]
     },
     "execution_count": 130,
     "metadata": {},
     "output_type": "execute_result"
    },
    {
     "data": {
      "text/plain": [
       "4726"
      ]
     },
     "execution_count": 130,
     "metadata": {},
     "output_type": "execute_result"
    },
    {
     "data": {
      "text/plain": [
       "4719"
      ]
     },
     "execution_count": 130,
     "metadata": {},
     "output_type": "execute_result"
    },
    {
     "data": {
      "text/plain": [
       "4717"
      ]
     },
     "execution_count": 130,
     "metadata": {},
     "output_type": "execute_result"
    },
    {
     "data": {
      "text/plain": [
       "4690"
      ]
     },
     "execution_count": 130,
     "metadata": {},
     "output_type": "execute_result"
    },
    {
     "data": {
      "text/plain": [
       "4690"
      ]
     },
     "execution_count": 130,
     "metadata": {},
     "output_type": "execute_result"
    },
    {
     "data": {
      "text/plain": [
       "4705"
      ]
     },
     "execution_count": 130,
     "metadata": {},
     "output_type": "execute_result"
    },
    {
     "data": {
      "text/plain": [
       "4722"
      ]
     },
     "execution_count": 130,
     "metadata": {},
     "output_type": "execute_result"
    },
    {
     "data": {
      "text/plain": [
       "4709"
      ]
     },
     "execution_count": 130,
     "metadata": {},
     "output_type": "execute_result"
    },
    {
     "data": {
      "text/plain": [
       "4696"
      ]
     },
     "execution_count": 130,
     "metadata": {},
     "output_type": "execute_result"
    },
    {
     "data": {
      "text/plain": [
       "4718"
      ]
     },
     "execution_count": 130,
     "metadata": {},
     "output_type": "execute_result"
    },
    {
     "data": {
      "text/plain": [
       "4718"
      ]
     },
     "execution_count": 130,
     "metadata": {},
     "output_type": "execute_result"
    },
    {
     "data": {
      "text/plain": [
       "4723"
      ]
     },
     "execution_count": 130,
     "metadata": {},
     "output_type": "execute_result"
    },
    {
     "data": {
      "text/plain": [
       "4693"
      ]
     },
     "execution_count": 130,
     "metadata": {},
     "output_type": "execute_result"
    },
    {
     "data": {
      "text/plain": [
       "4718"
      ]
     },
     "execution_count": 130,
     "metadata": {},
     "output_type": "execute_result"
    },
    {
     "data": {
      "text/plain": [
       "4717"
      ]
     },
     "execution_count": 130,
     "metadata": {},
     "output_type": "execute_result"
    },
    {
     "data": {
      "text/plain": [
       "4716"
      ]
     },
     "execution_count": 130,
     "metadata": {},
     "output_type": "execute_result"
    },
    {
     "data": {
      "text/plain": [
       "4702"
      ]
     },
     "execution_count": 130,
     "metadata": {},
     "output_type": "execute_result"
    },
    {
     "data": {
      "text/plain": [
       "4706"
      ]
     },
     "execution_count": 130,
     "metadata": {},
     "output_type": "execute_result"
    },
    {
     "data": {
      "text/plain": [
       "4730"
      ]
     },
     "execution_count": 130,
     "metadata": {},
     "output_type": "execute_result"
    },
    {
     "data": {
      "text/plain": [
       "4726"
      ]
     },
     "execution_count": 130,
     "metadata": {},
     "output_type": "execute_result"
    },
    {
     "data": {
      "text/plain": [
       "4726"
      ]
     },
     "execution_count": 130,
     "metadata": {},
     "output_type": "execute_result"
    },
    {
     "data": {
      "text/plain": [
       "4727"
      ]
     },
     "execution_count": 130,
     "metadata": {},
     "output_type": "execute_result"
    },
    {
     "data": {
      "text/plain": [
       "4704"
      ]
     },
     "execution_count": 130,
     "metadata": {},
     "output_type": "execute_result"
    },
    {
     "data": {
      "text/plain": [
       "4727"
      ]
     },
     "execution_count": 130,
     "metadata": {},
     "output_type": "execute_result"
    },
    {
     "data": {
      "text/plain": [
       "4696"
      ]
     },
     "execution_count": 130,
     "metadata": {},
     "output_type": "execute_result"
    },
    {
     "data": {
      "text/plain": [
       "4727"
      ]
     },
     "execution_count": 130,
     "metadata": {},
     "output_type": "execute_result"
    },
    {
     "data": {
      "text/plain": [
       "4694"
      ]
     },
     "execution_count": 130,
     "metadata": {},
     "output_type": "execute_result"
    },
    {
     "data": {
      "text/plain": [
       "4695"
      ]
     },
     "execution_count": 130,
     "metadata": {},
     "output_type": "execute_result"
    },
    {
     "data": {
      "text/plain": [
       "4706"
      ]
     },
     "execution_count": 130,
     "metadata": {},
     "output_type": "execute_result"
    },
    {
     "data": {
      "text/plain": [
       "4728"
      ]
     },
     "execution_count": 130,
     "metadata": {},
     "output_type": "execute_result"
    },
    {
     "data": {
      "text/plain": [
       "4719"
      ]
     },
     "execution_count": 130,
     "metadata": {},
     "output_type": "execute_result"
    },
    {
     "data": {
      "text/plain": [
       "4735"
      ]
     },
     "execution_count": 130,
     "metadata": {},
     "output_type": "execute_result"
    },
    {
     "data": {
      "text/plain": [
       "4716"
      ]
     },
     "execution_count": 130,
     "metadata": {},
     "output_type": "execute_result"
    },
    {
     "data": {
      "text/plain": [
       "4703"
      ]
     },
     "execution_count": 130,
     "metadata": {},
     "output_type": "execute_result"
    },
    {
     "data": {
      "text/plain": [
       "4713"
      ]
     },
     "execution_count": 130,
     "metadata": {},
     "output_type": "execute_result"
    },
    {
     "data": {
      "text/plain": [
       "4706"
      ]
     },
     "execution_count": 130,
     "metadata": {},
     "output_type": "execute_result"
    },
    {
     "data": {
      "text/plain": [
       "4707"
      ]
     },
     "execution_count": 130,
     "metadata": {},
     "output_type": "execute_result"
    },
    {
     "data": {
      "text/plain": [
       "4726"
      ]
     },
     "execution_count": 130,
     "metadata": {},
     "output_type": "execute_result"
    },
    {
     "data": {
      "text/plain": [
       "4703"
      ]
     },
     "execution_count": 130,
     "metadata": {},
     "output_type": "execute_result"
    },
    {
     "data": {
      "text/plain": [
       "4716"
      ]
     },
     "execution_count": 130,
     "metadata": {},
     "output_type": "execute_result"
    },
    {
     "data": {
      "text/plain": [
       "4704"
      ]
     },
     "execution_count": 130,
     "metadata": {},
     "output_type": "execute_result"
    },
    {
     "data": {
      "text/plain": [
       "4699"
      ]
     },
     "execution_count": 130,
     "metadata": {},
     "output_type": "execute_result"
    },
    {
     "data": {
      "text/plain": [
       "4695"
      ]
     },
     "execution_count": 130,
     "metadata": {},
     "output_type": "execute_result"
    },
    {
     "data": {
      "text/plain": [
       "4699"
      ]
     },
     "execution_count": 130,
     "metadata": {},
     "output_type": "execute_result"
    },
    {
     "data": {
      "text/plain": [
       "4712"
      ]
     },
     "execution_count": 130,
     "metadata": {},
     "output_type": "execute_result"
    },
    {
     "data": {
      "text/plain": [
       "4703"
      ]
     },
     "execution_count": 130,
     "metadata": {},
     "output_type": "execute_result"
    },
    {
     "data": {
      "text/plain": [
       "4716"
      ]
     },
     "execution_count": 130,
     "metadata": {},
     "output_type": "execute_result"
    },
    {
     "data": {
      "text/plain": [
       "4727"
      ]
     },
     "execution_count": 130,
     "metadata": {},
     "output_type": "execute_result"
    },
    {
     "data": {
      "text/plain": [
       "4704"
      ]
     },
     "execution_count": 130,
     "metadata": {},
     "output_type": "execute_result"
    },
    {
     "data": {
      "text/plain": [
       "4703"
      ]
     },
     "execution_count": 130,
     "metadata": {},
     "output_type": "execute_result"
    },
    {
     "data": {
      "text/plain": [
       "4691"
      ]
     },
     "execution_count": 130,
     "metadata": {},
     "output_type": "execute_result"
    },
    {
     "data": {
      "text/plain": [
       "4697"
      ]
     },
     "execution_count": 130,
     "metadata": {},
     "output_type": "execute_result"
    },
    {
     "data": {
      "text/plain": [
       "4697"
      ]
     },
     "execution_count": 130,
     "metadata": {},
     "output_type": "execute_result"
    },
    {
     "data": {
      "text/plain": [
       "4707"
      ]
     },
     "execution_count": 130,
     "metadata": {},
     "output_type": "execute_result"
    },
    {
     "data": {
      "text/plain": [
       "4713"
      ]
     },
     "execution_count": 130,
     "metadata": {},
     "output_type": "execute_result"
    },
    {
     "data": {
      "text/plain": [
       "4728"
      ]
     },
     "execution_count": 130,
     "metadata": {},
     "output_type": "execute_result"
    },
    {
     "data": {
      "text/plain": [
       "4712"
      ]
     },
     "execution_count": 130,
     "metadata": {},
     "output_type": "execute_result"
    },
    {
     "data": {
      "text/plain": [
       "4694"
      ]
     },
     "execution_count": 130,
     "metadata": {},
     "output_type": "execute_result"
    },
    {
     "data": {
      "text/plain": [
       "4719"
      ]
     },
     "execution_count": 130,
     "metadata": {},
     "output_type": "execute_result"
    },
    {
     "data": {
      "text/plain": [
       "4720"
      ]
     },
     "execution_count": 130,
     "metadata": {},
     "output_type": "execute_result"
    },
    {
     "data": {
      "text/plain": [
       "4728"
      ]
     },
     "execution_count": 130,
     "metadata": {},
     "output_type": "execute_result"
    },
    {
     "data": {
      "text/plain": [
       "4730"
      ]
     },
     "execution_count": 130,
     "metadata": {},
     "output_type": "execute_result"
    },
    {
     "data": {
      "text/plain": [
       "4724"
      ]
     },
     "execution_count": 130,
     "metadata": {},
     "output_type": "execute_result"
    },
    {
     "data": {
      "text/plain": [
       "4724"
      ]
     },
     "execution_count": 130,
     "metadata": {},
     "output_type": "execute_result"
    },
    {
     "data": {
      "text/plain": [
       "4723"
      ]
     },
     "execution_count": 130,
     "metadata": {},
     "output_type": "execute_result"
    },
    {
     "data": {
      "text/plain": [
       "4722"
      ]
     },
     "execution_count": 130,
     "metadata": {},
     "output_type": "execute_result"
    },
    {
     "data": {
      "text/plain": [
       "4729"
      ]
     },
     "execution_count": 130,
     "metadata": {},
     "output_type": "execute_result"
    },
    {
     "data": {
      "text/plain": [
       "4727"
      ]
     },
     "execution_count": 130,
     "metadata": {},
     "output_type": "execute_result"
    },
    {
     "data": {
      "text/plain": [
       "4728"
      ]
     },
     "execution_count": 130,
     "metadata": {},
     "output_type": "execute_result"
    },
    {
     "data": {
      "text/plain": [
       "4698"
      ]
     },
     "execution_count": 130,
     "metadata": {},
     "output_type": "execute_result"
    },
    {
     "data": {
      "text/plain": [
       "4727"
      ]
     },
     "execution_count": 130,
     "metadata": {},
     "output_type": "execute_result"
    },
    {
     "data": {
      "text/plain": [
       "4718"
      ]
     },
     "execution_count": 130,
     "metadata": {},
     "output_type": "execute_result"
    },
    {
     "data": {
      "text/plain": [
       "4720"
      ]
     },
     "execution_count": 130,
     "metadata": {},
     "output_type": "execute_result"
    },
    {
     "data": {
      "text/plain": [
       "4696"
      ]
     },
     "execution_count": 130,
     "metadata": {},
     "output_type": "execute_result"
    },
    {
     "data": {
      "text/plain": [
       "4702"
      ]
     },
     "execution_count": 130,
     "metadata": {},
     "output_type": "execute_result"
    },
    {
     "data": {
      "text/plain": [
       "4725"
      ]
     },
     "execution_count": 130,
     "metadata": {},
     "output_type": "execute_result"
    },
    {
     "data": {
      "text/plain": [
       "4701"
      ]
     },
     "execution_count": 130,
     "metadata": {},
     "output_type": "execute_result"
    },
    {
     "data": {
      "text/plain": [
       "4695"
      ]
     },
     "execution_count": 130,
     "metadata": {},
     "output_type": "execute_result"
    },
    {
     "data": {
      "text/plain": [
       "4700"
      ]
     },
     "execution_count": 130,
     "metadata": {},
     "output_type": "execute_result"
    },
    {
     "data": {
      "text/plain": [
       "4692"
      ]
     },
     "execution_count": 130,
     "metadata": {},
     "output_type": "execute_result"
    },
    {
     "data": {
      "text/plain": [
       "4709"
      ]
     },
     "execution_count": 130,
     "metadata": {},
     "output_type": "execute_result"
    },
    {
     "data": {
      "text/plain": [
       "4724"
      ]
     },
     "execution_count": 130,
     "metadata": {},
     "output_type": "execute_result"
    },
    {
     "data": {
      "text/plain": [
       "4698"
      ]
     },
     "execution_count": 130,
     "metadata": {},
     "output_type": "execute_result"
    },
    {
     "data": {
      "text/plain": [
       "4727"
      ]
     },
     "execution_count": 130,
     "metadata": {},
     "output_type": "execute_result"
    },
    {
     "data": {
      "text/plain": [
       "4697"
      ]
     },
     "execution_count": 130,
     "metadata": {},
     "output_type": "execute_result"
    },
    {
     "data": {
      "text/plain": [
       "4697"
      ]
     },
     "execution_count": 130,
     "metadata": {},
     "output_type": "execute_result"
    },
    {
     "data": {
      "text/plain": [
       "4723"
      ]
     },
     "execution_count": 130,
     "metadata": {},
     "output_type": "execute_result"
    },
    {
     "data": {
      "text/plain": [
       "4702"
      ]
     },
     "execution_count": 130,
     "metadata": {},
     "output_type": "execute_result"
    },
    {
     "data": {
      "text/plain": [
       "4718"
      ]
     },
     "execution_count": 130,
     "metadata": {},
     "output_type": "execute_result"
    },
    {
     "data": {
      "text/plain": [
       "4723"
      ]
     },
     "execution_count": 130,
     "metadata": {},
     "output_type": "execute_result"
    },
    {
     "data": {
      "text/plain": [
       "4732"
      ]
     },
     "execution_count": 130,
     "metadata": {},
     "output_type": "execute_result"
    },
    {
     "data": {
      "text/plain": [
       "4726"
      ]
     },
     "execution_count": 130,
     "metadata": {},
     "output_type": "execute_result"
    },
    {
     "data": {
      "text/plain": [
       "4734"
      ]
     },
     "execution_count": 130,
     "metadata": {},
     "output_type": "execute_result"
    },
    {
     "data": {
      "text/plain": [
       "4726"
      ]
     },
     "execution_count": 130,
     "metadata": {},
     "output_type": "execute_result"
    },
    {
     "data": {
      "text/plain": [
       "4705"
      ]
     },
     "execution_count": 130,
     "metadata": {},
     "output_type": "execute_result"
    },
    {
     "data": {
      "text/plain": [
       "4725"
      ]
     },
     "execution_count": 130,
     "metadata": {},
     "output_type": "execute_result"
    },
    {
     "data": {
      "text/plain": [
       "4700"
      ]
     },
     "execution_count": 130,
     "metadata": {},
     "output_type": "execute_result"
    },
    {
     "data": {
      "text/plain": [
       "4706"
      ]
     },
     "execution_count": 130,
     "metadata": {},
     "output_type": "execute_result"
    },
    {
     "data": {
      "text/plain": [
       "4727"
      ]
     },
     "execution_count": 130,
     "metadata": {},
     "output_type": "execute_result"
    },
    {
     "data": {
      "text/plain": [
       "4724"
      ]
     },
     "execution_count": 130,
     "metadata": {},
     "output_type": "execute_result"
    },
    {
     "data": {
      "text/plain": [
       "4702"
      ]
     },
     "execution_count": 130,
     "metadata": {},
     "output_type": "execute_result"
    },
    {
     "data": {
      "text/plain": [
       "4709"
      ]
     },
     "execution_count": 130,
     "metadata": {},
     "output_type": "execute_result"
    },
    {
     "data": {
      "text/plain": [
       "4716"
      ]
     },
     "execution_count": 130,
     "metadata": {},
     "output_type": "execute_result"
    },
    {
     "data": {
      "text/plain": [
       "4725"
      ]
     },
     "execution_count": 130,
     "metadata": {},
     "output_type": "execute_result"
    },
    {
     "data": {
      "text/plain": [
       "4730"
      ]
     },
     "execution_count": 130,
     "metadata": {},
     "output_type": "execute_result"
    },
    {
     "data": {
      "text/plain": [
       "4705"
      ]
     },
     "execution_count": 130,
     "metadata": {},
     "output_type": "execute_result"
    },
    {
     "data": {
      "text/plain": [
       "4723"
      ]
     },
     "execution_count": 130,
     "metadata": {},
     "output_type": "execute_result"
    },
    {
     "data": {
      "text/plain": [
       "4702"
      ]
     },
     "execution_count": 130,
     "metadata": {},
     "output_type": "execute_result"
    },
    {
     "data": {
      "text/plain": [
       "4732"
      ]
     },
     "execution_count": 130,
     "metadata": {},
     "output_type": "execute_result"
    },
    {
     "data": {
      "text/plain": [
       "4722"
      ]
     },
     "execution_count": 130,
     "metadata": {},
     "output_type": "execute_result"
    },
    {
     "data": {
      "text/plain": [
       "4700"
      ]
     },
     "execution_count": 130,
     "metadata": {},
     "output_type": "execute_result"
    },
    {
     "data": {
      "text/plain": [
       "4731"
      ]
     },
     "execution_count": 130,
     "metadata": {},
     "output_type": "execute_result"
    },
    {
     "data": {
      "text/plain": [
       "4698"
      ]
     },
     "execution_count": 130,
     "metadata": {},
     "output_type": "execute_result"
    },
    {
     "data": {
      "text/plain": [
       "4719"
      ]
     },
     "execution_count": 130,
     "metadata": {},
     "output_type": "execute_result"
    },
    {
     "data": {
      "text/plain": [
       "4726"
      ]
     },
     "execution_count": 130,
     "metadata": {},
     "output_type": "execute_result"
    },
    {
     "data": {
      "text/plain": [
       "4707"
      ]
     },
     "execution_count": 130,
     "metadata": {},
     "output_type": "execute_result"
    },
    {
     "data": {
      "text/plain": [
       "4727"
      ]
     },
     "execution_count": 130,
     "metadata": {},
     "output_type": "execute_result"
    },
    {
     "data": {
      "text/plain": [
       "4723"
      ]
     },
     "execution_count": 130,
     "metadata": {},
     "output_type": "execute_result"
    },
    {
     "data": {
      "text/plain": [
       "4704"
      ]
     },
     "execution_count": 130,
     "metadata": {},
     "output_type": "execute_result"
    },
    {
     "data": {
      "text/plain": [
       "4710"
      ]
     },
     "execution_count": 130,
     "metadata": {},
     "output_type": "execute_result"
    },
    {
     "data": {
      "text/plain": [
       "4702"
      ]
     },
     "execution_count": 130,
     "metadata": {},
     "output_type": "execute_result"
    },
    {
     "data": {
      "text/plain": [
       "4722"
      ]
     },
     "execution_count": 130,
     "metadata": {},
     "output_type": "execute_result"
    },
    {
     "data": {
      "text/plain": [
       "4702"
      ]
     },
     "execution_count": 130,
     "metadata": {},
     "output_type": "execute_result"
    },
    {
     "data": {
      "text/plain": [
       "4725"
      ]
     },
     "execution_count": 130,
     "metadata": {},
     "output_type": "execute_result"
    },
    {
     "data": {
      "text/plain": [
       "4694"
      ]
     },
     "execution_count": 130,
     "metadata": {},
     "output_type": "execute_result"
    },
    {
     "data": {
      "text/plain": [
       "4709"
      ]
     },
     "execution_count": 130,
     "metadata": {},
     "output_type": "execute_result"
    },
    {
     "data": {
      "text/plain": [
       "4725"
      ]
     },
     "execution_count": 130,
     "metadata": {},
     "output_type": "execute_result"
    },
    {
     "data": {
      "text/plain": [
       "4725"
      ]
     },
     "execution_count": 130,
     "metadata": {},
     "output_type": "execute_result"
    },
    {
     "data": {
      "text/plain": [
       "4708"
      ]
     },
     "execution_count": 130,
     "metadata": {},
     "output_type": "execute_result"
    },
    {
     "data": {
      "text/plain": [
       "4732"
      ]
     },
     "execution_count": 130,
     "metadata": {},
     "output_type": "execute_result"
    },
    {
     "data": {
      "text/plain": [
       "4730"
      ]
     },
     "execution_count": 130,
     "metadata": {},
     "output_type": "execute_result"
    },
    {
     "data": {
      "text/plain": [
       "4710"
      ]
     },
     "execution_count": 130,
     "metadata": {},
     "output_type": "execute_result"
    },
    {
     "data": {
      "text/plain": [
       "4725"
      ]
     },
     "execution_count": 130,
     "metadata": {},
     "output_type": "execute_result"
    },
    {
     "data": {
      "text/plain": [
       "4711"
      ]
     },
     "execution_count": 130,
     "metadata": {},
     "output_type": "execute_result"
    },
    {
     "data": {
      "text/plain": [
       "4691"
      ]
     },
     "execution_count": 130,
     "metadata": {},
     "output_type": "execute_result"
    },
    {
     "data": {
      "text/plain": [
       "4710"
      ]
     },
     "execution_count": 130,
     "metadata": {},
     "output_type": "execute_result"
    },
    {
     "data": {
      "text/plain": [
       "4703"
      ]
     },
     "execution_count": 130,
     "metadata": {},
     "output_type": "execute_result"
    },
    {
     "data": {
      "text/plain": [
       "4705"
      ]
     },
     "execution_count": 130,
     "metadata": {},
     "output_type": "execute_result"
    },
    {
     "data": {
      "text/plain": [
       "4712"
      ]
     },
     "execution_count": 130,
     "metadata": {},
     "output_type": "execute_result"
    },
    {
     "data": {
      "text/plain": [
       "4728"
      ]
     },
     "execution_count": 130,
     "metadata": {},
     "output_type": "execute_result"
    },
    {
     "data": {
      "text/plain": [
       "4723"
      ]
     },
     "execution_count": 130,
     "metadata": {},
     "output_type": "execute_result"
    },
    {
     "data": {
      "text/plain": [
       "4727"
      ]
     },
     "execution_count": 130,
     "metadata": {},
     "output_type": "execute_result"
    },
    {
     "data": {
      "text/plain": [
       "4723"
      ]
     },
     "execution_count": 130,
     "metadata": {},
     "output_type": "execute_result"
    },
    {
     "data": {
      "text/plain": [
       "4710"
      ]
     },
     "execution_count": 130,
     "metadata": {},
     "output_type": "execute_result"
    },
    {
     "data": {
      "text/plain": [
       "4703"
      ]
     },
     "execution_count": 130,
     "metadata": {},
     "output_type": "execute_result"
    },
    {
     "data": {
      "text/plain": [
       "4702"
      ]
     },
     "execution_count": 130,
     "metadata": {},
     "output_type": "execute_result"
    },
    {
     "data": {
      "text/plain": [
       "4723"
      ]
     },
     "execution_count": 130,
     "metadata": {},
     "output_type": "execute_result"
    },
    {
     "data": {
      "text/plain": [
       "4725"
      ]
     },
     "execution_count": 130,
     "metadata": {},
     "output_type": "execute_result"
    },
    {
     "data": {
      "text/plain": [
       "4711"
      ]
     },
     "execution_count": 130,
     "metadata": {},
     "output_type": "execute_result"
    },
    {
     "data": {
      "text/plain": [
       "4718"
      ]
     },
     "execution_count": 130,
     "metadata": {},
     "output_type": "execute_result"
    },
    {
     "data": {
      "text/plain": [
       "4716"
      ]
     },
     "execution_count": 130,
     "metadata": {},
     "output_type": "execute_result"
    },
    {
     "data": {
      "text/plain": [
       "4705"
      ]
     },
     "execution_count": 130,
     "metadata": {},
     "output_type": "execute_result"
    },
    {
     "data": {
      "text/plain": [
       "4711"
      ]
     },
     "execution_count": 130,
     "metadata": {},
     "output_type": "execute_result"
    },
    {
     "data": {
      "text/plain": [
       "4716"
      ]
     },
     "execution_count": 130,
     "metadata": {},
     "output_type": "execute_result"
    },
    {
     "ename": "OSError",
     "evalue": "[Errno 22] Invalid argument: '../building_cards/?.html'",
     "output_type": "error",
     "traceback": [
      "\u001b[1;31m---------------------------------------------------------------------------\u001b[0m",
      "\u001b[1;31mOSError\u001b[0m                                   Traceback (most recent call last)",
      "\u001b[1;32m<ipython-input-130-fd4345968eb2>\u001b[0m in \u001b[0;36m<module>\u001b[1;34m\u001b[0m\n\u001b[0;32m    143\u001b[0m     \u001b[1;31m# open the file in w mode\u001b[0m\u001b[1;33m\u001b[0m\u001b[1;33m\u001b[0m\u001b[1;33m\u001b[0m\u001b[0m\n\u001b[0;32m    144\u001b[0m     \u001b[1;31m# set encoding to UTF-8\u001b[0m\u001b[1;33m\u001b[0m\u001b[1;33m\u001b[0m\u001b[1;33m\u001b[0m\u001b[0m\n\u001b[1;32m--> 145\u001b[1;33m     \u001b[1;32mwith\u001b[0m \u001b[0mopen\u001b[0m\u001b[1;33m(\u001b[0m\u001b[1;34mf'../building_cards/{bld_id}.html'\u001b[0m\u001b[1;33m,\u001b[0m \u001b[1;34m\"w\"\u001b[0m\u001b[1;33m,\u001b[0m \u001b[0mencoding\u001b[0m \u001b[1;33m=\u001b[0m \u001b[1;34m'utf-8'\u001b[0m\u001b[1;33m)\u001b[0m \u001b[1;32mas\u001b[0m \u001b[0mfile\u001b[0m\u001b[1;33m:\u001b[0m\u001b[1;33m\u001b[0m\u001b[1;33m\u001b[0m\u001b[0m\n\u001b[0m\u001b[0;32m    146\u001b[0m         \u001b[0mfile\u001b[0m\u001b[1;33m.\u001b[0m\u001b[0mwrite\u001b[0m\u001b[1;33m(\u001b[0m\u001b[0mpage_str\u001b[0m\u001b[1;33m)\u001b[0m \u001b[1;31m# NOTICE change to actual string\u001b[0m\u001b[1;33m\u001b[0m\u001b[1;33m\u001b[0m\u001b[0m\n",
      "\u001b[1;31mOSError\u001b[0m: [Errno 22] Invalid argument: '../building_cards/?.html'"
     ]
    }
   ],
   "source": [
    "#for each building id in id_lst\n",
    "for bld_index, bld_id in enumerate(id_lst):\n",
    "    # create matching string for html page\n",
    "    bld_address = address_lst[bld_index]\n",
    "    bld_parcel = parcel_lst[bld_index]\n",
    "    bld_section = section_lst[bld_index]\n",
    "    bld_complex = complex_lst[bld_index]\n",
    "    bld_status = status_lst[bld_index]\n",
    "    bld_city_plan = bld_city_plan_lst[bld_index]\n",
    "    bld_lat = lat_lst[bld_index]\n",
    "    bld_lon = lon_lst[bld_index]\n",
    "\n",
    "    \n",
    "\n",
    "    html_head =     f\"\"\" <!DOCTYPE html>\n",
    "    <html lang=\"en\">\n",
    "\n",
    "    <head>\n",
    "    <meta charset=\"UTF-8\">\n",
    "    <meta http-equiv=\"X-UA-Compatible\" content=\"IE=edge\">\n",
    "    <meta name=\"viewport\" content=\"width=device-width, initial-scale=1.0\">\n",
    "    <link href=\"../css/building_card.css\" rel=\"stylesheet\">\n",
    "    <link href=\"https://fonts.googleapis.com/css?family=Material+Icons|Material+Icons+Outlined|Material+Icons+Two+Tone|Material+Icons+Round|Material+Icons+Sharp\" rel=\"stylesheet\">\n",
    "    <!--To load jquery -->\n",
    "    <script src=\"https://cdnjs.cloudflare.com/ajax/libs/jquery/3.2.1/jquery.min.js \"></script>\n",
    "    <!--To dataTables -->\n",
    "    <link rel=\"stylesheet\" type=\"text/css\" href=\"https://cdn.datatables.net/1.10.24/css/jquery.dataTables.css\">\n",
    "    <script type=\"text/javascript\" charset=\"utf8\" src=\"https://cdn.datatables.net/1.10.24/js/jquery.dataTables.js\"></script>\n",
    "    <!--To pass variables -->\n",
    "    <script type=\"text/javascript\" src=\"../js/app.js\"></script>\n",
    "    <!--To load chartjs -->\n",
    "    <script type=\"text/javascript\" src=\"https://cdnjs.cloudflare.com/ajax/libs/Chart.js/3.3.0/chart.min.js\"></script>\n",
    "    <title>Card ID: {bld_id}</title> \n",
    "    </head>\n",
    "    \"\"\"\n",
    "    \n",
    "    html_body = f\"\"\"\n",
    "<body>\n",
    "    <div class='summary-page'>\n",
    "        <span class=\"material-icons-outlined\" id=\"topRightFixed\">\n",
    "            close\n",
    "            </span>\n",
    "        <div class=\"summary\">\n",
    "            <h2>{bld_address}</h2>\n",
    "            <p>parcel : {bld_parcel}</p>\n",
    "            <p>section: {bld_section}</p>\n",
    "            <p>complex: {bld_complex}</p>\n",
    "            <p>status: {bld_status} b</p>\n",
    "            <p>City Building Plan: {bld_city_plan}</p>\n",
    "            <p id=\"building_id\">ID: {bld_id}</p>\n",
    "        </div>\n",
    "        <div class=\"carousel-container\">\n",
    "            <img alt=\"test\" photo_num='1' class=\"center carousel\" src=\"../photos/אאורבך-4(2)_12146.jpg\">\n",
    "            <img alt=\"test\" photo_num='2' class=\"center carousel\" src=\"../photos/אאורבך-4_12146.jpg\">\n",
    "        </div>\n",
    "\n",
    "        <div class=\"carousel-button\">\n",
    "            <span class=\"material-icons-outlined\" button_num='1'>\n",
    "                    radio_button_checked\n",
    "                    </span>\n",
    "            <span class=\"material-icons-outlined\" button_num='2'>\n",
    "                        radio_button_unchecked\n",
    "                        </span>\n",
    "\n",
    "\n",
    "        </div>\n",
    "        <span class=\"material-icons-outlined info-button info-summary\" id=\"buttonLeftFixed\">info</span>\n",
    "        <span class=\"material-icons-outlined\" id=\"navigate_before\">\n",
    "        navigate_before\n",
    "        </span>\n",
    "        <span class=\"material-icons-outlined navigate_next\" id=\"buttonRightFixed\">\n",
    "        navigate_next\n",
    "        </span>\n",
    "    </div>\n",
    "\n",
    "    <div class='detailed-page'>\n",
    "        <!-- Entire page-->\n",
    "        <div class=\"top_container\">\n",
    "            <!-- simplex / powerBI - simplex height=\"550px\" width=\"100%\" -->\n",
    "\n",
    "            <div class='simplex_box'>\n",
    "                <iframe id=\"simplexinlineFrame\" height=\"95%\" width=\"90%\" title=\"Meimad Iframe\" \n",
    "                src='https://simplex-smart3d.com/ces/TLV/app-ANPLUS/?pos=34.756111,32.055,1100&ori=0,-90,0#lookAt={{%22lat%22:{bld_lat},%22lon%22:{bld_lon},%20%22elev%22:0.1,%22heading%22:180,%22pitch%22:45,%22dist%22:100,%22duration%22:3,%22fly%22:true,%22showPin%22:%20false,%22circle%22:true,%22rpm%22:1}}&layout=clean'> </iframe>\n",
    "            </div>\n",
    "            <div class=' graph_box '>\n",
    "                <!-- Graph -->\n",
    "                <canvas id=\"radar_chart\"></canvas>\n",
    "                <!--  <canvas id=\"multi_series_pie_chart\"></canvas> -->\n",
    "            </div>\n",
    "        </div>\n",
    "        <!-- close: class=\"top_container\"-->\n",
    "\n",
    "        <div class=\"bottom_container\">\n",
    "            <!-- table -->\n",
    "            <div class='table_box '>\n",
    "\n",
    "\n",
    "                <table id=\"table_id\" class=\"display\">\n",
    "                    <thead>\n",
    "                        <tr>\n",
    "                            <th>id</th>\n",
    "                            <th>primary</th>\n",
    "                            <th>secondary</th>\n",
    "                            <th>n_bicycle_parking.</th>\n",
    "                            <th>placeholder.</th>\n",
    "                            <th>placeholder.</th>\n",
    "                            <th>placeholder.</th>\n",
    "                            <th>placeholder.</th>\n",
    "                            <th>placeholder.</th>\n",
    "                            <th>placeholder.</th>\n",
    "\n",
    "\n",
    "                        </tr>\n",
    "                    </thead>\n",
    "                </table>\n",
    "                <!-- table -->\n",
    "            </div>\n",
    "            <!-- close: class=\"bottom_container\"-->\n",
    "\n",
    "        </div>\n",
    "        <!-- close entire page div -->\n",
    "        <span class=\"material-icons-outlined info-button info-detailed\" id=\"buttonLeftFixed\">info</span>\n",
    "\n",
    "    </div>\n",
    "    <!-- close: class='detailed-page '-->\n",
    "</body>\n",
    "\"\"\"\n",
    "    html_footer = \"\"\"\n",
    "<footer>\n",
    "\n",
    "    <!--To load javascript page -->\n",
    "    <script src=\"../js/building_card.js\"></script>\n",
    "\n",
    "\n",
    "</footer>\n",
    "\n",
    "</html>\n",
    "\"\"\"\n",
    "    \n",
    "    \n",
    "    page_str = html_head + html_body + html_footer\n",
    "    # parse as html file in folder\n",
    "    # open the file in w mode\n",
    "    # set encoding to UTF-8\n",
    "    with open(f'../building_cards/{bld_id}.html', \"w\", encoding = 'utf-8') as file:\n",
    "        file.write(page_str) # NOTICE change to actual string"
   ]
  },
  {
   "cell_type": "raw",
   "id": "solid-design",
   "metadata": {},
   "source": [
    "<!DOCTYPE html>\n",
    "<html lang=\"en\">\n",
    "\n",
    "<head>\n",
    "    <meta charset=\"UTF-8\">\n",
    "    <meta http-equiv=\"X-UA-Compatible\" content=\"IE=edge\">\n",
    "    <meta name=\"viewport\" content=\"width=device-width, initial-scale=1.0\">\n",
    "    <link href=\"../css/building_card.css\" rel=\"stylesheet\">\n",
    "    <link href=\"https://fonts.googleapis.com/css?family=Material+Icons|Material+Icons+Outlined|Material+Icons+Two+Tone|Material+Icons+Round|Material+Icons+Sharp\" rel=\"stylesheet\">\n",
    "    <!--To load jquery -->\n",
    "    <script src=\"https://cdnjs.cloudflare.com/ajax/libs/jquery/3.2.1/jquery.min.js \"></script>\n",
    "    <!--To dataTables -->\n",
    "    <link rel=\"stylesheet\" type=\"text/css\" href=\"https://cdn.datatables.net/1.10.24/css/jquery.dataTables.css\">\n",
    "    <script type=\"text/javascript\" charset=\"utf8\" src=\"https://cdn.datatables.net/1.10.24/js/jquery.dataTables.js\"></script>\n",
    "    <!--To pass variables -->\n",
    "    <script type=\"text/javascript\" src=\"../js/app.js\"></script>\n",
    "    <!--To load chartjs -->\n",
    "    <script type=\"text/javascript\" src=\"https://cdnjs.cloudflare.com/ajax/libs/Chart.js/3.3.0/chart.min.js\"></script>\n",
    "\n",
    "\n",
    "\n",
    "    <title>Document</title>\n",
    "</head>\n",
    "\n",
    "<body>\n",
    "    <div class='summary-page'>\n",
    "        <span class=\"material-icons-outlined\" id=\"topRightFixed\">\n",
    "            close\n",
    "            </span>\n",
    "        <div class=\"summary\">\n",
    "            <h2>Auerbach 4 </h2>\n",
    "            <p>parcel : 701</p>\n",
    "            <p>section: 3</p>\n",
    "            <p>complex: north jaffa</p>\n",
    "            <p>status: conservation b</p>\n",
    "            <p>City Building Plan: 2572</p>\n",
    "            <p id=\"building_id\">ID: 12146</p>\n",
    "        </div>\n",
    "        <div class=\"carousel-container\">\n",
    "            <img alt=\"test\" photo_num='1' class=\"center carousel\" src=\"../photos/אאורבך-4(2)_12146.jpg\">\n",
    "            <img alt=\"test\" photo_num='2' class=\"center carousel\" src=\"../photos/אאורבך-4_12146.jpg\">\n",
    "        </div>\n",
    "\n",
    "        <div class=\"carousel-button\">\n",
    "            <span class=\"material-icons-outlined\" button_num='1'>\n",
    "                    radio_button_checked\n",
    "                    </span>\n",
    "            <span class=\"material-icons-outlined\" button_num='2'>\n",
    "                        radio_button_unchecked\n",
    "                        </span>\n",
    "\n",
    "\n",
    "        </div>\n",
    "        <span class=\"material-icons-outlined info-button info-summary\" id=\"buttonLeftFixed\">info</span>\n",
    "        <span class=\"material-icons-outlined\" id=\"navigate_before\">\n",
    "        navigate_before\n",
    "        </span>\n",
    "        <span class=\"material-icons-outlined navigate_next\" id=\"buttonRightFixed\">\n",
    "        navigate_next\n",
    "        </span>\n",
    "    </div>\n",
    "\n",
    "    <div class='detailed-page'>\n",
    "        <!-- Entire page-->\n",
    "        <div class=\"top_container\">\n",
    "            <!-- simplex / powerBI - simplex height=\"550px\" width=\"100%\"            -->\n",
    "\n",
    "            <div class='simplex_box'>\n",
    "                <iframe id=\"simplexinlineFrame\" height=\"95%\" width=\"90%\" title=\"Meimad Iframe\" src='https://simplex-smart3d.com/ces/TLV/app-ANPLUS/?pos=34.756111,32.055,1100&ori=0,-90,0#lookAt={%22lat%22:32.0438991,%22lon%22:34.7639062,%20%22elev%22:0.1,%22heading%22:180,%22pitch%22:45,%22dist%22:100,%22duration%22:3,%22fly%22:true,%22showPin%22:%20false,%22circle%22:true,%22rpm%22:1}&layout=clean'> </iframe>\n",
    "            </div>\n",
    "            <div class=' graph_box '>\n",
    "                <!-- Graph -->\n",
    "                <canvas id=\"radar_chart\"></canvas>\n",
    "                <!--  <canvas id=\"multi_series_pie_chart\"></canvas> -->\n",
    "            </div>\n",
    "        </div>\n",
    "        <!-- close: class=\"top_container\"-->\n",
    "\n",
    "        <div class=\"bottom_container\">\n",
    "            <!-- table -->\n",
    "            <div class='table_box '>\n",
    "\n",
    "\n",
    "                <table id=\"table_id\" class=\"display\">\n",
    "                    <thead>\n",
    "                        <tr>\n",
    "                            <th>id</th>\n",
    "                            <th>primary</th>\n",
    "                            <th>secondary</th>\n",
    "                            <th>n_bicycle_parking.</th>\n",
    "                            <th>placeholder.</th>\n",
    "                            <th>placeholder.</th>\n",
    "                            <th>placeholder.</th>\n",
    "                            <th>placeholder.</th>\n",
    "                            <th>placeholder.</th>\n",
    "                            <th>placeholder.</th>\n",
    "\n",
    "\n",
    "                        </tr>\n",
    "                    </thead>\n",
    "                </table>\n",
    "                <!-- table -->\n",
    "            </div>\n",
    "            <!-- close: class=\"bottom_container\"-->\n",
    "\n",
    "        </div>\n",
    "        <!-- close entire page div -->\n",
    "        <span class=\"material-icons-outlined info-button info-detailed\" id=\"buttonLeftFixed\">info</span>\n",
    "\n",
    "    </div>\n",
    "    <!-- close: class='detailed-page '-->\n",
    "</body>\n",
    "\n",
    "<footer>\n",
    "\n",
    "    <!--To load javascript page -->\n",
    "    <script src=\"../js/building_card.js\"></script>\n",
    "\n",
    "\n",
    "</footer>\n",
    "\n",
    "</html>"
   ]
  },
  {
   "cell_type": "code",
   "execution_count": null,
   "id": "gorgeous-birmingham",
   "metadata": {},
   "outputs": [],
   "source": [
    "<!DOCTYPE html>\n",
    "<html lang=\"en\">\n",
    "\n",
    "<head>\n",
    "    <meta charset=\"UTF-8\">\n",
    "    <meta http-equiv=\"X-UA-Compatible\" content=\"IE=edge\">\n",
    "    <meta name=\"viewport\" content=\"width=device-width, initial-scale=1.0\">\n",
    "    <link href=\"../css/building_card.css\" rel=\"stylesheet\">\n",
    "    <link href=\"https://fonts.googleapis.com/css?family=Material+Icons|Material+Icons+Outlined|Material+Icons+Two+Tone|Material+Icons+Round|Material+Icons+Sharp\" rel=\"stylesheet\">\n",
    "    <!--To load jquery -->\n",
    "    <script src=\"https://cdnjs.cloudflare.com/ajax/libs/jquery/3.2.1/jquery.min.js \"></script>\n",
    "    <!--To dataTables -->\n",
    "    <link rel=\"stylesheet\" type=\"text/css\" href=\"https://cdn.datatables.net/1.10.24/css/jquery.dataTables.css\">\n",
    "    <script type=\"text/javascript\" charset=\"utf8\" src=\"https://cdn.datatables.net/1.10.24/js/jquery.dataTables.js\"></script>\n",
    "    <!--To pass variables -->\n",
    "    <script type=\"text/javascript\" src=\"../js/app.js\"></script>\n",
    "    <!--To load chartjs -->\n",
    "    <script type=\"text/javascript\" src=\"https://cdnjs.cloudflare.com/ajax/libs/Chart.js/3.3.0/chart.min.js\"></script>\n",
    "\n",
    "\n",
    "\n",
    "    <title>Document</title>\n",
    "</head>"
   ]
  },
  {
   "cell_type": "markdown",
   "id": "accompanied-evolution",
   "metadata": {},
   "source": [
    "## Generate an executable (.exe) file from the jupyter-notebook"
   ]
  }
 ],
 "metadata": {
  "kernelspec": {
   "display_name": "Python 3",
   "language": "python",
   "name": "python3"
  },
  "language_info": {
   "codemirror_mode": {
    "name": "ipython",
    "version": 3
   },
   "file_extension": ".py",
   "mimetype": "text/x-python",
   "name": "python",
   "nbconvert_exporter": "python",
   "pygments_lexer": "ipython3",
   "version": "3.8.5"
  }
 },
 "nbformat": 4,
 "nbformat_minor": 5
}
